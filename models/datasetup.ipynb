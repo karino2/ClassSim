{
 "cells": [
  {
   "cell_type": "markdown",
   "metadata": {},
   "source": [
    "# Data setup for training"
   ]
  },
  {
   "cell_type": "code",
   "execution_count": null,
   "metadata": {
    "collapsed": true
   },
   "outputs": [],
   "source": [
    "import os"
   ]
  },
  {
   "cell_type": "code",
   "execution_count": null,
   "metadata": {
    "collapsed": true
   },
   "outputs": [],
   "source": [
    "DATA_DIR = \"\""
   ]
  },
  {
   "cell_type": "markdown",
   "metadata": {},
   "source": [
    "### original 178 category data"
   ]
  },
  {
   "cell_type": "code",
   "execution_count": null,
   "metadata": {
    "collapsed": true
   },
   "outputs": [],
   "source": [
    "BUCKET_NAME = \"\"\n",
    "BASE_DATA_DIR= os.path.normpath(os.path.join(DATA_DIR, ''))"
   ]
  },
  {
   "cell_type": "markdown",
   "metadata": {},
   "source": [
    "### collect more data version"
   ]
  },
  {
   "cell_type": "code",
   "execution_count": null,
   "metadata": {
    "collapsed": true
   },
   "outputs": [],
   "source": [
    "BUCKET_NAME = \"\"\n",
    "BASE_DATA_DIR= os.path.normpath(os.path.join(DATA_DIR, ''))"
   ]
  },
  {
   "cell_type": "markdown",
   "metadata": {},
   "source": [
    "### collect 3000 data version"
   ]
  },
  {
   "cell_type": "code",
   "execution_count": null,
   "metadata": {
    "collapsed": true
   },
   "outputs": [],
   "source": [
    "BUCKET_NAME = \"\"\n",
    "BASE_DATA_DIR= os.path.normpath(os.path.join(DATA_DIR, ''))"
   ]
  },
  {
   "cell_type": "code",
   "execution_count": null,
   "metadata": {
    "collapsed": true
   },
   "outputs": [],
   "source": []
  },
  {
   "cell_type": "code",
   "execution_count": null,
   "metadata": {
    "collapsed": true
   },
   "outputs": [],
   "source": [
    "%%time\n",
    "%%capture\n",
    "\n",
    "if not os.path.isdir(BASE_DATA_DIR):\n",
    "    os.makedirs(BASE_DATA_DIR) \n",
    "\n",
    "    REGION_NAME = \"ap-northeast-1\"\n",
    "    DEFAULT_OUTPUT = \"text\"\n",
    "\n",
    "    DIST_DATA_DIR = os.path.normpath(BASE_DATA_DIR)\n",
    "    \n",
    "    os.environ['AWS_DEFAULT_REGION'] = REGION_NAME\n",
    "    os.environ['AWS_DEFAULT_OUTPUT'] = DEFAULT_OUTPUT\n",
    "\n",
    "    print(\"sync\")\n",
    "    !aws s3 sync {BUCKET_NAME} {DIST_DATA_DIR}\n",
    "    print(\"sync done\")"
   ]
  },
  {
   "cell_type": "code",
   "execution_count": null,
   "metadata": {
    "collapsed": true
   },
   "outputs": [],
   "source": []
  },
  {
   "cell_type": "markdown",
   "metadata": {},
   "source": [
    "### Update some category\n",
    "\n"
   ]
  },
  {
   "cell_type": "code",
   "execution_count": null,
   "metadata": {
    "collapsed": true
   },
   "outputs": [],
   "source": []
  },
  {
   "cell_type": "code",
   "execution_count": null,
   "metadata": {
    "collapsed": true
   },
   "outputs": [],
   "source": [
    "TRAIN_DATA_DIR = os.path.normpath(os.path.join(BASE_DATA_DIR, \"train\"))\n",
    "VALID_DATA_DIR = os.path.normpath(os.path.join(BASE_DATA_DIR, \"valid\"))"
   ]
  },
  {
   "cell_type": "code",
   "execution_count": null,
   "metadata": {
    "collapsed": true
   },
   "outputs": [],
   "source": []
  },
  {
   "cell_type": "code",
   "execution_count": null,
   "metadata": {
    "collapsed": true
   },
   "outputs": [],
   "source": [
    "s3base = BUCKET_NAME"
   ]
  },
  {
   "cell_type": "code",
   "execution_count": null,
   "metadata": {
    "collapsed": true
   },
   "outputs": [],
   "source": []
  },
  {
   "cell_type": "code",
   "execution_count": null,
   "metadata": {
    "collapsed": true
   },
   "outputs": [],
   "source": [
    "def update_category(updatekey):\n",
    "    update_train = os.path.join(TRAIN_DATA_DIR, updatekey)\n",
    "    update_valid = os.path.join(VALID_DATA_DIR, updatekey)\n",
    "    s3valid = os.path.join(os.path.join(s3base, \"valid\"), updatekey)\n",
    "    s3train = os.path.join(os.path.join(s3base, \"train\"), updatekey)\n",
    "    ! rm -r {update_train}\n",
    "    ! rm -r {update_valid}\n",
    "    ! aws s3 cp {s3train} {update_train} --recursive\n",
    "    ! aws s3 cp {s3valid} {update_valid} --recursive"
   ]
  },
  {
   "cell_type": "code",
   "execution_count": null,
   "metadata": {
    "collapsed": true
   },
   "outputs": [],
   "source": [
    "update_category('33')\n",
    "update_category('129')"
   ]
  },
  {
   "cell_type": "code",
   "execution_count": null,
   "metadata": {
    "collapsed": true
   },
   "outputs": [],
   "source": []
  },
  {
   "cell_type": "code",
   "execution_count": null,
   "metadata": {
    "collapsed": true
   },
   "outputs": [],
   "source": []
  },
  {
   "cell_type": "markdown",
   "metadata": {},
   "source": [
    "### corrupted data cleanup"
   ]
  },
  {
   "cell_type": "code",
   "execution_count": null,
   "metadata": {
    "collapsed": true
   },
   "outputs": [],
   "source": []
  },
  {
   "cell_type": "code",
   "execution_count": null,
   "metadata": {
    "collapsed": true
   },
   "outputs": [],
   "source": [
    "from PIL import Image\n",
    "import glob\n",
    "import shutil\n",
    "BROKEN = 'corrupted'"
   ]
  },
  {
   "cell_type": "code",
   "execution_count": null,
   "metadata": {
    "collapsed": true
   },
   "outputs": [],
   "source": [
    "def move_to_broken(f):\n",
    "    moveddir = os.path.dirname(os.path.join(BROKEN, f))\n",
    "    os.path.isdir(moveddir) or os.makedirs(moveddir)\n",
    "    shutil.copy(f, moveddir)\n",
    "    os.remove(f)\n",
    "    print(\"{} is broken, move it.\".format(f))"
   ]
  },
  {
   "cell_type": "code",
   "execution_count": null,
   "metadata": {
    "collapsed": true
   },
   "outputs": [],
   "source": [
    "# TARGET = 'data'\n",
    "TARGET = BASE_DATA_DIR\n",
    "\n",
    "\n",
    "os.makedirs(BROKEN, exist_ok=True)\n",
    "\n",
    "for f in glob.iglob(\"{}/**/*.jpg\".format(TARGET), recursive=True):\n",
    "    try:\n",
    "        with Image.open(f) as dummy:\n",
    "            continue\n",
    "    except:\n",
    "        move_to_broken(f)\n"
   ]
  },
  {
   "cell_type": "code",
   "execution_count": null,
   "metadata": {
    "collapsed": true
   },
   "outputs": [],
   "source": []
  },
  {
   "cell_type": "code",
   "execution_count": null,
   "metadata": {
    "collapsed": true
   },
   "outputs": [],
   "source": []
  },
  {
   "cell_type": "markdown",
   "metadata": {},
   "source": [
    "## manual remove"
   ]
  },
  {
   "cell_type": "code",
   "execution_count": null,
   "metadata": {
    "collapsed": true
   },
   "outputs": [],
   "source": [
    "# imread success, but result is not array with shape. I don't know the reason.\n",
    "f = ''"
   ]
  },
  {
   "cell_type": "code",
   "execution_count": null,
   "metadata": {
    "collapsed": true
   },
   "outputs": [],
   "source": [
    "move_to_broken(f)"
   ]
  },
  {
   "cell_type": "code",
   "execution_count": null,
   "metadata": {
    "collapsed": true
   },
   "outputs": [],
   "source": []
  },
  {
   "cell_type": "code",
   "execution_count": null,
   "metadata": {
    "collapsed": true
   },
   "outputs": [],
   "source": []
  },
  {
   "cell_type": "markdown",
   "metadata": {},
   "source": [
    "# Prerequisite\n",
    "\n",
    "- put .pgpass inside container\n",
    "- put awskeys.txt file in current folder "
   ]
  },
  {
   "cell_type": "code",
   "execution_count": null,
   "metadata": {
    "collapsed": true
   },
   "outputs": [],
   "source": [
    "import os\n",
    "import json"
   ]
  },
  {
   "cell_type": "code",
   "execution_count": null,
   "metadata": {
    "collapsed": true
   },
   "outputs": [],
   "source": [
    "with open('awskeys.txt', 'r') as outfile:\n",
    "    dic = json.load(outfile)\n",
    "AWS_KEY_ID = dic[\"AWS_KEY_ID\"]\n",
    "AWS_SECRET_KEY = dic[\"AWS_SECRET_KEY\"]\n",
    "\n"
   ]
  },
  {
   "cell_type": "code",
   "execution_count": null,
   "metadata": {
    "collapsed": true
   },
   "outputs": [],
   "source": [
    "users = [\n",
    "]"
   ]
  },
  {
   "cell_type": "code",
   "execution_count": null,
   "metadata": {},
   "outputs": [],
   "source": [
    "from akagi.data_sources import RedshiftDataSource\n",
    "from cooking_log_image_fetcher import Fetcher\n",
    "from scipy.misc import imread\n",
    "import os\n",
    "\n",
    "\n",
    "def build_condition(users):\n",
    "    conditions = []\n",
    "\n",
    "    for row in users:\n",
    "        conditions.append(\"\"\"\n",
    "            (\n",
    "            )\n",
    "        \"\"\".format(**row))\n",
    "\n",
    "    return ' or '.join(conditions)\n",
    "\n",
    "\n",
    "def fetch_cooking_log_thumbnail(users):\n",
    "    with RedshiftDataSource.for_query(\n",
    "        \"\"\"\n",
    "        \"\"\".format(condition=build_condition(users)),\n",
    "        ) as ds:\n",
    "\n",
    "        for row in ds:\n",
    "            upload_id, _, user_id = int(row[0]), int(row[1]), int(row[2])\n",
    "            body = Fetcher.fetch_thumbnail(user_id, upload_id, env='')\n",
    "            image = imread(body)\n",
    "            yield body, image, upload_id"
   ]
  },
  {
   "cell_type": "code",
   "execution_count": null,
   "metadata": {
    "collapsed": true
   },
   "outputs": [],
   "source": []
  },
  {
   "cell_type": "code",
   "execution_count": null,
   "metadata": {
    "collapsed": true
   },
   "outputs": [],
   "source": []
  },
  {
   "cell_type": "code",
   "execution_count": null,
   "metadata": {
    "collapsed": true
   },
   "outputs": [],
   "source": [
    "assert (AWS_KEY_ID is not None) and (AWS_SECRET_KEY is not None), \"SET your keys.\"\n",
    "os.environ['AWS_ACCESS_KEY_ID'] = AWS_KEY_ID\n",
    "os.environ['AWS_SECRET_ACCESS_KEY'] = AWS_SECRET_KEY\n",
    "os.environ['AWS_DEFAULT_REGION'] = \"ap-northeast-1\""
   ]
  },
  {
   "cell_type": "code",
   "execution_count": null,
   "metadata": {
    "collapsed": true
   },
   "outputs": [],
   "source": [
    "output_dir = ''"
   ]
  },
  {
   "cell_type": "code",
   "execution_count": null,
   "metadata": {
    "scrolled": true
   },
   "outputs": [],
   "source": [
    "for body, image, upload_id in fetch_cooking_log_thumbnail(users):\n",
    "\n",
    "    output_filename = \"%s/%s.jpg\" % (output_dir, upload_id)\n",
    "    os.makedirs(os.path.dirname(output_filename), exist_ok=True)\n",
    "\n",
    "    with open(output_filename, 'wb') as f:\n",
    "        f.write(body.getvalue())"
   ]
  },
  {
   "cell_type": "code",
   "execution_count": null,
   "metadata": {},
   "outputs": [],
   "source": [
    "import glob\n",
    "\n",
    "len(list(glob.glob(os.path.normpath(\"{}/*.jpg\").format(output_dir))))"
   ]
  },
  {
   "cell_type": "code",
   "execution_count": null,
   "metadata": {
    "collapsed": true
   },
   "outputs": [],
   "source": []
  },
  {
   "cell_type": "markdown",
   "metadata": {},
   "source": [
    "# Check data from flicker"
   ]
  },
  {
   "cell_type": "code",
   "execution_count": null,
   "metadata": {},
   "outputs": [],
   "source": [
    "!pip3 install flickrapi"
   ]
  },
  {
   "cell_type": "markdown",
   "metadata": {},
   "source": [
    "### Need kernel restart here (to use flickerapi)"
   ]
  },
  {
   "cell_type": "code",
   "execution_count": null,
   "metadata": {
    "collapsed": true
   },
   "outputs": [],
   "source": [
    "import flickrapi\n",
    "\n",
    "api_key = u''\n",
    "api_secret = u''"
   ]
  },
  {
   "cell_type": "code",
   "execution_count": null,
   "metadata": {
    "collapsed": true
   },
   "outputs": [],
   "source": [
    "flickr = flickrapi.FlickrAPI(api_key, api_secret)"
   ]
  },
  {
   "cell_type": "code",
   "execution_count": null,
   "metadata": {
    "collapsed": true
   },
   "outputs": [],
   "source": []
  },
  {
   "cell_type": "raw",
   "metadata": {},
   "source": [
    "# group_id\n",
    "ID\n",
    "# license, get by https://www.flickr.com/services/rest/?\n",
    "method=flickr.photos.licenses.getInfo&api_key=\n",
    "# 2, 3, 4, 5, 6, 9 is the same as when you choose CC from web UI.\n",
    "<rsp stat=\"ok\">\n",
    "<licenses>\n",
    "    <license id=\"0\" name=\"All Rights Reserved\" url=\"\"/>\n",
    "    <license id=\"4\" name=\"Attribution License\" url=\"https://creativecommons.org/licenses/by/2.0/\"/>\n",
    "    <license id=\"6\" name=\"Attribution-NoDerivs License\" url=\"https://creativecommons.org/licenses/by-nd/2.0/\"/>\n",
    "    <license id=\"3\" name=\"Attribution-NonCommercial-NoDerivs License\" url=\"https://creativecommons.org/licenses/by-nc-nd/2.0/\"/>\n",
    "    <license id=\"2\" name=\"Attribution-NonCommercial License\" url=\"https://creativecommons.org/licenses/by-nc/2.0/\"/>\n",
    "    <license id=\"1\" name=\"Attribution-NonCommercial-ShareAlike License\" url=\"https://creativecommons.org/licenses/by-nc-sa/2.0/\"/>\n",
    "    <license id=\"5\" name=\"Attribution-ShareAlike License\" url=\"https://creativecommons.org/licenses/by-sa/2.0/\"/>\n",
    "    <license id=\"7\" name=\"No known copyright restrictions\" url=\"https://www.flickr.com/commons/usage/\"/>\n",
    "    <license id=\"8\" name=\"United States Government Work\" url=\"http://www.usa.gov/copyright.shtml\"/>\n",
    "    <license id=\"9\" name=\"Public Domain Dedication (CC0)\" url=\"https://creativecommons.org/publicdomain/zero/1.0/\"/>\n",
    "    <license id=\"10\" name=\"Public Domain Mark\" url=\"https://creativecommons.org/publicdomain/mark/1.0/\"/>\n",
    "</licenses>\n",
    "</rsp>"
   ]
  },
  {
   "cell_type": "code",
   "execution_count": null,
   "metadata": {
    "collapsed": true
   },
   "outputs": [],
   "source": []
  },
  {
   "cell_type": "code",
   "execution_count": null,
   "metadata": {
    "collapsed": true
   },
   "outputs": [],
   "source": [
    "import os, glob\n",
    "import requests\n",
    "import itertools\n",
    "from concurrent import futures"
   ]
  },
  {
   "cell_type": "code",
   "execution_count": null,
   "metadata": {
    "collapsed": true
   },
   "outputs": [],
   "source": []
  },
  {
   "cell_type": "code",
   "execution_count": null,
   "metadata": {
    "collapsed": true
   },
   "outputs": [],
   "source": [
    "output_dir=''\n"
   ]
  },
  {
   "cell_type": "code",
   "execution_count": null,
   "metadata": {
    "collapsed": true
   },
   "outputs": [],
   "source": [
    "os.makedirs(output_dir, exist_ok=True)"
   ]
  },
  {
   "cell_type": "code",
   "execution_count": null,
   "metadata": {
    "collapsed": true
   },
   "outputs": [],
   "source": [
    "def download_one(photoid, url, destdir):\n",
    "    if url is None:\n",
    "        print(\"url none. id {}\".format(photoid))\n",
    "        return\n",
    "    resp = requests.get(url)\n",
    "    savepath = os.path.join(destdir, os.path.basename(\"{}.jpg\".format(photoid)))\n",
    "    if not os.path.exists(savepath):\n",
    "        with open(savepath, 'wb') as fp:\n",
    "            fp.write(resp.content)"
   ]
  },
  {
   "cell_type": "code",
   "execution_count": null,
   "metadata": {
    "collapsed": true
   },
   "outputs": [],
   "source": []
  },
  {
   "cell_type": "code",
   "execution_count": null,
   "metadata": {
    "collapsed": true
   },
   "outputs": [],
   "source": [
    "def chunks(iterable, size):\n",
    "    iterator = iter(iterable)\n",
    "    for first in iterator:\n",
    "        yield itertools.chain([first], itertools.islice(iterator, size - 1))"
   ]
  },
  {
   "cell_type": "code",
   "execution_count": null,
   "metadata": {
    "collapsed": true
   },
   "outputs": [],
   "source": [
    "# MAX_WORKERS = 5\n",
    "MAX_WORKERS = 20"
   ]
  },
  {
   "cell_type": "code",
   "execution_count": null,
   "metadata": {
    "collapsed": true
   },
   "outputs": [],
   "source": [
    "def download_chunk(chunked_pairs, destdir):\n",
    "    chunk = list(chunked_pairs)\n",
    "    workers = min(MAX_WORKERS, len(chunk))\n",
    "    with futures.ThreadPoolExecutor(workers) as executor:\n",
    "        res = executor.map(lambda pair: download_one(pair[0], pair[1], destdir), chunk)\n",
    "    return len(list(res))"
   ]
  },
  {
   "cell_type": "code",
   "execution_count": null,
   "metadata": {
    "collapsed": true
   },
   "outputs": [],
   "source": []
  },
  {
   "cell_type": "code",
   "execution_count": null,
   "metadata": {
    "collapsed": true
   },
   "outputs": [],
   "source": [
    "import time\n"
   ]
  },
  {
   "cell_type": "code",
   "execution_count": null,
   "metadata": {
    "collapsed": true
   },
   "outputs": [],
   "source": []
  },
  {
   "cell_type": "code",
   "execution_count": null,
   "metadata": {
    "collapsed": true
   },
   "outputs": [],
   "source": [
    "def download_all_chunks(pairgen, destdir, chunksize=500):\n",
    "    downloadcnt = 0\n",
    "    for chunk in chunks(pairgen, chunksize):\n",
    "        lchunk = list(chunk)\n",
    "        download_chunk(lchunk, destdir)\n",
    "        downloadcnt += len(lchunk)\n",
    "        print(\"{} downloaded\".format(downloadcnt))\n",
    "        time.sleep(5)\n",
    "        "
   ]
  },
  {
   "cell_type": "code",
   "execution_count": null,
   "metadata": {
    "collapsed": true
   },
   "outputs": [],
   "source": []
  },
  {
   "cell_type": "markdown",
   "metadata": {},
   "source": [
    "### food retrieval"
   ]
  },
  {
   "cell_type": "code",
   "execution_count": null,
   "metadata": {
    "collapsed": true
   },
   "outputs": [],
   "source": []
  },
  {
   "cell_type": "code",
   "execution_count": null,
   "metadata": {
    "collapsed": true
   },
   "outputs": [],
   "source": [
    "ID=''"
   ]
  },
  {
   "cell_type": "code",
   "execution_count": null,
   "metadata": {
    "collapsed": true
   },
   "outputs": [],
   "source": [
    "def get_photo_idurls(groupid=ID, **namedargs):\n",
    "    return ((photo.get(\"id\"), photo.get(\"url_o\")) for photo in flickr.walk(tag_mode='all', group_id=groupid,\n",
    "                         license='2,3,4,5,6,9',\n",
    "                         # min_taken_date=begindt,\n",
    "                        # max_taken_date=enddt,\n",
    "                         extras='url_o',\n",
    "                        **namedargs))"
   ]
  },
  {
   "cell_type": "code",
   "execution_count": null,
   "metadata": {},
   "outputs": [],
   "source": [
    "%%time\n",
    "download_all_chunks(get_photo_idurls(min_taken_date='2016-12-31'), output_dir, 500)"
   ]
  },
  {
   "cell_type": "code",
   "execution_count": null,
   "metadata": {},
   "outputs": [],
   "source": [
    "%%time\n",
    "\n",
    "download_all_chunks(get_photo_idurls(min_taken_date='2015-12-31', max_taken_date='2017-01-01'), output_dir, 500)"
   ]
  },
  {
   "cell_type": "code",
   "execution_count": null,
   "metadata": {},
   "outputs": [],
   "source": [
    "%%time\n",
    "download_all_chunks(get_photo_idurls(min_taken_date='2011-12-31', max_taken_date='2016-01-01'), output_dir, 500)"
   ]
  },
  {
   "cell_type": "code",
   "execution_count": null,
   "metadata": {},
   "outputs": [],
   "source": [
    "%%time\n",
    "download_all_chunks(get_photo_idurls(min_taken_date='2007-12-31', max_taken_date='2012-01-01'), output_dir, 500)"
   ]
  },
  {
   "cell_type": "code",
   "execution_count": null,
   "metadata": {},
   "outputs": [],
   "source": [
    "%%time\n",
    "download_all_chunks(get_photo_idurls(min_taken_date='2006-12-31', max_taken_date='2008-01-01'), output_dir, 500)"
   ]
  },
  {
   "cell_type": "code",
   "execution_count": null,
   "metadata": {
    "collapsed": true
   },
   "outputs": [],
   "source": []
  },
  {
   "cell_type": "code",
   "execution_count": null,
   "metadata": {
    "collapsed": true
   },
   "outputs": [],
   "source": []
  },
  {
   "cell_type": "code",
   "execution_count": null,
   "metadata": {
    "collapsed": true
   },
   "outputs": [],
   "source": []
  },
  {
   "cell_type": "code",
   "execution_count": null,
   "metadata": {
    "collapsed": true
   },
   "outputs": [],
   "source": []
  },
  {
   "cell_type": "code",
   "execution_count": null,
   "metadata": {},
   "outputs": [],
   "source": [
    "%%time\n",
    "download_all_chunks(get_photo_idurls('2011-12-31', '2014-01-01'), output_dir, 500)"
   ]
  },
  {
   "cell_type": "code",
   "execution_count": null,
   "metadata": {},
   "outputs": [],
   "source": [
    "%%time\n",
    "download_all_chunks(get_photo_idurls('2009-12-31', '2012-01-01'), output_dir, 500)"
   ]
  },
  {
   "cell_type": "code",
   "execution_count": null,
   "metadata": {},
   "outputs": [],
   "source": [
    "%%time\n",
    "download_all_chunks(get_photo_idurls('2008-12-31', '2010-01-01'), output_dir, 500)"
   ]
  },
  {
   "cell_type": "code",
   "execution_count": null,
   "metadata": {},
   "outputs": [],
   "source": [
    "%%time\n",
    "download_all_chunks(get_photo_idurls('2005-12-31', '2009-01-01'), output_dir, 500)"
   ]
  },
  {
   "cell_type": "code",
   "execution_count": null,
   "metadata": {},
   "outputs": [],
   "source": [
    "%%time\n",
    "download_all_chunks(get_photo_idurls('2000-12-31', '2006-01-01'), output_dir, 500)"
   ]
  },
  {
   "cell_type": "code",
   "execution_count": null,
   "metadata": {},
   "outputs": [],
   "source": [
    "%%time\n",
    "download_all_chunks(get_photo_idurls('1990-12-31', '2001-01-01'), output_dir, 500)"
   ]
  },
  {
   "cell_type": "code",
   "execution_count": null,
   "metadata": {},
   "outputs": [],
   "source": [
    "%%time\n",
    "download_all_chunks(get_photo_idurls('1800-12-31', '1991-01-01'), output_dir, 500)"
   ]
  },
  {
   "cell_type": "code",
   "execution_count": null,
   "metadata": {
    "collapsed": true
   },
   "outputs": [],
   "source": []
  },
  {
   "cell_type": "markdown",
   "metadata": {},
   "source": [
    "### Get tagged data"
   ]
  },
  {
   "cell_type": "code",
   "execution_count": null,
   "metadata": {
    "collapsed": true
   },
   "outputs": [],
   "source": [
    "gen = ((photo.get(\"id\"), photo.get(\"url_o\")) for photo in flickr.walk(tags='', tag_mode='all',\n",
    "                         license='2,3,4,5,6,9',\n",
    "                       min_taken_date='2015-12-31', max_taken_date='2017-01-01',\n",
    "                         extras='url_o'))"
   ]
  },
  {
   "cell_type": "code",
   "execution_count": null,
   "metadata": {
    "collapsed": true
   },
   "outputs": [],
   "source": [
    "i = 0"
   ]
  },
  {
   "cell_type": "code",
   "execution_count": null,
   "metadata": {},
   "outputs": [],
   "source": [
    "for pair in gen:\n",
    "    print(pair)\n",
    "    i += 1\n",
    "    if i > 5:\n",
    "        break"
   ]
  },
  {
   "cell_type": "code",
   "execution_count": null,
   "metadata": {
    "collapsed": true
   },
   "outputs": [],
   "source": []
  },
  {
   "cell_type": "code",
   "execution_count": null,
   "metadata": {
    "collapsed": true
   },
   "outputs": [],
   "source": [
    "def get_pasta_idurl(**namedargs):\n",
    "    return ((photo.get(\"id\"), photo.get(\"url_o\")) for photo in flickr.walk(tag_mode='all', tags='', \n",
    "                         license='2,3,4,5,6,9',\n",
    "                         extras='url_o',\n",
    "                        **namedargs))"
   ]
  },
  {
   "cell_type": "code",
   "execution_count": null,
   "metadata": {},
   "outputs": [],
   "source": [
    "%%time\n",
    "download_all_chunks(get_pasta_idurl(min_taken_date='2016-12-31'), output_dir, 500)"
   ]
  },
  {
   "cell_type": "code",
   "execution_count": null,
   "metadata": {},
   "outputs": [],
   "source": [
    "%%time\n",
    "\n",
    "download_all_chunks(get_pasta_idurl(min_taken_date='2014-12-31', max_taken_date='2017-01-01'), output_dir, 500)"
   ]
  },
  {
   "cell_type": "code",
   "execution_count": null,
   "metadata": {
    "collapsed": true
   },
   "outputs": [],
   "source": []
  },
  {
   "cell_type": "code",
   "execution_count": null,
   "metadata": {},
   "outputs": [],
   "source": [
    "%%time\n",
    "download_all_chunks(get_pasta_idurl(min_taken_date='2000-12-31', max_taken_date='2015-01-01'), output_dir, 500)"
   ]
  },
  {
   "cell_type": "code",
   "execution_count": null,
   "metadata": {
    "collapsed": true
   },
   "outputs": [],
   "source": []
  },
  {
   "cell_type": "code",
   "execution_count": null,
   "metadata": {
    "collapsed": true
   },
   "outputs": [],
   "source": []
  },
  {
   "cell_type": "code",
   "execution_count": null,
   "metadata": {
    "collapsed": true
   },
   "outputs": [],
   "source": []
  },
  {
   "cell_type": "code",
   "execution_count": null,
   "metadata": {
    "collapsed": true
   },
   "outputs": [],
   "source": []
  },
  {
   "cell_type": "code",
   "execution_count": null,
   "metadata": {
    "collapsed": true
   },
   "outputs": [],
   "source": []
  }
 ],
 "metadata": {
  "kernelspec": {
   "display_name": "Python 3",
   "language": "python",
   "name": "python3"
  },
  "language_info": {
   "codemirror_mode": {
    "name": "ipython",
    "version": 3
   },
   "file_extension": ".py",
   "mimetype": "text/x-python",
   "name": "python",
   "nbconvert_exporter": "python",
   "pygments_lexer": "ipython3",
   "version": "3.5.2"
  }
 },
 "nbformat": 4,
 "nbformat_minor": 2
}
