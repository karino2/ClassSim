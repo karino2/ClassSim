{
 "cells": [
  {
   "cell_type": "markdown",
   "metadata": {},
   "source": [
    "# Calculate similarity between category based on 1 vs all classifier\n"
   ]
  },
  {
   "cell_type": "markdown",
   "metadata": {},
   "source": [
    "## 1. Set up"
   ]
  },
  {
   "cell_type": "code",
   "execution_count": 1,
   "metadata": {},
   "outputs": [],
   "source": [
    "import os\n",
    "import json\n",
    "import glob\n",
    "import scipy\n",
    "import numpy as np\n",
    "\n",
    "import pandas as pd\n",
    "import glob"
   ]
  },
  {
   "cell_type": "code",
   "execution_count": null,
   "metadata": {},
   "outputs": [],
   "source": []
  },
  {
   "cell_type": "code",
   "execution_count": 2,
   "metadata": {},
   "outputs": [],
   "source": [
    "!mkdir -p results"
   ]
  },
  {
   "cell_type": "code",
   "execution_count": 3,
   "metadata": {},
   "outputs": [],
   "source": [
    "VALID_DF_PATH = \"results/valid_df.dat\"\n",
    "VALID_SIMILARITY_DICT_PATH=\"results/valid_sim_df.dat\""
   ]
  },
  {
   "cell_type": "code",
   "execution_count": null,
   "metadata": {},
   "outputs": [],
   "source": []
  },
  {
   "cell_type": "code",
   "execution_count": 4,
   "metadata": {},
   "outputs": [],
   "source": [
    "BASE_MODEL_PATH=\"trained_model\""
   ]
  },
  {
   "cell_type": "code",
   "execution_count": 5,
   "metadata": {},
   "outputs": [
    {
     "name": "stderr",
     "output_type": "stream",
     "text": [
      "Using TensorFlow backend.\n"
     ]
    }
   ],
   "source": [
    "from models.modelutils import dir2filedict, split_fdict\n",
    "import random"
   ]
  },
  {
   "cell_type": "code",
   "execution_count": null,
   "metadata": {},
   "outputs": [],
   "source": []
  },
  {
   "cell_type": "code",
   "execution_count": 6,
   "metadata": {},
   "outputs": [],
   "source": [
    "fdict = dir2filedict(\"data\")"
   ]
  },
  {
   "cell_type": "code",
   "execution_count": 8,
   "metadata": {},
   "outputs": [],
   "source": [
    "catkeys = sorted(fdict.keys())"
   ]
  },
  {
   "cell_type": "code",
   "execution_count": 9,
   "metadata": {},
   "outputs": [],
   "source": [
    "trdict, testdict = split_fdict(fdict, test_size=0.2, random_state = 123)\n",
    "trdict, valdict = split_fdict(trdict, test_size=0.2, random_state = 456)"
   ]
  },
  {
   "cell_type": "code",
   "execution_count": 10,
   "metadata": {},
   "outputs": [
    {
     "data": {
      "text/plain": [
       "['data/clouds/0678.jpeg',\n",
       " 'data/clouds/0701.jpeg',\n",
       " 'data/clouds/0431.jpeg',\n",
       " 'data/clouds/0033.jpeg',\n",
       " 'data/clouds/0290.jpeg']"
      ]
     },
     "execution_count": 10,
     "metadata": {},
     "output_type": "execute_result"
    }
   ],
   "source": [
    "valdict['clouds'][0:5]"
   ]
  },
  {
   "cell_type": "raw",
   "metadata": {},
   "source": [
    "# Here is expected output. The result might be different due to files excluded for GMM, but all the output of\n",
    "# train.ipynb, classifier_similarity.ipynb, train_second.ipynb must be the same.\n",
    "\n",
    "['data/clouds/0678.jpeg',\n",
    " 'data/clouds/0701.jpeg',\n",
    " 'data/clouds/0431.jpeg',\n",
    " 'data/clouds/0033.jpeg',\n",
    " 'data/clouds/0290.jpeg']"
   ]
  },
  {
   "cell_type": "code",
   "execution_count": null,
   "metadata": {},
   "outputs": [],
   "source": []
  },
  {
   "cell_type": "code",
   "execution_count": 11,
   "metadata": {},
   "outputs": [],
   "source": [
    "# target is validation set.\n",
    "fdict = valdict"
   ]
  },
  {
   "cell_type": "markdown",
   "metadata": {},
   "source": [
    "## Calc similarity and store df"
   ]
  },
  {
   "cell_type": "code",
   "execution_count": 12,
   "metadata": {},
   "outputs": [],
   "source": [
    "from models.modelutils import load_best_model_if_exist\n",
    "import os\n",
    "from models.processor import DataSet"
   ]
  },
  {
   "cell_type": "code",
   "execution_count": null,
   "metadata": {},
   "outputs": [],
   "source": []
  },
  {
   "cell_type": "code",
   "execution_count": 13,
   "metadata": {},
   "outputs": [],
   "source": [
    "class ModelBinder:\n",
    "    def __init__(self, base_model_name, basedir):\n",
    "        self.base_model_name = base_model_name\n",
    "        self.basedir = basedir\n",
    "        self._models = {}\n",
    "        self.verbose = True\n",
    "        self.ds = DataSet()\n",
    "        self.chunk_size = 3000\n",
    "    def predict_chunks(self, chunked_paths):\n",
    "        datas = self.ds.files_to_dataset(chunked_paths)\n",
    "        models = self._models\n",
    "        return {key: models[key].predict(datas)[:, 1] for key in models.keys()}\n",
    "    def predict_files(self, flist):\n",
    "        chunked_paths = self.ds.chunked(flist, self.chunk_size)\n",
    "        \n",
    "        models = self._models\n",
    "        preddictlist =  [self.predict_chunks(chunk) for chunk in chunked_paths]\n",
    "        preddict = {key:[] for key in models.keys()}\n",
    "        for onedict in preddictlist:\n",
    "            for key in models.keys():\n",
    "                preddict[key].extend(onedict[key])\n",
    "        return preddict\n",
    "\n",
    "    def model_path(self, target_key):\n",
    "        return os.path.join(self.basedir, \"{}_{}\".format(self.base_model_name, target_key))\n",
    "\n",
    "    def get_or_load_model(self, target_key):\n",
    "        if target_key in self._models:\n",
    "            return self._models[target_key]\n",
    "        self.notify(\"load {}\".format(target_key))\n",
    "        self._models[target_key] = load_best_model_if_exist(self.model_path(target_key))\n",
    "        return self._models[target_key]\n",
    "\n",
    "    def notify(self, msg):\n",
    "        if self.verbose:\n",
    "            print(msg)\n",
    "\n",
    "    def load_all_models(self, keys):\n",
    "        list(map(self.get_or_load_model, keys))\n",
    "\n",
    "\n",
    "    def predict(self, files):\n",
    "        preddict = self.predict_files(files)\n",
    "        preddict[\"filepaths\"] = files\n",
    "        return pd.DataFrame(preddict)\n",
    "\n",
    "\n",
    "    def add_argmax_max(self, df):\n",
    "        catkeys = list(self._models.keys())\n",
    "        df['argmax'] = df[df.columns[:len(catkeys)]].idxmax(axis=1)\n",
    "        df['max'] = df[df.columns[0:len(catkeys)]].max(axis=1)\n",
    "\n"
   ]
  },
  {
   "cell_type": "code",
   "execution_count": 14,
   "metadata": {},
   "outputs": [],
   "source": [
    "\n",
    "def ModelBinder_create(base_model_name = \"model\", basedir = BASE_MODEL_PATH):\n",
    "    return ModelBinder(base_model_name, basedir)"
   ]
  },
  {
   "cell_type": "code",
   "execution_count": null,
   "metadata": {},
   "outputs": [],
   "source": []
  },
  {
   "cell_type": "markdown",
   "metadata": {
    "collapsed": true
   },
   "source": [
    "## Predict score and store to df"
   ]
  },
  {
   "cell_type": "code",
   "execution_count": 15,
   "metadata": {},
   "outputs": [],
   "source": [
    "ftuppls = [(key, file) for key in fdict.keys() for file in fdict[key]]"
   ]
  },
  {
   "cell_type": "code",
   "execution_count": null,
   "metadata": {},
   "outputs": [],
   "source": []
  },
  {
   "cell_type": "code",
   "execution_count": 16,
   "metadata": {},
   "outputs": [],
   "source": [
    "labels = [tup[0] for tup in ftuppls]"
   ]
  },
  {
   "cell_type": "code",
   "execution_count": 17,
   "metadata": {},
   "outputs": [],
   "source": [
    "paths = [tup[1] for tup in ftuppls]"
   ]
  },
  {
   "cell_type": "code",
   "execution_count": 18,
   "metadata": {},
   "outputs": [
    {
     "data": {
      "text/plain": [
       "(1894, 1894)"
      ]
     },
     "execution_count": 18,
     "metadata": {},
     "output_type": "execute_result"
    }
   ],
   "source": [
    "len(labels), len(paths)"
   ]
  },
  {
   "cell_type": "code",
   "execution_count": null,
   "metadata": {},
   "outputs": [],
   "source": []
  },
  {
   "cell_type": "code",
   "execution_count": 19,
   "metadata": {},
   "outputs": [],
   "source": [
    "binder = ModelBinder_create()"
   ]
  },
  {
   "cell_type": "code",
   "execution_count": null,
   "metadata": {},
   "outputs": [],
   "source": []
  },
  {
   "cell_type": "code",
   "execution_count": 20,
   "metadata": {},
   "outputs": [
    {
     "name": "stdout",
     "output_type": "stream",
     "text": [
      "load bay\n",
      "load beach\n",
      "load birds\n",
      "load boeing\n",
      "load buildings\n",
      "load city\n",
      "load clouds\n",
      "load f-16\n",
      "load face\n",
      "load helicopter\n",
      "load mountain\n",
      "load ocean\n",
      "load ships\n",
      "load sky\n",
      "load sunrise\n",
      "load sunset\n"
     ]
    }
   ],
   "source": [
    "binder.load_all_models(catkeys)"
   ]
  },
  {
   "cell_type": "code",
   "execution_count": 21,
   "metadata": {},
   "outputs": [],
   "source": [
    "# binder._models = ens._models"
   ]
  },
  {
   "cell_type": "code",
   "execution_count": 22,
   "metadata": {},
   "outputs": [
    {
     "name": "stderr",
     "output_type": "stream",
     "text": [
      "/usr/local/lib/python3.5/dist-packages/PIL/Image.py:914: UserWarning: Palette images with Transparency   expressed in bytes should be converted to RGBA images\n",
      "  'to RGBA images')\n",
      "/usr/local/lib/python3.5/dist-packages/PIL/TiffImagePlugin.py:725: UserWarning: Possibly corrupt EXIF data.  Expecting to read 80000 bytes but only got 0. Skipping tag 64640\n",
      "  \" Skipping tag %s\" % (size, len(data), tag))\n",
      "/usr/local/lib/python3.5/dist-packages/PIL/TiffImagePlugin.py:725: UserWarning: Possibly corrupt EXIF data.  Expecting to read 3368026112 bytes but only got 0. Skipping tag 7\n",
      "  \" Skipping tag %s\" % (size, len(data), tag))\n",
      "/usr/local/lib/python3.5/dist-packages/PIL/TiffImagePlugin.py:725: UserWarning: Possibly corrupt EXIF data.  Expecting to read 134479872 bytes but only got 0. Skipping tag 7\n",
      "  \" Skipping tag %s\" % (size, len(data), tag))\n",
      "/usr/local/lib/python3.5/dist-packages/PIL/TiffImagePlugin.py:725: UserWarning: Possibly corrupt EXIF data.  Expecting to read 4294901760 bytes but only got 0. Skipping tag 4\n",
      "  \" Skipping tag %s\" % (size, len(data), tag))\n",
      "/usr/local/lib/python3.5/dist-packages/PIL/TiffImagePlugin.py:725: UserWarning: Possibly corrupt EXIF data.  Expecting to read 458752 bytes but only got 0. Skipping tag 3\n",
      "  \" Skipping tag %s\" % (size, len(data), tag))\n",
      "/usr/local/lib/python3.5/dist-packages/PIL/TiffImagePlugin.py:725: UserWarning: Possibly corrupt EXIF data.  Expecting to read 3300917248 bytes but only got 0. Skipping tag 7\n",
      "  \" Skipping tag %s\" % (size, len(data), tag))\n",
      "/usr/local/lib/python3.5/dist-packages/PIL/TiffImagePlugin.py:725: UserWarning: Possibly corrupt EXIF data.  Expecting to read 65536 bytes but only got 0. Skipping tag 3\n",
      "  \" Skipping tag %s\" % (size, len(data), tag))\n",
      "/usr/local/lib/python3.5/dist-packages/PIL/TiffImagePlugin.py:725: UserWarning: Possibly corrupt EXIF data.  Expecting to read 119144448 bytes but only got 0. Skipping tag 4\n",
      "  \" Skipping tag %s\" % (size, len(data), tag))\n",
      "/usr/local/lib/python3.5/dist-packages/PIL/TiffImagePlugin.py:725: UserWarning: Possibly corrupt EXIF data.  Expecting to read 80478208 bytes but only got 0. Skipping tag 4\n",
      "  \" Skipping tag %s\" % (size, len(data), tag))\n",
      "/usr/local/lib/python3.5/dist-packages/PIL/TiffImagePlugin.py:725: UserWarning: Possibly corrupt EXIF data.  Expecting to read 36175872 bytes but only got 0. Skipping tag 4\n",
      "  \" Skipping tag %s\" % (size, len(data), tag))\n",
      "/usr/local/lib/python3.5/dist-packages/PIL/TiffImagePlugin.py:725: UserWarning: Possibly corrupt EXIF data.  Expecting to read 196608 bytes but only got 0. Skipping tag 7\n",
      "  \" Skipping tag %s\" % (size, len(data), tag))\n",
      "/usr/local/lib/python3.5/dist-packages/PIL/TiffImagePlugin.py:725: UserWarning: Possibly corrupt EXIF data.  Expecting to read 65536 bytes but only got 6462. Skipping tag 7\n",
      "  \" Skipping tag %s\" % (size, len(data), tag))\n",
      "/usr/local/lib/python3.5/dist-packages/PIL/TiffImagePlugin.py:725: UserWarning: Possibly corrupt EXIF data.  Expecting to read 131073 bytes but only got 6458. Skipping tag 0\n",
      "  \" Skipping tag %s\" % (size, len(data), tag))\n",
      "/usr/local/lib/python3.5/dist-packages/PIL/TiffImagePlugin.py:725: UserWarning: Possibly corrupt EXIF data.  Expecting to read 393216 bytes but only got 0. Skipping tag 3\n",
      "  \" Skipping tag %s\" % (size, len(data), tag))\n",
      "/usr/local/lib/python3.5/dist-packages/PIL/TiffImagePlugin.py:725: UserWarning: Possibly corrupt EXIF data.  Expecting to read 44040192 bytes but only got 0. Skipping tag 5\n",
      "  \" Skipping tag %s\" % (size, len(data), tag))\n",
      "/usr/local/lib/python3.5/dist-packages/PIL/TiffImagePlugin.py:725: UserWarning: Possibly corrupt EXIF data.  Expecting to read 44564480 bytes but only got 0. Skipping tag 5\n",
      "  \" Skipping tag %s\" % (size, len(data), tag))\n",
      "/usr/local/lib/python3.5/dist-packages/PIL/TiffImagePlugin.py:725: UserWarning: Possibly corrupt EXIF data.  Expecting to read 131072 bytes but only got 0. Skipping tag 3\n",
      "  \" Skipping tag %s\" % (size, len(data), tag))\n",
      "/usr/local/lib/python3.5/dist-packages/PIL/TiffImagePlugin.py:725: UserWarning: Possibly corrupt EXIF data.  Expecting to read 45088768 bytes but only got 0. Skipping tag 4\n",
      "  \" Skipping tag %s\" % (size, len(data), tag))\n",
      "/usr/local/lib/python3.5/dist-packages/PIL/TiffImagePlugin.py:725: UserWarning: Possibly corrupt EXIF data.  Expecting to read 378404864 bytes but only got 6462. Skipping tag 4\n",
      "  \" Skipping tag %s\" % (size, len(data), tag))\n",
      "/usr/local/lib/python3.5/dist-packages/PIL/TiffImagePlugin.py:742: UserWarning: Corrupt EXIF data.  Expecting to read 12 bytes but only got 8. \n",
      "  warnings.warn(str(msg))\n",
      "/usr/local/lib/python3.5/dist-packages/PIL/Image.py:2496: DecompressionBombWarning: Image size (91759542 pixels) exceeds limit of 89478485 pixels, could be decompression bomb DOS attack.\n",
      "  DecompressionBombWarning)\n",
      "/usr/local/lib/python3.5/dist-packages/PIL/TiffImagePlugin.py:725: UserWarning: Possibly corrupt EXIF data.  Expecting to read 1572864 bytes but only got 0. Skipping tag 42\n",
      "  \" Skipping tag %s\" % (size, len(data), tag))\n",
      "/usr/local/lib/python3.5/dist-packages/PIL/TiffImagePlugin.py:725: UserWarning: Possibly corrupt EXIF data.  Expecting to read 19600506880 bytes but only got 0. Skipping tag 0\n",
      "  \" Skipping tag %s\" % (size, len(data), tag))\n",
      "/usr/local/lib/python3.5/dist-packages/PIL/TiffImagePlugin.py:725: UserWarning: Possibly corrupt EXIF data.  Expecting to read 2684485632 bytes but only got 0. Skipping tag 0\n",
      "  \" Skipping tag %s\" % (size, len(data), tag))\n",
      "/usr/local/lib/python3.5/dist-packages/PIL/TiffImagePlugin.py:725: UserWarning: Possibly corrupt EXIF data.  Expecting to read 2751528960 bytes but only got 0. Skipping tag 0\n",
      "  \" Skipping tag %s\" % (size, len(data), tag))\n",
      "/usr/local/lib/python3.5/dist-packages/PIL/TiffImagePlugin.py:725: UserWarning: Possibly corrupt EXIF data.  Expecting to read 4915200 bytes but only got 0. Skipping tag 0\n",
      "  \" Skipping tag %s\" % (size, len(data), tag))\n",
      "/usr/local/lib/python3.5/dist-packages/PIL/TiffImagePlugin.py:725: UserWarning: Possibly corrupt EXIF data.  Expecting to read 2490368 bytes but only got 0. Skipping tag 0\n",
      "  \" Skipping tag %s\" % (size, len(data), tag))\n",
      "/usr/local/lib/python3.5/dist-packages/PIL/TiffImagePlugin.py:725: UserWarning: Possibly corrupt EXIF data.  Expecting to read 13631488 bytes but only got 0. Skipping tag 0\n",
      "  \" Skipping tag %s\" % (size, len(data), tag))\n",
      "/usr/local/lib/python3.5/dist-packages/PIL/TiffImagePlugin.py:725: UserWarning: Possibly corrupt EXIF data.  Expecting to read 967680 bytes but only got 0. Skipping tag 62720\n",
      "  \" Skipping tag %s\" % (size, len(data), tag))\n",
      "/usr/local/lib/python3.5/dist-packages/PIL/TiffImagePlugin.py:725: UserWarning: Possibly corrupt EXIF data.  Expecting to read 983040 bytes but only got 12952. Skipping tag 40960\n",
      "  \" Skipping tag %s\" % (size, len(data), tag))\n",
      "/usr/local/lib/python3.5/dist-packages/PIL/TiffImagePlugin.py:725: UserWarning: Possibly corrupt EXIF data.  Expecting to read 25600 bytes but only got 0. Skipping tag 3328\n",
      "  \" Skipping tag %s\" % (size, len(data), tag))\n",
      "/usr/local/lib/python3.5/dist-packages/PIL/TiffImagePlugin.py:725: UserWarning: Possibly corrupt EXIF data.  Expecting to read 25600 bytes but only got 0. Skipping tag 3584\n",
      "  \" Skipping tag %s\" % (size, len(data), tag))\n",
      "/usr/local/lib/python3.5/dist-packages/PIL/TiffImagePlugin.py:725: UserWarning: Possibly corrupt EXIF data.  Expecting to read 3942907908 bytes but only got 12950. Skipping tag 2304\n",
      "  \" Skipping tag %s\" % (size, len(data), tag))\n",
      "/usr/local/lib/python3.5/dist-packages/PIL/TiffImagePlugin.py:725: UserWarning: Possibly corrupt EXIF data.  Expecting to read 1048592 bytes but only got 12948. Skipping tag 0\n",
      "  \" Skipping tag %s\" % (size, len(data), tag))\n",
      "/usr/local/lib/python3.5/dist-packages/PIL/TiffImagePlugin.py:725: UserWarning: Possibly corrupt EXIF data.  Expecting to read 33554944 bytes but only got 12952. Skipping tag 6476\n",
      "  \" Skipping tag %s\" % (size, len(data), tag))\n",
      "/usr/local/lib/python3.5/dist-packages/PIL/TiffImagePlugin.py:725: UserWarning: Possibly corrupt EXIF data.  Expecting to read 6291568 bytes but only got 0. Skipping tag 159\n",
      "  \" Skipping tag %s\" % (size, len(data), tag))\n",
      "/usr/local/lib/python3.5/dist-packages/PIL/TiffImagePlugin.py:725: UserWarning: Possibly corrupt EXIF data.  Expecting to read 16646387 bytes but only got 12719. Skipping tag 65531\n",
      "  \" Skipping tag %s\" % (size, len(data), tag))\n",
      "/usr/local/lib/python3.5/dist-packages/PIL/TiffImagePlugin.py:725: UserWarning: Possibly corrupt EXIF data.  Expecting to read 1114128 bytes but only got 0. Skipping tag 38\n",
      "  \" Skipping tag %s\" % (size, len(data), tag))\n",
      "/usr/local/lib/python3.5/dist-packages/PIL/TiffImagePlugin.py:725: UserWarning: Possibly corrupt EXIF data.  Expecting to read 3145792 bytes but only got 12947. Skipping tag 1\n",
      "  \" Skipping tag %s\" % (size, len(data), tag))\n",
      "/usr/local/lib/python3.5/dist-packages/PIL/TiffImagePlugin.py:725: UserWarning: Possibly corrupt EXIF data.  Expecting to read 113265 bytes but only got 0. Skipping tag 48581\n",
      "  \" Skipping tag %s\" % (size, len(data), tag))\n",
      "/usr/local/lib/python3.5/dist-packages/PIL/TiffImagePlugin.py:742: UserWarning: Corrupt EXIF data.  Expecting to read 12 bytes but only got 2. \n",
      "  warnings.warn(str(msg))\n"
     ]
    },
    {
     "name": "stdout",
     "output_type": "stream",
     "text": [
      "CPU times: user 9min 10s, sys: 28.4 s, total: 9min 38s\n",
      "Wall time: 8min 38s\n"
     ]
    }
   ],
   "source": [
    "%%time\n",
    "df = binder.predict(paths)"
   ]
  },
  {
   "cell_type": "code",
   "execution_count": 23,
   "metadata": {},
   "outputs": [],
   "source": [
    "df['label'] = labels"
   ]
  },
  {
   "cell_type": "code",
   "execution_count": 24,
   "metadata": {},
   "outputs": [],
   "source": [
    "df.to_pickle(VALID_DF_PATH)"
   ]
  },
  {
   "cell_type": "code",
   "execution_count": null,
   "metadata": {},
   "outputs": [],
   "source": []
  },
  {
   "cell_type": "code",
   "execution_count": null,
   "metadata": {},
   "outputs": [],
   "source": []
  },
  {
   "cell_type": "markdown",
   "metadata": {
    "collapsed": true
   },
   "source": [
    "## Calculate similarity from score df"
   ]
  },
  {
   "cell_type": "code",
   "execution_count": 25,
   "metadata": {},
   "outputs": [],
   "source": [
    "class SimilarityCalculator:\n",
    "    def __init__(self, df, thrshold=0.5):\n",
    "        self.df = df\n",
    "        self.rmiss = {}\n",
    "        self.thrshold = thrshold\n",
    "        self.cats = [key for key in df.columns.values if key != \"filepaths\" and key !=\"label\"]\n",
    "        self.catidxs = [list(df.columns).index(key) for key in self.cats]\n",
    "    def combinekey(self, fromkey, tokey):\n",
    "        return \"{0}~{1}\".format(fromkey, tokey)\n",
    "    def saveAll(self):\n",
    "        for key in self.cats:\n",
    "            self.saveNaxx(key)\n",
    "    def saveNaxx(self, fromkey):\n",
    "        targetdf = self.df[self.df['label'] == fromkey]\n",
    "        \n",
    "        Nab = (targetdf[targetdf.columns[self.catidxs]] > self.thrshold).sum()\n",
    "        Na = len(targetdf)\n",
    "        \n",
    "        Nab_a = Nab/Na\n",
    "        \n",
    "        otherkeys = Nab_a.index\n",
    "        list(map(lambda otherkey: self.add(fromkey, otherkey, Nab_a[otherkey]), otherkeys))\n",
    "\n",
    "        \n",
    "    def add(self, fromkey, tokey, val):\n",
    "        key = self.combinekey(fromkey, tokey)\n",
    "        self.rmiss.setdefault(key, 0)\n",
    "        self.rmiss[key] += val\n",
    "    def similarity(self, fromkey, tokey):\n",
    "        key1 = self.combinekey(fromkey, tokey)\n",
    "        key2 = self.combinekey(tokey, fromkey)\n",
    "        return (self.rmiss[key1] + self.rmiss[key2])/2\n",
    "        \n"
   ]
  },
  {
   "cell_type": "code",
   "execution_count": 26,
   "metadata": {},
   "outputs": [],
   "source": [
    "sim = SimilarityCalculator(df)"
   ]
  },
  {
   "cell_type": "code",
   "execution_count": 27,
   "metadata": {},
   "outputs": [],
   "source": [
    "sim.saveAll()"
   ]
  },
  {
   "cell_type": "code",
   "execution_count": 28,
   "metadata": {},
   "outputs": [],
   "source": [
    "# keys = df.columns[:-2]\n",
    "keys = sim.cats"
   ]
  },
  {
   "cell_type": "code",
   "execution_count": 29,
   "metadata": {},
   "outputs": [],
   "source": [
    "import itertools"
   ]
  },
  {
   "cell_type": "code",
   "execution_count": 30,
   "metadata": {
    "scrolled": true
   },
   "outputs": [
    {
     "data": {
      "text/plain": [
       "120"
      ]
     },
     "execution_count": 30,
     "metadata": {},
     "output_type": "execute_result"
    }
   ],
   "source": [
    "len(list(itertools.combinations(keys, 2)))"
   ]
  },
  {
   "cell_type": "code",
   "execution_count": 31,
   "metadata": {},
   "outputs": [],
   "source": [
    "simdict = {key1: [sim.similarity(key1, key2) for key2 in keys] for key1 in keys}"
   ]
  },
  {
   "cell_type": "code",
   "execution_count": 32,
   "metadata": {},
   "outputs": [],
   "source": [
    "simdf = pd.DataFrame(simdict)"
   ]
  },
  {
   "cell_type": "code",
   "execution_count": 33,
   "metadata": {},
   "outputs": [],
   "source": [
    "simdf.index = keys"
   ]
  },
  {
   "cell_type": "code",
   "execution_count": null,
   "metadata": {},
   "outputs": [],
   "source": []
  },
  {
   "cell_type": "code",
   "execution_count": 34,
   "metadata": {},
   "outputs": [],
   "source": [
    "simdf.to_pickle(VALID_SIMILARITY_DICT_PATH)"
   ]
  },
  {
   "cell_type": "code",
   "execution_count": null,
   "metadata": {},
   "outputs": [],
   "source": []
  },
  {
   "cell_type": "code",
   "execution_count": 35,
   "metadata": {},
   "outputs": [
    {
     "data": {
      "text/html": [
       "<div>\n",
       "<style scoped>\n",
       "    .dataframe tbody tr th:only-of-type {\n",
       "        vertical-align: middle;\n",
       "    }\n",
       "\n",
       "    .dataframe tbody tr th {\n",
       "        vertical-align: top;\n",
       "    }\n",
       "\n",
       "    .dataframe thead th {\n",
       "        text-align: right;\n",
       "    }\n",
       "</style>\n",
       "<table border=\"1\" class=\"dataframe\">\n",
       "  <thead>\n",
       "    <tr style=\"text-align: right;\">\n",
       "      <th></th>\n",
       "      <th>bay</th>\n",
       "      <th>beach</th>\n",
       "      <th>birds</th>\n",
       "      <th>boeing</th>\n",
       "      <th>buildings</th>\n",
       "      <th>city</th>\n",
       "      <th>clouds</th>\n",
       "      <th>f-16</th>\n",
       "      <th>face</th>\n",
       "      <th>helicopter</th>\n",
       "      <th>mountain</th>\n",
       "      <th>ocean</th>\n",
       "      <th>ships</th>\n",
       "      <th>sky</th>\n",
       "      <th>sunrise</th>\n",
       "      <th>sunset</th>\n",
       "    </tr>\n",
       "  </thead>\n",
       "  <tbody>\n",
       "    <tr>\n",
       "      <th>bay</th>\n",
       "      <td>0.829787</td>\n",
       "      <td>0.626241</td>\n",
       "      <td>0.003788</td>\n",
       "      <td>0.024823</td>\n",
       "      <td>0.069321</td>\n",
       "      <td>0.301298</td>\n",
       "      <td>0.000000</td>\n",
       "      <td>0.027935</td>\n",
       "      <td>0.007196</td>\n",
       "      <td>0.003546</td>\n",
       "      <td>0.188109</td>\n",
       "      <td>0.319808</td>\n",
       "      <td>0.077143</td>\n",
       "      <td>0.033878</td>\n",
       "      <td>0.055251</td>\n",
       "      <td>0.055866</td>\n",
       "    </tr>\n",
       "    <tr>\n",
       "      <th>beach</th>\n",
       "      <td>0.626241</td>\n",
       "      <td>0.921429</td>\n",
       "      <td>0.000000</td>\n",
       "      <td>0.010714</td>\n",
       "      <td>0.025922</td>\n",
       "      <td>0.073184</td>\n",
       "      <td>0.014423</td>\n",
       "      <td>0.022959</td>\n",
       "      <td>0.007221</td>\n",
       "      <td>0.029976</td>\n",
       "      <td>0.114174</td>\n",
       "      <td>0.245480</td>\n",
       "      <td>0.022760</td>\n",
       "      <td>0.030357</td>\n",
       "      <td>0.105645</td>\n",
       "      <td>0.094794</td>\n",
       "    </tr>\n",
       "    <tr>\n",
       "      <th>birds</th>\n",
       "      <td>0.003788</td>\n",
       "      <td>0.000000</td>\n",
       "      <td>0.984848</td>\n",
       "      <td>0.018939</td>\n",
       "      <td>0.003788</td>\n",
       "      <td>0.004237</td>\n",
       "      <td>0.000000</td>\n",
       "      <td>0.026515</td>\n",
       "      <td>0.037464</td>\n",
       "      <td>0.008061</td>\n",
       "      <td>0.000000</td>\n",
       "      <td>0.045488</td>\n",
       "      <td>0.007576</td>\n",
       "      <td>0.003788</td>\n",
       "      <td>0.012952</td>\n",
       "      <td>0.028313</td>\n",
       "    </tr>\n",
       "    <tr>\n",
       "      <th>boeing</th>\n",
       "      <td>0.024823</td>\n",
       "      <td>0.010714</td>\n",
       "      <td>0.018939</td>\n",
       "      <td>0.990099</td>\n",
       "      <td>0.013015</td>\n",
       "      <td>0.035325</td>\n",
       "      <td>0.000000</td>\n",
       "      <td>0.258386</td>\n",
       "      <td>0.015899</td>\n",
       "      <td>0.152958</td>\n",
       "      <td>0.011719</td>\n",
       "      <td>0.066897</td>\n",
       "      <td>0.059322</td>\n",
       "      <td>0.013879</td>\n",
       "      <td>0.010753</td>\n",
       "      <td>0.004237</td>\n",
       "    </tr>\n",
       "    <tr>\n",
       "      <th>buildings</th>\n",
       "      <td>0.069321</td>\n",
       "      <td>0.025922</td>\n",
       "      <td>0.003788</td>\n",
       "      <td>0.013015</td>\n",
       "      <td>0.991935</td>\n",
       "      <td>0.656096</td>\n",
       "      <td>0.000000</td>\n",
       "      <td>0.000000</td>\n",
       "      <td>0.003650</td>\n",
       "      <td>0.004274</td>\n",
       "      <td>0.019783</td>\n",
       "      <td>0.025371</td>\n",
       "      <td>0.091580</td>\n",
       "      <td>0.008497</td>\n",
       "      <td>0.025538</td>\n",
       "      <td>0.028841</td>\n",
       "    </tr>\n",
       "    <tr>\n",
       "      <th>city</th>\n",
       "      <td>0.301298</td>\n",
       "      <td>0.073184</td>\n",
       "      <td>0.004237</td>\n",
       "      <td>0.035325</td>\n",
       "      <td>0.656096</td>\n",
       "      <td>0.957627</td>\n",
       "      <td>0.000000</td>\n",
       "      <td>0.017814</td>\n",
       "      <td>0.029073</td>\n",
       "      <td>0.017022</td>\n",
       "      <td>0.060249</td>\n",
       "      <td>0.055647</td>\n",
       "      <td>0.097458</td>\n",
       "      <td>0.013166</td>\n",
       "      <td>0.040414</td>\n",
       "      <td>0.038136</td>\n",
       "    </tr>\n",
       "    <tr>\n",
       "      <th>clouds</th>\n",
       "      <td>0.000000</td>\n",
       "      <td>0.014423</td>\n",
       "      <td>0.000000</td>\n",
       "      <td>0.000000</td>\n",
       "      <td>0.000000</td>\n",
       "      <td>0.000000</td>\n",
       "      <td>0.961538</td>\n",
       "      <td>0.000000</td>\n",
       "      <td>0.000000</td>\n",
       "      <td>0.000000</td>\n",
       "      <td>0.085337</td>\n",
       "      <td>0.259658</td>\n",
       "      <td>0.000000</td>\n",
       "      <td>0.787088</td>\n",
       "      <td>0.116263</td>\n",
       "      <td>0.128015</td>\n",
       "    </tr>\n",
       "    <tr>\n",
       "      <th>f-16</th>\n",
       "      <td>0.027935</td>\n",
       "      <td>0.022959</td>\n",
       "      <td>0.026515</td>\n",
       "      <td>0.258386</td>\n",
       "      <td>0.000000</td>\n",
       "      <td>0.017814</td>\n",
       "      <td>0.000000</td>\n",
       "      <td>0.969388</td>\n",
       "      <td>0.022605</td>\n",
       "      <td>0.187773</td>\n",
       "      <td>0.015625</td>\n",
       "      <td>0.050027</td>\n",
       "      <td>0.125649</td>\n",
       "      <td>0.005102</td>\n",
       "      <td>0.016129</td>\n",
       "      <td>0.029661</td>\n",
       "    </tr>\n",
       "    <tr>\n",
       "      <th>face</th>\n",
       "      <td>0.007196</td>\n",
       "      <td>0.007221</td>\n",
       "      <td>0.037464</td>\n",
       "      <td>0.015899</td>\n",
       "      <td>0.003650</td>\n",
       "      <td>0.029073</td>\n",
       "      <td>0.000000</td>\n",
       "      <td>0.022605</td>\n",
       "      <td>0.992701</td>\n",
       "      <td>0.007299</td>\n",
       "      <td>0.018761</td>\n",
       "      <td>0.050772</td>\n",
       "      <td>0.015774</td>\n",
       "      <td>0.008114</td>\n",
       "      <td>0.039950</td>\n",
       "      <td>0.024248</td>\n",
       "    </tr>\n",
       "    <tr>\n",
       "      <th>helicopter</th>\n",
       "      <td>0.003546</td>\n",
       "      <td>0.029976</td>\n",
       "      <td>0.008061</td>\n",
       "      <td>0.152958</td>\n",
       "      <td>0.004274</td>\n",
       "      <td>0.017022</td>\n",
       "      <td>0.000000</td>\n",
       "      <td>0.187773</td>\n",
       "      <td>0.007299</td>\n",
       "      <td>0.991453</td>\n",
       "      <td>0.028078</td>\n",
       "      <td>0.004425</td>\n",
       "      <td>0.097892</td>\n",
       "      <td>0.004464</td>\n",
       "      <td>0.010753</td>\n",
       "      <td>0.004237</td>\n",
       "    </tr>\n",
       "    <tr>\n",
       "      <th>mountain</th>\n",
       "      <td>0.188109</td>\n",
       "      <td>0.114174</td>\n",
       "      <td>0.000000</td>\n",
       "      <td>0.011719</td>\n",
       "      <td>0.019783</td>\n",
       "      <td>0.060249</td>\n",
       "      <td>0.085337</td>\n",
       "      <td>0.015625</td>\n",
       "      <td>0.018761</td>\n",
       "      <td>0.028078</td>\n",
       "      <td>0.929688</td>\n",
       "      <td>0.092955</td>\n",
       "      <td>0.019862</td>\n",
       "      <td>0.054688</td>\n",
       "      <td>0.092826</td>\n",
       "      <td>0.045617</td>\n",
       "    </tr>\n",
       "    <tr>\n",
       "      <th>ocean</th>\n",
       "      <td>0.319808</td>\n",
       "      <td>0.245480</td>\n",
       "      <td>0.045488</td>\n",
       "      <td>0.066897</td>\n",
       "      <td>0.025371</td>\n",
       "      <td>0.055647</td>\n",
       "      <td>0.259658</td>\n",
       "      <td>0.050027</td>\n",
       "      <td>0.050772</td>\n",
       "      <td>0.004425</td>\n",
       "      <td>0.092955</td>\n",
       "      <td>0.805310</td>\n",
       "      <td>0.108182</td>\n",
       "      <td>0.271057</td>\n",
       "      <td>0.156818</td>\n",
       "      <td>0.162517</td>\n",
       "    </tr>\n",
       "    <tr>\n",
       "      <th>ships</th>\n",
       "      <td>0.077143</td>\n",
       "      <td>0.022760</td>\n",
       "      <td>0.007576</td>\n",
       "      <td>0.059322</td>\n",
       "      <td>0.091580</td>\n",
       "      <td>0.097458</td>\n",
       "      <td>0.000000</td>\n",
       "      <td>0.125649</td>\n",
       "      <td>0.015774</td>\n",
       "      <td>0.097892</td>\n",
       "      <td>0.019862</td>\n",
       "      <td>0.108182</td>\n",
       "      <td>0.906780</td>\n",
       "      <td>0.000000</td>\n",
       "      <td>0.022325</td>\n",
       "      <td>0.004237</td>\n",
       "    </tr>\n",
       "    <tr>\n",
       "      <th>sky</th>\n",
       "      <td>0.033878</td>\n",
       "      <td>0.030357</td>\n",
       "      <td>0.003788</td>\n",
       "      <td>0.013879</td>\n",
       "      <td>0.008497</td>\n",
       "      <td>0.013166</td>\n",
       "      <td>0.787088</td>\n",
       "      <td>0.005102</td>\n",
       "      <td>0.008114</td>\n",
       "      <td>0.004464</td>\n",
       "      <td>0.054688</td>\n",
       "      <td>0.271057</td>\n",
       "      <td>0.000000</td>\n",
       "      <td>0.875000</td>\n",
       "      <td>0.302227</td>\n",
       "      <td>0.317040</td>\n",
       "    </tr>\n",
       "    <tr>\n",
       "      <th>sunrise</th>\n",
       "      <td>0.055251</td>\n",
       "      <td>0.105645</td>\n",
       "      <td>0.012952</td>\n",
       "      <td>0.010753</td>\n",
       "      <td>0.025538</td>\n",
       "      <td>0.040414</td>\n",
       "      <td>0.116263</td>\n",
       "      <td>0.016129</td>\n",
       "      <td>0.039950</td>\n",
       "      <td>0.010753</td>\n",
       "      <td>0.092826</td>\n",
       "      <td>0.156818</td>\n",
       "      <td>0.022325</td>\n",
       "      <td>0.302227</td>\n",
       "      <td>0.924731</td>\n",
       "      <td>0.901905</td>\n",
       "    </tr>\n",
       "    <tr>\n",
       "      <th>sunset</th>\n",
       "      <td>0.055866</td>\n",
       "      <td>0.094794</td>\n",
       "      <td>0.028313</td>\n",
       "      <td>0.004237</td>\n",
       "      <td>0.028841</td>\n",
       "      <td>0.038136</td>\n",
       "      <td>0.128015</td>\n",
       "      <td>0.029661</td>\n",
       "      <td>0.024248</td>\n",
       "      <td>0.004237</td>\n",
       "      <td>0.045617</td>\n",
       "      <td>0.162517</td>\n",
       "      <td>0.004237</td>\n",
       "      <td>0.317040</td>\n",
       "      <td>0.901905</td>\n",
       "      <td>0.864407</td>\n",
       "    </tr>\n",
       "  </tbody>\n",
       "</table>\n",
       "</div>"
      ],
      "text/plain": [
       "                 bay     beach     birds    boeing  buildings      city  \\\n",
       "bay         0.829787  0.626241  0.003788  0.024823   0.069321  0.301298   \n",
       "beach       0.626241  0.921429  0.000000  0.010714   0.025922  0.073184   \n",
       "birds       0.003788  0.000000  0.984848  0.018939   0.003788  0.004237   \n",
       "boeing      0.024823  0.010714  0.018939  0.990099   0.013015  0.035325   \n",
       "buildings   0.069321  0.025922  0.003788  0.013015   0.991935  0.656096   \n",
       "city        0.301298  0.073184  0.004237  0.035325   0.656096  0.957627   \n",
       "clouds      0.000000  0.014423  0.000000  0.000000   0.000000  0.000000   \n",
       "f-16        0.027935  0.022959  0.026515  0.258386   0.000000  0.017814   \n",
       "face        0.007196  0.007221  0.037464  0.015899   0.003650  0.029073   \n",
       "helicopter  0.003546  0.029976  0.008061  0.152958   0.004274  0.017022   \n",
       "mountain    0.188109  0.114174  0.000000  0.011719   0.019783  0.060249   \n",
       "ocean       0.319808  0.245480  0.045488  0.066897   0.025371  0.055647   \n",
       "ships       0.077143  0.022760  0.007576  0.059322   0.091580  0.097458   \n",
       "sky         0.033878  0.030357  0.003788  0.013879   0.008497  0.013166   \n",
       "sunrise     0.055251  0.105645  0.012952  0.010753   0.025538  0.040414   \n",
       "sunset      0.055866  0.094794  0.028313  0.004237   0.028841  0.038136   \n",
       "\n",
       "              clouds      f-16      face  helicopter  mountain     ocean  \\\n",
       "bay         0.000000  0.027935  0.007196    0.003546  0.188109  0.319808   \n",
       "beach       0.014423  0.022959  0.007221    0.029976  0.114174  0.245480   \n",
       "birds       0.000000  0.026515  0.037464    0.008061  0.000000  0.045488   \n",
       "boeing      0.000000  0.258386  0.015899    0.152958  0.011719  0.066897   \n",
       "buildings   0.000000  0.000000  0.003650    0.004274  0.019783  0.025371   \n",
       "city        0.000000  0.017814  0.029073    0.017022  0.060249  0.055647   \n",
       "clouds      0.961538  0.000000  0.000000    0.000000  0.085337  0.259658   \n",
       "f-16        0.000000  0.969388  0.022605    0.187773  0.015625  0.050027   \n",
       "face        0.000000  0.022605  0.992701    0.007299  0.018761  0.050772   \n",
       "helicopter  0.000000  0.187773  0.007299    0.991453  0.028078  0.004425   \n",
       "mountain    0.085337  0.015625  0.018761    0.028078  0.929688  0.092955   \n",
       "ocean       0.259658  0.050027  0.050772    0.004425  0.092955  0.805310   \n",
       "ships       0.000000  0.125649  0.015774    0.097892  0.019862  0.108182   \n",
       "sky         0.787088  0.005102  0.008114    0.004464  0.054688  0.271057   \n",
       "sunrise     0.116263  0.016129  0.039950    0.010753  0.092826  0.156818   \n",
       "sunset      0.128015  0.029661  0.024248    0.004237  0.045617  0.162517   \n",
       "\n",
       "               ships       sky   sunrise    sunset  \n",
       "bay         0.077143  0.033878  0.055251  0.055866  \n",
       "beach       0.022760  0.030357  0.105645  0.094794  \n",
       "birds       0.007576  0.003788  0.012952  0.028313  \n",
       "boeing      0.059322  0.013879  0.010753  0.004237  \n",
       "buildings   0.091580  0.008497  0.025538  0.028841  \n",
       "city        0.097458  0.013166  0.040414  0.038136  \n",
       "clouds      0.000000  0.787088  0.116263  0.128015  \n",
       "f-16        0.125649  0.005102  0.016129  0.029661  \n",
       "face        0.015774  0.008114  0.039950  0.024248  \n",
       "helicopter  0.097892  0.004464  0.010753  0.004237  \n",
       "mountain    0.019862  0.054688  0.092826  0.045617  \n",
       "ocean       0.108182  0.271057  0.156818  0.162517  \n",
       "ships       0.906780  0.000000  0.022325  0.004237  \n",
       "sky         0.000000  0.875000  0.302227  0.317040  \n",
       "sunrise     0.022325  0.302227  0.924731  0.901905  \n",
       "sunset      0.004237  0.317040  0.901905  0.864407  "
      ]
     },
     "execution_count": 35,
     "metadata": {},
     "output_type": "execute_result"
    }
   ],
   "source": [
    "simdf"
   ]
  },
  {
   "cell_type": "code",
   "execution_count": null,
   "metadata": {},
   "outputs": [],
   "source": []
  },
  {
   "cell_type": "code",
   "execution_count": null,
   "metadata": {
    "collapsed": true
   },
   "outputs": [],
   "source": []
  }
 ],
 "metadata": {
  "kernelspec": {
   "display_name": "Python 3",
   "language": "python",
   "name": "python3"
  },
  "language_info": {
   "codemirror_mode": {
    "name": "ipython",
    "version": 3
   },
   "file_extension": ".py",
   "mimetype": "text/x-python",
   "name": "python",
   "nbconvert_exporter": "python",
   "pygments_lexer": "ipython3",
   "version": "3.5.2"
  }
 },
 "nbformat": 4,
 "nbformat_minor": 2
}
