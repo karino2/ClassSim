{
 "cells": [
  {
   "cell_type": "markdown",
   "metadata": {},
   "source": [
    "# Calculate similarity between category based on 1 vs all classifier\n"
   ]
  },
  {
   "cell_type": "markdown",
   "metadata": {},
   "source": [
    "## 1. Set up"
   ]
  },
  {
   "cell_type": "code",
   "execution_count": 1,
   "metadata": {},
   "outputs": [],
   "source": [
    "import os\n",
    "import json\n",
    "import glob\n",
    "import scipy\n",
    "import numpy as np\n",
    "\n",
    "import pandas as pd\n",
    "import glob"
   ]
  },
  {
   "cell_type": "code",
   "execution_count": null,
   "metadata": {},
   "outputs": [],
   "source": []
  },
  {
   "cell_type": "code",
   "execution_count": 2,
   "metadata": {},
   "outputs": [],
   "source": [
    "!mkdir -p results"
   ]
  },
  {
   "cell_type": "code",
   "execution_count": 3,
   "metadata": {},
   "outputs": [],
   "source": [
    "VALID_DF_PATH = \"results/valid_df.dat\"\n",
    "VALID_SIMILARITY_DICT_PATH=\"results/valid_sim_df.dat\""
   ]
  },
  {
   "cell_type": "code",
   "execution_count": null,
   "metadata": {},
   "outputs": [],
   "source": []
  },
  {
   "cell_type": "code",
   "execution_count": 4,
   "metadata": {},
   "outputs": [],
   "source": [
    "BASE_MODEL_PATH=\"trained_model\""
   ]
  },
  {
   "cell_type": "code",
   "execution_count": 5,
   "metadata": {},
   "outputs": [
    {
     "name": "stderr",
     "output_type": "stream",
     "text": [
      "Using TensorFlow backend.\n"
     ]
    }
   ],
   "source": [
    "from models.modelutils import dir2filedict, split_fdict\n",
    "import random"
   ]
  },
  {
   "cell_type": "code",
   "execution_count": null,
   "metadata": {},
   "outputs": [],
   "source": []
  },
  {
   "cell_type": "code",
   "execution_count": 6,
   "metadata": {},
   "outputs": [],
   "source": [
    "fdict_all = dir2filedict(\"data\")"
   ]
  },
  {
   "cell_type": "code",
   "execution_count": 7,
   "metadata": {},
   "outputs": [],
   "source": [
    "catkeys = sorted(fdict_all.keys())"
   ]
  },
  {
   "cell_type": "code",
   "execution_count": null,
   "metadata": {},
   "outputs": [],
   "source": [
    "trdict, testdict = split_fdict(fdict, test_size=0.2, random_state = 123)\n",
    "trdict, valdict = split_fdict(trdict, test_size=0.2, random_state = 456)"
   ]
  },
  {
   "cell_type": "code",
   "execution_count": 8,
   "metadata": {},
   "outputs": [],
   "source": [
    "valdict['clouds'][0:5]"
   ]
  },
  {
   "cell_type": "raw",
   "metadata": {},
   "source": [
    "# Here is expected output. The result might be different due to files excluded for GMM, but all the output of\n",
    "# train.ipynb, classifier_similarity.ipynb, train_second.ipynb must be the same.\n",
    "\n",
    "['data/clouds/0678.jpeg',\n",
    " 'data/clouds/0701.jpeg',\n",
    " 'data/clouds/0431.jpeg',\n",
    " 'data/clouds/0033.jpeg',\n",
    " 'data/clouds/0290.jpeg']"
   ]
  },
  {
   "cell_type": "code",
   "execution_count": null,
   "metadata": {},
   "outputs": [],
   "source": []
  },
  {
   "cell_type": "code",
   "execution_count": 9,
   "metadata": {},
   "outputs": [],
   "source": [
    "# target is validation set.\n",
    "fdict = valdict"
   ]
  },
  {
   "cell_type": "markdown",
   "metadata": {},
   "source": [
    "## Calc similarity and store df"
   ]
  },
  {
   "cell_type": "code",
   "execution_count": 10,
   "metadata": {},
   "outputs": [],
   "source": [
    "from models.modelutils import load_best_model_if_exist\n",
    "import os\n",
    "from models.processor import DataSet"
   ]
  },
  {
   "cell_type": "code",
   "execution_count": null,
   "metadata": {},
   "outputs": [],
   "source": []
  },
  {
   "cell_type": "code",
   "execution_count": 11,
   "metadata": {},
   "outputs": [],
   "source": [
    "class ModelBinder:\n",
    "    def __init__(self, base_model_name, basedir):\n",
    "        self.base_model_name = base_model_name\n",
    "        self.basedir = basedir\n",
    "        self._models = {}\n",
    "        self.verbose = True\n",
    "        self.ds = DataSet()\n",
    "        self.chunk_size = 3000\n",
    "    def predict_chunks(self, chunked_paths):\n",
    "        datas = self.ds.files_to_dataset(chunked_paths)\n",
    "        models = self._models\n",
    "        return {key: models[key].predict(datas)[:, 1] for key in models.keys()}\n",
    "    def predict_files(self, flist):\n",
    "        chunked_paths = self.ds.chunked(flist, self.chunk_size)\n",
    "        \n",
    "        models = self._models\n",
    "        preddictlist =  [self.predict_chunks(chunk) for chunk in chunked_paths]\n",
    "        preddict = {key:[] for key in models.keys()}\n",
    "        for onedict in preddictlist:\n",
    "            for key in models.keys():\n",
    "                preddict[key].extend(onedict[key])\n",
    "        return preddict\n",
    "\n",
    "    def model_path(self, target_key):\n",
    "        return os.path.join(self.basedir, \"{}_{}\".format(self.base_model_name, target_key))\n",
    "\n",
    "    def get_or_load_model(self, target_key):\n",
    "        if target_key in self._models:\n",
    "            return self._models[target_key]\n",
    "        self.notify(\"load {}\".format(target_key))\n",
    "        self._models[target_key] = load_best_model_if_exist(self.model_path(target_key))\n",
    "        return self._models[target_key]\n",
    "\n",
    "    def notify(self, msg):\n",
    "        if self.verbose:\n",
    "            print(msg)\n",
    "\n",
    "    def load_all_models(self, keys):\n",
    "        list(map(self.get_or_load_model, keys))\n",
    "\n",
    "\n",
    "    def predict(self, files):\n",
    "        preddict = self.predict_files(files)\n",
    "        preddict[\"filepaths\"] = files\n",
    "        return pd.DataFrame(preddict)\n",
    "\n",
    "\n",
    "    def add_argmax_max(self, df):\n",
    "        catkeys = list(self._models.keys())\n",
    "        df['argmax'] = df[df.columns[:len(catkeys)]].idxmax(axis=1)\n",
    "        df['max'] = df[df.columns[0:len(catkeys)]].max(axis=1)\n",
    "\n"
   ]
  },
  {
   "cell_type": "code",
   "execution_count": 12,
   "metadata": {},
   "outputs": [],
   "source": [
    "\n",
    "def ModelBinder_create(base_model_name = \"model\", basedir = BASE_MODEL_PATH):\n",
    "    return ModelBinder(base_model_name, basedir)"
   ]
  },
  {
   "cell_type": "code",
   "execution_count": null,
   "metadata": {
    "collapsed": true
   },
   "outputs": [],
   "source": []
  },
  {
   "cell_type": "markdown",
   "metadata": {
    "collapsed": true
   },
   "source": [
    "## Predict score and store to df"
   ]
  },
  {
   "cell_type": "code",
   "execution_count": 13,
   "metadata": {},
   "outputs": [],
   "source": [
    "ftuppls = [(key, file) for key in fdict.keys() for file in fdict[key]]"
   ]
  },
  {
   "cell_type": "code",
   "execution_count": null,
   "metadata": {},
   "outputs": [],
   "source": []
  },
  {
   "cell_type": "code",
   "execution_count": 14,
   "metadata": {},
   "outputs": [],
   "source": [
    "labels = [tup[0] for tup in ftuppls]"
   ]
  },
  {
   "cell_type": "code",
   "execution_count": 15,
   "metadata": {},
   "outputs": [],
   "source": [
    "paths = [tup[1] for tup in ftuppls]"
   ]
  },
  {
   "cell_type": "code",
   "execution_count": 16,
   "metadata": {},
   "outputs": [
    {
     "data": {
      "text/plain": [
       "(1187, 1187)"
      ]
     },
     "execution_count": 16,
     "metadata": {},
     "output_type": "execute_result"
    }
   ],
   "source": [
    "len(labels), len(paths)"
   ]
  },
  {
   "cell_type": "code",
   "execution_count": null,
   "metadata": {},
   "outputs": [],
   "source": []
  },
  {
   "cell_type": "code",
   "execution_count": 17,
   "metadata": {},
   "outputs": [],
   "source": [
    "binder = ModelBinder_create()"
   ]
  },
  {
   "cell_type": "code",
   "execution_count": null,
   "metadata": {},
   "outputs": [],
   "source": []
  },
  {
   "cell_type": "code",
   "execution_count": 21,
   "metadata": {},
   "outputs": [
    {
     "name": "stdout",
     "output_type": "stream",
     "text": [
      "load bay\n",
      "load beach\n",
      "load birds\n",
      "load boeing\n",
      "load buildings\n",
      "load city\n",
      "load clouds\n",
      "load f-16\n",
      "load face\n",
      "load helicopter\n",
      "load mountain\n",
      "load ocean\n",
      "load ships\n",
      "load sky\n",
      "load sunrise\n",
      "load sunset\n"
     ]
    }
   ],
   "source": [
    "binder.load_all_models(catkeys)"
   ]
  },
  {
   "cell_type": "code",
   "execution_count": 52,
   "metadata": {},
   "outputs": [],
   "source": [
    "# binder._models = ens._models"
   ]
  },
  {
   "cell_type": "code",
   "execution_count": 22,
   "metadata": {},
   "outputs": [
    {
     "name": "stdout",
     "output_type": "stream",
     "text": [
      "CPU times: user 5min 9s, sys: 15 s, total: 5min 24s\n",
      "Wall time: 7min 26s\n"
     ]
    }
   ],
   "source": [
    "%%time\n",
    "df = binder.predict(paths)"
   ]
  },
  {
   "cell_type": "code",
   "execution_count": 23,
   "metadata": {},
   "outputs": [],
   "source": [
    "df['label'] = labels"
   ]
  },
  {
   "cell_type": "code",
   "execution_count": 24,
   "metadata": {},
   "outputs": [],
   "source": [
    "df.to_pickle(VALID_DF_PATH)"
   ]
  },
  {
   "cell_type": "code",
   "execution_count": null,
   "metadata": {
    "collapsed": true
   },
   "outputs": [],
   "source": []
  },
  {
   "cell_type": "code",
   "execution_count": null,
   "metadata": {
    "collapsed": true
   },
   "outputs": [],
   "source": []
  },
  {
   "cell_type": "markdown",
   "metadata": {
    "collapsed": true
   },
   "source": [
    "## Calculate similarity from score df"
   ]
  },
  {
   "cell_type": "code",
   "execution_count": 18,
   "metadata": {},
   "outputs": [],
   "source": [
    "class SimilarityCalculator:\n",
    "    def __init__(self, df, thrshold=0.5):\n",
    "        self.df = df\n",
    "        self.rmiss = {}\n",
    "        self.thrshold = thrshold\n",
    "        self.cats = [key for key in df.columns.values if key != \"filepaths\" and key !=\"label\"]\n",
    "        self.catidxs = [list(df.columns).index(key) for key in self.cats]\n",
    "    def combinekey(self, fromkey, tokey):\n",
    "        return \"{0}~{1}\".format(fromkey, tokey)\n",
    "    def saveAll(self):\n",
    "        for key in self.cats:\n",
    "            self.saveNaxx(key)\n",
    "    def saveNaxx(self, fromkey):\n",
    "        targetdf = self.df[self.df['label'] == fromkey]\n",
    "        \n",
    "        Nab = (targetdf[targetdf.columns[self.catidxs]] > self.thrshold).sum()\n",
    "        Na = len(targetdf)\n",
    "        \n",
    "        Nab_a = Nab/Na\n",
    "        \n",
    "        otherkeys = Nab_a.index\n",
    "        list(map(lambda otherkey: self.add(fromkey, otherkey, Nab_a[otherkey]), otherkeys))\n",
    "\n",
    "        \n",
    "    def add(self, fromkey, tokey, val):\n",
    "        key = self.combinekey(fromkey, tokey)\n",
    "        self.rmiss.setdefault(key, 0)\n",
    "        self.rmiss[key] += val\n",
    "    def similarity(self, fromkey, tokey):\n",
    "        key1 = self.combinekey(fromkey, tokey)\n",
    "        key2 = self.combinekey(tokey, fromkey)\n",
    "        return (self.rmiss[key1] + self.rmiss[key2])/2\n",
    "        \n"
   ]
  },
  {
   "cell_type": "code",
   "execution_count": 20,
   "metadata": {},
   "outputs": [],
   "source": [
    "sim = SimilarityCalculator(df)"
   ]
  },
  {
   "cell_type": "code",
   "execution_count": 39,
   "metadata": {},
   "outputs": [],
   "source": [
    "sim.saveAll()"
   ]
  },
  {
   "cell_type": "code",
   "execution_count": 40,
   "metadata": {},
   "outputs": [],
   "source": [
    "# keys = df.columns[:-2]\n",
    "keys = sim.cats"
   ]
  },
  {
   "cell_type": "code",
   "execution_count": 41,
   "metadata": {},
   "outputs": [],
   "source": [
    "import itertools"
   ]
  },
  {
   "cell_type": "code",
   "execution_count": 42,
   "metadata": {
    "scrolled": true
   },
   "outputs": [
    {
     "data": {
      "text/plain": [
       "120"
      ]
     },
     "execution_count": 42,
     "metadata": {},
     "output_type": "execute_result"
    }
   ],
   "source": [
    "len(list(itertools.combinations(keys, 2)))"
   ]
  },
  {
   "cell_type": "code",
   "execution_count": 43,
   "metadata": {},
   "outputs": [],
   "source": [
    "simdict = {key1: [sim.similarity(key1, key2) for key2 in keys] for key1 in keys}"
   ]
  },
  {
   "cell_type": "code",
   "execution_count": 44,
   "metadata": {},
   "outputs": [],
   "source": [
    "simdf = pd.DataFrame(simdict)"
   ]
  },
  {
   "cell_type": "code",
   "execution_count": 45,
   "metadata": {},
   "outputs": [],
   "source": [
    "simdf.index = keys"
   ]
  },
  {
   "cell_type": "code",
   "execution_count": null,
   "metadata": {},
   "outputs": [],
   "source": []
  },
  {
   "cell_type": "code",
   "execution_count": 46,
   "metadata": {},
   "outputs": [],
   "source": [
    "simdf.to_pickle(VALID_SIMILARITY_DICT_PATH)"
   ]
  },
  {
   "cell_type": "code",
   "execution_count": null,
   "metadata": {},
   "outputs": [],
   "source": []
  },
  {
   "cell_type": "code",
   "execution_count": 47,
   "metadata": {},
   "outputs": [
    {
     "data": {
      "text/html": [
       "<div>\n",
       "<style scoped>\n",
       "    .dataframe tbody tr th:only-of-type {\n",
       "        vertical-align: middle;\n",
       "    }\n",
       "\n",
       "    .dataframe tbody tr th {\n",
       "        vertical-align: top;\n",
       "    }\n",
       "\n",
       "    .dataframe thead th {\n",
       "        text-align: right;\n",
       "    }\n",
       "</style>\n",
       "<table border=\"1\" class=\"dataframe\">\n",
       "  <thead>\n",
       "    <tr style=\"text-align: right;\">\n",
       "      <th></th>\n",
       "      <th>bay</th>\n",
       "      <th>beach</th>\n",
       "      <th>birds</th>\n",
       "      <th>boeing</th>\n",
       "      <th>buildings</th>\n",
       "      <th>city</th>\n",
       "      <th>clouds</th>\n",
       "      <th>f-16</th>\n",
       "      <th>face</th>\n",
       "      <th>helicopter</th>\n",
       "      <th>mountain</th>\n",
       "      <th>ocean</th>\n",
       "      <th>ships</th>\n",
       "      <th>sky</th>\n",
       "      <th>sunrise</th>\n",
       "      <th>sunset</th>\n",
       "    </tr>\n",
       "  </thead>\n",
       "  <tbody>\n",
       "    <tr>\n",
       "      <th>bay</th>\n",
       "      <td>0.852273</td>\n",
       "      <td>0.560345</td>\n",
       "      <td>0.005682</td>\n",
       "      <td>0.000000</td>\n",
       "      <td>0.029866</td>\n",
       "      <td>0.226044</td>\n",
       "      <td>0.000000</td>\n",
       "      <td>0.000000</td>\n",
       "      <td>0.011364</td>\n",
       "      <td>0.006757</td>\n",
       "      <td>0.172159</td>\n",
       "      <td>0.149968</td>\n",
       "      <td>0.013514</td>\n",
       "      <td>0.000000</td>\n",
       "      <td>0.034483</td>\n",
       "      <td>0.017045</td>\n",
       "    </tr>\n",
       "    <tr>\n",
       "      <th>beach</th>\n",
       "      <td>0.560345</td>\n",
       "      <td>0.873563</td>\n",
       "      <td>0.005747</td>\n",
       "      <td>0.000000</td>\n",
       "      <td>0.011494</td>\n",
       "      <td>0.047996</td>\n",
       "      <td>0.015385</td>\n",
       "      <td>0.000000</td>\n",
       "      <td>0.000000</td>\n",
       "      <td>0.006757</td>\n",
       "      <td>0.067744</td>\n",
       "      <td>0.238384</td>\n",
       "      <td>0.018251</td>\n",
       "      <td>0.014286</td>\n",
       "      <td>0.017241</td>\n",
       "      <td>0.082790</td>\n",
       "    </tr>\n",
       "    <tr>\n",
       "      <th>birds</th>\n",
       "      <td>0.005682</td>\n",
       "      <td>0.005747</td>\n",
       "      <td>1.000000</td>\n",
       "      <td>0.000000</td>\n",
       "      <td>0.000000</td>\n",
       "      <td>0.006757</td>\n",
       "      <td>0.007692</td>\n",
       "      <td>0.000000</td>\n",
       "      <td>0.011628</td>\n",
       "      <td>0.000000</td>\n",
       "      <td>0.000000</td>\n",
       "      <td>0.048278</td>\n",
       "      <td>0.000000</td>\n",
       "      <td>0.000000</td>\n",
       "      <td>0.000000</td>\n",
       "      <td>0.006757</td>\n",
       "    </tr>\n",
       "    <tr>\n",
       "      <th>boeing</th>\n",
       "      <td>0.000000</td>\n",
       "      <td>0.000000</td>\n",
       "      <td>0.000000</td>\n",
       "      <td>0.952381</td>\n",
       "      <td>0.007937</td>\n",
       "      <td>0.015873</td>\n",
       "      <td>0.000000</td>\n",
       "      <td>0.179287</td>\n",
       "      <td>0.000000</td>\n",
       "      <td>0.055234</td>\n",
       "      <td>0.000000</td>\n",
       "      <td>0.043148</td>\n",
       "      <td>0.037323</td>\n",
       "      <td>0.000000</td>\n",
       "      <td>0.000000</td>\n",
       "      <td>0.000000</td>\n",
       "    </tr>\n",
       "    <tr>\n",
       "      <th>buildings</th>\n",
       "      <td>0.029866</td>\n",
       "      <td>0.011494</td>\n",
       "      <td>0.000000</td>\n",
       "      <td>0.007937</td>\n",
       "      <td>0.961538</td>\n",
       "      <td>0.564103</td>\n",
       "      <td>0.000000</td>\n",
       "      <td>0.000000</td>\n",
       "      <td>0.005814</td>\n",
       "      <td>0.013514</td>\n",
       "      <td>0.012500</td>\n",
       "      <td>0.007042</td>\n",
       "      <td>0.027027</td>\n",
       "      <td>0.007143</td>\n",
       "      <td>0.017241</td>\n",
       "      <td>0.013167</td>\n",
       "    </tr>\n",
       "    <tr>\n",
       "      <th>city</th>\n",
       "      <td>0.226044</td>\n",
       "      <td>0.047996</td>\n",
       "      <td>0.006757</td>\n",
       "      <td>0.015873</td>\n",
       "      <td>0.564103</td>\n",
       "      <td>0.905405</td>\n",
       "      <td>0.000000</td>\n",
       "      <td>0.016393</td>\n",
       "      <td>0.006757</td>\n",
       "      <td>0.013514</td>\n",
       "      <td>0.064020</td>\n",
       "      <td>0.034640</td>\n",
       "      <td>0.033784</td>\n",
       "      <td>0.000000</td>\n",
       "      <td>0.054753</td>\n",
       "      <td>0.033784</td>\n",
       "    </tr>\n",
       "    <tr>\n",
       "      <th>clouds</th>\n",
       "      <td>0.000000</td>\n",
       "      <td>0.015385</td>\n",
       "      <td>0.007692</td>\n",
       "      <td>0.000000</td>\n",
       "      <td>0.000000</td>\n",
       "      <td>0.000000</td>\n",
       "      <td>0.953846</td>\n",
       "      <td>0.000000</td>\n",
       "      <td>0.000000</td>\n",
       "      <td>0.000000</td>\n",
       "      <td>0.050962</td>\n",
       "      <td>0.137703</td>\n",
       "      <td>0.000000</td>\n",
       "      <td>0.722527</td>\n",
       "      <td>0.091114</td>\n",
       "      <td>0.092516</td>\n",
       "    </tr>\n",
       "    <tr>\n",
       "      <th>f-16</th>\n",
       "      <td>0.000000</td>\n",
       "      <td>0.000000</td>\n",
       "      <td>0.000000</td>\n",
       "      <td>0.179287</td>\n",
       "      <td>0.000000</td>\n",
       "      <td>0.016393</td>\n",
       "      <td>0.000000</td>\n",
       "      <td>0.967213</td>\n",
       "      <td>0.008197</td>\n",
       "      <td>0.072331</td>\n",
       "      <td>0.006250</td>\n",
       "      <td>0.007042</td>\n",
       "      <td>0.061254</td>\n",
       "      <td>0.000000</td>\n",
       "      <td>0.000000</td>\n",
       "      <td>0.000000</td>\n",
       "    </tr>\n",
       "    <tr>\n",
       "      <th>face</th>\n",
       "      <td>0.011364</td>\n",
       "      <td>0.000000</td>\n",
       "      <td>0.011628</td>\n",
       "      <td>0.000000</td>\n",
       "      <td>0.005814</td>\n",
       "      <td>0.006757</td>\n",
       "      <td>0.000000</td>\n",
       "      <td>0.008197</td>\n",
       "      <td>0.976744</td>\n",
       "      <td>0.013514</td>\n",
       "      <td>0.006250</td>\n",
       "      <td>0.032755</td>\n",
       "      <td>0.005814</td>\n",
       "      <td>0.014286</td>\n",
       "      <td>0.014435</td>\n",
       "      <td>0.005814</td>\n",
       "    </tr>\n",
       "    <tr>\n",
       "      <th>helicopter</th>\n",
       "      <td>0.006757</td>\n",
       "      <td>0.006757</td>\n",
       "      <td>0.000000</td>\n",
       "      <td>0.055234</td>\n",
       "      <td>0.013514</td>\n",
       "      <td>0.013514</td>\n",
       "      <td>0.000000</td>\n",
       "      <td>0.072331</td>\n",
       "      <td>0.013514</td>\n",
       "      <td>0.959459</td>\n",
       "      <td>0.031757</td>\n",
       "      <td>0.006757</td>\n",
       "      <td>0.027027</td>\n",
       "      <td>0.007143</td>\n",
       "      <td>0.000000</td>\n",
       "      <td>0.006757</td>\n",
       "    </tr>\n",
       "    <tr>\n",
       "      <th>mountain</th>\n",
       "      <td>0.172159</td>\n",
       "      <td>0.067744</td>\n",
       "      <td>0.000000</td>\n",
       "      <td>0.000000</td>\n",
       "      <td>0.012500</td>\n",
       "      <td>0.064020</td>\n",
       "      <td>0.050962</td>\n",
       "      <td>0.006250</td>\n",
       "      <td>0.006250</td>\n",
       "      <td>0.031757</td>\n",
       "      <td>0.887500</td>\n",
       "      <td>0.088380</td>\n",
       "      <td>0.000000</td>\n",
       "      <td>0.014286</td>\n",
       "      <td>0.055603</td>\n",
       "      <td>0.044257</td>\n",
       "    </tr>\n",
       "    <tr>\n",
       "      <th>ocean</th>\n",
       "      <td>0.149968</td>\n",
       "      <td>0.238384</td>\n",
       "      <td>0.048278</td>\n",
       "      <td>0.043148</td>\n",
       "      <td>0.007042</td>\n",
       "      <td>0.034640</td>\n",
       "      <td>0.137703</td>\n",
       "      <td>0.007042</td>\n",
       "      <td>0.032755</td>\n",
       "      <td>0.006757</td>\n",
       "      <td>0.088380</td>\n",
       "      <td>0.732394</td>\n",
       "      <td>0.055482</td>\n",
       "      <td>0.063883</td>\n",
       "      <td>0.068116</td>\n",
       "      <td>0.076037</td>\n",
       "    </tr>\n",
       "    <tr>\n",
       "      <th>ships</th>\n",
       "      <td>0.013514</td>\n",
       "      <td>0.018251</td>\n",
       "      <td>0.000000</td>\n",
       "      <td>0.037323</td>\n",
       "      <td>0.027027</td>\n",
       "      <td>0.033784</td>\n",
       "      <td>0.000000</td>\n",
       "      <td>0.061254</td>\n",
       "      <td>0.005814</td>\n",
       "      <td>0.027027</td>\n",
       "      <td>0.000000</td>\n",
       "      <td>0.055482</td>\n",
       "      <td>0.878378</td>\n",
       "      <td>0.007143</td>\n",
       "      <td>0.022134</td>\n",
       "      <td>0.006757</td>\n",
       "    </tr>\n",
       "    <tr>\n",
       "      <th>sky</th>\n",
       "      <td>0.000000</td>\n",
       "      <td>0.014286</td>\n",
       "      <td>0.000000</td>\n",
       "      <td>0.000000</td>\n",
       "      <td>0.007143</td>\n",
       "      <td>0.000000</td>\n",
       "      <td>0.722527</td>\n",
       "      <td>0.000000</td>\n",
       "      <td>0.014286</td>\n",
       "      <td>0.007143</td>\n",
       "      <td>0.014286</td>\n",
       "      <td>0.063883</td>\n",
       "      <td>0.007143</td>\n",
       "      <td>0.585714</td>\n",
       "      <td>0.130049</td>\n",
       "      <td>0.177027</td>\n",
       "    </tr>\n",
       "    <tr>\n",
       "      <th>sunrise</th>\n",
       "      <td>0.034483</td>\n",
       "      <td>0.017241</td>\n",
       "      <td>0.000000</td>\n",
       "      <td>0.000000</td>\n",
       "      <td>0.017241</td>\n",
       "      <td>0.054753</td>\n",
       "      <td>0.091114</td>\n",
       "      <td>0.000000</td>\n",
       "      <td>0.014435</td>\n",
       "      <td>0.000000</td>\n",
       "      <td>0.055603</td>\n",
       "      <td>0.068116</td>\n",
       "      <td>0.022134</td>\n",
       "      <td>0.130049</td>\n",
       "      <td>0.810345</td>\n",
       "      <td>0.891193</td>\n",
       "    </tr>\n",
       "    <tr>\n",
       "      <th>sunset</th>\n",
       "      <td>0.017045</td>\n",
       "      <td>0.082790</td>\n",
       "      <td>0.006757</td>\n",
       "      <td>0.000000</td>\n",
       "      <td>0.013167</td>\n",
       "      <td>0.033784</td>\n",
       "      <td>0.092516</td>\n",
       "      <td>0.000000</td>\n",
       "      <td>0.005814</td>\n",
       "      <td>0.006757</td>\n",
       "      <td>0.044257</td>\n",
       "      <td>0.076037</td>\n",
       "      <td>0.006757</td>\n",
       "      <td>0.177027</td>\n",
       "      <td>0.891193</td>\n",
       "      <td>0.959459</td>\n",
       "    </tr>\n",
       "  </tbody>\n",
       "</table>\n",
       "</div>"
      ],
      "text/plain": [
       "                 bay     beach     birds    boeing  buildings      city  \\\n",
       "bay         0.852273  0.560345  0.005682  0.000000   0.029866  0.226044   \n",
       "beach       0.560345  0.873563  0.005747  0.000000   0.011494  0.047996   \n",
       "birds       0.005682  0.005747  1.000000  0.000000   0.000000  0.006757   \n",
       "boeing      0.000000  0.000000  0.000000  0.952381   0.007937  0.015873   \n",
       "buildings   0.029866  0.011494  0.000000  0.007937   0.961538  0.564103   \n",
       "city        0.226044  0.047996  0.006757  0.015873   0.564103  0.905405   \n",
       "clouds      0.000000  0.015385  0.007692  0.000000   0.000000  0.000000   \n",
       "f-16        0.000000  0.000000  0.000000  0.179287   0.000000  0.016393   \n",
       "face        0.011364  0.000000  0.011628  0.000000   0.005814  0.006757   \n",
       "helicopter  0.006757  0.006757  0.000000  0.055234   0.013514  0.013514   \n",
       "mountain    0.172159  0.067744  0.000000  0.000000   0.012500  0.064020   \n",
       "ocean       0.149968  0.238384  0.048278  0.043148   0.007042  0.034640   \n",
       "ships       0.013514  0.018251  0.000000  0.037323   0.027027  0.033784   \n",
       "sky         0.000000  0.014286  0.000000  0.000000   0.007143  0.000000   \n",
       "sunrise     0.034483  0.017241  0.000000  0.000000   0.017241  0.054753   \n",
       "sunset      0.017045  0.082790  0.006757  0.000000   0.013167  0.033784   \n",
       "\n",
       "              clouds      f-16      face  helicopter  mountain     ocean  \\\n",
       "bay         0.000000  0.000000  0.011364    0.006757  0.172159  0.149968   \n",
       "beach       0.015385  0.000000  0.000000    0.006757  0.067744  0.238384   \n",
       "birds       0.007692  0.000000  0.011628    0.000000  0.000000  0.048278   \n",
       "boeing      0.000000  0.179287  0.000000    0.055234  0.000000  0.043148   \n",
       "buildings   0.000000  0.000000  0.005814    0.013514  0.012500  0.007042   \n",
       "city        0.000000  0.016393  0.006757    0.013514  0.064020  0.034640   \n",
       "clouds      0.953846  0.000000  0.000000    0.000000  0.050962  0.137703   \n",
       "f-16        0.000000  0.967213  0.008197    0.072331  0.006250  0.007042   \n",
       "face        0.000000  0.008197  0.976744    0.013514  0.006250  0.032755   \n",
       "helicopter  0.000000  0.072331  0.013514    0.959459  0.031757  0.006757   \n",
       "mountain    0.050962  0.006250  0.006250    0.031757  0.887500  0.088380   \n",
       "ocean       0.137703  0.007042  0.032755    0.006757  0.088380  0.732394   \n",
       "ships       0.000000  0.061254  0.005814    0.027027  0.000000  0.055482   \n",
       "sky         0.722527  0.000000  0.014286    0.007143  0.014286  0.063883   \n",
       "sunrise     0.091114  0.000000  0.014435    0.000000  0.055603  0.068116   \n",
       "sunset      0.092516  0.000000  0.005814    0.006757  0.044257  0.076037   \n",
       "\n",
       "               ships       sky   sunrise    sunset  \n",
       "bay         0.013514  0.000000  0.034483  0.017045  \n",
       "beach       0.018251  0.014286  0.017241  0.082790  \n",
       "birds       0.000000  0.000000  0.000000  0.006757  \n",
       "boeing      0.037323  0.000000  0.000000  0.000000  \n",
       "buildings   0.027027  0.007143  0.017241  0.013167  \n",
       "city        0.033784  0.000000  0.054753  0.033784  \n",
       "clouds      0.000000  0.722527  0.091114  0.092516  \n",
       "f-16        0.061254  0.000000  0.000000  0.000000  \n",
       "face        0.005814  0.014286  0.014435  0.005814  \n",
       "helicopter  0.027027  0.007143  0.000000  0.006757  \n",
       "mountain    0.000000  0.014286  0.055603  0.044257  \n",
       "ocean       0.055482  0.063883  0.068116  0.076037  \n",
       "ships       0.878378  0.007143  0.022134  0.006757  \n",
       "sky         0.007143  0.585714  0.130049  0.177027  \n",
       "sunrise     0.022134  0.130049  0.810345  0.891193  \n",
       "sunset      0.006757  0.177027  0.891193  0.959459  "
      ]
     },
     "execution_count": 47,
     "metadata": {},
     "output_type": "execute_result"
    }
   ],
   "source": [
    "simdf"
   ]
  },
  {
   "cell_type": "code",
   "execution_count": null,
   "metadata": {
    "collapsed": true
   },
   "outputs": [],
   "source": []
  },
  {
   "cell_type": "code",
   "execution_count": null,
   "metadata": {
    "collapsed": true
   },
   "outputs": [],
   "source": []
  }
 ],
 "metadata": {
  "kernelspec": {
   "display_name": "Python 3",
   "language": "python",
   "name": "python3"
  },
  "language_info": {
   "codemirror_mode": {
    "name": "ipython",
    "version": 3
   },
   "file_extension": ".py",
   "mimetype": "text/x-python",
   "name": "python",
   "nbconvert_exporter": "python",
   "pygments_lexer": "ipython3",
   "version": "3.5.2"
  }
 },
 "nbformat": 4,
 "nbformat_minor": 2
}
