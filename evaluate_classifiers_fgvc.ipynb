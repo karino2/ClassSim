{
 "cells": [
  {
   "cell_type": "markdown",
   "metadata": {},
   "source": [
    "# Performance test of $two \\ level \\ model$.\n",
    "\n",
    "$two \\ level \\ model$ is composed of first set of OVR classifiers $f_{c, other}$ and secnd set of OVR classifiers $f^{(2)}_{c, other}$ .  \n",
    "We test the model using a classification task, which is compared to the results of a baseline model that uses only $f_{c, other}$ ."
   ]
  },
  {
   "cell_type": "code",
   "execution_count": null,
   "metadata": {},
   "outputs": [],
   "source": []
  },
  {
   "cell_type": "markdown",
   "metadata": {},
   "source": [
    "### Fix typo of fgcv->fgvc"
   ]
  },
  {
   "cell_type": "code",
   "execution_count": 5,
   "metadata": {},
   "outputs": [],
   "source": [
    "import glob, os"
   ]
  },
  {
   "cell_type": "code",
   "execution_count": 9,
   "metadata": {},
   "outputs": [],
   "source": [
    "for f in glob.iglob(\"trained_model/modelfgcv*\"):\n",
    "    os.rename(f, \"trained_model/modelfgvc\" + f[len('trained_model/modelfgcv'):])"
   ]
  },
  {
   "cell_type": "code",
   "execution_count": null,
   "metadata": {},
   "outputs": [],
   "source": []
  },
  {
   "cell_type": "markdown",
   "metadata": {},
   "source": [
    "## Set up"
   ]
  },
  {
   "cell_type": "code",
   "execution_count": 1,
   "metadata": {},
   "outputs": [],
   "source": [
    "import os\n",
    "import sys\n",
    "\n",
    "import numpy as np\n",
    "\n",
    "import pandas as pd\n",
    "import glob\n",
    "\n",
    "import warnings\n",
    "warnings.filterwarnings('ignore')"
   ]
  },
  {
   "cell_type": "code",
   "execution_count": 2,
   "metadata": {},
   "outputs": [
    {
     "name": "stderr",
     "output_type": "stream",
     "text": [
      "Using TensorFlow backend.\n"
     ]
    }
   ],
   "source": [
    "from models.modelutils import dir2filedict_sorted\n",
    "import random"
   ]
  },
  {
   "cell_type": "markdown",
   "metadata": {},
   "source": [
    "Load category and file path information."
   ]
  },
  {
   "cell_type": "code",
   "execution_count": 3,
   "metadata": {},
   "outputs": [],
   "source": [
    "testdict = dir2filedict_sorted(\"data_fgvc/test\")\n",
    "categories = [str(i) for i in range(0, 100)]"
   ]
  },
  {
   "cell_type": "markdown",
   "metadata": {},
   "source": [
    "Create (category, path) information of test datasets."
   ]
  },
  {
   "cell_type": "code",
   "execution_count": 29,
   "metadata": {},
   "outputs": [],
   "source": [
    "#for debug\n",
    "# org_testdict = testdict\n",
    "# categories = [str(i) for i in range(0, 5)]\n",
    "# testdict = {key: org_testdict[key] for key in categories}"
   ]
  },
  {
   "cell_type": "code",
   "execution_count": 5,
   "metadata": {},
   "outputs": [],
   "source": [
    "testtup = [(key, file) for key in categories for file in testdict[key] ]"
   ]
  },
  {
   "cell_type": "code",
   "execution_count": 6,
   "metadata": {},
   "outputs": [
    {
     "data": {
      "text/plain": [
       "166"
      ]
     },
     "execution_count": 6,
     "metadata": {},
     "output_type": "execute_result"
    }
   ],
   "source": [
    "len(testtup)"
   ]
  },
  {
   "cell_type": "markdown",
   "metadata": {},
   "source": [
    "Check the list."
   ]
  },
  {
   "cell_type": "code",
   "execution_count": 16,
   "metadata": {},
   "outputs": [
    {
     "data": {
      "text/plain": [
       "[('0', 'data_fgvc/test/0/0062765.jpg'),\n",
       " ('0', 'data_fgvc/test/0/0064932.jpg'),\n",
       " ('0', 'data_fgvc/test/0/0197342.jpg'),\n",
       " ('0', 'data_fgvc/test/0/0447936.jpg'),\n",
       " ('0', 'data_fgvc/test/0/0536515.jpg')]"
      ]
     },
     "execution_count": 16,
     "metadata": {},
     "output_type": "execute_result"
    }
   ],
   "source": [
    "testtup[0:5]"
   ]
  },
  {
   "cell_type": "markdown",
   "metadata": {},
   "source": [
    "Convert the list into a Pandas DataFrame for simple treatments."
   ]
  },
  {
   "cell_type": "code",
   "execution_count": 7,
   "metadata": {},
   "outputs": [],
   "source": [
    "testdf = pd.DataFrame({\"category\": [tup[0] for tup in testtup], \"files\": [tup[1] for tup in testtup]})"
   ]
  },
  {
   "cell_type": "code",
   "execution_count": 8,
   "metadata": {},
   "outputs": [],
   "source": [
    "testdf_shuffled=testdf.sample(frac=1, random_state=123).reset_index(drop=True)"
   ]
  },
  {
   "cell_type": "code",
   "execution_count": 19,
   "metadata": {},
   "outputs": [
    {
     "data": {
      "text/html": [
       "<div>\n",
       "<style scoped>\n",
       "    .dataframe tbody tr th:only-of-type {\n",
       "        vertical-align: middle;\n",
       "    }\n",
       "\n",
       "    .dataframe tbody tr th {\n",
       "        vertical-align: top;\n",
       "    }\n",
       "\n",
       "    .dataframe thead th {\n",
       "        text-align: right;\n",
       "    }\n",
       "</style>\n",
       "<table border=\"1\" class=\"dataframe\">\n",
       "  <thead>\n",
       "    <tr style=\"text-align: right;\">\n",
       "      <th></th>\n",
       "      <th>category</th>\n",
       "      <th>files</th>\n",
       "    </tr>\n",
       "  </thead>\n",
       "  <tbody>\n",
       "    <tr>\n",
       "      <th>0</th>\n",
       "      <td>13</td>\n",
       "      <td>data_fgvc/test/13/2233262.jpg</td>\n",
       "    </tr>\n",
       "    <tr>\n",
       "      <th>1</th>\n",
       "      <td>72</td>\n",
       "      <td>data_fgvc/test/72/1372357.jpg</td>\n",
       "    </tr>\n",
       "    <tr>\n",
       "      <th>2</th>\n",
       "      <td>53</td>\n",
       "      <td>data_fgvc/test/53/0773531.jpg</td>\n",
       "    </tr>\n",
       "    <tr>\n",
       "      <th>3</th>\n",
       "      <td>39</td>\n",
       "      <td>data_fgvc/test/39/1340322.jpg</td>\n",
       "    </tr>\n",
       "    <tr>\n",
       "      <th>4</th>\n",
       "      <td>13</td>\n",
       "      <td>data_fgvc/test/13/1313993.jpg</td>\n",
       "    </tr>\n",
       "  </tbody>\n",
       "</table>\n",
       "</div>"
      ],
      "text/plain": [
       "  category                          files\n",
       "0       13  data_fgvc/test/13/2233262.jpg\n",
       "1       72  data_fgvc/test/72/1372357.jpg\n",
       "2       53  data_fgvc/test/53/0773531.jpg\n",
       "3       39  data_fgvc/test/39/1340322.jpg\n",
       "4       13  data_fgvc/test/13/1313993.jpg"
      ]
     },
     "execution_count": 19,
     "metadata": {},
     "output_type": "execute_result"
    }
   ],
   "source": [
    "testdf_shuffled.head()"
   ]
  },
  {
   "cell_type": "raw",
   "metadata": {},
   "source": [
    "First level and second level must be the same order. (The same as below must be enough).\n",
    "\n",
    "    category\tfiles\n",
    "0\t13\tdata_fgvc/test/13/2233262.jpg\n",
    "1\t72\tdata_fgvc/test/72/1372357.jpg\n",
    "2\t53\tdata_fgvc/test/53/0773531.jpg\n",
    "3\t39\tdata_fgvc/test/39/1340322.jpg\n",
    "4\t13\tdata_fgvc/test/13/1313993.jpg"
   ]
  },
  {
   "cell_type": "code",
   "execution_count": null,
   "metadata": {},
   "outputs": [],
   "source": []
  },
  {
   "cell_type": "markdown",
   "metadata": {},
   "source": [
    "Define classes for $two \\ level \\ model$ ."
   ]
  },
  {
   "cell_type": "code",
   "execution_count": 9,
   "metadata": {},
   "outputs": [],
   "source": [
    "from models.modelutils import load_best_model_if_exist\n",
    "import os"
   ]
  },
  {
   "cell_type": "code",
   "execution_count": 10,
   "metadata": {},
   "outputs": [],
   "source": [
    "class ModelBinder:\n",
    "    def __init__(self, base_model_name, basedir, cats):\n",
    "        self.base_model_name = base_model_name\n",
    "        self.basedir = basedir\n",
    "        self._models = {}\n",
    "        self.verbose = True\n",
    "        self._categories = cats\n",
    "        self._OTHER_LABEL = \"other\"\n",
    "\n",
    "    @classmethod\n",
    "    def dup_from(cls, binder):\n",
    "        return ModelBinder(binder.base_model_name, binder.basedir, binder._categories)\n",
    "\n",
    "    def model_path(self, target_key):\n",
    "        return os.path.join(self.basedir, \"{}_{}\".format(self.base_model_name, target_key))\n",
    "\n",
    "    def get_or_load_model(self, target_key):\n",
    "        if target_key in self._models:\n",
    "            return self._models[target_key]\n",
    "        self.notify(\"load {}\".format(target_key))\n",
    "        self._models[target_key] = load_best_model_if_exist(self.model_path(target_key))\n",
    "        return self._models[target_key]\n",
    "\n",
    "    def notify(self, msg):\n",
    "        if self.verbose:\n",
    "            print(msg)\n",
    "\n",
    "    def load_all_models(self, keys):\n",
    "        list(map(self.get_or_load_model, keys))\n",
    "        \n",
    "    def predict_arrs(self, arrs):\n",
    "        models = self._models\n",
    "        preddict = {key: models[key].predict(arrs)[:, 1] for key in models.keys()}\n",
    "        return pd.DataFrame(preddict)\n",
    "    \n",
    "    def _row2class(self, rowdf, threshold):\n",
    "        for cat in self._categories:\n",
    "            if rowdf[cat] >= threshold:\n",
    "                return cat\n",
    "        return self._OTHER_LABEL\n",
    "\n",
    "    def df2classes(self, df, threshold = 0.5):\n",
    "        res = []\n",
    "        for i in range(len(df)):\n",
    "            rowdf = df.iloc[i, :]\n",
    "            res.append(self._row2class(rowdf, threshold))\n",
    "        return res"
   ]
  },
  {
   "cell_type": "code",
   "execution_count": 11,
   "metadata": {},
   "outputs": [],
   "source": [
    "class TwoLevelModel:\n",
    "    def __init__(self, categories, h1binder, otherlabel=\"OTHER\"):\n",
    "        self._categories = categories\n",
    "        self._h1binder = h1binder\n",
    "        self._OTHERCLASS = -1\n",
    "        self._OTHERLABEL = otherlabel\n",
    "        self._FIRST_THRESHOLD = 0.5\n",
    "        self._SECOND_THRESHOLD = 0.5\n",
    "\n",
    "    def load_all(self):\n",
    "        catkeys = self._categories\n",
    "        self._h1binder.load_all_models([\"sec_\" + cat for cat in catkeys])\n",
    "\n",
    "    def predict_arrs(self, arrs, firstdf):\n",
    "        df = self._predict_arrs(arrs, firstdf)\n",
    "        self._df = df\n",
    "        return self._h1binder.df2classes(df, self._SECOND_THRESHOLD)\n",
    "\n",
    "    def _predict_arrs(self, arrs, firstdf):\n",
    "        # firstdf = pd.DataFrame(self._h2binder.predict_arrs(arrs))\n",
    "\n",
    "        resultdf = pd.DataFrame(np.zeros(firstdf.shape))\n",
    "        resultdf.columns = firstdf.columns\n",
    "\n",
    "        for targetkey in self._categories:\n",
    "\n",
    "            df = self._predict_second(targetkey, arrs, firstdf)\n",
    "            if df is not None:\n",
    "                resultdf.loc[df['orgindex'], targetkey] = df[targetkey].values\n",
    "\n",
    "        return resultdf\n",
    "\n",
    "    def _predict_second(self, targetcat, arrs, firstdf):\n",
    "        filtered = firstdf[firstdf[targetcat] > self._FIRST_THRESHOLD]\n",
    "\n",
    "        if len(filtered) == 0:\n",
    "            return None\n",
    "\n",
    "        farrs = arrs[filtered.index, :]\n",
    "        model = self._h1binder.get_or_load_model('sec_' + targetcat)\n",
    "\n",
    "        # no second level classifier, all score is already enough.\n",
    "        if model == None:\n",
    "            return pd.DataFrame({targetcat: np.ones(len(filtered.index)), 'orgindex': filtered.index})\n",
    "\n",
    "        res = model.predict(farrs)\n",
    "        scores = res[:, 1]\n",
    "\n",
    "        return pd.DataFrame({targetcat: scores, 'orgindex': filtered.index})"
   ]
  },
  {
   "cell_type": "code",
   "execution_count": null,
   "metadata": {},
   "outputs": [],
   "source": []
  },
  {
   "cell_type": "code",
   "execution_count": 12,
   "metadata": {},
   "outputs": [],
   "source": [
    "from models.processor import DataSet"
   ]
  },
  {
   "cell_type": "code",
   "execution_count": 13,
   "metadata": {},
   "outputs": [],
   "source": [
    "ds = DataSet()"
   ]
  },
  {
   "cell_type": "markdown",
   "metadata": {},
   "source": [
    "## Conduct first level prediction (h2 prediction) and store result.\n",
    "\n",
    "Also evaluate baseline model."
   ]
  },
  {
   "cell_type": "code",
   "execution_count": 23,
   "metadata": {},
   "outputs": [],
   "source": [
    "binder = ModelBinder( \"modelfgvc\", \"trained_model\", categories)"
   ]
  },
  {
   "cell_type": "code",
   "execution_count": 24,
   "metadata": {},
   "outputs": [
    {
     "name": "stdout",
     "output_type": "stream",
     "text": [
      "load 0\n",
      "load 1\n",
      "load 2\n",
      "load 3\n",
      "load 4\n",
      "load 5\n",
      "load 6\n",
      "load 7\n",
      "load 8\n",
      "load 9\n",
      "load 10\n",
      "load 11\n",
      "load 12\n",
      "load 13\n",
      "load 14\n",
      "load 15\n",
      "load 16\n",
      "load 17\n",
      "load 18\n",
      "load 19\n",
      "load 20\n",
      "load 21\n",
      "load 22\n",
      "load 23\n",
      "load 24\n",
      "load 25\n",
      "load 26\n",
      "load 27\n",
      "load 28\n",
      "load 29\n",
      "load 30\n",
      "load 31\n",
      "load 32\n",
      "load 33\n",
      "load 34\n",
      "load 35\n",
      "load 36\n",
      "load 37\n",
      "load 38\n",
      "load 39\n",
      "load 40\n",
      "load 41\n",
      "load 42\n",
      "load 43\n",
      "load 44\n",
      "load 45\n",
      "load 46\n",
      "load 47\n",
      "load 48\n",
      "load 49\n",
      "load 50\n",
      "load 51\n",
      "load 52\n",
      "load 53\n",
      "load 54\n",
      "load 55\n",
      "load 56\n",
      "load 57\n",
      "load 58\n",
      "load 59\n",
      "load 60\n",
      "load 61\n",
      "load 62\n",
      "load 63\n",
      "load 64\n",
      "load 65\n",
      "load 66\n",
      "load 67\n",
      "load 68\n",
      "load 69\n",
      "load 70\n",
      "load 71\n",
      "load 72\n",
      "load 73\n",
      "load 74\n",
      "load 75\n",
      "load 76\n",
      "load 77\n",
      "load 78\n",
      "load 79\n",
      "load 80\n",
      "load 81\n",
      "load 82\n",
      "load 83\n",
      "load 84\n",
      "load 85\n",
      "load 86\n",
      "load 87\n",
      "load 88\n",
      "load 89\n",
      "load 90\n",
      "load 91\n",
      "load 92\n",
      "load 93\n",
      "load 94\n",
      "load 95\n",
      "load 96\n",
      "load 97\n",
      "load 98\n",
      "load 99\n"
     ]
    }
   ],
   "source": [
    "binder.load_all_models(categories)"
   ]
  },
  {
   "cell_type": "markdown",
   "metadata": {},
   "source": [
    "### Evaluate baseline model\n",
    "\n",
    "Classifiers are trained in *train.ipynb*."
   ]
  },
  {
   "cell_type": "code",
   "execution_count": 14,
   "metadata": {},
   "outputs": [
    {
     "data": {
      "text/plain": [
       "(5, 2)"
      ]
     },
     "execution_count": 14,
     "metadata": {},
     "output_type": "execute_result"
    }
   ],
   "source": [
    "#for debug\n",
    "# org_testdf_shuffled = testdf_shuffled\n",
    "# testdf_shuffled = org_testdf_shuffled[0:5]\n",
    "# testdf_shuffled.shape"
   ]
  },
  {
   "cell_type": "code",
   "execution_count": 61,
   "metadata": {},
   "outputs": [],
   "source": [
    "#for debug\n",
    "# modelsbackup = binder._models\n",
    "# binder._models = {key: modelsbackup[key] for key in categories}"
   ]
  },
  {
   "cell_type": "code",
   "execution_count": 62,
   "metadata": {},
   "outputs": [],
   "source": []
  },
  {
   "cell_type": "code",
   "execution_count": null,
   "metadata": {},
   "outputs": [],
   "source": []
  },
  {
   "cell_type": "code",
   "execution_count": 63,
   "metadata": {
    "scrolled": true
   },
   "outputs": [],
   "source": [
    "all_labels = pd.Series(dtype=object)\n",
    "all_results = []\n",
    "all_result_dfs = []\n",
    "\n",
    "for chunk in ds.chunked(testdf_shuffled, 500):\n",
    "    x = ds.files_to_dataset(chunk['files'])\n",
    "    label = chunk['category']\n",
    "    resdf = binder.predict_arrs(x)\n",
    "    resclasses = binder.df2classes(resdf)\n",
    "    \n",
    "    all_labels = all_labels.append(label,  ignore_index=True)\n",
    "    all_results.extend(resclasses)\n",
    "    all_result_dfs.append(resdf)"
   ]
  },
  {
   "cell_type": "code",
   "execution_count": 66,
   "metadata": {},
   "outputs": [
    {
     "name": "stdout",
     "output_type": "stream",
     "text": [
      "Number of test images: 5\n",
      "Accuracy: 0.2\n"
     ]
    }
   ],
   "source": [
    "print(\"Number of test images: {}\\nAccuracy: {}\".format(len(all_labels), float(sum(all_labels == all_results))/len(all_labels)))"
   ]
  },
  {
   "cell_type": "code",
   "execution_count": null,
   "metadata": {},
   "outputs": [],
   "source": []
  },
  {
   "cell_type": "code",
   "execution_count": null,
   "metadata": {},
   "outputs": [],
   "source": []
  },
  {
   "cell_type": "markdown",
   "metadata": {},
   "source": [
    "Save the results as picke."
   ]
  },
  {
   "cell_type": "code",
   "execution_count": 67,
   "metadata": {},
   "outputs": [],
   "source": [
    "results_df = pd.DataFrame({\"labels\": all_labels, \"prediction\": all_results})"
   ]
  },
  {
   "cell_type": "code",
   "execution_count": 68,
   "metadata": {},
   "outputs": [],
   "source": [
    "results_df.to_pickle(\"results/baseline_model_prediction_fgvc.dat\")"
   ]
  },
  {
   "cell_type": "code",
   "execution_count": 69,
   "metadata": {},
   "outputs": [],
   "source": [
    "h2df = pd.concat(all_result_dfs)\n",
    "h2df['files'] = testdf_shuffled[\"files\"]"
   ]
  },
  {
   "cell_type": "code",
   "execution_count": 71,
   "metadata": {},
   "outputs": [],
   "source": [
    "h2df.to_pickle(\"results/baseline_h2_df_fgvc.dat\")"
   ]
  },
  {
   "cell_type": "code",
   "execution_count": null,
   "metadata": {},
   "outputs": [],
   "source": []
  },
  {
   "cell_type": "code",
   "execution_count": null,
   "metadata": {},
   "outputs": [],
   "source": []
  },
  {
   "cell_type": "code",
   "execution_count": null,
   "metadata": {},
   "outputs": [],
   "source": []
  },
  {
   "cell_type": "markdown",
   "metadata": {},
   "source": [
    "## Evaluate $two \\ level \\ model$\n",
    "\n",
    "Classifiers are trained in *train_second.ipynb*."
   ]
  },
  {
   "cell_type": "code",
   "execution_count": null,
   "metadata": {},
   "outputs": [],
   "source": []
  },
  {
   "cell_type": "code",
   "execution_count": 15,
   "metadata": {},
   "outputs": [],
   "source": [
    "h2df = pd.read_pickle(\"results/baseline_h2_df_fgvc.dat\")"
   ]
  },
  {
   "cell_type": "code",
   "execution_count": 16,
   "metadata": {},
   "outputs": [],
   "source": [
    "sec_binder = ModelBinder( \"modelfgvc\", \"trained_model\", categories)"
   ]
  },
  {
   "cell_type": "code",
   "execution_count": 17,
   "metadata": {},
   "outputs": [],
   "source": [
    "two_level_model = TwoLevelModel(categories, sec_binder)"
   ]
  },
  {
   "cell_type": "code",
   "execution_count": 18,
   "metadata": {},
   "outputs": [
    {
     "name": "stdout",
     "output_type": "stream",
     "text": [
      "load sec_0\n",
      "load sec_1\n",
      "load sec_2\n",
      "load sec_3\n",
      "load sec_4\n"
     ]
    }
   ],
   "source": [
    "two_level_model.load_all()"
   ]
  },
  {
   "cell_type": "code",
   "execution_count": 21,
   "metadata": {},
   "outputs": [],
   "source": [
    "import tqdm"
   ]
  },
  {
   "cell_type": "code",
   "execution_count": 22,
   "metadata": {},
   "outputs": [],
   "source": [
    "def h2_subset(h2df, files):\n",
    "    return h2df[h2df['files'].isin(files)][list(set(h2df.columns) - {\"files\"})]"
   ]
  },
  {
   "cell_type": "code",
   "execution_count": null,
   "metadata": {},
   "outputs": [],
   "source": []
  },
  {
   "cell_type": "code",
   "execution_count": 23,
   "metadata": {
    "scrolled": true
   },
   "outputs": [
    {
     "name": "stderr",
     "output_type": "stream",
     "text": [
      "100%|██████████| 1/1 [00:08<00:00,  8.18s/it]\n"
     ]
    }
   ],
   "source": [
    "all_labels2 = pd.Series(dtype=object)\n",
    "all_results2 = []\n",
    "\n",
    "for chunk in tqdm.tqdm(ds.chunked(testdf_shuffled, 500)):\n",
    "    x = ds.files_to_dataset(chunk['files'])\n",
    "    label = chunk['category']\n",
    "    firstdf = h2_subset(h2df, chunk['files'])\n",
    "    resclasses = two_level_model.predict_arrs(x, firstdf)\n",
    "    \n",
    "    all_labels2 = all_labels2.append(label,  ignore_index=True)\n",
    "    all_results2.extend(resclasses)"
   ]
  },
  {
   "cell_type": "code",
   "execution_count": 24,
   "metadata": {},
   "outputs": [
    {
     "name": "stdout",
     "output_type": "stream",
     "text": [
      "Number of test images: 5\n",
      "Accuracy: 0.4\n"
     ]
    }
   ],
   "source": [
    "print(\"Number of test images: {}\\nAccuracy: {}\".format(len(all_labels2), float(sum(all_labels2 == all_results2))/len(all_labels2)))"
   ]
  },
  {
   "cell_type": "markdown",
   "metadata": {},
   "source": [
    "Save the results as pickle."
   ]
  },
  {
   "cell_type": "code",
   "execution_count": 25,
   "metadata": {},
   "outputs": [],
   "source": [
    "results_df2 = pd.DataFrame({\"labels\": all_labels2, \"prediction\": all_results2})"
   ]
  },
  {
   "cell_type": "code",
   "execution_count": 26,
   "metadata": {},
   "outputs": [],
   "source": [
    "results_df2.to_pickle(\"results/twolevelmodel_prediction_fgvc.dat\")"
   ]
  },
  {
   "cell_type": "code",
   "execution_count": null,
   "metadata": {},
   "outputs": [],
   "source": []
  },
  {
   "cell_type": "markdown",
   "metadata": {},
   "source": [
    "### Precision and recall"
   ]
  },
  {
   "cell_type": "code",
   "execution_count": 3,
   "metadata": {},
   "outputs": [],
   "source": [
    "# twolevelmodel_prediction.dat\n",
    "results_df1 = pd.read_pickle(\"results/baseline_model_prediction_fgvc.dat\")\n",
    "results_df2 = pd.read_pickle(\"results/twolevelmodel_prediction_fgvc.dat\")"
   ]
  },
  {
   "cell_type": "code",
   "execution_count": 4,
   "metadata": {},
   "outputs": [],
   "source": [
    "categories = [str(i) for i in range(0, 100)]"
   ]
  },
  {
   "cell_type": "code",
   "execution_count": null,
   "metadata": {},
   "outputs": [],
   "source": []
  },
  {
   "cell_type": "code",
   "execution_count": null,
   "metadata": {},
   "outputs": [],
   "source": []
  },
  {
   "cell_type": "code",
   "execution_count": 5,
   "metadata": {},
   "outputs": [],
   "source": [
    "def calc_tp(df, cat):\n",
    "    trs = (df[\"labels\"] == cat)\n",
    "    prds = (df[\"prediction\"] == cat)\n",
    "    return sum(trs & prds)"
   ]
  },
  {
   "cell_type": "code",
   "execution_count": 6,
   "metadata": {},
   "outputs": [],
   "source": [
    "def calc_fp(df, cat):\n",
    "    trs = (df[\"labels\"] != cat)\n",
    "    prds = (df[\"prediction\"] == cat)\n",
    "    return sum(trs & prds)"
   ]
  },
  {
   "cell_type": "code",
   "execution_count": 7,
   "metadata": {},
   "outputs": [],
   "source": [
    "def calc_fn(df, cat):\n",
    "    trs = (df[\"labels\"] == cat)\n",
    "    prds = (df[\"prediction\"] != cat)\n",
    "    return sum(trs & prds)"
   ]
  },
  {
   "cell_type": "code",
   "execution_count": null,
   "metadata": {},
   "outputs": [],
   "source": []
  },
  {
   "cell_type": "code",
   "execution_count": 8,
   "metadata": {},
   "outputs": [],
   "source": [
    "TP2 = {cat: calc_tp(results_df2, cat) for cat in categories}"
   ]
  },
  {
   "cell_type": "code",
   "execution_count": 9,
   "metadata": {},
   "outputs": [],
   "source": [
    "FP2 = {cat: calc_fp(results_df2, cat) for cat in categories}"
   ]
  },
  {
   "cell_type": "code",
   "execution_count": 10,
   "metadata": {},
   "outputs": [],
   "source": [
    "FN2 = {cat: calc_fn(results_df2, cat) for cat in categories}"
   ]
  },
  {
   "cell_type": "code",
   "execution_count": 11,
   "metadata": {},
   "outputs": [],
   "source": [
    "Precision2 = {cat: TP2[cat]/(TP2[cat]+FP2[cat]) for cat in categories}"
   ]
  },
  {
   "cell_type": "code",
   "execution_count": 12,
   "metadata": {},
   "outputs": [],
   "source": [
    "Recall2 = {cat: TP2[cat]/(TP2[cat]+FN2[cat]) for cat in categories}"
   ]
  },
  {
   "cell_type": "code",
   "execution_count": null,
   "metadata": {},
   "outputs": [],
   "source": []
  },
  {
   "cell_type": "code",
   "execution_count": null,
   "metadata": {},
   "outputs": [],
   "source": []
  },
  {
   "cell_type": "code",
   "execution_count": 13,
   "metadata": {},
   "outputs": [],
   "source": [
    "TP1 = {cat: calc_tp(results_df1, cat) for cat in categories}"
   ]
  },
  {
   "cell_type": "code",
   "execution_count": 14,
   "metadata": {},
   "outputs": [],
   "source": [
    "FP1 = {cat: calc_fp(results_df1, cat) for cat in categories}"
   ]
  },
  {
   "cell_type": "code",
   "execution_count": 15,
   "metadata": {},
   "outputs": [],
   "source": [
    "FN1 = {cat: calc_fn(results_df1, cat) for cat in categories}"
   ]
  },
  {
   "cell_type": "code",
   "execution_count": 16,
   "metadata": {},
   "outputs": [],
   "source": [
    "Precision1 = {cat: TP1[cat]/(TP1[cat]+FP1[cat]) for cat in categories}"
   ]
  },
  {
   "cell_type": "code",
   "execution_count": 17,
   "metadata": {},
   "outputs": [],
   "source": [
    "Recall1 = {cat: TP1[cat]/(TP1[cat]+FN1[cat]) for cat in categories}"
   ]
  },
  {
   "cell_type": "code",
   "execution_count": null,
   "metadata": {},
   "outputs": [],
   "source": []
  },
  {
   "cell_type": "code",
   "execution_count": 98,
   "metadata": {},
   "outputs": [],
   "source": [
    "precisiondf = pd.DataFrame({\"classes\": categories, \"baseline\": [Precision1[cat] for cat in categories], \"twolevel\": [Precision2[cat] for cat in categories]}).set_index(\"classes\")"
   ]
  },
  {
   "cell_type": "code",
   "execution_count": 99,
   "metadata": {},
   "outputs": [
    {
     "data": {
      "text/html": [
       "<div>\n",
       "<style scoped>\n",
       "    .dataframe tbody tr th:only-of-type {\n",
       "        vertical-align: middle;\n",
       "    }\n",
       "\n",
       "    .dataframe tbody tr th {\n",
       "        vertical-align: top;\n",
       "    }\n",
       "\n",
       "    .dataframe thead th {\n",
       "        text-align: right;\n",
       "    }\n",
       "</style>\n",
       "<table border=\"1\" class=\"dataframe\">\n",
       "  <thead>\n",
       "    <tr style=\"text-align: right;\">\n",
       "      <th></th>\n",
       "      <th>baseline</th>\n",
       "      <th>twolevel</th>\n",
       "    </tr>\n",
       "    <tr>\n",
       "      <th>classes</th>\n",
       "      <th></th>\n",
       "      <th></th>\n",
       "    </tr>\n",
       "  </thead>\n",
       "  <tbody>\n",
       "    <tr>\n",
       "      <th>bay</th>\n",
       "      <td>0.323877</td>\n",
       "      <td>0.418410</td>\n",
       "    </tr>\n",
       "    <tr>\n",
       "      <th>beach</th>\n",
       "      <td>0.368421</td>\n",
       "      <td>0.486486</td>\n",
       "    </tr>\n",
       "    <tr>\n",
       "      <th>birds</th>\n",
       "      <td>0.937853</td>\n",
       "      <td>0.922222</td>\n",
       "    </tr>\n",
       "    <tr>\n",
       "      <th>boeing</th>\n",
       "      <td>0.506073</td>\n",
       "      <td>0.737805</td>\n",
       "    </tr>\n",
       "    <tr>\n",
       "      <th>buildings</th>\n",
       "      <td>0.584746</td>\n",
       "      <td>0.792079</td>\n",
       "    </tr>\n",
       "    <tr>\n",
       "      <th>city</th>\n",
       "      <td>0.276596</td>\n",
       "      <td>0.554622</td>\n",
       "    </tr>\n",
       "    <tr>\n",
       "      <th>clouds</th>\n",
       "      <td>0.436567</td>\n",
       "      <td>0.544503</td>\n",
       "    </tr>\n",
       "    <tr>\n",
       "      <th>f-16</th>\n",
       "      <td>0.603774</td>\n",
       "      <td>0.814815</td>\n",
       "    </tr>\n",
       "    <tr>\n",
       "      <th>face</th>\n",
       "      <td>0.957055</td>\n",
       "      <td>0.929825</td>\n",
       "    </tr>\n",
       "    <tr>\n",
       "      <th>helicopter</th>\n",
       "      <td>0.907216</td>\n",
       "      <td>0.908333</td>\n",
       "    </tr>\n",
       "    <tr>\n",
       "      <th>mountain</th>\n",
       "      <td>0.805825</td>\n",
       "      <td>0.809917</td>\n",
       "    </tr>\n",
       "    <tr>\n",
       "      <th>ocean</th>\n",
       "      <td>0.404494</td>\n",
       "      <td>0.604938</td>\n",
       "    </tr>\n",
       "    <tr>\n",
       "      <th>ships</th>\n",
       "      <td>0.936709</td>\n",
       "      <td>0.912621</td>\n",
       "    </tr>\n",
       "    <tr>\n",
       "      <th>sky</th>\n",
       "      <td>0.051724</td>\n",
       "      <td>0.636364</td>\n",
       "    </tr>\n",
       "    <tr>\n",
       "      <th>sunrise</th>\n",
       "      <td>0.430000</td>\n",
       "      <td>0.377880</td>\n",
       "    </tr>\n",
       "    <tr>\n",
       "      <th>sunset</th>\n",
       "      <td>0.500000</td>\n",
       "      <td>0.500000</td>\n",
       "    </tr>\n",
       "  </tbody>\n",
       "</table>\n",
       "</div>"
      ],
      "text/plain": [
       "            baseline  twolevel\n",
       "classes                       \n",
       "bay         0.323877  0.418410\n",
       "beach       0.368421  0.486486\n",
       "birds       0.937853  0.922222\n",
       "boeing      0.506073  0.737805\n",
       "buildings   0.584746  0.792079\n",
       "city        0.276596  0.554622\n",
       "clouds      0.436567  0.544503\n",
       "f-16        0.603774  0.814815\n",
       "face        0.957055  0.929825\n",
       "helicopter  0.907216  0.908333\n",
       "mountain    0.805825  0.809917\n",
       "ocean       0.404494  0.604938\n",
       "ships       0.936709  0.912621\n",
       "sky         0.051724  0.636364\n",
       "sunrise     0.430000  0.377880\n",
       "sunset      0.500000  0.500000"
      ]
     },
     "execution_count": 99,
     "metadata": {},
     "output_type": "execute_result"
    }
   ],
   "source": [
    "precisiondf"
   ]
  },
  {
   "cell_type": "code",
   "execution_count": null,
   "metadata": {},
   "outputs": [],
   "source": []
  },
  {
   "cell_type": "code",
   "execution_count": 105,
   "metadata": {},
   "outputs": [
    {
     "data": {
      "text/plain": [
       "baseline    0.564433\n",
       "twolevel    0.684426\n",
       "dtype: float64"
      ]
     },
     "execution_count": 105,
     "metadata": {},
     "output_type": "execute_result"
    }
   ],
   "source": [
    "precisiondf.mean()"
   ]
  },
  {
   "cell_type": "code",
   "execution_count": null,
   "metadata": {},
   "outputs": [],
   "source": []
  },
  {
   "cell_type": "code",
   "execution_count": null,
   "metadata": {},
   "outputs": [],
   "source": []
  },
  {
   "cell_type": "code",
   "execution_count": 100,
   "metadata": {},
   "outputs": [],
   "source": [
    "recalldf = pd.DataFrame({\"classes\": categories, \"baseline\": [Recall1[cat] for cat in categories], \"twolevel\": [Recall2[cat] for cat in categories]}).set_index(\"classes\")"
   ]
  },
  {
   "cell_type": "code",
   "execution_count": 101,
   "metadata": {},
   "outputs": [
    {
     "data": {
      "text/html": [
       "<div>\n",
       "<style scoped>\n",
       "    .dataframe tbody tr th:only-of-type {\n",
       "        vertical-align: middle;\n",
       "    }\n",
       "\n",
       "    .dataframe tbody tr th {\n",
       "        vertical-align: top;\n",
       "    }\n",
       "\n",
       "    .dataframe thead th {\n",
       "        text-align: right;\n",
       "    }\n",
       "</style>\n",
       "<table border=\"1\" class=\"dataframe\">\n",
       "  <thead>\n",
       "    <tr style=\"text-align: right;\">\n",
       "      <th></th>\n",
       "      <th>baseline</th>\n",
       "      <th>twolevel</th>\n",
       "    </tr>\n",
       "    <tr>\n",
       "      <th>classes</th>\n",
       "      <th></th>\n",
       "      <th></th>\n",
       "    </tr>\n",
       "  </thead>\n",
       "  <tbody>\n",
       "    <tr>\n",
       "      <th>bay</th>\n",
       "      <td>0.778409</td>\n",
       "      <td>0.568182</td>\n",
       "    </tr>\n",
       "    <tr>\n",
       "      <th>beach</th>\n",
       "      <td>0.321839</td>\n",
       "      <td>0.620690</td>\n",
       "    </tr>\n",
       "    <tr>\n",
       "      <th>birds</th>\n",
       "      <td>1.000000</td>\n",
       "      <td>1.000000</td>\n",
       "    </tr>\n",
       "    <tr>\n",
       "      <th>boeing</th>\n",
       "      <td>0.992063</td>\n",
       "      <td>0.960317</td>\n",
       "    </tr>\n",
       "    <tr>\n",
       "      <th>buildings</th>\n",
       "      <td>0.890323</td>\n",
       "      <td>0.516129</td>\n",
       "    </tr>\n",
       "    <tr>\n",
       "      <th>city</th>\n",
       "      <td>0.088435</td>\n",
       "      <td>0.448980</td>\n",
       "    </tr>\n",
       "    <tr>\n",
       "      <th>clouds</th>\n",
       "      <td>0.900000</td>\n",
       "      <td>0.800000</td>\n",
       "    </tr>\n",
       "    <tr>\n",
       "      <th>f-16</th>\n",
       "      <td>0.524590</td>\n",
       "      <td>0.721311</td>\n",
       "    </tr>\n",
       "    <tr>\n",
       "      <th>face</th>\n",
       "      <td>0.906977</td>\n",
       "      <td>0.924419</td>\n",
       "    </tr>\n",
       "    <tr>\n",
       "      <th>helicopter</th>\n",
       "      <td>0.598639</td>\n",
       "      <td>0.741497</td>\n",
       "    </tr>\n",
       "    <tr>\n",
       "      <th>mountain</th>\n",
       "      <td>0.518750</td>\n",
       "      <td>0.612500</td>\n",
       "    </tr>\n",
       "    <tr>\n",
       "      <th>ocean</th>\n",
       "      <td>0.255319</td>\n",
       "      <td>0.347518</td>\n",
       "    </tr>\n",
       "    <tr>\n",
       "      <th>ships</th>\n",
       "      <td>0.500000</td>\n",
       "      <td>0.635135</td>\n",
       "    </tr>\n",
       "    <tr>\n",
       "      <th>sky</th>\n",
       "      <td>0.021583</td>\n",
       "      <td>0.100719</td>\n",
       "    </tr>\n",
       "    <tr>\n",
       "      <th>sunrise</th>\n",
       "      <td>0.370690</td>\n",
       "      <td>0.706897</td>\n",
       "    </tr>\n",
       "    <tr>\n",
       "      <th>sunset</th>\n",
       "      <td>0.027211</td>\n",
       "      <td>0.047619</td>\n",
       "    </tr>\n",
       "  </tbody>\n",
       "</table>\n",
       "</div>"
      ],
      "text/plain": [
       "            baseline  twolevel\n",
       "classes                       \n",
       "bay         0.778409  0.568182\n",
       "beach       0.321839  0.620690\n",
       "birds       1.000000  1.000000\n",
       "boeing      0.992063  0.960317\n",
       "buildings   0.890323  0.516129\n",
       "city        0.088435  0.448980\n",
       "clouds      0.900000  0.800000\n",
       "f-16        0.524590  0.721311\n",
       "face        0.906977  0.924419\n",
       "helicopter  0.598639  0.741497\n",
       "mountain    0.518750  0.612500\n",
       "ocean       0.255319  0.347518\n",
       "ships       0.500000  0.635135\n",
       "sky         0.021583  0.100719\n",
       "sunrise     0.370690  0.706897\n",
       "sunset      0.027211  0.047619"
      ]
     },
     "execution_count": 101,
     "metadata": {},
     "output_type": "execute_result"
    }
   ],
   "source": [
    "recalldf"
   ]
  },
  {
   "cell_type": "code",
   "execution_count": null,
   "metadata": {},
   "outputs": [],
   "source": []
  },
  {
   "cell_type": "code",
   "execution_count": 104,
   "metadata": {},
   "outputs": [
    {
     "data": {
      "text/html": [
       "<div>\n",
       "<style scoped>\n",
       "    .dataframe tbody tr th:only-of-type {\n",
       "        vertical-align: middle;\n",
       "    }\n",
       "\n",
       "    .dataframe tbody tr th {\n",
       "        vertical-align: top;\n",
       "    }\n",
       "\n",
       "    .dataframe thead th {\n",
       "        text-align: right;\n",
       "    }\n",
       "</style>\n",
       "<table border=\"1\" class=\"dataframe\">\n",
       "  <thead>\n",
       "    <tr style=\"text-align: right;\">\n",
       "      <th></th>\n",
       "      <th>baseline</th>\n",
       "      <th>twolevel</th>\n",
       "    </tr>\n",
       "    <tr>\n",
       "      <th>classes</th>\n",
       "      <th></th>\n",
       "      <th></th>\n",
       "    </tr>\n",
       "  </thead>\n",
       "  <tbody>\n",
       "    <tr>\n",
       "      <th>bay</th>\n",
       "      <td>0.457429</td>\n",
       "      <td>0.481928</td>\n",
       "    </tr>\n",
       "    <tr>\n",
       "      <th>beach</th>\n",
       "      <td>0.343558</td>\n",
       "      <td>0.545455</td>\n",
       "    </tr>\n",
       "    <tr>\n",
       "      <th>birds</th>\n",
       "      <td>0.967930</td>\n",
       "      <td>0.959538</td>\n",
       "    </tr>\n",
       "    <tr>\n",
       "      <th>boeing</th>\n",
       "      <td>0.670241</td>\n",
       "      <td>0.834483</td>\n",
       "    </tr>\n",
       "    <tr>\n",
       "      <th>buildings</th>\n",
       "      <td>0.705882</td>\n",
       "      <td>0.625000</td>\n",
       "    </tr>\n",
       "    <tr>\n",
       "      <th>city</th>\n",
       "      <td>0.134021</td>\n",
       "      <td>0.496241</td>\n",
       "    </tr>\n",
       "    <tr>\n",
       "      <th>clouds</th>\n",
       "      <td>0.587940</td>\n",
       "      <td>0.647975</td>\n",
       "    </tr>\n",
       "    <tr>\n",
       "      <th>f-16</th>\n",
       "      <td>0.561404</td>\n",
       "      <td>0.765217</td>\n",
       "    </tr>\n",
       "    <tr>\n",
       "      <th>face</th>\n",
       "      <td>0.931343</td>\n",
       "      <td>0.927114</td>\n",
       "    </tr>\n",
       "    <tr>\n",
       "      <th>helicopter</th>\n",
       "      <td>0.721311</td>\n",
       "      <td>0.816479</td>\n",
       "    </tr>\n",
       "    <tr>\n",
       "      <th>mountain</th>\n",
       "      <td>0.631179</td>\n",
       "      <td>0.697509</td>\n",
       "    </tr>\n",
       "    <tr>\n",
       "      <th>ocean</th>\n",
       "      <td>0.313043</td>\n",
       "      <td>0.441441</td>\n",
       "    </tr>\n",
       "    <tr>\n",
       "      <th>ships</th>\n",
       "      <td>0.651982</td>\n",
       "      <td>0.749004</td>\n",
       "    </tr>\n",
       "    <tr>\n",
       "      <th>sky</th>\n",
       "      <td>0.030457</td>\n",
       "      <td>0.173913</td>\n",
       "    </tr>\n",
       "    <tr>\n",
       "      <th>sunrise</th>\n",
       "      <td>0.398148</td>\n",
       "      <td>0.492492</td>\n",
       "    </tr>\n",
       "    <tr>\n",
       "      <th>sunset</th>\n",
       "      <td>0.051613</td>\n",
       "      <td>0.086957</td>\n",
       "    </tr>\n",
       "  </tbody>\n",
       "</table>\n",
       "</div>"
      ],
      "text/plain": [
       "            baseline  twolevel\n",
       "classes                       \n",
       "bay         0.457429  0.481928\n",
       "beach       0.343558  0.545455\n",
       "birds       0.967930  0.959538\n",
       "boeing      0.670241  0.834483\n",
       "buildings   0.705882  0.625000\n",
       "city        0.134021  0.496241\n",
       "clouds      0.587940  0.647975\n",
       "f-16        0.561404  0.765217\n",
       "face        0.931343  0.927114\n",
       "helicopter  0.721311  0.816479\n",
       "mountain    0.631179  0.697509\n",
       "ocean       0.313043  0.441441\n",
       "ships       0.651982  0.749004\n",
       "sky         0.030457  0.173913\n",
       "sunrise     0.398148  0.492492\n",
       "sunset      0.051613  0.086957"
      ]
     },
     "execution_count": 104,
     "metadata": {},
     "output_type": "execute_result"
    }
   ],
   "source": [
    "# f1 score\n",
    "2*precisiondf*recalldf/(precisiondf+recalldf)"
   ]
  },
  {
   "cell_type": "code",
   "execution_count": null,
   "metadata": {},
   "outputs": [],
   "source": []
  },
  {
   "cell_type": "code",
   "execution_count": null,
   "metadata": {},
   "outputs": [],
   "source": []
  }
 ],
 "metadata": {
  "kernelspec": {
   "display_name": "Python 3",
   "language": "python",
   "name": "python3"
  },
  "language_info": {
   "codemirror_mode": {
    "name": "ipython",
    "version": 3
   },
   "file_extension": ".py",
   "mimetype": "text/x-python",
   "name": "python",
   "nbconvert_exporter": "python",
   "pygments_lexer": "ipython3",
   "version": "3.5.2"
  }
 },
 "nbformat": 4,
 "nbformat_minor": 2
}
