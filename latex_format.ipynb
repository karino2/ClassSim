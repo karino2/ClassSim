{
 "cells": [
  {
   "cell_type": "code",
   "execution_count": 2,
   "metadata": {},
   "outputs": [],
   "source": [
    "concepts = [\n",
    "    \"bay\",\n",
    "    \"beach\",\n",
    "    \"birds\",\n",
    "    \"boeing\",\n",
    "    \"buildings\",\n",
    "    \"city\",\n",
    "    \"clouds\",\n",
    "    \"face\",\n",
    "    \"f-16\",\n",
    "    \"helicopter\",\n",
    "    \"mountain\",\n",
    "    \"sky\",\n",
    "    \"ships\",\n",
    "    \"sunset\",\n",
    "    \"sunrise\",\n",
    "    \"ocean\"\n",
    "]"
   ]
  },
  {
   "cell_type": "code",
   "execution_count": 3,
   "metadata": {},
   "outputs": [
    {
     "name": "stdout",
     "output_type": "stream",
     "text": [
      "bay \\\\ \\hline\n",
      "beach \\\\ \\hline\n",
      "birds \\\\ \\hline\n",
      "boeing \\\\ \\hline\n",
      "buildings \\\\ \\hline\n",
      "city \\\\ \\hline\n",
      "clouds \\\\ \\hline\n",
      "face \\\\ \\hline\n",
      "f-16 \\\\ \\hline\n",
      "helicopter \\\\ \\hline\n",
      "mountain \\\\ \\hline\n",
      "sky \\\\ \\hline\n",
      "ships \\\\ \\hline\n",
      "sunset \\\\ \\hline\n",
      "sunrise \\\\ \\hline\n",
      "ocean \\\\ \\hline\n"
     ]
    }
   ],
   "source": [
    "for con in concepts:\n",
    "    print(\"{} \\\\\\\\ \\\\hline\".format(con))"
   ]
  },
  {
   "cell_type": "code",
   "execution_count": 3,
   "metadata": {},
   "outputs": [],
   "source": [
    "import pandas as pd"
   ]
  },
  {
   "cell_type": "code",
   "execution_count": 4,
   "metadata": {},
   "outputs": [],
   "source": [
    "classsim = pd.read_pickle(\"results/valid_sim_df.dat\")\n",
    "gmmdist = pd.read_pickle(\"results/GMMDisttances.dat\")\n",
    "multi = pd.read_pickle(\"results/multiclass_sim.dat\")"
   ]
  },
  {
   "cell_type": "code",
   "execution_count": null,
   "metadata": {},
   "outputs": [],
   "source": []
  },
  {
   "cell_type": "code",
   "execution_count": 8,
   "metadata": {},
   "outputs": [],
   "source": [
    "target = \"bay\""
   ]
  },
  {
   "cell_type": "code",
   "execution_count": 17,
   "metadata": {},
   "outputs": [],
   "source": [
    "classsim_one = classsim[target].sort_values(ascending=False)"
   ]
  },
  {
   "cell_type": "code",
   "execution_count": 18,
   "metadata": {},
   "outputs": [],
   "source": [
    "gmmdist_one = gmmdist[target].sort_values()"
   ]
  },
  {
   "cell_type": "code",
   "execution_count": null,
   "metadata": {},
   "outputs": [],
   "source": []
  },
  {
   "cell_type": "code",
   "execution_count": 14,
   "metadata": {},
   "outputs": [],
   "source": [
    "def print_one(target):\n",
    "    classsim_one = classsim[target].sort_values(ascending=False)\n",
    "    gmmdist_one = gmmdist[target].sort_values()\n",
    "    print(\"{} & CS & \".format(target), end=\"\")\n",
    "    delim = \"\"\n",
    "    for i in range(1, len(classsim_one)):\n",
    "        print(\"{}{}, {:.3f}\".format(delim, classsim_one.index[i], classsim_one[i]), end=\"\")\n",
    "        delim = \" & \"\n",
    "    print( \" \\\\\\\\ \\\\cline{2-16}\")\n",
    "\n",
    "    delim = \"\"\n",
    "    print(\" & PD & \", end=\"\")\n",
    "    for i in range(1, len(gmmdist_one)):\n",
    "        print(\"{}{}, {:.0f}\".format(delim, gmmdist_one.index[i], gmmdist_one[i]), end=\"\")\n",
    "        delim = \" & \"\n",
    "    print( \" \\\\\\\\ \\\\hline\")\n"
   ]
  },
  {
   "cell_type": "code",
   "execution_count": 15,
   "metadata": {},
   "outputs": [
    {
     "name": "stdout",
     "output_type": "stream",
     "text": [
      "bay & CS & beach, 0.626 & ocean, 0.320 & city, 0.301 & mountain, 0.188 & ships, 0.077 & buildings, 0.069 & sunset, 0.056 & sunrise, 0.055 & sky, 0.034 & f-16, 0.028 & boeing, 0.025 & face, 0.007 & birds, 0.004 & helicopter, 0.004 & clouds, 0.000 \\\\ \\cline{2-16}\n",
      " & PD & beach, 6588 & mountain, 6951 & birds, 7192 & ocean, 7270 & helicopter, 7737 & ships, 7983 & city, 8679 & boeing, 8742 & sunset, 8842 & f-16, 9124 & clouds, 9547 & buildings, 9813 & sunrise, 10123 & face, 11249 & sky, 13553 \\\\ \\hline\n",
      "beach & CS & bay, 0.626 & ocean, 0.245 & mountain, 0.114 & sunrise, 0.106 & sunset, 0.095 & city, 0.073 & sky, 0.030 & helicopter, 0.030 & buildings, 0.026 & f-16, 0.023 & ships, 0.023 & clouds, 0.014 & boeing, 0.011 & face, 0.007 & birds, 0.000 \\\\ \\cline{2-16}\n",
      " & PD & bay, 6588 & mountain, 6909 & birds, 7014 & helicopter, 7738 & sunset, 8008 & boeing, 8059 & ocean, 8070 & ships, 8216 & f-16, 8470 & clouds, 8854 & sunrise, 9672 & city, 9718 & buildings, 10429 & face, 11145 & sky, 12997 \\\\ \\hline\n",
      "birds & CS & ocean, 0.045 & face, 0.037 & sunset, 0.028 & f-16, 0.027 & boeing, 0.019 & sunrise, 0.013 & helicopter, 0.008 & ships, 0.008 & city, 0.004 & sky, 0.004 & buildings, 0.004 & bay, 0.004 & mountain, 0.000 & clouds, 0.000 & beach, 0.000 \\\\ \\cline{2-16}\n",
      " & PD & helicopter, 5656 & f-16, 6490 & boeing, 6490 & sunset, 6666 & clouds, 6681 & beach, 7014 & mountain, 7117 & bay, 7192 & ships, 7520 & sunrise, 7829 & ocean, 8899 & face, 9026 & city, 10680 & sky, 10694 & buildings, 11194 \\\\ \\hline\n",
      "boeing & CS & f-16, 0.258 & helicopter, 0.153 & ocean, 0.067 & ships, 0.059 & city, 0.035 & bay, 0.025 & birds, 0.019 & face, 0.016 & sky, 0.014 & buildings, 0.013 & mountain, 0.012 & sunrise, 0.011 & beach, 0.011 & sunset, 0.004 & clouds, 0.000 \\\\ \\cline{2-16}\n",
      " & PD & f-16, 3438 & clouds, 3525 & helicopter, 4918 & sunset, 5365 & sunrise, 6028 & birds, 6490 & sky, 7467 & beach, 8059 & face, 8123 & mountain, 8323 & ships, 8564 & bay, 8742 & ocean, 10683 & city, 13396 & buildings, 13738 \\\\ \\hline\n",
      "buildings & CS & city, 0.656 & ships, 0.092 & bay, 0.069 & sunset, 0.029 & beach, 0.026 & sunrise, 0.026 & ocean, 0.025 & mountain, 0.020 & boeing, 0.013 & sky, 0.008 & helicopter, 0.004 & birds, 0.004 & face, 0.004 & f-16, 0.000 & clouds, 0.000 \\\\ \\cline{2-16}\n",
      " & PD & city, 9624 & bay, 9813 & ocean, 10152 & beach, 10429 & mountain, 10634 & ships, 10922 & birds, 11194 & helicopter, 12370 & sunset, 13017 & boeing, 13738 & f-16, 13867 & clouds, 14416 & sunrise, 14528 & face, 15108 & sky, 18222 \\\\ \\hline\n",
      "city & CS & buildings, 0.656 & bay, 0.301 & ships, 0.097 & beach, 0.073 & mountain, 0.060 & ocean, 0.056 & sunrise, 0.040 & sunset, 0.038 & boeing, 0.035 & face, 0.029 & f-16, 0.018 & helicopter, 0.017 & sky, 0.013 & birds, 0.004 & clouds, 0.000 \\\\ \\cline{2-16}\n",
      " & PD & ocean, 8576 & bay, 8679 & mountain, 9585 & buildings, 9624 & beach, 9718 & birds, 10680 & ships, 10755 & helicopter, 11876 & sunset, 12701 & boeing, 13396 & f-16, 13526 & sunrise, 14070 & clouds, 14118 & face, 14637 & sky, 17849 \\\\ \\hline\n",
      "clouds & CS & sky, 0.787 & ocean, 0.260 & sunset, 0.128 & sunrise, 0.116 & mountain, 0.085 & beach, 0.014 & ships, 0.000 & helicopter, 0.000 & face, 0.000 & f-16, 0.000 & city, 0.000 & buildings, 0.000 & boeing, 0.000 & birds, 0.000 & bay, 0.000 \\\\ \\cline{2-16}\n",
      " & PD & f-16, 3421 & boeing, 3525 & helicopter, 5067 & sunset, 5447 & sunrise, 6287 & sky, 6609 & birds, 6681 & face, 8118 & mountain, 8821 & beach, 8854 & ships, 9306 & bay, 9547 & ocean, 11352 & city, 14118 & buildings, 14416 \\\\ \\hline\n",
      "face & CS & ocean, 0.051 & sunrise, 0.040 & birds, 0.037 & city, 0.029 & sunset, 0.024 & f-16, 0.023 & mountain, 0.019 & boeing, 0.016 & ships, 0.016 & sky, 0.008 & helicopter, 0.007 & beach, 0.007 & bay, 0.007 & buildings, 0.004 & clouds, 0.000 \\\\ \\cline{2-16}\n",
      " & PD & f-16, 7768 & helicopter, 7849 & clouds, 8118 & boeing, 8123 & sunset, 8390 & birds, 9026 & sunrise, 10409 & mountain, 10737 & beach, 11145 & bay, 11249 & sky, 11476 & ships, 11572 & ocean, 12606 & city, 14637 & buildings, 15108 \\\\ \\hline\n",
      "f-16 & CS & boeing, 0.258 & helicopter, 0.188 & ships, 0.126 & ocean, 0.050 & sunset, 0.030 & bay, 0.028 & birds, 0.027 & beach, 0.023 & face, 0.023 & city, 0.018 & sunrise, 0.016 & mountain, 0.016 & sky, 0.005 & clouds, 0.000 & buildings, 0.000 \\\\ \\cline{2-16}\n",
      " & PD & clouds, 3421 & boeing, 3438 & helicopter, 4682 & sunset, 5253 & sunrise, 5885 & birds, 6490 & sky, 7161 & face, 7768 & beach, 8470 & mountain, 8644 & ships, 8700 & bay, 9124 & ocean, 10834 & city, 13526 & buildings, 13867 \\\\ \\hline\n",
      "helicopter & CS & f-16, 0.188 & boeing, 0.153 & ships, 0.098 & beach, 0.030 & mountain, 0.028 & city, 0.017 & sunrise, 0.011 & birds, 0.008 & face, 0.007 & sky, 0.004 & ocean, 0.004 & buildings, 0.004 & sunset, 0.004 & bay, 0.004 & clouds, 0.000 \\\\ \\cline{2-16}\n",
      " & PD & f-16, 4682 & boeing, 4918 & clouds, 5067 & sunset, 5635 & birds, 5656 & sunrise, 6592 & ships, 7506 & mountain, 7604 & bay, 7737 & beach, 7738 & face, 7849 & sky, 8965 & ocean, 9487 & city, 11876 & buildings, 12370 \\\\ \\hline\n",
      "mountain & CS & bay, 0.188 & beach, 0.114 & ocean, 0.093 & sunrise, 0.093 & clouds, 0.085 & city, 0.060 & sky, 0.055 & sunset, 0.046 & helicopter, 0.028 & ships, 0.020 & buildings, 0.020 & face, 0.019 & f-16, 0.016 & boeing, 0.012 & birds, 0.000 \\\\ \\cline{2-16}\n",
      " & PD & beach, 6909 & bay, 6951 & birds, 7117 & helicopter, 7604 & sunset, 8126 & ships, 8318 & boeing, 8323 & ocean, 8424 & f-16, 8644 & clouds, 8821 & sunrise, 8944 & city, 9585 & buildings, 10634 & face, 10737 & sky, 12548 \\\\ \\hline\n",
      "sky & CS & clouds, 0.787 & sunset, 0.317 & sunrise, 0.302 & ocean, 0.271 & mountain, 0.055 & bay, 0.034 & beach, 0.030 & boeing, 0.014 & city, 0.013 & buildings, 0.008 & face, 0.008 & f-16, 0.005 & helicopter, 0.004 & birds, 0.004 & ships, 0.000 \\\\ \\cline{2-16}\n",
      " & PD & clouds, 6609 & f-16, 7161 & boeing, 7467 & helicopter, 8965 & sunset, 9274 & sunrise, 9310 & birds, 10694 & face, 11476 & mountain, 12548 & beach, 12997 & ships, 13226 & bay, 13553 & ocean, 15269 & city, 17849 & buildings, 18222 \\\\ \\hline\n",
      "ships & CS & f-16, 0.126 & ocean, 0.108 & helicopter, 0.098 & city, 0.097 & buildings, 0.092 & bay, 0.077 & boeing, 0.059 & beach, 0.023 & sunrise, 0.022 & mountain, 0.020 & face, 0.016 & birds, 0.008 & sunset, 0.004 & sky, 0.000 & clouds, 0.000 \\\\ \\cline{2-16}\n",
      " & PD & helicopter, 7506 & birds, 7520 & bay, 7983 & beach, 8216 & mountain, 8318 & boeing, 8564 & f-16, 8700 & sunset, 8725 & ocean, 8780 & clouds, 9306 & city, 10755 & buildings, 10922 & face, 11572 & sunrise, 11675 & sky, 13226 \\\\ \\hline\n",
      "sunset & CS & sunset, 0.864 & sky, 0.317 & ocean, 0.163 & clouds, 0.128 & beach, 0.095 & bay, 0.056 & mountain, 0.046 & city, 0.038 & f-16, 0.030 & buildings, 0.029 & birds, 0.028 & face, 0.024 & ships, 0.004 & helicopter, 0.004 & boeing, 0.004 \\\\ \\cline{2-16}\n",
      " & PD & f-16, 5253 & boeing, 5365 & clouds, 5447 & helicopter, 5635 & sunrise, 6374 & birds, 6666 & beach, 8008 & mountain, 8126 & face, 8390 & ships, 8725 & bay, 8842 & sky, 9274 & ocean, 10415 & city, 12701 & buildings, 13017 \\\\ \\hline\n",
      "sunrise & CS & sunset, 0.902 & sky, 0.302 & ocean, 0.157 & clouds, 0.116 & beach, 0.106 & mountain, 0.093 & bay, 0.055 & city, 0.040 & face, 0.040 & buildings, 0.026 & ships, 0.022 & f-16, 0.016 & birds, 0.013 & helicopter, 0.011 & boeing, 0.011 \\\\ \\cline{2-16}\n",
      " & PD & f-16, 5885 & boeing, 6028 & clouds, 6287 & sunset, 6374 & helicopter, 6592 & birds, 7829 & mountain, 8944 & sky, 9310 & beach, 9672 & bay, 10123 & face, 10409 & ships, 11675 & ocean, 11797 & city, 14070 & buildings, 14528 \\\\ \\hline\n",
      "ocean & CS & bay, 0.320 & sky, 0.271 & clouds, 0.260 & beach, 0.245 & sunset, 0.163 & sunrise, 0.157 & ships, 0.108 & mountain, 0.093 & boeing, 0.067 & city, 0.056 & face, 0.051 & f-16, 0.050 & birds, 0.045 & buildings, 0.025 & helicopter, 0.004 \\\\ \\cline{2-16}\n",
      " & PD & bay, 7270 & beach, 8070 & mountain, 8424 & city, 8576 & ships, 8780 & birds, 8899 & helicopter, 9487 & buildings, 10152 & sunset, 10415 & boeing, 10683 & f-16, 10834 & clouds, 11352 & sunrise, 11797 & face, 12606 & sky, 15269 \\\\ \\hline\n"
     ]
    }
   ],
   "source": [
    "for con in concepts:\n",
    "    print_one(con)"
   ]
  },
  {
   "cell_type": "code",
   "execution_count": null,
   "metadata": {},
   "outputs": [],
   "source": [
    "    counter = 0\n",
    "    for i in range(4):\n",
    "        if classsim_one.index[i] != target and counter <= 2:\n",
    "            print(\"{}{}, {:.3f}\".format(delim, classsim_one.index[i], classsim_one[i]), end=\"\")\n",
    "            counter += 1\n"
   ]
  },
  {
   "cell_type": "code",
   "execution_count": 22,
   "metadata": {},
   "outputs": [],
   "source": [
    "def print_one2(target):\n",
    "    classsim_one = classsim[target].sort_values(ascending=False)\n",
    "    gmmdist_one = gmmdist[target].sort_values()\n",
    "    print(\"{} & CS & \".format(target), end=\"\")\n",
    "    delim = \"\"\n",
    "    counter = 0\n",
    "    for i in range(len(classsim_one)):\n",
    "        if classsim_one.index[i] != target and counter <= len(classsim_one)-2:\n",
    "            print(\"{}{}\".format(delim, classsim_one.index[i]), end=\"\")\n",
    "            counter +=1\n",
    "            delim = \" & \"\n",
    "    print( \" \\\\\\\\ \\\\cline{2-16}\")\n",
    "\n",
    "    delim = \"\"\n",
    "    counter = 0\n",
    "    print(\" & PD & \", end=\"\")\n",
    "    for i in range(len(gmmdist_one)):\n",
    "        if gmmdist_one.index[i] != target and counter <= len(gmmdist_one)-2:\n",
    "            print(\"{}{}\".format(delim, gmmdist_one.index[i]), end=\"\")\n",
    "            counter += 1\n",
    "            delim = \" & \"\n",
    "    print( \" \\\\\\\\ \\\\hline\")\n"
   ]
  },
  {
   "cell_type": "code",
   "execution_count": 23,
   "metadata": {},
   "outputs": [
    {
     "name": "stdout",
     "output_type": "stream",
     "text": [
      "bay & CS & beach & ocean & city & mountain & ships & buildings & sunset & sunrise & sky & f-16 & boeing & face & birds & helicopter & clouds \\\\ \\cline{2-16}\n",
      " & PD & beach & mountain & birds & ocean & helicopter & ships & city & boeing & sunset & f-16 & clouds & buildings & sunrise & face & sky \\\\ \\hline\n",
      "beach & CS & bay & ocean & mountain & sunrise & sunset & city & sky & helicopter & buildings & f-16 & ships & clouds & boeing & face & birds \\\\ \\cline{2-16}\n",
      " & PD & bay & mountain & birds & helicopter & sunset & boeing & ocean & ships & f-16 & clouds & sunrise & city & buildings & face & sky \\\\ \\hline\n",
      "birds & CS & ocean & face & sunset & f-16 & boeing & sunrise & helicopter & ships & city & sky & buildings & bay & mountain & clouds & beach \\\\ \\cline{2-16}\n",
      " & PD & helicopter & f-16 & boeing & sunset & clouds & beach & mountain & bay & ships & sunrise & ocean & face & city & sky & buildings \\\\ \\hline\n",
      "boeing & CS & f-16 & helicopter & ocean & ships & city & bay & birds & face & sky & buildings & mountain & sunrise & beach & sunset & clouds \\\\ \\cline{2-16}\n",
      " & PD & f-16 & clouds & helicopter & sunset & sunrise & birds & sky & beach & face & mountain & ships & bay & ocean & city & buildings \\\\ \\hline\n",
      "buildings & CS & city & ships & bay & sunset & beach & sunrise & ocean & mountain & boeing & sky & helicopter & birds & face & f-16 & clouds \\\\ \\cline{2-16}\n",
      " & PD & city & bay & ocean & beach & mountain & ships & birds & helicopter & sunset & boeing & f-16 & clouds & sunrise & face & sky \\\\ \\hline\n",
      "city & CS & buildings & bay & ships & beach & mountain & ocean & sunrise & sunset & boeing & face & f-16 & helicopter & sky & birds & clouds \\\\ \\cline{2-16}\n",
      " & PD & ocean & bay & mountain & buildings & beach & birds & ships & helicopter & sunset & boeing & f-16 & sunrise & clouds & face & sky \\\\ \\hline\n",
      "clouds & CS & sky & ocean & sunset & sunrise & mountain & beach & ships & helicopter & face & f-16 & city & buildings & boeing & birds & bay \\\\ \\cline{2-16}\n",
      " & PD & f-16 & boeing & helicopter & sunset & sunrise & sky & birds & face & mountain & beach & ships & bay & ocean & city & buildings \\\\ \\hline\n",
      "face & CS & ocean & sunrise & birds & city & sunset & f-16 & mountain & boeing & ships & sky & helicopter & beach & bay & buildings & clouds \\\\ \\cline{2-16}\n",
      " & PD & f-16 & helicopter & clouds & boeing & sunset & birds & sunrise & mountain & beach & bay & sky & ships & ocean & city & buildings \\\\ \\hline\n",
      "f-16 & CS & boeing & helicopter & ships & ocean & sunset & bay & birds & beach & face & city & sunrise & mountain & sky & clouds & buildings \\\\ \\cline{2-16}\n",
      " & PD & clouds & boeing & helicopter & sunset & sunrise & birds & sky & face & beach & mountain & ships & bay & ocean & city & buildings \\\\ \\hline\n",
      "helicopter & CS & f-16 & boeing & ships & beach & mountain & city & sunrise & birds & face & sky & ocean & buildings & sunset & bay & clouds \\\\ \\cline{2-16}\n",
      " & PD & f-16 & boeing & clouds & sunset & birds & sunrise & ships & mountain & bay & beach & face & sky & ocean & city & buildings \\\\ \\hline\n",
      "mountain & CS & bay & beach & ocean & sunrise & clouds & city & sky & sunset & helicopter & ships & buildings & face & f-16 & boeing & birds \\\\ \\cline{2-16}\n",
      " & PD & beach & bay & birds & helicopter & sunset & ships & boeing & ocean & f-16 & clouds & sunrise & city & buildings & face & sky \\\\ \\hline\n",
      "sky & CS & clouds & sunset & sunrise & ocean & mountain & bay & beach & boeing & city & buildings & face & f-16 & helicopter & birds & ships \\\\ \\cline{2-16}\n",
      " & PD & clouds & f-16 & boeing & helicopter & sunset & sunrise & birds & face & mountain & beach & ships & bay & ocean & city & buildings \\\\ \\hline\n",
      "ships & CS & f-16 & ocean & helicopter & city & buildings & bay & boeing & beach & sunrise & mountain & face & birds & sunset & sky & clouds \\\\ \\cline{2-16}\n",
      " & PD & helicopter & birds & bay & beach & mountain & boeing & f-16 & sunset & ocean & clouds & city & buildings & face & sunrise & sky \\\\ \\hline\n",
      "sunset & CS & sunrise & sky & ocean & clouds & beach & bay & mountain & city & f-16 & buildings & birds & face & ships & helicopter & boeing \\\\ \\cline{2-16}\n",
      " & PD & f-16 & boeing & clouds & helicopter & sunrise & birds & beach & mountain & face & ships & bay & sky & ocean & city & buildings \\\\ \\hline\n",
      "sunrise & CS & sunset & sky & ocean & clouds & beach & mountain & bay & city & face & buildings & ships & f-16 & birds & helicopter & boeing \\\\ \\cline{2-16}\n",
      " & PD & f-16 & boeing & clouds & sunset & helicopter & birds & mountain & sky & beach & bay & face & ships & ocean & city & buildings \\\\ \\hline\n",
      "ocean & CS & bay & sky & clouds & beach & sunset & sunrise & ships & mountain & boeing & city & face & f-16 & birds & buildings & helicopter \\\\ \\cline{2-16}\n",
      " & PD & bay & beach & mountain & city & ships & birds & helicopter & buildings & sunset & boeing & f-16 & clouds & sunrise & face & sky \\\\ \\hline\n"
     ]
    }
   ],
   "source": [
    "for con in concepts:\n",
    "    print_one2(con)"
   ]
  },
  {
   "cell_type": "code",
   "execution_count": null,
   "metadata": {},
   "outputs": [],
   "source": []
  },
  {
   "cell_type": "code",
   "execution_count": 20,
   "metadata": {},
   "outputs": [
    {
     "name": "stdout",
     "output_type": "stream",
     "text": []
    }
   ],
   "source": [
    "def print_one3(target):\n",
    "    classsim_one = classsim[target].sort_values(ascending=False)\n",
    "    gmmdist_one = gmmdist[target].sort_values()\n",
    "    print(\"{} & CS & \".format(target), end=\"\")\n",
    "    delim = \"\"\n",
    "    counter = 0\n",
    "    for i in range(4):\n",
    "        if classsim_one.index[i] != target and counter <= 2:\n",
    "            print(\"{}{}, {:.3f}\".format(delim, classsim_one.index[i], classsim_one[i]), end=\"\")\n",
    "            counter += 1\n",
    "            delim = \" & \"\n",
    "    print( \" \\\\\\\\ \\\\cline{2-5}\")\n",
    "\n",
    "    delim = \"\"\n",
    "    counter = 0\n",
    "    print(\" & PD & \", end=\"\")\n",
    "    for i in range(4):\n",
    "        if gmmdist_one.index[i] != target and counter <= 2:\n",
    "            print(\"{}{}, {:.0f}\".format(delim, gmmdist_one.index[i], gmmdist_one[i]), end=\"\")\n",
    "            counter += 1\n",
    "            delim = \" & \"\n",
    "    print( \" \\\\\\\\ \\\\hline\")\n"
   ]
  },
  {
   "cell_type": "code",
   "execution_count": 21,
   "metadata": {},
   "outputs": [
    {
     "name": "stdout",
     "output_type": "stream",
     "text": []
    }
   ],
   "source": [
    "for con in concepts:\n",
    "    print_one3(con)"
   ]
  },
  {
   "cell_type": "code",
   "execution_count": null,
   "metadata": {},
   "outputs": [],
   "source": []
  },
  {
   "cell_type": "code",
   "execution_count": null,
   "metadata": {},
   "outputs": [],
   "source": []
  },
  {
   "cell_type": "code",
   "execution_count": 4,
   "metadata": {},
   "outputs": [
    {
     "name": "stdout",
     "output_type": "stream",
     "text": [
      "bay & beach & birds & boeing & buildings & city & clouds & face & f-16 & helicopter & mountain & sky & ships & sunset & sunrise & ocean"
     ]
    }
   ],
   "source": [
    "delim = \"\"\n",
    "for cat in concepts:\n",
    "    print(\"{}{}\".format(delim, cat), end=\"\")\n",
    "    delim = \" & \"\n"
   ]
  },
  {
   "cell_type": "code",
   "execution_count": null,
   "metadata": {},
   "outputs": [],
   "source": []
  },
  {
   "cell_type": "code",
   "execution_count": 20,
   "metadata": {},
   "outputs": [
    {
     "name": "stdout",
     "output_type": "stream",
     "text": []
    }
   ],
   "source": [
    "def print_top3_2(target):\n",
    "    classsim_one = classsim[target].sort_values(ascending=False)\n",
    "    gmmdist_one = gmmdist[target].sort_values()\n",
    "    print(\"{} & CS & \".format(target), end=\"\")\n",
    "    delim = \"\"\n",
    "    counter = 0\n",
    "    for i in range(4):\n",
    "        if classsim_one.index[i] != target and counter <= 2:\n",
    "            print(\"{}{}, {:.3f}\".format(delim, classsim_one.index[i], classsim_one[i]), end=\"\")\n",
    "            counter += 1\n",
    "            delim = \" & \"\n",
    "    print( \" \\\\\\\\ \\\\cline{2-5}\")\n",
    "\n",
    "    delim = \"\"\n",
    "    counter = 0\n",
    "    print(\" & PD & \", end=\"\")\n",
    "    for i in range(4):\n",
    "        if gmmdist_one.index[i] != target and counter <= 2:\n",
    "            print(\"{}{}, {:.0f}\".format(delim, gmmdist_one.index[i], gmmdist_one[i]), end=\"\")\n",
    "            counter += 1\n",
    "            delim = \" & \"\n",
    "    print( \" \\\\\\\\ \\\\hline\")\n"
   ]
  },
  {
   "cell_type": "code",
   "execution_count": 21,
   "metadata": {},
   "outputs": [
    {
     "name": "stdout",
     "output_type": "stream",
     "text": []
    }
   ],
   "source": [
    "for con in concepts:\n",
    "    print_top3_2(con)"
   ]
  },
  {
   "cell_type": "code",
   "execution_count": null,
   "metadata": {},
   "outputs": [],
   "source": []
  },
  {
   "cell_type": "code",
   "execution_count": null,
   "metadata": {},
   "outputs": [],
   "source": []
  },
  {
   "cell_type": "code",
   "execution_count": null,
   "metadata": {},
   "outputs": [],
   "source": []
  },
  {
   "cell_type": "code",
   "execution_count": 12,
   "metadata": {},
   "outputs": [
    {
     "name": "stdout",
     "output_type": "stream",
     "text": []
    }
   ],
   "source": [
    "def print_one3_multi(target):\n",
    "    classsim_one = classsim[target].sort_values(ascending=False)\n",
    "    multi_one = multi[target].sort_values(ascending=False)\n",
    "    print(\"{} & OVR & \".format(target), end=\"\")\n",
    "    delim = \"\"\n",
    "    counter = 0\n",
    "    for i in range(4):\n",
    "        if classsim_one.index[i] != target and counter <= 2:\n",
    "            print(\"{}{}, {:.3f}\".format(delim, classsim_one.index[i], classsim_one[i]), end=\"\")\n",
    "            counter += 1\n",
    "            delim = \" & \"\n",
    "    print( \" \\\\\\\\ \\\\cline{2-5}\")\n",
    "\n",
    "    delim = \"\"\n",
    "    counter = 0\n",
    "    print(\" & MULTI & \", end=\"\")\n",
    "    for i in range(4):\n",
    "        if multi_one.index[i] != target and counter <= 2:\n",
    "            print(\"{}{}, {:.3f}\".format(delim, multi_one.index[i], multi_one[i]), end=\"\")\n",
    "            counter += 1\n",
    "            delim = \" & \"\n",
    "    print( \" \\\\\\\\ \\\\hline\")\n"
   ]
  },
  {
   "cell_type": "code",
   "execution_count": 9,
   "metadata": {},
   "outputs": [
    {
     "name": "stdout",
     "output_type": "stream",
     "text": []
    }
   ],
   "source": [
    "multi_one = multi['bay'].sort_values(ascending=False)\n"
   ]
  },
  {
   "cell_type": "code",
   "execution_count": 10,
   "metadata": {},
   "outputs": [
    {
     "data": {
      "text/plain": [
       "bay         0.617021\n",
       "beach       0.245719\n",
       "city        0.122972\n",
       "mountain    0.093390\n",
       "ocean       0.086738\n",
       "Name: bay, dtype: float64"
      ]
     },
     "execution_count": 10,
     "metadata": {},
     "output_type": "execute_result"
    }
   ],
   "source": [
    "multi_one[0:5]"
   ]
  },
  {
   "cell_type": "code",
   "execution_count": 11,
   "metadata": {},
   "outputs": [
    {
     "data": {
      "text/plain": [
       "0.12297151099891815"
      ]
     },
     "execution_count": 11,
     "metadata": {},
     "output_type": "execute_result"
    }
   ],
   "source": [
    "multi_one[2]"
   ]
  },
  {
   "cell_type": "code",
   "execution_count": 13,
   "metadata": {},
   "outputs": [
    {
     "name": "stdout",
     "output_type": "stream",
     "text": [
      "bay & OVR & beach, 0.626 & ocean, 0.320 & city, 0.301 \\\\ \\cline{2-5}\n",
      " & MULTI & beach, 0.246 & city, 0.123 & mountain, 0.093 \\\\ \\hline\n",
      "beach & OVR & bay, 0.626 & ocean, 0.245 & mountain, 0.114 \\\\ \\cline{2-5}\n",
      " & MULTI & bay, 0.246 & ocean, 0.040 & buildings, 0.015 \\\\ \\hline\n",
      "birds & OVR & ocean, 0.045 & face, 0.037 & sunset, 0.028 \\\\ \\cline{2-5}\n",
      " & MULTI & face, 0.011 & ocean, 0.009 & mountain, 0.008 \\\\ \\hline\n",
      "boeing & OVR & f-16, 0.258 & helicopter, 0.153 & ocean, 0.067 \\\\ \\cline{2-5}\n",
      " & MULTI & f-16, 0.040 & sky, 0.005 & helicopter, 0.005 \\\\ \\hline\n",
      "buildings & OVR & city, 0.656 & ships, 0.092 & bay, 0.069 \\\\ \\cline{2-5}\n",
      " & MULTI & city, 0.122 & bay, 0.044 & ships, 0.017 \\\\ \\hline\n",
      "city & OVR & buildings, 0.656 & bay, 0.301 & ships, 0.097 \\\\ \\cline{2-5}\n",
      " & MULTI & bay, 0.123 & buildings, 0.122 & ships, 0.013 \\\\ \\hline\n",
      "clouds & OVR & sky, 0.787 & ocean, 0.260 & sunset, 0.128 \\\\ \\cline{2-5}\n",
      " & MULTI & sky, 0.248 & ocean, 0.041 & mountain, 0.021 \\\\ \\hline\n",
      "face & OVR & ocean, 0.051 & sunrise, 0.040 & birds, 0.037 \\\\ \\cline{2-5}\n",
      " & MULTI & ocean, 0.012 & birds, 0.011 & sunset, 0.008 \\\\ \\hline\n",
      "f-16 & OVR & boeing, 0.258 & helicopter, 0.188 & ships, 0.126 \\\\ \\cline{2-5}\n",
      " & MULTI & boeing, 0.040 & helicopter, 0.038 & mountain, 0.013 \\\\ \\hline\n",
      "helicopter & OVR & f-16, 0.188 & boeing, 0.153 & ships, 0.098 \\\\ \\cline{2-5}\n",
      " & MULTI & f-16, 0.038 & ships, 0.025 & bay, 0.011 \\\\ \\hline\n",
      "mountain & OVR & bay, 0.188 & beach, 0.114 & ocean, 0.093 \\\\ \\cline{2-5}\n",
      " & MULTI & bay, 0.093 & clouds, 0.021 & ocean, 0.016 \\\\ \\hline\n",
      "sky & OVR & clouds, 0.787 & sunset, 0.317 & sunrise, 0.302 \\\\ \\cline{2-5}\n",
      " & MULTI & clouds, 0.248 & sunset, 0.106 & sunrise, 0.057 \\\\ \\hline\n",
      "ships & OVR & f-16, 0.126 & ocean, 0.108 & helicopter, 0.098 \\\\ \\cline{2-5}\n",
      " & MULTI & bay, 0.061 & helicopter, 0.025 & ocean, 0.022 \\\\ \\hline\n",
      "sunset & OVR & sunrise, 0.902 & sky, 0.317 & ocean, 0.163 \\\\ \\cline{2-5}\n",
      " & MULTI & sunrise, 0.353 & sky, 0.106 & ocean, 0.026 \\\\ \\hline\n",
      "sunrise & OVR & sunset, 0.902 & sky, 0.302 & ocean, 0.157 \\\\ \\cline{2-5}\n",
      " & MULTI & sunset, 0.353 & sky, 0.057 & bay, 0.020 \\\\ \\hline\n",
      "ocean & OVR & bay, 0.320 & sky, 0.271 & clouds, 0.260 \\\\ \\cline{2-5}\n",
      " & MULTI & bay, 0.087 & clouds, 0.041 & beach, 0.040 \\\\ \\hline\n"
     ]
    }
   ],
   "source": [
    "for con in concepts:\n",
    "    print_one3_multi(con)"
   ]
  },
  {
   "cell_type": "code",
   "execution_count": null,
   "metadata": {},
   "outputs": [
    {
     "name": "stdout",
     "output_type": "stream",
     "text": []
    }
   ],
   "source": []
  },
  {
   "cell_type": "code",
   "execution_count": null,
   "metadata": {},
   "outputs": [],
   "source": []
  },
  {
   "cell_type": "code",
   "execution_count": 5,
   "metadata": {},
   "outputs": [],
   "source": [
    "def print_top3_multi_side_by_side(target):\n",
    "    classsim_one = classsim[target].sort_values(ascending=False)\n",
    "    multi_one = multi[target].sort_values(ascending=False)\n",
    "    print(\"{} \".format(target), end=\"\")\n",
    "    counter = 0\n",
    "    for i in range(4):\n",
    "        if classsim_one.index[i] != target and counter <= 2:\n",
    "            print(\"& {}:{:.3f}\".format(classsim_one.index[i], classsim_one[i]), end=\"\")\n",
    "            counter += 1\n",
    "    counter = 0\n",
    "    for i in range(4):\n",
    "        if multi_one.index[i] != target and counter <= 2:\n",
    "            print(\"& {}:{:.3f}\".format(multi_one.index[i], multi_one[i]), end=\"\")\n",
    "            counter += 1\n",
    "    print( \" \\\\\\\\ \\\\hline\")\n"
   ]
  },
  {
   "cell_type": "code",
   "execution_count": null,
   "metadata": {},
   "outputs": [],
   "source": []
  },
  {
   "cell_type": "code",
   "execution_count": 6,
   "metadata": {},
   "outputs": [
    {
     "name": "stdout",
     "output_type": "stream",
     "text": [
      "bay & beach:0.626& ocean:0.320& city:0.301& beach:0.246& city:0.123& mountain:0.093 \\\\ \\hline\n",
      "beach & bay:0.626& ocean:0.245& mountain:0.114& bay:0.246& ocean:0.040& buildings:0.015 \\\\ \\hline\n",
      "birds & ocean:0.045& face:0.037& sunset:0.028& face:0.011& ocean:0.009& mountain:0.008 \\\\ \\hline\n",
      "boeing & f-16:0.258& helicopter:0.153& ocean:0.067& f-16:0.040& sky:0.005& helicopter:0.005 \\\\ \\hline\n",
      "buildings & city:0.656& ships:0.092& bay:0.069& city:0.122& bay:0.044& ships:0.017 \\\\ \\hline\n",
      "city & buildings:0.656& bay:0.301& ships:0.097& bay:0.123& buildings:0.122& ships:0.013 \\\\ \\hline\n",
      "clouds & sky:0.787& ocean:0.260& sunset:0.128& sky:0.248& ocean:0.041& mountain:0.021 \\\\ \\hline\n",
      "face & ocean:0.051& sunrise:0.040& birds:0.037& ocean:0.012& birds:0.011& sunset:0.008 \\\\ \\hline\n",
      "f-16 & boeing:0.258& helicopter:0.188& ships:0.126& boeing:0.040& helicopter:0.038& mountain:0.013 \\\\ \\hline\n",
      "helicopter & f-16:0.188& boeing:0.153& ships:0.098& f-16:0.038& ships:0.025& bay:0.011 \\\\ \\hline\n",
      "mountain & bay:0.188& beach:0.114& ocean:0.093& bay:0.093& clouds:0.021& ocean:0.016 \\\\ \\hline\n",
      "sky & clouds:0.787& sunset:0.317& sunrise:0.302& clouds:0.248& sunset:0.106& sunrise:0.057 \\\\ \\hline\n",
      "ships & f-16:0.126& ocean:0.108& helicopter:0.098& bay:0.061& helicopter:0.025& ocean:0.022 \\\\ \\hline\n",
      "sunset & sunrise:0.902& sky:0.317& ocean:0.163& sunrise:0.353& sky:0.106& ocean:0.026 \\\\ \\hline\n",
      "sunrise & sunset:0.902& sky:0.302& ocean:0.157& sunset:0.353& sky:0.057& bay:0.020 \\\\ \\hline\n",
      "ocean & bay:0.320& sky:0.271& clouds:0.260& bay:0.087& clouds:0.041& beach:0.040 \\\\ \\hline\n"
     ]
    }
   ],
   "source": [
    "for con in concepts:\n",
    "    print_top3_multi_side_by_side(con)"
   ]
  },
  {
   "cell_type": "code",
   "execution_count": null,
   "metadata": {},
   "outputs": [],
   "source": []
  },
  {
   "cell_type": "markdown",
   "metadata": {},
   "source": [
    "### Print full table"
   ]
  },
  {
   "cell_type": "code",
   "execution_count": 8,
   "metadata": {},
   "outputs": [
    {
     "name": "stdout",
     "output_type": "stream",
     "text": [
      "& bay & beach & birds & boeing & buildings & city & clouds & face \n"
     ]
    }
   ],
   "source": [
    "for cat in concepts[0:6]:\n",
    "    print(\"& {} \".format(cat), end=\"\")\n",
    "print(\"\")"
   ]
  },
  {
   "cell_type": "code",
   "execution_count": 20,
   "metadata": {},
   "outputs": [],
   "source": [
    "target = concepts[3]"
   ]
  },
  {
   "cell_type": "code",
   "execution_count": 21,
   "metadata": {},
   "outputs": [],
   "source": [
    "one = classsim[target]"
   ]
  },
  {
   "cell_type": "code",
   "execution_count": 26,
   "metadata": {},
   "outputs": [
    {
     "data": {
      "text/plain": [
       "3"
      ]
     },
     "execution_count": 26,
     "metadata": {},
     "output_type": "execute_result"
    }
   ],
   "source": [
    "one.index.get_loc(target)"
   ]
  },
  {
   "cell_type": "code",
   "execution_count": 28,
   "metadata": {},
   "outputs": [
    {
     "data": {
      "text/plain": [
       "'boeing'"
      ]
     },
     "execution_count": 28,
     "metadata": {},
     "output_type": "execute_result"
    }
   ],
   "source": [
    "target"
   ]
  },
  {
   "cell_type": "code",
   "execution_count": 27,
   "metadata": {
    "scrolled": true
   },
   "outputs": [
    {
     "data": {
      "text/plain": [
       "Index(['bay', 'beach', 'birds', 'boeing', 'buildings', 'city', 'clouds',\n",
       "       'f-16', 'face', 'helicopter', 'mountain', 'ocean', 'ships', 'sky',\n",
       "       'sunrise', 'sunset'],\n",
       "      dtype='object')"
      ]
     },
     "execution_count": 27,
     "metadata": {},
     "output_type": "execute_result"
    }
   ],
   "source": [
    "one.index"
   ]
  },
  {
   "cell_type": "code",
   "execution_count": null,
   "metadata": {},
   "outputs": [],
   "source": []
  },
  {
   "cell_type": "code",
   "execution_count": 31,
   "metadata": {},
   "outputs": [
    {
     "data": {
      "text/plain": [
       "16"
      ]
     },
     "execution_count": 31,
     "metadata": {},
     "output_type": "execute_result"
    }
   ],
   "source": [
    "len(one.index)"
   ]
  },
  {
   "cell_type": "code",
   "execution_count": 32,
   "metadata": {},
   "outputs": [],
   "source": [
    "def print_one4(rank, cats):\n",
    "    print(\"CS \", end=\"\")\n",
    "    for target in cats: \n",
    "        classsim_one = classsim[target].sort_values(ascending=False)\n",
    "        tindex = classsim_one.index.get_loc(target)\n",
    "        i = rank\n",
    "        if i >= tindex:\n",
    "            i += 1\n",
    "        if i < len(classsim_one.index):\n",
    "            print(\"& {}:{:.3f}\".format(classsim_one.index[i], classsim_one[i]), end=\"\")\n",
    "    print(\"\\\\\\\\ \\\\cline{0-0}\")\n",
    "    \n",
    "    print(\"PD \", end=\"\")\n",
    "    for target in cats: \n",
    "        gmmdist_one = gmmdist[target].sort_values()\n",
    "        tindex = gmmdist_one.index.get_loc(target)\n",
    "        i = rank\n",
    "        if i >= tindex:\n",
    "            i+=1            \n",
    "        if i < len(gmmdist_one.index):\n",
    "            print(\"& {}:{:.0f}\".format(gmmdist_one.index[i], gmmdist_one[i]), end=\"\")\n",
    "    print( \" \\\\\\\\ \\\\hline\")\n"
   ]
  },
  {
   "cell_type": "code",
   "execution_count": null,
   "metadata": {},
   "outputs": [],
   "source": []
  },
  {
   "cell_type": "code",
   "execution_count": 36,
   "metadata": {},
   "outputs": [
    {
     "name": "stdout",
     "output_type": "stream",
     "text": [
      "CS & beach:0.626& bay:0.626& ocean:0.045& f-16:0.258& city:0.656& buildings:0.656\\\\ \\cline{0-0}\n",
      "PD & beach:6588& bay:6588& helicopter:5656& f-16:3438& city:9624& ocean:8576 \\\\ \\hline\n",
      "CS & ocean:0.320& ocean:0.245& face:0.037& helicopter:0.153& ships:0.092& bay:0.301\\\\ \\cline{0-0}\n",
      "PD & mountain:6951& mountain:6909& f-16:6490& clouds:3525& bay:9813& bay:8679 \\\\ \\hline\n",
      "CS & city:0.301& mountain:0.114& sunset:0.028& ocean:0.067& bay:0.069& ships:0.097\\\\ \\cline{0-0}\n",
      "PD & birds:7192& birds:7014& boeing:6490& helicopter:4918& ocean:10152& mountain:9585 \\\\ \\hline\n",
      "CS & mountain:0.188& sunrise:0.106& f-16:0.027& ships:0.059& sunset:0.029& beach:0.073\\\\ \\cline{0-0}\n",
      "PD & ocean:7270& helicopter:7738& sunset:6666& sunset:5365& beach:10429& buildings:9624 \\\\ \\hline\n",
      "CS & ships:0.077& sunset:0.095& boeing:0.019& city:0.035& beach:0.026& mountain:0.060\\\\ \\cline{0-0}\n",
      "PD & helicopter:7737& sunset:8008& clouds:6681& sunrise:6028& mountain:10634& beach:9718 \\\\ \\hline\n",
      "CS & buildings:0.069& city:0.073& sunrise:0.013& bay:0.025& sunrise:0.026& ocean:0.056\\\\ \\cline{0-0}\n",
      "PD & ships:7983& boeing:8059& beach:7014& birds:6490& ships:10922& birds:10680 \\\\ \\hline\n",
      "CS & sunset:0.056& sky:0.030& helicopter:0.008& birds:0.019& ocean:0.025& sunrise:0.040\\\\ \\cline{0-0}\n",
      "PD & city:8679& ocean:8070& mountain:7117& sky:7467& birds:11194& ships:10755 \\\\ \\hline\n",
      "CS & sunrise:0.055& helicopter:0.030& ships:0.008& face:0.016& mountain:0.020& sunset:0.038\\\\ \\cline{0-0}\n",
      "PD & boeing:8742& ships:8216& bay:7192& beach:8059& helicopter:12370& helicopter:11876 \\\\ \\hline\n",
      "CS & sky:0.034& buildings:0.026& city:0.004& sky:0.014& boeing:0.013& boeing:0.035\\\\ \\cline{0-0}\n",
      "PD & sunset:8842& f-16:8470& ships:7520& face:8123& sunset:13017& sunset:12701 \\\\ \\hline\n",
      "CS & f-16:0.028& f-16:0.023& sky:0.004& buildings:0.013& sky:0.008& face:0.029\\\\ \\cline{0-0}\n",
      "PD & f-16:9124& clouds:8854& sunrise:7829& mountain:8323& boeing:13738& boeing:13396 \\\\ \\hline\n",
      "CS & boeing:0.025& ships:0.023& buildings:0.004& mountain:0.012& helicopter:0.004& f-16:0.018\\\\ \\cline{0-0}\n",
      "PD & clouds:9547& sunrise:9672& ocean:8899& ships:8564& f-16:13867& f-16:13526 \\\\ \\hline\n",
      "CS & face:0.007& clouds:0.014& bay:0.004& sunrise:0.011& birds:0.004& helicopter:0.017\\\\ \\cline{0-0}\n",
      "PD & buildings:9813& city:9718& face:9026& bay:8742& clouds:14416& sunrise:14070 \\\\ \\hline\n",
      "CS & birds:0.004& boeing:0.011& mountain:0.000& beach:0.011& face:0.004& sky:0.013\\\\ \\cline{0-0}\n",
      "PD & sunrise:10123& buildings:10429& city:10680& ocean:10683& sunrise:14528& clouds:14118 \\\\ \\hline\n",
      "CS & helicopter:0.004& face:0.007& clouds:0.000& sunset:0.004& f-16:0.000& birds:0.004\\\\ \\cline{0-0}\n",
      "PD & face:11249& face:11145& sky:10694& city:13396& face:15108& face:14637 \\\\ \\hline\n",
      "CS & clouds:0.000& birds:0.000& beach:0.000& clouds:0.000& clouds:0.000& clouds:0.000\\\\ \\cline{0-0}\n",
      "PD & sky:13553& sky:12997& buildings:11194& buildings:13738& sky:18222& sky:17849 \\\\ \\hline\n"
     ]
    }
   ],
   "source": [
    "for rank in range(15):\n",
    "    print_one4(rank, concepts[0:6])"
   ]
  },
  {
   "cell_type": "code",
   "execution_count": 18,
   "metadata": {},
   "outputs": [
    {
     "name": "stdout",
     "output_type": "stream",
     "text": [
      "& ships & sunset & sunrise & ocean \\\\ \\hline\n"
     ]
    }
   ],
   "source": [
    "for cat in concepts[12:]:\n",
    "    print(\"& {} \".format(cat), end=\"\")\n",
    "print(\"\\\\\\\\ \\\\hline\")"
   ]
  },
  {
   "cell_type": "code",
   "execution_count": null,
   "metadata": {},
   "outputs": [],
   "source": []
  },
  {
   "cell_type": "code",
   "execution_count": null,
   "metadata": {},
   "outputs": [],
   "source": []
  },
  {
   "cell_type": "code",
   "execution_count": 7,
   "metadata": {},
   "outputs": [],
   "source": [
    "def print_full_multi(rank, cats):\n",
    "    print(\"OVR \", end=\"\")\n",
    "    for target in cats: \n",
    "        classsim_one = classsim[target].sort_values(ascending=False)\n",
    "        tindex = classsim_one.index.get_loc(target)\n",
    "        i = rank\n",
    "        if i >= tindex:\n",
    "            i += 1\n",
    "        if i < len(classsim_one.index):\n",
    "            print(\"& {}:{:.3f}\".format(classsim_one.index[i], classsim_one[i]), end=\"\")\n",
    "    print(\"\\\\\\\\ \\\\cline{0-0}\")\n",
    "    \n",
    "    print(\"Multi \", end=\"\")\n",
    "    for target in cats: \n",
    "        classsim_one = multi[target].sort_values(ascending=False)\n",
    "        tindex = classsim_one.index.get_loc(target)\n",
    "        i = rank\n",
    "        if i >= tindex:\n",
    "            i += 1\n",
    "        if i < len(classsim_one.index):\n",
    "            print(\"& {}:{:.3f}\".format(classsim_one.index[i], classsim_one[i]), end=\"\")\n",
    "    print( \" \\\\\\\\ \\\\hline\")\n"
   ]
  },
  {
   "cell_type": "code",
   "execution_count": 13,
   "metadata": {
    "scrolled": true
   },
   "outputs": [
    {
     "name": "stdout",
     "output_type": "stream",
     "text": [
      "& ships & sunset & sunrise & ocean \\\\ \\hline\n"
     ]
    }
   ],
   "source": [
    "for cat in concepts[12:]:\n",
    "    print(\"& {} \".format(cat), end=\"\")\n",
    "print(\"\\\\\\\\ \\\\hline\")"
   ]
  },
  {
   "cell_type": "code",
   "execution_count": 12,
   "metadata": {},
   "outputs": [
    {
     "name": "stdout",
     "output_type": "stream",
     "text": [
      "OVR & f-16:0.126& sunrise:0.902& sunset:0.902& bay:0.320\\\\ \\cline{0-0}\n",
      "Multi & bay:0.061& sunrise:0.353& sunset:0.353& bay:0.087 \\\\ \\hline\n",
      "OVR & ocean:0.108& sky:0.317& sky:0.302& sky:0.271\\\\ \\cline{0-0}\n",
      "Multi & helicopter:0.025& sky:0.106& sky:0.057& clouds:0.041 \\\\ \\hline\n",
      "OVR & helicopter:0.098& ocean:0.163& ocean:0.157& clouds:0.260\\\\ \\cline{0-0}\n",
      "Multi & ocean:0.022& ocean:0.026& bay:0.020& beach:0.040 \\\\ \\hline\n",
      "OVR & city:0.097& clouds:0.128& clouds:0.116& beach:0.245\\\\ \\cline{0-0}\n",
      "Multi & buildings:0.017& clouds:0.014& ocean:0.014& sunset:0.026 \\\\ \\hline\n",
      "OVR & buildings:0.092& beach:0.095& beach:0.106& sunset:0.163\\\\ \\cline{0-0}\n",
      "Multi & f-16:0.013& beach:0.014& beach:0.009& sky:0.022 \\\\ \\hline\n",
      "OVR & bay:0.077& bay:0.056& mountain:0.093& sunrise:0.157\\\\ \\cline{0-0}\n",
      "Multi & city:0.013& bay:0.013& mountain:0.005& ships:0.022 \\\\ \\hline\n",
      "OVR & boeing:0.059& mountain:0.046& bay:0.055& ships:0.108\\\\ \\cline{0-0}\n",
      "Multi & beach:0.007& face:0.008& face:0.005& mountain:0.016 \\\\ \\hline\n",
      "OVR & beach:0.023& city:0.038& city:0.040& mountain:0.093\\\\ \\cline{0-0}\n",
      "Multi & birds:0.004& city:0.008& buildings:0.005& sunrise:0.014 \\\\ \\hline\n",
      "OVR & sunrise:0.022& f-16:0.030& face:0.040& boeing:0.067\\\\ \\cline{0-0}\n",
      "Multi & sunset:0.000& mountain:0.004& clouds:0.005& buildings:0.013 \\\\ \\hline\n",
      "OVR & mountain:0.020& buildings:0.029& buildings:0.026& city:0.056\\\\ \\cline{0-0}\n",
      "Multi & sunrise:0.000& helicopter:0.004& ships:0.000& face:0.012 \\\\ \\hline\n",
      "OVR & face:0.016& birds:0.028& ships:0.022& face:0.051\\\\ \\cline{0-0}\n",
      "Multi & sky:0.000& birds:0.004& helicopter:0.000& f-16:0.009 \\\\ \\hline\n",
      "OVR & birds:0.008& face:0.024& f-16:0.016& f-16:0.050\\\\ \\cline{0-0}\n",
      "Multi & mountain:0.000& ships:0.000& f-16:0.000& birds:0.009 \\\\ \\hline\n",
      "OVR & sunset:0.004& ships:0.004& birds:0.013& birds:0.045\\\\ \\cline{0-0}\n",
      "Multi & face:0.000& f-16:0.000& city:0.000& helicopter:0.000 \\\\ \\hline\n",
      "OVR & sky:0.000& helicopter:0.004& helicopter:0.011& buildings:0.025\\\\ \\cline{0-0}\n",
      "Multi & clouds:0.000& buildings:0.000& boeing:0.000& city:0.000 \\\\ \\hline\n",
      "OVR & clouds:0.000& boeing:0.004& boeing:0.011& helicopter:0.004\\\\ \\cline{0-0}\n",
      "Multi & boeing:0.000& boeing:0.000& birds:0.000& boeing:0.000 \\\\ \\hline\n"
     ]
    }
   ],
   "source": [
    "for rank in range(15):\n",
    "    print_full_multi(rank, concepts[12:])"
   ]
  },
  {
   "cell_type": "code",
   "execution_count": null,
   "metadata": {},
   "outputs": [],
   "source": []
  },
  {
   "cell_type": "code",
   "execution_count": null,
   "metadata": {},
   "outputs": [],
   "source": []
  },
  {
   "cell_type": "code",
   "execution_count": null,
   "metadata": {},
   "outputs": [],
   "source": []
  },
  {
   "cell_type": "code",
   "execution_count": null,
   "metadata": {},
   "outputs": [],
   "source": []
  },
  {
   "cell_type": "code",
   "execution_count": null,
   "metadata": {},
   "outputs": [],
   "source": []
  },
  {
   "cell_type": "code",
   "execution_count": null,
   "metadata": {},
   "outputs": [
    {
     "name": "stdout",
     "output_type": "stream",
     "text": []
    }
   ],
   "source": []
  },
  {
   "cell_type": "code",
   "execution_count": 20,
   "metadata": {},
   "outputs": [
    {
     "data": {
      "text/plain": [
       "16"
      ]
     },
     "execution_count": 20,
     "metadata": {},
     "output_type": "execute_result"
    }
   ],
   "source": [
    "len(classsim_one)"
   ]
  },
  {
   "cell_type": "code",
   "execution_count": 22,
   "metadata": {},
   "outputs": [
    {
     "data": {
      "text/plain": [
       "0.85227272727272729"
      ]
     },
     "execution_count": 22,
     "metadata": {},
     "output_type": "execute_result"
    }
   ],
   "source": [
    "classsim_one[0]"
   ]
  },
  {
   "cell_type": "code",
   "execution_count": 29,
   "metadata": {},
   "outputs": [
    {
     "data": {
      "text/plain": [
       "['T',\n",
       " '_AXIS_ALIASES',\n",
       " '_AXIS_IALIASES',\n",
       " '_AXIS_LEN',\n",
       " '_AXIS_NAMES',\n",
       " '_AXIS_NUMBERS',\n",
       " '_AXIS_ORDERS',\n",
       " '_AXIS_REVERSED',\n",
       " '_AXIS_SLICEMAP',\n",
       " '__abs__',\n",
       " '__add__',\n",
       " '__and__',\n",
       " '__array__',\n",
       " '__array_prepare__',\n",
       " '__array_priority__',\n",
       " '__array_wrap__',\n",
       " '__bool__',\n",
       " '__bytes__',\n",
       " '__class__',\n",
       " '__contains__',\n",
       " '__copy__',\n",
       " '__deepcopy__',\n",
       " '__delattr__',\n",
       " '__delitem__',\n",
       " '__dict__',\n",
       " '__dir__',\n",
       " '__div__',\n",
       " '__divmod__',\n",
       " '__doc__',\n",
       " '__eq__',\n",
       " '__finalize__',\n",
       " '__float__',\n",
       " '__floordiv__',\n",
       " '__format__',\n",
       " '__ge__',\n",
       " '__getattr__',\n",
       " '__getattribute__',\n",
       " '__getitem__',\n",
       " '__getstate__',\n",
       " '__gt__',\n",
       " '__hash__',\n",
       " '__iadd__',\n",
       " '__iand__',\n",
       " '__ifloordiv__',\n",
       " '__imod__',\n",
       " '__imul__',\n",
       " '__init__',\n",
       " '__int__',\n",
       " '__invert__',\n",
       " '__ior__',\n",
       " '__ipow__',\n",
       " '__isub__',\n",
       " '__iter__',\n",
       " '__itruediv__',\n",
       " '__ixor__',\n",
       " '__le__',\n",
       " '__len__',\n",
       " '__long__',\n",
       " '__lt__',\n",
       " '__mod__',\n",
       " '__module__',\n",
       " '__mul__',\n",
       " '__ne__',\n",
       " '__neg__',\n",
       " '__new__',\n",
       " '__nonzero__',\n",
       " '__or__',\n",
       " '__pow__',\n",
       " '__radd__',\n",
       " '__rand__',\n",
       " '__rdiv__',\n",
       " '__reduce__',\n",
       " '__reduce_ex__',\n",
       " '__repr__',\n",
       " '__rfloordiv__',\n",
       " '__rmod__',\n",
       " '__rmul__',\n",
       " '__ror__',\n",
       " '__round__',\n",
       " '__rpow__',\n",
       " '__rsub__',\n",
       " '__rtruediv__',\n",
       " '__rxor__',\n",
       " '__setattr__',\n",
       " '__setitem__',\n",
       " '__setstate__',\n",
       " '__sizeof__',\n",
       " '__str__',\n",
       " '__sub__',\n",
       " '__subclasshook__',\n",
       " '__truediv__',\n",
       " '__unicode__',\n",
       " '__weakref__',\n",
       " '__xor__',\n",
       " '_accessors',\n",
       " '_add_numeric_operations',\n",
       " '_add_series_only_operations',\n",
       " '_add_series_or_dataframe_operations',\n",
       " '_agg_by_level',\n",
       " '_agg_doc',\n",
       " '_aggregate',\n",
       " '_aggregate_multiple_funcs',\n",
       " '_align_frame',\n",
       " '_align_series',\n",
       " '_allow_index_ops',\n",
       " '_at',\n",
       " '_binop',\n",
       " '_box_item_values',\n",
       " '_builtin_table',\n",
       " '_can_hold_na',\n",
       " '_check_inplace_setting',\n",
       " '_check_is_chained_assignment_possible',\n",
       " '_check_percentile',\n",
       " '_check_setitem_copy',\n",
       " '_clear_item_cache',\n",
       " '_clip_with_one_bound',\n",
       " '_clip_with_scalar',\n",
       " '_consolidate',\n",
       " '_consolidate_inplace',\n",
       " '_construct_axes_dict',\n",
       " '_construct_axes_dict_for_slice',\n",
       " '_construct_axes_dict_from',\n",
       " '_construct_axes_from_arguments',\n",
       " '_constructor',\n",
       " '_constructor_expanddim',\n",
       " '_constructor_sliced',\n",
       " '_convert',\n",
       " '_create_indexer',\n",
       " '_cython_table',\n",
       " '_deprecations',\n",
       " '_dir_additions',\n",
       " '_dir_deletions',\n",
       " '_drop_axis',\n",
       " '_expand_axes',\n",
       " '_formatting_values',\n",
       " '_from_axes',\n",
       " '_get_axis',\n",
       " '_get_axis_name',\n",
       " '_get_axis_number',\n",
       " '_get_axis_resolvers',\n",
       " '_get_block_manager_axis',\n",
       " '_get_bool_data',\n",
       " '_get_cacher',\n",
       " '_get_index_resolvers',\n",
       " '_get_item_cache',\n",
       " '_get_numeric_data',\n",
       " '_get_value',\n",
       " '_get_values',\n",
       " '_get_values_tuple',\n",
       " '_get_with',\n",
       " '_gotitem',\n",
       " '_iat',\n",
       " '_iget_item_cache',\n",
       " '_iloc',\n",
       " '_index',\n",
       " '_indexed_same',\n",
       " '_info_axis',\n",
       " '_info_axis_name',\n",
       " '_info_axis_number',\n",
       " '_init_mgr',\n",
       " '_internal_names',\n",
       " '_internal_names_set',\n",
       " '_is_builtin_func',\n",
       " '_is_cached',\n",
       " '_is_cython_func',\n",
       " '_is_datelike_mixed_type',\n",
       " '_is_mixed_type',\n",
       " '_is_numeric_mixed_type',\n",
       " '_is_view',\n",
       " '_ix',\n",
       " '_ixs',\n",
       " '_loc',\n",
       " '_maybe_cache_changed',\n",
       " '_maybe_update_cacher',\n",
       " '_metadata',\n",
       " '_needs_reindex_multi',\n",
       " '_obj_with_exclusions',\n",
       " '_protect_consolidate',\n",
       " '_reduce',\n",
       " '_reindex_axes',\n",
       " '_reindex_axis',\n",
       " '_reindex_indexer',\n",
       " '_reindex_multi',\n",
       " '_reindex_with_indexers',\n",
       " '_repr_data_resource_',\n",
       " '_repr_latex_',\n",
       " '_reset_cache',\n",
       " '_reset_cacher',\n",
       " '_selected_obj',\n",
       " '_selection',\n",
       " '_selection_list',\n",
       " '_selection_name',\n",
       " '_set_as_cached',\n",
       " '_set_axis',\n",
       " '_set_axis_name',\n",
       " '_set_is_copy',\n",
       " '_set_item',\n",
       " '_set_labels',\n",
       " '_set_name',\n",
       " '_set_subtyp',\n",
       " '_set_value',\n",
       " '_set_values',\n",
       " '_set_with',\n",
       " '_set_with_engine',\n",
       " '_setup_axes',\n",
       " '_shallow_copy',\n",
       " '_slice',\n",
       " '_stat_axis',\n",
       " '_stat_axis_name',\n",
       " '_stat_axis_number',\n",
       " '_take',\n",
       " '_to_dict_of_blocks',\n",
       " '_try_aggregate_string_function',\n",
       " '_typ',\n",
       " '_unpickle_series_compat',\n",
       " '_update_inplace',\n",
       " '_validate_dtype',\n",
       " '_values',\n",
       " '_where',\n",
       " '_xs',\n",
       " 'abs',\n",
       " 'add',\n",
       " 'add_prefix',\n",
       " 'add_suffix',\n",
       " 'agg',\n",
       " 'aggregate',\n",
       " 'align',\n",
       " 'all',\n",
       " 'any',\n",
       " 'append',\n",
       " 'apply',\n",
       " 'argmax',\n",
       " 'argmin',\n",
       " 'argsort',\n",
       " 'as_matrix',\n",
       " 'asfreq',\n",
       " 'asobject',\n",
       " 'asof',\n",
       " 'astype',\n",
       " 'at',\n",
       " 'at_time',\n",
       " 'autocorr',\n",
       " 'axes',\n",
       " 'base',\n",
       " 'bay',\n",
       " 'beach',\n",
       " 'between',\n",
       " 'between_time',\n",
       " 'bfill',\n",
       " 'birds',\n",
       " 'boeing',\n",
       " 'bool',\n",
       " 'buildings',\n",
       " 'city',\n",
       " 'clip',\n",
       " 'clip_lower',\n",
       " 'clip_upper',\n",
       " 'clouds',\n",
       " 'combine',\n",
       " 'combine_first',\n",
       " 'compound',\n",
       " 'compress',\n",
       " 'copy',\n",
       " 'corr',\n",
       " 'count',\n",
       " 'cov',\n",
       " 'cummax',\n",
       " 'cummin',\n",
       " 'cumprod',\n",
       " 'cumsum',\n",
       " 'data',\n",
       " 'describe',\n",
       " 'diff',\n",
       " 'div',\n",
       " 'divide',\n",
       " 'dot',\n",
       " 'drop',\n",
       " 'drop_duplicates',\n",
       " 'dropna',\n",
       " 'dtype',\n",
       " 'dtypes',\n",
       " 'duplicated',\n",
       " 'empty',\n",
       " 'eq',\n",
       " 'equals',\n",
       " 'ewm',\n",
       " 'expanding',\n",
       " 'face',\n",
       " 'factorize',\n",
       " 'ffill',\n",
       " 'fillna',\n",
       " 'filter',\n",
       " 'first',\n",
       " 'first_valid_index',\n",
       " 'flags',\n",
       " 'floordiv',\n",
       " 'from_array',\n",
       " 'ftype',\n",
       " 'ftypes',\n",
       " 'ge',\n",
       " 'get',\n",
       " 'get_dtype_counts',\n",
       " 'get_ftype_counts',\n",
       " 'get_values',\n",
       " 'groupby',\n",
       " 'gt',\n",
       " 'hasnans',\n",
       " 'head',\n",
       " 'helicopter',\n",
       " 'hist',\n",
       " 'iat',\n",
       " 'idxmax',\n",
       " 'idxmin',\n",
       " 'iloc',\n",
       " 'imag',\n",
       " 'index',\n",
       " 'infer_objects',\n",
       " 'interpolate',\n",
       " 'is_copy',\n",
       " 'is_monotonic',\n",
       " 'is_monotonic_decreasing',\n",
       " 'is_monotonic_increasing',\n",
       " 'is_unique',\n",
       " 'isin',\n",
       " 'isna',\n",
       " 'isnull',\n",
       " 'item',\n",
       " 'items',\n",
       " 'itemsize',\n",
       " 'iteritems',\n",
       " 'ix',\n",
       " 'keys',\n",
       " 'kurt',\n",
       " 'kurtosis',\n",
       " 'last',\n",
       " 'last_valid_index',\n",
       " 'le',\n",
       " 'loc',\n",
       " 'lt',\n",
       " 'mad',\n",
       " 'map',\n",
       " 'mask',\n",
       " 'max',\n",
       " 'mean',\n",
       " 'median',\n",
       " 'memory_usage',\n",
       " 'min',\n",
       " 'mod',\n",
       " 'mode',\n",
       " 'mountain',\n",
       " 'mul',\n",
       " 'multiply',\n",
       " 'name',\n",
       " 'nbytes',\n",
       " 'ndim',\n",
       " 'ne',\n",
       " 'nlargest',\n",
       " 'nonzero',\n",
       " 'notna',\n",
       " 'notnull',\n",
       " 'nsmallest',\n",
       " 'nunique',\n",
       " 'ocean',\n",
       " 'pct_change',\n",
       " 'pipe',\n",
       " 'plot',\n",
       " 'pop',\n",
       " 'pow',\n",
       " 'prod',\n",
       " 'product',\n",
       " 'ptp',\n",
       " 'put',\n",
       " 'quantile',\n",
       " 'radd',\n",
       " 'rank',\n",
       " 'ravel',\n",
       " 'rdiv',\n",
       " 'real',\n",
       " 'reindex',\n",
       " 'reindex_axis',\n",
       " 'reindex_like',\n",
       " 'rename',\n",
       " 'rename_axis',\n",
       " 'reorder_levels',\n",
       " 'repeat',\n",
       " 'replace',\n",
       " 'resample',\n",
       " 'reset_index',\n",
       " 'rfloordiv',\n",
       " 'rmod',\n",
       " 'rmul',\n",
       " 'rolling',\n",
       " 'round',\n",
       " 'rpow',\n",
       " 'rsub',\n",
       " 'rtruediv',\n",
       " 'sample',\n",
       " 'searchsorted',\n",
       " 'select',\n",
       " 'sem',\n",
       " 'set_axis',\n",
       " 'shape',\n",
       " 'shift',\n",
       " 'ships',\n",
       " 'size',\n",
       " 'skew',\n",
       " 'sky',\n",
       " 'slice_shift',\n",
       " 'sort_index',\n",
       " 'sort_values',\n",
       " 'squeeze',\n",
       " 'std',\n",
       " 'strides',\n",
       " 'sub',\n",
       " 'subtract',\n",
       " 'sum',\n",
       " 'sunrise',\n",
       " 'sunset',\n",
       " 'swapaxes',\n",
       " 'swaplevel',\n",
       " 'tail',\n",
       " 'take',\n",
       " 'to_clipboard',\n",
       " 'to_csv',\n",
       " 'to_dense',\n",
       " 'to_dict',\n",
       " 'to_excel',\n",
       " 'to_frame',\n",
       " 'to_hdf',\n",
       " 'to_json',\n",
       " 'to_latex',\n",
       " 'to_msgpack',\n",
       " 'to_period',\n",
       " 'to_pickle',\n",
       " 'to_sparse',\n",
       " 'to_sql',\n",
       " 'to_string',\n",
       " 'to_timestamp',\n",
       " 'to_xarray',\n",
       " 'tolist',\n",
       " 'transform',\n",
       " 'transpose',\n",
       " 'truediv',\n",
       " 'truncate',\n",
       " 'tshift',\n",
       " 'tz_convert',\n",
       " 'tz_localize',\n",
       " 'unique',\n",
       " 'unstack',\n",
       " 'update',\n",
       " 'valid',\n",
       " 'value_counts',\n",
       " 'values',\n",
       " 'var',\n",
       " 'view',\n",
       " 'where',\n",
       " 'xs']"
      ]
     },
     "execution_count": 29,
     "metadata": {},
     "output_type": "execute_result"
    }
   ],
   "source": [
    "dir(classsim_one)"
   ]
  },
  {
   "cell_type": "code",
   "execution_count": 30,
   "metadata": {},
   "outputs": [
    {
     "data": {
      "text/plain": [
       "Index(['bay', 'beach', 'city', 'mountain', 'ocean', 'sunrise', 'buildings',\n",
       "       'sunset', 'ships', 'face', 'helicopter', 'birds', 'sky', 'f-16',\n",
       "       'clouds', 'boeing'],\n",
       "      dtype='object')"
      ]
     },
     "execution_count": 30,
     "metadata": {},
     "output_type": "execute_result"
    }
   ],
   "source": [
    "classsim_one.index"
   ]
  },
  {
   "cell_type": "code",
   "execution_count": 27,
   "metadata": {},
   "outputs": [
    {
     "data": {
      "text/plain": [
       "bay           0.852273\n",
       "beach         0.560345\n",
       "city          0.226044\n",
       "mountain      0.172159\n",
       "ocean         0.149968\n",
       "sunrise       0.034483\n",
       "buildings     0.029866\n",
       "sunset        0.017045\n",
       "ships         0.013514\n",
       "face          0.011364\n",
       "helicopter    0.006757\n",
       "birds         0.005682\n",
       "sky           0.000000\n",
       "f-16          0.000000\n",
       "clouds        0.000000\n",
       "boeing        0.000000\n",
       "Name: bay, dtype: float64"
      ]
     },
     "execution_count": 27,
     "metadata": {},
     "output_type": "execute_result"
    }
   ],
   "source": [
    "classsim_one"
   ]
  },
  {
   "cell_type": "code",
   "execution_count": 31,
   "metadata": {},
   "outputs": [
    {
     "data": {
      "text/plain": [
       "Index(['bay', 'beach', 'mountain', 'birds', 'ocean', 'helicopter', 'ships',\n",
       "       'city', 'boeing', 'sunset', 'f-16', 'clouds', 'buildings', 'sunrise',\n",
       "       'face', 'sky'],\n",
       "      dtype='object')"
      ]
     },
     "execution_count": 31,
     "metadata": {},
     "output_type": "execute_result"
    }
   ],
   "source": [
    "gmmdist_one.index"
   ]
  },
  {
   "cell_type": "code",
   "execution_count": null,
   "metadata": {},
   "outputs": [],
   "source": []
  },
  {
   "cell_type": "markdown",
   "metadata": {},
   "source": [
    "# Two level classification, enhanced"
   ]
  },
  {
   "cell_type": "code",
   "execution_count": 1,
   "metadata": {},
   "outputs": [],
   "source": [
    "import pandas as pd"
   ]
  },
  {
   "cell_type": "code",
   "execution_count": 2,
   "metadata": {},
   "outputs": [],
   "source": [
    "results_df1 = pd.read_pickle(\"results/1level_prediction.dat\")\n",
    "results_df2 = pd.read_pickle(\"results/2level_prediction.dat\")\n",
    "testdf = pd.read_pickle(\"results/testdf.dat\")"
   ]
  },
  {
   "cell_type": "code",
   "execution_count": null,
   "metadata": {},
   "outputs": [],
   "source": []
  },
  {
   "cell_type": "code",
   "execution_count": 3,
   "metadata": {},
   "outputs": [],
   "source": [
    "diff_df1 = results_df1[results_df1['labels'] != results_df1['prediction']]"
   ]
  },
  {
   "cell_type": "code",
   "execution_count": 4,
   "metadata": {},
   "outputs": [],
   "source": [
    "diff_df2 = results_df2[results_df1['labels'] != results_df1['prediction']]"
   ]
  },
  {
   "cell_type": "code",
   "execution_count": 5,
   "metadata": {},
   "outputs": [],
   "source": [
    "onelevel_fail_path = testdf[results_df1['labels'] != results_df1['prediction']]"
   ]
  },
  {
   "cell_type": "code",
   "execution_count": 6,
   "metadata": {},
   "outputs": [],
   "source": [
    "diff = pd.DataFrame({\"labels\": diff_df1['labels'], \"pred1\": diff_df1['prediction'], \"pred2\": diff_df2['prediction'], \"files\": onelevel_fail_path['files']})"
   ]
  },
  {
   "cell_type": "code",
   "execution_count": 11,
   "metadata": {},
   "outputs": [],
   "source": [
    "diff_secok = diff[diff['labels'] == diff['pred2']]"
   ]
  },
  {
   "cell_type": "code",
   "execution_count": null,
   "metadata": {},
   "outputs": [],
   "source": []
  },
  {
   "cell_type": "code",
   "execution_count": null,
   "metadata": {},
   "outputs": [],
   "source": []
  },
  {
   "cell_type": "markdown",
   "metadata": {},
   "source": [
    "### Check result and consider how to present"
   ]
  },
  {
   "cell_type": "code",
   "execution_count": 7,
   "metadata": {},
   "outputs": [],
   "source": [
    "%matplotlib inline"
   ]
  },
  {
   "cell_type": "code",
   "execution_count": 8,
   "metadata": {},
   "outputs": [],
   "source": [
    "import matplotlib.pyplot as plt\n",
    "import matplotlib.gridspec as gridspec\n",
    "\n",
    "def plot_image_list(imgs):\n",
    "    \n",
    "    imgnum = len(imgs)\n",
    "    \n",
    "    plt.ion()\n",
    "    column_num = 5\n",
    "    \n",
    "    row_num = 1 + imgnum//column_num\n",
    "    \n",
    "    \n",
    "    for row in range(row_num):\n",
    "        # plt.figure(figsize = (10,17))\n",
    "        plt.figure(figsize = (15,20))\n",
    "        gs1 = gridspec.GridSpec(1,column_num)\n",
    "        gs1.update(wspace=0.025, hspace=0.05)\n",
    "        for col in range(column_num):\n",
    "            idx = col + row*column_num\n",
    "            if(imgnum <= idx):\n",
    "                # print(\"too small matched: {0}, {1}\".format(len(cat_img_paths), i))\n",
    "                return\n",
    "        \n",
    "            try:\n",
    "                ax1 = plt.subplot(gs1[col])\n",
    "                plt.axis('on')\n",
    "                ax1.set_xticklabels([])\n",
    "                ax1.set_yticklabels([])\n",
    "                ax1.set_aspect('equal')\n",
    "            \n",
    "            \n",
    "                image = plt.imread(imgs[idx])\n",
    "                plt.imshow(image)\n",
    "            except:\n",
    "                    pass\n",
    "        plt.show()"
   ]
  },
  {
   "cell_type": "code",
   "execution_count": null,
   "metadata": {},
   "outputs": [],
   "source": []
  },
  {
   "cell_type": "code",
   "execution_count": null,
   "metadata": {},
   "outputs": [],
   "source": []
  },
  {
   "cell_type": "code",
   "execution_count": 12,
   "metadata": {},
   "outputs": [
    {
     "data": {
      "text/plain": [
       "0        data/sunrise/0093.jpeg\n",
       "3             data/sky/0477.png\n",
       "4          data/beach/0528.jpeg\n",
       "25       data/sunrise/0443.jpeg\n",
       "26    data/helicopter/0719.jpeg\n",
       "27         data/beach/0424.jpeg\n",
       "44         data/ships/0462.jpeg\n",
       "46         data/ocean/0082.jpeg\n",
       "52       data/sunrise/0031.jpeg\n",
       "78          data/city/0809.jpeg\n",
       "Name: files, dtype: object"
      ]
     },
     "execution_count": 12,
     "metadata": {},
     "output_type": "execute_result"
    }
   ],
   "source": [
    "diff_secok[0:10]['files']"
   ]
  },
  {
   "cell_type": "code",
   "execution_count": 13,
   "metadata": {},
   "outputs": [
    {
     "data": {
      "text/plain": [
       "0        sky\n",
       "3     clouds\n",
       "4        bay\n",
       "25     ocean\n",
       "26      f-16\n",
       "27       bay\n",
       "44       bay\n",
       "46    clouds\n",
       "52       sky\n",
       "78       bay\n",
       "Name: pred1, dtype: object"
      ]
     },
     "execution_count": 13,
     "metadata": {},
     "output_type": "execute_result"
    }
   ],
   "source": [
    "diff_secok[0:10]['pred1']"
   ]
  },
  {
   "cell_type": "code",
   "execution_count": 14,
   "metadata": {},
   "outputs": [],
   "source": [
    "plot_image_list(diff_secok[0:20]['files'].values)"
   ]
  },
  {
   "cell_type": "code",
   "execution_count": 15,
   "metadata": {},
   "outputs": [],
   "source": [
    "### top 10 seems enough"
   ]
  },
  {
   "cell_type": "markdown",
   "metadata": {},
   "source": [
    "### Resize image and place it to for_latex folder"
   ]
  },
  {
   "cell_type": "code",
   "execution_count": null,
   "metadata": {},
   "outputs": [],
   "source": [
    "%mkdir -p for_latex"
   ]
  },
  {
   "cell_type": "code",
   "execution_count": 53,
   "metadata": {},
   "outputs": [],
   "source": [
    "fpath = 'data/sunrise/0093.jpeg'"
   ]
  },
  {
   "cell_type": "code",
   "execution_count": 63,
   "metadata": {},
   "outputs": [],
   "source": [
    "def datapath2thumnailepath(fpath, idx):\n",
    "    arr = fpath.split('/')\n",
    "    fname = arr[2].split('.')[0]\n",
    "    return \"{:03d}_{}_{}.jpg\".format(idx, arr[1], fname)"
   ]
  },
  {
   "cell_type": "code",
   "execution_count": 64,
   "metadata": {},
   "outputs": [],
   "source": [
    "def datapath2latex(fpath, idx):\n",
    "    dest= datapath2thumnailepath(fpath, idx)\n",
    "    return \"for_latex/{}\".format(dest)"
   ]
  },
  {
   "cell_type": "code",
   "execution_count": 65,
   "metadata": {},
   "outputs": [
    {
     "data": {
      "text/plain": [
       "'for_latex/009_city_0809.jpg'"
      ]
     },
     "execution_count": 65,
     "metadata": {},
     "output_type": "execute_result"
    }
   ],
   "source": [
    "datapath2latex(fpath, 9)"
   ]
  },
  {
   "cell_type": "markdown",
   "metadata": {},
   "source": [
    "### estimate width and hight for tex"
   ]
  },
  {
   "cell_type": "code",
   "execution_count": null,
   "metadata": {},
   "outputs": [],
   "source": [
    "# 300dpi, A4 = 2480\n",
    "# 1040/1280 = 0.8125 "
   ]
  },
  {
   "cell_type": "code",
   "execution_count": 19,
   "metadata": {},
   "outputs": [
    {
     "data": {
      "text/plain": [
       "403.0"
      ]
     },
     "execution_count": 19,
     "metadata": {},
     "output_type": "execute_result"
    }
   ],
   "source": [
    "2480*0.8125/5"
   ]
  },
  {
   "cell_type": "markdown",
   "metadata": {},
   "source": [
    "I decide to use width 400, height 250"
   ]
  },
  {
   "cell_type": "code",
   "execution_count": null,
   "metadata": {},
   "outputs": [],
   "source": []
  },
  {
   "cell_type": "markdown",
   "metadata": {},
   "source": [
    "### Resize images"
   ]
  },
  {
   "cell_type": "code",
   "execution_count": 26,
   "metadata": {},
   "outputs": [],
   "source": [
    "from PIL import Image"
   ]
  },
  {
   "cell_type": "code",
   "execution_count": null,
   "metadata": {},
   "outputs": [],
   "source": []
  },
  {
   "cell_type": "code",
   "execution_count": null,
   "metadata": {},
   "outputs": [],
   "source": []
  },
  {
   "cell_type": "code",
   "execution_count": 100,
   "metadata": {},
   "outputs": [],
   "source": [
    "def data2latex(src, dst, size=(400, 250)):\n",
    "    im = Image.open(src)\n",
    "    newimg = im.resize(size)\n",
    "    newimg.save(dst, \"JPEG\")"
   ]
  },
  {
   "cell_type": "code",
   "execution_count": null,
   "metadata": {},
   "outputs": [],
   "source": []
  },
  {
   "cell_type": "code",
   "execution_count": 101,
   "metadata": {},
   "outputs": [],
   "source": [
    "idx = 0\n",
    "for fpath in diff_secok[0:10]['files'].values:\n",
    "    dest = datapath2latex(fpath, idx)\n",
    "    data2latex(fpath, dest)\n",
    "    idx += 1"
   ]
  },
  {
   "cell_type": "code",
   "execution_count": null,
   "metadata": {},
   "outputs": [],
   "source": []
  },
  {
   "cell_type": "markdown",
   "metadata": {},
   "source": [
    "### Print table"
   ]
  },
  {
   "cell_type": "code",
   "execution_count": null,
   "metadata": {},
   "outputs": [],
   "source": [
    "# \\includegraphics[width=3cm]{000_sunrise_0093.jpg} & \\includegraphics[width=3cm]{001_sky_0477.jpg} \\\\ \\hline\n",
    "# test1 $\\to$ label1 & test2 \\\\ \\hline"
   ]
  },
  {
   "cell_type": "code",
   "execution_count": 71,
   "metadata": {},
   "outputs": [
    {
     "data": {
      "text/plain": [
       "'{3}'"
      ]
     },
     "execution_count": 71,
     "metadata": {},
     "output_type": "execute_result"
    }
   ],
   "source": [
    "\"{{{}}}\".format(3)"
   ]
  },
  {
   "cell_type": "code",
   "execution_count": 73,
   "metadata": {},
   "outputs": [
    {
     "name": "stdout",
     "output_type": "stream",
     "text": [
      " \\includegraphics[width=3cm]{000_sunrise_0093.jpg} &  \\includegraphics[width=3cm]{001_sky_0477.jpg} &  \\includegraphics[width=3cm]{002_beach_0528.jpg} &  \\includegraphics[width=3cm]{003_sunrise_0443.jpg} &  \\includegraphics[width=3cm]{004_helicopter_0719.jpg}"
     ]
    }
   ],
   "source": [
    "delim = \"\"\n",
    "for idx in range(5):\n",
    "    target = diff_secok.iloc[idx]\n",
    "    fpath = target['files']\n",
    "    dest = datapath2thumnailepath(fpath, idx)\n",
    "    print(\"{} \\\\includegraphics[width=3cm]{{{}}}\".format(delim, dest), end=\"\")\n",
    "    delim = \" & \""
   ]
  },
  {
   "cell_type": "code",
   "execution_count": 74,
   "metadata": {},
   "outputs": [
    {
     "name": "stdout",
     "output_type": "stream",
     "text": [
      " sky $\\to$ sunrise &  clouds $\\to$ sky &  bay $\\to$ beach &  ocean $\\to$ sunrise &  f-16 $\\to$ helicopter"
     ]
    }
   ],
   "source": [
    "delim = \"\"\n",
    "for idx in range(5):\n",
    "    target = diff_secok.iloc[idx]\n",
    "    fpath = target['files']\n",
    "    dest = datapath2thumnailepath(fpath, idx)\n",
    "    print(\"{} {} $\\\\to$ {}\".format(delim, target['pred1'], target['labels']), end=\"\")\n",
    "    delim = \" & \""
   ]
  },
  {
   "cell_type": "code",
   "execution_count": null,
   "metadata": {},
   "outputs": [],
   "source": []
  },
  {
   "cell_type": "code",
   "execution_count": 76,
   "metadata": {},
   "outputs": [
    {
     "name": "stdout",
     "output_type": "stream",
     "text": [
      " \\includegraphics[width=3cm]{005_beach_0424.jpg} &  \\includegraphics[width=3cm]{006_ships_0462.jpg} &  \\includegraphics[width=3cm]{007_ocean_0082.jpg} &  \\includegraphics[width=3cm]{008_sunrise_0031.jpg} &  \\includegraphics[width=3cm]{009_city_0809.jpg}"
     ]
    }
   ],
   "source": [
    "delim = \"\"\n",
    "for idx in range(5, 10):\n",
    "    target = diff_secok.iloc[idx]\n",
    "    fpath = target['files']\n",
    "    dest = datapath2thumnailepath(fpath, idx)\n",
    "    print(\"{} \\\\includegraphics[width=3cm]{{{}}}\".format(delim, dest), end=\"\")\n",
    "    delim = \" & \""
   ]
  },
  {
   "cell_type": "code",
   "execution_count": 77,
   "metadata": {},
   "outputs": [
    {
     "name": "stdout",
     "output_type": "stream",
     "text": [
      " bay $\\to$ beach &  bay $\\to$ ships &  clouds $\\to$ ocean &  sky $\\to$ sunrise &  bay $\\to$ city"
     ]
    }
   ],
   "source": [
    "delim = \"\"\n",
    "for idx in range(5, 10):\n",
    "    target = diff_secok.iloc[idx]\n",
    "    fpath = target['files']\n",
    "    dest = datapath2thumnailepath(fpath, idx)\n",
    "    print(\"{} {} $\\\\to$ {}\".format(delim, target['pred1'], target['labels']), end=\"\")\n",
    "    delim = \" & \""
   ]
  },
  {
   "cell_type": "code",
   "execution_count": null,
   "metadata": {},
   "outputs": [],
   "source": []
  },
  {
   "cell_type": "code",
   "execution_count": null,
   "metadata": {},
   "outputs": [],
   "source": []
  },
  {
   "cell_type": "code",
   "execution_count": 62,
   "metadata": {
    "scrolled": true
   },
   "outputs": [
    {
     "data": {
      "text/plain": [
       "files     data/sunrise/0093.jpeg\n",
       "labels                   sunrise\n",
       "pred1                        sky\n",
       "pred2                    sunrise\n",
       "Name: 0, dtype: object"
      ]
     },
     "execution_count": 62,
     "metadata": {},
     "output_type": "execute_result"
    }
   ],
   "source": [
    "diff_secok.iloc[0]"
   ]
  },
  {
   "cell_type": "code",
   "execution_count": null,
   "metadata": {},
   "outputs": [],
   "source": []
  },
  {
   "cell_type": "markdown",
   "metadata": {},
   "source": [
    "# Show class images\n",
    "\n",
    "Create tables for city, buildings, ocean.\n",
    "10 by each row."
   ]
  },
  {
   "cell_type": "code",
   "execution_count": 81,
   "metadata": {},
   "outputs": [],
   "source": [
    "cat = 'city'"
   ]
  },
  {
   "cell_type": "code",
   "execution_count": null,
   "metadata": {},
   "outputs": [],
   "source": []
  },
  {
   "cell_type": "code",
   "execution_count": 83,
   "metadata": {},
   "outputs": [
    {
     "data": {
      "text/html": [
       "<div>\n",
       "<style scoped>\n",
       "    .dataframe tbody tr th:only-of-type {\n",
       "        vertical-align: middle;\n",
       "    }\n",
       "\n",
       "    .dataframe tbody tr th {\n",
       "        vertical-align: top;\n",
       "    }\n",
       "\n",
       "    .dataframe thead th {\n",
       "        text-align: right;\n",
       "    }\n",
       "</style>\n",
       "<table border=\"1\" class=\"dataframe\">\n",
       "  <thead>\n",
       "    <tr style=\"text-align: right;\">\n",
       "      <th></th>\n",
       "      <th>category</th>\n",
       "      <th>files</th>\n",
       "    </tr>\n",
       "  </thead>\n",
       "  <tbody>\n",
       "    <tr>\n",
       "      <th>22</th>\n",
       "      <td>city</td>\n",
       "      <td>data/city/0164.jpeg</td>\n",
       "    </tr>\n",
       "    <tr>\n",
       "      <th>32</th>\n",
       "      <td>city</td>\n",
       "      <td>data/city/0332.jpeg</td>\n",
       "    </tr>\n",
       "    <tr>\n",
       "      <th>50</th>\n",
       "      <td>city</td>\n",
       "      <td>data/city/0213.jpeg</td>\n",
       "    </tr>\n",
       "    <tr>\n",
       "      <th>78</th>\n",
       "      <td>city</td>\n",
       "      <td>data/city/0809.jpeg</td>\n",
       "    </tr>\n",
       "    <tr>\n",
       "      <th>81</th>\n",
       "      <td>city</td>\n",
       "      <td>data/city/0695.jpeg</td>\n",
       "    </tr>\n",
       "  </tbody>\n",
       "</table>\n",
       "</div>"
      ],
      "text/plain": [
       "   category                files\n",
       "22     city  data/city/0164.jpeg\n",
       "32     city  data/city/0332.jpeg\n",
       "50     city  data/city/0213.jpeg\n",
       "78     city  data/city/0809.jpeg\n",
       "81     city  data/city/0695.jpeg"
      ]
     },
     "execution_count": 83,
     "metadata": {},
     "output_type": "execute_result"
    }
   ],
   "source": [
    "testdf[testdf['category'] == cat][0:5]"
   ]
  },
  {
   "cell_type": "code",
   "execution_count": null,
   "metadata": {},
   "outputs": [],
   "source": []
  },
  {
   "cell_type": "code",
   "execution_count": null,
   "metadata": {},
   "outputs": [],
   "source": [
    "baseidx = 10\n"
   ]
  },
  {
   "cell_type": "code",
   "execution_count": null,
   "metadata": {},
   "outputs": [],
   "source": []
  },
  {
   "cell_type": "code",
   "execution_count": 102,
   "metadata": {},
   "outputs": [],
   "source": [
    "def convert_10_cat(cat, baseidx=10):\n",
    "    idx = 0\n",
    "\n",
    "    df = testdf[testdf['category'] == cat]\n",
    "    for fpath in df[0:10]['files'].values:\n",
    "        dest = datapath2latex(fpath, idx+baseidx)\n",
    "        data2latex(fpath, dest, size=(200, 125))\n",
    "        idx += 1"
   ]
  },
  {
   "cell_type": "code",
   "execution_count": 103,
   "metadata": {},
   "outputs": [],
   "source": [
    "convert_10_cat('city', 10)"
   ]
  },
  {
   "cell_type": "code",
   "execution_count": 104,
   "metadata": {},
   "outputs": [],
   "source": [
    "convert_10_cat('buildings', 20)"
   ]
  },
  {
   "cell_type": "code",
   "execution_count": 105,
   "metadata": {},
   "outputs": [],
   "source": [
    "convert_10_cat('ocean', 30)"
   ]
  },
  {
   "cell_type": "code",
   "execution_count": 89,
   "metadata": {},
   "outputs": [
    {
     "name": "stdout",
     "output_type": "stream",
     "text": [
      "\\\\ \\hline\n"
     ]
    }
   ],
   "source": [
    "print(\"\\\\\\\\ \\\\hline\")"
   ]
  },
  {
   "cell_type": "code",
   "execution_count": 94,
   "metadata": {},
   "outputs": [],
   "source": [
    "def print_10_cat(cat, baseidx):\n",
    "    delim = \"\"\n",
    "    idx = 0\n",
    "\n",
    "    df = testdf[testdf['category'] == cat]\n",
    "    for fpath in df[0:10]['files'].values:\n",
    "        dest = datapath2thumnailepath(fpath, idx+baseidx)\n",
    "\n",
    "        print(\"{} \\\\includegraphics[width=1.5cm]{{images/{}}}\".format(delim, dest), end=\"\")\n",
    "        delim = \" & \"\n",
    "        idx += 1\n",
    "    print(\"\\\\\\\\ \\\\hline\")\n"
   ]
  },
  {
   "cell_type": "code",
   "execution_count": 95,
   "metadata": {},
   "outputs": [
    {
     "name": "stdout",
     "output_type": "stream",
     "text": [
      " \\includegraphics[width=1.5cm]{images/010_city_0164.jpg} &  \\includegraphics[width=1.5cm]{images/011_city_0332.jpg} &  \\includegraphics[width=1.5cm]{images/012_city_0213.jpg} &  \\includegraphics[width=1.5cm]{images/013_city_0809.jpg} &  \\includegraphics[width=1.5cm]{images/014_city_0695.jpg} &  \\includegraphics[width=1.5cm]{images/015_city_0156.jpg} &  \\includegraphics[width=1.5cm]{images/016_city_0209.jpg} &  \\includegraphics[width=1.5cm]{images/017_city_0046.jpg} &  \\includegraphics[width=1.5cm]{images/018_city_0343.jpg} &  \\includegraphics[width=1.5cm]{images/019_city_0563.jpg}\\\\ \\hline\n"
     ]
    }
   ],
   "source": [
    "print_10_cat('city', 10)"
   ]
  },
  {
   "cell_type": "code",
   "execution_count": 96,
   "metadata": {},
   "outputs": [
    {
     "name": "stdout",
     "output_type": "stream",
     "text": [
      " \\includegraphics[width=1.5cm]{images/020_buildings_0307.jpg} &  \\includegraphics[width=1.5cm]{images/021_buildings_0114.jpg} &  \\includegraphics[width=1.5cm]{images/022_buildings_0041.jpg} &  \\includegraphics[width=1.5cm]{images/023_buildings_0821.jpg} &  \\includegraphics[width=1.5cm]{images/024_buildings_0334.jpg} &  \\includegraphics[width=1.5cm]{images/025_buildings_0220.jpg} &  \\includegraphics[width=1.5cm]{images/026_buildings_0298.jpg} &  \\includegraphics[width=1.5cm]{images/027_buildings_0631.jpg} &  \\includegraphics[width=1.5cm]{images/028_buildings_0732.jpg} &  \\includegraphics[width=1.5cm]{images/029_buildings_0384.jpg}\\\\ \\hline\n"
     ]
    }
   ],
   "source": [
    "print_10_cat('buildings', 20)"
   ]
  },
  {
   "cell_type": "code",
   "execution_count": 97,
   "metadata": {},
   "outputs": [
    {
     "name": "stdout",
     "output_type": "stream",
     "text": [
      " \\includegraphics[width=1.5cm]{images/030_ocean_0897.jpg} &  \\includegraphics[width=1.5cm]{images/031_ocean_0082.jpg} &  \\includegraphics[width=1.5cm]{images/032_ocean_0737.jpg} &  \\includegraphics[width=1.5cm]{images/033_ocean_0770.jpg} &  \\includegraphics[width=1.5cm]{images/034_ocean_0746.jpg} &  \\includegraphics[width=1.5cm]{images/035_ocean_0146.jpg} &  \\includegraphics[width=1.5cm]{images/036_ocean_0531.jpg} &  \\includegraphics[width=1.5cm]{images/037_ocean_0730.jpg} &  \\includegraphics[width=1.5cm]{images/038_ocean_0114.jpg} &  \\includegraphics[width=1.5cm]{images/039_ocean_0752.jpg}\\\\ \\hline\n"
     ]
    }
   ],
   "source": [
    "print_10_cat('ocean', 30)"
   ]
  },
  {
   "cell_type": "code",
   "execution_count": null,
   "metadata": {},
   "outputs": [],
   "source": []
  },
  {
   "cell_type": "code",
   "execution_count": null,
   "metadata": {},
   "outputs": [],
   "source": []
  },
  {
   "cell_type": "code",
   "execution_count": null,
   "metadata": {},
   "outputs": [],
   "source": [
    "\n"
   ]
  },
  {
   "cell_type": "code",
   "execution_count": 78,
   "metadata": {},
   "outputs": [
    {
     "data": {
      "text/html": [
       "<div>\n",
       "<style scoped>\n",
       "    .dataframe tbody tr th:only-of-type {\n",
       "        vertical-align: middle;\n",
       "    }\n",
       "\n",
       "    .dataframe tbody tr th {\n",
       "        vertical-align: top;\n",
       "    }\n",
       "\n",
       "    .dataframe thead th {\n",
       "        text-align: right;\n",
       "    }\n",
       "</style>\n",
       "<table border=\"1\" class=\"dataframe\">\n",
       "  <thead>\n",
       "    <tr style=\"text-align: right;\">\n",
       "      <th></th>\n",
       "      <th>category</th>\n",
       "      <th>files</th>\n",
       "    </tr>\n",
       "  </thead>\n",
       "  <tbody>\n",
       "    <tr>\n",
       "      <th>0</th>\n",
       "      <td>sunrise</td>\n",
       "      <td>data/sunrise/0093.jpeg</td>\n",
       "    </tr>\n",
       "    <tr>\n",
       "      <th>1</th>\n",
       "      <td>mountain</td>\n",
       "      <td>data/mountain/0179.jpeg</td>\n",
       "    </tr>\n",
       "    <tr>\n",
       "      <th>2</th>\n",
       "      <td>bay</td>\n",
       "      <td>data/bay/0589.jpeg</td>\n",
       "    </tr>\n",
       "    <tr>\n",
       "      <th>3</th>\n",
       "      <td>sky</td>\n",
       "      <td>data/sky/0477.png</td>\n",
       "    </tr>\n",
       "    <tr>\n",
       "      <th>4</th>\n",
       "      <td>beach</td>\n",
       "      <td>data/beach/0528.jpeg</td>\n",
       "    </tr>\n",
       "  </tbody>\n",
       "</table>\n",
       "</div>"
      ],
      "text/plain": [
       "   category                    files\n",
       "0   sunrise   data/sunrise/0093.jpeg\n",
       "1  mountain  data/mountain/0179.jpeg\n",
       "2       bay       data/bay/0589.jpeg\n",
       "3       sky        data/sky/0477.png\n",
       "4     beach     data/beach/0528.jpeg"
      ]
     },
     "execution_count": 78,
     "metadata": {},
     "output_type": "execute_result"
    }
   ],
   "source": [
    "testdf[0:5]"
   ]
  },
  {
   "cell_type": "code",
   "execution_count": null,
   "metadata": {},
   "outputs": [],
   "source": []
  },
  {
   "cell_type": "code",
   "execution_count": null,
   "metadata": {},
   "outputs": [],
   "source": []
  },
  {
   "cell_type": "code",
   "execution_count": null,
   "metadata": {},
   "outputs": [],
   "source": []
  },
  {
   "cell_type": "code",
   "execution_count": null,
   "metadata": {},
   "outputs": [],
   "source": []
  },
  {
   "cell_type": "code",
   "execution_count": null,
   "metadata": {},
   "outputs": [],
   "source": []
  },
  {
   "cell_type": "code",
   "execution_count": 40,
   "metadata": {},
   "outputs": [],
   "source": [
    "dest = 'for_latex/sunrise_0093.jpg'"
   ]
  },
  {
   "cell_type": "code",
   "execution_count": 41,
   "metadata": {
    "scrolled": true
   },
   "outputs": [],
   "source": [
    "im = Image.open(fpath)"
   ]
  },
  {
   "cell_type": "code",
   "execution_count": 42,
   "metadata": {},
   "outputs": [],
   "source": [
    "im.thumbnail((400, 300), Image.ANTIALIAS)\n",
    "im.save(dest, \"JPEG\")"
   ]
  },
  {
   "cell_type": "code",
   "execution_count": null,
   "metadata": {},
   "outputs": [],
   "source": []
  },
  {
   "cell_type": "code",
   "execution_count": null,
   "metadata": {},
   "outputs": [],
   "source": []
  }
 ],
 "metadata": {
  "kernelspec": {
   "display_name": "Python 3",
   "language": "python",
   "name": "python3"
  },
  "language_info": {
   "codemirror_mode": {
    "name": "ipython",
    "version": 3
   },
   "file_extension": ".py",
   "mimetype": "text/x-python",
   "name": "python",
   "nbconvert_exporter": "python",
   "pygments_lexer": "ipython3",
   "version": "3.5.2"
  }
 },
 "nbformat": 4,
 "nbformat_minor": 2
}
