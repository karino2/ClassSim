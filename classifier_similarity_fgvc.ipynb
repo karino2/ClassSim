{
 "cells": [
  {
   "cell_type": "markdown",
   "metadata": {},
   "source": [
    "# Compute similarities between categories using trained classifiers\n",
    "\n",
    "In this notebook our proposed similarity, $ClassSim$, is computed for the OVR and mutl-class case.\n",
    "\n",
    "In order to compute $ClassSim$, this notebook requires trained OVR classifiers which are obtained in *train.ipynb* and a trained multi-class classifier which is obtained in *train_multiclass_classifier.ipynb*."
   ]
  },
  {
   "cell_type": "markdown",
   "metadata": {},
   "source": [
    "## Set up"
   ]
  },
  {
   "cell_type": "code",
   "execution_count": 1,
   "metadata": {},
   "outputs": [],
   "source": [
    "import os\n",
    "import json\n",
    "import glob\n",
    "import scipy\n",
    "import numpy as np\n",
    "\n",
    "import pandas as pd\n",
    "import glob\n",
    "\n",
    "import warnings\n",
    "warnings.filterwarnings('ignore')"
   ]
  },
  {
   "cell_type": "code",
   "execution_count": 2,
   "metadata": {},
   "outputs": [],
   "source": [
    "!mkdir -p results"
   ]
  },
  {
   "cell_type": "code",
   "execution_count": 3,
   "metadata": {},
   "outputs": [],
   "source": [
    "VALID_DF_PATH = \"results/valid_df_fgvc.dat\"\n",
    "VALID_SIMILARITY_DICT_PATH=\"results/valid_sim_df_fgvc.dat\""
   ]
  },
  {
   "cell_type": "code",
   "execution_count": 4,
   "metadata": {},
   "outputs": [],
   "source": [
    "BASE_MODEL_PATH=\"trained_model\""
   ]
  },
  {
   "cell_type": "code",
   "execution_count": 5,
   "metadata": {},
   "outputs": [
    {
     "name": "stderr",
     "output_type": "stream",
     "text": [
      "Using TensorFlow backend.\n"
     ]
    }
   ],
   "source": [
    "from models.modelutils import dir2filedict, split_fdict\n",
    "import random"
   ]
  },
  {
   "cell_type": "markdown",
   "metadata": {},
   "source": [
    "Load category information and all of image paths."
   ]
  },
  {
   "cell_type": "code",
   "execution_count": null,
   "metadata": {},
   "outputs": [],
   "source": [
    "trdict = dir2filedict(\"data_fgvc/train\")\n",
    "valdict = dir2filedict(\"data_fgvc/valid\")\n",
    "categories = [str(i) for i in range(0, 100)]"
   ]
  },
  {
   "cell_type": "code",
   "execution_count": null,
   "metadata": {},
   "outputs": [],
   "source": []
  },
  {
   "cell_type": "code",
   "execution_count": null,
   "metadata": {},
   "outputs": [],
   "source": []
  },
  {
   "cell_type": "code",
   "execution_count": 9,
   "metadata": {
    "scrolled": true
   },
   "outputs": [
    {
     "data": {
      "text/plain": [
       "['data/clouds/0678.jpeg',\n",
       " 'data/clouds/0701.jpeg',\n",
       " 'data/clouds/0431.jpeg',\n",
       " 'data/clouds/0033.jpeg',\n",
       " 'data/clouds/0290.jpeg']"
      ]
     },
     "execution_count": 9,
     "metadata": {},
     "output_type": "execute_result"
    }
   ],
   "source": [
    "valdict['clouds'][0:5]"
   ]
  },
  {
   "cell_type": "markdown",
   "metadata": {},
   "source": [
    "Here is expected outputs.   \n",
    "The output may be different if you create image urls yourself or exlude some files for GMM, but all the outputs in {*train.ipynb*, *classifier_similarity.ipynb*, *train_multiclass_classifier.ipynb*, *train_second.ipynb*} must be the same. \n",
    "\n",
    "['data_fgvc/valid/0/1319365.jpg',  \n",
    " 'data_fgvc/valid/0/0062781.jpg',  \n",
    " 'data_fgvc/valid/0/1042021.jpg',  \n",
    " 'data_fgvc/valid/0/0602177.jpg',  \n",
    " 'data_fgvc/valid/0/0817494.jpg']"
   ]
  },
  {
   "cell_type": "code",
   "execution_count": 10,
   "metadata": {},
   "outputs": [],
   "source": [
    "# target is validation set.\n",
    "fdict = valdict"
   ]
  },
  {
   "cell_type": "markdown",
   "metadata": {},
   "source": [
    "## Compute $ClassSim$ using OVR classifiers\n",
    "\n",
    "Now compute our proposed similarities using trained OVR classifiers in *train.ipynb*."
   ]
  },
  {
   "cell_type": "code",
   "execution_count": 11,
   "metadata": {},
   "outputs": [],
   "source": [
    "from models.modelutils import load_best_model_if_exist\n",
    "import os\n",
    "from models.processor import DataSet"
   ]
  },
  {
   "cell_type": "code",
   "execution_count": 12,
   "metadata": {},
   "outputs": [],
   "source": [
    "class ModelBinder:\n",
    "    def __init__(self, base_model_name, basedir):\n",
    "        self.base_model_name = base_model_name\n",
    "        self.basedir = basedir\n",
    "        self._models = {}\n",
    "        self.verbose = True\n",
    "        self.ds = DataSet()\n",
    "        self.chunk_size = 3000\n",
    "        \n",
    "    def predict_chunks(self, chunked_paths):\n",
    "        datas = self.ds.files_to_dataset(chunked_paths)\n",
    "        models = self._models\n",
    "        return {key: models[key].predict(datas)[:, 1] for key in models.keys()}\n",
    "    \n",
    "    def predict_files(self, flist):\n",
    "        chunked_paths = self.ds.chunked(flist, self.chunk_size)\n",
    "        \n",
    "        models = self._models\n",
    "        preddictlist =  [self.predict_chunks(chunk) for chunk in chunked_paths]\n",
    "        preddict = {key:[] for key in models.keys()}\n",
    "        for onedict in preddictlist:\n",
    "            for key in models.keys():\n",
    "                preddict[key].extend(onedict[key])\n",
    "        return preddict\n",
    "\n",
    "    def model_path(self, target_key):\n",
    "        return os.path.join(self.basedir, \"{}_{}\".format(self.base_model_name, target_key))\n",
    "\n",
    "    def get_or_load_model(self, target_key):\n",
    "        if target_key in self._models:\n",
    "            return self._models[target_key]\n",
    "        self.notify(\"load {}\".format(target_key))\n",
    "        self._models[target_key] = load_best_model_if_exist(self.model_path(target_key))\n",
    "        return self._models[target_key]\n",
    "\n",
    "    def notify(self, msg):\n",
    "        if self.verbose:\n",
    "            print(msg)\n",
    "\n",
    "    def load_all_models(self, keys):\n",
    "        list(map(self.get_or_load_model, keys))\n",
    "\n",
    "    def predict(self, files):\n",
    "        preddict = self.predict_files(files)\n",
    "        preddict[\"filepaths\"] = files\n",
    "        return pd.DataFrame(preddict)\n",
    "\n",
    "    def add_argmax_max(self, df):\n",
    "        catkeys = list(self._models.keys())\n",
    "        df['argmax'] = df[df.columns[:len(catkeys)]].idxmax(axis=1)\n",
    "        df['max'] = df[df.columns[0:len(catkeys)]].max(axis=1)"
   ]
  },
  {
   "cell_type": "code",
   "execution_count": 13,
   "metadata": {},
   "outputs": [],
   "source": [
    "def ModelBinder_create(base_model_name = \"model\", basedir = BASE_MODEL_PATH):\n",
    "    return ModelBinder(base_model_name, basedir)"
   ]
  },
  {
   "cell_type": "markdown",
   "metadata": {
    "collapsed": true
   },
   "source": [
    "### Predict scores and store them as DataFrame"
   ]
  },
  {
   "cell_type": "code",
   "execution_count": 14,
   "metadata": {},
   "outputs": [],
   "source": [
    "ftuppls = [(key, file) for key in fdict.keys() for file in fdict[key]]"
   ]
  },
  {
   "cell_type": "code",
   "execution_count": 15,
   "metadata": {},
   "outputs": [],
   "source": [
    "labels = [tup[0] for tup in ftuppls]"
   ]
  },
  {
   "cell_type": "code",
   "execution_count": 16,
   "metadata": {},
   "outputs": [],
   "source": [
    "paths = [tup[1] for tup in ftuppls]"
   ]
  },
  {
   "cell_type": "code",
   "execution_count": 17,
   "metadata": {},
   "outputs": [
    {
     "data": {
      "text/plain": [
       "(1894, 1894)"
      ]
     },
     "execution_count": 17,
     "metadata": {},
     "output_type": "execute_result"
    }
   ],
   "source": [
    "len(labels), len(paths)"
   ]
  },
  {
   "cell_type": "code",
   "execution_count": 18,
   "metadata": {},
   "outputs": [],
   "source": [
    "binder = ModelBinder_create()"
   ]
  },
  {
   "cell_type": "code",
   "execution_count": 19,
   "metadata": {},
   "outputs": [
    {
     "name": "stdout",
     "output_type": "stream",
     "text": [
      "load bay\n",
      "load beach\n",
      "load birds\n",
      "load boeing\n",
      "load buildings\n",
      "load city\n",
      "load clouds\n",
      "load f-16\n",
      "load face\n",
      "load helicopter\n",
      "load mountain\n",
      "load ocean\n",
      "load ships\n",
      "load sky\n",
      "load sunrise\n",
      "load sunset\n"
     ]
    }
   ],
   "source": [
    "binder.load_all_models(catkeys)"
   ]
  },
  {
   "cell_type": "code",
   "execution_count": 20,
   "metadata": {
    "scrolled": false
   },
   "outputs": [
    {
     "name": "stdout",
     "output_type": "stream",
     "text": [
      "CPU times: user 9min 7s, sys: 32.5 s, total: 9min 39s\n",
      "Wall time: 8min 36s\n"
     ]
    }
   ],
   "source": [
    "%%time\n",
    "df = binder.predict(paths)"
   ]
  },
  {
   "cell_type": "code",
   "execution_count": 21,
   "metadata": {},
   "outputs": [],
   "source": [
    "df['label'] = labels"
   ]
  },
  {
   "cell_type": "markdown",
   "metadata": {},
   "source": [
    "Save the computed scores as pickle."
   ]
  },
  {
   "cell_type": "code",
   "execution_count": 22,
   "metadata": {},
   "outputs": [],
   "source": [
    "df.to_pickle(VALID_DF_PATH)"
   ]
  },
  {
   "cell_type": "markdown",
   "metadata": {
    "collapsed": true
   },
   "source": [
    "### Compute $ClassSim$ using computed scores"
   ]
  },
  {
   "cell_type": "code",
   "execution_count": 23,
   "metadata": {},
   "outputs": [],
   "source": [
    "class SimilarityCalculator:\n",
    "    def __init__(self, df, thrshold=0.5):\n",
    "        self.df = df\n",
    "        self.rmiss = {}\n",
    "        self.thrshold = thrshold\n",
    "        self.cats = [key for key in df.columns.values if key != \"filepaths\" and key !=\"label\"]\n",
    "        self.catidxs = [list(df.columns).index(key) for key in self.cats]\n",
    "    \n",
    "    def combinekey(self, fromkey, tokey):\n",
    "        return \"{0}~{1}\".format(fromkey, tokey)\n",
    "    \n",
    "    def saveAll(self):\n",
    "        for key in self.cats:\n",
    "            self.saveNaxx(key)\n",
    "            \n",
    "    def saveNaxx(self, fromkey):\n",
    "        targetdf = self.df[self.df['label'] == fromkey]\n",
    "        \n",
    "        Nab = (targetdf[targetdf.columns[self.catidxs]] > self.thrshold).sum()\n",
    "        Na = len(targetdf)\n",
    "        \n",
    "        Nab_a = Nab/Na\n",
    "        \n",
    "        otherkeys = Nab_a.index\n",
    "        list(map(lambda otherkey: self.add(fromkey, otherkey, Nab_a[otherkey]), otherkeys))\n",
    "        \n",
    "    def add(self, fromkey, tokey, val):\n",
    "        key = self.combinekey(fromkey, tokey)\n",
    "        self.rmiss.setdefault(key, 0)\n",
    "        self.rmiss[key] += val\n",
    "        \n",
    "    def similarity(self, fromkey, tokey):\n",
    "        key1 = self.combinekey(fromkey, tokey)\n",
    "        key2 = self.combinekey(tokey, fromkey)\n",
    "        return (self.rmiss[key1] + self.rmiss[key2])/2"
   ]
  },
  {
   "cell_type": "code",
   "execution_count": 24,
   "metadata": {},
   "outputs": [],
   "source": [
    "sim = SimilarityCalculator(df)"
   ]
  },
  {
   "cell_type": "code",
   "execution_count": 25,
   "metadata": {},
   "outputs": [],
   "source": [
    "sim.saveAll()"
   ]
  },
  {
   "cell_type": "code",
   "execution_count": 26,
   "metadata": {},
   "outputs": [],
   "source": [
    "keys = sim.cats"
   ]
  },
  {
   "cell_type": "markdown",
   "metadata": {},
   "source": [
    "The number of all combinations between classes."
   ]
  },
  {
   "cell_type": "code",
   "execution_count": 27,
   "metadata": {
    "scrolled": true
   },
   "outputs": [
    {
     "data": {
      "text/plain": [
       "120"
      ]
     },
     "execution_count": 27,
     "metadata": {},
     "output_type": "execute_result"
    }
   ],
   "source": [
    "import itertools\n",
    "len(list(itertools.combinations(keys, 2)))"
   ]
  },
  {
   "cell_type": "code",
   "execution_count": 28,
   "metadata": {},
   "outputs": [],
   "source": [
    "simdict = {key1: [sim.similarity(key1, key2) for key2 in keys] for key1 in keys}"
   ]
  },
  {
   "cell_type": "code",
   "execution_count": 29,
   "metadata": {},
   "outputs": [],
   "source": [
    "simdf = pd.DataFrame(simdict)"
   ]
  },
  {
   "cell_type": "code",
   "execution_count": 30,
   "metadata": {},
   "outputs": [],
   "source": [
    "simdf.index = keys"
   ]
  },
  {
   "cell_type": "code",
   "execution_count": 31,
   "metadata": {},
   "outputs": [
    {
     "data": {
      "text/html": [
       "<div>\n",
       "<style scoped>\n",
       "    .dataframe tbody tr th:only-of-type {\n",
       "        vertical-align: middle;\n",
       "    }\n",
       "\n",
       "    .dataframe tbody tr th {\n",
       "        vertical-align: top;\n",
       "    }\n",
       "\n",
       "    .dataframe thead th {\n",
       "        text-align: right;\n",
       "    }\n",
       "</style>\n",
       "<table border=\"1\" class=\"dataframe\">\n",
       "  <thead>\n",
       "    <tr style=\"text-align: right;\">\n",
       "      <th></th>\n",
       "      <th>bay</th>\n",
       "      <th>beach</th>\n",
       "      <th>birds</th>\n",
       "      <th>boeing</th>\n",
       "      <th>buildings</th>\n",
       "      <th>city</th>\n",
       "      <th>clouds</th>\n",
       "      <th>f-16</th>\n",
       "      <th>face</th>\n",
       "      <th>helicopter</th>\n",
       "      <th>mountain</th>\n",
       "      <th>ocean</th>\n",
       "      <th>ships</th>\n",
       "      <th>sky</th>\n",
       "      <th>sunrise</th>\n",
       "      <th>sunset</th>\n",
       "    </tr>\n",
       "  </thead>\n",
       "  <tbody>\n",
       "    <tr>\n",
       "      <th>bay</th>\n",
       "      <td>0.829787</td>\n",
       "      <td>0.626241</td>\n",
       "      <td>0.003788</td>\n",
       "      <td>0.024823</td>\n",
       "      <td>0.069321</td>\n",
       "      <td>0.301298</td>\n",
       "      <td>0.000000</td>\n",
       "      <td>0.027935</td>\n",
       "      <td>0.007196</td>\n",
       "      <td>0.003546</td>\n",
       "      <td>0.188109</td>\n",
       "      <td>0.319808</td>\n",
       "      <td>0.077143</td>\n",
       "      <td>0.033878</td>\n",
       "      <td>0.055251</td>\n",
       "      <td>0.055866</td>\n",
       "    </tr>\n",
       "    <tr>\n",
       "      <th>beach</th>\n",
       "      <td>0.626241</td>\n",
       "      <td>0.921429</td>\n",
       "      <td>0.000000</td>\n",
       "      <td>0.010714</td>\n",
       "      <td>0.025922</td>\n",
       "      <td>0.073184</td>\n",
       "      <td>0.014423</td>\n",
       "      <td>0.022959</td>\n",
       "      <td>0.007221</td>\n",
       "      <td>0.029976</td>\n",
       "      <td>0.114174</td>\n",
       "      <td>0.245480</td>\n",
       "      <td>0.022760</td>\n",
       "      <td>0.030357</td>\n",
       "      <td>0.105645</td>\n",
       "      <td>0.094794</td>\n",
       "    </tr>\n",
       "    <tr>\n",
       "      <th>birds</th>\n",
       "      <td>0.003788</td>\n",
       "      <td>0.000000</td>\n",
       "      <td>0.984848</td>\n",
       "      <td>0.018939</td>\n",
       "      <td>0.003788</td>\n",
       "      <td>0.004237</td>\n",
       "      <td>0.000000</td>\n",
       "      <td>0.026515</td>\n",
       "      <td>0.037464</td>\n",
       "      <td>0.008061</td>\n",
       "      <td>0.000000</td>\n",
       "      <td>0.045488</td>\n",
       "      <td>0.007576</td>\n",
       "      <td>0.003788</td>\n",
       "      <td>0.012952</td>\n",
       "      <td>0.028313</td>\n",
       "    </tr>\n",
       "    <tr>\n",
       "      <th>boeing</th>\n",
       "      <td>0.024823</td>\n",
       "      <td>0.010714</td>\n",
       "      <td>0.018939</td>\n",
       "      <td>0.990099</td>\n",
       "      <td>0.013015</td>\n",
       "      <td>0.035325</td>\n",
       "      <td>0.000000</td>\n",
       "      <td>0.258386</td>\n",
       "      <td>0.015899</td>\n",
       "      <td>0.152958</td>\n",
       "      <td>0.011719</td>\n",
       "      <td>0.066897</td>\n",
       "      <td>0.059322</td>\n",
       "      <td>0.013879</td>\n",
       "      <td>0.010753</td>\n",
       "      <td>0.004237</td>\n",
       "    </tr>\n",
       "    <tr>\n",
       "      <th>buildings</th>\n",
       "      <td>0.069321</td>\n",
       "      <td>0.025922</td>\n",
       "      <td>0.003788</td>\n",
       "      <td>0.013015</td>\n",
       "      <td>0.991935</td>\n",
       "      <td>0.656096</td>\n",
       "      <td>0.000000</td>\n",
       "      <td>0.000000</td>\n",
       "      <td>0.003650</td>\n",
       "      <td>0.004274</td>\n",
       "      <td>0.019783</td>\n",
       "      <td>0.025371</td>\n",
       "      <td>0.091580</td>\n",
       "      <td>0.008497</td>\n",
       "      <td>0.025538</td>\n",
       "      <td>0.028841</td>\n",
       "    </tr>\n",
       "    <tr>\n",
       "      <th>city</th>\n",
       "      <td>0.301298</td>\n",
       "      <td>0.073184</td>\n",
       "      <td>0.004237</td>\n",
       "      <td>0.035325</td>\n",
       "      <td>0.656096</td>\n",
       "      <td>0.957627</td>\n",
       "      <td>0.000000</td>\n",
       "      <td>0.017814</td>\n",
       "      <td>0.029073</td>\n",
       "      <td>0.017022</td>\n",
       "      <td>0.060249</td>\n",
       "      <td>0.055647</td>\n",
       "      <td>0.097458</td>\n",
       "      <td>0.013166</td>\n",
       "      <td>0.040414</td>\n",
       "      <td>0.038136</td>\n",
       "    </tr>\n",
       "    <tr>\n",
       "      <th>clouds</th>\n",
       "      <td>0.000000</td>\n",
       "      <td>0.014423</td>\n",
       "      <td>0.000000</td>\n",
       "      <td>0.000000</td>\n",
       "      <td>0.000000</td>\n",
       "      <td>0.000000</td>\n",
       "      <td>0.961538</td>\n",
       "      <td>0.000000</td>\n",
       "      <td>0.000000</td>\n",
       "      <td>0.000000</td>\n",
       "      <td>0.085337</td>\n",
       "      <td>0.259658</td>\n",
       "      <td>0.000000</td>\n",
       "      <td>0.787088</td>\n",
       "      <td>0.116263</td>\n",
       "      <td>0.128015</td>\n",
       "    </tr>\n",
       "    <tr>\n",
       "      <th>f-16</th>\n",
       "      <td>0.027935</td>\n",
       "      <td>0.022959</td>\n",
       "      <td>0.026515</td>\n",
       "      <td>0.258386</td>\n",
       "      <td>0.000000</td>\n",
       "      <td>0.017814</td>\n",
       "      <td>0.000000</td>\n",
       "      <td>0.969388</td>\n",
       "      <td>0.022605</td>\n",
       "      <td>0.187773</td>\n",
       "      <td>0.015625</td>\n",
       "      <td>0.050027</td>\n",
       "      <td>0.125649</td>\n",
       "      <td>0.005102</td>\n",
       "      <td>0.016129</td>\n",
       "      <td>0.029661</td>\n",
       "    </tr>\n",
       "    <tr>\n",
       "      <th>face</th>\n",
       "      <td>0.007196</td>\n",
       "      <td>0.007221</td>\n",
       "      <td>0.037464</td>\n",
       "      <td>0.015899</td>\n",
       "      <td>0.003650</td>\n",
       "      <td>0.029073</td>\n",
       "      <td>0.000000</td>\n",
       "      <td>0.022605</td>\n",
       "      <td>0.992701</td>\n",
       "      <td>0.007299</td>\n",
       "      <td>0.018761</td>\n",
       "      <td>0.050772</td>\n",
       "      <td>0.015774</td>\n",
       "      <td>0.008114</td>\n",
       "      <td>0.039950</td>\n",
       "      <td>0.024248</td>\n",
       "    </tr>\n",
       "    <tr>\n",
       "      <th>helicopter</th>\n",
       "      <td>0.003546</td>\n",
       "      <td>0.029976</td>\n",
       "      <td>0.008061</td>\n",
       "      <td>0.152958</td>\n",
       "      <td>0.004274</td>\n",
       "      <td>0.017022</td>\n",
       "      <td>0.000000</td>\n",
       "      <td>0.187773</td>\n",
       "      <td>0.007299</td>\n",
       "      <td>0.991453</td>\n",
       "      <td>0.028078</td>\n",
       "      <td>0.004425</td>\n",
       "      <td>0.097892</td>\n",
       "      <td>0.004464</td>\n",
       "      <td>0.010753</td>\n",
       "      <td>0.004237</td>\n",
       "    </tr>\n",
       "    <tr>\n",
       "      <th>mountain</th>\n",
       "      <td>0.188109</td>\n",
       "      <td>0.114174</td>\n",
       "      <td>0.000000</td>\n",
       "      <td>0.011719</td>\n",
       "      <td>0.019783</td>\n",
       "      <td>0.060249</td>\n",
       "      <td>0.085337</td>\n",
       "      <td>0.015625</td>\n",
       "      <td>0.018761</td>\n",
       "      <td>0.028078</td>\n",
       "      <td>0.929688</td>\n",
       "      <td>0.092955</td>\n",
       "      <td>0.019862</td>\n",
       "      <td>0.054688</td>\n",
       "      <td>0.092826</td>\n",
       "      <td>0.045617</td>\n",
       "    </tr>\n",
       "    <tr>\n",
       "      <th>ocean</th>\n",
       "      <td>0.319808</td>\n",
       "      <td>0.245480</td>\n",
       "      <td>0.045488</td>\n",
       "      <td>0.066897</td>\n",
       "      <td>0.025371</td>\n",
       "      <td>0.055647</td>\n",
       "      <td>0.259658</td>\n",
       "      <td>0.050027</td>\n",
       "      <td>0.050772</td>\n",
       "      <td>0.004425</td>\n",
       "      <td>0.092955</td>\n",
       "      <td>0.805310</td>\n",
       "      <td>0.108182</td>\n",
       "      <td>0.271057</td>\n",
       "      <td>0.156818</td>\n",
       "      <td>0.162517</td>\n",
       "    </tr>\n",
       "    <tr>\n",
       "      <th>ships</th>\n",
       "      <td>0.077143</td>\n",
       "      <td>0.022760</td>\n",
       "      <td>0.007576</td>\n",
       "      <td>0.059322</td>\n",
       "      <td>0.091580</td>\n",
       "      <td>0.097458</td>\n",
       "      <td>0.000000</td>\n",
       "      <td>0.125649</td>\n",
       "      <td>0.015774</td>\n",
       "      <td>0.097892</td>\n",
       "      <td>0.019862</td>\n",
       "      <td>0.108182</td>\n",
       "      <td>0.906780</td>\n",
       "      <td>0.000000</td>\n",
       "      <td>0.022325</td>\n",
       "      <td>0.004237</td>\n",
       "    </tr>\n",
       "    <tr>\n",
       "      <th>sky</th>\n",
       "      <td>0.033878</td>\n",
       "      <td>0.030357</td>\n",
       "      <td>0.003788</td>\n",
       "      <td>0.013879</td>\n",
       "      <td>0.008497</td>\n",
       "      <td>0.013166</td>\n",
       "      <td>0.787088</td>\n",
       "      <td>0.005102</td>\n",
       "      <td>0.008114</td>\n",
       "      <td>0.004464</td>\n",
       "      <td>0.054688</td>\n",
       "      <td>0.271057</td>\n",
       "      <td>0.000000</td>\n",
       "      <td>0.875000</td>\n",
       "      <td>0.302227</td>\n",
       "      <td>0.317040</td>\n",
       "    </tr>\n",
       "    <tr>\n",
       "      <th>sunrise</th>\n",
       "      <td>0.055251</td>\n",
       "      <td>0.105645</td>\n",
       "      <td>0.012952</td>\n",
       "      <td>0.010753</td>\n",
       "      <td>0.025538</td>\n",
       "      <td>0.040414</td>\n",
       "      <td>0.116263</td>\n",
       "      <td>0.016129</td>\n",
       "      <td>0.039950</td>\n",
       "      <td>0.010753</td>\n",
       "      <td>0.092826</td>\n",
       "      <td>0.156818</td>\n",
       "      <td>0.022325</td>\n",
       "      <td>0.302227</td>\n",
       "      <td>0.924731</td>\n",
       "      <td>0.901905</td>\n",
       "    </tr>\n",
       "    <tr>\n",
       "      <th>sunset</th>\n",
       "      <td>0.055866</td>\n",
       "      <td>0.094794</td>\n",
       "      <td>0.028313</td>\n",
       "      <td>0.004237</td>\n",
       "      <td>0.028841</td>\n",
       "      <td>0.038136</td>\n",
       "      <td>0.128015</td>\n",
       "      <td>0.029661</td>\n",
       "      <td>0.024248</td>\n",
       "      <td>0.004237</td>\n",
       "      <td>0.045617</td>\n",
       "      <td>0.162517</td>\n",
       "      <td>0.004237</td>\n",
       "      <td>0.317040</td>\n",
       "      <td>0.901905</td>\n",
       "      <td>0.864407</td>\n",
       "    </tr>\n",
       "  </tbody>\n",
       "</table>\n",
       "</div>"
      ],
      "text/plain": [
       "                 bay     beach     birds    boeing  buildings      city  \\\n",
       "bay         0.829787  0.626241  0.003788  0.024823   0.069321  0.301298   \n",
       "beach       0.626241  0.921429  0.000000  0.010714   0.025922  0.073184   \n",
       "birds       0.003788  0.000000  0.984848  0.018939   0.003788  0.004237   \n",
       "boeing      0.024823  0.010714  0.018939  0.990099   0.013015  0.035325   \n",
       "buildings   0.069321  0.025922  0.003788  0.013015   0.991935  0.656096   \n",
       "city        0.301298  0.073184  0.004237  0.035325   0.656096  0.957627   \n",
       "clouds      0.000000  0.014423  0.000000  0.000000   0.000000  0.000000   \n",
       "f-16        0.027935  0.022959  0.026515  0.258386   0.000000  0.017814   \n",
       "face        0.007196  0.007221  0.037464  0.015899   0.003650  0.029073   \n",
       "helicopter  0.003546  0.029976  0.008061  0.152958   0.004274  0.017022   \n",
       "mountain    0.188109  0.114174  0.000000  0.011719   0.019783  0.060249   \n",
       "ocean       0.319808  0.245480  0.045488  0.066897   0.025371  0.055647   \n",
       "ships       0.077143  0.022760  0.007576  0.059322   0.091580  0.097458   \n",
       "sky         0.033878  0.030357  0.003788  0.013879   0.008497  0.013166   \n",
       "sunrise     0.055251  0.105645  0.012952  0.010753   0.025538  0.040414   \n",
       "sunset      0.055866  0.094794  0.028313  0.004237   0.028841  0.038136   \n",
       "\n",
       "              clouds      f-16      face  helicopter  mountain     ocean  \\\n",
       "bay         0.000000  0.027935  0.007196    0.003546  0.188109  0.319808   \n",
       "beach       0.014423  0.022959  0.007221    0.029976  0.114174  0.245480   \n",
       "birds       0.000000  0.026515  0.037464    0.008061  0.000000  0.045488   \n",
       "boeing      0.000000  0.258386  0.015899    0.152958  0.011719  0.066897   \n",
       "buildings   0.000000  0.000000  0.003650    0.004274  0.019783  0.025371   \n",
       "city        0.000000  0.017814  0.029073    0.017022  0.060249  0.055647   \n",
       "clouds      0.961538  0.000000  0.000000    0.000000  0.085337  0.259658   \n",
       "f-16        0.000000  0.969388  0.022605    0.187773  0.015625  0.050027   \n",
       "face        0.000000  0.022605  0.992701    0.007299  0.018761  0.050772   \n",
       "helicopter  0.000000  0.187773  0.007299    0.991453  0.028078  0.004425   \n",
       "mountain    0.085337  0.015625  0.018761    0.028078  0.929688  0.092955   \n",
       "ocean       0.259658  0.050027  0.050772    0.004425  0.092955  0.805310   \n",
       "ships       0.000000  0.125649  0.015774    0.097892  0.019862  0.108182   \n",
       "sky         0.787088  0.005102  0.008114    0.004464  0.054688  0.271057   \n",
       "sunrise     0.116263  0.016129  0.039950    0.010753  0.092826  0.156818   \n",
       "sunset      0.128015  0.029661  0.024248    0.004237  0.045617  0.162517   \n",
       "\n",
       "               ships       sky   sunrise    sunset  \n",
       "bay         0.077143  0.033878  0.055251  0.055866  \n",
       "beach       0.022760  0.030357  0.105645  0.094794  \n",
       "birds       0.007576  0.003788  0.012952  0.028313  \n",
       "boeing      0.059322  0.013879  0.010753  0.004237  \n",
       "buildings   0.091580  0.008497  0.025538  0.028841  \n",
       "city        0.097458  0.013166  0.040414  0.038136  \n",
       "clouds      0.000000  0.787088  0.116263  0.128015  \n",
       "f-16        0.125649  0.005102  0.016129  0.029661  \n",
       "face        0.015774  0.008114  0.039950  0.024248  \n",
       "helicopter  0.097892  0.004464  0.010753  0.004237  \n",
       "mountain    0.019862  0.054688  0.092826  0.045617  \n",
       "ocean       0.108182  0.271057  0.156818  0.162517  \n",
       "ships       0.906780  0.000000  0.022325  0.004237  \n",
       "sky         0.000000  0.875000  0.302227  0.317040  \n",
       "sunrise     0.022325  0.302227  0.924731  0.901905  \n",
       "sunset      0.004237  0.317040  0.901905  0.864407  "
      ]
     },
     "execution_count": 31,
     "metadata": {},
     "output_type": "execute_result"
    }
   ],
   "source": [
    "simdf"
   ]
  },
  {
   "cell_type": "markdown",
   "metadata": {},
   "source": [
    "Save the similarity results as pickle."
   ]
  },
  {
   "cell_type": "code",
   "execution_count": 32,
   "metadata": {},
   "outputs": [],
   "source": [
    "simdf.to_pickle(VALID_SIMILARITY_DICT_PATH)"
   ]
  },
  {
   "cell_type": "markdown",
   "metadata": {},
   "source": [
    "## Compute $ClassSim$ using multi-class classifier\n",
    "\n",
    "Next compute our proposed similarities using trained multi-class classifier in *train_multiclass_classifier.ipynb*."
   ]
  },
  {
   "cell_type": "markdown",
   "metadata": {},
   "source": [
    "Load multi-class classifier."
   ]
  },
  {
   "cell_type": "code",
   "execution_count": 33,
   "metadata": {},
   "outputs": [],
   "source": [
    "from models.modelutils import load_model_from"
   ]
  },
  {
   "cell_type": "code",
   "execution_count": 34,
   "metadata": {},
   "outputs": [],
   "source": [
    "model = load_model_from(\"trained_model/multiclass/multiclass.json\", \"trained_model/multiclass/multiclass.h5\")"
   ]
  },
  {
   "cell_type": "code",
   "execution_count": 35,
   "metadata": {},
   "outputs": [],
   "source": [
    "with open(\"trained_model/multiclass/multiclass-labels.json\", 'r') as f:\n",
    "    labeldic = json.load(f)"
   ]
  },
  {
   "cell_type": "markdown",
   "metadata": {},
   "source": [
    "### Predict scores and store them as DataFrame"
   ]
  },
  {
   "cell_type": "code",
   "execution_count": 36,
   "metadata": {},
   "outputs": [],
   "source": [
    "ds = DataSet()"
   ]
  },
  {
   "cell_type": "code",
   "execution_count": 37,
   "metadata": {},
   "outputs": [],
   "source": [
    "multidic = {val:key for key,val in labeldic.items()}"
   ]
  },
  {
   "cell_type": "code",
   "execution_count": 38,
   "metadata": {},
   "outputs": [
    {
     "data": {
      "text/plain": [
       "{0: 'bay',\n",
       " 1: 'beach',\n",
       " 2: 'birds',\n",
       " 3: 'boeing',\n",
       " 4: 'buildings',\n",
       " 5: 'city',\n",
       " 6: 'clouds',\n",
       " 7: 'f-16',\n",
       " 8: 'face',\n",
       " 9: 'helicopter',\n",
       " 10: 'mountain',\n",
       " 11: 'ocean',\n",
       " 12: 'ships',\n",
       " 13: 'sky',\n",
       " 14: 'sunrise',\n",
       " 15: 'sunset'}"
      ]
     },
     "execution_count": 38,
     "metadata": {},
     "output_type": "execute_result"
    }
   ],
   "source": [
    "multidic"
   ]
  },
  {
   "cell_type": "code",
   "execution_count": 39,
   "metadata": {},
   "outputs": [],
   "source": [
    "ftuppls = [(key, file) for key in fdict.keys() for file in fdict[key]]"
   ]
  },
  {
   "cell_type": "code",
   "execution_count": 40,
   "metadata": {},
   "outputs": [],
   "source": [
    "labels = [tup[0] for tup in ftuppls]"
   ]
  },
  {
   "cell_type": "code",
   "execution_count": 41,
   "metadata": {},
   "outputs": [],
   "source": [
    "paths = [tup[1] for tup in ftuppls]"
   ]
  },
  {
   "cell_type": "code",
   "execution_count": 42,
   "metadata": {},
   "outputs": [
    {
     "data": {
      "text/plain": [
       "(1894, 1894)"
      ]
     },
     "execution_count": 42,
     "metadata": {},
     "output_type": "execute_result"
    }
   ],
   "source": [
    "len(labels), len(paths)"
   ]
  },
  {
   "cell_type": "code",
   "execution_count": 43,
   "metadata": {},
   "outputs": [],
   "source": [
    "def predict_flist(flist):\n",
    "    arr = ds.files_to_dataset(flist)\n",
    "    scores = model.predict(arr)\n",
    "    return np.argmax(scores, axis=1)"
   ]
  },
  {
   "cell_type": "code",
   "execution_count": 44,
   "metadata": {
    "scrolled": true
   },
   "outputs": [],
   "source": [
    "chunked_paths = ds.chunked(paths, 3000)\n",
    "\n",
    "res_inds = []\n",
    "\n",
    "for chunk in chunked_paths:\n",
    "    inds = predict_flist(chunk)\n",
    "    res_inds = np.concatenate((res_inds, inds)).astype(int)\n",
    "    \n",
    "unordered_df = pd.get_dummies([multidic[ind] for ind in res_inds])\n",
    "df = unordered_df[catkeys]"
   ]
  },
  {
   "cell_type": "code",
   "execution_count": 45,
   "metadata": {},
   "outputs": [],
   "source": [
    "df['label'] = labels"
   ]
  },
  {
   "cell_type": "markdown",
   "metadata": {},
   "source": [
    "Save the computed scores as pickle."
   ]
  },
  {
   "cell_type": "code",
   "execution_count": 46,
   "metadata": {},
   "outputs": [],
   "source": [
    "df.to_pickle(\"results/multi_df.dat\")"
   ]
  },
  {
   "cell_type": "markdown",
   "metadata": {},
   "source": [
    "### Compute $ClassSim$ using computed scores"
   ]
  },
  {
   "cell_type": "code",
   "execution_count": 47,
   "metadata": {},
   "outputs": [],
   "source": [
    "sim = SimilarityCalculator(df)"
   ]
  },
  {
   "cell_type": "code",
   "execution_count": 48,
   "metadata": {},
   "outputs": [],
   "source": [
    "sim.saveAll()"
   ]
  },
  {
   "cell_type": "code",
   "execution_count": 49,
   "metadata": {},
   "outputs": [],
   "source": [
    "keys = sim.cats"
   ]
  },
  {
   "cell_type": "code",
   "execution_count": 50,
   "metadata": {},
   "outputs": [],
   "source": [
    "simdict = {key1: [sim.similarity(key1, key2) for key2 in keys] for key1 in keys}"
   ]
  },
  {
   "cell_type": "code",
   "execution_count": 51,
   "metadata": {},
   "outputs": [],
   "source": [
    "simdf = pd.DataFrame(simdict)"
   ]
  },
  {
   "cell_type": "code",
   "execution_count": 52,
   "metadata": {},
   "outputs": [],
   "source": [
    "simdf.index = keys"
   ]
  },
  {
   "cell_type": "code",
   "execution_count": 53,
   "metadata": {},
   "outputs": [
    {
     "data": {
      "text/html": [
       "<div>\n",
       "<style scoped>\n",
       "    .dataframe tbody tr th:only-of-type {\n",
       "        vertical-align: middle;\n",
       "    }\n",
       "\n",
       "    .dataframe tbody tr th {\n",
       "        vertical-align: top;\n",
       "    }\n",
       "\n",
       "    .dataframe thead th {\n",
       "        text-align: right;\n",
       "    }\n",
       "</style>\n",
       "<table border=\"1\" class=\"dataframe\">\n",
       "  <thead>\n",
       "    <tr style=\"text-align: right;\">\n",
       "      <th></th>\n",
       "      <th>bay</th>\n",
       "      <th>beach</th>\n",
       "      <th>birds</th>\n",
       "      <th>boeing</th>\n",
       "      <th>buildings</th>\n",
       "      <th>city</th>\n",
       "      <th>clouds</th>\n",
       "      <th>f-16</th>\n",
       "      <th>face</th>\n",
       "      <th>helicopter</th>\n",
       "      <th>mountain</th>\n",
       "      <th>ocean</th>\n",
       "      <th>ships</th>\n",
       "      <th>sky</th>\n",
       "      <th>sunrise</th>\n",
       "      <th>sunset</th>\n",
       "    </tr>\n",
       "  </thead>\n",
       "  <tbody>\n",
       "    <tr>\n",
       "      <th>bay</th>\n",
       "      <td>0.617021</td>\n",
       "      <td>0.245719</td>\n",
       "      <td>0.003788</td>\n",
       "      <td>0.000000</td>\n",
       "      <td>0.044498</td>\n",
       "      <td>0.122972</td>\n",
       "      <td>0.004808</td>\n",
       "      <td>0.008648</td>\n",
       "      <td>0.007299</td>\n",
       "      <td>0.011366</td>\n",
       "      <td>0.093390</td>\n",
       "      <td>0.086738</td>\n",
       "      <td>0.061486</td>\n",
       "      <td>0.047271</td>\n",
       "      <td>0.019675</td>\n",
       "      <td>0.012712</td>\n",
       "    </tr>\n",
       "    <tr>\n",
       "      <th>beach</th>\n",
       "      <td>0.245719</td>\n",
       "      <td>0.614286</td>\n",
       "      <td>0.003788</td>\n",
       "      <td>0.000000</td>\n",
       "      <td>0.014747</td>\n",
       "      <td>0.007809</td>\n",
       "      <td>0.000000</td>\n",
       "      <td>0.000000</td>\n",
       "      <td>0.000000</td>\n",
       "      <td>0.000000</td>\n",
       "      <td>0.011049</td>\n",
       "      <td>0.039823</td>\n",
       "      <td>0.007143</td>\n",
       "      <td>0.004464</td>\n",
       "      <td>0.008948</td>\n",
       "      <td>0.014286</td>\n",
       "    </tr>\n",
       "    <tr>\n",
       "      <th>birds</th>\n",
       "      <td>0.003788</td>\n",
       "      <td>0.003788</td>\n",
       "      <td>0.954545</td>\n",
       "      <td>0.004950</td>\n",
       "      <td>0.000000</td>\n",
       "      <td>0.000000</td>\n",
       "      <td>0.004808</td>\n",
       "      <td>0.005102</td>\n",
       "      <td>0.011225</td>\n",
       "      <td>0.000000</td>\n",
       "      <td>0.007812</td>\n",
       "      <td>0.008850</td>\n",
       "      <td>0.003788</td>\n",
       "      <td>0.003788</td>\n",
       "      <td>0.000000</td>\n",
       "      <td>0.004237</td>\n",
       "    </tr>\n",
       "    <tr>\n",
       "      <th>boeing</th>\n",
       "      <td>0.000000</td>\n",
       "      <td>0.000000</td>\n",
       "      <td>0.004950</td>\n",
       "      <td>0.881188</td>\n",
       "      <td>0.004950</td>\n",
       "      <td>0.000000</td>\n",
       "      <td>0.000000</td>\n",
       "      <td>0.039604</td>\n",
       "      <td>0.000000</td>\n",
       "      <td>0.004950</td>\n",
       "      <td>0.000000</td>\n",
       "      <td>0.000000</td>\n",
       "      <td>0.000000</td>\n",
       "      <td>0.004950</td>\n",
       "      <td>0.000000</td>\n",
       "      <td>0.000000</td>\n",
       "    </tr>\n",
       "    <tr>\n",
       "      <th>buildings</th>\n",
       "      <td>0.044498</td>\n",
       "      <td>0.014747</td>\n",
       "      <td>0.000000</td>\n",
       "      <td>0.004950</td>\n",
       "      <td>0.887097</td>\n",
       "      <td>0.121651</td>\n",
       "      <td>0.000000</td>\n",
       "      <td>0.009134</td>\n",
       "      <td>0.000000</td>\n",
       "      <td>0.000000</td>\n",
       "      <td>0.003906</td>\n",
       "      <td>0.012882</td>\n",
       "      <td>0.016744</td>\n",
       "      <td>0.004464</td>\n",
       "      <td>0.005376</td>\n",
       "      <td>0.000000</td>\n",
       "    </tr>\n",
       "    <tr>\n",
       "      <th>city</th>\n",
       "      <td>0.122972</td>\n",
       "      <td>0.007809</td>\n",
       "      <td>0.000000</td>\n",
       "      <td>0.000000</td>\n",
       "      <td>0.121651</td>\n",
       "      <td>0.550847</td>\n",
       "      <td>0.000000</td>\n",
       "      <td>0.005102</td>\n",
       "      <td>0.000000</td>\n",
       "      <td>0.008475</td>\n",
       "      <td>0.008144</td>\n",
       "      <td>0.000000</td>\n",
       "      <td>0.012712</td>\n",
       "      <td>0.004237</td>\n",
       "      <td>0.000000</td>\n",
       "      <td>0.008475</td>\n",
       "    </tr>\n",
       "    <tr>\n",
       "      <th>clouds</th>\n",
       "      <td>0.004808</td>\n",
       "      <td>0.000000</td>\n",
       "      <td>0.004808</td>\n",
       "      <td>0.000000</td>\n",
       "      <td>0.000000</td>\n",
       "      <td>0.000000</td>\n",
       "      <td>0.701923</td>\n",
       "      <td>0.000000</td>\n",
       "      <td>0.000000</td>\n",
       "      <td>0.000000</td>\n",
       "      <td>0.021334</td>\n",
       "      <td>0.041355</td>\n",
       "      <td>0.000000</td>\n",
       "      <td>0.247596</td>\n",
       "      <td>0.004808</td>\n",
       "      <td>0.014423</td>\n",
       "    </tr>\n",
       "    <tr>\n",
       "      <th>f-16</th>\n",
       "      <td>0.008648</td>\n",
       "      <td>0.000000</td>\n",
       "      <td>0.005102</td>\n",
       "      <td>0.039604</td>\n",
       "      <td>0.009134</td>\n",
       "      <td>0.005102</td>\n",
       "      <td>0.000000</td>\n",
       "      <td>0.887755</td>\n",
       "      <td>0.005102</td>\n",
       "      <td>0.038331</td>\n",
       "      <td>0.012915</td>\n",
       "      <td>0.008850</td>\n",
       "      <td>0.012712</td>\n",
       "      <td>0.000000</td>\n",
       "      <td>0.000000</td>\n",
       "      <td>0.000000</td>\n",
       "    </tr>\n",
       "    <tr>\n",
       "      <th>face</th>\n",
       "      <td>0.007299</td>\n",
       "      <td>0.000000</td>\n",
       "      <td>0.011225</td>\n",
       "      <td>0.000000</td>\n",
       "      <td>0.000000</td>\n",
       "      <td>0.000000</td>\n",
       "      <td>0.000000</td>\n",
       "      <td>0.005102</td>\n",
       "      <td>0.956204</td>\n",
       "      <td>0.000000</td>\n",
       "      <td>0.007556</td>\n",
       "      <td>0.012499</td>\n",
       "      <td>0.000000</td>\n",
       "      <td>0.008114</td>\n",
       "      <td>0.005376</td>\n",
       "      <td>0.008475</td>\n",
       "    </tr>\n",
       "    <tr>\n",
       "      <th>helicopter</th>\n",
       "      <td>0.011366</td>\n",
       "      <td>0.000000</td>\n",
       "      <td>0.000000</td>\n",
       "      <td>0.004950</td>\n",
       "      <td>0.000000</td>\n",
       "      <td>0.008475</td>\n",
       "      <td>0.000000</td>\n",
       "      <td>0.038331</td>\n",
       "      <td>0.000000</td>\n",
       "      <td>0.940171</td>\n",
       "      <td>0.004274</td>\n",
       "      <td>0.000000</td>\n",
       "      <td>0.025496</td>\n",
       "      <td>0.000000</td>\n",
       "      <td>0.000000</td>\n",
       "      <td>0.004237</td>\n",
       "    </tr>\n",
       "    <tr>\n",
       "      <th>mountain</th>\n",
       "      <td>0.093390</td>\n",
       "      <td>0.011049</td>\n",
       "      <td>0.007812</td>\n",
       "      <td>0.000000</td>\n",
       "      <td>0.003906</td>\n",
       "      <td>0.008144</td>\n",
       "      <td>0.021334</td>\n",
       "      <td>0.012915</td>\n",
       "      <td>0.007556</td>\n",
       "      <td>0.004274</td>\n",
       "      <td>0.703125</td>\n",
       "      <td>0.016144</td>\n",
       "      <td>0.000000</td>\n",
       "      <td>0.012835</td>\n",
       "      <td>0.005376</td>\n",
       "      <td>0.004237</td>\n",
       "    </tr>\n",
       "    <tr>\n",
       "      <th>ocean</th>\n",
       "      <td>0.086738</td>\n",
       "      <td>0.039823</td>\n",
       "      <td>0.008850</td>\n",
       "      <td>0.000000</td>\n",
       "      <td>0.012882</td>\n",
       "      <td>0.000000</td>\n",
       "      <td>0.041355</td>\n",
       "      <td>0.008850</td>\n",
       "      <td>0.012499</td>\n",
       "      <td>0.000000</td>\n",
       "      <td>0.016144</td>\n",
       "      <td>0.557522</td>\n",
       "      <td>0.021936</td>\n",
       "      <td>0.022242</td>\n",
       "      <td>0.014226</td>\n",
       "      <td>0.025611</td>\n",
       "    </tr>\n",
       "    <tr>\n",
       "      <th>ships</th>\n",
       "      <td>0.061486</td>\n",
       "      <td>0.007143</td>\n",
       "      <td>0.003788</td>\n",
       "      <td>0.000000</td>\n",
       "      <td>0.016744</td>\n",
       "      <td>0.012712</td>\n",
       "      <td>0.000000</td>\n",
       "      <td>0.012712</td>\n",
       "      <td>0.000000</td>\n",
       "      <td>0.025496</td>\n",
       "      <td>0.000000</td>\n",
       "      <td>0.021936</td>\n",
       "      <td>0.779661</td>\n",
       "      <td>0.000000</td>\n",
       "      <td>0.000000</td>\n",
       "      <td>0.000000</td>\n",
       "    </tr>\n",
       "    <tr>\n",
       "      <th>sky</th>\n",
       "      <td>0.047271</td>\n",
       "      <td>0.004464</td>\n",
       "      <td>0.003788</td>\n",
       "      <td>0.004950</td>\n",
       "      <td>0.004464</td>\n",
       "      <td>0.004237</td>\n",
       "      <td>0.247596</td>\n",
       "      <td>0.000000</td>\n",
       "      <td>0.008114</td>\n",
       "      <td>0.000000</td>\n",
       "      <td>0.012835</td>\n",
       "      <td>0.022242</td>\n",
       "      <td>0.000000</td>\n",
       "      <td>0.312500</td>\n",
       "      <td>0.057220</td>\n",
       "      <td>0.105554</td>\n",
       "    </tr>\n",
       "    <tr>\n",
       "      <th>sunrise</th>\n",
       "      <td>0.019675</td>\n",
       "      <td>0.008948</td>\n",
       "      <td>0.000000</td>\n",
       "      <td>0.000000</td>\n",
       "      <td>0.005376</td>\n",
       "      <td>0.000000</td>\n",
       "      <td>0.004808</td>\n",
       "      <td>0.000000</td>\n",
       "      <td>0.005376</td>\n",
       "      <td>0.000000</td>\n",
       "      <td>0.005376</td>\n",
       "      <td>0.014226</td>\n",
       "      <td>0.000000</td>\n",
       "      <td>0.057220</td>\n",
       "      <td>0.376344</td>\n",
       "      <td>0.353244</td>\n",
       "    </tr>\n",
       "    <tr>\n",
       "      <th>sunset</th>\n",
       "      <td>0.012712</td>\n",
       "      <td>0.014286</td>\n",
       "      <td>0.004237</td>\n",
       "      <td>0.000000</td>\n",
       "      <td>0.000000</td>\n",
       "      <td>0.008475</td>\n",
       "      <td>0.014423</td>\n",
       "      <td>0.000000</td>\n",
       "      <td>0.008475</td>\n",
       "      <td>0.004237</td>\n",
       "      <td>0.004237</td>\n",
       "      <td>0.025611</td>\n",
       "      <td>0.000000</td>\n",
       "      <td>0.105554</td>\n",
       "      <td>0.353244</td>\n",
       "      <td>0.610169</td>\n",
       "    </tr>\n",
       "  </tbody>\n",
       "</table>\n",
       "</div>"
      ],
      "text/plain": [
       "                 bay     beach     birds    boeing  buildings      city  \\\n",
       "bay         0.617021  0.245719  0.003788  0.000000   0.044498  0.122972   \n",
       "beach       0.245719  0.614286  0.003788  0.000000   0.014747  0.007809   \n",
       "birds       0.003788  0.003788  0.954545  0.004950   0.000000  0.000000   \n",
       "boeing      0.000000  0.000000  0.004950  0.881188   0.004950  0.000000   \n",
       "buildings   0.044498  0.014747  0.000000  0.004950   0.887097  0.121651   \n",
       "city        0.122972  0.007809  0.000000  0.000000   0.121651  0.550847   \n",
       "clouds      0.004808  0.000000  0.004808  0.000000   0.000000  0.000000   \n",
       "f-16        0.008648  0.000000  0.005102  0.039604   0.009134  0.005102   \n",
       "face        0.007299  0.000000  0.011225  0.000000   0.000000  0.000000   \n",
       "helicopter  0.011366  0.000000  0.000000  0.004950   0.000000  0.008475   \n",
       "mountain    0.093390  0.011049  0.007812  0.000000   0.003906  0.008144   \n",
       "ocean       0.086738  0.039823  0.008850  0.000000   0.012882  0.000000   \n",
       "ships       0.061486  0.007143  0.003788  0.000000   0.016744  0.012712   \n",
       "sky         0.047271  0.004464  0.003788  0.004950   0.004464  0.004237   \n",
       "sunrise     0.019675  0.008948  0.000000  0.000000   0.005376  0.000000   \n",
       "sunset      0.012712  0.014286  0.004237  0.000000   0.000000  0.008475   \n",
       "\n",
       "              clouds      f-16      face  helicopter  mountain     ocean  \\\n",
       "bay         0.004808  0.008648  0.007299    0.011366  0.093390  0.086738   \n",
       "beach       0.000000  0.000000  0.000000    0.000000  0.011049  0.039823   \n",
       "birds       0.004808  0.005102  0.011225    0.000000  0.007812  0.008850   \n",
       "boeing      0.000000  0.039604  0.000000    0.004950  0.000000  0.000000   \n",
       "buildings   0.000000  0.009134  0.000000    0.000000  0.003906  0.012882   \n",
       "city        0.000000  0.005102  0.000000    0.008475  0.008144  0.000000   \n",
       "clouds      0.701923  0.000000  0.000000    0.000000  0.021334  0.041355   \n",
       "f-16        0.000000  0.887755  0.005102    0.038331  0.012915  0.008850   \n",
       "face        0.000000  0.005102  0.956204    0.000000  0.007556  0.012499   \n",
       "helicopter  0.000000  0.038331  0.000000    0.940171  0.004274  0.000000   \n",
       "mountain    0.021334  0.012915  0.007556    0.004274  0.703125  0.016144   \n",
       "ocean       0.041355  0.008850  0.012499    0.000000  0.016144  0.557522   \n",
       "ships       0.000000  0.012712  0.000000    0.025496  0.000000  0.021936   \n",
       "sky         0.247596  0.000000  0.008114    0.000000  0.012835  0.022242   \n",
       "sunrise     0.004808  0.000000  0.005376    0.000000  0.005376  0.014226   \n",
       "sunset      0.014423  0.000000  0.008475    0.004237  0.004237  0.025611   \n",
       "\n",
       "               ships       sky   sunrise    sunset  \n",
       "bay         0.061486  0.047271  0.019675  0.012712  \n",
       "beach       0.007143  0.004464  0.008948  0.014286  \n",
       "birds       0.003788  0.003788  0.000000  0.004237  \n",
       "boeing      0.000000  0.004950  0.000000  0.000000  \n",
       "buildings   0.016744  0.004464  0.005376  0.000000  \n",
       "city        0.012712  0.004237  0.000000  0.008475  \n",
       "clouds      0.000000  0.247596  0.004808  0.014423  \n",
       "f-16        0.012712  0.000000  0.000000  0.000000  \n",
       "face        0.000000  0.008114  0.005376  0.008475  \n",
       "helicopter  0.025496  0.000000  0.000000  0.004237  \n",
       "mountain    0.000000  0.012835  0.005376  0.004237  \n",
       "ocean       0.021936  0.022242  0.014226  0.025611  \n",
       "ships       0.779661  0.000000  0.000000  0.000000  \n",
       "sky         0.000000  0.312500  0.057220  0.105554  \n",
       "sunrise     0.000000  0.057220  0.376344  0.353244  \n",
       "sunset      0.000000  0.105554  0.353244  0.610169  "
      ]
     },
     "execution_count": 53,
     "metadata": {},
     "output_type": "execute_result"
    }
   ],
   "source": [
    "simdf"
   ]
  },
  {
   "cell_type": "markdown",
   "metadata": {},
   "source": [
    "Save the similarity results as pickle."
   ]
  },
  {
   "cell_type": "code",
   "execution_count": 54,
   "metadata": {},
   "outputs": [],
   "source": [
    "simdf.to_pickle(\"results/multi_sim_df.dat\")"
   ]
  },
  {
   "cell_type": "code",
   "execution_count": null,
   "metadata": {},
   "outputs": [],
   "source": []
  },
  {
   "cell_type": "code",
   "execution_count": null,
   "metadata": {},
   "outputs": [],
   "source": []
  },
  {
   "cell_type": "code",
   "execution_count": null,
   "metadata": {},
   "outputs": [],
   "source": []
  }
 ],
 "metadata": {
  "kernelspec": {
   "display_name": "Python 3",
   "language": "python",
   "name": "python3"
  },
  "language_info": {
   "codemirror_mode": {
    "name": "ipython",
    "version": 3
   },
   "file_extension": ".py",
   "mimetype": "text/x-python",
   "name": "python",
   "nbconvert_exporter": "python",
   "pygments_lexer": "ipython3",
   "version": "3.5.2"
  }
 },
 "nbformat": 4,
 "nbformat_minor": 2
}
