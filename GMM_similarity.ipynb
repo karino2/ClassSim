{
 "cells": [
  {
   "cell_type": "code",
   "execution_count": 1,
   "metadata": {},
   "outputs": [],
   "source": [
    "%matplotlib inline\n",
    "\n",
    "from imageio import imread\n",
    "import numpy as np\n",
    "from skimage import color, filters, img_as_float\n",
    "import math\n",
    "import matplotlib.pyplot as plt\n",
    "from mpl_toolkits.mplot3d import Axes3D"
   ]
  },
  {
   "cell_type": "code",
   "execution_count": 2,
   "metadata": {},
   "outputs": [],
   "source": [
    "def get_tile(tile_row, tile_col, img, img_gray, img_binary):\n",
    "    tile_h = int(img.shape[0]/5)\n",
    "    tile_w = int(img.shape[1]/5)\n",
    "    y0, y1, x0, x1 = tile_row*tile_h, ((tile_row+1)*tile_h), tile_col*tile_w, (tile_col+1)*tile_w\n",
    "    tile = img[y0:y1, x0:x1, :]\n",
    "    tile_gray = img_gray[y0:y1, x0:x1]\n",
    "    tile_binary = img_binary[y0:y1, x0:x1]\n",
    "    return tile, tile_gray, tile_binary"
   ]
  },
  {
   "cell_type": "code",
   "execution_count": 76,
   "metadata": {},
   "outputs": [],
   "source": [
    "from scipy.misc import imresize\n",
    "MAX_SIZE = 224\n",
    "\n",
    "\n",
    "def im_normalized_read(fname, size_limit = MAX_SIZE):\n",
    "    from skimage.transform import resize\n",
    "    img =  imread(fname)\n",
    "    max_len = np.max(img.shape)\n",
    "    if max_len <= size_limit:\n",
    "        return img_as_float(img)\n",
    "    ratio = size_limit/max_len\n",
    "    new_img = imresize(img, size=ratio, interp='bicubic')\n",
    "    return img_as_float(new_img)"
   ]
  },
  {
   "cell_type": "markdown",
   "metadata": {},
   "source": [
    "# Color Moments"
   ]
  },
  {
   "cell_type": "code",
   "execution_count": 5,
   "metadata": {},
   "outputs": [],
   "source": [
    "def calc_moment3(arr, moment1):\n",
    "    cubed = np.mean((arr-moment1)**3)\n",
    "    return math.pow(abs(cubed),1/3) * (1,-1)[cubed<0]"
   ]
  },
  {
   "cell_type": "code",
   "execution_count": 6,
   "metadata": {},
   "outputs": [],
   "source": [
    "def calc_moments(arr):\n",
    "    moment1 = np.mean(arr)\n",
    "    moment2 = np.mean((arr-moment1)**2)**(1/2)\n",
    "    moment3 = calc_moment3(arr, moment1)\n",
    "    return moment1, moment2, moment3"
   ]
  },
  {
   "cell_type": "code",
   "execution_count": 7,
   "metadata": {},
   "outputs": [],
   "source": [
    "def calc_4_rgb_moments(rgbarr):\n",
    "    r1, r2, r3 = calc_moments(rgbarr[:, :, 0])\n",
    "    g1, g2, g3 = calc_moments(rgbarr[:, :, 1])\n",
    "    b1, b2, b3 = calc_moments(rgbarr[:, :, 2])\n",
    "    gray = color.rgb2gray(rgbarr)\n",
    "    gr1, gr2, gr3 = calc_moments(gray)\n",
    "    return [r1, r2, r3, g1, g2, g3, b1, b2, b3, gr1, gr2, gr3]"
   ]
  },
  {
   "cell_type": "code",
   "execution_count": null,
   "metadata": {},
   "outputs": [],
   "source": []
  },
  {
   "cell_type": "markdown",
   "metadata": {},
   "source": [
    "# DOOG filter\n",
    "\n",
    "\n",
    "Based on \"Preattentive texture discrimination with early vision mechanisms\", Fig. 2."
   ]
  },
  {
   "cell_type": "code",
   "execution_count": 8,
   "metadata": {},
   "outputs": [],
   "source": [
    "def G(y0, sigmax, sigmay, x, y):\n",
    "    # The definition of G seems wrong, I refer original Yang's paper.\n",
    "    # return (1/(2*math.pi* sigmax*sigmay)) *np.exp(- (x**2) + (y- y0/sigmay)**2)\n",
    "    dimx = len(x)\n",
    "    dimy = len(y)\n",
    "    return (1/(2*math.pi* sigmax*sigmay)) *np.exp(- (1/2) * (((x/sigmax)**2).reshape(1, dimx) + (((y- y0)/sigmay)**2).reshape(dimy, 1)))"
   ]
  },
  {
   "cell_type": "code",
   "execution_count": 9,
   "metadata": {},
   "outputs": [],
   "source": [
    "def DOOG2(x, y, sigma, r=3):\n",
    "    sigmay = sigma\n",
    "    sigmax = r*sigma\n",
    "    ya = sigma\n",
    "    yc = -sigma\n",
    "    return -G(ya, sigmax, sigmay, x, y) + 2*G(0, sigmax, sigmay, x, y) - G(yc, sigmax, sigmay, x, y)"
   ]
  },
  {
   "cell_type": "code",
   "execution_count": 10,
   "metadata": {},
   "outputs": [],
   "source": [
    "def DOOG2_weight(sigma, r=3, truncate=4):\n",
    "    # similar filter size logic as filters.gaussian of scipy.\n",
    "    lw = int(truncate * sigma + 0.5)\n",
    "    return DOOG2(np.arange(-lw, lw+1), np.arange(-lw, lw+1), sigma, r)"
   ]
  },
  {
   "cell_type": "code",
   "execution_count": 11,
   "metadata": {},
   "outputs": [],
   "source": [
    "# https://docs.scipy.org/doc/scipy-0.16.1/reference/generated/scipy.ndimage.filters.convolve.html\n",
    "from scipy.ndimage.filters import convolve"
   ]
  },
  {
   "cell_type": "code",
   "execution_count": 12,
   "metadata": {},
   "outputs": [],
   "source": [
    "def kernel2feature(img, weights):\n",
    "    return np.mean([np.mean(convolve(img[:, :, i], weights)) for i in range(3)])"
   ]
  },
  {
   "cell_type": "code",
   "execution_count": 13,
   "metadata": {},
   "outputs": [],
   "source": [
    "# use global variable for speed\n",
    "# use sigma of 1, 2, 4, 8\n",
    "\n",
    "KERNELS = [DOOG2_weight(i) for i in [1, 2, 4, 8]]"
   ]
  },
  {
   "cell_type": "code",
   "execution_count": 14,
   "metadata": {},
   "outputs": [],
   "source": [
    "def tile2doog_features(tile):\n",
    "    # to make scale similar\n",
    "    return [1000*kernel2feature(tile, kernel) for kernel in KERNELS]"
   ]
  },
  {
   "cell_type": "code",
   "execution_count": null,
   "metadata": {},
   "outputs": [],
   "source": []
  },
  {
   "cell_type": "markdown",
   "metadata": {},
   "source": [
    "# Orientation Filter"
   ]
  },
  {
   "cell_type": "code",
   "execution_count": 15,
   "metadata": {},
   "outputs": [],
   "source": [
    "from scipy.stats import norm"
   ]
  },
  {
   "cell_type": "code",
   "execution_count": 16,
   "metadata": {},
   "outputs": [],
   "source": [
    "def DOG(y, sigma1=0.5, sigma2=1.5):\n",
    "    fy1 = norm.pdf(y, scale=sigma1)\n",
    "    fy2 = norm.pdf(y, scale=sigma2)\n",
    "    dog = fy1 - fy2\n",
    "    return dog"
   ]
  },
  {
   "cell_type": "code",
   "execution_count": 17,
   "metadata": {},
   "outputs": [],
   "source": [
    "def calc_f1(x, y, sigma):\n",
    "    fx = norm.pdf(x, scale=sigma).reshape(1, len(x))\n",
    "    fy = DOG(y).reshape(len(y), 1)\n",
    "    # should access f1[y][x]\n",
    "    return fx*fy"
   ]
  },
  {
   "cell_type": "code",
   "execution_count": null,
   "metadata": {},
   "outputs": [],
   "source": []
  },
  {
   "cell_type": "code",
   "execution_count": 18,
   "metadata": {},
   "outputs": [],
   "source": [
    "from scipy.signal import hilbert"
   ]
  },
  {
   "cell_type": "code",
   "execution_count": 19,
   "metadata": {},
   "outputs": [],
   "source": [
    "def calc_f1f2(x, y, sigma):\n",
    "    f1 = calc_f1(x, y, sigma)\n",
    "    f2 = np.imag(hilbert(f1))\n",
    "    return f1, f2"
   ]
  },
  {
   "cell_type": "code",
   "execution_count": 20,
   "metadata": {},
   "outputs": [],
   "source": [
    "def rotation_indices(theta, shape):\n",
    "    \"\"\"return ([y1, y2, y3, ...], [x1, x2, x3, ...]). Use for numpy indices\"\"\"\n",
    "    y_lim, x_lim = shape\n",
    "    cos = math.cos(theta)\n",
    "    sin = math.sin(theta)\n",
    "    pairs = [(min(y_lim-1, max(0, int(x*sin + y*cos))),\n",
    "              min(x_lim-1, max(0, int(x*cos - y*sin))))\n",
    "            for y in range(y_lim)\n",
    "            for x in range(x_lim)]\n",
    "    return list(zip(*pairs))\n",
    "    "
   ]
  },
  {
   "cell_type": "code",
   "execution_count": null,
   "metadata": {},
   "outputs": [],
   "source": []
  },
  {
   "cell_type": "markdown",
   "metadata": {},
   "source": [
    "### calc weights"
   ]
  },
  {
   "cell_type": "code",
   "execution_count": 21,
   "metadata": {},
   "outputs": [],
   "source": [
    "def orientation_weights(theta, sigma, truncate=4):\n",
    "    # similar filter size logic as filters.gaussian of scipy.\n",
    "    lw = int(truncate * sigma + 0.5)\n",
    "    \n",
    "    x = np.arange(-lw, lw+1)\n",
    "    y = np.arange(-lw, lw+1)\n",
    "    f1, f2 = calc_f1f2(x, y, sigma)\n",
    "    inds = rotation_indices(theta, f1.shape)\n",
    "    f1r = f1[inds].reshape(f1.shape)\n",
    "    f2r = f2[inds].reshape(f2.shape)\n",
    "    return f1r, f2r"
   ]
  },
  {
   "cell_type": "code",
   "execution_count": null,
   "metadata": {},
   "outputs": [],
   "source": []
  },
  {
   "cell_type": "code",
   "execution_count": 22,
   "metadata": {},
   "outputs": [],
   "source": [
    "def orientation_energy(img, theta, sigma=1.5, truncate=4):\n",
    "    f1, f2 = orientation_weights(theta, sigma)\n",
    "    ex2 = convolve(img, f1)**2\n",
    "    ey2 = convolve(img, f2)**2\n",
    "    # make scale similar\n",
    "    return 1000*np.mean(ex2+ey2)"
   ]
  },
  {
   "cell_type": "code",
   "execution_count": 23,
   "metadata": {},
   "outputs": [],
   "source": [
    "def orientation_12_energy(gray_img):\n",
    "    return [orientation_energy(gray_img, i*(2*math.pi)/12) for i in range(12)]"
   ]
  },
  {
   "cell_type": "code",
   "execution_count": null,
   "metadata": {},
   "outputs": [],
   "source": []
  },
  {
   "cell_type": "markdown",
   "metadata": {},
   "source": [
    "# Shape features"
   ]
  },
  {
   "cell_type": "code",
   "execution_count": 24,
   "metadata": {},
   "outputs": [],
   "source": [
    "from skimage.filters import threshold_otsu"
   ]
  },
  {
   "cell_type": "code",
   "execution_count": 25,
   "metadata": {},
   "outputs": [],
   "source": [
    "def gray2binary(gray_img):\n",
    "    threds = threshold_otsu(gray_img)\n",
    "    return gray_img <= threds"
   ]
  },
  {
   "cell_type": "code",
   "execution_count": 26,
   "metadata": {},
   "outputs": [],
   "source": [
    "import skimage"
   ]
  },
  {
   "cell_type": "markdown",
   "metadata": {},
   "source": [
    "### perimeter, area"
   ]
  },
  {
   "cell_type": "code",
   "execution_count": 27,
   "metadata": {},
   "outputs": [],
   "source": [
    "# Paper says the ratio of the area to the perimeter squared, but inverse is much more common, which is compactness.\n",
    "# standard definition divide this value with 4pi, but it's not important for our case.\n",
    "\n",
    "def compactness(img_binary):\n",
    "    l = skimage.measure.perimeter(img_binary)\n",
    "    area = img_binary.sum()\n",
    "    if area == 0:\n",
    "        return 1, area\n",
    "    return (l**2)/area, area"
   ]
  },
  {
   "cell_type": "markdown",
   "metadata": {},
   "source": [
    "### Moment of inertia"
   ]
  },
  {
   "cell_type": "code",
   "execution_count": 28,
   "metadata": {},
   "outputs": [],
   "source": [
    "def calc_moment_of_inertia(gray_img):\n",
    "    # cr, cc = ``M[1, 0] / M[0, 0]``, ``M[0, 1] / M[0, 0]`\n",
    "    M1 = skimage.measure.moments(gray_img, order=1)\n",
    "    cr = M1[1, 0]/M1[0, 0]\n",
    "    cc = M1[0, 1]/M1[0, 0]\n",
    "    mu2 = skimage.measure.moments_central(gray_img, cr, cc, order=2)\n",
    "    # paper says shape feature is 4. So I use mu2_20 and mu2_02 as a separate features\n",
    "    # return (mu2[2, 0]+mu2[0, 2])/mu2[0, 0]\n",
    "    M0sq = mu2[0, 0]**2\n",
    "    return mu2[2, 0]/M0sq, mu2[0, 2]/M0sq"
   ]
  },
  {
   "cell_type": "code",
   "execution_count": 29,
   "metadata": {},
   "outputs": [],
   "source": [
    "from skimage.morphology import convex_hull_image\n",
    "def ratio_convex_hull(img_bainary, area):\n",
    "    hull_area = convex_hull_image(img_bainary).sum()\n",
    "    return area/hull_area"
   ]
  },
  {
   "cell_type": "markdown",
   "metadata": {},
   "source": [
    "### Combine all shape features"
   ]
  },
  {
   "cell_type": "code",
   "execution_count": 30,
   "metadata": {},
   "outputs": [],
   "source": [
    "def shape_features(img_gray, img_binary):\n",
    "    comp, area = compactness(img_binary)\n",
    "    mom = calc_moment_of_inertia(img_gray)\n",
    "    if(img_binary.any()):\n",
    "        ratio3 = ratio_convex_hull(img_binary, area)\n",
    "    else:\n",
    "        ratio3 = 1\n",
    "    return [comp, mom[0], mom[1], ratio3]"
   ]
  },
  {
   "cell_type": "markdown",
   "metadata": {},
   "source": [
    "## Combine all features"
   ]
  },
  {
   "cell_type": "code",
   "execution_count": 31,
   "metadata": {},
   "outputs": [],
   "source": [
    "def tile2features(tile, tile_gray, tile_binary):\n",
    "    rgb_moments12 = calc_4_rgb_moments(tile)\n",
    "    doog4 = tile2doog_features(tile)\n",
    "    orientation12 = orientation_12_energy(tile_gray)\n",
    "    shape4 = shape_features(tile_gray, tile_binary)\n",
    "    return [elem for arr in [rgb_moments12, doog4, orientation12, shape4]\n",
    "            for elem in arr]"
   ]
  },
  {
   "cell_type": "code",
   "execution_count": null,
   "metadata": {},
   "outputs": [],
   "source": []
  },
  {
   "cell_type": "code",
   "execution_count": null,
   "metadata": {},
   "outputs": [],
   "source": []
  },
  {
   "cell_type": "markdown",
   "metadata": {},
   "source": [
    "# img2features"
   ]
  },
  {
   "cell_type": "code",
   "execution_count": 32,
   "metadata": {},
   "outputs": [],
   "source": [
    "def get_tile_features(tile_row, tile_col, img, img_gray, img_binary):\n",
    "    tile, tile_gray, tile_binary = get_tile(tile_row, tile_col, img, img_gray, img_binary)\n",
    "    return tile2features(tile, tile_gray, tile_binary)"
   ]
  },
  {
   "cell_type": "code",
   "execution_count": 33,
   "metadata": {},
   "outputs": [],
   "source": [
    "def img2features(img):\n",
    "    img_gray = color.rgb2gray(img)\n",
    "    img_binary = gray2binary(img_gray)\n",
    "    featuresList = [get_tile_features(row, col, img, img_gray, img_binary) for row in range(5)\n",
    "                    for col in range(5)]\n",
    "    return [f for fs in featuresList\n",
    "               for f in fs]"
   ]
  },
  {
   "cell_type": "code",
   "execution_count": null,
   "metadata": {},
   "outputs": [],
   "source": []
  },
  {
   "cell_type": "code",
   "execution_count": null,
   "metadata": {},
   "outputs": [],
   "source": []
  },
  {
   "cell_type": "code",
   "execution_count": null,
   "metadata": {},
   "outputs": [],
   "source": []
  },
  {
   "cell_type": "markdown",
   "metadata": {},
   "source": [
    "# Create features and save to dataframe"
   ]
  },
  {
   "cell_type": "code",
   "execution_count": 82,
   "metadata": {},
   "outputs": [
    {
     "name": "stderr",
     "output_type": "stream",
     "text": [
      "Using TensorFlow backend.\n"
     ]
    }
   ],
   "source": [
    "from models.modelutils import dir2filedict"
   ]
  },
  {
   "cell_type": "code",
   "execution_count": 83,
   "metadata": {},
   "outputs": [],
   "source": [
    "fdict = dir2filedict(\"data\")"
   ]
  },
  {
   "cell_type": "code",
   "execution_count": 84,
   "metadata": {},
   "outputs": [],
   "source": [
    "files = sorted(f for fs in fdict.values() for f in fs)"
   ]
  },
  {
   "cell_type": "code",
   "execution_count": 85,
   "metadata": {},
   "outputs": [
    {
     "data": {
      "text/plain": [
       "11815"
      ]
     },
     "execution_count": 85,
     "metadata": {},
     "output_type": "execute_result"
    }
   ],
   "source": [
    "len(files)"
   ]
  },
  {
   "cell_type": "code",
   "execution_count": 86,
   "metadata": {},
   "outputs": [],
   "source": [
    "sfiles = files[0:100]"
   ]
  },
  {
   "cell_type": "code",
   "execution_count": null,
   "metadata": {},
   "outputs": [],
   "source": []
  },
  {
   "cell_type": "code",
   "execution_count": null,
   "metadata": {},
   "outputs": [],
   "source": []
  },
  {
   "cell_type": "markdown",
   "metadata": {},
   "source": [
    "### Below here is too slow."
   ]
  },
  {
   "cell_type": "code",
   "execution_count": null,
   "metadata": {},
   "outputs": [],
   "source": [
    "current = \"\""
   ]
  },
  {
   "cell_type": "code",
   "execution_count": 45,
   "metadata": {},
   "outputs": [],
   "source": [
    "def files2features(files):\n",
    "    global current\n",
    "    res = []\n",
    "    for f in files:\n",
    "        current = f\n",
    "        res.append(img2features(img_as_float(imread(f))))\n",
    "    return res"
   ]
  },
  {
   "cell_type": "code",
   "execution_count": 88,
   "metadata": {
    "scrolled": false
   },
   "outputs": [
    {
     "name": "stderr",
     "output_type": "stream",
     "text": [
      "/usr/local/lib/python3.5/dist-packages/ipykernel_launcher.py:12: DeprecationWarning: `imresize` is deprecated!\n",
      "`imresize` is deprecated in SciPy 1.0.0, and will be removed in 1.2.0.\n",
      "Use ``skimage.transform.resize`` instead.\n",
      "  if sys.path[0] == '':\n"
     ]
    },
    {
     "name": "stdout",
     "output_type": "stream",
     "text": [
      "CPU times: user 19.2 s, sys: 2.39 s, total: 21.5 s\n",
      "Wall time: 21.6 s\n"
     ]
    }
   ],
   "source": [
    "%%time\n",
    "flist = list(map(lambda file: img2features(im_normalized_read(file)), sfiles[0:2]))\n",
    "# flist = files2features(sfiles)"
   ]
  },
  {
   "cell_type": "code",
   "execution_count": 91,
   "metadata": {},
   "outputs": [
    {
     "data": {
      "text/plain": [
       "800"
      ]
     },
     "execution_count": 91,
     "metadata": {},
     "output_type": "execute_result"
    }
   ],
   "source": [
    "len(flist[0])"
   ]
  },
  {
   "cell_type": "code",
   "execution_count": null,
   "metadata": {},
   "outputs": [],
   "source": []
  },
  {
   "cell_type": "code",
   "execution_count": null,
   "metadata": {},
   "outputs": [],
   "source": [
    "len(flist)"
   ]
  },
  {
   "cell_type": "code",
   "execution_count": 48,
   "metadata": {},
   "outputs": [
    {
     "data": {
      "text/plain": [
       "'data/bay/0000.jpeg'"
      ]
     },
     "execution_count": 48,
     "metadata": {},
     "output_type": "execute_result"
    }
   ],
   "source": [
    "current"
   ]
  },
  {
   "cell_type": "code",
   "execution_count": null,
   "metadata": {},
   "outputs": [],
   "source": []
  },
  {
   "cell_type": "code",
   "execution_count": null,
   "metadata": {},
   "outputs": [],
   "source": []
  },
  {
   "cell_type": "code",
   "execution_count": null,
   "metadata": {},
   "outputs": [],
   "source": []
  },
  {
   "cell_type": "code",
   "execution_count": 73,
   "metadata": {},
   "outputs": [
    {
     "data": {
      "text/plain": [
       "['data/bay/0000.jpeg',\n",
       " 'data/bay/0001.jpeg',\n",
       " 'data/bay/0002.jpeg',\n",
       " 'data/bay/0003.jpeg',\n",
       " 'data/bay/0004.jpeg']"
      ]
     },
     "execution_count": 73,
     "metadata": {},
     "output_type": "execute_result"
    }
   ],
   "source": [
    "files[0:5]"
   ]
  },
  {
   "cell_type": "code",
   "execution_count": 74,
   "metadata": {},
   "outputs": [
    {
     "data": {
      "text/plain": [
       "['data/beach/0149.jpeg',\n",
       " 'data/beach/0150.jpeg',\n",
       " 'data/beach/0152.jpeg',\n",
       " 'data/beach/0153.jpeg',\n",
       " 'data/beach/0154.jpeg']"
      ]
     },
     "execution_count": 74,
     "metadata": {},
     "output_type": "execute_result"
    }
   ],
   "source": [
    "files[1000:1005]"
   ]
  },
  {
   "cell_type": "code",
   "execution_count": 75,
   "metadata": {},
   "outputs": [
    {
     "data": {
      "text/plain": [
       "['data/birds/0283.jpeg',\n",
       " 'data/birds/0285.jpeg',\n",
       " 'data/birds/0286.jpeg',\n",
       " 'data/birds/0287.jpeg',\n",
       " 'data/birds/0288.jpeg']"
      ]
     },
     "execution_count": 75,
     "metadata": {},
     "output_type": "execute_result"
    }
   ],
   "source": [
    "files[2000:2005]"
   ]
  },
  {
   "cell_type": "markdown",
   "metadata": {},
   "source": [
    "# Size estimation\n",
    "\n",
    "\n",
    "Using original size takes too much time due to large image size.\n",
    "I evaluate to scale down to 1024, 640, 224, and found that most of the feature is quite similar.\n",
    "\n",
    "The only exception of scale invariant traits is perimeter (compactness).\n",
    "Theoretically, perimeter must scale the same ratio to image scale ratio, but the perimeter decrease much drastic than image scale.\n",
    "This is because many bubles are merged while scale down image, that cause perimeter to reduce non-continuously.\n",
    "\n",
    "But from the purpose of our feature extraction (predict concept), I guess these difference is not essential.\n",
    "So use 224 for computational time.\n"
   ]
  },
  {
   "cell_type": "code",
   "execution_count": 35,
   "metadata": {},
   "outputs": [],
   "source": [
    "# target = \"data/bay/0001.jpeg\"\n",
    "target = 'data/bay/0000.jpeg'"
   ]
  },
  {
   "cell_type": "code",
   "execution_count": 36,
   "metadata": {},
   "outputs": [],
   "source": [
    "def load_three(file, size=10000):\n",
    "    img = im_normalized_read(file, size)\n",
    "    img_gray = color.rgb2gray(img)\n",
    "    img_binary = gray2binary(img_gray)\n",
    "    return img, img_gray, img_binary"
   ]
  },
  {
   "cell_type": "code",
   "execution_count": null,
   "metadata": {},
   "outputs": [],
   "source": []
  },
  {
   "cell_type": "code",
   "execution_count": null,
   "metadata": {},
   "outputs": [],
   "source": []
  },
  {
   "cell_type": "code",
   "execution_count": 41,
   "metadata": {},
   "outputs": [],
   "source": [
    "img, img_gray, img_binary = load_three(target)"
   ]
  },
  {
   "cell_type": "code",
   "execution_count": 42,
   "metadata": {},
   "outputs": [
    {
     "name": "stderr",
     "output_type": "stream",
     "text": [
      "/usr/local/lib/python3.5/dist-packages/ipykernel_launcher.py:11: DeprecationWarning: `imresize` is deprecated!\n",
      "`imresize` is deprecated in SciPy 1.0.0, and will be removed in 1.2.0.\n",
      "Use ``skimage.transform.resize`` instead.\n",
      "  # This is added back by InteractiveShellApp.init_path()\n"
     ]
    }
   ],
   "source": [
    "img2, img2_gray, img2_binary = load_three(target, 1024)"
   ]
  },
  {
   "cell_type": "code",
   "execution_count": 43,
   "metadata": {},
   "outputs": [
    {
     "name": "stderr",
     "output_type": "stream",
     "text": [
      "/usr/local/lib/python3.5/dist-packages/ipykernel_launcher.py:11: DeprecationWarning: `imresize` is deprecated!\n",
      "`imresize` is deprecated in SciPy 1.0.0, and will be removed in 1.2.0.\n",
      "Use ``skimage.transform.resize`` instead.\n",
      "  # This is added back by InteractiveShellApp.init_path()\n"
     ]
    }
   ],
   "source": [
    "img3, img3_gray, img3_binary = load_three(target, 640)"
   ]
  },
  {
   "cell_type": "code",
   "execution_count": 44,
   "metadata": {},
   "outputs": [
    {
     "name": "stderr",
     "output_type": "stream",
     "text": [
      "/usr/local/lib/python3.5/dist-packages/ipykernel_launcher.py:11: DeprecationWarning: `imresize` is deprecated!\n",
      "`imresize` is deprecated in SciPy 1.0.0, and will be removed in 1.2.0.\n",
      "Use ``skimage.transform.resize`` instead.\n",
      "  # This is added back by InteractiveShellApp.init_path()\n"
     ]
    }
   ],
   "source": [
    "img4, img4_gray, img4_binary = load_three(target, 224)"
   ]
  },
  {
   "cell_type": "code",
   "execution_count": null,
   "metadata": {},
   "outputs": [],
   "source": []
  },
  {
   "cell_type": "code",
   "execution_count": null,
   "metadata": {},
   "outputs": [],
   "source": []
  },
  {
   "cell_type": "code",
   "execution_count": 54,
   "metadata": {},
   "outputs": [
    {
     "name": "stdout",
     "output_type": "stream",
     "text": [
      "CPU times: user 11.5 s, sys: 228 ms, total: 11.7 s\n",
      "Wall time: 11.9 s\n"
     ]
    }
   ],
   "source": [
    "%%time\n",
    "org = get_tile_features(3, 3, img, img_gray, img_binary)"
   ]
  },
  {
   "cell_type": "code",
   "execution_count": 55,
   "metadata": {},
   "outputs": [
    {
     "name": "stdout",
     "output_type": "stream",
     "text": [
      "CPU times: user 1.69 s, sys: 200 ms, total: 1.89 s\n",
      "Wall time: 1.9 s\n"
     ]
    }
   ],
   "source": [
    "%%time\n",
    "f2 = get_tile_features(3, 3, img2, img2_gray, img2_binary)"
   ]
  },
  {
   "cell_type": "code",
   "execution_count": 56,
   "metadata": {},
   "outputs": [
    {
     "name": "stdout",
     "output_type": "stream",
     "text": [
      "CPU times: user 1.22 s, sys: 140 ms, total: 1.36 s\n",
      "Wall time: 1.37 s\n"
     ]
    }
   ],
   "source": [
    "%%time\n",
    "f3 = get_tile_features(3, 3, img3, img3_gray, img3_binary)"
   ]
  },
  {
   "cell_type": "code",
   "execution_count": 57,
   "metadata": {},
   "outputs": [
    {
     "name": "stdout",
     "output_type": "stream",
     "text": [
      "CPU times: user 396 ms, sys: 56 ms, total: 452 ms\n",
      "Wall time: 458 ms\n"
     ]
    }
   ],
   "source": [
    "%%time\n",
    "f4 = get_tile_features(3, 3, img4, img4_gray, img4_binary)"
   ]
  },
  {
   "cell_type": "code",
   "execution_count": null,
   "metadata": {},
   "outputs": [],
   "source": []
  },
  {
   "cell_type": "code",
   "execution_count": 79,
   "metadata": {},
   "outputs": [
    {
     "data": {
      "text/plain": [
       "array([  2.84158281e-03,   5.40832774e-03,   6.74004865e-03,\n",
       "         4.89992021e-05,   1.35740563e-02,  -2.23009775e-02,\n",
       "        -1.97152761e-03,   1.14532318e-02,  -1.99309068e-02,\n",
       "         4.96743236e-04,   1.23676295e-02,  -2.73996822e-02,\n",
       "         7.03990450e-05,   2.55697027e-04,   4.22333031e-04,\n",
       "         5.26492168e-04,   1.29258513e+02,   1.10846336e+03,\n",
       "         8.57062861e+02,   2.18777501e+00,   8.70882524e+00,\n",
       "         2.50402808e+01,   3.83836342e-03,   2.44782002e-02,\n",
       "         1.48670882e-01,   1.72181216e-01,   1.92997536e+03,\n",
       "         5.38305047e+02,   3.06119728e+03,   1.64125071e-03,\n",
       "         6.61167269e-04,  -3.34041820e-02])"
      ]
     },
     "execution_count": 79,
     "metadata": {},
     "output_type": "execute_result"
    }
   ],
   "source": [
    "np.array(org)-np.array(small)"
   ]
  },
  {
   "cell_type": "code",
   "execution_count": 59,
   "metadata": {},
   "outputs": [],
   "source": [
    "import pandas as pd"
   ]
  },
  {
   "cell_type": "code",
   "execution_count": 61,
   "metadata": {},
   "outputs": [
    {
     "data": {
      "text/html": [
       "<div>\n",
       "<style scoped>\n",
       "    .dataframe tbody tr th:only-of-type {\n",
       "        vertical-align: middle;\n",
       "    }\n",
       "\n",
       "    .dataframe tbody tr th {\n",
       "        vertical-align: top;\n",
       "    }\n",
       "\n",
       "    .dataframe thead th {\n",
       "        text-align: right;\n",
       "    }\n",
       "</style>\n",
       "<table border=\"1\" class=\"dataframe\">\n",
       "  <thead>\n",
       "    <tr style=\"text-align: right;\">\n",
       "      <th></th>\n",
       "      <th>f2</th>\n",
       "      <th>f3</th>\n",
       "      <th>f4</th>\n",
       "      <th>org</th>\n",
       "    </tr>\n",
       "  </thead>\n",
       "  <tbody>\n",
       "    <tr>\n",
       "      <th>0</th>\n",
       "      <td>0.344816</td>\n",
       "      <td>0.338217</td>\n",
       "      <td>0.281489</td>\n",
       "      <td>0.347657</td>\n",
       "    </tr>\n",
       "    <tr>\n",
       "      <th>1</th>\n",
       "      <td>0.257947</td>\n",
       "      <td>0.247008</td>\n",
       "      <td>0.209387</td>\n",
       "      <td>0.263355</td>\n",
       "    </tr>\n",
       "    <tr>\n",
       "      <th>2</th>\n",
       "      <td>0.230126</td>\n",
       "      <td>0.219276</td>\n",
       "      <td>0.208969</td>\n",
       "      <td>0.236866</td>\n",
       "    </tr>\n",
       "    <tr>\n",
       "      <th>3</th>\n",
       "      <td>0.657734</td>\n",
       "      <td>0.657691</td>\n",
       "      <td>0.654379</td>\n",
       "      <td>0.657783</td>\n",
       "    </tr>\n",
       "    <tr>\n",
       "      <th>4</th>\n",
       "      <td>0.112543</td>\n",
       "      <td>0.101710</td>\n",
       "      <td>0.072685</td>\n",
       "      <td>0.126117</td>\n",
       "    </tr>\n",
       "    <tr>\n",
       "      <th>5</th>\n",
       "      <td>-0.107601</td>\n",
       "      <td>-0.094233</td>\n",
       "      <td>-0.064984</td>\n",
       "      <td>-0.129902</td>\n",
       "    </tr>\n",
       "    <tr>\n",
       "      <th>6</th>\n",
       "      <td>0.644449</td>\n",
       "      <td>0.644653</td>\n",
       "      <td>0.667825</td>\n",
       "      <td>0.642477</td>\n",
       "    </tr>\n",
       "    <tr>\n",
       "      <th>7</th>\n",
       "      <td>0.186532</td>\n",
       "      <td>0.181078</td>\n",
       "      <td>0.148367</td>\n",
       "      <td>0.197986</td>\n",
       "    </tr>\n",
       "    <tr>\n",
       "      <th>8</th>\n",
       "      <td>-0.191789</td>\n",
       "      <td>-0.185444</td>\n",
       "      <td>-0.168567</td>\n",
       "      <td>-0.211720</td>\n",
       "    </tr>\n",
       "    <tr>\n",
       "      <th>9</th>\n",
       "      <td>0.590281</td>\n",
       "      <td>0.588862</td>\n",
       "      <td>0.576110</td>\n",
       "      <td>0.590778</td>\n",
       "    </tr>\n",
       "    <tr>\n",
       "      <th>10</th>\n",
       "      <td>0.117867</td>\n",
       "      <td>0.105874</td>\n",
       "      <td>0.075383</td>\n",
       "      <td>0.130235</td>\n",
       "    </tr>\n",
       "    <tr>\n",
       "      <th>11</th>\n",
       "      <td>0.086816</td>\n",
       "      <td>0.085370</td>\n",
       "      <td>0.060306</td>\n",
       "      <td>0.059417</td>\n",
       "    </tr>\n",
       "    <tr>\n",
       "      <th>12</th>\n",
       "      <td>0.126159</td>\n",
       "      <td>0.125666</td>\n",
       "      <td>0.122842</td>\n",
       "      <td>0.126230</td>\n",
       "    </tr>\n",
       "    <tr>\n",
       "      <th>13</th>\n",
       "      <td>0.458224</td>\n",
       "      <td>0.456433</td>\n",
       "      <td>0.446176</td>\n",
       "      <td>0.458479</td>\n",
       "    </tr>\n",
       "    <tr>\n",
       "      <th>14</th>\n",
       "      <td>0.756845</td>\n",
       "      <td>0.753887</td>\n",
       "      <td>0.736946</td>\n",
       "      <td>0.757267</td>\n",
       "    </tr>\n",
       "    <tr>\n",
       "      <th>15</th>\n",
       "      <td>0.943504</td>\n",
       "      <td>0.939816</td>\n",
       "      <td>0.918697</td>\n",
       "      <td>0.944031</td>\n",
       "    </tr>\n",
       "    <tr>\n",
       "      <th>16</th>\n",
       "      <td>0.404026</td>\n",
       "      <td>0.438630</td>\n",
       "      <td>0.401611</td>\n",
       "      <td>0.350559</td>\n",
       "    </tr>\n",
       "    <tr>\n",
       "      <th>17</th>\n",
       "      <td>3.080510</td>\n",
       "      <td>3.130976</td>\n",
       "      <td>2.957143</td>\n",
       "      <td>2.979452</td>\n",
       "    </tr>\n",
       "    <tr>\n",
       "      <th>18</th>\n",
       "      <td>2.286338</td>\n",
       "      <td>2.279323</td>\n",
       "      <td>2.118163</td>\n",
       "      <td>2.297051</td>\n",
       "    </tr>\n",
       "    <tr>\n",
       "      <th>19</th>\n",
       "      <td>0.004098</td>\n",
       "      <td>0.003854</td>\n",
       "      <td>0.002149</td>\n",
       "      <td>0.005742</td>\n",
       "    </tr>\n",
       "    <tr>\n",
       "      <th>20</th>\n",
       "      <td>0.018745</td>\n",
       "      <td>0.017581</td>\n",
       "      <td>0.014449</td>\n",
       "      <td>0.023028</td>\n",
       "    </tr>\n",
       "    <tr>\n",
       "      <th>21</th>\n",
       "      <td>0.066917</td>\n",
       "      <td>0.066387</td>\n",
       "      <td>0.060281</td>\n",
       "      <td>0.067120</td>\n",
       "    </tr>\n",
       "    <tr>\n",
       "      <th>22</th>\n",
       "      <td>0.000010</td>\n",
       "      <td>0.000010</td>\n",
       "      <td>0.000010</td>\n",
       "      <td>0.000010</td>\n",
       "    </tr>\n",
       "    <tr>\n",
       "      <th>23</th>\n",
       "      <td>0.000065</td>\n",
       "      <td>0.000064</td>\n",
       "      <td>0.000063</td>\n",
       "      <td>0.000066</td>\n",
       "    </tr>\n",
       "    <tr>\n",
       "      <th>24</th>\n",
       "      <td>0.000392</td>\n",
       "      <td>0.000387</td>\n",
       "      <td>0.000372</td>\n",
       "      <td>0.000398</td>\n",
       "    </tr>\n",
       "    <tr>\n",
       "      <th>25</th>\n",
       "      <td>0.000457</td>\n",
       "      <td>0.000451</td>\n",
       "      <td>0.000427</td>\n",
       "      <td>0.000461</td>\n",
       "    </tr>\n",
       "    <tr>\n",
       "      <th>26</th>\n",
       "      <td>5.117502</td>\n",
       "      <td>5.067181</td>\n",
       "      <td>5.020324</td>\n",
       "      <td>5.170451</td>\n",
       "    </tr>\n",
       "    <tr>\n",
       "      <th>27</th>\n",
       "      <td>1.198897</td>\n",
       "      <td>1.105533</td>\n",
       "      <td>1.007081</td>\n",
       "      <td>1.426207</td>\n",
       "    </tr>\n",
       "    <tr>\n",
       "      <th>28</th>\n",
       "      <td>304.789431</td>\n",
       "      <td>131.595179</td>\n",
       "      <td>33.283509</td>\n",
       "      <td>3365.986707</td>\n",
       "    </tr>\n",
       "    <tr>\n",
       "      <th>29</th>\n",
       "      <td>0.277203</td>\n",
       "      <td>0.287807</td>\n",
       "      <td>0.311530</td>\n",
       "      <td>0.278844</td>\n",
       "    </tr>\n",
       "    <tr>\n",
       "      <th>30</th>\n",
       "      <td>0.175388</td>\n",
       "      <td>0.181575</td>\n",
       "      <td>0.195771</td>\n",
       "      <td>0.176049</td>\n",
       "    </tr>\n",
       "    <tr>\n",
       "      <th>31</th>\n",
       "      <td>0.873985</td>\n",
       "      <td>0.898705</td>\n",
       "      <td>0.957581</td>\n",
       "      <td>0.840581</td>\n",
       "    </tr>\n",
       "  </tbody>\n",
       "</table>\n",
       "</div>"
      ],
      "text/plain": [
       "            f2          f3         f4          org\n",
       "0     0.344816    0.338217   0.281489     0.347657\n",
       "1     0.257947    0.247008   0.209387     0.263355\n",
       "2     0.230126    0.219276   0.208969     0.236866\n",
       "3     0.657734    0.657691   0.654379     0.657783\n",
       "4     0.112543    0.101710   0.072685     0.126117\n",
       "5    -0.107601   -0.094233  -0.064984    -0.129902\n",
       "6     0.644449    0.644653   0.667825     0.642477\n",
       "7     0.186532    0.181078   0.148367     0.197986\n",
       "8    -0.191789   -0.185444  -0.168567    -0.211720\n",
       "9     0.590281    0.588862   0.576110     0.590778\n",
       "10    0.117867    0.105874   0.075383     0.130235\n",
       "11    0.086816    0.085370   0.060306     0.059417\n",
       "12    0.126159    0.125666   0.122842     0.126230\n",
       "13    0.458224    0.456433   0.446176     0.458479\n",
       "14    0.756845    0.753887   0.736946     0.757267\n",
       "15    0.943504    0.939816   0.918697     0.944031\n",
       "16    0.404026    0.438630   0.401611     0.350559\n",
       "17    3.080510    3.130976   2.957143     2.979452\n",
       "18    2.286338    2.279323   2.118163     2.297051\n",
       "19    0.004098    0.003854   0.002149     0.005742\n",
       "20    0.018745    0.017581   0.014449     0.023028\n",
       "21    0.066917    0.066387   0.060281     0.067120\n",
       "22    0.000010    0.000010   0.000010     0.000010\n",
       "23    0.000065    0.000064   0.000063     0.000066\n",
       "24    0.000392    0.000387   0.000372     0.000398\n",
       "25    0.000457    0.000451   0.000427     0.000461\n",
       "26    5.117502    5.067181   5.020324     5.170451\n",
       "27    1.198897    1.105533   1.007081     1.426207\n",
       "28  304.789431  131.595179  33.283509  3365.986707\n",
       "29    0.277203    0.287807   0.311530     0.278844\n",
       "30    0.175388    0.181575   0.195771     0.176049\n",
       "31    0.873985    0.898705   0.957581     0.840581"
      ]
     },
     "execution_count": 61,
     "metadata": {},
     "output_type": "execute_result"
    }
   ],
   "source": [
    "pd.DataFrame({\"f2\":f2, \"f3\":f3, \"f4\":f4, \"org\":org})"
   ]
  },
  {
   "cell_type": "code",
   "execution_count": null,
   "metadata": {},
   "outputs": [],
   "source": []
  },
  {
   "cell_type": "markdown",
   "metadata": {},
   "source": [
    "### Why perimeter (feature 28) is so different?"
   ]
  },
  {
   "cell_type": "code",
   "execution_count": 62,
   "metadata": {},
   "outputs": [
    {
     "data": {
      "text/plain": [
       "2037.965691583343"
      ]
     },
     "execution_count": 62,
     "metadata": {},
     "output_type": "execute_result"
    }
   ],
   "source": [
    "skimage.measure.perimeter(img4_binary)"
   ]
  },
  {
   "cell_type": "code",
   "execution_count": 63,
   "metadata": {},
   "outputs": [
    {
     "data": {
      "text/plain": [
       "194.92025197814365"
      ]
     },
     "execution_count": 63,
     "metadata": {},
     "output_type": "execute_result"
    }
   ],
   "source": [
    "skimage.measure.perimeter(img_binary)/skimage.measure.perimeter(img4_binary)"
   ]
  },
  {
   "cell_type": "code",
   "execution_count": 67,
   "metadata": {},
   "outputs": [
    {
     "data": {
      "text/plain": [
       "31.837669734658764"
      ]
     },
     "execution_count": 67,
     "metadata": {},
     "output_type": "execute_result"
    }
   ],
   "source": [
    "skimage.measure.perimeter(img_binary)/skimage.measure.perimeter(img3_binary)"
   ]
  },
  {
   "cell_type": "code",
   "execution_count": 68,
   "metadata": {},
   "outputs": [
    {
     "data": {
      "text/plain": [
       "12.247876436358119"
      ]
     },
     "execution_count": 68,
     "metadata": {},
     "output_type": "execute_result"
    }
   ],
   "source": [
    "skimage.measure.perimeter(img_binary)/skimage.measure.perimeter(img2_binary)"
   ]
  },
  {
   "cell_type": "code",
   "execution_count": 69,
   "metadata": {},
   "outputs": [
    {
     "data": {
      "text/plain": [
       "(17.285714285714285, 6.05, 3.78125)"
      ]
     },
     "execution_count": 69,
     "metadata": {},
     "output_type": "execute_result"
    }
   ],
   "source": [
    "max(img.shape)/224, max(img.shape)/640, max(img.shape)/1024"
   ]
  },
  {
   "cell_type": "code",
   "execution_count": 70,
   "metadata": {},
   "outputs": [
    {
     "data": {
      "text/plain": [
       "(298.5984, 36.6025, 14.2978515625)"
      ]
     },
     "execution_count": 70,
     "metadata": {},
     "output_type": "execute_result"
    }
   ],
   "source": [
    "17.28**2, 6.05**2, 3.78125**2"
   ]
  },
  {
   "cell_type": "code",
   "execution_count": 79,
   "metadata": {},
   "outputs": [
    {
     "data": {
      "text/plain": [
       "6.1223152825770972"
      ]
     },
     "execution_count": 79,
     "metadata": {},
     "output_type": "execute_result"
    }
   ],
   "source": [
    "skimage.measure.perimeter(img3_binary)/skimage.measure.perimeter(img4_binary)"
   ]
  },
  {
   "cell_type": "code",
   "execution_count": 80,
   "metadata": {},
   "outputs": [
    {
     "data": {
      "text/plain": [
       "2.857142857142857"
      ]
     },
     "execution_count": 80,
     "metadata": {},
     "output_type": "execute_result"
    }
   ],
   "source": [
    "640/224"
   ]
  },
  {
   "cell_type": "code",
   "execution_count": null,
   "metadata": {},
   "outputs": [],
   "source": []
  },
  {
   "cell_type": "code",
   "execution_count": null,
   "metadata": {},
   "outputs": [],
   "source": []
  },
  {
   "cell_type": "code",
   "execution_count": 71,
   "metadata": {},
   "outputs": [
    {
     "name": "stdout",
     "output_type": "stream",
     "text": [
      "CPU times: user 4min 45s, sys: 4.14 s, total: 4min 49s\n",
      "Wall time: 4min 50s\n"
     ]
    },
    {
     "data": {
      "text/plain": [
       "[0.81944670877639414,\n",
       " 0.056294294654326012,\n",
       " 0.03630273951454282,\n",
       " 0.96319416935012003,\n",
       " 0.026315287370640636,\n",
       " -0.02091375815531246,\n",
       " 0.99897283447215024,\n",
       " 0.0022668845130980652,\n",
       " -0.0029097831647827634,\n",
       " 0.9352274757335024,\n",
       " 0.030212558298285858,\n",
       " -0.017994633598105315,\n",
       " 0.21307002943196363,\n",
       " 0.77389363976045233,\n",
       " 1.278234831351694,\n",
       " 1.5934832891383994,\n",
       " 0.18167539203745636,\n",
       " 6.5962162333412451,\n",
       " 5.3121150452457027,\n",
       " 0.0038510991554546407,\n",
       " 0.035242919944245582,\n",
       " 0.16189115058835027,\n",
       " 2.4996231040496457e-05,\n",
       " 0.00015907192708681256,\n",
       " 0.00096574552457223564,\n",
       " 0.0011182147223108463,\n",
       " 12.40423586649972,\n",
       " 2.1045178702363216,\n",
       " 1,\n",
       " 0.17380893778186202,\n",
       " 0.10046360561847434,\n",
       " 1,\n",
       " 0.80883002408310245,\n",
       " 0.055726573058388254,\n",
       " 0.0401948569416258,\n",
       " 0.95997017146127994,\n",
       " 0.026442378500790363,\n",
       " -0.017802429699052092,\n",
       " 0.99922288909977008,\n",
       " 0.0019953871368174106,\n",
       " -0.002734311341335585,\n",
       " 0.93068301108515206,\n",
       " 0.030332970826031418,\n",
       " -0.012405933470702632,\n",
       " 0.21202899505499775,\n",
       " 0.77011248909718799,\n",
       " 1.2719895306642683,\n",
       " 1.585697722639231,\n",
       " 0.17992391617000564,\n",
       " 6.5324660790930604,\n",
       " 5.2603399691617696,\n",
       " 0.0038138583000068521,\n",
       " 0.034922064962266602,\n",
       " 0.16037660593081313,\n",
       " 2.4754374767790857e-05,\n",
       " 0.00015749769518280419,\n",
       " 0.00095632826142943235,\n",
       " 0.0011073979584676789,\n",
       " 12.279316813447608,\n",
       " 2.0837779375793466,\n",
       " 1,\n",
       " 0.17389756297370945,\n",
       " 0.099940475165963286,\n",
       " 1,\n",
       " 0.78609399902149579,\n",
       " 0.050684383961265976,\n",
       " 0.03565815093678977,\n",
       " 0.93981727476939536,\n",
       " 0.030678105320663708,\n",
       " -0.017793471217337528,\n",
       " 0.9999097103748269,\n",
       " 0.00075407405800417685,\n",
       " -0.0015705102906557185,\n",
       " 0.91148374328011816,\n",
       " 0.032517619410784279,\n",
       " -0.010122776879087312,\n",
       " 0.20879633814426771,\n",
       " 0.75837112580262478,\n",
       " 1.2525964012216104,\n",
       " 1.561521705108728,\n",
       " 0.17265635192045317,\n",
       " 6.26785600533041,\n",
       " 5.0473345837211046,\n",
       " 0.0036591026569437767,\n",
       " 0.033529469587783009,\n",
       " 0.15392430489332443,\n",
       " 2.3748563123252357e-05,\n",
       " 0.00015106285845856144,\n",
       " 0.00091732432269267701,\n",
       " 0.0010623744380435464,\n",
       " 11.776170971169952,\n",
       " 1.9987969769347569,\n",
       " 1,\n",
       " 0.17653967860757341,\n",
       " 0.10109528797313204,\n",
       " 1,\n",
       " 0.75961313081696102,\n",
       " 0.057843252141995163,\n",
       " 0.06347704218366367,\n",
       " 0.91247548114853183,\n",
       " 0.033263401462159073,\n",
       " 0.020577564482947206,\n",
       " 0.99998744102711268,\n",
       " 0.0002649333962988341,\n",
       " -0.0008469145055073783,\n",
       " 0.88630184401031875,\n",
       " 0.035575595718026855,\n",
       " 0.028611006352789334,\n",
       " 0.20467950696277998,\n",
       " 0.74341834489856184,\n",
       " 1.2278989952795449,\n",
       " 1.5307332281493164,\n",
       " 0.16340540772265441,\n",
       " 5.928251845362345,\n",
       " 4.7742754467936344,\n",
       " 0.0034616406141893341,\n",
       " 0.031687108533740897,\n",
       " 0.14551631983008492,\n",
       " 2.2461835145571633e-05,\n",
       " 0.0001429238329648243,\n",
       " 0.00086772793645005031,\n",
       " 0.0010048191674781051,\n",
       " 11.144484899150791,\n",
       " 1.8910784550565616,\n",
       " 1,\n",
       " 0.18295423081328221,\n",
       " 0.10463445447554022,\n",
       " 1,\n",
       " 0.7585888311606509,\n",
       " 0.13198566969687553,\n",
       " 0.10270863837795616,\n",
       " 0.86798034109935629,\n",
       " 0.10132742365503247,\n",
       " -0.10985719536498874,\n",
       " 0.95889630103036383,\n",
       " 0.12010489952539471,\n",
       " -0.16579530955522467,\n",
       " 0.85128968594840682,\n",
       " 0.104862768471833,\n",
       " -0.10310503292265316,\n",
       " 0.19804518578342847,\n",
       " 0.71932176510968038,\n",
       " 1.1880988392630754,\n",
       " 1.4811172405687774,\n",
       " 0.16668005202369429,\n",
       " 5.5477183718766696,\n",
       " 4.4493462490806159,\n",
       " 0.0032504666830211644,\n",
       " 0.029608721669130211,\n",
       " 0.13592223150642146,\n",
       " 2.0996298973355222e-05,\n",
       " 0.00013360478251008817,\n",
       " 0.00081218281490409998,\n",
       " 0.00093990872439628681,\n",
       " 10.408911135528815,\n",
       " 1.773058826957594,\n",
       " 50.400898198522249,\n",
       " 0.18158567858117297,\n",
       " 0.10003051324224396,\n",
       " 0.94902313565381868,\n",
       " 0.80527664658991616,\n",
       " 0.16620922083888642,\n",
       " -0.11667411432819885,\n",
       " 0.88578441642737149,\n",
       " 0.12982505707147515,\n",
       " -0.12613205334876562,\n",
       " 0.93607324346038456,\n",
       " 0.13995106832470036,\n",
       " -0.18681777862748686,\n",
       " 0.87230233976599225,\n",
       " 0.13522696847582744,\n",
       " -0.12808656923770775,\n",
       " 0.20123699472272005,\n",
       " 0.73091476410652345,\n",
       " 1.2072469164101394,\n",
       " 1.5049877690543787,\n",
       " 0.19015657445952519,\n",
       " 5.8680076676341377,\n",
       " 4.6902446627544698,\n",
       " 0.0034622668502940959,\n",
       " 0.030954398909138734,\n",
       " 0.14296377383602921,\n",
       " 2.2238336728739665e-05,\n",
       " 0.0001419825964587225,\n",
       " 0.00086305922373925846,\n",
       " 0.00099615719725923662,\n",
       " 11.071033120646527,\n",
       " 1.8888583890833488,\n",
       " 96.365296859794398,\n",
       " 0.19900548497148463,\n",
       " 0.11811440501635304,\n",
       " 0.62114373210838159,\n",
       " 0.71287027696056438,\n",
       " 0.1895298519429455,\n",
       " 0.12116578742816377,\n",
       " 0.76686628978010629,\n",
       " 0.18322465543566183,\n",
       " 0.11977180757856008,\n",
       " 0.71301432368463835,\n",
       " 0.23301258401109223,\n",
       " 0.15623389550028352,\n",
       " 0.75150941030047069,\n",
       " 0.18769975986754234,\n",
       " 0.12309770369002217,\n",
       " 0.16796347193851208,\n",
       " 0.61006169188524895,\n",
       " 1.007634723658581,\n",
       " 1.2561456270188567,\n",
       " 0.24545191551353329,\n",
       " 4.5927716756915915,\n",
       " 3.6034628142780836,\n",
       " 0.0028524060633400572,\n",
       " 0.023992246896695723,\n",
       " 0.10972025716412211,\n",
       " 1.7099249773822329e-05,\n",
       " 0.00010929076904501821,\n",
       " 0.00066507987070571234,\n",
       " 0.00076689730512814367,\n",
       " 8.5235535530946613,\n",
       " 1.5042803772004125,\n",
       " 344.83828175385509,\n",
       " 0.23510764357723479,\n",
       " 0.1434737647664408,\n",
       " 0.93923419773095629,\n",
       " 0.59940782095364842,\n",
       " 0.10825196228234771,\n",
       " 0.1120503648600064,\n",
       " 0.6533773464690017,\n",
       " 0.11162680263973156,\n",
       " 0.13481409116728085,\n",
       " 0.56943809159951442,\n",
       " 0.14441176614919035,\n",
       " 0.1791720721130949,\n",
       " 0.63585680202089934,\n",
       " 0.11240840505398006,\n",
       " 0.1336686831909011,\n",
       " 0.1395812659654703,\n",
       " 0.5069744170420194,\n",
       " 0.837366176917961,\n",
       " 1.0438840947540866,\n",
       " 0.32759953843825312,\n",
       " 3.3031374745709949,\n",
       " 2.5056456654721524,\n",
       " 0.0023674559076990545,\n",
       " 0.016875072380493975,\n",
       " 0.075658425171416771,\n",
       " 1.1854565620376952e-05,\n",
       " 7.6034662492925005e-05,\n",
       " 0.00046269397534010509,\n",
       " 0.00053247637560781551,\n",
       " 5.9446478823726707,\n",
       " 1.1301161943097044,\n",
       " 475.77902601928076,\n",
       " 0.28075668288749706,\n",
       " 0.171927901625471,\n",
       " 0.95643055529313958,\n",
       " 0.60843482724467679,\n",
       " 0.11724393094984341,\n",
       " 0.09006729172475897,\n",
       " 0.66590150830916917,\n",
       " 0.12903276627154714,\n",
       " 0.12806947173534008,\n",
       " 0.59388240106434365,\n",
       " 0.17577324162606034,\n",
       " 0.20076813522632758,\n",
       " 0.64849726095061266,\n",
       " 0.12907308082322397,\n",
       " 0.12755872474351973,\n",
       " 0.14310449340741987,\n",
       " 0.51977116427119652,\n",
       " 0.85850247678648339,\n",
       " 1.070233197288786,\n",
       " 0.27470293582667538,\n",
       " 3.4255409811379933,\n",
       " 2.6292634944396083,\n",
       " 0.0023843039924558531,\n",
       " 0.017631107111074282,\n",
       " 0.0795305608475117,\n",
       " 1.2438574088738482e-05,\n",
       " 7.9709741953653564e-05,\n",
       " 0.00048486150679589313,\n",
       " 0.00055841238040919058,\n",
       " 6.2300600832454665,\n",
       " 1.1477383305172781,\n",
       " 414.71731476484888,\n",
       " 0.2790527840712469,\n",
       " 0.1775987000291161,\n",
       " 0.945898291717718,\n",
       " 0.59125856362518436,\n",
       " 0.079008738531164968,\n",
       " 0.07310818156044491,\n",
       " 0.63842322877890578,\n",
       " 0.083011578688172619,\n",
       " 0.10085717093378067,\n",
       " 0.55672671890182135,\n",
       " 0.12190762610032176,\n",
       " 0.16230832863673234,\n",
       " 0.62251041907160243,\n",
       " 0.083893074957627239,\n",
       " 0.10028276975667855,\n",
       " 0.13683787664601368,\n",
       " 0.4970101271258166,\n",
       " 0.82090822741919633,\n",
       " 1.0233671546297114,\n",
       " 0.20144003875239652,\n",
       " 3.0593509144447135,\n",
       " 2.3847382202923839,\n",
       " 0.002010628583146901,\n",
       " 0.016081945126566886,\n",
       " 0.072458688475988686,\n",
       " 1.123157405586693e-05,\n",
       " 7.1664316409288673e-05,\n",
       " 0.00043581856560364772,\n",
       " 0.00050372695866360913,\n",
       " 5.5956770029576868,\n",
       " 1.0099442682739246,\n",
       " 188.44391467937854,\n",
       " 0.26879620997407389,\n",
       " 0.16097972536018093,\n",
       " 0.96199479809896959,\n",
       " 0.41238941697218023,\n",
       " 0.11191064214045614,\n",
       " -0.055880998830376546,\n",
       " 0.60892074407806285,\n",
       " 0.11480098033923228,\n",
       " -0.1254692719549683,\n",
       " 0.7728347949278187,\n",
       " 0.14774058915249355,\n",
       " -0.15566500787515392,\n",
       " 0.57897604013433024,\n",
       " 0.11102555256710518,\n",
       " -0.11571475498013643,\n",
       " 0.13743048391082316,\n",
       " 0.4991625414955751,\n",
       " 0.82446335551124006,\n",
       " 1.027799076735388,\n",
       " 0.20497408780153034,\n",
       " 2.7356717605593053,\n",
       " 2.1088333335404559,\n",
       " 0.0017445654446537266,\n",
       " 0.014329573698050817,\n",
       " 0.064093464080792056,\n",
       " 9.8831060584217293e-06,\n",
       " 6.290992751240407e-05,\n",
       " 0.00038281680515901906,\n",
       " 0.00044316052250527104,\n",
       " 4.90876729571107,\n",
       " 0.89823933508795017,\n",
       " 591.62246634638302,\n",
       " 0.25643536634524378,\n",
       " 0.14010922507745538,\n",
       " 0.89300559955607128,\n",
       " 0.29768194029479939,\n",
       " 0.1132112961534084,\n",
       " 0.1218017052402115,\n",
       " 0.47624737303259862,\n",
       " 0.088707435301685622,\n",
       " -0.0833413729981473,\n",
       " 0.59559492069751963,\n",
       " 0.1322769325509757,\n",
       " -0.09260939745780014,\n",
       " 0.44690717676245734,\n",
       " 0.085110746056848985,\n",
       " -0.06636930823494346,\n",
       " 0.10490477794590246,\n",
       " 0.38102562171348203,\n",
       " 0.62933741316493041,\n",
       " 0.78454961992200412,\n",
       " 0.30264902097977603,\n",
       " 1.7782493812117239,\n",
       " 1.2675460212613665,\n",
       " 0.0013728208603015434,\n",
       " 0.0089078004836341037,\n",
       " 0.037939775882390767,\n",
       " 5.8456745664236512e-06,\n",
       " 3.7308333731674189e-05,\n",
       " 0.00022697412356509984,\n",
       " 0.00026289708296845199,\n",
       " 2.9256255606082182,\n",
       " 0.62378528572116021,\n",
       " 64.955209879367985,\n",
       " 0.36033647876611702,\n",
       " 0.21356400299570685,\n",
       " 0.99667774086378735,\n",
       " 0.24673455945685771,\n",
       " 0.11605525762970045,\n",
       " 0.14185046951426472,\n",
       " 0.46428709342526042,\n",
       " 0.10131307312529361,\n",
       " -0.09723769383243543,\n",
       " 0.56577961584801539,\n",
       " 0.12563310248868731,\n",
       " -0.11059651456085202,\n",
       " 0.42537479082365548,\n",
       " 0.093050068903673358,\n",
       " -0.07315688524430133,\n",
       " 0.097802251504184923,\n",
       " 0.35522846922737583,\n",
       " 0.58672843285641552,\n",
       " 0.73143207342466021,\n",
       " 0.33469183372823452,\n",
       " 1.7035703490275411,\n",
       " 1.1701461079809548,\n",
       " 0.0015018554358386625,\n",
       " 0.0083072450500327431,\n",
       " 0.034605522455435037,\n",
       " 5.3396310533889376e-06,\n",
       " 3.4155164239191272e-05,\n",
       " 0.00020758616010035995,\n",
       " 0.0002404074027714935,\n",
       " 2.6869574892039414,\n",
       " 0.59661028236186409,\n",
       " 70.65087501339606,\n",
       " 0.39439535364896111,\n",
       " 0.22980754652460936,\n",
       " 0.9953533267486756,\n",
       " 0.50706312135860721,\n",
       " 0.26526262444007115,\n",
       " 0.21121041174512842,\n",
       " 0.694435944641143,\n",
       " 0.15691371347092853,\n",
       " -0.08568443733174624,\n",
       " 0.7086543158362586,\n",
       " 0.15930716497886924,\n",
       " -0.12291011907560737,\n",
       " 0.65564436425677186,\n",
       " 0.16829962698347006,\n",
       " 0.11179186034146567,\n",
       " 0.14631666339719898,\n",
       " 0.53143811682922237,\n",
       " 0.87777270252452821,\n",
       " 1.0942559996239127,\n",
       " 0.37211982225745283,\n",
       " 3.6794126205683799,\n",
       " 2.7977506207148024,\n",
       " 0.0025296193334360274,\n",
       " 0.019108951788251106,\n",
       " 0.084123118874558575,\n",
       " 1.3002941609021701e-05,\n",
       " 8.3077134362865307e-05,\n",
       " 0.00050390950924093455,\n",
       " 0.00058368072326721743,\n",
       " 6.5179932605735154,\n",
       " 1.2432127435457638,\n",
       " 1051.0874715320995,\n",
       " 0.27807494301271496,\n",
       " 0.1782130385376848,\n",
       " 0.64675110889845666,\n",
       " 0.61003332822758272,\n",
       " 0.17878823314459474,\n",
       " -0.073455929386323,\n",
       " 0.63141621199076714,\n",
       " 0.17068628525332505,\n",
       " -0.11924730279704754,\n",
       " 0.54528884952961565,\n",
       " 0.19769130492164669,\n",
       " 0.1508014053938651,\n",
       " 0.6206625663576415,\n",
       " 0.17194952592605356,\n",
       " -0.09897948089947418,\n",
       " 0.1368631451471827,\n",
       " 0.49710190508442753,\n",
       " 0.82105981644570769,\n",
       " 1.0235561297495852,\n",
       " 0.86875149685977271,\n",
       " 3.8749302470957661,\n",
       " 2.6012430115728753,\n",
       " 0.0047313011687141688,\n",
       " 0.019925606106961348,\n",
       " 0.076232788910471416,\n",
       " 1.1567000186203179e-05,\n",
       " 7.3713782380204707e-05,\n",
       " 0.00044913927121215195,\n",
       " 0.00052251627003702865,\n",
       " 5.8222075621139009,\n",
       " 1.4254593136429528,\n",
       " 5352.4691365931776,\n",
       " 0.25616821675110635,\n",
       " 0.13804675637812744,\n",
       " 0.71742603699410312,\n",
       " 0.27877968842401124,\n",
       " 0.073997390185497641,\n",
       " -0.02095690193893001,\n",
       " 0.55698956724948523,\n",
       " 0.061090801615823774,\n",
       " -0.03408892072247859,\n",
       " 0.78459132378421037,\n",
       " 0.042515760952696213,\n",
       " -0.031490981584198524,\n",
       " 0.51428005464522553,\n",
       " 0.062213998619175197,\n",
       " -0.03264285597208273,\n",
       " 0.12411869944114963,\n",
       " 0.45081268505444194,\n",
       " 0.74460422834093065,\n",
       " 0.92824445538580402,\n",
       " 0.2142780035188212,\n",
       " 2.2036773256637656,\n",
       " 1.6305236002999031,\n",
       " 0.0013283886292342979,\n",
       " 0.01087915076914193,\n",
       " 0.04920868199885009,\n",
       " 7.6392467107191275e-06,\n",
       " 4.8740245801174835e-05,\n",
       " 0.00029637012446404818,\n",
       " 0.00034228404155632689,\n",
       " 3.8028423716187985,\n",
       " 0.69727039196474172,\n",
       " 17.904941355358059,\n",
       " 0.32487626574464801,\n",
       " 0.19154218516989013,\n",
       " 0.99992018596669763,\n",
       " 0.18536239972628488,\n",
       " 0.048389207705491585,\n",
       " 0.02450662707302419,\n",
       " 0.48840047786696222,\n",
       " 0.032578904430712124,\n",
       " 0.021965017195476666,\n",
       " 0.71432717650227906,\n",
       " 0.041393158813679061,\n",
       " -0.02812522112504397,\n",
       " 0.44029420123367441,\n",
       " 0.036042018464597758,\n",
       " 0.021894250331657747,\n",
       " 0.10632690921127382,\n",
       " 0.38619095793702007,\n",
       " 0.63786896367439705,\n",
       " 0.7951852893888538,\n",
       " 0.072910575266528721,\n",
       " 1.5000084161753813,\n",
       " 1.1816249127675948,\n",
       " 0.00098458460206462314,\n",
       " 0.0078966725082744525,\n",
       " 0.035915093932744301,\n",
       " 5.5651433377534606e-06,\n",
       " 3.5469232777928655e-05,\n",
       " 0.00021560658991305229,\n",
       " 0.00024919891263000857,\n",
       " 2.76561898502325,\n",
       " 0.48688643387654817,\n",
       " 17.388699406494695,\n",
       " 0.37818907713723948,\n",
       " 0.22091179874895975,\n",
       " 0.99994762204064525,\n",
       " 0.1420163861340332,\n",
       " 0.082561490131598164,\n",
       " 0.11950813820774142,\n",
       " 0.50358253504628347,\n",
       " 0.043073726955432656,\n",
       " 0.04670682931011192,\n",
       " 0.66601002996351788,\n",
       " 0.074850455192127407,\n",
       " -0.11442730216570607,\n",
       " 0.43846075078596275,\n",
       " 0.039499732666914651,\n",
       " 0.0539479210603931,\n",
       " 0.1004685001938414,\n",
       " 0.36491257594311333,\n",
       " 0.60272360567940697,\n",
       " 0.7513721032025874,\n",
       " 0.073565981961055807,\n",
       " 1.5025656123691629,\n",
       " 1.1900633013865742,\n",
       " 0.0024916229877355671,\n",
       " 0.0081784415420515302,\n",
       " 0.035595567088312775,\n",
       " 5.5119976170778856e-06,\n",
       " 3.517143391851688e-05,\n",
       " 0.00021336091174130708,\n",
       " 0.00024673554590337111,\n",
       " 2.7518331401309748,\n",
       " 0.50736842522012315,\n",
       " 50.466633276201584,\n",
       " 0.40213161252219454,\n",
       " 0.24180860117085198,\n",
       " 0.99689224107828756,\n",
       " 0.34765716468862851,\n",
       " 0.26335514320548414,\n",
       " 0.23686622186481415,\n",
       " 0.65778311045068927,\n",
       " 0.12611684470128529,\n",
       " -0.12990190629076248,\n",
       " 0.64247712633485554,\n",
       " 0.19798552667485625,\n",
       " -0.21172038350038083,\n",
       " 0.59077778552149951,\n",
       " 0.13023458883362526,\n",
       " 0.05941664734400729,\n",
       " 0.12622953634546419,\n",
       " 0.45847947544807105,\n",
       " 0.75726741359317251,\n",
       " 0.94403073627237633,\n",
       " 0.35055881027674146,\n",
       " 2.9794515187954085,\n",
       " 2.2970514457019897,\n",
       " 0.0057424155657931353,\n",
       " 0.023028103446638578,\n",
       " 0.067119791543132051,\n",
       " 1.0283122950177904e-05,\n",
       " 6.5573695081543515e-05,\n",
       " 0.00039816473988713453,\n",
       " 0.00046130054343806082,\n",
       " 5.1704511190407034,\n",
       " 1.4262065223769576,\n",
       " 3365.9867073581422,\n",
       " 0.27884430973838664,\n",
       " 0.17604909635394345,\n",
       " 0.84058101813550734,\n",
       " 0.5546367649650823,\n",
       " 0.17484086150319833,\n",
       " -0.10213878927242658,\n",
       " 0.56414348685210525,\n",
       " 0.16996946329406729,\n",
       " -0.08441032916572902,\n",
       " 0.38673735294802314,\n",
       " 0.21959743577166929,\n",
       " 0.17081237067911723,\n",
       " 0.54933232619662842,\n",
       " 0.17073751166054385,\n",
       " -0.0731592682848779,\n",
       " 0.11532179285165661,\n",
       " 0.41886135864159102,\n",
       " 0.69183044105225033,\n",
       " 0.8624551762279643,\n",
       " 1.0026422798281476,\n",
       " 3.2983622420267071,\n",
       " 2.191922999808015,\n",
       " 0.014532608607768647,\n",
       " 0.024154260700126103,\n",
       " 0.059456354539597453,\n",
       " 9.046571175337868e-06,\n",
       " 5.8019313195349024e-05,\n",
       " 0.00035306717109693093,\n",
       " 0.00040840612525627399,\n",
       " 4.6464123311302226,\n",
       " 1.8250128480126757,\n",
       " 14299.993371378047,\n",
       " 0.31343383218594811,\n",
       " 0.18566676022305287,\n",
       " 0.76723629188923592,\n",
       " 0.17663780645996785,\n",
       " 0.13388818483650991,\n",
       " 0.1790562405637444,\n",
       " 0.45921783616722056,\n",
       " 0.090448400108927296,\n",
       " 0.11253255424775142,\n",
       " 0.63165575190198975,\n",
       " 0.088668042624445692,\n",
       " -0.09102980116409842,\n",
       " 0.41160235357890612,\n",
       " 0.09373136354096151,\n",
       " 0.11749422601024906,\n",
       " 0.097090652420371001,\n",
       " 0.35264386356278243,\n",
       " 0.58245945735893301,\n",
       " 0.72611024917911826,\n",
       " 0.68178689607150578,\n",
       " 1.9809793771996382,\n",
       " 1.1593816223523024,\n",
       " 0.0029308197321381026,\n",
       " 0.0092960290784152907,\n",
       " 0.03248518073874726,\n",
       " 4.9533476237679558e-06,\n",
       " 3.1608873113075105e-05,\n",
       " 0.00019183158541891847,\n",
       " 0.00022273616342184075,\n",
       " 2.5047107940413529,\n",
       " 0.76849573551929173,\n",
       " 629.54282139382224,\n",
       " 0.41377645651392486,\n",
       " 0.24935690943121971,\n",
       " 0.96715652529606022,\n",
       " 0.265118421137573,\n",
       " 0.19138651488447134,\n",
       " 0.196691590027051,\n",
       " 0.44605260918530404,\n",
       " 0.13993444815239678,\n",
       " 0.11408364448775452,\n",
       " 0.42867776903344618,\n",
       " 0.2254553504840407,\n",
       " -0.1783245817535176,\n",
       " 0.4063513682502124,\n",
       " 0.13712127428387705,\n",
       " 0.13114019179252953,\n",
       " 0.087311770188220617,\n",
       " 0.31712589426600168,\n",
       " 0.52379467041472572,\n",
       " 0.65297708509719488,\n",
       " 0.5173174517898933,\n",
       " 1.9587850452682338,\n",
       " 1.2774930803442073,\n",
       " 0.014519773256805851,\n",
       " 0.014783766696187401,\n",
       " 0.033009272917856547,\n",
       " 4.9751100273921043e-06,\n",
       " 3.1855827516533933e-05,\n",
       " 0.00019358522671215003,\n",
       " 0.00022417752620185625,\n",
       " 2.5664590682695092,\n",
       " 1.0030072382662085,\n",
       " 1792.268298331604,\n",
       " 0.39609259591632706,\n",
       " 0.21505684563219485,\n",
       " 0.94137351344879883,\n",
       " 0.43355354572864835,\n",
       " 0.25629068524759063,\n",
       " 0.12935979446813903,\n",
       " 0.49911361429829282,\n",
       " 0.20397469336501281,\n",
       " 0.08930829025271801,\n",
       " 0.37021339299041067,\n",
       " 0.2601769715265278,\n",
       " 0.17142155489859184,\n",
       " 0.475888393770945,\n",
       " 0.20950090788246914,\n",
       " 0.12810166581483767,\n",
       " 0.099799909858211869,\n",
       " 0.36248418275365435,\n",
       " 0.59871264525861734,\n",
       " 0.74637192776753236,\n",
       " 0.80744190183586806,\n",
       " 3.1556595487473489,\n",
       " 1.9233792106820791,\n",
       " 0.018764062422666317,\n",
       " 0.019365183073438687,\n",
       " 0.048510777538346886,\n",
       " 7.3027997174084379e-06,\n",
       " 4.6790682453839897e-05,\n",
       " 0.00028350457347947291,\n",
       " 0.00032966492302218247,\n",
       " 3.780545650459048,\n",
       " 1.3925712899122036,\n",
       " 7002.0723252081207,\n",
       " 0.32767125036004208,\n",
       " 0.20438405099593232,\n",
       " 0.79413694433564763,\n",
       " 0.57864793658227309,\n",
       " 0.25465798403487339,\n",
       " -0.17988848042302033,\n",
       " 0.58904904513659651,\n",
       " 0.24090942232361898,\n",
       " -0.1730673575237905,\n",
       " 0.50995371959804248,\n",
       " 0.27991161662806857,\n",
       " -0.10976582908726337,\n",
       " 0.58113603659747304,\n",
       " 0.24346359717409466,\n",
       " -0.16742108613538262,\n",
       " 0.12850709021425089,\n",
       " 0.46675180008221168,\n",
       " 0.77093075560860702,\n",
       " 0.96106384055128802,\n",
       " 1.401266018701705,\n",
       " 4.0699729010585735,\n",
       " 2.5880977146966058,\n",
       " 0.01223307797088594,\n",
       " 0.026851517183664565,\n",
       " 0.071301454680090012,\n",
       " 1.0800687874273008e-05,\n",
       " 6.9485842956922773e-05,\n",
       " 0.00042346591671666063,\n",
       " 0.00049117094979238892,\n",
       " 5.595906772890574,\n",
       " 2.1441879570927966,\n",
       " 13190.407655255289,\n",
       " 0.26949641023143495,\n",
       " 0.1535073492602114,\n",
       " 0.58449091703601974,\n",
       " 0.66210670314637499,\n",
       " 0.22054279997387494,\n",
       " -0.20549240268270116,\n",
       " 0.65791785531867619,\n",
       " 0.20159751577809729,\n",
       " -0.18195039185035045,\n",
       " 0.55575345718984548,\n",
       " 0.26618482740161303,\n",
       " -0.17037692172703642,\n",
       " 0.65144193237697345,\n",
       " 0.20757337958447997,\n",
       " -0.18308072777551632,\n",
       " 0.1436835298852456,\n",
       " 0.52187428805907055,\n",
       " 0.86197619196158992,\n",
       " 1.0745636277753476,\n",
       " 0.87799935927590833,\n",
       " 4.0710183054255431,\n",
       " 2.925120132064575,\n",
       " 0.007009183642782366,\n",
       " 0.026500143990105769,\n",
       " 0.085849784849773764,\n",
       " 1.3030662163046769e-05,\n",
       " 8.3005319442219295e-05,\n",
       " 0.00050669931969423863,\n",
       " 0.00058809156744949094,\n",
       " 6.5650838442916672,\n",
       " 1.8709377213593488,\n",
       " 11363.959527374978,\n",
       " 0.20920214377461199,\n",
       " 0.11214052656088776,\n",
       " 0.50596187799156733]"
      ]
     },
     "execution_count": 71,
     "metadata": {},
     "output_type": "execute_result"
    }
   ],
   "source": [
    "%%time\n",
    "img2features(img)"
   ]
  },
  {
   "cell_type": "code",
   "execution_count": 72,
   "metadata": {},
   "outputs": [
    {
     "name": "stdout",
     "output_type": "stream",
     "text": [
      "CPU times: user 42.7 s, sys: 4.16 s, total: 46.9 s\n",
      "Wall time: 46.9 s\n"
     ]
    },
    {
     "data": {
      "text/plain": [
       "[0.81952491602050892,\n",
       " 0.05633977282941955,\n",
       " 0.0363459265438004,\n",
       " 0.96319579499181962,\n",
       " 0.02631098912543841,\n",
       " -0.020928555685463944,\n",
       " 0.99897765317662779,\n",
       " 0.0022291617431949825,\n",
       " -0.0028445330317562077,\n",
       " 0.93524560518554067,\n",
       " 0.030226046067988753,\n",
       " -0.018003152521381655,\n",
       " 0.21307651369566738,\n",
       " 0.77391719131508652,\n",
       " 1.2782737312933936,\n",
       " 1.5935317828936357,\n",
       " 0.18185648439203125,\n",
       " 6.6166691425660167,\n",
       " 5.3392456471310199,\n",
       " 0.003850695468158707,\n",
       " 0.035590234145286587,\n",
       " 0.16269216547091025,\n",
       " 2.4996965370413304e-05,\n",
       " 0.00015874410618581968,\n",
       " 0.00096305216991863455,\n",
       " 0.0011174158131639284,\n",
       " 12.379038151676651,\n",
       " 2.1023479644071998,\n",
       " 1,\n",
       " 0.17260376960720247,\n",
       " 0.099922748217115775,\n",
       " 1,\n",
       " 0.8089413953645006,\n",
       " 0.055784795759608645,\n",
       " 0.04025603491189164,\n",
       " 0.96004175822325499,\n",
       " 0.026407809947625201,\n",
       " -0.017793882260044882,\n",
       " 0.99922489104415213,\n",
       " 0.0019542016793428316,\n",
       " -0.002659487999043412,\n",
       " 0.93075803499215615,\n",
       " 0.030327091458234014,\n",
       " -0.012389645794380254,\n",
       " 0.21204316288493613,\n",
       " 0.77016394820435552,\n",
       " 1.2720745253195991,\n",
       " 1.5858036793536119,\n",
       " 0.17998328528457436,\n",
       " 6.5539090042711106,\n",
       " 5.2869103273980258,\n",
       " 0.0038138402576933725,\n",
       " 0.035322386947448069,\n",
       " 0.16132124144576754,\n",
       " 2.4758173259468945e-05,\n",
       " 0.00015709637525758384,\n",
       " 0.00095358469538587122,\n",
       " 0.0011067511209706588,\n",
       " 12.242668498034014,\n",
       " 2.0807341727606246,\n",
       " 1,\n",
       " 0.17268635154898815,\n",
       " 0.099404668857269257,\n",
       " 1,\n",
       " 0.78645720203066216,\n",
       " 0.050774522443950205,\n",
       " 0.03573491259931505,\n",
       " 0.94006923221557137,\n",
       " 0.030634385237073951,\n",
       " -0.017841869845476217,\n",
       " 0.99990612818764257,\n",
       " 0.00075902289608777097,\n",
       " -0.0015647470443968397,\n",
       " 0.91174091600086449,\n",
       " 0.032508738385143364,\n",
       " -0.01025284583347011,\n",
       " 0.20884318469201263,\n",
       " 0.75854127758531176,\n",
       " 1.252877439757236,\n",
       " 1.561872055607038,\n",
       " 0.17277621630960005,\n",
       " 6.2930292408770416,\n",
       " 5.076985342411378,\n",
       " 0.0036604841479592359,\n",
       " 0.034000320031005025,\n",
       " 0.15506928307802015,\n",
       " 2.3761725217952675e-05,\n",
       " 0.00015064305838819245,\n",
       " 0.00091465719513792994,\n",
       " 0.0010621043745005264,\n",
       " 11.734552250806727,\n",
       " 1.9957342515164409,\n",
       " 1,\n",
       " 0.17528562043066981,\n",
       " 0.10054316984181311,\n",
       " 1,\n",
       " 0.75905813878435313,\n",
       " 0.056282844785096507,\n",
       " 0.06074021175980113,\n",
       " 0.91251357563205637,\n",
       " 0.032911504158784279,\n",
       " 0.019664654047566257,\n",
       " 0.99999172131998648,\n",
       " 0.00017999131999961459,\n",
       " -0.0005020054958565634,\n",
       " 0.88621146960601893,\n",
       " 0.03502224378643435,\n",
       " 0.027381233691217303,\n",
       " 0.20464024077230422,\n",
       " 0.74327572580216617,\n",
       " 1.2276634322935449,\n",
       " 1.5304395687429868,\n",
       " 0.16403163286595684,\n",
       " 5.9479272174124809,\n",
       " 4.7994671850987007,\n",
       " 0.0034642592571962933,\n",
       " 0.032040502091481751,\n",
       " 0.14630244522298128,\n",
       " 2.2454794776848787e-05,\n",
       " 0.00014252243692856206,\n",
       " 0.00086472996518047152,\n",
       " 0.0010037169102917061,\n",
       " 11.112057577995888,\n",
       " 1.88843107711485,\n",
       " 1,\n",
       " 0.18155614764520209,\n",
       " 0.10402627574799156,\n",
       " 1,\n",
       " 0.76137602887154576,\n",
       " 0.13133983590494661,\n",
       " 0.10281566451761556,\n",
       " 0.87037551531275192,\n",
       " 0.099693835807644071,\n",
       " -0.10803777589607491,\n",
       " 0.96060358593129536,\n",
       " 0.11752980946485622,\n",
       " -0.16367219082434828,\n",
       " 0.85371856833559256,\n",
       " 0.10337937563684327,\n",
       " -0.10125215881679168,\n",
       " 0.19857292958044681,\n",
       " 0.72123858827352472,\n",
       " 1.1912648429717012,\n",
       " 1.4850640693355568,\n",
       " 0.20267319581543433,\n",
       " 5.6086707959674822,\n",
       " 4.459046122257984,\n",
       " 0.0032819538026036695,\n",
       " 0.030067131543866962,\n",
       " 0.13709116952241562,\n",
       " 2.1085324693655523e-05,\n",
       " 0.00013386296974521425,\n",
       " 0.00081585047360520769,\n",
       " 0.00094498865737693361,\n",
       " 10.40572756322352,\n",
       " 1.7891513154861567,\n",
       " 28.117195181549082,\n",
       " 0.17977311327032272,\n",
       " 0.099396204961500298,\n",
       " 0.95088204773434792,\n",
       " 0.80490406553346983,\n",
       " 0.16596258074578454,\n",
       " -0.1140282221129884,\n",
       " 0.88553560253355679,\n",
       " 0.12950295065075337,\n",
       " -0.1243655551506077,\n",
       " 0.93607736496631011,\n",
       " 0.1395178870491266,\n",
       " -0.18578300902197967,\n",
       " 0.87204546199243982,\n",
       " 0.1349107545652074,\n",
       " -0.12628229601192517,\n",
       " 0.20118971192771484,\n",
       " 0.73074302782610712,\n",
       " 1.2069632607704512,\n",
       " 1.5046341560009631,\n",
       " 0.19649452652850419,\n",
       " 5.8215507671229112,\n",
       " 4.6052084162884297,\n",
       " 0.0034615298814621386,\n",
       " 0.030006645744492012,\n",
       " 0.14060892625489305,\n",
       " 2.2214457498319831e-05,\n",
       " 0.00014279506396919743,\n",
       " 0.0008702634315016747,\n",
       " 0.00099798081889023523,\n",
       " 11.130999232796327,\n",
       " 1.8953823808401757,\n",
       " 35.851326654388224,\n",
       " 0.1977349152872748,\n",
       " 0.11752602596694239,\n",
       " 0.96151586368977671,\n",
       " 0.7130800337882397,\n",
       " 0.18853344547332401,\n",
       " 0.12626833687246167,\n",
       " 0.76714332219219439,\n",
       " 0.18219411674793837,\n",
       " 0.12401903987371847,\n",
       " 0.71346604478344933,\n",
       " 0.232131502394955,\n",
       " 0.15874166547102442,\n",
       " 0.7517847417051835,\n",
       " 0.18670371315270817,\n",
       " 0.12730148956858114,\n",
       " 0.16803536129703553,\n",
       " 0.61032280189437194,\n",
       " 1.0080659972746562,\n",
       " 1.256683264770079,\n",
       " 0.2864283123460577,\n",
       " 4.5874905438883768,\n",
       " 3.4966545441562062,\n",
       " 0.0028406186311307367,\n",
       " 0.022933039629371193,\n",
       " 0.1070848034023847,\n",
       " 1.707717206991953e-05,\n",
       " 0.00011018233995235562,\n",
       " 0.00067432844166147104,\n",
       " 0.00077007948608669478,\n",
       " 8.5762717708610143,\n",
       " 1.5113512680410421,\n",
       " 59.677316622950279,\n",
       " 0.23354640739235374,\n",
       " 0.14275025974920946,\n",
       " 0.95689504117750135,\n",
       " 0.59918504112679849,\n",
       " 0.10402023059260303,\n",
       " 0.11722559244180158,\n",
       " 0.65301161540900876,\n",
       " 0.10778630421401912,\n",
       " 0.1378312732872857,\n",
       " 0.56892450124460825,\n",
       " 0.14082709160155663,\n",
       " 0.1805959118729342,\n",
       " 0.63551078744278588,\n",
       " 0.10853355263016302,\n",
       " 0.13688143612052095,\n",
       " 0.13949684563674092,\n",
       " 0.50666779317922372,\n",
       " 0.8368597283810929,\n",
       " 1.0432527418441848,\n",
       " 0.32379645380484812,\n",
       " 3.2090186583128197,\n",
       " 2.3988699274384149,\n",
       " 0.0022262394138033536,\n",
       " 0.015576377385318696,\n",
       " 0.072470349607438714,\n",
       " 1.1803388074484339e-05,\n",
       " 7.700444713731144e-05,\n",
       " 0.00047099719972883754,\n",
       " 0.00053419269883377661,\n",
       " 6.0317820548120329,\n",
       " 1.1209696792352934,\n",
       " 30.621525808328389,\n",
       " 0.27865782524276961,\n",
       " 0.17074447867394671,\n",
       " 0.97934110650285622,\n",
       " 0.60800604483957599,\n",
       " 0.1143909152998,\n",
       " 0.09719344456737541,\n",
       " 0.66563042849886478,\n",
       " 0.12634749096272888,\n",
       " 0.13170848557464274,\n",
       " 0.5932939885557772,\n",
       " 0.17323978704849949,\n",
       " 0.20191148159448802,\n",
       " 0.6481697896513694,\n",
       " 0.12638481012797234,\n",
       " 0.13124098163607356,\n",
       " 0.14300581229576526,\n",
       " 0.5194127436858248,\n",
       " 0.85791047595722658,\n",
       " 1.069495192498557,\n",
       " 0.3063594572624464,\n",
       " 3.3656707604433462,\n",
       " 2.52866953046831,\n",
       " 0.0023576274519352259,\n",
       " 0.01645006169653291,\n",
       " 0.076314231547071967,\n",
       " 1.2387442288601561e-05,\n",
       " 8.07025614821265e-05,\n",
       " 0.00049302800974653795,\n",
       " 0.00055993178001879484,\n",
       " 6.318248589311529,\n",
       " 1.1712997086773709,\n",
       " 38.67635017582009,\n",
       " 0.27743818458311348,\n",
       " 0.17674800030215257,\n",
       " 0.95811793214862684,\n",
       " 0.59186430261241452,\n",
       " 0.076267956062457218,\n",
       " 0.07619458917251311,\n",
       " 0.63909515430617636,\n",
       " 0.081007338546851257,\n",
       " 0.10279287484511719,\n",
       " 0.55724861577663831,\n",
       " 0.12078483464565239,\n",
       " 0.16359391239972296,\n",
       " 0.62315746289327245,\n",
       " 0.081848589495793003,\n",
       " 0.10224886920018773,\n",
       " 0.13697572202564001,\n",
       " 0.49751079661390618,\n",
       " 0.82173517978809041,\n",
       " 1.0243980565801445,\n",
       " 0.29446412679099315,\n",
       " 3.0893375241389656,\n",
       " 2.3543059370914592,\n",
       " 0.0020380112221689648,\n",
       " 0.015830067743553989,\n",
       " 0.071560021627141673,\n",
       " 1.1227388067259374e-05,\n",
       " 7.1970561024328086e-05,\n",
       " 0.00043901662914706276,\n",
       " 0.00050509356182045731,\n",
       " 5.6182639958061689,\n",
       " 1.0607974386984125,\n",
       " 31.200037388192126,\n",
       " 0.26682337796160871,\n",
       " 0.16030457067950887,\n",
       " 0.96769911504424777,\n",
       " 0.41226212826621988,\n",
       " 0.10909664629812831,\n",
       " -0.05887288849960647,\n",
       " 0.60912984057226716,\n",
       " 0.11262941899672561,\n",
       " -0.12278948590907464,\n",
       " 0.77342782253877662,\n",
       " 0.14601992504142014,\n",
       " -0.1527254385426618,\n",
       " 0.57914133620701747,\n",
       " 0.10874545492944755,\n",
       " -0.11318128074650491,\n",
       " 0.13748217591885367,\n",
       " 0.49935029251972457,\n",
       " 0.82477346259361084,\n",
       " 1.0281856648970327,\n",
       " 0.27829415518030404,\n",
       " 2.8256480614985624,\n",
       " 2.0988944191286705,\n",
       " 0.0018836956959426712,\n",
       " 0.014548660614416361,\n",
       " 0.064155005538688983,\n",
       " 9.8535652110582565e-06,\n",
       " 6.2505083855442147e-05,\n",
       " 0.00038245189784243252,\n",
       " 0.00044281650884089321,\n",
       " 4.8583991926557601,\n",
       " 0.930960396106985,\n",
       " 57.373473715417752,\n",
       " 0.25461141609264143,\n",
       " 0.13939853706710598,\n",
       " 0.94042441511697661,\n",
       " 0.29753730317087473,\n",
       " 0.10869089980106306,\n",
       " 0.11407893557496776,\n",
       " 0.47647058823529409,\n",
       " 0.083596364308379426,\n",
       " -0.0826864231935883,\n",
       " 0.59657613438963675,\n",
       " 0.12928661583592341,\n",
       " -0.08160831097140546,\n",
       " 0.44710687503683316,\n",
       " 0.079723537836306924,\n",
       " -0.06897519878659508,\n",
       " 0.10498595739321087,\n",
       " 0.38132047434066219,\n",
       " 0.62982441923244981,\n",
       " 0.78515673530587304,\n",
       " 0.39973516386388813,\n",
       " 1.8792103481115048,\n",
       " 1.258731530518495,\n",
       " 0.0015492831170645443,\n",
       " 0.0088635076030718195,\n",
       " 0.037609048383051798,\n",
       " 5.8169749268115137e-06,\n",
       " 3.712140406404775e-05,\n",
       " 0.00022666722124470211,\n",
       " 0.00026197524522855118,\n",
       " 2.9031343652567574,\n",
       " 0.65780255490667705,\n",
       " 19.980288406041005,\n",
       " 0.35739064580779795,\n",
       " 0.21201676707828196,\n",
       " 0.99942750822956916,\n",
       " 0.24629732528477261,\n",
       " 0.11078593399549053,\n",
       " 0.13267967615466192,\n",
       " 0.46381066237859103,\n",
       " 0.095174687207604983,\n",
       " -0.09668372489724873,\n",
       " 0.56594333454005608,\n",
       " 0.12117768366656888,\n",
       " -0.10145041753090632,\n",
       " 0.42495284390899624,\n",
       " 0.086488391013530092,\n",
       " -0.07737315907540826,\n",
       " 0.097744806026476921,\n",
       " 0.35501982097238749,\n",
       " 0.58638380996080919,\n",
       " 0.73100245688493437,\n",
       " 0.40825082135929253,\n",
       " 1.7493256262106656,\n",
       " 1.1546153785593891,\n",
       " 0.001608442230636392,\n",
       " 0.0081264657681852839,\n",
       " 0.033892608814443982,\n",
       " 5.2720650530406068e-06,\n",
       " 3.3932708823891678e-05,\n",
       " 0.00020622712402587401,\n",
       " 0.00023844338947245902,\n",
       " 2.6799658813371079,\n",
       " 0.63701563743832224,\n",
       " 21.669235801701912,\n",
       " 0.3913485123257418,\n",
       " 0.22822391624913796,\n",
       " 0.9985329898382711,\n",
       " 0.50138352177854106,\n",
       " 0.26311013092134899,\n",
       " 0.21396607274351842,\n",
       " 0.69191888577386018,\n",
       " 0.15374781996233949,\n",
       " -0.06864897996597857,\n",
       " 0.70817540698832848,\n",
       " 0.15500939071264011,\n",
       " -0.11386259617247385,\n",
       " 0.65260221610441804,\n",
       " 0.1651992277726039,\n",
       " 0.11782384170272837,\n",
       " 0.14565211987321031,\n",
       " 0.52902442210204892,\n",
       " 0.87378601945335799,\n",
       " 1.0892860890118954,\n",
       " 0.61858789869778319,\n",
       " 3.7970019900571668,\n",
       " 2.7834930685556709,\n",
       " 0.0026516283529327139,\n",
       " 0.018987057561673668,\n",
       " 0.08219330712857037,\n",
       " 1.2807829693960913e-05,\n",
       " 8.2459358485690519e-05,\n",
       " 0.00049784366698451567,\n",
       " 0.00057631701902928652,\n",
       " 6.5293262499127431,\n",
       " 1.3480479363695927,\n",
       " 238.25687847685003,\n",
       " 0.27877861746094557,\n",
       " 0.17932546120590656,\n",
       " 0.67041575335082104,\n",
       " 0.61211353297580662,\n",
       " 0.17123947712393564,\n",
       " 0.05760980435954171,\n",
       " 0.63384043756331776,\n",
       " 0.16192277808679106,\n",
       " -0.09954986553936263,\n",
       " 0.54884337018047524,\n",
       " 0.19033610995185563,\n",
       " 0.1537600950495473,\n",
       " 0.62309518178016876,\n",
       " 0.16354813224877035,\n",
       " -0.07003847147293668,\n",
       " 0.13748045621123864,\n",
       " 0.49934404635366297,\n",
       " 0.82476314584383315,\n",
       " 1.0281728037482627,\n",
       " 1.5328744236259966,\n",
       " 4.5197177316768009,\n",
       " 2.6811238725522601,\n",
       " 0.0073740119744652062,\n",
       " 0.021851103182389999,\n",
       " 0.076629330549027638,\n",
       " 1.1441871764925734e-05,\n",
       " 7.2355221368850843e-05,\n",
       " 0.00044326170282852213,\n",
       " 0.0005184136758029698,\n",
       " 5.7097142045932072,\n",
       " 1.7374561073571702,\n",
       " 898.61247742572914,\n",
       " 0.25294529816249756,\n",
       " 0.13608735096475116,\n",
       " 0.7419635414779111,\n",
       " 0.2784731868989187,\n",
       " 0.069634518231594347,\n",
       " -0.016216714210139715,\n",
       " 0.55672804115205543,\n",
       " 0.056218692797688312,\n",
       " -0.02729460323680518,\n",
       " 0.78437378099944721,\n",
       " 0.038320344331897065,\n",
       " -0.02747949323941873,\n",
       " 0.51401214246626092,\n",
       " 0.057571241107954078,\n",
       " -0.02644114356395216,\n",
       " 0.12405852519443701,\n",
       " 0.45059412561211959,\n",
       " 0.74424323520499303,\n",
       " 0.92779443124664762,\n",
       " 0.10398508764994079,\n",
       " 2.0324790656220442,\n",
       " 1.5874584968873737,\n",
       " 0.0012344985369578463,\n",
       " 0.010432206616078821,\n",
       " 0.048519552323714077,\n",
       " 7.6295654221437143e-06,\n",
       " 4.88793058007404e-05,\n",
       " 0.00029830708607747635,\n",
       " 0.00034256216364010085,\n",
       " 3.8030588488667529,\n",
       " 0.66314994006117478,\n",
       " 16.447831687419495,\n",
       " 0.32299019635470949,\n",
       " 0.19076955844279825,\n",
       " 1.0,\n",
       " 0.18537367716515543,\n",
       " 0.046685528758408978,\n",
       " 0.02238816650503755,\n",
       " 0.48843398243797309,\n",
       " 0.030295705954225118,\n",
       " 0.021282645437972446,\n",
       " 0.71444180649216893,\n",
       " 0.039877879806241905,\n",
       " -0.02690745068720137,\n",
       " 0.44032883168180686,\n",
       " 0.034021286628499445,\n",
       " 0.021426362686758422,\n",
       " 0.10633912007985308,\n",
       " 0.38623530914659521,\n",
       " 0.63794221826388975,\n",
       " 0.7952766106088246,\n",
       " 0.054550979952746215,\n",
       " 1.4711458315278683,\n",
       " 1.1668359821360246,\n",
       " 0.00091096866663701356,\n",
       " 0.0077330654556284273,\n",
       " 0.035699766256041571,\n",
       " 5.5654984207642957e-06,\n",
       " 3.5522934856743677e-05,\n",
       " 0.00021652841809389312,\n",
       " 0.00024953235748823753,\n",
       " 2.763673244785438,\n",
       " 0.4768417705777529,\n",
       " 16.447831687419495,\n",
       " 0.37568369555652981,\n",
       " 0.21987361158789628,\n",
       " 1.0,\n",
       " 0.14133334455866217,\n",
       " 0.076856343232580698,\n",
       " 0.10755955534023791,\n",
       " 0.50271232007902633,\n",
       " 0.036320465234392189,\n",
       " 0.035589111409285196,\n",
       " 0.6657797253723301,\n",
       " 0.070431402950059924,\n",
       " -0.10572390842092887,\n",
       " 0.43767644770259612,\n",
       " 0.032046849294245033,\n",
       " 0.03971369140296777,\n",
       " 0.10033188042469285,\n",
       " 0.3644163580062616,\n",
       " 0.60190400590724213,\n",
       " 0.75035036720487536,\n",
       " 0.063239175477920573,\n",
       " 1.4750151507993499,\n",
       " 1.1712993354513734,\n",
       " 0.0012971247080926886,\n",
       " 0.0077329495628291299,\n",
       " 0.035120089929080694,\n",
       " 5.4884125865491623e-06,\n",
       " 3.5165582248534542e-05,\n",
       " 0.0002128963999768008,\n",
       " 0.00024566718344436926,\n",
       " 2.7549941180179984,\n",
       " 0.48586185699117201,\n",
       " 19.137195556262533,\n",
       " 0.39959755553965393,\n",
       " 0.24049710261830465,\n",
       " 0.99932016602261342,\n",
       " 0.34481558187895167,\n",
       " 0.25794681546516773,\n",
       " 0.23012617321069304,\n",
       " 0.65773411124862136,\n",
       " 0.11254278837101897,\n",
       " -0.10760092881037552,\n",
       " 0.64444865394275652,\n",
       " 0.18653229485444817,\n",
       " -0.19178947673632626,\n",
       " 0.59028104228581368,\n",
       " 0.1178669593397315,\n",
       " 0.08681632952834102,\n",
       " 0.12615913730048212,\n",
       " 0.45822377842065515,\n",
       " 0.75684508056196143,\n",
       " 0.9435042441042939,\n",
       " 0.40402647217288179,\n",
       " 3.0805102675855549,\n",
       " 2.2863378114979329,\n",
       " 0.0040984380031114237,\n",
       " 0.018744752230338876,\n",
       " 0.066916826480298022,\n",
       " 1.0178532506377257e-05,\n",
       " 6.4848736315151279e-05,\n",
       " 0.00039237523568803906,\n",
       " 0.00045688181736176157,\n",
       " 5.117501993443879,\n",
       " 1.1988974799990411,\n",
       " 304.78943098918234,\n",
       " 0.27720305902890979,\n",
       " 0.1753879290852598,\n",
       " 0.87398520008621305,\n",
       " 0.55501070615737347,\n",
       " 0.15345990629859466,\n",
       " -0.0830596164135718,\n",
       " 0.56442230248332337,\n",
       " 0.14600669239206832,\n",
       " -0.058088379475410755,\n",
       " 0.38721336824410596,\n",
       " 0.19931464621838355,\n",
       " 0.17149700279610616,\n",
       " 0.54964557410541148,\n",
       " 0.14752216562400308,\n",
       " -0.03273188994913372,\n",
       " 0.11540825615447058,\n",
       " 0.41917540280959814,\n",
       " 0.69234914565648142,\n",
       " 0.86310180789420865,\n",
       " 0.95818849358381897,\n",
       " 3.3345708983571858,\n",
       " 2.0665107801395228,\n",
       " 0.0096971258147435756,\n",
       " 0.018989587923065293,\n",
       " 0.057466765618309587,\n",
       " 8.9237813705302553e-06,\n",
       " 5.7400428152088699e-05,\n",
       " 0.00035005151556288789,\n",
       " 0.00040301579230994796,\n",
       " 4.5408363425231411,\n",
       " 1.5386757325560376,\n",
       " 1117.33191047379,\n",
       " 0.30975771482680842,\n",
       " 0.18416922644803688,\n",
       " 0.82825857615773579,\n",
       " 0.17721412595380218,\n",
       " 0.12127282030047852,\n",
       " 0.16604333205945418,\n",
       " 0.45940079194694916,\n",
       " 0.075068790443535455,\n",
       " 0.09719390701413098,\n",
       " 0.63097012098098137,\n",
       " 0.075178109833906673,\n",
       " -0.08929098520886469,\n",
       " 0.41180627404675912,\n",
       " 0.078504593279705742,\n",
       " 0.10173970586056598,\n",
       " 0.097096293535920475,\n",
       " 0.35266435271114477,\n",
       " 0.58249329914513837,\n",
       " 0.726152437296255,\n",
       " 0.40797982083113965,\n",
       " 1.6819106874047878,\n",
       " 1.1297625737196786,\n",
       " 0.0025835383252871707,\n",
       " 0.0085511055109521016,\n",
       " 0.032455168764510635,\n",
       " 4.9346525522117491e-06,\n",
       " 3.1322385195630962e-05,\n",
       " 0.00018934116217461758,\n",
       " 0.00022098020965519415,\n",
       " 2.4662103528066193,\n",
       " 0.63911444231124148,\n",
       " 72.220172863840503,\n",
       " 0.41027014725214689,\n",
       " 0.24783363483569973,\n",
       " 0.9802490339201374,\n",
       " 0.26605067674701199,\n",
       " 0.17456173136217648,\n",
       " 0.1676447453887749,\n",
       " 0.44656631222690885,\n",
       " 0.11989642800657867,\n",
       " 0.09628760844572307,\n",
       " 0.42875143473734123,\n",
       " 0.21250745887009806,\n",
       " -0.16561382380925022,\n",
       " 0.40692228702043293,\n",
       " 0.11620356614578843,\n",
       " 0.11064685535917612,\n",
       " 0.087428172550117964,\n",
       " 0.31754868036954453,\n",
       " 0.52449298333008598,\n",
       " 0.65384762150719411,\n",
       " 0.45787323488029441,\n",
       " 1.8318088795818677,\n",
       " 1.1830385162676527,\n",
       " 0.0084178976351472392,\n",
       " 0.012100100967060819,\n",
       " 0.032621968041916583,\n",
       " 4.9258637087398204e-06,\n",
       " 3.1234600224189388e-05,\n",
       " 0.00019014410827490396,\n",
       " 0.00022139145263044268,\n",
       " 2.4704512029348549,\n",
       " 0.85665064983111161,\n",
       " 166.2523124615428,\n",
       " 0.39311121373539032,\n",
       " 0.21336750200251325,\n",
       " 0.96865607556891364,\n",
       " 0.43311696512009695,\n",
       " 0.23901702118262086,\n",
       " 0.10854748869299798,\n",
       " 0.49844501132355046,\n",
       " 0.18278060411999072,\n",
       " 0.09524944697832013,\n",
       " 0.36890050710423,\n",
       " 0.24299500976458344,\n",
       " 0.17558402375322552,\n",
       " 0.4752226427511036,\n",
       " 0.18916808957199691,\n",
       " 0.12642304720841116,\n",
       " 0.099614687111179767,\n",
       " 0.36181143348784178,\n",
       " 0.59760146989788676,\n",
       " 0.7449867054866256,\n",
       " 0.93321043527555847,\n",
       " 2.9956839841937501,\n",
       " 1.7863743365720643,\n",
       " 0.0084720090438519073,\n",
       " 0.016108726309705588,\n",
       " 0.048095119003988718,\n",
       " 7.1419996345015508e-06,\n",
       " 4.5374276030750181e-05,\n",
       " 0.00027345851781339071,\n",
       " 0.00032181725446670808,\n",
       " 3.6451411493721428,\n",
       " 1.3189476939491664,\n",
       " 540.34644203506627,\n",
       " 0.32432315242954129,\n",
       " 0.20289773244290601,\n",
       " 0.83474212034383954,\n",
       " 0.5765804561412371,\n",
       " 0.23915340871919719,\n",
       " -0.16524049773579744,\n",
       " 0.58734203857584266,\n",
       " 0.22304462137397793,\n",
       " -0.1579697552192929,\n",
       " 0.50730684716995422,\n",
       " 0.26416658926671671,\n",
       " 0.042886205964304036,\n",
       " 0.57928466500812426,\n",
       " 0.22643469197409613,\n",
       " -0.151746652699297,\n",
       " 0.12801521773155491,\n",
       " 0.46496526545344879,\n",
       " 0.76797994858219576,\n",
       " 0.9573852819869918,\n",
       " 2.1526405133806059,\n",
       " 4.7486952106723921,\n",
       " 2.55740899009513,\n",
       " 0.012328985309928547,\n",
       " 0.024846229915155327,\n",
       " 0.068069577144767524,\n",
       " 1.037696486513472e-05,\n",
       " 6.7195521900373148e-05,\n",
       " 0.00040914053260481204,\n",
       " 0.00047463275980402981,\n",
       " 5.4479779662027017,\n",
       " 2.3446694820619665,\n",
       " 1614.6865948566513,\n",
       " 0.26595238275779398,\n",
       " 0.15273494383077268,\n",
       " 0.63142990285693801,\n",
       " 0.66643275887713038,\n",
       " 0.21036522734777222,\n",
       " -0.1992492226900312,\n",
       " 0.66083061820692224,\n",
       " 0.19001940590175315,\n",
       " -0.17284404757380648,\n",
       " 0.56187260935575023,\n",
       " 0.2551700831002427,\n",
       " -0.16098962782043155,\n",
       " 0.65488620066117187,\n",
       " 0.19647180996342647,\n",
       " -0.17468856436341554,\n",
       " 0.14470674285525634,\n",
       " 0.5255907094240222,\n",
       " 0.86811457970972061,\n",
       " 1.0822159136143763,\n",
       " 1.4712639851746767,\n",
       " 4.4502690560937967,\n",
       " 2.9534581975244474,\n",
       " 0.0072440095790334011,\n",
       " 0.027420043990339881,\n",
       " 0.086899031496329604,\n",
       " 1.2926506380761952e-05,\n",
       " 8.1589552802488187e-05,\n",
       " 0.00050085889080967556,\n",
       " 0.00058505868645103269,\n",
       " 6.4410228084994321,\n",
       " 2.1964361539906636,\n",
       " 1682.1840798014825,\n",
       " 0.20649165263708982,\n",
       " 0.11187272662466687,\n",
       " 0.52715127136905615]"
      ]
     },
     "execution_count": 72,
     "metadata": {},
     "output_type": "execute_result"
    }
   ],
   "source": [
    "%%time\n",
    "img2features(img2)"
   ]
  },
  {
   "cell_type": "code",
   "execution_count": 73,
   "metadata": {},
   "outputs": [
    {
     "name": "stdout",
     "output_type": "stream",
     "text": [
      "CPU times: user 28.9 s, sys: 4.1 s, total: 33 s\n",
      "Wall time: 33.4 s\n"
     ]
    },
    {
     "data": {
      "text/plain": [
       "[0.81876874279123446,\n",
       " 0.055799123005003011,\n",
       " 0.03606937605845081,\n",
       " 0.96303813437139552,\n",
       " 0.026274511126590048,\n",
       " -0.02075483743373405,\n",
       " 0.9990300605536333,\n",
       " 0.0021523435873624271,\n",
       " -0.0027738947827210324,\n",
       " 0.93497590653835061,\n",
       " 0.03010447729298053,\n",
       " -0.01772625789535562,\n",
       " 0.21301052891745806,\n",
       " 0.77367752738715978,\n",
       " 1.2778778800229378,\n",
       " 1.593038303629118,\n",
       " 0.18198302760914661,\n",
       " 6.6290403415291888,\n",
       " 5.3571611324354595,\n",
       " 0.0038483396083530464,\n",
       " 0.03584487195284207,\n",
       " 0.16323413835664705,\n",
       " 2.4982004968671032e-05,\n",
       " 0.00015838491228796842,\n",
       " 0.00096031018446596326,\n",
       " 0.0011160862457943875,\n",
       " 12.350886329687988,\n",
       " 2.0993840771334531,\n",
       " 1,\n",
       " 0.1765886854858609,\n",
       " 0.10173305738373135,\n",
       " 1,\n",
       " 0.80811743079584797,\n",
       " 0.055183689896909402,\n",
       " 0.0398874155195125,\n",
       " 0.95977256343713957,\n",
       " 0.02639563923598421,\n",
       " -0.017589461915091056,\n",
       " 0.99926002018454452,\n",
       " 0.0019020950955679081,\n",
       " -0.0026114677290480035,\n",
       " 0.93039289338235298,\n",
       " 0.030209336255905422,\n",
       " -0.011931397527824884,\n",
       " 0.2119621183718555,\n",
       " 0.76986958567304187,\n",
       " 1.271588328740068,\n",
       " 1.5851975731001209,\n",
       " 0.17991641955618773,\n",
       " 6.5655935750271537,\n",
       " 5.3027035238236193,\n",
       " 0.0038105829637391855,\n",
       " 0.035603571917297787,\n",
       " 0.1619143741954143,\n",
       " 2.4738259230552002e-05,\n",
       " 0.00015663275387856922,\n",
       " 0.00095053107750991093,\n",
       " 0.0011052103158784386,\n",
       " 12.20194924994688,\n",
       " 2.0765036139427129,\n",
       " 1,\n",
       " 0.17667317135354221,\n",
       " 0.10118894480156064,\n",
       " 1,\n",
       " 0.78541126009227213,\n",
       " 0.050168159111452282,\n",
       " 0.03520375697643175,\n",
       " 0.93950259515570933,\n",
       " 0.03055014752372073,\n",
       " -0.017605563387777256,\n",
       " 0.99992070357554796,\n",
       " 0.00069278452760968804,\n",
       " -0.0014685025383785212,\n",
       " 0.91111433207179937,\n",
       " 0.032332701299425955,\n",
       " -0.009884846358804303,\n",
       " 0.20872077852369841,\n",
       " 0.75809668500052596,\n",
       " 1.2521431092259612,\n",
       " 1.5609566186297419,\n",
       " 0.17261009583465289,\n",
       " 6.3022383478534056,\n",
       " 5.0908007763843486,\n",
       " 0.0036551178963839942,\n",
       " 0.034310877690636656,\n",
       " 0.15569155582997057,\n",
       " 2.3728430412949223e-05,\n",
       " 0.00015003328997498355,\n",
       " 0.00091085488761574469,\n",
       " 0.001059933626048088,\n",
       " 11.67958225664931,\n",
       " 1.9898911778249087,\n",
       " 1,\n",
       " 0.17937449952160442,\n",
       " 0.10236098373561643,\n",
       " 1,\n",
       " 0.75918144463667814,\n",
       " 0.05782374817376057,\n",
       " 0.06408042547459919,\n",
       " 0.91219254613610168,\n",
       " 0.033208100185901722,\n",
       " 0.020979722515799375,\n",
       " 0.99999207035755477,\n",
       " 0.00017616400827281185,\n",
       " -0.0004948931345214549,\n",
       " 0.88600803276384088,\n",
       " 0.03553854583406487,\n",
       " 0.028987315384763904,\n",
       " 0.20462512198965899,\n",
       " 0.74322081273081242,\n",
       " 1.2275727327491932,\n",
       " 1.5303265001544113,\n",
       " 0.16518370860855544,\n",
       " 5.9636844454310456,\n",
       " 4.8183141129574452,\n",
       " 0.0034676329003676481,\n",
       " 0.032306291236417824,\n",
       " 0.14687422909035103,\n",
       " 2.2444004638813345e-05,\n",
       " 0.00014218635166744661,\n",
       " 0.00086218604707583425,\n",
       " 0.0010026173645779734,\n",
       " 11.085716236054468,\n",
       " 1.8864054894109994,\n",
       " 1,\n",
       " 0.1859161700568861,\n",
       " 0.10596871775427659,\n",
       " 1,\n",
       " 0.75855464244521331,\n",
       " 0.13169207283192805,\n",
       " 0.10395694356671756,\n",
       " 0.86824070069204173,\n",
       " 0.1004529861856909,\n",
       " -0.10841976957311407,\n",
       " 0.95971345155709353,\n",
       " 0.11859078015584269,\n",
       " -0.16435183189706823,\n",
       " 0.85152759865196082,\n",
       " 0.10408106814062291,\n",
       " -0.10152839341227839,\n",
       " 0.19812510360999208,\n",
       " 0.71961203539239849,\n",
       " 1.1885782767035846,\n",
       " 1.4817149206905762,\n",
       " 0.2349507478147406,\n",
       " 5.6115390410913433,\n",
       " 4.4241717143822772,\n",
       " 0.0032747158125882507,\n",
       " 0.030178553062547298,\n",
       " 0.13683064919021773,\n",
       " 2.0964303010265657e-05,\n",
       " 0.00013285167611188422,\n",
       " 0.00081144500968765351,\n",
       " 0.00094055379731812234,\n",
       " 10.306842886962627,\n",
       " 1.7891964658971149,\n",
       " 26.711635384429389,\n",
       " 0.18424648340373156,\n",
       " 0.10111625061052242,\n",
       " 0.95013123359580054,\n",
       " 0.80899942329873131,\n",
       " 0.16420104477655617,\n",
       " -0.11598032997571538,\n",
       " 0.88901239907727792,\n",
       " 0.1274988085843517,\n",
       " -0.1235554777125555,\n",
       " 0.9390801614763552,\n",
       " 0.13604285970020982,\n",
       " -0.18327552679186598,\n",
       " 0.87561952739331006,\n",
       " 0.13288165634102683,\n",
       " -0.12565537582664832,\n",
       " 0.20199974715009081,\n",
       " 0.73368516430701325,\n",
       " 1.2118227674717248,\n",
       " 1.5106921529605231,\n",
       " 0.19988629633507968,\n",
       " 5.8246150866112947,\n",
       " 4.5715954869235782,\n",
       " 0.003475564004254696,\n",
       " 0.029508330078577779,\n",
       " 0.1398615107378107,\n",
       " 2.2366797356765594e-05,\n",
       " 0.00014457121842515434,\n",
       " 0.00088278258364699036,\n",
       " 0.0010073021591313609,\n",
       " 11.268540944863501,\n",
       " 1.9145929065775751,\n",
       " 25.37831316134444,\n",
       " 0.20111516397585541,\n",
       " 0.11892781282242253,\n",
       " 0.96199524940617576,\n",
       " 0.71670775663206465,\n",
       " 0.1871569873804822,\n",
       " 0.12478825391305391,\n",
       " 0.77058210784313719,\n",
       " 0.18152934388735525,\n",
       " 0.12238611108867521,\n",
       " 0.71758470299884658,\n",
       " 0.23158578211928213,\n",
       " 0.15506391793939886,\n",
       " 0.75531269532151102,\n",
       " 0.18592417803535302,\n",
       " 0.12550188140930807,\n",
       " 0.16889213870985159,\n",
       " 0.61343471112082237,\n",
       " 1.0132059164584963,\n",
       " 1.2630908317726919,\n",
       " 0.30706595801213649,\n",
       " 4.5878142005801248,\n",
       " 3.4357482239166228,\n",
       " 0.0028062406889468186,\n",
       " 0.02232645700573558,\n",
       " 0.10586511112720487,\n",
       " 1.7197230971738011e-05,\n",
       " 0.00011182813284330352,\n",
       " 0.00068748326038245617,\n",
       " 0.00077931071768045984,\n",
       " 8.697144813164865,\n",
       " 1.5257591945225384,\n",
       " 33.589951748843752,\n",
       " 0.23733524992936714,\n",
       " 0.14414932908895381,\n",
       " 0.96285583802709696,\n",
       " 0.60277104959630912,\n",
       " 0.10352095151949024,\n",
       " 0.12071030431875132,\n",
       " 0.65666882929642445,\n",
       " 0.10886036839114353,\n",
       " 0.1411073515713448,\n",
       " 0.57372152537485577,\n",
       " 0.14340354583111872,\n",
       " 0.18372546315285276,\n",
       " 0.63923505049740492,\n",
       " 0.10945692561049004,\n",
       " 0.1401151013304842,\n",
       " 0.14041912167448509,\n",
       " 0.51001760057173351,\n",
       " 0.84239258233858305,\n",
       " 1.0501501523248444,\n",
       " 0.32531484778848241,\n",
       " 3.161368682264039,\n",
       " 2.3612323476716575,\n",
       " 0.0021857379336245419,\n",
       " 0.015027788833671738,\n",
       " 0.071237922989512745,\n",
       " 1.1928073690490054e-05,\n",
       " 7.8779197943899213e-05,\n",
       " 0.00048370179421142466,\n",
       " 0.00054327212909670753,\n",
       " 6.1923754633483954,\n",
       " 1.1305745604553858,\n",
       " 20.819648624461021,\n",
       " 0.2841005276713271,\n",
       " 0.17386370495621795,\n",
       " 0.98028510767364274,\n",
       " 0.6114103950403692,\n",
       " 0.1126282441092169,\n",
       " 0.10363752873866879,\n",
       " 0.6692693915801613,\n",
       " 0.12603080673851211,\n",
       " 0.13571893933366513,\n",
       " 0.59811634948096892,\n",
       " 0.17520066338369908,\n",
       " 0.203352981528197,\n",
       " 0.65184422048010382,\n",
       " 0.12602802266298965,\n",
       " 0.13500327336618118,\n",
       " 0.14391471619608964,\n",
       " 0.52271398201338004,\n",
       " 0.86336310872234734,\n",
       " 1.0762925969972603,\n",
       " 0.328793699212584,\n",
       " 3.3632132271563679,\n",
       " 2.4812029846623638,\n",
       " 0.002333108764887586,\n",
       " 0.015799900639217077,\n",
       " 0.074820588782266537,\n",
       " 1.2507396687237162e-05,\n",
       " 8.2524680452042204e-05,\n",
       " 0.00050583421913814603,\n",
       " 0.00056865052762990285,\n",
       " 6.4749319483683303,\n",
       " 1.1866697463457694,\n",
       " 23.424000203779453,\n",
       " 0.28183679609796153,\n",
       " 0.178770793204858,\n",
       " 0.96543730242360382,\n",
       " 0.59181696943483264,\n",
       " 0.074947543939058836,\n",
       " 0.07814895306423422,\n",
       " 0.63911908881199531,\n",
       " 0.080222936708290948,\n",
       " 0.10423330229898628,\n",
       " 0.55866709919261814,\n",
       " 0.12087610569638889,\n",
       " 0.164281158409037,\n",
       " 0.62326679999279122,\n",
       " 0.081069100048230827,\n",
       " 0.1036034588413055,\n",
       " 0.13708258472413909,\n",
       " 0.49789893361710896,\n",
       " 0.82237626302141797,\n",
       " 1.0251972488679806,\n",
       " 0.33638866314804111,\n",
       " 3.0963064877506237,\n",
       " 2.3359642957092559,\n",
       " 0.0020206781240687251,\n",
       " 0.015608478820633693,\n",
       " 0.070928024936354125,\n",
       " 1.1220839784890957e-05,\n",
       " 7.2037880642108392e-05,\n",
       " 0.00044100537735603337,\n",
       " 0.00050583336762035573,\n",
       " 5.6231897291784563,\n",
       " 1.0673347606011763,\n",
       " 21.155721725061699,\n",
       " 0.27263257195760621,\n",
       " 0.16253287598697178,\n",
       " 0.96745730550284625,\n",
       " 0.41504108996539785,\n",
       " 0.10884861760691979,\n",
       " -0.061328092413599086,\n",
       " 0.60935841983852368,\n",
       " 0.11227840565985885,\n",
       " -0.12022950489452572,\n",
       " 0.77098183391003461,\n",
       " 0.14766361794525759,\n",
       " -0.1502392674519771,\n",
       " 0.57971903539504044,\n",
       " 0.10840722847141551,\n",
       " -0.11072122988201995,\n",
       " 0.13752519050868131,\n",
       " 0.49950652621234337,\n",
       " 0.82503151271506991,\n",
       " 1.0285073573953294,\n",
       " 0.28086891815889037,\n",
       " 2.8143979658299156,\n",
       " 2.0852254478407679,\n",
       " 0.0018919879901610516,\n",
       " 0.01476118983077467,\n",
       " 0.064421596276533932,\n",
       " 9.8584594053782847e-06,\n",
       " 6.2350623294380421e-05,\n",
       " 0.00038336736178889834,\n",
       " 0.000444002976680465,\n",
       " 4.8314188910401228,\n",
       " 0.93862961452829374,\n",
       " 27.500840748572909,\n",
       " 0.26011612937442097,\n",
       " 0.14197788008128592,\n",
       " 0.96274026614095609,\n",
       " 0.30119737600922719,\n",
       " 0.10858289121784889,\n",
       " 0.1097185404211362,\n",
       " 0.47664828431372552,\n",
       " 0.081094350643155261,\n",
       " -0.08020791783399008,\n",
       " 0.5911595299884661,\n",
       " 0.12694109532443862,\n",
       " -0.06569236387453885,\n",
       " 0.44762122711216845,\n",
       " 0.077325383266650297,\n",
       " -0.06764939941834225,\n",
       " 0.10486501949245088,\n",
       " 0.38088121466414393,\n",
       " 0.62909889702928568,\n",
       " 0.78425227903674288,\n",
       " 0.39755760048247968,\n",
       " 1.8620426008507496,\n",
       " 1.244863919439702,\n",
       " 0.0014952500736128314,\n",
       " 0.008767336023500721,\n",
       " 0.037506118813376954,\n",
       " 5.8206621014281884e-06,\n",
       " 3.7180602380997019e-05,\n",
       " 0.00022769642121026444,\n",
       " 0.00026271978848170415,\n",
       " 2.9032914727651935,\n",
       " 0.64150405925729859,\n",
       " 16.368014705882352,\n",
       " 0.36691896288572257,\n",
       " 0.21777096936022824,\n",
       " 1.0,\n",
       " 0.2503871107266436,\n",
       " 0.11168879191754211,\n",
       " 0.1297158506027088,\n",
       " 0.46484465109573248,\n",
       " 0.093603023863969778,\n",
       " -0.0951254933575864,\n",
       " 0.5615556516724336,\n",
       " 0.11940351328918528,\n",
       " -0.09361002480862383,\n",
       " 0.42624528690888125,\n",
       " 0.084922112096231434,\n",
       " -0.07682231691176789,\n",
       " 0.097801190201033755,\n",
       " 0.35522461445830894,\n",
       " 0.58672206596071752,\n",
       " 0.73142413627441838,\n",
       " 0.4621191075427375,\n",
       " 1.7531386498758803,\n",
       " 1.1486277669104175,\n",
       " 0.0015833749450114463,\n",
       " 0.0080628924105482936,\n",
       " 0.033668972325153389,\n",
       " 5.2785418026759985e-06,\n",
       " 3.4182707680316866e-05,\n",
       " 0.00020771063473391189,\n",
       " 0.00023966366936023541,\n",
       " 2.7117774339204272,\n",
       " 0.67372535439728354,\n",
       " 19.425754366294029,\n",
       " 0.40106641417324057,\n",
       " 0.23441185670656819,\n",
       " 0.99880514705882351,\n",
       " 0.5119834919261822,\n",
       " 0.26108625704384353,\n",
       " 0.2047266947662131,\n",
       " 0.6929981257208766,\n",
       " 0.15332364684981564,\n",
       " -0.060099829462208765,\n",
       " 0.7040433967704729,\n",
       " 0.15699697570872592,\n",
       " -0.10708097633900528,\n",
       " 0.65532888008217993,\n",
       " 0.16476090091010048,\n",
       " 0.11788179448896347,\n",
       " 0.14623023109425981,\n",
       " 0.53112418525614968,\n",
       " 0.8772541838925908,\n",
       " 1.0936095997959505,\n",
       " 0.73086458998456305,\n",
       " 3.8724610122276841,\n",
       " 2.8169021499777886,\n",
       " 0.0027810066161886174,\n",
       " 0.019258512779694679,\n",
       " 0.082253230598069549,\n",
       " 1.2860986608847577e-05,\n",
       " 8.3220373911294647e-05,\n",
       " 0.00050088155210677675,\n",
       " 0.00058021453216807308,\n",
       " 6.640182856870017,\n",
       " 1.418497881605391,\n",
       " 156.51072924729843,\n",
       " 0.28148276004189637,\n",
       " 0.17928124567990927,\n",
       " 0.67079025110782864,\n",
       " 0.60855932814302194,\n",
       " 0.16211132570245881,\n",
       " 0.08575347183290005,\n",
       " 0.63004974048442919,\n",
       " 0.1517770312986923,\n",
       " -0.07538703650346489,\n",
       " 0.54262831603229533,\n",
       " 0.18032211148027844,\n",
       " 0.15524219646321916,\n",
       " 0.61917994315888114,\n",
       " 0.15373133896062463,\n",
       " 0.05159195607962442,\n",
       " 0.13644177128396667,\n",
       " 0.49557142914854035,\n",
       " 0.81853193981087524,\n",
       " 1.0204048080395287,\n",
       " 1.6140660814585808,\n",
       " 4.5133660839814818,\n",
       " 2.6566851297958429,\n",
       " 0.0071359883924769539,\n",
       " 0.022495116039376317,\n",
       " 0.076424138523824306,\n",
       " 1.1200511013268804e-05,\n",
       " 7.0124136962829731e-05,\n",
       " 0.00043166195872423109,\n",
       " 0.00050780578077731732,\n",
       " 5.508359001195231,\n",
       " 1.7141662784235085,\n",
       " 379.90886803052911,\n",
       " 0.26041191372681421,\n",
       " 0.14010910320311942,\n",
       " 0.77668906308324004,\n",
       " 0.28305940023068049,\n",
       " 0.068008733766970031,\n",
       " 0.008375752655740129,\n",
       " 0.56049488177623985,\n",
       " 0.054340692259978708,\n",
       " -0.025024635717842116,\n",
       " 0.78716046712802779,\n",
       " 0.036603813474221321,\n",
       " -0.024843291973718692,\n",
       " 0.5178824306516725,\n",
       " 0.055793795494474017,\n",
       " -0.0240386177127256,\n",
       " 0.12491182295354872,\n",
       " 0.45369339635591605,\n",
       " 0.74936227949347378,\n",
       " 0.93417597502090843,\n",
       " 0.081452809533939088,\n",
       " 2.0205929948659356,\n",
       " 1.587441411628451,\n",
       " 0.0012187323936043222,\n",
       " 0.01036422607460858,\n",
       " 0.048781984995880823,\n",
       " 7.7404924924096981e-06,\n",
       " 4.9740304678566822e-05,\n",
       " 0.00030449088661187905,\n",
       " 0.00034825929871930305,\n",
       " 3.8652078451580971,\n",
       " 0.66286887425691976,\n",
       " 16.368014705882352,\n",
       " 0.32691784383420075,\n",
       " 0.19189100261584754,\n",
       " 1.0,\n",
       " 0.18786115916955021,\n",
       " 0.045800484596067434,\n",
       " 0.0205215925837595,\n",
       " 0.48980932814302192,\n",
       " 0.029379191384973032,\n",
       " 0.02138187229184732,\n",
       " 0.71640787197231814,\n",
       " 0.038441382920546607,\n",
       " -0.025600880631670573,\n",
       " 0.44198309724625146,\n",
       " 0.033130962457710925,\n",
       " 0.021318476272286002,\n",
       " 0.10678560998527606,\n",
       " 0.38785700929346978,\n",
       " 0.640620769304035,\n",
       " 0.79861576724647143,\n",
       " 0.047477355907264242,\n",
       " 1.4683910479509399,\n",
       " 1.164703022335505,\n",
       " 0.00089011616738576685,\n",
       " 0.0076928448630855318,\n",
       " 0.035790977407508549,\n",
       " 5.6064052059967006e-06,\n",
       " 3.5820367094242244e-05,\n",
       " 0.00021886662069266373,\n",
       " 0.00025165916355034275,\n",
       " 2.7825649139174624,\n",
       " 0.47582185366071045,\n",
       " 16.368014705882352,\n",
       " 0.38200484407450164,\n",
       " 0.2219228280531518,\n",
       " 1.0,\n",
       " 0.14221849769319495,\n",
       " 0.070212950678853289,\n",
       " 0.09460486293556775,\n",
       " 0.50356581603229533,\n",
       " 0.034484958780994772,\n",
       " 0.03345732653459965,\n",
       " 0.67008181949250289,\n",
       " 0.063035654521259352,\n",
       " -0.0929819303415658,\n",
       " 0.43878531473471749,\n",
       " 0.029349133159284051,\n",
       " 0.033128248240918645,\n",
       " 0.10079459792111749,\n",
       " 0.36609699853765715,\n",
       " 0.6046799083773482,\n",
       " 0.75381088485773529,\n",
       " 0.054493765369591142,\n",
       " 1.4673548784566737,\n",
       " 1.1724421116526176,\n",
       " 0.0010652657978921357,\n",
       " 0.0075805163785885483,\n",
       " 0.035053798046235207,\n",
       " 5.5153424037089481e-06,\n",
       " 3.5456941034403925e-05,\n",
       " 0.00021434503462459541,\n",
       " 0.00024693814274020056,\n",
       " 2.7824302148306761,\n",
       " 0.4804493335773446,\n",
       " 16.653199883342069,\n",
       " 0.40795718371374068,\n",
       " 0.24438106849086885,\n",
       " 0.99981617647058818,\n",
       " 0.33821691176470592,\n",
       " 0.24700780840848616,\n",
       " 0.21927629246150557,\n",
       " 0.65769067185697816,\n",
       " 0.10170975618349458,\n",
       " -0.09423318162139162,\n",
       " 0.64465289792387548,\n",
       " 0.18107783271176803,\n",
       " -0.18544420761358707,\n",
       " 0.58886247433679362,\n",
       " 0.10587393698585541,\n",
       " 0.08537039244160505,\n",
       " 0.12566600046029872,\n",
       " 0.45643265150727819,\n",
       " 0.75388668849046447,\n",
       " 0.93981622981065738,\n",
       " 0.4386297831382443,\n",
       " 3.1309759395889563,\n",
       " 2.2793232593489106,\n",
       " 0.0038540367155407325,\n",
       " 0.017581066900375992,\n",
       " 0.066387087896323138,\n",
       " 1.0074161419222553e-05,\n",
       " 6.4256903845077724e-05,\n",
       " 0.00038739314637684547,\n",
       " 0.00045144966299780594,\n",
       " 5.0671811142860976,\n",
       " 1.1055331885832986,\n",
       " 131.59517907909475,\n",
       " 0.28780668712247337,\n",
       " 0.18157457310949868,\n",
       " 0.89870490286771509,\n",
       " 0.55745602652825832,\n",
       " 0.14307579429527992,\n",
       " -0.0750478270275372,\n",
       " 0.56670523356401381,\n",
       " 0.13474374743629183,\n",
       " 0.02247039381501048,\n",
       " 0.3910539215686275,\n",
       " 0.19003215096069756,\n",
       " 0.1706444905456496,\n",
       " 0.55207531747404848,\n",
       " 0.13692112362683764,\n",
       " 0.05114843340483616,\n",
       " 0.11606462173016836,\n",
       " 0.42155939433456735,\n",
       " 0.69628676815174384,\n",
       " 0.86801055822024054,\n",
       " 0.81120873552784012,\n",
       " 3.1652511646241703,\n",
       " 1.9916908746444706,\n",
       " 0.0070416182995870144,\n",
       " 0.016611926115616637,\n",
       " 0.056524387868140347,\n",
       " 8.9638042112740437e-06,\n",
       " 5.8209725788371824e-05,\n",
       " 0.00035592637778122249,\n",
       " 0.0004061470922697006,\n",
       " 4.5982618095312455,\n",
       " 1.3595916076082397,\n",
       " 341.84414987222016,\n",
       " 0.31937908476168592,\n",
       " 0.18848126322870082,\n",
       " 0.85577374800338246,\n",
       " 0.17055002883506343,\n",
       " 0.10077299341489951,\n",
       " 0.147535928439535,\n",
       " 0.45668829296424462,\n",
       " 0.060925191940985744,\n",
       " 0.08543898517259232,\n",
       " 0.63808787485582452,\n",
       " 0.062936122551240259,\n",
       " -0.0714350794442414,\n",
       " 0.40896282169117643,\n",
       " 0.063976178049844346,\n",
       " 0.08912768415070355,\n",
       " 0.096923267505194324,\n",
       " 0.35203590325230349,\n",
       " 0.58145529347257219,\n",
       " 0.72485843039494458,\n",
       " 0.23936890662041002,\n",
       " 1.5107566822224661,\n",
       " 1.0841689410651143,\n",
       " 0.0016440709741518508,\n",
       " 0.0076433359512680975,\n",
       " 0.031741822663579645,\n",
       " 4.8383326076909342e-06,\n",
       " 3.0664800357854708e-05,\n",
       " 0.00018529783769414496,\n",
       " 0.00021661760704173378,\n",
       " 2.4108481122661387,\n",
       " 0.51237635805641002,\n",
       " 32.421584207704228,\n",
       " 0.42455671080173712,\n",
       " 0.25347253285972982,\n",
       " 0.98924632352941178,\n",
       " 0.25703431372549024,\n",
       " 0.16292980329129633,\n",
       " 0.1563916075524768,\n",
       " 0.44642733564013848,\n",
       " 0.10732026881952884,\n",
       " 0.09050236845992275,\n",
       " 0.43947123702422142,\n",
       " 0.20703985731835955,\n",
       " -0.16759093253877244,\n",
       " 0.40567978377306813,\n",
       " 0.10305401482583228,\n",
       " 0.102707595767403,\n",
       " 0.087548009502122839,\n",
       " 0.31798394127982726,\n",
       " 0.52521190079841262,\n",
       " 0.65474384412916309,\n",
       " 0.36459277968768922,\n",
       " 1.6974487757472976,\n",
       " 1.1355493308666784,\n",
       " 0.0050497495664245046,\n",
       " 0.01044826659799576,\n",
       " 0.032531632903280469,\n",
       " 4.8635058631537711e-06,\n",
       " 3.0654287787162409e-05,\n",
       " 0.00018705398233698803,\n",
       " 0.0002188280163059186,\n",
       " 2.4110620886798735,\n",
       " 0.67909555933556109,\n",
       " 58.338804803481707,\n",
       " 0.40205387791781588,\n",
       " 0.21911325780088972,\n",
       " 0.9804227941176471,\n",
       " 0.41925136966551324,\n",
       " 0.23169472484969655,\n",
       " 0.11662391582763268,\n",
       " 0.49379072952710501,\n",
       " 0.17109609251100927,\n",
       " 0.104560817644828,\n",
       " 0.36898248269896194,\n",
       " 0.23605832088798603,\n",
       " 0.17355941852768653,\n",
       " 0.46895244096020761,\n",
       " 0.17751517183218932,\n",
       " 0.1320518123662481,\n",
       " 0.098202354323640842,\n",
       " 0.3566816864069618,\n",
       " 0.58912870173192378,\n",
       " 0.73442431573314637,\n",
       " 0.85087360023833036,\n",
       " 2.7907234805044374,\n",
       " 1.7254557967893762,\n",
       " 0.0060258272810808436,\n",
       " 0.014915524339367991,\n",
       " 0.04731647366028699,\n",
       " 6.8660784759990713e-06,\n",
       " 4.3442462025416862e-05,\n",
       " 0.00026012198525251964,\n",
       " 0.00030991762825350352,\n",
       " 3.5116428220463152,\n",
       " 1.1478965875482576,\n",
       " 177.51484412547833,\n",
       " 0.34141612565520119,\n",
       " 0.21471154183360125,\n",
       " 0.8606617647058824,\n",
       " 0.57955666089965396,\n",
       " 0.23422409689355497,\n",
       " -0.15949856342982874,\n",
       " 0.58982879181084202,\n",
       " 0.21657237950901401,\n",
       " -0.1504214509785729,\n",
       " 0.51438112745098041,\n",
       " 0.259185508269344,\n",
       " -0.027443891323331655,\n",
       " 0.58220618739186858,\n",
       " 0.22078171575754066,\n",
       " -0.14485696781219537,\n",
       " 0.12897556305773428,\n",
       " 0.46845334466329874,\n",
       " 0.77374118515461043,\n",
       " 0.96456740062258495,\n",
       " 2.364663771476907,\n",
       " 4.9196538418012929,\n",
       " 2.5532416917169449,\n",
       " 0.011963517829551591,\n",
       " 0.024650834135358329,\n",
       " 0.067629761446922815,\n",
       " 1.0332214798771293e-05,\n",
       " 6.7305487311902901e-05,\n",
       " 0.00040934508056139325,\n",
       " 0.00047493124407591377,\n",
       " 5.4924326046490712,\n",
       " 2.3999448724460457,\n",
       " 675.56602273843555,\n",
       " 0.27320201453784754,\n",
       " 0.156916397699677,\n",
       " 0.63823529411764701,\n",
       " 0.6568458044982699,\n",
       " 0.20709531672828441,\n",
       " -0.18934090537225914,\n",
       " 0.65336505190311411,\n",
       " 0.18344181393626233,\n",
       " -0.15958542457979377,\n",
       " 0.54884767877739327,\n",
       " 0.25155577520064198,\n",
       " -0.13593919013185435,\n",
       " 0.64656900922722027,\n",
       " 0.19092938509604507,\n",
       " -0.1617496239992871,\n",
       " 0.14240282718342981,\n",
       " 0.51722263583936712,\n",
       " 0.85429308980765595,\n",
       " 1.0649856577570471,\n",
       " 1.5612266208656136,\n",
       " 4.4665949905141167,\n",
       " 2.9044772584257754,\n",
       " 0.0064198611574125151,\n",
       " 0.027188487592828978,\n",
       " 0.086032768652528735,\n",
       " 1.2536373683514079e-05,\n",
       " 7.835639979855912e-05,\n",
       " 0.0004825099076277091,\n",
       " 0.00056741918831178532,\n",
       " 6.163610755609314,\n",
       " 2.142471121341611,\n",
       " 660.72337930581978,\n",
       " 0.21369236600159733,\n",
       " 0.11282202965408421,\n",
       " 0.56494464944649447]"
      ]
     },
     "execution_count": 73,
     "metadata": {},
     "output_type": "execute_result"
    }
   ],
   "source": [
    "%%time\n",
    "img2features(img3)"
   ]
  },
  {
   "cell_type": "code",
   "execution_count": 74,
   "metadata": {},
   "outputs": [
    {
     "name": "stdout",
     "output_type": "stream",
     "text": [
      "CPU times: user 9.95 s, sys: 1.35 s, total: 11.3 s\n",
      "Wall time: 11.3 s\n"
     ]
    },
    {
     "data": {
      "text/plain": [
       "[0.81673735324850927,\n",
       " 0.054298281801669693,\n",
       " 0.035124759492176305,\n",
       " 0.96246235171184469,\n",
       " 0.026237035882305252,\n",
       " -0.020276724217614804,\n",
       " 0.99912717438072418,\n",
       " 0.0019353877091763691,\n",
       " -0.0025045845685772567,\n",
       " 0.93413932325281201,\n",
       " 0.029813868387105848,\n",
       " -0.01693685717628016,\n",
       " 0.21281825987253203,\n",
       " 0.77297918519709596,\n",
       " 1.2767244330042662,\n",
       " 1.5916003843172404,\n",
       " 0.18296532320788497,\n",
       " 6.707893197083119,\n",
       " 5.435674269817115,\n",
       " 0.0038419650335373666,\n",
       " 0.036976780108245587,\n",
       " 0.16574109687509053,\n",
       " 2.4933355775313042e-05,\n",
       " 0.00015690014382957471,\n",
       " 0.00094867663625943345,\n",
       " 0.0011108258379007206,\n",
       " 12.228906481992807,\n",
       " 2.0919484929433252,\n",
       " 1,\n",
       " 0.17941079766345774,\n",
       " 0.10305337484065051,\n",
       " 1,\n",
       " 0.8062972524432972,\n",
       " 0.05357568388707664,\n",
       " 0.038924057393843886,\n",
       " 0.95951195525232047,\n",
       " 0.026121322686096005,\n",
       " -0.01678629013566275,\n",
       " 0.99927162087405486,\n",
       " 0.0018532840324756376,\n",
       " -0.0025383266799542336,\n",
       " 0.92982050279673001,\n",
       " 0.029710682228399513,\n",
       " -0.01022289803982617,\n",
       " 0.21180361991194768,\n",
       " 0.76929390193957503,\n",
       " 1.2706374758551839,\n",
       " 1.5840122133013481,\n",
       " 0.1801324405639059,\n",
       " 6.6446400972964224,\n",
       " 5.3816714241472683,\n",
       " 0.0038052809588513389,\n",
       " 0.036935090254504269,\n",
       " 0.16491445031726104,\n",
       " 2.4703594082716649e-05,\n",
       " 0.00015487766878796973,\n",
       " 0.00093882588053262469,\n",
       " 0.001100705240022457,\n",
       " 12.038728988193213,\n",
       " 2.0656749401473498,\n",
       " 1,\n",
       " 0.17944310781561273,\n",
       " 0.10246683920337013,\n",
       " 1,\n",
       " 0.78505747126436787,\n",
       " 0.048781164924554928,\n",
       " 0.0339075264598077,\n",
       " 0.93988567213719354,\n",
       " 0.029972477154734996,\n",
       " -0.016986411977810277,\n",
       " 0.99993546007744794,\n",
       " 0.00058766531193115681,\n",
       " -0.0012723420121490677,\n",
       " 0.91131426916221048,\n",
       " 0.031648413768646119,\n",
       " -0.00921704661119759,\n",
       " 0.20872415231927433,\n",
       " 0.75810893899488441,\n",
       " 1.252163349064624,\n",
       " 1.5609818501786734,\n",
       " 0.17325686397488574,\n",
       " 6.4039633651027827,\n",
       " 5.1767941895700931,\n",
       " 0.0036564031196222348,\n",
       " 0.035836022853978702,\n",
       " 0.15932374842028393,\n",
       " 2.3733702491102085e-05,\n",
       " 0.00014834257325197419,\n",
       " 0.00090002626856629491,\n",
       " 0.0010570606278451913,\n",
       " 11.508242377420137,\n",
       " 1.982339639506725,\n",
       " 1,\n",
       " 0.18210315246239867,\n",
       " 0.10361539373670685,\n",
       " 1,\n",
       " 0.75473907431311082,\n",
       " 0.048482122912651131,\n",
       " 0.04584756916397408,\n",
       " 0.91167250599299299,\n",
       " 0.031186115228768931,\n",
       " 0.015979713090067887,\n",
       " 1.0,\n",
       " 0.0,\n",
       " 0.0,\n",
       " 0.88469256407892305,\n",
       " 0.032274342047768162,\n",
       " 0.021303486258294816,\n",
       " 0.20424561157444382,\n",
       " 0.74184238941458158,\n",
       " 1.2252960003862059,\n",
       " 1.5274882619173655,\n",
       " 0.16861910068088745,\n",
       " 6.0346712803437432,\n",
       " 4.8778336673553877,\n",
       " 0.0034896687010527658,\n",
       " 0.033656184209341078,\n",
       " 0.14992849064106981,\n",
       " 2.2367864527292058e-05,\n",
       " 0.00013999771435860419,\n",
       " 0.0008485011016534337,\n",
       " 0.00099618535220015979,\n",
       " 10.870530205299604,\n",
       " 1.8812033357601625,\n",
       " 1,\n",
       " 0.18813608586850594,\n",
       " 0.10706431150493775,\n",
       " 1,\n",
       " 0.77383367139959425,\n",
       " 0.12841792046556219,\n",
       " 0.10024379533076423,\n",
       " 0.88268486077816721,\n",
       " 0.089012758179409776,\n",
       " -0.09733413455149811,\n",
       " 0.97234925318089616,\n",
       " 0.098402406065289813,\n",
       " -0.14811384599087843,\n",
       " 0.86601878572745716,\n",
       " 0.093939859261436345,\n",
       " -0.09105268971618512,\n",
       " 0.2013697782197954,\n",
       " 0.73139704828376617,\n",
       " 1.2080435018866429,\n",
       " 1.50598081478746,\n",
       " 0.44375814632159738,\n",
       " 5.9495354922381161,\n",
       " 4.591321785515361,\n",
       " 0.0034732400223144088,\n",
       " 0.033025104759609257,\n",
       " 0.14480904661045318,\n",
       " 2.1552573096099121e-05,\n",
       " 0.00013548182825533851,\n",
       " 0.00083056914009505402,\n",
       " 0.00096876792522954504,\n",
       " 10.456481754666427,\n",
       " 1.8931816450493988,\n",
       " 22.350805812702582,\n",
       " 0.18359903143347597,\n",
       " 0.10157347704944897,\n",
       " 0.90217391304347827,\n",
       " 0.82149179420984697,\n",
       " 0.1579008045352332,\n",
       " -0.12043004863487107,\n",
       " 0.90017210646013901,\n",
       " 0.11979338588826732,\n",
       " -0.11983229574262094,\n",
       " 0.95053168602864357,\n",
       " 0.12043965169395708,\n",
       " -0.17095939691067236,\n",
       " 0.88708346579384112,\n",
       " 0.12501677457091784,\n",
       " -0.12220924691690896,\n",
       " 0.20468866317668974,\n",
       " 0.74345160126854393,\n",
       " 1.2279539245985558,\n",
       " 1.5308017045746967,\n",
       " 0.27095101880756439,\n",
       " 5.8177142230701513,\n",
       " 4.3945253884192415,\n",
       " 0.0035506158053310384,\n",
       " 0.027478414486627783,\n",
       " 0.13544772561148022,\n",
       " 2.2803895209456218e-05,\n",
       " 0.00015134878523049674,\n",
       " 0.00093083619034162938,\n",
       " 0.0010403730550629926,\n",
       " 11.835299933063466,\n",
       " 1.9952310173777503,\n",
       " 20.308606142569058,\n",
       " 0.20085288292645542,\n",
       " 0.11814711196949795,\n",
       " 0.91803278688524592,\n",
       " 0.73353924641957102,\n",
       " 0.18462326641236473,\n",
       " 0.10590103302209568,\n",
       " 0.7873225152129818,\n",
       " 0.18008288417492418,\n",
       " 0.10166189902170482,\n",
       " 0.73889913332103996,\n",
       " 0.23056511218315451,\n",
       " 0.12135512227575149,\n",
       " 0.77240224475997299,\n",
       " 0.18433974730025077,\n",
       " 0.10412541176641713,\n",
       " 0.173096400199686,\n",
       " 0.62870504846271924,\n",
       " 1.0384278281968493,\n",
       " 1.2945331723265521,\n",
       " 0.55998528177965345,\n",
       " 4.7285762422267323,\n",
       " 3.1580652795937763,\n",
       " 0.0028962924742891023,\n",
       " 0.019755163502723154,\n",
       " 0.09979355670458348,\n",
       " 1.776051224389571e-05,\n",
       " 0.00011978268613910534,\n",
       " 0.0007512443214980403,\n",
       " 0.00082508474865338182,\n",
       " 9.3057506467282227,\n",
       " 1.6784367418868276,\n",
       " 21.034099227015169,\n",
       " 0.23531625244996032,\n",
       " 0.14167824349429423,\n",
       " 0.95297372060857533,\n",
       " 0.61405433646812957,\n",
       " 0.10631662464175086,\n",
       " 0.12793500287869097,\n",
       " 0.66761017886778529,\n",
       " 0.11583859768678557,\n",
       " 0.14811003807653872,\n",
       " 0.58779888130800906,\n",
       " 0.15268596375833346,\n",
       " 0.18978133561685112,\n",
       " 0.65047516780379855,\n",
       " 0.11599230091684935,\n",
       " 0.14698798714272227,\n",
       " 0.14319983365797551,\n",
       " 0.52011745048382441,\n",
       " 0.85907443535532224,\n",
       " 1.0709462168366379,\n",
       " 0.61102433259200584,\n",
       " 2.9459042384717269,\n",
       " 2.2730239996018797,\n",
       " 0.0021095720478259499,\n",
       " 0.014290313217995142,\n",
       " 0.067263617138302353,\n",
       " 1.2275947377651797e-05,\n",
       " 8.40081377881012e-05,\n",
       " 0.00052521970306629176,\n",
       " 0.00057479478076473498,\n",
       " 6.7766703802124653,\n",
       " 1.286138768695527,\n",
       " 16.269541184173082,\n",
       " 0.28327502418881995,\n",
       " 0.17356251079530449,\n",
       " 0.98223801065719363,\n",
       " 0.62087405495113412,\n",
       " 0.11131422769650828,\n",
       " 0.11302370746361043,\n",
       " 0.68085622963919112,\n",
       " 0.12716925277240618,\n",
       " 0.14192357729599703,\n",
       " 0.6122502919663162,\n",
       " 0.18059509745623714,\n",
       " 0.20310796329778177,\n",
       " 0.66316352941176471,\n",
       " 0.12720002600276997,\n",
       " 0.14065924109306122,\n",
       " 0.14660982433758724,\n",
       " 0.53250290941312417,\n",
       " 0.87953141315214933,\n",
       " 1.0964484574781552,\n",
       " 0.49112243668501671,\n",
       " 3.1962353891294328,\n",
       " 2.2887849456119498,\n",
       " 0.0022016720019421253,\n",
       " 0.013113176375530155,\n",
       " 0.067566048503798382,\n",
       " 1.2834975690253859e-05,\n",
       " 8.9070043495203396e-05,\n",
       " 0.00055518178311544681,\n",
       " 0.00060025758996450572,\n",
       " 7.1066337671679802,\n",
       " 1.2724777401983591,\n",
       " 17.707736661265205,\n",
       " 0.28165230673598196,\n",
       " 0.17809436087760175,\n",
       " 0.95829471733086191,\n",
       " 0.59759358288770048,\n",
       " 0.074052945777169546,\n",
       " 0.08553235621894159,\n",
       " 0.64631507775524011,\n",
       " 0.085392432505621202,\n",
       " 0.11413399361751948,\n",
       " 0.57041920216362407,\n",
       " 0.13173038573488541,\n",
       " 0.17450685365457225,\n",
       " 0.63048966746573232,\n",
       " 0.08569474948458658,\n",
       " 0.11279534012209455,\n",
       " 0.13897648310277147,\n",
       " 0.50477777956969383,\n",
       " 0.8337380058299303,\n",
       " 1.0393611152067437,\n",
       " 0.39159831122743244,\n",
       " 2.9854989752440284,\n",
       " 2.2304312987236181,\n",
       " 0.0020750546851215812,\n",
       " 0.014365087291909436,\n",
       " 0.06776176244814644,\n",
       " 1.1461390679972254e-05,\n",
       " 7.4748675954613433e-05,\n",
       " 0.00046735739346579906,\n",
       " 0.00052451477641831865,\n",
       " 5.8189381517913166,\n",
       " 1.0705595495702662,\n",
       " 16.447832896485444,\n",
       " 0.2729708447207117,\n",
       " 0.16342515638646335,\n",
       " 0.96284062758051192,\n",
       " 0.42473108365603296,\n",
       " 0.10862629416541351,\n",
       " -0.06271301061479133,\n",
       " 0.61245927838219927,\n",
       " 0.11224252927703321,\n",
       " -0.1142187270656879,\n",
       " 0.76756407892310541,\n",
       " 0.15227407695230555,\n",
       " -0.14634027395398885,\n",
       " 0.5837500931218883,\n",
       " 0.10855607125955059,\n",
       " -0.10459661821208613,\n",
       " 0.13824316443055337,\n",
       " 0.50211428598565411,\n",
       " 0.82933873169554939,\n",
       " 1.033876857036337,\n",
       " 0.42114644886406111,\n",
       " 2.8620404219933384,\n",
       " 2.0604607860786257,\n",
       " 0.0019685269107283096,\n",
       " 0.015909059081087803,\n",
       " 0.066330841936630636,\n",
       " 9.9216859055720541e-06,\n",
       " 6.1544675747462712e-05,\n",
       " 0.00038825532133740439,\n",
       " 0.0004515010860068479,\n",
       " 4.7029914958792123,\n",
       " 0.99294677188977409,\n",
       " 16.73589211385773,\n",
       " 0.26231008688206831,\n",
       " 0.14449661159322649,\n",
       " 0.96554694229112836,\n",
       " 0.31415882967607106,\n",
       " 0.10948379676553176,\n",
       " 0.10277090594054202,\n",
       " 0.47936873809084768,\n",
       " 0.077366464116864112,\n",
       " -0.06930749878167458,\n",
       " 0.57956850451779451,\n",
       " 0.12222848050277242,\n",
       " 0.0604470839838681,\n",
       " 0.45148603571209051,\n",
       " 0.073979648456983058,\n",
       " -0.05650557494503221,\n",
       " 0.10517837872651883,\n",
       " 0.3820193696587823,\n",
       " 0.63097877984894157,\n",
       " 0.78659579353437437,\n",
       " 0.35424227009977499,\n",
       " 1.7832366709608394,\n",
       " 1.2030153585340964,\n",
       " 0.0012578100216512119,\n",
       " 0.0087506639484459334,\n",
       " 0.037425498523738554,\n",
       " 5.8731002180837033e-06,\n",
       " 3.7794289187063088e-05,\n",
       " 0.00023450869568011849,\n",
       " 0.00026910972538363913,\n",
       " 2.9451055953096033,\n",
       " 0.64630373626924709,\n",
       " 15.802507836990596,\n",
       " 0.37369335888937355,\n",
       " 0.22375088963428164,\n",
       " 1.0,\n",
       " 0.26278812465425039,\n",
       " 0.11608225669097356,\n",
       " 0.12350924519274384,\n",
       " 0.4648902821316615,\n",
       " 0.08646193151350183,\n",
       " -0.08908148023895429,\n",
       " 0.54632122441453068,\n",
       " 0.11275696896160843,\n",
       " -0.07044520081848929,\n",
       " 0.42781474460630642,\n",
       " 0.07945972665653929,\n",
       " -0.07186628605928765,\n",
       " 0.097587647661744589,\n",
       " 0.35444900461109036,\n",
       " 0.58544099648124936,\n",
       " 0.72982711923364063,\n",
       " 0.6969286075438007,\n",
       " 1.7822107689465101,\n",
       " 1.1289262543732299,\n",
       " 0.0020424988132955223,\n",
       " 0.0078482836775072666,\n",
       " 0.032329050155379027,\n",
       " 5.2546980431169105e-06,\n",
       " 3.4565089591386188e-05,\n",
       " 0.00021122047023485152,\n",
       " 0.00024155231102059393,\n",
       " 2.7881664221732851,\n",
       " 0.83757564056268552,\n",
       " 15.802507836990596,\n",
       " 0.40718838520183243,\n",
       " 0.24193120982833627,\n",
       " 1.0,\n",
       " 0.49890282131661434,\n",
       " 0.25153631608991545,\n",
       " 0.20807823637753892,\n",
       " 0.67278873932017946,\n",
       " 0.15496851838343406,\n",
       " 0.057459812626494695,\n",
       " 0.6828262339418526,\n",
       " 0.15825993610560152,\n",
       " -0.08609797238171624,\n",
       " 0.63656168510664446,\n",
       " 0.16436878370969746,\n",
       " 0.1251352668106245,\n",
       " 0.14205500903422835,\n",
       " 0.51595932229790231,\n",
       " 0.85220648347228889,\n",
       " 1.0623844359433079,\n",
       " 1.2250517679901858,\n",
       " 3.9469529902927887,\n",
       " 2.7273695957452952,\n",
       " 0.0026273089202178352,\n",
       " 0.018701850308351625,\n",
       " 0.073871226657713424,\n",
       " 1.1980819805352754e-05,\n",
       " 7.9942584961098726e-05,\n",
       " 0.00047238629161973616,\n",
       " 0.00054591042733177721,\n",
       " 6.637153795617718,\n",
       " 1.6294653568013753,\n",
       " 56.442360190734213,\n",
       " 0.29791933218221156,\n",
       " 0.18931765773277798,\n",
       " 0.7170846394984326,\n",
       " 0.61621796053844746,\n",
       " 0.14794628626317988,\n",
       " 0.12828988938831828,\n",
       " 0.64039584485831946,\n",
       " 0.13531377835143221,\n",
       " 0.0954926647686989,\n",
       " 0.55271989673612387,\n",
       " 0.165716393578066,\n",
       " 0.15955458953542873,\n",
       " 0.6289366085807363,\n",
       " 0.13831221509162078,\n",
       " 0.11062988570296836,\n",
       " 0.13859393323363614,\n",
       " 0.50338831662456596,\n",
       " 0.83144303938743291,\n",
       " 1.0365001458562171,\n",
       " 2.0102310801718111,\n",
       " 4.9117164274609948,\n",
       " 2.7352032899598075,\n",
       " 0.0060601725049274384,\n",
       " 0.024885640115577413,\n",
       " 0.08256659245585124,\n",
       " 1.1440767991100921e-05,\n",
       " 6.9626452485045228e-05,\n",
       " 0.00043150336517968626,\n",
       " 0.00051529958974726826,\n",
       " 5.3169218854617046,\n",
       " 1.8579730738162306,\n",
       " 76.820496646883171,\n",
       " 0.25572064514652693,\n",
       " 0.13510895020125938,\n",
       " 0.79623824451410663,\n",
       " 0.2978640358964903,\n",
       " 0.065446272648023662,\n",
       " 0.011428910927940192,\n",
       " 0.57236461982912279,\n",
       " 0.051215924549177706,\n",
       " -0.026926896182798997,\n",
       " 0.79564509189255628,\n",
       " 0.033354373447239197,\n",
       " -0.0196597854375984,\n",
       " 0.530131767779212,\n",
       " 0.052836024339353839,\n",
       " -0.025251801385329523,\n",
       " 0.12760498225445704,\n",
       " 0.46347524535359858,\n",
       " 0.76551889257498906,\n",
       " 0.95431726074010848,\n",
       " 0.072829280103572869,\n",
       " 2.0226854772905116,\n",
       " 1.577610140647848,\n",
       " 0.0012543594874993684,\n",
       " 0.010143216345077585,\n",
       " 0.04922884614422212,\n",
       " 8.0898330079668737e-06,\n",
       " 5.2535088832786109e-05,\n",
       " 0.00032614304756857433,\n",
       " 0.00036746376790125349,\n",
       " 4.0653613779887694,\n",
       " 0.68242203349092889,\n",
       " 15.802507836990596,\n",
       " 0.32234971888610808,\n",
       " 0.1881102072654752,\n",
       " 1.0,\n",
       " 0.19836498862868032,\n",
       " 0.044813754721762661,\n",
       " -0.008276013534572052,\n",
       " 0.49591861823099143,\n",
       " 0.028984517626897622,\n",
       " 0.02018166252334652,\n",
       " 0.72498002335730527,\n",
       " 0.034738318498646233,\n",
       " -0.02370906827468882,\n",
       " 0.44920379925010756,\n",
       " 0.032455607947755975,\n",
       " 0.018864400402192897,\n",
       " 0.10871478742441733,\n",
       " 0.39486399265054273,\n",
       " 0.65219415578707629,\n",
       " 0.81304347450897629,\n",
       " 0.046101046316937275,\n",
       " 1.4773121285208131,\n",
       " 1.1570975264727525,\n",
       " 0.00089815882476296585,\n",
       " 0.0076094912422052675,\n",
       " 0.03613244227045237,\n",
       " 5.7859419638252106e-06,\n",
       " 3.7079000467792595e-05,\n",
       " 0.00022957354514846075,\n",
       " 0.00026138924245667014,\n",
       " 2.8604878087653431,\n",
       " 0.48688486584534668,\n",
       " 15.802507836990596,\n",
       " 0.37952310513384813,\n",
       " 0.21855327468165764,\n",
       " 1.0,\n",
       " 0.14403774048804477,\n",
       " 0.048244498263988841,\n",
       " 0.027427945273511473,\n",
       " 0.49879218144938231,\n",
       " 0.028683792917532622,\n",
       " 0.02868439042587566,\n",
       " 0.68101911611039412,\n",
       " 0.038023615431288842,\n",
       " -0.0474022392877006,\n",
       " 0.43654542473415697,\n",
       " 0.02303688108956186,\n",
       " 0.01972912863403518,\n",
       " 0.10140608389393221,\n",
       " 0.36831798243870539,\n",
       " 0.60834829229515897,\n",
       " 0.75838399484332364,\n",
       " 0.047403950743458774,\n",
       " 1.4309376369695193,\n",
       " 1.1418320047074852,\n",
       " 0.00087091816123983771,\n",
       " 0.006995765413188415,\n",
       " 0.033600004609944903,\n",
       " 5.452093233198233e-06,\n",
       " 3.5583692422172952e-05,\n",
       " 0.0002142417325748489,\n",
       " 0.000244529197267602,\n",
       " 2.8107220138762603,\n",
       " 0.47451982652256541,\n",
       " 15.802507836990596,\n",
       " 0.41327318087960285,\n",
       " 0.24532698840540135,\n",
       " 1.0,\n",
       " 0.2814893355461307,\n",
       " 0.2093870315267837,\n",
       " 0.208969157031148,\n",
       " 0.65437949474460622,\n",
       " 0.072684978509642367,\n",
       " -0.06498350048338425,\n",
       " 0.66782531194295902,\n",
       " 0.14836694058601607,\n",
       " -0.16856685329052715,\n",
       " 0.57610977933493135,\n",
       " 0.075382552657026411,\n",
       " 0.060305688783853756,\n",
       " 0.12284205982229876,\n",
       " 0.44617579039623567,\n",
       " 0.73694550115038526,\n",
       " 0.91869687187857474,\n",
       " 0.40161096645267769,\n",
       " 2.9571433635553221,\n",
       " 2.118162617889531,\n",
       " 0.0021488690853784455,\n",
       " 0.014449254769383886,\n",
       " 0.060281049604415861,\n",
       " 9.5567728918915663e-06,\n",
       " 6.2979378621048218e-05,\n",
       " 0.00037240203801110043,\n",
       " 0.00042700900923060944,\n",
       " 5.0203240479534861,\n",
       " 1.0070812531421509,\n",
       " 33.283508929482629,\n",
       " 0.31152995765763275,\n",
       " 0.19577105486860014,\n",
       " 0.95758051846032988,\n",
       " 0.57273034605691808,\n",
       " 0.12129659474451573,\n",
       " 0.06468541625471723,\n",
       " 0.58318581351035714,\n",
       " 0.12388922074057664,\n",
       " 0.06998574332426823,\n",
       " 0.42224475997295469,\n",
       " 0.19071492405280968,\n",
       " 0.17040731985473517,\n",
       " 0.56936017671645467,\n",
       " 0.12411297732347354,\n",
       " 0.07237975667646394,\n",
       " 0.12088622947599541,\n",
       " 0.43907200076665776,\n",
       " 0.72521222040921363,\n",
       " 0.90406983596211898,\n",
       " 0.74110112308856713,\n",
       " 3.0017251026081992,\n",
       " 1.8771064926606302,\n",
       " 0.0061657488253821944,\n",
       " 0.013422917587513409,\n",
       " 0.055031912412698433,\n",
       " 9.4491594248865448e-06,\n",
       " 6.3023159251516782e-05,\n",
       " 0.00039054791715521645,\n",
       " 0.00043372345970957803,\n",
       " 4.9974135914940065,\n",
       " 1.4871484106576502,\n",
       " 57.679021610347206,\n",
       " 0.31435974118167398,\n",
       " 0.18410808448375957,\n",
       " 0.85784313725490191,\n",
       " 0.15993914807302229,\n",
       " 0.04992714911987594,\n",
       " 0.08072762030512246,\n",
       " 0.45258159690208372,\n",
       " 0.031130023288495203,\n",
       " 0.04557216108112538,\n",
       " 0.65553814002089872,\n",
       " 0.049835054018026591,\n",
       " -0.0400304756258147,\n",
       " 0.40502824328477477,\n",
       " 0.033326617592719598,\n",
       " 0.046987830721520824,\n",
       " 0.09713258987895998,\n",
       " 0.35279618499698767,\n",
       " 0.58271104562992926,\n",
       " 0.72642388615390108,\n",
       " 0.11965484467359634,\n",
       " 1.2878889076504039,\n",
       " 0.97400591176981777,\n",
       " 0.00082801194345702759,\n",
       " 0.0060888145961998591,\n",
       " 0.028749573318378879,\n",
       " 4.6921806798330642e-06,\n",
       " 3.0217002008433925e-05,\n",
       " 0.00018512121039789434,\n",
       " 0.00021149626286588928,\n",
       " 2.3533453097867612,\n",
       " 0.43455739377753999,\n",
       " 15.802507836990596,\n",
       " 0.43042991962204524,\n",
       " 0.25323940618286017,\n",
       " 1.0,\n",
       " 0.23048128342245988,\n",
       " 0.14129440691801248,\n",
       " 0.1452562905157469,\n",
       " 0.44979716024340777,\n",
       " 0.083045685660834118,\n",
       " 0.07967657434543508,\n",
       " 0.48412932571147582,\n",
       " 0.19223694639461289,\n",
       " -0.18137491300443473,\n",
       " 0.40566788554920402,\n",
       " 0.078424969326917685,\n",
       " 0.08956712386568824,\n",
       " 0.089192973333537234,\n",
       " 0.32395862974334216,\n",
       " 0.53508025286667404,\n",
       " 0.66704600780551315,\n",
       " 0.35978898012247729,\n",
       " 1.6795243941804956,\n",
       " 1.1169272547426872,\n",
       " 0.0021229884967559664,\n",
       " 0.0091458449465966832,\n",
       " 0.033556331187895,\n",
       " 4.759521477563967e-06,\n",
       " 2.9776095595540535e-05,\n",
       " 0.00018001861321797165,\n",
       " 0.00021378040443109653,\n",
       " 2.32928035588467,\n",
       " 0.52529288865013946,\n",
       " 19.896808109621968,\n",
       " 0.4076909684516421,\n",
       " 0.22670088711591943,\n",
       " 0.99451410658307215,\n",
       " 0.35711475812895693,\n",
       " 0.20849241446283667,\n",
       " 0.14820970204644598,\n",
       " 0.46887331735201915,\n",
       " 0.14018542815843318,\n",
       " 0.10867295738502927,\n",
       " 0.35858073636978305,\n",
       " 0.22063167721432209,\n",
       " 0.16265524615813307,\n",
       " 0.43717252842829923,\n",
       " 0.14347869578948755,\n",
       " 0.13422994490957374,\n",
       " 0.090737297728304508,\n",
       " 0.32956778477103399,\n",
       " 0.54434485585923609,\n",
       " 0.67859552099906184,\n",
       " 1.0225746321686815,\n",
       " 3.0825548592703123,\n",
       " 1.577755846680843,\n",
       " 0.0047184968050605573,\n",
       " 0.012816264388431319,\n",
       " 0.040886667776700553,\n",
       " 5.6228368907428856e-06,\n",
       " 3.4700733608911449e-05,\n",
       " 0.00020411198292899466,\n",
       " 0.00025468084801436123,\n",
       " 2.8307029673688087,\n",
       " 0.9696893712153869,\n",
       " 27.563641917592687,\n",
       " 0.38599187675088042,\n",
       " 0.25038204496620731,\n",
       " 0.93459416863672184,\n",
       " 0.57580674903190121,\n",
       " 0.21992678328857845,\n",
       " -0.13259150191638194,\n",
       " 0.58695986231483188,\n",
       " 0.20158964540162552,\n",
       " -0.11680501756413807,\n",
       " 0.51341201057225394,\n",
       " 0.24787293524578449,\n",
       " 0.10106878469817746,\n",
       " 0.57928702563156931,\n",
       " 0.206873498608312,\n",
       " -0.11120174795604658,\n",
       " 0.12839432976903944,\n",
       " 0.46634224181820172,\n",
       " 0.77025429102532683,\n",
       " 0.96022054088310116,\n",
       " 3.0443166724323416,\n",
       " 5.3177470551531023,\n",
       " 2.4241635659814444,\n",
       " 0.015041722326801414,\n",
       " 0.024144328336218844,\n",
       " 0.064442629890252276,\n",
       " 9.8118832570027746e-06,\n",
       " 6.3618181021313526e-05,\n",
       " 0.0003934287316970418,\n",
       " 0.00045853106741282552,\n",
       " 5.251378572182003,\n",
       " 2.7892272367697206,\n",
       " 150.43397504441751,\n",
       " 0.26889769356036392,\n",
       " 0.16689687305843295,\n",
       " 0.68217665615141954,\n",
       " 0.65401069518716581,\n",
       " 0.18831230659822137,\n",
       " -0.1649200553027865,\n",
       " 0.64468313971356561,\n",
       " 0.16749001062381144,\n",
       " -0.1323893683454259,\n",
       " 0.53974429897350784,\n",
       " 0.23166006047568749,\n",
       " -0.0782276504745558,\n",
       " 0.63909915483434754,\n",
       " 0.17448946226741976,\n",
       " -0.13482638368879832,\n",
       " 0.14082331616327706,\n",
       " 0.51148567914167276,\n",
       " 0.84481739767092223,\n",
       " 1.0531729949328446,\n",
       " 2.5368378177268509,\n",
       " 5.1603781455775133,\n",
       " 3.0117517848800839,\n",
       " 0.0055805842595409855,\n",
       " 0.031273920276876026,\n",
       " 0.090465312133961404,\n",
       " 1.2005423420441505e-05,\n",
       " 7.2249325253142594e-05,\n",
       " 0.00044048276673859548,\n",
       " 0.00053679415034582265,\n",
       " 5.6024732272200541,\n",
       " 2.508734857151401,\n",
       " 165.81206597659673,\n",
       " 0.21999205177844167,\n",
       " 0.11721814527826593,\n",
       " 0.61575178997613367]"
      ]
     },
     "execution_count": 74,
     "metadata": {},
     "output_type": "execute_result"
    }
   ],
   "source": [
    "%%time\n",
    "img2features(img4)"
   ]
  },
  {
   "cell_type": "code",
   "execution_count": null,
   "metadata": {},
   "outputs": [],
   "source": []
  },
  {
   "cell_type": "code",
   "execution_count": null,
   "metadata": {},
   "outputs": [],
   "source": []
  },
  {
   "cell_type": "code",
   "execution_count": null,
   "metadata": {},
   "outputs": [],
   "source": []
  },
  {
   "cell_type": "code",
   "execution_count": null,
   "metadata": {},
   "outputs": [],
   "source": []
  },
  {
   "cell_type": "code",
   "execution_count": null,
   "metadata": {},
   "outputs": [],
   "source": []
  },
  {
   "cell_type": "markdown",
   "metadata": {},
   "source": [
    "# Try and Error"
   ]
  },
  {
   "cell_type": "code",
   "execution_count": 55,
   "metadata": {},
   "outputs": [
    {
     "name": "stdout",
     "output_type": "stream",
     "text": [
      "CPU times: user 33.5 s, sys: 5.93 s, total: 39.4 s\n",
      "Wall time: 39.5 s\n"
     ]
    }
   ],
   "source": [
    "%%time\n",
    "features = img2features(imreadf(target))"
   ]
  },
  {
   "cell_type": "code",
   "execution_count": 113,
   "metadata": {},
   "outputs": [
    {
     "name": "stderr",
     "output_type": "stream",
     "text": [
      "/usr/local/lib/python3.5/dist-packages/ipykernel_launcher.py:9: DeprecationWarning: `imresize` is deprecated!\n",
      "`imresize` is deprecated in SciPy 1.0.0, and will be removed in 1.2.0.\n",
      "Use ``skimage.transform.resize`` instead.\n",
      "  if __name__ == '__main__':\n"
     ]
    },
    {
     "name": "stdout",
     "output_type": "stream",
     "text": [
      "CPU times: user 47.7 s, sys: 5.14 s, total: 52.8 s\n",
      "Wall time: 53 s\n"
     ]
    }
   ],
   "source": [
    "%%time\n",
    "features = img2features(im_normalized_read(sfiles[0]))"
   ]
  },
  {
   "cell_type": "code",
   "execution_count": null,
   "metadata": {},
   "outputs": [],
   "source": []
  },
  {
   "cell_type": "code",
   "execution_count": null,
   "metadata": {},
   "outputs": [],
   "source": []
  },
  {
   "cell_type": "code",
   "execution_count": 51,
   "metadata": {},
   "outputs": [],
   "source": [
    "img = img_as_float(imread(current))"
   ]
  },
  {
   "cell_type": "code",
   "execution_count": 52,
   "metadata": {},
   "outputs": [],
   "source": [
    "img_gray = color.rgb2gray(img)\n",
    "img_binary = gray2binary(img_gray)"
   ]
  },
  {
   "cell_type": "code",
   "execution_count": 54,
   "metadata": {},
   "outputs": [],
   "source": [
    "tile, tile_gray, tile_binary = get_tile(0, 0, img, img_gray, img_binary)"
   ]
  },
  {
   "cell_type": "code",
   "execution_count": null,
   "metadata": {},
   "outputs": [],
   "source": [
    "plt.imshow(tile)"
   ]
  },
  {
   "cell_type": "code",
   "execution_count": 68,
   "metadata": {},
   "outputs": [
    {
     "data": {
      "text/plain": [
       "300"
      ]
     },
     "execution_count": 68,
     "metadata": {},
     "output_type": "execute_result"
    }
   ],
   "source": [
    "12*25"
   ]
  },
  {
   "cell_type": "code",
   "execution_count": 73,
   "metadata": {},
   "outputs": [
    {
     "name": "stdout",
     "output_type": "stream",
     "text": [
      "CPU times: user 12.6 s, sys: 224 ms, total: 12.9 s\n",
      "Wall time: 12.9 s\n"
     ]
    },
    {
     "data": {
      "text/plain": [
       "[0.17663780645996785,\n",
       " 0.13388818483650991,\n",
       " 0.1790562405637444,\n",
       " 0.45921783616722056,\n",
       " 0.090448400108927296,\n",
       " 0.11253255424775142,\n",
       " 0.63165575190198975,\n",
       " 0.088668042624445692,\n",
       " -0.09102980116409842,\n",
       " 0.41160235357890612,\n",
       " 0.09373136354096151,\n",
       " 0.11749422601024906,\n",
       " 0.097090652420371001,\n",
       " 0.35264386356278243,\n",
       " 0.58245945735893301,\n",
       " 0.72611024917911826,\n",
       " 273.35018381574099,\n",
       " 794.23802365940526,\n",
       " 464.83319261295327,\n",
       " 1.1750594168455939,\n",
       " 3.7270755304671992,\n",
       " 13.024348483947417,\n",
       " 0.001985955569492534,\n",
       " 0.012673008714971427,\n",
       " 0.076911421205177827,\n",
       " 0.089302055473045455,\n",
       " 1004.2187080765877,\n",
       " 308.1145322332207,\n",
       " 629.54282139382224,\n",
       " 0.41377645651392486,\n",
       " 0.24935690943121971,\n",
       " 0.96715652529606022]"
      ]
     },
     "execution_count": 73,
     "metadata": {},
     "output_type": "execute_result"
    }
   ],
   "source": [
    "%%time\n",
    "get_tile_features(4, 0, img, img_gray, img_binary)"
   ]
  },
  {
   "cell_type": "code",
   "execution_count": null,
   "metadata": {},
   "outputs": [],
   "source": []
  },
  {
   "cell_type": "code",
   "execution_count": 98,
   "metadata": {},
   "outputs": [
    {
     "name": "stdout",
     "output_type": "stream",
     "text": [
      "CPU times: user 2.39 s, sys: 0 ns, total: 2.39 s\n",
      "Wall time: 2.4 s\n"
     ]
    },
    {
     "data": {
      "text/plain": [
       "[0.35055881027674146,\n",
       " 2.9794515187954085,\n",
       " 2.2970514457019897,\n",
       " 0.0057424155657931353,\n",
       " 0.023028103446638578,\n",
       " 0.067119791543132051,\n",
       " 1.0283122950177904e-05,\n",
       " 6.5573695081543515e-05,\n",
       " 0.00039816473988713453,\n",
       " 0.00046130054343806082,\n",
       " 5.1704511190407034,\n",
       " 1.4262065223769576]"
      ]
     },
     "execution_count": 98,
     "metadata": {},
     "output_type": "execute_result"
    }
   ],
   "source": [
    "%%time\n",
    "orientation_12_energy(tile_g)"
   ]
  },
  {
   "cell_type": "code",
   "execution_count": 47,
   "metadata": {},
   "outputs": [
    {
     "name": "stdout",
     "output_type": "stream",
     "text": [
      "CPU times: user 12 ms, sys: 0 ns, total: 12 ms\n",
      "Wall time: 152 ms\n"
     ]
    },
    {
     "data": {
      "text/plain": [
       "[139.75240620401684,\n",
       " 0.45085867714422823,\n",
       " 0.26886279616649378,\n",
       " 0.37791999999999998]"
      ]
     },
     "execution_count": 47,
     "metadata": {},
     "output_type": "execute_result"
    }
   ],
   "source": [
    "%%time\n",
    "shape_features(tile_g, tile_bin)"
   ]
  },
  {
   "cell_type": "code",
   "execution_count": 48,
   "metadata": {},
   "outputs": [
    {
     "name": "stdout",
     "output_type": "stream",
     "text": [
      "CPU times: user 8 ms, sys: 0 ns, total: 8 ms\n",
      "Wall time: 11.9 ms\n"
     ]
    },
    {
     "data": {
      "text/plain": [
       "[0.37209400017472155,\n",
       " 0.10217063437619424,\n",
       " -0.09780083132038393,\n",
       " 0.60834722741120328,\n",
       " 0.069683966722592888,\n",
       " -0.0588099056794759,\n",
       " 0.8166978005535328,\n",
       " 0.05321479042159858,\n",
       " -0.06710129970029766,\n",
       " 0.5731654929470128,\n",
       " 0.073980597551597832,\n",
       " -0.06353846548640754]"
      ]
     },
     "execution_count": 48,
     "metadata": {},
     "output_type": "execute_result"
    }
   ],
   "source": [
    "%%time\n",
    "calc_4_rgb_moments(tile)"
   ]
  },
  {
   "cell_type": "code",
   "execution_count": null,
   "metadata": {},
   "outputs": [],
   "source": []
  },
  {
   "cell_type": "code",
   "execution_count": 19,
   "metadata": {},
   "outputs": [],
   "source": [
    "ORIENTATION_WEIGHTS = [orientation_weights(i*(2*math.pi)/12, 1.5) for i in range(12)]"
   ]
  },
  {
   "cell_type": "code",
   "execution_count": 57,
   "metadata": {},
   "outputs": [
    {
     "data": {
      "text/plain": [
       "'data/bay/0000.jpeg'"
      ]
     },
     "execution_count": 57,
     "metadata": {},
     "output_type": "execute_result"
    }
   ],
   "source": [
    "sfiles[0]"
   ]
  },
  {
   "cell_type": "code",
   "execution_count": null,
   "metadata": {},
   "outputs": [],
   "source": []
  },
  {
   "cell_type": "code",
   "execution_count": 68,
   "metadata": {},
   "outputs": [],
   "source": [
    "# target = \"data/bay/0001.jpeg\"\n",
    "target = 'data/bay/0000.jpeg'\n",
    "\n",
    "img = imreadf(target)"
   ]
  },
  {
   "cell_type": "code",
   "execution_count": 69,
   "metadata": {},
   "outputs": [
    {
     "data": {
      "text/plain": [
       "(2592, 3872, 3)"
      ]
     },
     "execution_count": 69,
     "metadata": {},
     "output_type": "execute_result"
    }
   ],
   "source": [
    "img.shape"
   ]
  },
  {
   "cell_type": "code",
   "execution_count": 70,
   "metadata": {},
   "outputs": [],
   "source": [
    "img_gray =color.rgb2gray(img)\n",
    "img_binary = gray2binary(img_gray)"
   ]
  },
  {
   "cell_type": "code",
   "execution_count": 71,
   "metadata": {},
   "outputs": [
    {
     "name": "stderr",
     "output_type": "stream",
     "text": [
      "/usr/local/lib/python3.5/dist-packages/ipykernel_launcher.py:9: DeprecationWarning: `imresize` is deprecated!\n",
      "`imresize` is deprecated in SciPy 1.0.0, and will be removed in 1.2.0.\n",
      "Use ``skimage.transform.resize`` instead.\n",
      "  if __name__ == '__main__':\n"
     ]
    }
   ],
   "source": [
    "img2 = im_normalized_read(target)"
   ]
  },
  {
   "cell_type": "code",
   "execution_count": 72,
   "metadata": {},
   "outputs": [
    {
     "data": {
      "text/plain": [
       "(685, 1024, 3)"
      ]
     },
     "execution_count": 72,
     "metadata": {},
     "output_type": "execute_result"
    }
   ],
   "source": [
    "img2.shape"
   ]
  },
  {
   "cell_type": "code",
   "execution_count": 74,
   "metadata": {},
   "outputs": [],
   "source": [
    "img2_gray =color.rgb2gray(img2)\n",
    "img2_binary = gray2binary(img2_gray)"
   ]
  },
  {
   "cell_type": "code",
   "execution_count": 100,
   "metadata": {},
   "outputs": [
    {
     "data": {
      "text/plain": [
       "(24469.019549319615, 6448981)"
      ]
     },
     "execution_count": 100,
     "metadata": {},
     "output_type": "execute_result"
    }
   ],
   "source": [
    "compactness(img_binary)"
   ]
  },
  {
   "cell_type": "code",
   "execution_count": 101,
   "metadata": {},
   "outputs": [
    {
     "data": {
      "text/plain": [
       "(2283.7966138792449, 460605)"
      ]
     },
     "execution_count": 101,
     "metadata": {},
     "output_type": "execute_result"
    }
   ],
   "source": [
    "compactness(img2_binary)"
   ]
  },
  {
   "cell_type": "code",
   "execution_count": 102,
   "metadata": {},
   "outputs": [
    {
     "data": {
      "text/plain": [
       "397240.78612623701"
      ]
     },
     "execution_count": 102,
     "metadata": {},
     "output_type": "execute_result"
    }
   ],
   "source": [
    "skimage.measure.perimeter(img_binary)"
   ]
  },
  {
   "cell_type": "code",
   "execution_count": 103,
   "metadata": {},
   "outputs": [
    {
     "data": {
      "text/plain": [
       "6448981"
      ]
     },
     "execution_count": 103,
     "metadata": {},
     "output_type": "execute_result"
    }
   ],
   "source": [
    "img_binary.sum()"
   ]
  },
  {
   "cell_type": "code",
   "execution_count": 104,
   "metadata": {},
   "outputs": [
    {
     "data": {
      "text/plain": [
       "32433.44168194072"
      ]
     },
     "execution_count": 104,
     "metadata": {},
     "output_type": "execute_result"
    }
   ],
   "source": [
    "skimage.measure.perimeter(img2_binary)"
   ]
  },
  {
   "cell_type": "code",
   "execution_count": 105,
   "metadata": {},
   "outputs": [
    {
     "data": {
      "text/plain": [
       "460605"
      ]
     },
     "execution_count": 105,
     "metadata": {},
     "output_type": "execute_result"
    }
   ],
   "source": [
    "img2_binary.sum()"
   ]
  },
  {
   "cell_type": "code",
   "execution_count": 109,
   "metadata": {},
   "outputs": [
    {
     "data": {
      "text/plain": [
       "0.081646806709404385"
      ]
     },
     "execution_count": 109,
     "metadata": {},
     "output_type": "execute_result"
    }
   ],
   "source": [
    "Out[104]/Out[102]"
   ]
  },
  {
   "cell_type": "code",
   "execution_count": 106,
   "metadata": {},
   "outputs": [
    {
     "data": {
      "text/plain": [
       "0.071422911619680687"
      ]
     },
     "execution_count": 106,
     "metadata": {},
     "output_type": "execute_result"
    }
   ],
   "source": [
    "Out[105]/Out[103]"
   ]
  },
  {
   "cell_type": "code",
   "execution_count": 110,
   "metadata": {},
   "outputs": [
    {
     "data": {
      "text/plain": [
       "<matplotlib.image.AxesImage at 0x7fdebea857f0>"
      ]
     },
     "execution_count": 110,
     "metadata": {},
     "output_type": "execute_result"
    },
    {
     "data": {
      "image/png": "[encoded data removed]",
      "text/plain": [
       "<matplotlib.figure.Figure at 0x7fdeb9d9a4a8>"
      ]
     },
     "metadata": {},
     "output_type": "display_data"
    }
   ],
   "source": [
    "plt.imshow(img_binary)"
   ]
  },
  {
   "cell_type": "code",
   "execution_count": 111,
   "metadata": {},
   "outputs": [
    {
     "data": {
      "text/plain": [
       "<matplotlib.image.AxesImage at 0x7fdebe9eeb38>"
      ]
     },
     "execution_count": 111,
     "metadata": {},
     "output_type": "execute_result"
    },
    {
     "data": {
      "image/png": "[encoded data removed]",
      "text/plain": [
       "<matplotlib.figure.Figure at 0x7fdeb9db5b38>"
      ]
     },
     "metadata": {},
     "output_type": "display_data"
    }
   ],
   "source": [
    "plt.imshow(img2_binary)"
   ]
  },
  {
   "cell_type": "code",
   "execution_count": 112,
   "metadata": {},
   "outputs": [
    {
     "data": {
      "text/plain": [
       "0.069940577829383246"
      ]
     },
     "execution_count": 112,
     "metadata": {},
     "output_type": "execute_result"
    }
   ],
   "source": [
    "Out[107]**2"
   ]
  },
  {
   "cell_type": "code",
   "execution_count": 107,
   "metadata": {},
   "outputs": [
    {
     "data": {
      "text/plain": [
       "0.26446280991735538"
      ]
     },
     "execution_count": 107,
     "metadata": {},
     "output_type": "execute_result"
    }
   ],
   "source": [
    "1024/np.max(img.shape)"
   ]
  },
  {
   "cell_type": "code",
   "execution_count": null,
   "metadata": {},
   "outputs": [],
   "source": [
    "l = skimage.measure.perimeter(img_binary)\n",
    "    area = img_binary.sum()"
   ]
  },
  {
   "cell_type": "code",
   "execution_count": null,
   "metadata": {},
   "outputs": [],
   "source": []
  },
  {
   "cell_type": "code",
   "execution_count": 95,
   "metadata": {},
   "outputs": [
    {
     "name": "stdout",
     "output_type": "stream",
     "text": [
      "CPU times: user 15.5 s, sys: 216 ms, total: 15.7 s\n",
      "Wall time: 15.7 s\n"
     ]
    }
   ],
   "source": [
    "%%time\n",
    "org = get_tile_features(3, 3, img, img_gray, img_binary)"
   ]
  },
  {
   "cell_type": "code",
   "execution_count": 96,
   "metadata": {},
   "outputs": [
    {
     "name": "stdout",
     "output_type": "stream",
     "text": [
      "CPU times: user 1.89 s, sys: 160 ms, total: 2.05 s\n",
      "Wall time: 2.06 s\n"
     ]
    }
   ],
   "source": [
    "%%time\n",
    "small = get_tile_features(3, 3, img2, img2_gray, img2_binary)"
   ]
  },
  {
   "cell_type": "code",
   "execution_count": 79,
   "metadata": {},
   "outputs": [
    {
     "data": {
      "text/plain": [
       "array([  2.84158281e-03,   5.40832774e-03,   6.74004865e-03,\n",
       "         4.89992021e-05,   1.35740563e-02,  -2.23009775e-02,\n",
       "        -1.97152761e-03,   1.14532318e-02,  -1.99309068e-02,\n",
       "         4.96743236e-04,   1.23676295e-02,  -2.73996822e-02,\n",
       "         7.03990450e-05,   2.55697027e-04,   4.22333031e-04,\n",
       "         5.26492168e-04,   1.29258513e+02,   1.10846336e+03,\n",
       "         8.57062861e+02,   2.18777501e+00,   8.70882524e+00,\n",
       "         2.50402808e+01,   3.83836342e-03,   2.44782002e-02,\n",
       "         1.48670882e-01,   1.72181216e-01,   1.92997536e+03,\n",
       "         5.38305047e+02,   3.06119728e+03,   1.64125071e-03,\n",
       "         6.61167269e-04,  -3.34041820e-02])"
      ]
     },
     "execution_count": 79,
     "metadata": {},
     "output_type": "execute_result"
    }
   ],
   "source": [
    "np.array(org)-np.array(small)"
   ]
  },
  {
   "cell_type": "code",
   "execution_count": 83,
   "metadata": {},
   "outputs": [],
   "source": [
    "import pandas as pd"
   ]
  },
  {
   "cell_type": "code",
   "execution_count": 97,
   "metadata": {},
   "outputs": [
    {
     "data": {
      "text/html": [
       "<div>\n",
       "<style scoped>\n",
       "    .dataframe tbody tr th:only-of-type {\n",
       "        vertical-align: middle;\n",
       "    }\n",
       "\n",
       "    .dataframe tbody tr th {\n",
       "        vertical-align: top;\n",
       "    }\n",
       "\n",
       "    .dataframe thead th {\n",
       "        text-align: right;\n",
       "    }\n",
       "</style>\n",
       "<table border=\"1\" class=\"dataframe\">\n",
       "  <thead>\n",
       "    <tr style=\"text-align: right;\">\n",
       "      <th></th>\n",
       "      <th>org</th>\n",
       "      <th>small</th>\n",
       "    </tr>\n",
       "  </thead>\n",
       "  <tbody>\n",
       "    <tr>\n",
       "      <th>0</th>\n",
       "      <td>0.347657</td>\n",
       "      <td>0.344816</td>\n",
       "    </tr>\n",
       "    <tr>\n",
       "      <th>1</th>\n",
       "      <td>0.263355</td>\n",
       "      <td>0.257947</td>\n",
       "    </tr>\n",
       "    <tr>\n",
       "      <th>2</th>\n",
       "      <td>0.236866</td>\n",
       "      <td>0.230126</td>\n",
       "    </tr>\n",
       "    <tr>\n",
       "      <th>3</th>\n",
       "      <td>0.657783</td>\n",
       "      <td>0.657734</td>\n",
       "    </tr>\n",
       "    <tr>\n",
       "      <th>4</th>\n",
       "      <td>0.126117</td>\n",
       "      <td>0.112543</td>\n",
       "    </tr>\n",
       "    <tr>\n",
       "      <th>5</th>\n",
       "      <td>-0.129902</td>\n",
       "      <td>-0.107601</td>\n",
       "    </tr>\n",
       "    <tr>\n",
       "      <th>6</th>\n",
       "      <td>0.642477</td>\n",
       "      <td>0.644449</td>\n",
       "    </tr>\n",
       "    <tr>\n",
       "      <th>7</th>\n",
       "      <td>0.197986</td>\n",
       "      <td>0.186532</td>\n",
       "    </tr>\n",
       "    <tr>\n",
       "      <th>8</th>\n",
       "      <td>-0.211720</td>\n",
       "      <td>-0.191789</td>\n",
       "    </tr>\n",
       "    <tr>\n",
       "      <th>9</th>\n",
       "      <td>0.590778</td>\n",
       "      <td>0.590281</td>\n",
       "    </tr>\n",
       "    <tr>\n",
       "      <th>10</th>\n",
       "      <td>0.130235</td>\n",
       "      <td>0.117867</td>\n",
       "    </tr>\n",
       "    <tr>\n",
       "      <th>11</th>\n",
       "      <td>0.059417</td>\n",
       "      <td>0.086816</td>\n",
       "    </tr>\n",
       "    <tr>\n",
       "      <th>12</th>\n",
       "      <td>0.126230</td>\n",
       "      <td>0.126159</td>\n",
       "    </tr>\n",
       "    <tr>\n",
       "      <th>13</th>\n",
       "      <td>0.458479</td>\n",
       "      <td>0.458224</td>\n",
       "    </tr>\n",
       "    <tr>\n",
       "      <th>14</th>\n",
       "      <td>0.757267</td>\n",
       "      <td>0.756845</td>\n",
       "    </tr>\n",
       "    <tr>\n",
       "      <th>15</th>\n",
       "      <td>0.944031</td>\n",
       "      <td>0.943504</td>\n",
       "    </tr>\n",
       "    <tr>\n",
       "      <th>16</th>\n",
       "      <td>0.350559</td>\n",
       "      <td>0.404026</td>\n",
       "    </tr>\n",
       "    <tr>\n",
       "      <th>17</th>\n",
       "      <td>2.979452</td>\n",
       "      <td>3.080510</td>\n",
       "    </tr>\n",
       "    <tr>\n",
       "      <th>18</th>\n",
       "      <td>2.297051</td>\n",
       "      <td>2.286338</td>\n",
       "    </tr>\n",
       "    <tr>\n",
       "      <th>19</th>\n",
       "      <td>0.005742</td>\n",
       "      <td>0.004098</td>\n",
       "    </tr>\n",
       "    <tr>\n",
       "      <th>20</th>\n",
       "      <td>0.023028</td>\n",
       "      <td>0.018745</td>\n",
       "    </tr>\n",
       "    <tr>\n",
       "      <th>21</th>\n",
       "      <td>0.067120</td>\n",
       "      <td>0.066917</td>\n",
       "    </tr>\n",
       "    <tr>\n",
       "      <th>22</th>\n",
       "      <td>0.000010</td>\n",
       "      <td>0.000010</td>\n",
       "    </tr>\n",
       "    <tr>\n",
       "      <th>23</th>\n",
       "      <td>0.000066</td>\n",
       "      <td>0.000065</td>\n",
       "    </tr>\n",
       "    <tr>\n",
       "      <th>24</th>\n",
       "      <td>0.000398</td>\n",
       "      <td>0.000392</td>\n",
       "    </tr>\n",
       "    <tr>\n",
       "      <th>25</th>\n",
       "      <td>0.000461</td>\n",
       "      <td>0.000457</td>\n",
       "    </tr>\n",
       "    <tr>\n",
       "      <th>26</th>\n",
       "      <td>5.170451</td>\n",
       "      <td>5.117502</td>\n",
       "    </tr>\n",
       "    <tr>\n",
       "      <th>27</th>\n",
       "      <td>1.426207</td>\n",
       "      <td>1.198897</td>\n",
       "    </tr>\n",
       "    <tr>\n",
       "      <th>28</th>\n",
       "      <td>3365.986707</td>\n",
       "      <td>304.789431</td>\n",
       "    </tr>\n",
       "    <tr>\n",
       "      <th>29</th>\n",
       "      <td>0.278844</td>\n",
       "      <td>0.277203</td>\n",
       "    </tr>\n",
       "    <tr>\n",
       "      <th>30</th>\n",
       "      <td>0.176049</td>\n",
       "      <td>0.175388</td>\n",
       "    </tr>\n",
       "    <tr>\n",
       "      <th>31</th>\n",
       "      <td>0.840581</td>\n",
       "      <td>0.873985</td>\n",
       "    </tr>\n",
       "  </tbody>\n",
       "</table>\n",
       "</div>"
      ],
      "text/plain": [
       "            org       small\n",
       "0      0.347657    0.344816\n",
       "1      0.263355    0.257947\n",
       "2      0.236866    0.230126\n",
       "3      0.657783    0.657734\n",
       "4      0.126117    0.112543\n",
       "5     -0.129902   -0.107601\n",
       "6      0.642477    0.644449\n",
       "7      0.197986    0.186532\n",
       "8     -0.211720   -0.191789\n",
       "9      0.590778    0.590281\n",
       "10     0.130235    0.117867\n",
       "11     0.059417    0.086816\n",
       "12     0.126230    0.126159\n",
       "13     0.458479    0.458224\n",
       "14     0.757267    0.756845\n",
       "15     0.944031    0.943504\n",
       "16     0.350559    0.404026\n",
       "17     2.979452    3.080510\n",
       "18     2.297051    2.286338\n",
       "19     0.005742    0.004098\n",
       "20     0.023028    0.018745\n",
       "21     0.067120    0.066917\n",
       "22     0.000010    0.000010\n",
       "23     0.000066    0.000065\n",
       "24     0.000398    0.000392\n",
       "25     0.000461    0.000457\n",
       "26     5.170451    5.117502\n",
       "27     1.426207    1.198897\n",
       "28  3365.986707  304.789431\n",
       "29     0.278844    0.277203\n",
       "30     0.176049    0.175388\n",
       "31     0.840581    0.873985"
      ]
     },
     "execution_count": 97,
     "metadata": {},
     "output_type": "execute_result"
    }
   ],
   "source": [
    "pd.DataFrame({\"small\":small, \"org\":org})"
   ]
  },
  {
   "cell_type": "code",
   "execution_count": 3,
   "metadata": {},
   "outputs": [],
   "source": [
    "img = img_as_float(imread(target))"
   ]
  },
  {
   "cell_type": "code",
   "execution_count": 4,
   "metadata": {
    "scrolled": true
   },
   "outputs": [
    {
     "data": {
      "text/plain": [
       "(386, 687, 3)"
      ]
     },
     "execution_count": 4,
     "metadata": {},
     "output_type": "execute_result"
    }
   ],
   "source": [
    "img.shape"
   ]
  },
  {
   "cell_type": "code",
   "execution_count": 7,
   "metadata": {},
   "outputs": [],
   "source": [
    "tile_h = int(img.shape[0]/5)\n",
    "tile_w = int(img.shape[1]/5)"
   ]
  },
  {
   "cell_type": "code",
   "execution_count": 37,
   "metadata": {},
   "outputs": [],
   "source": [
    "img_gray = color.rgb2gray(img)\n",
    "img_binary = gray2binary(img_gray)"
   ]
  },
  {
   "cell_type": "code",
   "execution_count": 40,
   "metadata": {},
   "outputs": [],
   "source": [
    "tile_row = 4\n",
    "tile_col = 0"
   ]
  },
  {
   "cell_type": "code",
   "execution_count": 63,
   "metadata": {},
   "outputs": [],
   "source": [
    "features = img2features(img)"
   ]
  },
  {
   "cell_type": "code",
   "execution_count": 64,
   "metadata": {},
   "outputs": [
    {
     "data": {
      "text/plain": [
       "800"
      ]
     },
     "execution_count": 64,
     "metadata": {},
     "output_type": "execute_result"
    }
   ],
   "source": [
    "len(features)"
   ]
  },
  {
   "cell_type": "code",
   "execution_count": 103,
   "metadata": {},
   "outputs": [],
   "source": [
    "features = tile2features(tile, tile_gray, tile_binary)"
   ]
  },
  {
   "cell_type": "code",
   "execution_count": 105,
   "metadata": {},
   "outputs": [
    {
     "data": {
      "text/plain": [
       "32"
      ]
     },
     "execution_count": 105,
     "metadata": {},
     "output_type": "execute_result"
    }
   ],
   "source": [
    "len(features)"
   ]
  },
  {
   "cell_type": "code",
   "execution_count": 93,
   "metadata": {},
   "outputs": [
    {
     "data": {
      "text/plain": [
       "0.00070527536908725728"
      ]
     },
     "execution_count": 93,
     "metadata": {},
     "output_type": "execute_result"
    }
   ],
   "source": [
    "kernel2feature(tile, weights)"
   ]
  },
  {
   "cell_type": "code",
   "execution_count": 80,
   "metadata": {},
   "outputs": [
    {
     "data": {
      "text/plain": [
       "((17, 17), (33, 33), (65, 65))"
      ]
     },
     "execution_count": 80,
     "metadata": {},
     "output_type": "execute_result"
    }
   ],
   "source": [
    "DOOG2_weight(2).shape, DOOG2_weight(4).shape, DOOG2_weight(8).shape"
   ]
  },
  {
   "cell_type": "code",
   "execution_count": null,
   "metadata": {},
   "outputs": [],
   "source": []
  },
  {
   "cell_type": "code",
   "execution_count": null,
   "metadata": {},
   "outputs": [],
   "source": []
  },
  {
   "cell_type": "code",
   "execution_count": 95,
   "metadata": {},
   "outputs": [
    {
     "data": {
      "text/plain": [
       "[0.13765982813667971,\n",
       " 0.49999554479585528,\n",
       " 0.82583922136457,\n",
       " 1.0295142695869703]"
      ]
     },
     "execution_count": 95,
     "metadata": {},
     "output_type": "execute_result"
    }
   ],
   "source": [
    "tile2doog_features(tile)"
   ]
  },
  {
   "cell_type": "code",
   "execution_count": 87,
   "metadata": {},
   "outputs": [
    {
     "data": {
      "text/plain": [
       "[0.00013765982813667972,\n",
       " 0.00049999554479585528,\n",
       " 0.00082583922136456999,\n",
       " 0.0010295142695869704,\n",
       " 0.0011416206025065398]"
      ]
     },
     "execution_count": 87,
     "metadata": {},
     "output_type": "execute_result"
    }
   ],
   "source": [
    "[kernel2feature(tile, DOOG2_weight(i)) for i in [1, 2, 4, 8, 16]]"
   ]
  },
  {
   "cell_type": "code",
   "execution_count": 21,
   "metadata": {},
   "outputs": [],
   "source": [
    "# maybe too small?"
   ]
  },
  {
   "cell_type": "code",
   "execution_count": 22,
   "metadata": {},
   "outputs": [
    {
     "data": {
      "text/plain": [
       "22.31984960550443"
      ]
     },
     "execution_count": 22,
     "metadata": {},
     "output_type": "execute_result"
    }
   ],
   "source": [
    "# sum might be better.\n",
    "\n",
    "np.sum([np.sum(convolve(tile[:, :, i], weights)) for i in range(3)])"
   ]
  },
  {
   "cell_type": "code",
   "execution_count": null,
   "metadata": {},
   "outputs": [],
   "source": []
  },
  {
   "cell_type": "code",
   "execution_count": 68,
   "metadata": {},
   "outputs": [
    {
     "data": {
      "text/plain": [
       "0.041748393641227621"
      ]
     },
     "execution_count": 68,
     "metadata": {},
     "output_type": "execute_result"
    }
   ],
   "source": [
    "np.max(DOOG2_weight(1))"
   ]
  },
  {
   "cell_type": "code",
   "execution_count": 69,
   "metadata": {},
   "outputs": [
    {
     "data": {
      "text/plain": [
       "0.0046387104045808461"
      ]
     },
     "execution_count": 69,
     "metadata": {},
     "output_type": "execute_result"
    }
   ],
   "source": [
    "np.max(DOOG2_weight(3))"
   ]
  },
  {
   "cell_type": "code",
   "execution_count": 70,
   "metadata": {},
   "outputs": [
    {
     "data": {
      "text/plain": [
       "0.00085200803349444118"
      ]
     },
     "execution_count": 70,
     "metadata": {},
     "output_type": "execute_result"
    }
   ],
   "source": [
    "np.max(DOOG2_weight(7))"
   ]
  },
  {
   "cell_type": "code",
   "execution_count": 72,
   "metadata": {},
   "outputs": [
    {
     "data": {
      "text/plain": [
       "0.052987915559242309"
      ]
     },
     "execution_count": 72,
     "metadata": {},
     "output_type": "execute_result"
    }
   ],
   "source": [
    "np.max(DOOG2_weight(7)/  np.linalg.norm(DOOG2_weight(7)))"
   ]
  },
  {
   "cell_type": "code",
   "execution_count": null,
   "metadata": {},
   "outputs": [],
   "source": []
  },
  {
   "cell_type": "code",
   "execution_count": 71,
   "metadata": {},
   "outputs": [],
   "source": [
    "# https://github.com/pdollar/toolbox/blob/master/filters/FbMake.m\n",
    "# 0.5, 1, 1.5, 2.0"
   ]
  },
  {
   "cell_type": "code",
   "execution_count": 82,
   "metadata": {},
   "outputs": [
    {
     "data": {
      "text/plain": [
       "[0.071272975969383937, 0.022219196106824542, 0.036144642500056459]"
      ]
     },
     "execution_count": 82,
     "metadata": {},
     "output_type": "execute_result"
    }
   ],
   "source": [
    "[np.max(convolve(tile[:, :, i], weights)) for i in range(3)]"
   ]
  },
  {
   "cell_type": "code",
   "execution_count": 83,
   "metadata": {},
   "outputs": [
    {
     "data": {
      "text/plain": [
       "[0.00043807751520494033, 0.00071622558181795083, 0.00096152301023888064]"
      ]
     },
     "execution_count": 83,
     "metadata": {},
     "output_type": "execute_result"
    }
   ],
   "source": [
    "[np.mean(convolve(tile[:, :, i], weights)) for i in range(3)]"
   ]
  },
  {
   "cell_type": "code",
   "execution_count": 84,
   "metadata": {},
   "outputs": [
    {
     "data": {
      "text/plain": [
       "[0.43807751520494032, 0.71622558181795082, 0.96152301023888065]"
      ]
     },
     "execution_count": 84,
     "metadata": {},
     "output_type": "execute_result"
    }
   ],
   "source": [
    "[np.mean(convolve(tile[:, :, i], weights))*1000 for i in range(3)]"
   ]
  },
  {
   "cell_type": "code",
   "execution_count": 63,
   "metadata": {},
   "outputs": [
    {
     "data": {
      "text/plain": [
       "0.041748393641227621"
      ]
     },
     "execution_count": 63,
     "metadata": {},
     "output_type": "execute_result"
    }
   ],
   "source": [
    "np.max(weights)"
   ]
  },
  {
   "cell_type": "code",
   "execution_count": 66,
   "metadata": {},
   "outputs": [
    {
     "data": {
      "text/plain": [
       "0.36606071769805038"
      ]
     },
     "execution_count": 66,
     "metadata": {},
     "output_type": "execute_result"
    }
   ],
   "source": [
    "# np.max(weights / np.linalg.norm(weights))"
   ]
  },
  {
   "cell_type": "code",
   "execution_count": 1,
   "metadata": {},
   "outputs": [],
   "source": [
    "target = \"data/bay/0001.jpeg\""
   ]
  },
  {
   "cell_type": "code",
   "execution_count": 3,
   "metadata": {},
   "outputs": [],
   "source": [
    "img = img_as_float(imread(target))"
   ]
  },
  {
   "cell_type": "code",
   "execution_count": 4,
   "metadata": {
    "scrolled": true
   },
   "outputs": [
    {
     "data": {
      "text/plain": [
       "(386, 687, 3)"
      ]
     },
     "execution_count": 4,
     "metadata": {},
     "output_type": "execute_result"
    }
   ],
   "source": [
    "img.shape"
   ]
  },
  {
   "cell_type": "code",
   "execution_count": 7,
   "metadata": {},
   "outputs": [],
   "source": [
    "tile_h = int(img.shape[0]/5)\n",
    "tile_w = int(img.shape[1]/5)"
   ]
  },
  {
   "cell_type": "code",
   "execution_count": null,
   "metadata": {},
   "outputs": [],
   "source": []
  },
  {
   "cell_type": "code",
   "execution_count": 6,
   "metadata": {},
   "outputs": [
    {
     "data": {
      "text/plain": [
       "(77, 137)"
      ]
     },
     "execution_count": 6,
     "metadata": {},
     "output_type": "execute_result"
    }
   ],
   "source": [
    "tile_h, tile_w"
   ]
  },
  {
   "cell_type": "code",
   "execution_count": 7,
   "metadata": {},
   "outputs": [],
   "source": [
    "tile = img[0:tile_h, 0:tile_w, :]"
   ]
  },
  {
   "cell_type": "code",
   "execution_count": null,
   "metadata": {},
   "outputs": [],
   "source": []
  },
  {
   "cell_type": "code",
   "execution_count": 8,
   "metadata": {},
   "outputs": [
    {
     "data": {
      "text/plain": [
       "(77, 137, 3)"
      ]
     },
     "execution_count": 8,
     "metadata": {},
     "output_type": "execute_result"
    }
   ],
   "source": [
    "tile.shape"
   ]
  },
  {
   "cell_type": "code",
   "execution_count": 57,
   "metadata": {},
   "outputs": [
    {
     "data": {
      "text/plain": [
       "32"
      ]
     },
     "execution_count": 57,
     "metadata": {},
     "output_type": "execute_result"
    }
   ],
   "source": [
    "len(get_tile_features(4, 0, img, img_gray, img_binary))"
   ]
  },
  {
   "cell_type": "code",
   "execution_count": 69,
   "metadata": {},
   "outputs": [
    {
     "data": {
      "text/plain": [
       "(0.45085867714422823, 0.26886279616649378)"
      ]
     },
     "execution_count": 69,
     "metadata": {},
     "output_type": "execute_result"
    }
   ],
   "source": [
    "calc_moment_of_inertia(tile_gray)"
   ]
  },
  {
   "cell_type": "code",
   "execution_count": 70,
   "metadata": {
    "scrolled": true
   },
   "outputs": [
    {
     "data": {
      "text/plain": [
       "[98.156225304209556,\n",
       " 0.45085867714422823,\n",
       " 0.26886279616649378,\n",
       " 0.44021164021164022]"
      ]
     },
     "execution_count": 70,
     "metadata": {},
     "output_type": "execute_result"
    }
   ],
   "source": [
    "shape_features(tile_gray, tile_binary)"
   ]
  },
  {
   "cell_type": "code",
   "execution_count": 63,
   "metadata": {},
   "outputs": [],
   "source": [
    "tile2 = img[4*tile_h:(5*tile_h), 0:tile_w, :]\n",
    "tile2_gray = color.rgb2gray(tile2)\n",
    "tile2_binary = gray2binary(tile2_gray)"
   ]
  },
  {
   "cell_type": "code",
   "execution_count": 66,
   "metadata": {},
   "outputs": [],
   "source": []
  },
  {
   "cell_type": "code",
   "execution_count": 71,
   "metadata": {},
   "outputs": [
    {
     "data": {
      "text/plain": [
       "[249.52704456687493,\n",
       " 2.5185166529820617,\n",
       " 1.7470656368143624,\n",
       " 0.86001926782273608]"
      ]
     },
     "execution_count": 71,
     "metadata": {},
     "output_type": "execute_result"
    }
   ],
   "source": [
    "shape_features(tile2_gray, tile2_binary)"
   ]
  },
  {
   "cell_type": "code",
   "execution_count": 45,
   "metadata": {},
   "outputs": [
    {
     "data": {
      "text/plain": [
       "(77, 137)"
      ]
     },
     "execution_count": 45,
     "metadata": {},
     "output_type": "execute_result"
    }
   ],
   "source": [
    "tile_gray.shape"
   ]
  },
  {
   "cell_type": "code",
   "execution_count": 34,
   "metadata": {},
   "outputs": [],
   "source": [
    "# should apply to original image, but just apply to tile for trial purpose.\n",
    "threds = threshold_otsu(tile_gray)\n",
    "tile_binary = tile_gray <= threds"
   ]
  },
  {
   "cell_type": "code",
   "execution_count": 36,
   "metadata": {},
   "outputs": [
    {
     "data": {
      "text/plain": [
       "571.5452018978109"
      ]
     },
     "execution_count": 36,
     "metadata": {},
     "output_type": "execute_result"
    }
   ],
   "source": [
    "skimage.measure.perimeter(tile_binary)"
   ]
  },
  {
   "cell_type": "code",
   "execution_count": 37,
   "metadata": {},
   "outputs": [],
   "source": [
    "area = tile_binary.sum()"
   ]
  },
  {
   "cell_type": "code",
   "execution_count": 38,
   "metadata": {},
   "outputs": [
    {
     "data": {
      "text/plain": [
       "3328"
      ]
     },
     "execution_count": 38,
     "metadata": {},
     "output_type": "execute_result"
    }
   ],
   "source": [
    "area"
   ]
  },
  {
   "cell_type": "code",
   "execution_count": 56,
   "metadata": {},
   "outputs": [
    {
     "data": {
      "text/plain": [
       "(98.156225304209556, 3328)"
      ]
     },
     "execution_count": 56,
     "metadata": {},
     "output_type": "execute_result"
    }
   ],
   "source": [
    "compactness(tile_binary)"
   ]
  },
  {
   "cell_type": "code",
   "execution_count": 32,
   "metadata": {},
   "outputs": [
    {
     "data": {
      "image/png": "[encoded data removed]",
      "text/plain": [
       "<matplotlib.figure.Figure at 0x7f4424ff86d8>"
      ]
     },
     "metadata": {},
     "output_type": "display_data"
    }
   ],
   "source": [
    "X,Y=np.meshgrid(np.linspace(-5,5,len(x)),np.linspace(-7,7, len(y)));\n",
    "fig=plt.figure();\n",
    "ax=fig.add_subplot(111,projection='3d')\n",
    "ax.plot_surface(X, Y, f1)\n",
    "# ax.plot_surface(X, Y, fx*fy, color='red')\n",
    "# surf=ax.plot_surface(X,Y,G,c='red')\n",
    "plt.show()"
   ]
  },
  {
   "cell_type": "code",
   "execution_count": 33,
   "metadata": {},
   "outputs": [],
   "source": [
    "theta = 1/(4*math.pi)"
   ]
  },
  {
   "cell_type": "code",
   "execution_count": 35,
   "metadata": {},
   "outputs": [],
   "source": [
    "inds = rotation_indices(1/(4*math.pi), f1.shape)"
   ]
  },
  {
   "cell_type": "code",
   "execution_count": 36,
   "metadata": {},
   "outputs": [
    {
     "data": {
      "text/plain": [
       "14000"
      ]
     },
     "execution_count": 36,
     "metadata": {},
     "output_type": "execute_result"
    }
   ],
   "source": [
    "len(inds[0])"
   ]
  },
  {
   "cell_type": "code",
   "execution_count": 37,
   "metadata": {},
   "outputs": [],
   "source": [
    "f1r2 = f1[inds].reshape(f1.shape)"
   ]
  },
  {
   "cell_type": "code",
   "execution_count": 41,
   "metadata": {},
   "outputs": [
    {
     "data": {
      "text/plain": [
       "51.861780304280764"
      ]
     },
     "execution_count": 41,
     "metadata": {},
     "output_type": "execute_result"
    }
   ],
   "source": [
    "orientation_energy(tile_gray, (2*math.pi)/12)"
   ]
  },
  {
   "cell_type": "code",
   "execution_count": 42,
   "metadata": {},
   "outputs": [
    {
     "data": {
      "text/plain": [
       "2.0898866173974229"
      ]
     },
     "execution_count": 42,
     "metadata": {},
     "output_type": "execute_result"
    }
   ],
   "source": [
    "orientation_energy(tile_gray, 0*(2*math.pi)/12)"
   ]
  },
  {
   "cell_type": "code",
   "execution_count": 43,
   "metadata": {},
   "outputs": [
    {
     "data": {
      "text/plain": [
       "51.861780304280764"
      ]
     },
     "execution_count": 43,
     "metadata": {},
     "output_type": "execute_result"
    }
   ],
   "source": [
    "orientation_energy(tile_gray, 1*(2*math.pi)/12)"
   ]
  },
  {
   "cell_type": "code",
   "execution_count": 44,
   "metadata": {},
   "outputs": [
    {
     "data": {
      "text/plain": [
       "18.766855436860915"
      ]
     },
     "execution_count": 44,
     "metadata": {},
     "output_type": "execute_result"
    }
   ],
   "source": [
    "orientation_energy(tile_gray, 2*(2*math.pi)/12)"
   ]
  },
  {
   "cell_type": "code",
   "execution_count": 92,
   "metadata": {},
   "outputs": [
    {
     "data": {
      "text/plain": [
       "0.010338172986608721"
      ]
     },
     "execution_count": 92,
     "metadata": {},
     "output_type": "execute_result"
    }
   ],
   "source": [
    "orientation_energy(tile_gray, 3*(2*math.pi)/12)"
   ]
  },
  {
   "cell_type": "code",
   "execution_count": 93,
   "metadata": {},
   "outputs": [
    {
     "data": {
      "text/plain": [
       "[2.0898866173974229,\n",
       " 51.861780304280764,\n",
       " 18.766855436860915,\n",
       " 0.010338172986608721,\n",
       " 0.089705818498873713,\n",
       " 0.41842571651551119,\n",
       " 6.6475988898296573e-05,\n",
       " 0.00061898107480311694,\n",
       " 0.0041911733544362966,\n",
       " 0.0046325663918409454,\n",
       " 67.778711023843286,\n",
       " 46.569291894587508]"
      ]
     },
     "execution_count": 93,
     "metadata": {},
     "output_type": "execute_result"
    }
   ],
   "source": [
    "[orientation_energy(tile_gray, i*(2*math.pi)/12) for i in range(12)]"
   ]
  },
  {
   "cell_type": "code",
   "execution_count": 101,
   "metadata": {
    "scrolled": true
   },
   "outputs": [
    {
     "data": {
      "text/plain": [
       "<matplotlib.image.AxesImage at 0x7f607e7586d8>"
      ]
     },
     "execution_count": 101,
     "metadata": {},
     "output_type": "execute_result"
    },
    {
     "data": {
      "image/png": "[encoded data removed]",
      "text/plain": [
       "<matplotlib.figure.Figure at 0x7f607e847518>"
      ]
     },
     "metadata": {},
     "output_type": "display_data"
    }
   ],
   "source": [
    "plt.imshow(tile_gray)"
   ]
  },
  {
   "cell_type": "code",
   "execution_count": 99,
   "metadata": {},
   "outputs": [
    {
     "data": {
      "text/plain": [
       "(77, 137)"
      ]
     },
     "execution_count": 99,
     "metadata": {},
     "output_type": "execute_result"
    }
   ],
   "source": [
    "tile_gray.shape"
   ]
  },
  {
   "cell_type": "code",
   "execution_count": 105,
   "metadata": {},
   "outputs": [
    {
     "data": {
      "text/plain": [
       "<matplotlib.image.AxesImage at 0x7f607e74acf8>"
      ]
     },
     "execution_count": 105,
     "metadata": {},
     "output_type": "execute_result"
    },
    {
     "data": {
      "image/png": "[encoded data removed]",
      "text/plain": [
       "<matplotlib.figure.Figure at 0x7f607e77fa90>"
      ]
     },
     "metadata": {},
     "output_type": "display_data"
    }
   ],
   "source": [
    "plt.imshow(tile_gray[60:70, :])"
   ]
  },
  {
   "cell_type": "code",
   "execution_count": 107,
   "metadata": {},
   "outputs": [
    {
     "data": {
      "text/plain": [
       "[0.12653848807650903,\n",
       " 1.779355973948693,\n",
       " 0.59856313259303529,\n",
       " 0.00035272497014036909,\n",
       " 0.0025774499529571913,\n",
       " 0.012898175596365091,\n",
       " 2.2175847562225684e-06,\n",
       " 2.1348975458477135e-05,\n",
       " 0.00014528579077996317,\n",
       " 0.00015551406705520887,\n",
       " 2.3283209727642902,\n",
       " 1.6392639280727841]"
      ]
     },
     "execution_count": 107,
     "metadata": {},
     "output_type": "execute_result"
    }
   ],
   "source": [
    "[orientation_energy(tile_gray[60:70, 0:60], i*(2*math.pi)/12) for i in range(12)]"
   ]
  },
  {
   "cell_type": "code",
   "execution_count": 116,
   "metadata": {},
   "outputs": [
    {
     "data": {
      "text/plain": [
       "(386, 687, 3)"
      ]
     },
     "execution_count": 116,
     "metadata": {},
     "output_type": "execute_result"
    }
   ],
   "source": [
    "img.shape"
   ]
  },
  {
   "cell_type": "code",
   "execution_count": 117,
   "metadata": {},
   "outputs": [
    {
     "data": {
      "text/plain": [
       "77"
      ]
     },
     "execution_count": 117,
     "metadata": {},
     "output_type": "execute_result"
    }
   ],
   "source": [
    "tile_w"
   ]
  },
  {
   "cell_type": "code",
   "execution_count": 124,
   "metadata": {},
   "outputs": [],
   "source": [
    "tile2 = img[4*tile_w:(5*tile_w), 0:tile_h, :]"
   ]
  },
  {
   "cell_type": "code",
   "execution_count": 125,
   "metadata": {},
   "outputs": [],
   "source": [
    "tile2_gray = color.rgb2gray(tile2)"
   ]
  },
  {
   "cell_type": "code",
   "execution_count": 126,
   "metadata": {},
   "outputs": [
    {
     "data": {
      "text/plain": [
       "<matplotlib.image.AxesImage at 0x7f607e84f2e8>"
      ]
     },
     "execution_count": 126,
     "metadata": {},
     "output_type": "execute_result"
    },
    {
     "data": {
      "image/png": "[encoded data removed]",
      "text/plain": [
       "<matplotlib.figure.Figure at 0x7f607e660080>"
      ]
     },
     "metadata": {},
     "output_type": "display_data"
    }
   ],
   "source": [
    "plt.imshow(tile2_gray)"
   ]
  },
  {
   "cell_type": "code",
   "execution_count": 129,
   "metadata": {},
   "outputs": [
    {
     "data": {
      "text/plain": [
       "[4.869461932876205,\n",
       " 7.1955365848890906,\n",
       " 1.6050420156037013,\n",
       " 0.014523668718819925,\n",
       " 0.017492950842396486,\n",
       " 0.024533722697677202,\n",
       " 4.5751296488891631e-06,\n",
       " 5.2186387453645893e-05,\n",
       " 0.00034820923876056643,\n",
       " 0.00035182277156667525,\n",
       " 6.5269911924616899,\n",
       " 7.2722472732760943]"
      ]
     },
     "execution_count": 129,
     "metadata": {},
     "output_type": "execute_result"
    }
   ],
   "source": [
    "[orientation_energy(tile2_gray, i*(2*math.pi)/12) for i in range(12)]"
   ]
  },
  {
   "cell_type": "code",
   "execution_count": 130,
   "metadata": {},
   "outputs": [
    {
     "data": {
      "text/plain": [
       "[<matplotlib.lines.Line2D at 0x7f607e685780>]"
      ]
     },
     "execution_count": 130,
     "metadata": {},
     "output_type": "execute_result"
    },
    {
     "data": {
      "image/png": "[encoded data removed]",
      "text/plain": [
       "<matplotlib.figure.Figure at 0x7f607e9957f0>"
      ]
     },
     "metadata": {},
     "output_type": "display_data"
    }
   ],
   "source": [
    "plt.plot(Out[129])"
   ]
  },
  {
   "cell_type": "code",
   "execution_count": 131,
   "metadata": {},
   "outputs": [
    {
     "data": {
      "text/plain": [
       "[<matplotlib.lines.Line2D at 0x7f607e645668>]"
      ]
     },
     "execution_count": 131,
     "metadata": {},
     "output_type": "execute_result"
    },
    {
     "data": {
      "image/png": "[encoded data removed]",
      "text/plain": [
       "<matplotlib.figure.Figure at 0x7f607e61b470>"
      ]
     },
     "metadata": {},
     "output_type": "display_data"
    }
   ],
   "source": [
    "plt.plot(Out[93])"
   ]
  },
  {
   "cell_type": "code",
   "execution_count": 56,
   "metadata": {},
   "outputs": [
    {
     "data": {
      "text/plain": [
       "-5.0339499764591086e-11"
      ]
     },
     "execution_count": 56,
     "metadata": {},
     "output_type": "execute_result"
    }
   ],
   "source": [
    "f1[0][4]"
   ]
  },
  {
   "cell_type": "code",
   "execution_count": 50,
   "metadata": {},
   "outputs": [
    {
     "data": {
      "text/plain": [
       "-3.1620006979825382e-11"
      ]
     },
     "execution_count": 50,
     "metadata": {},
     "output_type": "execute_result"
    }
   ],
   "source": [
    "f1[0][3]"
   ]
  },
  {
   "cell_type": "code",
   "execution_count": 52,
   "metadata": {},
   "outputs": [
    {
     "data": {
      "text/plain": [
       "array([[  6.04632279e+03,   2.20937014e+05,   1.08835769e+07],\n",
       "       [  4.26940422e+05,   1.56406304e+07,   7.71974376e+08],\n",
       "       [  3.96107262e+07,   1.45428178e+09,   7.19158387e+10]])"
      ]
     },
     "execution_count": 52,
     "metadata": {},
     "output_type": "execute_result"
    }
   ],
   "source": [
    "skimage.measure.moments(tile_gray, order=2)"
   ]
  },
  {
   "cell_type": "code",
   "execution_count": 53,
   "metadata": {},
   "outputs": [
    {
     "data": {
      "text/plain": [
       "array([[  6.04632279e+03,   2.20937014e+05],\n",
       "       [  4.26940422e+05,   1.56406304e+07]])"
      ]
     },
     "execution_count": 53,
     "metadata": {},
     "output_type": "execute_result"
    }
   ],
   "source": [
    "skimage.measure.moments(tile_gray, order=1)"
   ]
  },
  {
   "cell_type": "code",
   "execution_count": 54,
   "metadata": {},
   "outputs": [
    {
     "data": {
      "text/plain": [
       "array([[ 6046.3227851]])"
      ]
     },
     "execution_count": 54,
     "metadata": {},
     "output_type": "execute_result"
    }
   ],
   "source": [
    "skimage.measure.moments(tile_gray, order=0)"
   ]
  },
  {
   "cell_type": "code",
   "execution_count": 39,
   "metadata": {},
   "outputs": [],
   "source": [
    "# cr, cc = ``M[1, 0] / M[0, 0]``, ``M[0, 1] / M[0, 0]`\n",
    "M1 = skimage.measure.moments(tile_gray, order=1)\n",
    "cr = M1[1, 0]/M1[0, 0]\n",
    "cc = M1[0, 1]/M1[0, 0]"
   ]
  },
  {
   "cell_type": "code",
   "execution_count": 56,
   "metadata": {},
   "outputs": [
    {
     "data": {
      "text/plain": [
       "array([[  6.04632279e+03,  -2.06003407e+05,   9.82909127e+06],\n",
       "       [  2.06003407e+05,  -6.97879477e+06,   3.32715995e+08],\n",
       "       [  1.64825002e+07,  -5.57613049e+08,   2.65970581e+10]])"
      ]
     },
     "execution_count": 56,
     "metadata": {},
     "output_type": "execute_result"
    }
   ],
   "source": [
    "skimage.measure.moments_central(tile_gray, cr, cc, order=2)"
   ]
  },
  {
   "cell_type": "code",
   "execution_count": 40,
   "metadata": {},
   "outputs": [],
   "source": [
    "mu2 = skimage.measure.moments_central(tile_gray, cr, cc, order=2)"
   ]
  },
  {
   "cell_type": "code",
   "execution_count": 41,
   "metadata": {},
   "outputs": [],
   "source": [
    "moment_of_inertia = (mu2[2, 0]+mu2[0, 2])/mu2[0, 0]"
   ]
  },
  {
   "cell_type": "code",
   "execution_count": 42,
   "metadata": {},
   "outputs": [
    {
     "data": {
      "text/plain": [
       "4351.6683430028861"
      ]
     },
     "execution_count": 42,
     "metadata": {},
     "output_type": "execute_result"
    }
   ],
   "source": [
    "moment_of_inertia"
   ]
  },
  {
   "cell_type": "code",
   "execution_count": 71,
   "metadata": {},
   "outputs": [
    {
     "data": {
      "text/plain": [
       "array([[ True,  True,  True, ..., False, False, False],\n",
       "       [ True,  True,  True, ..., False, False, False],\n",
       "       [ True,  True,  True, ..., False, False, False],\n",
       "       ..., \n",
       "       [ True,  True,  True, ...,  True,  True,  True],\n",
       "       [ True,  True,  True, ...,  True,  True,  True],\n",
       "       [ True,  True,  True, ...,  True,  True,  True]], dtype=bool)"
      ]
     },
     "execution_count": 71,
     "metadata": {},
     "output_type": "execute_result"
    }
   ],
   "source": [
    "convex_hull_image(tile_binary)"
   ]
  },
  {
   "cell_type": "code",
   "execution_count": 72,
   "metadata": {},
   "outputs": [],
   "source": [
    "ratio3 = area/convex_hull_image(tile_binary).sum()"
   ]
  },
  {
   "cell_type": "code",
   "execution_count": 73,
   "metadata": {},
   "outputs": [
    {
     "data": {
      "text/plain": [
       "0.44021164021164022"
      ]
     },
     "execution_count": 73,
     "metadata": {},
     "output_type": "execute_result"
    }
   ],
   "source": [
    "ratio3"
   ]
  },
  {
   "cell_type": "code",
   "execution_count": 52,
   "metadata": {},
   "outputs": [
    {
     "data": {
      "text/plain": [
       "0.44021164021164022"
      ]
     },
     "execution_count": 52,
     "metadata": {},
     "output_type": "execute_result"
    }
   ],
   "source": [
    "ratio_convex_hull(tile_binary, area)"
   ]
  },
  {
   "cell_type": "code",
   "execution_count": 75,
   "metadata": {},
   "outputs": [
    {
     "data": {
      "text/plain": [
       "7560"
      ]
     },
     "execution_count": 75,
     "metadata": {},
     "output_type": "execute_result"
    }
   ],
   "source": [
    "convex_hull_image(tile_binary).sum()"
   ]
  },
  {
   "cell_type": "markdown",
   "metadata": {},
   "source": [
    "### Check result"
   ]
  },
  {
   "cell_type": "code",
   "execution_count": 44,
   "metadata": {},
   "outputs": [],
   "source": [
    "f1r = np.zeros_like(f1)"
   ]
  },
  {
   "cell_type": "code",
   "execution_count": 48,
   "metadata": {},
   "outputs": [],
   "source": [
    "y_lim, x_lim = f1.shape"
   ]
  },
  {
   "cell_type": "code",
   "execution_count": 77,
   "metadata": {},
   "outputs": [],
   "source": [
    "y_lim, x_lim = f1.shape\n",
    "\n",
    "for x in range(x_lim):\n",
    "    for y in range(y_lim):\n",
    "        x1 = min(x_lim-1, max(0, int(x*math.cos(theta) - y*math.sin(theta))))\n",
    "        y1 = min(y_lim-1, max(0, int(x*math.sin(theta) + y*math.cos(theta))))\n",
    "        f1r[y][x] = f1[y1][x1]"
   ]
  },
  {
   "cell_type": "code",
   "execution_count": null,
   "metadata": {},
   "outputs": [],
   "source": []
  },
  {
   "cell_type": "code",
   "execution_count": 93,
   "metadata": {},
   "outputs": [
    {
     "data": {
      "text/plain": [
       "(24, 50)"
      ]
     },
     "execution_count": 93,
     "metadata": {},
     "output_type": "execute_result"
    }
   ],
   "source": [
    "inds[0][100*20+52],inds[1][100*20+52]"
   ]
  },
  {
   "cell_type": "code",
   "execution_count": 94,
   "metadata": {},
   "outputs": [
    {
     "data": {
      "text/plain": [
       "-0.00096289672323596729"
      ]
     },
     "execution_count": 94,
     "metadata": {},
     "output_type": "execute_result"
    }
   ],
   "source": [
    "f1r[20, 52]"
   ]
  },
  {
   "cell_type": "code",
   "execution_count": 95,
   "metadata": {},
   "outputs": [
    {
     "data": {
      "text/plain": [
       "-0.00096289672323596729"
      ]
     },
     "execution_count": 95,
     "metadata": {},
     "output_type": "execute_result"
    }
   ],
   "source": [
    "f1[24, 50]"
   ]
  },
  {
   "cell_type": "code",
   "execution_count": 104,
   "metadata": {},
   "outputs": [
    {
     "data": {
      "text/plain": [
       "True"
      ]
     },
     "execution_count": 104,
     "metadata": {},
     "output_type": "execute_result"
    }
   ],
   "source": [
    "np.equal(f1r2, f1r).all()"
   ]
  },
  {
   "cell_type": "code",
   "execution_count": 101,
   "metadata": {},
   "outputs": [
    {
     "data": {
      "text/plain": [
       "-0.00096289672323596729"
      ]
     },
     "execution_count": 101,
     "metadata": {},
     "output_type": "execute_result"
    }
   ],
   "source": [
    "f1r2[20, 52]"
   ]
  },
  {
   "cell_type": "code",
   "execution_count": null,
   "metadata": {},
   "outputs": [],
   "source": []
  },
  {
   "cell_type": "code",
   "execution_count": 14,
   "metadata": {},
   "outputs": [],
   "source": [
    "gausres = G(1.5, 2, 2, np.arange(-5, 5), np.arange(-5, 5))"
   ]
  },
  {
   "cell_type": "code",
   "execution_count": 16,
   "metadata": {
    "scrolled": true
   },
   "outputs": [
    {
     "data": {
      "image/png": "[encoded data removed]",
      "text/plain": [
       "<matplotlib.figure.Figure at 0x7f6b9ac6d208>"
      ]
     },
     "metadata": {},
     "output_type": "display_data"
    }
   ],
   "source": [
    "\n",
    "X,Y=np.meshgrid(np.linspace(-5,4,10),np.linspace(-5,4,10));\n",
    "fig=plt.figure();\n",
    "ax=fig.add_subplot(111,projection='3d')\n",
    "ax.plot_surface(X, Y, gausres)\n",
    "# surf=ax.plot_surface(X,Y,G,c='red')\n",
    "plt.show()"
   ]
  },
  {
   "cell_type": "code",
   "execution_count": 18,
   "metadata": {},
   "outputs": [
    {
     "data": {
      "text/plain": [
       "array([[ 0.00391391,  0.00388345,  0.00379349,  0.00364817,  0.00345402],\n",
       "       [ 0.0036098 ,  0.00358171,  0.00349874,  0.0033647 ,  0.00318564],\n",
       "       [ 0.00277449,  0.0027529 ,  0.00268913,  0.00258611,  0.00244848],\n",
       "       [ 0.00161234,  0.0015998 ,  0.00156274,  0.00150287,  0.00142289],\n",
       "       [ 0.00038658,  0.00038357,  0.00037468,  0.00036033,  0.00034115]])"
      ]
     },
     "execution_count": 18,
     "metadata": {},
     "output_type": "execute_result"
    }
   ],
   "source": [
    "DOOG2(np.arange(0, 5), np.arange(0, 5), 4, 2)"
   ]
  },
  {
   "cell_type": "code",
   "execution_count": 20,
   "metadata": {
    "scrolled": true
   },
   "outputs": [
    {
     "data": {
      "text/plain": [
       "array([[ -4.04866735e-06,  -4.29159896e-06,  -4.54013015e-06, ...,\n",
       "         -4.54013015e-06,  -4.29159896e-06,  -4.04866735e-06],\n",
       "       [ -5.93224151e-06,  -6.28819295e-06,  -6.65234908e-06, ...,\n",
       "         -6.65234908e-06,  -6.28819295e-06,  -5.93224151e-06],\n",
       "       [ -8.52716584e-06,  -9.03882017e-06,  -9.56226812e-06, ...,\n",
       "         -9.56226812e-06,  -9.03882017e-06,  -8.52716584e-06],\n",
       "       ..., \n",
       "       [ -8.52716584e-06,  -9.03882017e-06,  -9.56226812e-06, ...,\n",
       "         -9.56226812e-06,  -9.03882017e-06,  -8.52716584e-06],\n",
       "       [ -5.93224151e-06,  -6.28819295e-06,  -6.65234908e-06, ...,\n",
       "         -6.65234908e-06,  -6.28819295e-06,  -5.93224151e-06],\n",
       "       [ -4.04866735e-06,  -4.29159896e-06,  -4.54013015e-06, ...,\n",
       "         -4.54013015e-06,  -4.29159896e-06,  -4.04866735e-06]])"
      ]
     },
     "execution_count": 20,
     "metadata": {},
     "output_type": "execute_result"
    }
   ],
   "source": [
    "DOOG2_weight(7.5)"
   ]
  },
  {
   "cell_type": "code",
   "execution_count": 24,
   "metadata": {},
   "outputs": [
    {
     "data": {
      "image/png": "[encoded data removed]",
      "text/plain": [
       "<matplotlib.figure.Figure at 0x7f6b9ab96cc0>"
      ]
     },
     "metadata": {},
     "output_type": "display_data"
    }
   ],
   "source": [
    "X,Y=np.meshgrid(np.linspace(-12,12,25),np.linspace(-12,12, 25));\n",
    "fig=plt.figure();\n",
    "ax=fig.add_subplot(111,projection='3d')\n",
    "ax.plot_surface(X, Y, weights, color='red')\n",
    "# surf=ax.plot_surface(X,Y,G,c='red')\n",
    "plt.show()"
   ]
  },
  {
   "cell_type": "code",
   "execution_count": null,
   "metadata": {},
   "outputs": [],
   "source": []
  },
  {
   "cell_type": "code",
   "execution_count": null,
   "metadata": {},
   "outputs": [],
   "source": []
  },
  {
   "cell_type": "code",
   "execution_count": 25,
   "metadata": {},
   "outputs": [
    {
     "data": {
      "text/plain": [
       "0.00070527536908725728"
      ]
     },
     "execution_count": 25,
     "metadata": {},
     "output_type": "execute_result"
    }
   ],
   "source": [
    "np.mean([np.mean(convolve(tile[:, :, i], weights)) for i in range(3)])"
   ]
  },
  {
   "cell_type": "code",
   "execution_count": 30,
   "metadata": {},
   "outputs": [],
   "source": [
    "dog = DOG(np.arange(-5, 5, 0.1))"
   ]
  },
  {
   "cell_type": "code",
   "execution_count": 31,
   "metadata": {
    "scrolled": true
   },
   "outputs": [
    {
     "data": {
      "text/plain": [
       "[<matplotlib.lines.Line2D at 0x7f6b9abd5588>]"
      ]
     },
     "execution_count": 31,
     "metadata": {},
     "output_type": "execute_result"
    },
    {
     "data": {
      "image/png": "[encoded data removed]",
      "text/plain": [
       "<matplotlib.figure.Figure at 0x7f6b9ab961d0>"
      ]
     },
     "metadata": {},
     "output_type": "display_data"
    }
   ],
   "source": [
    "plt.plot(dog)"
   ]
  },
  {
   "cell_type": "code",
   "execution_count": 65,
   "metadata": {},
   "outputs": [
    {
     "data": {
      "text/plain": [
       "6"
      ]
     },
     "execution_count": 65,
     "metadata": {},
     "output_type": "execute_result"
    }
   ],
   "source": [
    "int(4 * 1.5 + 0.5)"
   ]
  },
  {
   "cell_type": "code",
   "execution_count": 66,
   "metadata": {},
   "outputs": [],
   "source": [
    "x = np.arange(-6, 6+1)\n",
    "y = np.arange(-6, 6+1)"
   ]
  },
  {
   "cell_type": "code",
   "execution_count": 67,
   "metadata": {},
   "outputs": [],
   "source": [
    "f1, f2 = calc_f1f2(x, y)"
   ]
  },
  {
   "cell_type": "code",
   "execution_count": 68,
   "metadata": {},
   "outputs": [],
   "source": [
    "inds = rotation_indices((2*math.pi)/12, f1.shape)"
   ]
  },
  {
   "cell_type": "code",
   "execution_count": 69,
   "metadata": {},
   "outputs": [],
   "source": [
    "f1r = f1[inds].reshape(f1.shape)"
   ]
  },
  {
   "cell_type": "code",
   "execution_count": null,
   "metadata": {},
   "outputs": [],
   "source": []
  },
  {
   "cell_type": "code",
   "execution_count": null,
   "metadata": {},
   "outputs": [],
   "source": []
  },
  {
   "cell_type": "code",
   "execution_count": null,
   "metadata": {},
   "outputs": [],
   "source": []
  },
  {
   "cell_type": "code",
   "execution_count": null,
   "metadata": {},
   "outputs": [],
   "source": []
  },
  {
   "cell_type": "code",
   "execution_count": 113,
   "metadata": {},
   "outputs": [
    {
     "data": {
      "text/plain": [
       "array([[ 0,  0,  0,  0,  0],\n",
       "       [ 5,  6,  7,  8,  9],\n",
       "       [10, 12, 14, 16, 18],\n",
       "       [15, 18, 21, 24, 27],\n",
       "       [20, 24, 28, 32, 36]])"
      ]
     },
     "execution_count": 113,
     "metadata": {},
     "output_type": "execute_result"
    }
   ],
   "source": [
    "np.arange(5).reshape(5, 1)*np.arange(5,10).reshape(1, 5)"
   ]
  },
  {
   "cell_type": "code",
   "execution_count": 122,
   "metadata": {},
   "outputs": [
    {
     "data": {
      "text/plain": [
       "array([[ 0,  5, 10, 15, 20],\n",
       "       [ 0,  6, 12, 18, 24],\n",
       "       [ 0,  7, 14, 21, 28],\n",
       "       [ 0,  8, 16, 24, 32],\n",
       "       [ 0,  9, 18, 27, 36]])"
      ]
     },
     "execution_count": 122,
     "metadata": {},
     "output_type": "execute_result"
    }
   ],
   "source": [
    "np.arange(5).reshape(1, 5)*np.arange(5,10).reshape(5, 1)"
   ]
  },
  {
   "cell_type": "code",
   "execution_count": 126,
   "metadata": {},
   "outputs": [
    {
     "data": {
      "text/plain": [
       "18"
      ]
     },
     "execution_count": 126,
     "metadata": {},
     "output_type": "execute_result"
    }
   ],
   "source": [
    "(np.arange(5).reshape(1, 5)*np.arange(5,10).reshape(5, 1))[1][3]"
   ]
  },
  {
   "cell_type": "code",
   "execution_count": 127,
   "metadata": {},
   "outputs": [
    {
     "data": {
      "text/plain": [
       "array([[ 0,  5, 10],\n",
       "       [ 0,  6, 12],\n",
       "       [ 0,  7, 14],\n",
       "       [ 0,  8, 16],\n",
       "       [ 0,  9, 18]])"
      ]
     },
     "execution_count": 127,
     "metadata": {},
     "output_type": "execute_result"
    }
   ],
   "source": [
    "np.arange(3).reshape(1, 3)*np.arange(5,10).reshape(5, 1)"
   ]
  },
  {
   "cell_type": "code",
   "execution_count": null,
   "metadata": {},
   "outputs": [],
   "source": []
  },
  {
   "cell_type": "code",
   "execution_count": null,
   "metadata": {},
   "outputs": [],
   "source": []
  },
  {
   "cell_type": "code",
   "execution_count": 112,
   "metadata": {},
   "outputs": [
    {
     "data": {
      "text/plain": [
       "array([0, 1, 2, 3, 4])"
      ]
     },
     "execution_count": 112,
     "metadata": {},
     "output_type": "execute_result"
    }
   ],
   "source": [
    "np.arange(5).reshape(1, 5)[0]"
   ]
  },
  {
   "cell_type": "raw",
   "metadata": {},
   "source": [
    "### There are no way to compute offset gaussian using filters module. So I can't implement this way\n",
    "\n",
    "def filterDOOG2(img, sigma, r=3):\n",
    "    sigmay = sigma\n",
    "    sigmax = r*sigma\n",
    "    ya = sigma\n",
    "    yc = -sigma\n",
    "    return -filters.gaussian(ya, [sigmax, sigmay], x, y) + 2*G(0, sigmax, sigmay, x, y) - G(yc, sigmax, sigmay, x, y)"
   ]
  },
  {
   "cell_type": "code",
   "execution_count": null,
   "metadata": {
    "scrolled": true
   },
   "outputs": [],
   "source": [
    "tmp = norm.pdf(np.arange(-10, 10, 0.1), scale=5)\n",
    "plt.plot(np.arange(-10, 10, 0.1), tmp)"
   ]
  },
  {
   "cell_type": "code",
   "execution_count": null,
   "metadata": {},
   "outputs": [],
   "source": []
  },
  {
   "cell_type": "code",
   "execution_count": 11,
   "metadata": {},
   "outputs": [
    {
     "data": {
      "text/plain": [
       "(0.37209400017472155, 0.10217063437619424, -0.09780083132038393)"
      ]
     },
     "execution_count": 11,
     "metadata": {},
     "output_type": "execute_result"
    }
   ],
   "source": [
    "calc_moments(tile[:, :, 0])"
   ]
  },
  {
   "cell_type": "code",
   "execution_count": null,
   "metadata": {},
   "outputs": [],
   "source": []
  },
  {
   "cell_type": "code",
   "execution_count": 21,
   "metadata": {},
   "outputs": [
    {
     "data": {
      "text/plain": [
       "array([[ 0.51498902,  0.51498902,  0.51498902],\n",
       "       [ 0.51498902,  0.51498902,  0.51498902],\n",
       "       [ 0.51777176,  0.51777176,  0.51777176]])"
      ]
     },
     "execution_count": 21,
     "metadata": {},
     "output_type": "execute_result"
    }
   ],
   "source": [
    "color.rgb2gray(tile[0:3, 0:3, :])"
   ]
  },
  {
   "cell_type": "code",
   "execution_count": null,
   "metadata": {},
   "outputs": [],
   "source": []
  },
  {
   "cell_type": "code",
   "execution_count": null,
   "metadata": {},
   "outputs": [],
   "source": []
  },
  {
   "cell_type": "code",
   "execution_count": 26,
   "metadata": {},
   "outputs": [],
   "source": [
    "tmp = tile[0:3, 0:3, :]"
   ]
  },
  {
   "cell_type": "code",
   "execution_count": 27,
   "metadata": {},
   "outputs": [
    {
     "data": {
      "text/plain": [
       "[(0.25882352941176467, 0.0055459355387180269, 0.15959603823333823),\n",
       " (0.56470588235294117, 0.0, -0.241661910774848),\n",
       " (0.78954248366013069, 0.0018486451795726665, -0.44268744485027073)]"
      ]
     },
     "execution_count": 27,
     "metadata": {},
     "output_type": "execute_result"
    }
   ],
   "source": [
    "[calc_moments(tmp[:, :, i]) for i in range(3)]"
   ]
  },
  {
   "cell_type": "code",
   "execution_count": 28,
   "metadata": {},
   "outputs": [
    {
     "data": {
      "text/plain": [
       "12"
      ]
     },
     "execution_count": 28,
     "metadata": {},
     "output_type": "execute_result"
    }
   ],
   "source": [
    "len(calc_4_moments(tmp))"
   ]
  },
  {
   "cell_type": "code",
   "execution_count": 29,
   "metadata": {},
   "outputs": [
    {
     "data": {
      "text/plain": [
       "[0.37209400017472155,\n",
       " 0.10217063437619424,\n",
       " -0.09780083132038393,\n",
       " 0.60834722741120328,\n",
       " 0.069683966722592888,\n",
       " -0.2781541238099151,\n",
       " 0.8166978005535328,\n",
       " 0.05321479042159858,\n",
       " -0.4683674599313368,\n",
       " 0.5731654929470128,\n",
       " 0.073980597551597832,\n",
       " -0.2485871934295749]"
      ]
     },
     "execution_count": 29,
     "metadata": {},
     "output_type": "execute_result"
    }
   ],
   "source": [
    "calc_4_moments(tile)"
   ]
  },
  {
   "cell_type": "code",
   "execution_count": null,
   "metadata": {},
   "outputs": [],
   "source": []
  },
  {
   "cell_type": "code",
   "execution_count": null,
   "metadata": {},
   "outputs": [],
   "source": []
  },
  {
   "cell_type": "code",
   "execution_count": null,
   "metadata": {},
   "outputs": [],
   "source": []
  },
  {
   "cell_type": "code",
   "execution_count": null,
   "metadata": {},
   "outputs": [],
   "source": []
  },
  {
   "cell_type": "code",
   "execution_count": null,
   "metadata": {},
   "outputs": [],
   "source": []
  },
  {
   "cell_type": "code",
   "execution_count": null,
   "metadata": {},
   "outputs": [],
   "source": []
  },
  {
   "cell_type": "code",
   "execution_count": 19,
   "metadata": {},
   "outputs": [],
   "source": [
    "def gray_arr(rgbarr):\n",
    "    return (rgbarr[:, :, 0]+rgbarr[:, :, 1]+rgbarr[:, :, 2])/3"
   ]
  },
  {
   "cell_type": "code",
   "execution_count": 20,
   "metadata": {},
   "outputs": [
    {
     "data": {
      "text/plain": [
       "array([[ 0.53594771,  0.53594771,  0.53594771],\n",
       "       [ 0.53594771,  0.53594771,  0.53594771],\n",
       "       [ 0.54117647,  0.54117647,  0.54117647]])"
      ]
     },
     "execution_count": 20,
     "metadata": {},
     "output_type": "execute_result"
    }
   ],
   "source": [
    "gray_arr(tile[0:3, 0:3, :])"
   ]
  },
  {
   "cell_type": "code",
   "execution_count": null,
   "metadata": {},
   "outputs": [],
   "source": []
  },
  {
   "cell_type": "code",
   "execution_count": 21,
   "metadata": {},
   "outputs": [
    {
     "data": {
      "text/plain": [
       "Image([[65, 65, 65],\n",
       "       [65, 65, 65],\n",
       "       [68, 68, 68]])"
      ]
     },
     "execution_count": 21,
     "metadata": {},
     "output_type": "execute_result"
    }
   ],
   "source": [
    "tile[0:3, 0:3, 0]"
   ]
  },
  {
   "cell_type": "code",
   "execution_count": 22,
   "metadata": {},
   "outputs": [
    {
     "data": {
      "text/plain": [
       "Image([[144, 144, 144],\n",
       "       [144, 144, 144],\n",
       "       [144, 144, 144]])"
      ]
     },
     "execution_count": 22,
     "metadata": {},
     "output_type": "execute_result"
    }
   ],
   "source": [
    "tile[0:3, 0:3, 1]"
   ]
  },
  {
   "cell_type": "code",
   "execution_count": 23,
   "metadata": {},
   "outputs": [
    {
     "data": {
      "text/plain": [
       "Image([[201, 201, 201],\n",
       "       [201, 201, 201],\n",
       "       [202, 202, 202]])"
      ]
     },
     "execution_count": 23,
     "metadata": {},
     "output_type": "execute_result"
    }
   ],
   "source": [
    "tile[0:3, 0:3, 2]"
   ]
  },
  {
   "cell_type": "code",
   "execution_count": 24,
   "metadata": {},
   "outputs": [
    {
     "data": {
      "text/plain": [
       "Image([[ 136.66666667,  136.66666667,  136.66666667],\n",
       "       [ 136.66666667,  136.66666667,  136.66666667],\n",
       "       [ 138.        ,  138.        ,  138.        ]])"
      ]
     },
     "execution_count": 24,
     "metadata": {},
     "output_type": "execute_result"
    }
   ],
   "source": [
    "(tile[0:3, 0:3, 0]+tile[0:3, 0:3, 1]+tile[0:3, 0:3, 2])/3"
   ]
  },
  {
   "cell_type": "code",
   "execution_count": null,
   "metadata": {},
   "outputs": [],
   "source": []
  },
  {
   "cell_type": "code",
   "execution_count": null,
   "metadata": {},
   "outputs": [],
   "source": []
  },
  {
   "cell_type": "code",
   "execution_count": 9,
   "metadata": {},
   "outputs": [],
   "source": [
    "r_1_moment = np.mean(tile[:, :, 0])"
   ]
  },
  {
   "cell_type": "code",
   "execution_count": 10,
   "metadata": {},
   "outputs": [
    {
     "data": {
      "text/plain": [
       "94.88397004455399"
      ]
     },
     "execution_count": 10,
     "metadata": {},
     "output_type": "execute_result"
    }
   ],
   "source": [
    "r_1_moment"
   ]
  },
  {
   "cell_type": "code",
   "execution_count": 11,
   "metadata": {},
   "outputs": [
    {
     "data": {
      "text/plain": [
       "94.88397004455399"
      ]
     },
     "execution_count": 11,
     "metadata": {},
     "output_type": "execute_result"
    }
   ],
   "source": [
    "np.sum(tile[:, :, 0])/(tile.shape[0]*tile.shape[1])"
   ]
  },
  {
   "cell_type": "code",
   "execution_count": 12,
   "metadata": {},
   "outputs": [],
   "source": [
    "import math"
   ]
  },
  {
   "cell_type": "code",
   "execution_count": 13,
   "metadata": {},
   "outputs": [
    {
     "data": {
      "text/plain": [
       "678.78547533742858"
      ]
     },
     "execution_count": 13,
     "metadata": {},
     "output_type": "execute_result"
    }
   ],
   "source": [
    "np.sum((tile[:, :, 0]-r_1_moment)**2)/(tile.shape[0]*tile.shape[1])"
   ]
  },
  {
   "cell_type": "code",
   "execution_count": 14,
   "metadata": {},
   "outputs": [
    {
     "data": {
      "text/plain": [
       "678.78547533742858"
      ]
     },
     "execution_count": 14,
     "metadata": {},
     "output_type": "execute_result"
    }
   ],
   "source": [
    "np.mean((tile[:, :, 0]-r_1_moment)**2)"
   ]
  },
  {
   "cell_type": "code",
   "execution_count": 15,
   "metadata": {},
   "outputs": [],
   "source": [
    "r_2_moment = np.mean((tile[:, :, 0]-r_1_moment)**2)**(1/2)"
   ]
  },
  {
   "cell_type": "code",
   "execution_count": 16,
   "metadata": {},
   "outputs": [
    {
     "data": {
      "text/plain": [
       "26.053511765929532"
      ]
     },
     "execution_count": 16,
     "metadata": {},
     "output_type": "execute_result"
    }
   ],
   "source": [
    "r_2_moment"
   ]
  },
  {
   "cell_type": "code",
   "execution_count": 73,
   "metadata": {},
   "outputs": [
    {
     "data": {
      "text/plain": [
       "26.05351176592953"
      ]
     },
     "execution_count": 73,
     "metadata": {},
     "output_type": "execute_result"
    }
   ],
   "source": [
    "math.sqrt(np.mean((tile[:, :, 0]-r_1_moment)**2))"
   ]
  },
  {
   "cell_type": "code",
   "execution_count": 81,
   "metadata": {},
   "outputs": [
    {
     "name": "stderr",
     "output_type": "stream",
     "text": [
      "/usr/local/lib/python3.5/dist-packages/ipykernel_launcher.py:1: RuntimeWarning: invalid value encountered in double_scalars\n",
      "  \"\"\"Entry point for launching an IPython kernel.\n"
     ]
    }
   ],
   "source": [
    "r_3_moment = (np.mean((tile[:, :, 0]-r_1_moment)**3))**(1./3)"
   ]
  },
  {
   "cell_type": "code",
   "execution_count": 68,
   "metadata": {},
   "outputs": [
    {
     "data": {
      "text/plain": [
       "nan"
      ]
     },
     "execution_count": 68,
     "metadata": {},
     "output_type": "execute_result"
    }
   ],
   "source": [
    "r_3_moment"
   ]
  },
  {
   "cell_type": "code",
   "execution_count": 91,
   "metadata": {},
   "outputs": [
    {
     "data": {
      "text/plain": [
       "-15511.299389127838"
      ]
     },
     "execution_count": 91,
     "metadata": {},
     "output_type": "execute_result"
    }
   ],
   "source": [
    "np.mean((tile[:, :, 0]-r_1_moment)**3).astype(float)"
   ]
  },
  {
   "cell_type": "code",
   "execution_count": 85,
   "metadata": {},
   "outputs": [
    {
     "data": {
      "text/plain": [
       "numpy.float64"
      ]
     },
     "execution_count": 85,
     "metadata": {},
     "output_type": "execute_result"
    }
   ],
   "source": [
    "type(np.mean((tile[:, :, 0]-r_1_moment)**3))"
   ]
  },
  {
   "cell_type": "code",
   "execution_count": 82,
   "metadata": {
    "scrolled": true
   },
   "outputs": [
    {
     "name": "stderr",
     "output_type": "stream",
     "text": [
      "/usr/local/lib/python3.5/dist-packages/ipykernel_launcher.py:1: RuntimeWarning: invalid value encountered in power\n",
      "  \"\"\"Entry point for launching an IPython kernel.\n"
     ]
    }
   ],
   "source": [
    "r_3_moment = np.power(np.mean((tile[:, :, 0]-r_1_moment)**3), 1/3)"
   ]
  },
  {
   "cell_type": "code",
   "execution_count": null,
   "metadata": {},
   "outputs": [],
   "source": []
  },
  {
   "cell_type": "code",
   "execution_count": 88,
   "metadata": {},
   "outputs": [
    {
     "name": "stderr",
     "output_type": "stream",
     "text": [
      "/usr/local/lib/python3.5/dist-packages/ipykernel_launcher.py:1: RuntimeWarning: invalid value encountered in power\n",
      "  \"\"\"Entry point for launching an IPython kernel.\n"
     ]
    }
   ],
   "source": [
    "r_3_moment = np.power(np.mean((tile[:, :, 0]-r_1_moment)**3).astype(float), 1/3)"
   ]
  },
  {
   "cell_type": "code",
   "execution_count": 89,
   "metadata": {},
   "outputs": [
    {
     "data": {
      "text/plain": [
       "nan"
      ]
     },
     "execution_count": 89,
     "metadata": {},
     "output_type": "execute_result"
    }
   ],
   "source": [
    "r_3_moment"
   ]
  },
  {
   "cell_type": "code",
   "execution_count": 105,
   "metadata": {},
   "outputs": [
    {
     "data": {
      "text/plain": [
       "-24.93921198669789"
      ]
     },
     "execution_count": 105,
     "metadata": {},
     "output_type": "execute_result"
    }
   ],
   "source": [
    "-15511.299389127838**(1/3)"
   ]
  },
  {
   "cell_type": "code",
   "execution_count": 100,
   "metadata": {
    "scrolled": true
   },
   "outputs": [
    {
     "data": {
      "text/plain": [
       "(12.46960599334895+21.597991130845752j)"
      ]
     },
     "execution_count": 100,
     "metadata": {},
     "output_type": "execute_result"
    }
   ],
   "source": [
    "(-15511.299389127838)**(1/3)"
   ]
  },
  {
   "cell_type": "code",
   "execution_count": 95,
   "metadata": {},
   "outputs": [
    {
     "data": {
      "text/plain": [
       "-15511.299389127838"
      ]
     },
     "execution_count": 95,
     "metadata": {},
     "output_type": "execute_result"
    }
   ],
   "source": [
    "np.mean((tile[:, :, 0]-r_1_moment)**3).astype(float)"
   ]
  },
  {
   "cell_type": "code",
   "execution_count": 97,
   "metadata": {},
   "outputs": [
    {
     "name": "stderr",
     "output_type": "stream",
     "text": [
      "/usr/local/lib/python3.5/dist-packages/ipykernel_launcher.py:1: RuntimeWarning: invalid value encountered in double_scalars\n",
      "  \"\"\"Entry point for launching an IPython kernel.\n"
     ]
    },
    {
     "data": {
      "text/plain": [
       "nan"
      ]
     },
     "execution_count": 97,
     "metadata": {},
     "output_type": "execute_result"
    }
   ],
   "source": [
    "(np.mean((tile[:, :, 0]-r_1_moment)**3).astype(float))**(1/3)"
   ]
  },
  {
   "cell_type": "markdown",
   "metadata": {},
   "source": [
    "Negative cuberoot return complex answer (it also valid from the methematical point of view, but not what people want)\n",
    "\n",
    "- https://stackoverflow.com/questions/1361740/cubic-root-of-the-negative-number-on-python\n",
    "- https://stackoverflow.com/questions/45906383/python-exponent-operator-with-fractional-exponents"
   ]
  },
  {
   "cell_type": "code",
   "execution_count": 107,
   "metadata": {},
   "outputs": [
    {
     "data": {
      "text/plain": [
       "-24.93921198669789"
      ]
     },
     "execution_count": 107,
     "metadata": {},
     "output_type": "execute_result"
    }
   ],
   "source": [
    "calc_moment3(tile[:, :, 0], r_1_moment)"
   ]
  },
  {
   "cell_type": "code",
   "execution_count": 108,
   "metadata": {},
   "outputs": [],
   "source": [
    "r_3_moment = moment3(tile[:, :, 0], r_1_moment)"
   ]
  },
  {
   "cell_type": "code",
   "execution_count": null,
   "metadata": {},
   "outputs": [],
   "source": []
  },
  {
   "cell_type": "code",
   "execution_count": 109,
   "metadata": {},
   "outputs": [
    {
     "data": {
      "text/plain": [
       "(94.88397004455399, 26.053511765929532, -24.93921198669789)"
      ]
     },
     "execution_count": 109,
     "metadata": {},
     "output_type": "execute_result"
    }
   ],
   "source": [
    "r_1_moment, r_2_moment, r_3_moment"
   ]
  },
  {
   "cell_type": "code",
   "execution_count": 113,
   "metadata": {},
   "outputs": [
    {
     "data": {
      "text/plain": [
       "(155.12854298985687, 17.769411514261186, -70.92930157152836)"
      ]
     },
     "execution_count": 113,
     "metadata": {},
     "output_type": "execute_result"
    }
   ],
   "source": [
    "calc_moments(tile[:, :, 1])"
   ]
  },
  {
   "cell_type": "code",
   "execution_count": 114,
   "metadata": {},
   "outputs": [
    {
     "data": {
      "text/plain": [
       "(208.25793914115081, 13.569771557507638, -119.4337022824908)"
      ]
     },
     "execution_count": 114,
     "metadata": {},
     "output_type": "execute_result"
    }
   ],
   "source": [
    "calc_moments(tile[:, :, 2])"
   ]
  },
  {
   "cell_type": "code",
   "execution_count": null,
   "metadata": {},
   "outputs": [],
   "source": []
  },
  {
   "cell_type": "code",
   "execution_count": null,
   "metadata": {},
   "outputs": [],
   "source": []
  },
  {
   "cell_type": "code",
   "execution_count": null,
   "metadata": {},
   "outputs": [],
   "source": []
  },
  {
   "cell_type": "code",
   "execution_count": null,
   "metadata": {},
   "outputs": [],
   "source": []
  },
  {
   "cell_type": "code",
   "execution_count": 32,
   "metadata": {},
   "outputs": [],
   "source": [
    "tmp = np.array([3, 4, 5])"
   ]
  },
  {
   "cell_type": "code",
   "execution_count": 33,
   "metadata": {},
   "outputs": [
    {
     "data": {
      "text/plain": [
       "array([ 9, 16, 25])"
      ]
     },
     "execution_count": 33,
     "metadata": {},
     "output_type": "execute_result"
    }
   ],
   "source": [
    "tmp**2"
   ]
  },
  {
   "cell_type": "code",
   "execution_count": 34,
   "metadata": {},
   "outputs": [
    {
     "data": {
      "text/plain": [
       "array([ 27,  64, 125])"
      ]
     },
     "execution_count": 34,
     "metadata": {},
     "output_type": "execute_result"
    }
   ],
   "source": [
    "tmp**3"
   ]
  },
  {
   "cell_type": "code",
   "execution_count": null,
   "metadata": {},
   "outputs": [],
   "source": []
  },
  {
   "cell_type": "code",
   "execution_count": 39,
   "metadata": {},
   "outputs": [],
   "source": [
    "itile = tile.astype(int)"
   ]
  },
  {
   "cell_type": "code",
   "execution_count": 43,
   "metadata": {},
   "outputs": [
    {
     "data": {
      "text/plain": [
       "Image([[65, 65, 65],\n",
       "       [65, 65, 65],\n",
       "       [68, 68, 68]], dtype=uint8)"
      ]
     },
     "execution_count": 43,
     "metadata": {},
     "output_type": "execute_result"
    }
   ],
   "source": [
    "tile[0:3, 0:3, 0]"
   ]
  },
  {
   "cell_type": "code",
   "execution_count": 40,
   "metadata": {},
   "outputs": [
    {
     "data": {
      "text/plain": [
       "Image([[65, 65, 65],\n",
       "       [65, 65, 65],\n",
       "       [68, 68, 68]])"
      ]
     },
     "execution_count": 40,
     "metadata": {},
     "output_type": "execute_result"
    }
   ],
   "source": [
    "itile[0:3, 0:3, 0]"
   ]
  },
  {
   "cell_type": "code",
   "execution_count": 41,
   "metadata": {},
   "outputs": [
    {
     "data": {
      "text/plain": [
       "Image([[4225, 4225, 4225],\n",
       "       [4225, 4225, 4225],\n",
       "       [4624, 4624, 4624]])"
      ]
     },
     "execution_count": 41,
     "metadata": {},
     "output_type": "execute_result"
    }
   ],
   "source": [
    "itile[0:3, 0:3, 0]**2"
   ]
  },
  {
   "cell_type": "code",
   "execution_count": 42,
   "metadata": {},
   "outputs": [
    {
     "data": {
      "text/plain": [
       "Image([[274625, 274625, 274625],\n",
       "       [274625, 274625, 274625],\n",
       "       [314432, 314432, 314432]])"
      ]
     },
     "execution_count": 42,
     "metadata": {},
     "output_type": "execute_result"
    }
   ],
   "source": [
    "itile[0:3, 0:3, 0]**3"
   ]
  },
  {
   "cell_type": "code",
   "execution_count": null,
   "metadata": {},
   "outputs": [],
   "source": []
  },
  {
   "cell_type": "code",
   "execution_count": null,
   "metadata": {},
   "outputs": [],
   "source": []
  },
  {
   "cell_type": "code",
   "execution_count": null,
   "metadata": {},
   "outputs": [],
   "source": []
  },
  {
   "cell_type": "code",
   "execution_count": null,
   "metadata": {},
   "outputs": [],
   "source": []
  }
 ],
 "metadata": {
  "kernelspec": {
   "display_name": "Python 3",
   "language": "python",
   "name": "python3"
  }
 },
 "nbformat": 4,
 "nbformat_minor": 2
}
