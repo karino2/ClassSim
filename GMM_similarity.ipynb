{
 "cells": [
  {
   "cell_type": "markdown",
   "metadata": {},
   "source": [
    "# Compute similarities of previous study.\n",
    "\n",
    "Reproduce the results of [Measuring semantic similarity between concepts in visual domain](http://ieeexplore.ieee.org/document/4665152/)."
   ]
  },
  {
   "cell_type": "code",
   "execution_count": 1,
   "metadata": {},
   "outputs": [],
   "source": [
    "%matplotlib inline\n",
    "\n",
    "from scipy.misc import imread\n",
    "import numpy as np\n",
    "from skimage import color, filters, img_as_float\n",
    "import math\n",
    "import matplotlib.pyplot as plt\n",
    "from mpl_toolkits.mplot3d import Axes3D"
   ]
  },
  {
   "cell_type": "markdown",
   "metadata": {},
   "source": [
    "Define functions for getting tiles in an image and normalizing an image."
   ]
  },
  {
   "cell_type": "code",
   "execution_count": 2,
   "metadata": {},
   "outputs": [],
   "source": [
    "def get_tile(tile_row, tile_col, img, img_gray, img_binary):\n",
    "    tile_h = int(img.shape[0]/5)\n",
    "    tile_w = int(img.shape[1]/5)\n",
    "    y0, y1, x0, x1 = tile_row*tile_h, ((tile_row+1)*tile_h), tile_col*tile_w, (tile_col+1)*tile_w\n",
    "    tile = img[y0:y1, x0:x1, :]\n",
    "    tile_gray = img_gray[y0:y1, x0:x1]\n",
    "    tile_binary = img_binary[y0:y1, x0:x1]\n",
    "    return tile, tile_gray, tile_binary"
   ]
  },
  {
   "cell_type": "code",
   "execution_count": 3,
   "metadata": {},
   "outputs": [],
   "source": [
    "from scipy.misc import imresize\n",
    "MAX_SIZE = 225\n",
    "\n",
    "def im_normalized_read(fname, size_limit = MAX_SIZE):\n",
    "    from skimage.transform import resize\n",
    "    img =  imread(fname)\n",
    "    max_len = np.max(img.shape)\n",
    "    if max_len <= size_limit:\n",
    "        return img_as_float(img)\n",
    "    \n",
    "    ratio = size_limit/max_len\n",
    "    new_img = imresize(img, size=ratio, interp='bicubic')\n",
    "    return img_as_float(new_img)"
   ]
  },
  {
   "cell_type": "markdown",
   "metadata": {},
   "source": [
    "## Feature extraction\n",
    "\n",
    "Here we treat four types of fetures: coloer moment, DOOG filter, orientation filter, shape features."
   ]
  },
  {
   "cell_type": "markdown",
   "metadata": {},
   "source": [
    "### Color moment"
   ]
  },
  {
   "cell_type": "code",
   "execution_count": 4,
   "metadata": {},
   "outputs": [],
   "source": [
    "def calc_moment3(arr, moment1):\n",
    "    cubed = np.mean((arr-moment1)**3)\n",
    "    return math.pow(abs(cubed),1/3) * (1,-1)[cubed<0]"
   ]
  },
  {
   "cell_type": "code",
   "execution_count": 5,
   "metadata": {},
   "outputs": [],
   "source": [
    "def calc_moments(arr):\n",
    "    moment1 = np.mean(arr)\n",
    "    moment2 = np.mean((arr-moment1)**2)**(1/2)\n",
    "    moment3 = calc_moment3(arr, moment1)\n",
    "    return moment1, moment2, moment3"
   ]
  },
  {
   "cell_type": "code",
   "execution_count": 6,
   "metadata": {},
   "outputs": [],
   "source": [
    "def calc_4_rgb_moments(rgbarr):\n",
    "    r1, r2, r3 = calc_moments(rgbarr[:, :, 0])\n",
    "    g1, g2, g3 = calc_moments(rgbarr[:, :, 1])\n",
    "    b1, b2, b3 = calc_moments(rgbarr[:, :, 2])\n",
    "    gray = color.rgb2gray(rgbarr)\n",
    "    gr1, gr2, gr3 = calc_moments(gray)\n",
    "    return [r1, r2, r3, g1, g2, g3, b1, b2, b3, gr1, gr2, gr3]"
   ]
  },
  {
   "cell_type": "markdown",
   "metadata": {},
   "source": [
    "### DOOG filter\n",
    "\n",
    "Based on Figure 2 in [Preattentive texture discrimination with early vision mechanisms](https://www.ncbi.nlm.nih.gov/pubmed/2338600)."
   ]
  },
  {
   "cell_type": "code",
   "execution_count": 7,
   "metadata": {},
   "outputs": [],
   "source": [
    "def G(y0, sigmax, sigmay, x, y):\n",
    "    # The definition of G seems wrong, I refer original Yang's paper.\n",
    "    # return (1/(2*math.pi* sigmax*sigmay)) *np.exp(- (x**2) + (y- y0/sigmay)**2)\n",
    "    dimx = len(x)\n",
    "    dimy = len(y)\n",
    "    return (1/(2*math.pi* sigmax*sigmay)) *np.exp(- (1/2) * (((x/sigmax)**2).reshape(1, dimx) + (((y- y0)/sigmay)**2).reshape(dimy, 1)))"
   ]
  },
  {
   "cell_type": "code",
   "execution_count": 8,
   "metadata": {},
   "outputs": [],
   "source": [
    "def DOOG2(x, y, sigma, r=3):\n",
    "    sigmay = sigma\n",
    "    sigmax = r*sigma\n",
    "    ya = sigma\n",
    "    yc = -sigma\n",
    "    return -G(ya, sigmax, sigmay, x, y) + 2*G(0, sigmax, sigmay, x, y) - G(yc, sigmax, sigmay, x, y)"
   ]
  },
  {
   "cell_type": "code",
   "execution_count": 9,
   "metadata": {},
   "outputs": [],
   "source": [
    "def DOOG2_weight(sigma, r=3, truncate=4):\n",
    "    # similar filter size logic as filters.gaussian of scipy.\n",
    "    lw = int(truncate * sigma + 0.5)\n",
    "    return DOOG2(np.arange(-lw, lw+1), np.arange(-lw, lw+1), sigma, r)"
   ]
  },
  {
   "cell_type": "code",
   "execution_count": 10,
   "metadata": {},
   "outputs": [],
   "source": [
    "# https://docs.scipy.org/doc/scipy-0.16.1/reference/generated/scipy.ndimage.filters.convolve.html\n",
    "from scipy.ndimage.filters import convolve"
   ]
  },
  {
   "cell_type": "code",
   "execution_count": 11,
   "metadata": {},
   "outputs": [],
   "source": [
    "def kernel2feature(img, weights):\n",
    "    return np.mean([np.mean(convolve(img[:, :, i], weights)) for i in range(3)])"
   ]
  },
  {
   "cell_type": "code",
   "execution_count": 12,
   "metadata": {},
   "outputs": [],
   "source": [
    "# use global variable for speed\n",
    "# use sigma of 1, 2, 4, 8\n",
    "\n",
    "KERNELS = [DOOG2_weight(i) for i in [1, 2, 4, 8]]"
   ]
  },
  {
   "cell_type": "code",
   "execution_count": 13,
   "metadata": {},
   "outputs": [],
   "source": [
    "def tile2doog_features(tile):\n",
    "    # to make scale similar\n",
    "    return [1000*kernel2feature(tile, kernel) for kernel in KERNELS]"
   ]
  },
  {
   "cell_type": "markdown",
   "metadata": {},
   "source": [
    "### Orientation feature"
   ]
  },
  {
   "cell_type": "code",
   "execution_count": 14,
   "metadata": {},
   "outputs": [],
   "source": [
    "from scipy.stats import norm"
   ]
  },
  {
   "cell_type": "code",
   "execution_count": 15,
   "metadata": {},
   "outputs": [],
   "source": [
    "def DOG(y, sigma1=0.5, sigma2=1.5):\n",
    "    fy1 = norm.pdf(y, scale=sigma1)\n",
    "    fy2 = norm.pdf(y, scale=sigma2)\n",
    "    dog = fy1 - fy2\n",
    "    return dog"
   ]
  },
  {
   "cell_type": "code",
   "execution_count": 16,
   "metadata": {},
   "outputs": [],
   "source": [
    "def calc_f1(x, y, sigma):\n",
    "    fx = norm.pdf(x, scale=sigma).reshape(1, len(x))\n",
    "    fy = DOG(y).reshape(len(y), 1)\n",
    "    # should access f1[y][x]\n",
    "    return fx*fy"
   ]
  },
  {
   "cell_type": "code",
   "execution_count": 17,
   "metadata": {},
   "outputs": [],
   "source": [
    "from scipy.signal import hilbert"
   ]
  },
  {
   "cell_type": "code",
   "execution_count": 18,
   "metadata": {},
   "outputs": [],
   "source": [
    "def calc_f1f2(x, y, sigma):\n",
    "    f1 = calc_f1(x, y, sigma)\n",
    "    f2 = np.imag(hilbert(f1))\n",
    "    return f1, f2"
   ]
  },
  {
   "cell_type": "code",
   "execution_count": 19,
   "metadata": {},
   "outputs": [],
   "source": [
    "def rotation_indices(theta, shape):\n",
    "    \"\"\"return ([y1, y2, y3, ...], [x1, x2, x3, ...]). Use for numpy indices\"\"\"\n",
    "    y_lim, x_lim = shape\n",
    "    cos = math.cos(theta)\n",
    "    sin = math.sin(theta)\n",
    "    pairs = [(min(y_lim-1, max(0, int(x*sin + y*cos))),\n",
    "              min(x_lim-1, max(0, int(x*cos - y*sin))))\n",
    "            for y in range(y_lim)\n",
    "            for x in range(x_lim)]\n",
    "    return list(zip(*pairs))"
   ]
  },
  {
   "cell_type": "markdown",
   "metadata": {},
   "source": [
    "Compute weights"
   ]
  },
  {
   "cell_type": "code",
   "execution_count": 20,
   "metadata": {},
   "outputs": [],
   "source": [
    "def orientation_weights(theta, sigma, truncate=4):\n",
    "    # similar filter size logic as filters.gaussian of scipy.\n",
    "    lw = int(truncate * sigma + 0.5)\n",
    "    \n",
    "    x = np.arange(-lw, lw+1)\n",
    "    y = np.arange(-lw, lw+1)\n",
    "    f1, f2 = calc_f1f2(x, y, sigma)\n",
    "    inds = rotation_indices(theta, f1.shape)\n",
    "    f1r = f1[inds].reshape(f1.shape)\n",
    "    f2r = f2[inds].reshape(f2.shape)\n",
    "    return f1r, f2r"
   ]
  },
  {
   "cell_type": "code",
   "execution_count": 21,
   "metadata": {},
   "outputs": [],
   "source": [
    "def orientation_energy(img, theta, sigma=1.5, truncate=4):\n",
    "    f1, f2 = orientation_weights(theta, sigma)\n",
    "    ex2 = convolve(img, f1)**2\n",
    "    ey2 = convolve(img, f2)**2\n",
    "    # make scale similar\n",
    "    return 1000*np.mean(ex2+ey2)"
   ]
  },
  {
   "cell_type": "code",
   "execution_count": 22,
   "metadata": {},
   "outputs": [],
   "source": [
    "def orientation_12_energy(gray_img):\n",
    "    return [orientation_energy(gray_img, i*(2*math.pi)/12) for i in range(12)]"
   ]
  },
  {
   "cell_type": "markdown",
   "metadata": {},
   "source": [
    "### Shape features"
   ]
  },
  {
   "cell_type": "code",
   "execution_count": 23,
   "metadata": {},
   "outputs": [],
   "source": [
    "from skimage.filters import threshold_otsu"
   ]
  },
  {
   "cell_type": "code",
   "execution_count": 24,
   "metadata": {},
   "outputs": [],
   "source": [
    "def gray2binary(gray_img):\n",
    "    threds = threshold_otsu(gray_img)\n",
    "    return gray_img <= threds"
   ]
  },
  {
   "cell_type": "code",
   "execution_count": 25,
   "metadata": {},
   "outputs": [],
   "source": [
    "import skimage"
   ]
  },
  {
   "cell_type": "markdown",
   "metadata": {},
   "source": [
    "#### Perimeter, area"
   ]
  },
  {
   "cell_type": "code",
   "execution_count": 26,
   "metadata": {},
   "outputs": [],
   "source": [
    "# Paper says the ratio of the area to the perimeter squared, but inverse is much more common, which is compactness.\n",
    "# standard definition divide this value with 4pi, but it's not important for our case.\n",
    "\n",
    "def compactness(img_binary):\n",
    "    l = skimage.measure.perimeter(img_binary)\n",
    "    area = img_binary.sum()\n",
    "    if area == 0:\n",
    "        return 1, area\n",
    "    return (l**2)/area, area"
   ]
  },
  {
   "cell_type": "markdown",
   "metadata": {},
   "source": [
    "#### Moment of inertia"
   ]
  },
  {
   "cell_type": "code",
   "execution_count": 27,
   "metadata": {},
   "outputs": [],
   "source": [
    "def calc_moment_of_inertia(gray_img):\n",
    "    # cr, cc = ``M[1, 0] / M[0, 0]``, ``M[0, 1] / M[0, 0]`\n",
    "    M1 = skimage.measure.moments(gray_img, order=1)\n",
    "    cr = M1[1, 0]/M1[0, 0]\n",
    "    cc = M1[0, 1]/M1[0, 0]\n",
    "    mu2 = skimage.measure.moments_central(gray_img, cr, cc, order=2)\n",
    "    # paper says shape feature is 4. So I use mu2_20 and mu2_02 as a separate features\n",
    "    # return (mu2[2, 0]+mu2[0, 2])/mu2[0, 0]\n",
    "    M0sq = mu2[0, 0]**2\n",
    "    return mu2[2, 0]/M0sq, mu2[0, 2]/M0sq"
   ]
  },
  {
   "cell_type": "code",
   "execution_count": 28,
   "metadata": {},
   "outputs": [],
   "source": [
    "from skimage.morphology import convex_hull_image\n",
    "def ratio_convex_hull(img_bainary, area):\n",
    "    hull_area = convex_hull_image(img_bainary).sum()\n",
    "    return area/hull_area"
   ]
  },
  {
   "cell_type": "markdown",
   "metadata": {},
   "source": [
    "#### Combine all shape features"
   ]
  },
  {
   "cell_type": "code",
   "execution_count": 29,
   "metadata": {},
   "outputs": [],
   "source": [
    "def shape_features(img_gray, img_binary):\n",
    "    comp, area = compactness(img_binary)\n",
    "    mom = calc_moment_of_inertia(img_gray)\n",
    "    if(img_binary.any()):\n",
    "        ratio3 = ratio_convex_hull(img_binary, area)\n",
    "    else:\n",
    "        ratio3 = 1\n",
    "    return [comp, mom[0], mom[1], ratio3]"
   ]
  },
  {
   "cell_type": "markdown",
   "metadata": {},
   "source": [
    "### Combine all of features for a given tile\n",
    "\n",
    "Define a function that combine all of featuers defined above."
   ]
  },
  {
   "cell_type": "code",
   "execution_count": 30,
   "metadata": {},
   "outputs": [],
   "source": [
    "def tile2features(tile, tile_gray, tile_binary):\n",
    "    rgb_moments12 = calc_4_rgb_moments(tile)\n",
    "    doog4 = tile2doog_features(tile)\n",
    "    orientation12 = orientation_12_energy(tile_gray)\n",
    "    shape4 = shape_features(tile_gray, tile_binary)\n",
    "    return [elem for arr in [rgb_moments12, doog4, orientation12, shape4]\n",
    "            for elem in arr]"
   ]
  },
  {
   "cell_type": "markdown",
   "metadata": {},
   "source": [
    "### Define functions for extracting features for a given image.\n",
    "\n",
    "A given image is divided into patches and features are extracted from each patch.  \n",
    "Finally we concatenate those features into one feature vector to express characteristics of a given image."
   ]
  },
  {
   "cell_type": "code",
   "execution_count": 31,
   "metadata": {},
   "outputs": [],
   "source": [
    "def get_tile_features(tile_row, tile_col, img, img_gray, img_binary):\n",
    "    tile, tile_gray, tile_binary = get_tile(tile_row, tile_col, img, img_gray, img_binary)\n",
    "    return tile2features(tile, tile_gray, tile_binary)"
   ]
  },
  {
   "cell_type": "code",
   "execution_count": 32,
   "metadata": {},
   "outputs": [],
   "source": [
    "def img2features(img):\n",
    "    img_gray = color.rgb2gray(img)\n",
    "    img_binary = gray2binary(img_gray)\n",
    "    featuresList = [get_tile_features(row, col, img, img_gray, img_binary) for row in range(5)\n",
    "                    for col in range(5)]\n",
    "    return [f for fs in featuresList\n",
    "               for f in fs]"
   ]
  },
  {
   "cell_type": "markdown",
   "metadata": {},
   "source": [
    "## Extract features and save them into dataframe"
   ]
  },
  {
   "cell_type": "code",
   "execution_count": 33,
   "metadata": {},
   "outputs": [
    {
     "name": "stderr",
     "output_type": "stream",
     "text": [
      "Using TensorFlow backend.\n"
     ]
    }
   ],
   "source": [
    "from models.modelutils import dir2filedict"
   ]
  },
  {
   "cell_type": "code",
   "execution_count": 34,
   "metadata": {},
   "outputs": [],
   "source": [
    "fdict = dir2filedict(\"data\")"
   ]
  },
  {
   "cell_type": "code",
   "execution_count": 35,
   "metadata": {},
   "outputs": [],
   "source": [
    "files = sorted(f for fs in fdict.values() for f in fs)"
   ]
  },
  {
   "cell_type": "code",
   "execution_count": 36,
   "metadata": {},
   "outputs": [
    {
     "data": {
      "text/plain": [
       "11803"
      ]
     },
     "execution_count": 36,
     "metadata": {},
     "output_type": "execute_result"
    }
   ],
   "source": [
    "len(files)"
   ]
  },
  {
   "cell_type": "code",
   "execution_count": 37,
   "metadata": {},
   "outputs": [],
   "source": [
    "import pandas as pd"
   ]
  },
  {
   "cell_type": "code",
   "execution_count": 39,
   "metadata": {},
   "outputs": [],
   "source": [
    "failed = []\n",
    "flist = []"
   ]
  },
  {
   "cell_type": "code",
   "execution_count": 41,
   "metadata": {},
   "outputs": [],
   "source": [
    "import tqdm"
   ]
  },
  {
   "cell_type": "code",
   "execution_count": 1,
   "metadata": {
    "scrolled": false
   },
   "outputs": [],
   "source": [
    "%%time\n",
    "\n",
    "for file in tqdm.tqdm(files):\n",
    "    try:\n",
    "        current = file\n",
    "        features = img2features(im_normalized_read(file))\n",
    "        flist.append(features)\n",
    "    except:\n",
    "        print(\"fail {}\".format(file))\n",
    "        failed.append(file)"
   ]
  },
  {
   "cell_type": "code",
   "execution_count": null,
   "metadata": {},
   "outputs": [],
   "source": [
    "print( \"Total number of images: {}\".format(len(flist)) )\n",
    "print( \"The number of failed images from where features cannot be extracted: {}\".format(len(failed)) )"
   ]
  },
  {
   "cell_type": "markdown",
   "metadata": {},
   "source": [
    "Check images from which features cannot be extracted."
   ]
  },
  {
   "cell_type": "code",
   "execution_count": null,
   "metadata": {},
   "outputs": [],
   "source": [
    "failed"
   ]
  },
  {
   "cell_type": "markdown",
   "metadata": {},
   "source": [
    "Pick up images from which features can be successfully extracted,"
   ]
  },
  {
   "cell_type": "code",
   "execution_count": 58,
   "metadata": {},
   "outputs": [],
   "source": [
    "files2 = [f for f in files if f not in failed]\n",
    "len(files2)"
   ]
  },
  {
   "cell_type": "code",
   "execution_count": 51,
   "metadata": {},
   "outputs": [],
   "source": [
    "df = pd.DataFrame(flist)\n",
    "df.shape"
   ]
  },
  {
   "cell_type": "code",
   "execution_count": 61,
   "metadata": {},
   "outputs": [],
   "source": [
    "df['filepath'] = files2"
   ]
  },
  {
   "cell_type": "markdown",
   "metadata": {},
   "source": [
    "Save the extracted features as pickle."
   ]
  },
  {
   "cell_type": "code",
   "execution_count": 62,
   "metadata": {},
   "outputs": [],
   "source": [
    "df.to_pickle(\"results/features.dat\")"
   ]
  },
  {
   "cell_type": "markdown",
   "metadata": {},
   "source": [
    "## Load extracted features and estimate GMM"
   ]
  },
  {
   "cell_type": "code",
   "execution_count": 2,
   "metadata": {},
   "outputs": [],
   "source": [
    "import pandas as pd"
   ]
  },
  {
   "cell_type": "code",
   "execution_count": 4,
   "metadata": {},
   "outputs": [
    {
     "data": {
      "text/plain": [
       "(11776, 801)"
      ]
     },
     "execution_count": 4,
     "metadata": {},
     "output_type": "execute_result"
    }
   ],
   "source": [
    "df = pd.read_pickle(\"results/features.dat\")\n",
    "df.shape"
   ]
  },
  {
   "cell_type": "code",
   "execution_count": 5,
   "metadata": {},
   "outputs": [],
   "source": [
    "def path_to_cat(fpath):\n",
    "    return fpath.split(\"/\")[1]"
   ]
  },
  {
   "cell_type": "code",
   "execution_count": 6,
   "metadata": {},
   "outputs": [
    {
     "data": {
      "text/plain": [
       "'clouds'"
      ]
     },
     "execution_count": 6,
     "metadata": {},
     "output_type": "execute_result"
    }
   ],
   "source": [
    "path_to_cat(df['filepath'][5000])"
   ]
  },
  {
   "cell_type": "code",
   "execution_count": 7,
   "metadata": {},
   "outputs": [],
   "source": [
    "cats = sorted(list(set(map(path_to_cat, df['filepath']))))"
   ]
  },
  {
   "cell_type": "code",
   "execution_count": 8,
   "metadata": {},
   "outputs": [
    {
     "data": {
      "text/plain": [
       "['bay',\n",
       " 'beach',\n",
       " 'birds',\n",
       " 'boeing',\n",
       " 'buildings',\n",
       " 'city',\n",
       " 'clouds',\n",
       " 'f-16',\n",
       " 'face',\n",
       " 'helicopter',\n",
       " 'mountain',\n",
       " 'ocean',\n",
       " 'ships',\n",
       " 'sky',\n",
       " 'sunrise',\n",
       " 'sunset']"
      ]
     },
     "execution_count": 8,
     "metadata": {},
     "output_type": "execute_result"
    }
   ],
   "source": [
    "cats"
   ]
  },
  {
   "cell_type": "code",
   "execution_count": 9,
   "metadata": {},
   "outputs": [],
   "source": [
    "df['category'] = list(map(path_to_cat, df['filepath']))"
   ]
  },
  {
   "cell_type": "markdown",
   "metadata": {},
   "source": [
    "### For empty tile, moment will be na; fill na as 0 to avoid errors"
   ]
  },
  {
   "cell_type": "code",
   "execution_count": 10,
   "metadata": {},
   "outputs": [],
   "source": [
    "df_fixed = df.fillna(0)"
   ]
  },
  {
   "cell_type": "markdown",
   "metadata": {},
   "source": [
    "### Fit GMM for each class\n",
    "\n",
    "We use the same 25 components GMM as that of the previsou study."
   ]
  },
  {
   "cell_type": "code",
   "execution_count": 12,
   "metadata": {},
   "outputs": [],
   "source": [
    "from sklearn.mixture import GaussianMixture"
   ]
  },
  {
   "cell_type": "code",
   "execution_count": 13,
   "metadata": {},
   "outputs": [],
   "source": [
    "num_components = 25"
   ]
  },
  {
   "cell_type": "code",
   "execution_count": 14,
   "metadata": {},
   "outputs": [],
   "source": [
    "def cat_to_model(catindex):\n",
    "    onecat_df = df_fixed[df_fixed['category'] == cats[catindex]]\n",
    "    onecat_fs = onecat_df.iloc[:, 0:800].as_matrix()\n",
    "    \n",
    "    # Section 4 in the paper denotes they assume N(mu, sigma) type.\n",
    "    gmm = GaussianMixture(num_components, covariance_type = \"diag\")\n",
    "    gmm.fit(onecat_fs)\n",
    "    return gmm"
   ]
  },
  {
   "cell_type": "code",
   "execution_count": 15,
   "metadata": {},
   "outputs": [],
   "source": [
    "models = [cat_to_model(ind) for ind in range(len(cats))]"
   ]
  },
  {
   "cell_type": "markdown",
   "metadata": {},
   "source": [
    "Collect (means, variances) and weights for each class."
   ]
  },
  {
   "cell_type": "code",
   "execution_count": 17,
   "metadata": {},
   "outputs": [],
   "source": [
    "gmm_stats = [(mod.means_, mod.covariances_) for mod in models]"
   ]
  },
  {
   "cell_type": "code",
   "execution_count": 18,
   "metadata": {},
   "outputs": [],
   "source": [
    "gmm_weights = [mod.weights_ for mod in models]"
   ]
  },
  {
   "cell_type": "markdown",
   "metadata": {},
   "source": [
    "## Compute distances between classes using obtrained GMM."
   ]
  },
  {
   "cell_type": "markdown",
   "metadata": {},
   "source": [
    "Define functions for computing distances between components of GMM."
   ]
  },
  {
   "cell_type": "code",
   "execution_count": 19,
   "metadata": {},
   "outputs": [],
   "source": [
    "def calc_one_dij(mean_list1, sigma_list1, mean_list2, sigma_list2, i, j):\n",
    "    return math.sqrt(((mean_list1[i] - mean_list2[j])**2+(sigma_list1[i] - sigma_list2[j])**2).sum())"
   ]
  },
  {
   "cell_type": "code",
   "execution_count": 20,
   "metadata": {},
   "outputs": [],
   "source": [
    "def calc_dij(mean_list1, sigma_list1, mean_list2, sigma_list2):\n",
    "    return np.array([calc_one_dij(mean_list1, sigma_list1, mean_list2, sigma_list2, i, j)\n",
    "              for i in range(num_components)\n",
    "              for j in range(num_components)]).reshape(num_components, num_components)"
   ]
  },
  {
   "cell_type": "markdown",
   "metadata": {},
   "source": [
    "Here we use linear programming to obtrain distance.\n",
    "\n",
    "Assume $w_{ij}$ is ordered like $w_{00}, w_{01}, w_{02}, w_{03}, ... w_{024}, w_{10}, w_{11}, ...$"
   ]
  },
  {
   "cell_type": "code",
   "execution_count": null,
   "metadata": {},
   "outputs": [],
   "source": [
    "from scipy.optimize import linprog"
   ]
  },
  {
   "cell_type": "markdown",
   "metadata": {},
   "source": [
    "$\\sum_i  w_{ij} = \\beta_j$."
   ]
  },
  {
   "cell_type": "code",
   "execution_count": 22,
   "metadata": {},
   "outputs": [],
   "source": [
    "def sum_i_coeff(target_j):\n",
    "    return [float(j == target_j) for i in range(num_components) for j in range(num_components)]"
   ]
  },
  {
   "cell_type": "code",
   "execution_count": 23,
   "metadata": {},
   "outputs": [],
   "source": [
    "coeff_i_sums = [sum_i_coeff(j) for j in range(num_components)]"
   ]
  },
  {
   "cell_type": "markdown",
   "metadata": {},
   "source": [
    "$\\sum_j w_{ij} = \\alpha_i$."
   ]
  },
  {
   "cell_type": "code",
   "execution_count": 24,
   "metadata": {},
   "outputs": [],
   "source": [
    "def sum_j_coeff(target_i):\n",
    "    return [float(i == target_i) for i in range(num_components) for j in range(num_components)]"
   ]
  },
  {
   "cell_type": "code",
   "execution_count": 25,
   "metadata": {},
   "outputs": [],
   "source": [
    "coeff_j_sums = [sum_j_coeff(i) for i in range(num_components)]"
   ]
  },
  {
   "cell_type": "markdown",
   "metadata": {},
   "source": [
    "Take summation of these quantities. "
   ]
  },
  {
   "cell_type": "code",
   "execution_count": 26,
   "metadata": {},
   "outputs": [],
   "source": [
    "A_eq = coeff_i_sums+coeff_j_sums"
   ]
  },
  {
   "cell_type": "markdown",
   "metadata": {},
   "source": [
    "Define a function that computes distances between classes."
   ]
  },
  {
   "cell_type": "code",
   "execution_count": 30,
   "metadata": {},
   "outputs": [],
   "source": [
    "def calc_distance(midx1, midx2):\n",
    "    alpha = gmm_weights[midx1]\n",
    "    beta = gmm_weights[midx2]\n",
    "    mus1, sigs1 = gmm_stats[midx1]\n",
    "    mus2, sigs2 = gmm_stats[midx2]\n",
    "    dij =  calc_dij(mus1, sigs1, mus2, sigs2)\n",
    "\n",
    "    b_eq = np.concatenate((beta, alpha))\n",
    "    c = dij.reshape(num_components*num_components)\n",
    "    res = linprog(c, A_eq=A_eq, b_eq=b_eq,\n",
    "              options={\"disp\": False})\n",
    "    return res.fun, res"
   ]
  },
  {
   "cell_type": "markdown",
   "metadata": {},
   "source": [
    "Check the function."
   ]
  },
  {
   "cell_type": "code",
   "execution_count": 32,
   "metadata": {},
   "outputs": [
    {
     "data": {
      "text/plain": [
       "13395.58948641049"
      ]
     },
     "execution_count": 32,
     "metadata": {},
     "output_type": "execute_result"
    }
   ],
   "source": [
    "dist, _ = calc_distance(3, 5)\n",
    "dist"
   ]
  },
  {
   "cell_type": "code",
   "execution_count": 33,
   "metadata": {},
   "outputs": [
    {
     "data": {
      "text/plain": [
       "13395.58948641049"
      ]
     },
     "execution_count": 33,
     "metadata": {},
     "output_type": "execute_result"
    }
   ],
   "source": [
    "dist, _ = calc_distance(5, 3)\n",
    "dist"
   ]
  },
  {
   "cell_type": "markdown",
   "metadata": {},
   "source": [
    "Define a function that computes all of combinations of classes."
   ]
  },
  {
   "cell_type": "code",
   "execution_count": 38,
   "metadata": {},
   "outputs": [],
   "source": [
    "def calc_all_distances():\n",
    "    catnum = len(cats)\n",
    "    dists = np.zeros((catnum, catnum))\n",
    "    for i in range(catnum):\n",
    "        for j in range(catnum):\n",
    "            if i != j :\n",
    "                dists[i, j], _ = calc_distance(i, j)\n",
    "    return dists"
   ]
  },
  {
   "cell_type": "code",
   "execution_count": 39,
   "metadata": {},
   "outputs": [],
   "source": [
    "Dps = calc_all_distances()"
   ]
  },
  {
   "cell_type": "code",
   "execution_count": 41,
   "metadata": {},
   "outputs": [],
   "source": [
    "distdict = {cat1:[Dps[idx1, idx2] for idx2 in range(len(cats))] for idx1, cat1 in enumerate(cats)}"
   ]
  },
  {
   "cell_type": "code",
   "execution_count": 42,
   "metadata": {},
   "outputs": [],
   "source": [
    "distdf = pd.DataFrame(distdict)"
   ]
  },
  {
   "cell_type": "code",
   "execution_count": 43,
   "metadata": {},
   "outputs": [],
   "source": [
    "distdf.index = cats"
   ]
  },
  {
   "cell_type": "code",
   "execution_count": 44,
   "metadata": {},
   "outputs": [
    {
     "data": {
      "text/html": [
       "<div>\n",
       "<style scoped>\n",
       "    .dataframe tbody tr th:only-of-type {\n",
       "        vertical-align: middle;\n",
       "    }\n",
       "\n",
       "    .dataframe tbody tr th {\n",
       "        vertical-align: top;\n",
       "    }\n",
       "\n",
       "    .dataframe thead th {\n",
       "        text-align: right;\n",
       "    }\n",
       "</style>\n",
       "<table border=\"1\" class=\"dataframe\">\n",
       "  <thead>\n",
       "    <tr style=\"text-align: right;\">\n",
       "      <th></th>\n",
       "      <th>bay</th>\n",
       "      <th>beach</th>\n",
       "      <th>birds</th>\n",
       "      <th>boeing</th>\n",
       "      <th>buildings</th>\n",
       "      <th>city</th>\n",
       "      <th>clouds</th>\n",
       "      <th>f-16</th>\n",
       "      <th>face</th>\n",
       "      <th>helicopter</th>\n",
       "      <th>mountain</th>\n",
       "      <th>ocean</th>\n",
       "      <th>ships</th>\n",
       "      <th>sky</th>\n",
       "      <th>sunrise</th>\n",
       "      <th>sunset</th>\n",
       "    </tr>\n",
       "  </thead>\n",
       "  <tbody>\n",
       "    <tr>\n",
       "      <th>bay</th>\n",
       "      <td>0.000000</td>\n",
       "      <td>6588.132327</td>\n",
       "      <td>7191.791020</td>\n",
       "      <td>8742.313416</td>\n",
       "      <td>9813.075542</td>\n",
       "      <td>8678.661169</td>\n",
       "      <td>9547.271762</td>\n",
       "      <td>9124.422209</td>\n",
       "      <td>11249.360091</td>\n",
       "      <td>7736.787644</td>\n",
       "      <td>6950.625571</td>\n",
       "      <td>7269.991418</td>\n",
       "      <td>7983.156091</td>\n",
       "      <td>13553.036778</td>\n",
       "      <td>10122.609485</td>\n",
       "      <td>8842.364538</td>\n",
       "    </tr>\n",
       "    <tr>\n",
       "      <th>beach</th>\n",
       "      <td>6588.132327</td>\n",
       "      <td>0.000000</td>\n",
       "      <td>7013.673433</td>\n",
       "      <td>8058.638931</td>\n",
       "      <td>10428.612828</td>\n",
       "      <td>9718.150779</td>\n",
       "      <td>8853.541685</td>\n",
       "      <td>8470.443863</td>\n",
       "      <td>11144.968431</td>\n",
       "      <td>7737.724702</td>\n",
       "      <td>6908.724801</td>\n",
       "      <td>8069.756136</td>\n",
       "      <td>8215.840725</td>\n",
       "      <td>12997.335254</td>\n",
       "      <td>9672.171781</td>\n",
       "      <td>8008.298275</td>\n",
       "    </tr>\n",
       "    <tr>\n",
       "      <th>birds</th>\n",
       "      <td>7191.791020</td>\n",
       "      <td>7013.673433</td>\n",
       "      <td>0.000000</td>\n",
       "      <td>6489.982225</td>\n",
       "      <td>11193.529932</td>\n",
       "      <td>10679.967999</td>\n",
       "      <td>6680.630874</td>\n",
       "      <td>6489.781659</td>\n",
       "      <td>9025.691628</td>\n",
       "      <td>5656.062784</td>\n",
       "      <td>7117.078511</td>\n",
       "      <td>8898.890890</td>\n",
       "      <td>7520.067444</td>\n",
       "      <td>10693.746482</td>\n",
       "      <td>7828.975030</td>\n",
       "      <td>6666.279988</td>\n",
       "    </tr>\n",
       "    <tr>\n",
       "      <th>boeing</th>\n",
       "      <td>8742.313416</td>\n",
       "      <td>8058.638931</td>\n",
       "      <td>6489.982225</td>\n",
       "      <td>0.000000</td>\n",
       "      <td>13738.395314</td>\n",
       "      <td>13395.589486</td>\n",
       "      <td>3525.278568</td>\n",
       "      <td>3438.058438</td>\n",
       "      <td>8123.424867</td>\n",
       "      <td>4917.535086</td>\n",
       "      <td>8323.152387</td>\n",
       "      <td>10683.425380</td>\n",
       "      <td>8563.604679</td>\n",
       "      <td>7467.246789</td>\n",
       "      <td>6027.745841</td>\n",
       "      <td>5365.497668</td>\n",
       "    </tr>\n",
       "    <tr>\n",
       "      <th>buildings</th>\n",
       "      <td>9813.075542</td>\n",
       "      <td>10428.612828</td>\n",
       "      <td>11193.529932</td>\n",
       "      <td>13738.395314</td>\n",
       "      <td>0.000000</td>\n",
       "      <td>9623.520669</td>\n",
       "      <td>14415.805486</td>\n",
       "      <td>13867.147478</td>\n",
       "      <td>15108.090130</td>\n",
       "      <td>12369.522756</td>\n",
       "      <td>10634.257474</td>\n",
       "      <td>10152.265733</td>\n",
       "      <td>10921.797552</td>\n",
       "      <td>18221.522006</td>\n",
       "      <td>14527.504012</td>\n",
       "      <td>13017.452170</td>\n",
       "    </tr>\n",
       "    <tr>\n",
       "      <th>city</th>\n",
       "      <td>8678.661169</td>\n",
       "      <td>9718.150779</td>\n",
       "      <td>10679.967999</td>\n",
       "      <td>13395.589486</td>\n",
       "      <td>9623.520669</td>\n",
       "      <td>0.000000</td>\n",
       "      <td>14117.528707</td>\n",
       "      <td>13526.248699</td>\n",
       "      <td>14637.481938</td>\n",
       "      <td>11876.476961</td>\n",
       "      <td>9584.863122</td>\n",
       "      <td>8576.396335</td>\n",
       "      <td>10754.561406</td>\n",
       "      <td>17848.555513</td>\n",
       "      <td>14070.365893</td>\n",
       "      <td>12701.345673</td>\n",
       "    </tr>\n",
       "    <tr>\n",
       "      <th>clouds</th>\n",
       "      <td>9547.271762</td>\n",
       "      <td>8853.541685</td>\n",
       "      <td>6680.630874</td>\n",
       "      <td>3525.278568</td>\n",
       "      <td>14415.805486</td>\n",
       "      <td>14117.528707</td>\n",
       "      <td>0.000000</td>\n",
       "      <td>3421.153034</td>\n",
       "      <td>8118.116423</td>\n",
       "      <td>5067.434105</td>\n",
       "      <td>8820.950604</td>\n",
       "      <td>11351.753019</td>\n",
       "      <td>9305.763306</td>\n",
       "      <td>6609.064667</td>\n",
       "      <td>6286.898351</td>\n",
       "      <td>5447.433198</td>\n",
       "    </tr>\n",
       "    <tr>\n",
       "      <th>f-16</th>\n",
       "      <td>9124.422209</td>\n",
       "      <td>8470.443863</td>\n",
       "      <td>6489.781659</td>\n",
       "      <td>3438.058438</td>\n",
       "      <td>13867.147478</td>\n",
       "      <td>13526.248699</td>\n",
       "      <td>3421.153034</td>\n",
       "      <td>0.000000</td>\n",
       "      <td>7767.589927</td>\n",
       "      <td>4682.250712</td>\n",
       "      <td>8644.150951</td>\n",
       "      <td>10834.365404</td>\n",
       "      <td>8699.688065</td>\n",
       "      <td>7161.422905</td>\n",
       "      <td>5885.224257</td>\n",
       "      <td>5253.432736</td>\n",
       "    </tr>\n",
       "    <tr>\n",
       "      <th>face</th>\n",
       "      <td>11249.360091</td>\n",
       "      <td>11144.968431</td>\n",
       "      <td>9025.691628</td>\n",
       "      <td>8123.424867</td>\n",
       "      <td>15108.090130</td>\n",
       "      <td>14637.481938</td>\n",
       "      <td>8118.116423</td>\n",
       "      <td>7767.589927</td>\n",
       "      <td>0.000000</td>\n",
       "      <td>7848.839349</td>\n",
       "      <td>10736.670594</td>\n",
       "      <td>12605.974421</td>\n",
       "      <td>11571.865834</td>\n",
       "      <td>11476.063827</td>\n",
       "      <td>10408.622751</td>\n",
       "      <td>8389.830468</td>\n",
       "    </tr>\n",
       "    <tr>\n",
       "      <th>helicopter</th>\n",
       "      <td>7736.787644</td>\n",
       "      <td>7737.724702</td>\n",
       "      <td>5656.062784</td>\n",
       "      <td>4917.535086</td>\n",
       "      <td>12369.522756</td>\n",
       "      <td>11876.476961</td>\n",
       "      <td>5067.434105</td>\n",
       "      <td>4682.250712</td>\n",
       "      <td>7848.839349</td>\n",
       "      <td>0.000000</td>\n",
       "      <td>7603.952902</td>\n",
       "      <td>9487.192423</td>\n",
       "      <td>7506.198536</td>\n",
       "      <td>8964.521617</td>\n",
       "      <td>6591.735071</td>\n",
       "      <td>5634.905014</td>\n",
       "    </tr>\n",
       "    <tr>\n",
       "      <th>mountain</th>\n",
       "      <td>6950.625571</td>\n",
       "      <td>6908.724801</td>\n",
       "      <td>7117.078511</td>\n",
       "      <td>8323.152387</td>\n",
       "      <td>10634.257474</td>\n",
       "      <td>9584.863122</td>\n",
       "      <td>8820.950604</td>\n",
       "      <td>8644.150951</td>\n",
       "      <td>10736.670594</td>\n",
       "      <td>7603.952902</td>\n",
       "      <td>0.000000</td>\n",
       "      <td>8424.161336</td>\n",
       "      <td>8318.245684</td>\n",
       "      <td>12547.579650</td>\n",
       "      <td>8943.691964</td>\n",
       "      <td>8126.017623</td>\n",
       "    </tr>\n",
       "    <tr>\n",
       "      <th>ocean</th>\n",
       "      <td>7269.991418</td>\n",
       "      <td>8069.756136</td>\n",
       "      <td>8898.890890</td>\n",
       "      <td>10683.425380</td>\n",
       "      <td>10152.265733</td>\n",
       "      <td>8576.396335</td>\n",
       "      <td>11351.753019</td>\n",
       "      <td>10834.365404</td>\n",
       "      <td>12605.974421</td>\n",
       "      <td>9487.192423</td>\n",
       "      <td>8424.161336</td>\n",
       "      <td>0.000000</td>\n",
       "      <td>8779.602311</td>\n",
       "      <td>15269.445536</td>\n",
       "      <td>11797.115704</td>\n",
       "      <td>10414.977915</td>\n",
       "    </tr>\n",
       "    <tr>\n",
       "      <th>ships</th>\n",
       "      <td>7983.156091</td>\n",
       "      <td>8215.840725</td>\n",
       "      <td>7520.067444</td>\n",
       "      <td>8563.604679</td>\n",
       "      <td>10921.797552</td>\n",
       "      <td>10754.561406</td>\n",
       "      <td>9305.763306</td>\n",
       "      <td>8699.688065</td>\n",
       "      <td>11571.865834</td>\n",
       "      <td>7506.198536</td>\n",
       "      <td>8318.245684</td>\n",
       "      <td>8779.602311</td>\n",
       "      <td>0.000000</td>\n",
       "      <td>13225.609128</td>\n",
       "      <td>11675.388121</td>\n",
       "      <td>8724.609132</td>\n",
       "    </tr>\n",
       "    <tr>\n",
       "      <th>sky</th>\n",
       "      <td>13553.036778</td>\n",
       "      <td>12997.335254</td>\n",
       "      <td>10693.746482</td>\n",
       "      <td>7467.246789</td>\n",
       "      <td>18221.522006</td>\n",
       "      <td>17848.555513</td>\n",
       "      <td>6609.064667</td>\n",
       "      <td>7161.422905</td>\n",
       "      <td>11476.063827</td>\n",
       "      <td>8964.521617</td>\n",
       "      <td>12547.579650</td>\n",
       "      <td>15269.445536</td>\n",
       "      <td>13225.609128</td>\n",
       "      <td>0.000000</td>\n",
       "      <td>9309.736019</td>\n",
       "      <td>9273.973771</td>\n",
       "    </tr>\n",
       "    <tr>\n",
       "      <th>sunrise</th>\n",
       "      <td>10122.609485</td>\n",
       "      <td>9672.171781</td>\n",
       "      <td>7828.975030</td>\n",
       "      <td>6027.745841</td>\n",
       "      <td>14527.504012</td>\n",
       "      <td>14070.365893</td>\n",
       "      <td>6286.898351</td>\n",
       "      <td>5885.224257</td>\n",
       "      <td>10408.622751</td>\n",
       "      <td>6591.735071</td>\n",
       "      <td>8943.691964</td>\n",
       "      <td>11797.115704</td>\n",
       "      <td>11675.388121</td>\n",
       "      <td>9309.736019</td>\n",
       "      <td>0.000000</td>\n",
       "      <td>6374.444902</td>\n",
       "    </tr>\n",
       "    <tr>\n",
       "      <th>sunset</th>\n",
       "      <td>8842.364538</td>\n",
       "      <td>8008.298275</td>\n",
       "      <td>6666.279988</td>\n",
       "      <td>5365.497668</td>\n",
       "      <td>13017.452170</td>\n",
       "      <td>12701.345673</td>\n",
       "      <td>5447.433198</td>\n",
       "      <td>5253.432736</td>\n",
       "      <td>8389.830468</td>\n",
       "      <td>5634.905014</td>\n",
       "      <td>8126.017623</td>\n",
       "      <td>10414.977915</td>\n",
       "      <td>8724.609132</td>\n",
       "      <td>9273.973771</td>\n",
       "      <td>6374.444902</td>\n",
       "      <td>0.000000</td>\n",
       "    </tr>\n",
       "  </tbody>\n",
       "</table>\n",
       "</div>"
      ],
      "text/plain": [
       "                     bay         beach         birds        boeing  \\\n",
       "bay             0.000000   6588.132327   7191.791020   8742.313416   \n",
       "beach        6588.132327      0.000000   7013.673433   8058.638931   \n",
       "birds        7191.791020   7013.673433      0.000000   6489.982225   \n",
       "boeing       8742.313416   8058.638931   6489.982225      0.000000   \n",
       "buildings    9813.075542  10428.612828  11193.529932  13738.395314   \n",
       "city         8678.661169   9718.150779  10679.967999  13395.589486   \n",
       "clouds       9547.271762   8853.541685   6680.630874   3525.278568   \n",
       "f-16         9124.422209   8470.443863   6489.781659   3438.058438   \n",
       "face        11249.360091  11144.968431   9025.691628   8123.424867   \n",
       "helicopter   7736.787644   7737.724702   5656.062784   4917.535086   \n",
       "mountain     6950.625571   6908.724801   7117.078511   8323.152387   \n",
       "ocean        7269.991418   8069.756136   8898.890890  10683.425380   \n",
       "ships        7983.156091   8215.840725   7520.067444   8563.604679   \n",
       "sky         13553.036778  12997.335254  10693.746482   7467.246789   \n",
       "sunrise     10122.609485   9672.171781   7828.975030   6027.745841   \n",
       "sunset       8842.364538   8008.298275   6666.279988   5365.497668   \n",
       "\n",
       "               buildings          city        clouds          f-16  \\\n",
       "bay          9813.075542   8678.661169   9547.271762   9124.422209   \n",
       "beach       10428.612828   9718.150779   8853.541685   8470.443863   \n",
       "birds       11193.529932  10679.967999   6680.630874   6489.781659   \n",
       "boeing      13738.395314  13395.589486   3525.278568   3438.058438   \n",
       "buildings       0.000000   9623.520669  14415.805486  13867.147478   \n",
       "city         9623.520669      0.000000  14117.528707  13526.248699   \n",
       "clouds      14415.805486  14117.528707      0.000000   3421.153034   \n",
       "f-16        13867.147478  13526.248699   3421.153034      0.000000   \n",
       "face        15108.090130  14637.481938   8118.116423   7767.589927   \n",
       "helicopter  12369.522756  11876.476961   5067.434105   4682.250712   \n",
       "mountain    10634.257474   9584.863122   8820.950604   8644.150951   \n",
       "ocean       10152.265733   8576.396335  11351.753019  10834.365404   \n",
       "ships       10921.797552  10754.561406   9305.763306   8699.688065   \n",
       "sky         18221.522006  17848.555513   6609.064667   7161.422905   \n",
       "sunrise     14527.504012  14070.365893   6286.898351   5885.224257   \n",
       "sunset      13017.452170  12701.345673   5447.433198   5253.432736   \n",
       "\n",
       "                    face    helicopter      mountain         ocean  \\\n",
       "bay         11249.360091   7736.787644   6950.625571   7269.991418   \n",
       "beach       11144.968431   7737.724702   6908.724801   8069.756136   \n",
       "birds        9025.691628   5656.062784   7117.078511   8898.890890   \n",
       "boeing       8123.424867   4917.535086   8323.152387  10683.425380   \n",
       "buildings   15108.090130  12369.522756  10634.257474  10152.265733   \n",
       "city        14637.481938  11876.476961   9584.863122   8576.396335   \n",
       "clouds       8118.116423   5067.434105   8820.950604  11351.753019   \n",
       "f-16         7767.589927   4682.250712   8644.150951  10834.365404   \n",
       "face            0.000000   7848.839349  10736.670594  12605.974421   \n",
       "helicopter   7848.839349      0.000000   7603.952902   9487.192423   \n",
       "mountain    10736.670594   7603.952902      0.000000   8424.161336   \n",
       "ocean       12605.974421   9487.192423   8424.161336      0.000000   \n",
       "ships       11571.865834   7506.198536   8318.245684   8779.602311   \n",
       "sky         11476.063827   8964.521617  12547.579650  15269.445536   \n",
       "sunrise     10408.622751   6591.735071   8943.691964  11797.115704   \n",
       "sunset       8389.830468   5634.905014   8126.017623  10414.977915   \n",
       "\n",
       "                   ships           sky       sunrise        sunset  \n",
       "bay          7983.156091  13553.036778  10122.609485   8842.364538  \n",
       "beach        8215.840725  12997.335254   9672.171781   8008.298275  \n",
       "birds        7520.067444  10693.746482   7828.975030   6666.279988  \n",
       "boeing       8563.604679   7467.246789   6027.745841   5365.497668  \n",
       "buildings   10921.797552  18221.522006  14527.504012  13017.452170  \n",
       "city        10754.561406  17848.555513  14070.365893  12701.345673  \n",
       "clouds       9305.763306   6609.064667   6286.898351   5447.433198  \n",
       "f-16         8699.688065   7161.422905   5885.224257   5253.432736  \n",
       "face        11571.865834  11476.063827  10408.622751   8389.830468  \n",
       "helicopter   7506.198536   8964.521617   6591.735071   5634.905014  \n",
       "mountain     8318.245684  12547.579650   8943.691964   8126.017623  \n",
       "ocean        8779.602311  15269.445536  11797.115704  10414.977915  \n",
       "ships           0.000000  13225.609128  11675.388121   8724.609132  \n",
       "sky         13225.609128      0.000000   9309.736019   9273.973771  \n",
       "sunrise     11675.388121   9309.736019      0.000000   6374.444902  \n",
       "sunset       8724.609132   9273.973771   6374.444902      0.000000  "
      ]
     },
     "execution_count": 44,
     "metadata": {},
     "output_type": "execute_result"
    }
   ],
   "source": [
    "distdf"
   ]
  },
  {
   "cell_type": "markdown",
   "metadata": {},
   "source": [
    "Save the results as pickle."
   ]
  },
  {
   "cell_type": "code",
   "execution_count": 45,
   "metadata": {},
   "outputs": [],
   "source": [
    "distdf.to_pickle(\"results/GMMDisttances.dat\")"
   ]
  },
  {
   "cell_type": "code",
   "execution_count": null,
   "metadata": {},
   "outputs": [],
   "source": []
  },
  {
   "cell_type": "markdown",
   "metadata": {},
   "source": [
    "## Show distances for each target class"
   ]
  },
  {
   "cell_type": "code",
   "execution_count": 1,
   "metadata": {},
   "outputs": [],
   "source": [
    "# def show_cat_dist(catidx):\n",
    "#     print(cats[catidx])\n",
    "#     print(distdf[cats[catidx]].sort_values())"
   ]
  },
  {
   "cell_type": "code",
   "execution_count": 2,
   "metadata": {
    "scrolled": false
   },
   "outputs": [],
   "source": [
    "# [show_cat_dist(i) for i in range(len(cats))]"
   ]
  },
  {
   "cell_type": "code",
   "execution_count": null,
   "metadata": {},
   "outputs": [],
   "source": []
  },
  {
   "cell_type": "code",
   "execution_count": null,
   "metadata": {},
   "outputs": [],
   "source": []
  },
  {
   "cell_type": "code",
   "execution_count": null,
   "metadata": {},
   "outputs": [],
   "source": []
  }
 ],
 "metadata": {
  "kernelspec": {
   "display_name": "Python 3",
   "language": "python",
   "name": "python3"
  },
  "language_info": {
   "codemirror_mode": {
    "name": "ipython",
    "version": 3
   },
   "file_extension": ".py",
   "mimetype": "text/x-python",
   "name": "python",
   "nbconvert_exporter": "python",
   "pygments_lexer": "ipython3",
   "version": "3.5.2"
  }
 },
 "nbformat": 4,
 "nbformat_minor": 2
}
