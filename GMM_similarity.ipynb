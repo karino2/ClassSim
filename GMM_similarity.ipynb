{
 "cells": [
  {
   "cell_type": "code",
   "execution_count": 1,
   "metadata": {},
   "outputs": [],
   "source": [
    "target = \"data/bay/0001.jpeg\""
   ]
  },
  {
   "cell_type": "code",
   "execution_count": null,
   "metadata": {},
   "outputs": [],
   "source": []
  },
  {
   "cell_type": "code",
   "execution_count": 2,
   "metadata": {},
   "outputs": [],
   "source": [
    "from imageio import imread\n",
    "import numpy as np\n",
    "from skimage import color, filters, img_as_float\n",
    "import math"
   ]
  },
  {
   "cell_type": "code",
   "execution_count": 3,
   "metadata": {},
   "outputs": [],
   "source": [
    "img = img_as_float(imread(target))"
   ]
  },
  {
   "cell_type": "code",
   "execution_count": 4,
   "metadata": {},
   "outputs": [
    {
     "data": {
      "text/plain": [
       "(386, 687, 3)"
      ]
     },
     "execution_count": 4,
     "metadata": {},
     "output_type": "execute_result"
    }
   ],
   "source": [
    "img.shape"
   ]
  },
  {
   "cell_type": "code",
   "execution_count": 5,
   "metadata": {},
   "outputs": [],
   "source": [
    "tile_w = int(img.shape[0]/5)\n",
    "tile_h = int(img.shape[1]/5)"
   ]
  },
  {
   "cell_type": "code",
   "execution_count": null,
   "metadata": {},
   "outputs": [],
   "source": []
  },
  {
   "cell_type": "code",
   "execution_count": 6,
   "metadata": {},
   "outputs": [
    {
     "data": {
      "text/plain": [
       "(77, 137)"
      ]
     },
     "execution_count": 6,
     "metadata": {},
     "output_type": "execute_result"
    }
   ],
   "source": [
    "tile_w, tile_h"
   ]
  },
  {
   "cell_type": "code",
   "execution_count": 7,
   "metadata": {},
   "outputs": [],
   "source": [
    "tile = img[0:tile_w, 0:tile_h, :]"
   ]
  },
  {
   "cell_type": "code",
   "execution_count": null,
   "metadata": {},
   "outputs": [],
   "source": []
  },
  {
   "cell_type": "code",
   "execution_count": 8,
   "metadata": {},
   "outputs": [
    {
     "data": {
      "text/plain": [
       "(77, 137, 3)"
      ]
     },
     "execution_count": 8,
     "metadata": {},
     "output_type": "execute_result"
    }
   ],
   "source": [
    "tile.shape"
   ]
  },
  {
   "cell_type": "code",
   "execution_count": null,
   "metadata": {},
   "outputs": [],
   "source": []
  },
  {
   "cell_type": "markdown",
   "metadata": {},
   "source": [
    "# Color Moments"
   ]
  },
  {
   "cell_type": "code",
   "execution_count": 9,
   "metadata": {},
   "outputs": [],
   "source": [
    "def calc_moment3(arr, moment1):\n",
    "    cubed = np.mean((tile[:, :, 0]-moment1)**3)\n",
    "    return math.pow(abs(cubed),1/3) * (1,-1)[cubed<0]"
   ]
  },
  {
   "cell_type": "code",
   "execution_count": 10,
   "metadata": {},
   "outputs": [],
   "source": [
    "def calc_moments(arr):\n",
    "    moment1 = np.mean(arr)\n",
    "    moment2 = np.mean((arr-moment1)**2)**(1/2)\n",
    "    moment3 = calc_moment3(arr, moment1)\n",
    "    return moment1, moment2, moment3"
   ]
  },
  {
   "cell_type": "code",
   "execution_count": 13,
   "metadata": {},
   "outputs": [],
   "source": [
    "def calc_4_moments(rgbarr):\n",
    "    r1, r2, r3 = calc_moments(rgbarr[:, :, 0])\n",
    "    g1, g2, g3 = calc_moments(rgbarr[:, :, 1])\n",
    "    b1, b2, b3 = calc_moments(rgbarr[:, :, 2])\n",
    "    gray = color.rgb2gray(rgbarr)\n",
    "    gr1, gr2, gr3 = calc_moments(gray)\n",
    "    return [r1, r2, r3, g1, g2, g3, b1, b2, b3, gr1, gr2, gr3]"
   ]
  },
  {
   "cell_type": "code",
   "execution_count": 14,
   "metadata": {},
   "outputs": [
    {
     "data": {
      "text/plain": [
       "[0.37209400017472155,\n",
       " 0.10217063437619424,\n",
       " -0.09780083132038393,\n",
       " 0.60834722741120328,\n",
       " 0.069683966722592888,\n",
       " -0.2781541238099151,\n",
       " 0.8166978005535328,\n",
       " 0.05321479042159858,\n",
       " -0.4683674599313368,\n",
       " 0.5731654929470128,\n",
       " 0.073980597551597832,\n",
       " -0.2485871934295749]"
      ]
     },
     "execution_count": 14,
     "metadata": {},
     "output_type": "execute_result"
    }
   ],
   "source": [
    "calc_4_moments(tile)"
   ]
  },
  {
   "cell_type": "code",
   "execution_count": null,
   "metadata": {},
   "outputs": [],
   "source": []
  },
  {
   "cell_type": "markdown",
   "metadata": {},
   "source": [
    "# DOOG filter\n",
    "\n",
    "\n",
    "Based on \"Preattentive texture discrimination with early vision mechanisms\", Fig. 2."
   ]
  },
  {
   "cell_type": "code",
   "execution_count": 87,
   "metadata": {},
   "outputs": [],
   "source": [
    "\n",
    "def G(y0, sigmax, sigmay, x, y):\n",
    "    # The definition of G seems wrong, I refer original Yang's paper.\n",
    "    # return (1/(2*math.pi* sigmax*sigmay)) *np.exp(- (x**2) + (y- y0/sigmay)**2)\n",
    "    dimx = len(x)\n",
    "    dimy = len(y)\n",
    "    return (1/(2*math.pi* sigmax*sigmay)) *np.exp(- (1/2) * (((x/sigmax)**2).reshape(1, dimx) + (((y- y0)/sigmay)**2).reshape(dimy, 1)))"
   ]
  },
  {
   "cell_type": "code",
   "execution_count": 73,
   "metadata": {},
   "outputs": [
    {
     "data": {
      "text/plain": [
       "5"
      ]
     },
     "execution_count": 73,
     "metadata": {},
     "output_type": "execute_result"
    }
   ],
   "source": [
    "len(np.arange(5))"
   ]
  },
  {
   "cell_type": "code",
   "execution_count": 54,
   "metadata": {},
   "outputs": [
    {
     "data": {
      "text/plain": [
       "array([ 0,  1,  4,  9, 16])"
      ]
     },
     "execution_count": 54,
     "metadata": {},
     "output_type": "execute_result"
    }
   ],
   "source": [
    "np.arange(0, 5)**2"
   ]
  },
  {
   "cell_type": "code",
   "execution_count": 61,
   "metadata": {},
   "outputs": [
    {
     "data": {
      "text/plain": [
       "array([[0],\n",
       "       [1],\n",
       "       [2],\n",
       "       [3],\n",
       "       [4]])"
      ]
     },
     "execution_count": 61,
     "metadata": {},
     "output_type": "execute_result"
    }
   ],
   "source": [
    "np.arange(5).reshape(5, 1)"
   ]
  },
  {
   "cell_type": "code",
   "execution_count": 62,
   "metadata": {},
   "outputs": [],
   "source": [
    "arr =np.arange(5).reshape(5, 1)"
   ]
  },
  {
   "cell_type": "code",
   "execution_count": 66,
   "metadata": {},
   "outputs": [
    {
     "data": {
      "text/plain": [
       "2"
      ]
     },
     "execution_count": 66,
     "metadata": {},
     "output_type": "execute_result"
    }
   ],
   "source": [
    "arr[2][0]"
   ]
  },
  {
   "cell_type": "code",
   "execution_count": 71,
   "metadata": {},
   "outputs": [],
   "source": [
    "arr2 =np.arange(5, 10).reshape(1, 5)"
   ]
  },
  {
   "cell_type": "code",
   "execution_count": 72,
   "metadata": {},
   "outputs": [
    {
     "data": {
      "text/plain": [
       "array([[ 5,  6,  7,  8,  9],\n",
       "       [ 6,  7,  8,  9, 10],\n",
       "       [ 7,  8,  9, 10, 11],\n",
       "       [ 8,  9, 10, 11, 12],\n",
       "       [ 9, 10, 11, 12, 13]])"
      ]
     },
     "execution_count": 72,
     "metadata": {},
     "output_type": "execute_result"
    }
   ],
   "source": [
    "arr2+arr"
   ]
  },
  {
   "cell_type": "code",
   "execution_count": null,
   "metadata": {},
   "outputs": [],
   "source": []
  },
  {
   "cell_type": "code",
   "execution_count": null,
   "metadata": {},
   "outputs": [],
   "source": []
  },
  {
   "cell_type": "code",
   "execution_count": 88,
   "metadata": {},
   "outputs": [],
   "source": [
    "gausres = G(0, 2, 2, np.arange(5), np.arange(5))"
   ]
  },
  {
   "cell_type": "code",
   "execution_count": 89,
   "metadata": {},
   "outputs": [
    {
     "data": {
      "text/plain": [
       "array([[ 0.03978874,  0.03511344,  0.02413309,  0.01291751,  0.00538482],\n",
       "       [ 0.03511344,  0.0309875 ,  0.02129738,  0.01139966,  0.00475209],\n",
       "       [ 0.02413309,  0.02129738,  0.01463746,  0.00783487,  0.00326606],\n",
       "       [ 0.01291751,  0.01139966,  0.00783487,  0.0041937 ,  0.0017482 ],\n",
       "       [ 0.00538482,  0.00475209,  0.00326606,  0.0017482 ,  0.00072876]])"
      ]
     },
     "execution_count": 89,
     "metadata": {},
     "output_type": "execute_result"
    }
   ],
   "source": [
    "gausres"
   ]
  },
  {
   "cell_type": "code",
   "execution_count": null,
   "metadata": {},
   "outputs": [],
   "source": []
  },
  {
   "cell_type": "code",
   "execution_count": 79,
   "metadata": {},
   "outputs": [],
   "source": [
    "%matplotlib inline\n",
    "import matplotlib.pyplot as plt\n",
    "from mpl_toolkits.mplot3d import Axes3D"
   ]
  },
  {
   "cell_type": "code",
   "execution_count": 90,
   "metadata": {},
   "outputs": [
    {
     "data": {
      "image/png": "[encoded data removed]",
      "text/plain": [
       "<matplotlib.figure.Figure at 0x7f22741e2ac8>"
      ]
     },
     "metadata": {},
     "output_type": "display_data"
    }
   ],
   "source": [
    "\n",
    "X,Y=np.meshgrid(np.linspace(0,5,5),np.linspace(0,5,5));\n",
    "fig=plt.figure();\n",
    "ax=fig.add_subplot(111,projection='3d')\n",
    "ax.plot_surface(X, Y, gausres)\n",
    "# surf=ax.plot_surface(X,Y,G,c='red')\n",
    "plt.show()"
   ]
  },
  {
   "cell_type": "code",
   "execution_count": null,
   "metadata": {},
   "outputs": [],
   "source": []
  },
  {
   "cell_type": "code",
   "execution_count": null,
   "metadata": {},
   "outputs": [],
   "source": []
  },
  {
   "cell_type": "code",
   "execution_count": 91,
   "metadata": {},
   "outputs": [],
   "source": [
    "def DOOG2(x, y, sigma, r=3):\n",
    "    sigmay = sigma\n",
    "    sigmax = r*sigma\n",
    "    ya = sigma\n",
    "    yc = -sigma\n",
    "    return -G(ya, sigmax, sigmay, x, y) + 2*G(0, sigmax, sigmay, x, y) - G(yc, sigmax, sigmay, x, y)"
   ]
  },
  {
   "cell_type": "code",
   "execution_count": 92,
   "metadata": {},
   "outputs": [
    {
     "data": {
      "text/plain": [
       "array([[ 0.00391391,  0.00388345,  0.00379349,  0.00364817,  0.00345402],\n",
       "       [ 0.0036098 ,  0.00358171,  0.00349874,  0.0033647 ,  0.00318564],\n",
       "       [ 0.00277449,  0.0027529 ,  0.00268913,  0.00258611,  0.00244848],\n",
       "       [ 0.00161234,  0.0015998 ,  0.00156274,  0.00150287,  0.00142289],\n",
       "       [ 0.00038658,  0.00038357,  0.00037468,  0.00036033,  0.00034115]])"
      ]
     },
     "execution_count": 92,
     "metadata": {},
     "output_type": "execute_result"
    }
   ],
   "source": [
    "DOOG2(np.arange(0, 5), np.arange(0, 5), 4, 2)"
   ]
  },
  {
   "cell_type": "code",
   "execution_count": 93,
   "metadata": {},
   "outputs": [],
   "source": [
    "def DOOG2_weight(sigma, r=3, truncate=4):\n",
    "    # similar filter size logic as filters.gaussian of scipy.\n",
    "    lw = int(truncate * sigma + 0.5)\n",
    "    return DOOG2(np.arange(0, lw), np.arange(0, lw), sigma, r)"
   ]
  },
  {
   "cell_type": "code",
   "execution_count": 94,
   "metadata": {},
   "outputs": [
    {
     "data": {
      "text/plain": [
       "array([[  7.42193665e-04,   7.41460996e-04,   7.39267326e-04,\n",
       "          7.35625622e-04,   7.30557356e-04,   7.24092289e-04,\n",
       "          7.16268185e-04,   7.07130443e-04,   6.96731655e-04,\n",
       "          6.85131104e-04,   6.72394203e-04,   6.58591880e-04,\n",
       "          6.43799917e-04,   6.28098268e-04,   6.11570333e-04,\n",
       "          5.94302228e-04,   5.76382041e-04,   5.57899096e-04,\n",
       "          5.38943215e-04,   5.19604010e-04,   4.99970194e-04,\n",
       "          4.80128923e-04,   4.60165184e-04,   4.40161224e-04,\n",
       "          4.20196023e-04,   4.00344835e-04,   3.80678768e-04,\n",
       "          3.61264441e-04,   3.42163682e-04,   3.23433306e-04],\n",
       "       [  7.25531014e-04,   7.24814793e-04,   7.22670373e-04,\n",
       "          7.19110427e-04,   7.14155946e-04,   7.07836023e-04,\n",
       "          7.00187575e-04,   6.91254980e-04,   6.81089650e-04,\n",
       "          6.69749538e-04,   6.57298588e-04,   6.43806134e-04,\n",
       "          6.29346259e-04,   6.13997121e-04,   5.97840247e-04,\n",
       "          5.80959819e-04,   5.63441951e-04,   5.45373958e-04,\n",
       "          5.26843647e-04,   5.07938618e-04,   4.88745591e-04,\n",
       "          4.69349768e-04,   4.49834226e-04,   4.30279365e-04,\n",
       "          4.10762394e-04,   3.91356875e-04,   3.72132323e-04,\n",
       "          3.53153858e-04,   3.34481921e-04,   3.16172052e-04],\n",
       "       [  6.76777282e-04,   6.76109190e-04,   6.74108869e-04,\n",
       "          6.70788142e-04,   6.66166588e-04,   6.60271348e-04,\n",
       "          6.53136855e-04,   6.44804506e-04,   6.35322259e-04,\n",
       "          6.24744172e-04,   6.13129892e-04,   6.00544094e-04,\n",
       "          5.87055885e-04,   5.72738167e-04,   5.57666991e-04,\n",
       "          5.41920883e-04,   5.25580168e-04,   5.08726296e-04,\n",
       "          4.91441172e-04,   4.73806510e-04,   4.55903203e-04,\n",
       "          4.37810726e-04,   4.19606577e-04,   4.01365750e-04,\n",
       "          3.83160267e-04,   3.65058747e-04,   3.47126033e-04,\n",
       "          3.29422869e-04,   3.12005637e-04,   2.94926142e-04],\n",
       "       [  5.99508501e-04,   5.98916687e-04,   5.97144745e-04,\n",
       "          5.94203151e-04,   5.90109248e-04,   5.84887077e-04,\n",
       "          5.78567141e-04,   5.71186110e-04,   5.62786467e-04,\n",
       "          5.53416097e-04,   5.43127839e-04,   5.31978983e-04,\n",
       "          5.20030744e-04,   5.07347704e-04,   4.93997229e-04,\n",
       "          4.80048880e-04,   4.65573812e-04,   4.50644174e-04,\n",
       "          4.35332521e-04,   4.19711238e-04,   4.03851981e-04,\n",
       "          3.87825152e-04,   3.71699400e-04,   3.55541159e-04,\n",
       "          3.39414226e-04,   3.23379386e-04,   3.07494080e-04,\n",
       "          2.91812116e-04,   2.76383437e-04,   2.61253937e-04],\n",
       "       [  4.99279125e-04,   4.98786253e-04,   4.97310555e-04,\n",
       "          4.94860754e-04,   4.91451294e-04,   4.87102196e-04,\n",
       "          4.81838865e-04,   4.75691838e-04,   4.68696497e-04,\n",
       "          4.60892722e-04,   4.52324515e-04,   4.43039590e-04,\n",
       "          4.33088929e-04,   4.22526314e-04,   4.11407851e-04,\n",
       "          3.99791470e-04,   3.87736429e-04,   3.75302816e-04,\n",
       "          3.62551056e-04,   3.49541431e-04,   3.36333618e-04,\n",
       "          3.22986250e-04,   3.09556496e-04,   2.96099685e-04,\n",
       "          2.82668948e-04,   2.69314908e-04,   2.56085401e-04,\n",
       "          2.43025240e-04,   2.30176020e-04,   2.17575958e-04],\n",
       "       [  3.83068857e-04,   3.82690704e-04,   3.81558484e-04,\n",
       "          3.79678889e-04,   3.77063001e-04,   3.73726183e-04,\n",
       "          3.69687923e-04,   3.64971655e-04,   3.59604522e-04,\n",
       "          3.53617123e-04,   3.47043219e-04,   3.39919418e-04,\n",
       "          3.32284833e-04,   3.24180732e-04,   3.15650159e-04,\n",
       "          3.06737561e-04,   2.97488405e-04,   2.87948791e-04,\n",
       "          2.78165081e-04,   2.68183526e-04,   2.58049913e-04,\n",
       "          2.47809226e-04,   2.37505330e-04,   2.27180673e-04,\n",
       "          2.16876023e-04,   2.06630217e-04,   1.96479959e-04,\n",
       "          1.86459630e-04,   1.76601144e-04,   1.66933824e-04],\n",
       "       [  2.58609760e-04,   2.58354470e-04,   2.57590108e-04,\n",
       "          2.56321194e-04,   2.54555208e-04,   2.52302522e-04,\n",
       "          2.49576293e-04,   2.46392341e-04,   2.42768990e-04,\n",
       "          2.38726897e-04,   2.34288855e-04,   2.29479577e-04,\n",
       "          2.24325470e-04,   2.18854391e-04,   2.13095402e-04,\n",
       "          2.07078508e-04,   2.00834403e-04,   1.94394211e-04,\n",
       "          1.87789229e-04,   1.81050681e-04,   1.74209480e-04,\n",
       "          1.67295992e-04,   1.60339833e-04,   1.53369658e-04,\n",
       "          1.46412989e-04,   1.39496046e-04,   1.32643607e-04,\n",
       "          1.25878884e-04,   1.19223421e-04,   1.12697014e-04],\n",
       "       [  1.33676100e-04,   1.33544139e-04,   1.33149038e-04,\n",
       "          1.32493133e-04,   1.31580290e-04,   1.30415871e-04,\n",
       "          1.29006676e-04,   1.27360882e-04,   1.25487962e-04,\n",
       "          1.23398593e-04,   1.21104556e-04,   1.18618627e-04,\n",
       "          1.15954455e-04,   1.13126440e-04,   1.10149602e-04,\n",
       "          1.07039453e-04,   1.03811858e-04,   1.00482905e-04,\n",
       "          9.70687711e-05,   9.35855974e-05,   9.00493613e-05,\n",
       "          8.64757607e-05,   8.28801026e-05,   7.92772000e-05,\n",
       "          7.56812786e-05,   7.21058917e-05,   6.85638472e-05,\n",
       "          6.50671431e-05,   6.16269158e-05,   5.82533979e-05],\n",
       "       [  1.54195314e-05,   1.54043098e-05,   1.53587350e-05,\n",
       "          1.52830763e-05,   1.51777799e-05,   1.50434642e-05,\n",
       "          1.48809136e-05,   1.46910714e-05,   1.44750301e-05,\n",
       "          1.42340215e-05,   1.39694046e-05,   1.36826528e-05,\n",
       "          1.33753406e-05,   1.30491292e-05,   1.27057511e-05,\n",
       "          1.23469956e-05,   1.19746926e-05,   1.15906980e-05,\n",
       "          1.11968779e-05,   1.07950940e-05,   1.03871893e-05,\n",
       "          9.97497470e-06,   9.56021571e-06,   9.14462108e-06,\n",
       "          8.72983171e-06,   8.31741102e-06,   7.90883636e-06,\n",
       "          7.50549172e-06,   7.10866167e-06,   6.71952655e-06],\n",
       "       [ -9.01791042e-05,  -9.00900824e-05,  -8.98235439e-05,\n",
       "         -8.93810643e-05,  -8.87652523e-05,  -8.79797243e-05,\n",
       "         -8.70290686e-05,  -8.59188012e-05,  -8.46553124e-05,\n",
       "         -8.32458052e-05,  -8.16982276e-05,  -8.00211974e-05,\n",
       "         -7.82239227e-05,  -7.63161179e-05,  -7.43079164e-05,\n",
       "         -7.22097817e-05,  -7.00324169e-05,  -6.77866750e-05,\n",
       "         -6.54834697e-05,  -6.31336893e-05,  -6.07481125e-05,\n",
       "         -5.83373293e-05,  -5.59116658e-05,  -5.34811152e-05,\n",
       "         -5.10552741e-05,  -4.86432858e-05,  -4.62537906e-05,\n",
       "         -4.38948824e-05,  -4.15740740e-05,  -3.92982684e-05],\n",
       "       [ -1.78690603e-04,  -1.78514206e-04,  -1.77986058e-04,\n",
       "         -1.77109281e-04,  -1.75889044e-04,  -1.74332514e-04,\n",
       "         -1.72448783e-04,  -1.70248779e-04,  -1.67745166e-04,\n",
       "         -1.64952217e-04,  -1.61885679e-04,  -1.58562631e-04,\n",
       "         -1.55001317e-04,  -1.51220987e-04,  -1.47241720e-04,\n",
       "         -1.43084249e-04,  -1.38769784e-04,  -1.34319829e-04,\n",
       "         -1.29756009e-04,  -1.25099901e-04,  -1.20372862e-04,\n",
       "         -1.15595876e-04,  -1.10789405e-04,  -1.05973250e-04,\n",
       "         -1.01166426e-04,  -9.63870528e-05,  -9.16522492e-05,\n",
       "         -8.69780542e-05,  -8.23793541e-05,  -7.78698273e-05],\n",
       "       [ -2.47425690e-04,  -2.47181440e-04,  -2.46450134e-04,\n",
       "         -2.45236096e-04,  -2.43546484e-04,  -2.41391220e-04,\n",
       "         -2.38782892e-04,  -2.35736636e-04,  -2.32269984e-04,\n",
       "         -2.28402699e-04,  -2.24156588e-04,  -2.19555297e-04,\n",
       "         -2.14624088e-04,  -2.09389617e-04,  -2.03879686e-04,\n",
       "         -1.98123004e-04,  -1.92148938e-04,  -1.85987263e-04,\n",
       "         -1.79667926e-04,  -1.73220801e-04,  -1.66675460e-04,\n",
       "         -1.60060959e-04,  -1.53405632e-04,  -1.46736896e-04,\n",
       "         -1.40081081e-04,  -1.33463275e-04,  -1.26907183e-04,\n",
       "         -1.20435013e-04,  -1.14067378e-04,  -1.07823217e-04],\n",
       "       [ -2.95432191e-04,  -2.95140550e-04,  -2.94267354e-04,\n",
       "         -2.92817764e-04,  -2.90800327e-04,  -2.88226889e-04,\n",
       "         -2.85112484e-04,  -2.81475181e-04,  -2.77335915e-04,\n",
       "         -2.72718285e-04,  -2.67648327e-04,  -2.62154275e-04,\n",
       "         -2.56266294e-04,  -2.50016211e-04,  -2.43437221e-04,\n",
       "         -2.36563605e-04,  -2.29430427e-04,  -2.22073240e-04,\n",
       "         -2.14527801e-04,  -2.06829778e-04,  -1.99014485e-04,\n",
       "         -1.91116613e-04,  -1.83169993e-04,  -1.75207363e-04,\n",
       "         -1.67260161e-04,  -1.59358342e-04,  -1.51530211e-04,\n",
       "         -1.43802285e-04,  -1.36199177e-04,  -1.28743500e-04],\n",
       "       [ -3.23325833e-04,  -3.23006656e-04,  -3.22051016e-04,\n",
       "         -3.20464561e-04,  -3.18256644e-04,  -3.15440232e-04,\n",
       "         -3.12031776e-04,  -3.08051052e-04,  -3.03520972e-04,\n",
       "         -2.98467361e-04,  -2.92918716e-04,  -2.86905936e-04,\n",
       "         -2.80462033e-04,  -2.73621839e-04,  -2.66421685e-04,\n",
       "         -2.58899087e-04,  -2.51092420e-04,  -2.43040595e-04,\n",
       "         -2.34782742e-04,  -2.26357900e-04,  -2.17804714e-04,\n",
       "         -2.09161154e-04,  -2.00464243e-04,  -1.91749810e-04,\n",
       "         -1.83052262e-04,  -1.74404381e-04,  -1.65837147e-04,\n",
       "         -1.57379578e-04,  -1.49058612e-04,  -1.40898997e-04],\n",
       "       [ -3.32996465e-04,  -3.32667742e-04,  -3.31683519e-04,\n",
       "         -3.30049613e-04,  -3.27775658e-04,  -3.24875008e-04,\n",
       "         -3.21364605e-04,  -3.17264818e-04,  -3.12599243e-04,\n",
       "         -3.07394480e-04,  -3.01679876e-04,  -2.95487254e-04,\n",
       "         -2.88850615e-04,  -2.81805832e-04,  -2.74390323e-04,\n",
       "         -2.66642725e-04,  -2.58602561e-04,  -2.50309906e-04,\n",
       "         -2.41805062e-04,  -2.33128234e-04,  -2.24319224e-04,\n",
       "         -2.15417137e-04,  -2.06460102e-04,  -1.97485021e-04,\n",
       "         -1.88527330e-04,  -1.79620793e-04,  -1.70797314e-04,\n",
       "         -1.62086781e-04,  -1.53516935e-04,  -1.45113267e-04],\n",
       "       [ -3.27240567e-04,  -3.26917526e-04,  -3.25950315e-04,\n",
       "         -3.24344652e-04,  -3.22110003e-04,  -3.19259491e-04,\n",
       "         -3.15809766e-04,  -3.11780844e-04,  -3.07195915e-04,\n",
       "         -3.02081117e-04,  -2.96465291e-04,  -2.90379709e-04,\n",
       "         -2.83857786e-04,  -2.76934772e-04,  -2.69647441e-04,\n",
       "         -2.62033762e-04,  -2.54132574e-04,  -2.45983259e-04,\n",
       "         -2.37625423e-04,  -2.29098575e-04,  -2.20441830e-04,\n",
       "         -2.11693617e-04,  -2.02891406e-04,  -1.94071461e-04,\n",
       "         -1.85268605e-04,  -1.76516019e-04,  -1.67845055e-04,\n",
       "         -1.59285084e-04,  -1.50863370e-04,  -1.42604961e-04],\n",
       "       [ -3.09371762e-04,  -3.09066361e-04,  -3.08151964e-04,\n",
       "         -3.06633977e-04,  -3.04521350e-04,  -3.01826488e-04,\n",
       "         -2.98565134e-04,  -2.94756210e-04,  -2.90421638e-04,\n",
       "         -2.85586131e-04,  -2.80276954e-04,  -2.74523672e-04,\n",
       "         -2.68357875e-04,  -2.61812890e-04,  -2.54923480e-04,\n",
       "         -2.47725542e-04,  -2.40255793e-04,  -2.32551468e-04,\n",
       "         -2.24650007e-04,  -2.16588764e-04,  -2.08404716e-04,\n",
       "         -2.00134194e-04,  -1.91812624e-04,  -1.83474287e-04,\n",
       "         -1.75152107e-04,  -1.66877451e-04,  -1.58679961e-04,\n",
       "         -1.50587403e-04,  -1.42625552e-04,  -1.34818089e-04],\n",
       "       [ -2.82854911e-04,  -2.82575686e-04,  -2.81739664e-04,\n",
       "         -2.80351787e-04,  -2.78420237e-04,  -2.75956357e-04,\n",
       "         -2.72974540e-04,  -2.69492086e-04,  -2.65529039e-04,\n",
       "         -2.61107992e-04,  -2.56253875e-04,  -2.50993718e-04,\n",
       "         -2.45356404e-04,  -2.39372402e-04,  -2.33073496e-04,\n",
       "         -2.26492507e-04,  -2.19663006e-04,  -2.12619033e-04,\n",
       "         -2.05394822e-04,  -1.98024523e-04,  -1.90541946e-04,\n",
       "         -1.82980306e-04,  -1.75371993e-04,  -1.67748352e-04,\n",
       "         -1.60139482e-04,  -1.52574063e-04,  -1.45079195e-04,\n",
       "         -1.37680266e-04,  -1.30400841e-04,  -1.23262571e-04],\n",
       "       [ -2.50998228e-04,  -2.50750451e-04,  -2.50008586e-04,\n",
       "         -2.48777019e-04,  -2.47063011e-04,  -2.44876627e-04,\n",
       "         -2.42230638e-04,  -2.39140397e-04,  -2.35623691e-04,\n",
       "         -2.31700567e-04,  -2.27393147e-04,  -2.22725418e-04,\n",
       "         -2.17723009e-04,  -2.12412959e-04,  -2.06823471e-04,\n",
       "         -2.00983669e-04,  -1.94923344e-04,  -1.88672702e-04,\n",
       "         -1.82262121e-04,  -1.75721906e-04,  -1.69082058e-04,\n",
       "         -1.62372053e-04,  -1.55620630e-04,  -1.48855605e-04,\n",
       "         -1.42103688e-04,  -1.35390328e-04,  -1.28739574e-04,\n",
       "         -1.22173954e-04,  -1.15714377e-04,  -1.09380059e-04],\n",
       "       [ -2.16724262e-04,  -2.16510319e-04,  -2.15869757e-04,\n",
       "         -2.14806361e-04,  -2.13326402e-04,  -2.11438570e-04,\n",
       "         -2.09153893e-04,  -2.06485626e-04,  -2.03449128e-04,\n",
       "         -2.00061709e-04,  -1.96342471e-04,  -1.92312123e-04,\n",
       "         -1.87992796e-04,  -1.83407836e-04,  -1.78581596e-04,\n",
       "         -1.73539223e-04,  -1.68306439e-04,  -1.62909326e-04,\n",
       "         -1.57374114e-04,  -1.51726970e-04,  -1.45993797e-04,\n",
       "         -1.40200047e-04,  -1.34370535e-04,  -1.28529279e-04,\n",
       "         -1.22699340e-04,  -1.16902694e-04,  -1.11160104e-04,\n",
       "         -1.05491024e-04,  -9.99135066e-05,  -9.44441431e-05],\n",
       "       [ -1.82426996e-04,  -1.82246910e-04,  -1.81707718e-04,\n",
       "         -1.80812608e-04,  -1.79566857e-04,  -1.77977780e-04,\n",
       "         -1.76054660e-04,  -1.73808655e-04,  -1.71252692e-04,\n",
       "         -1.68401342e-04,  -1.65270684e-04,  -1.61878151e-04,\n",
       "         -1.58242371e-04,  -1.54382994e-04,  -1.50320521e-04,\n",
       "         -1.46076119e-04,  -1.41671439e-04,  -1.37128435e-04,\n",
       "         -1.32469187e-04,  -1.27715721e-04,  -1.22889840e-04,\n",
       "         -1.18012968e-04,  -1.13105994e-04,  -1.08189134e-04,\n",
       "         -1.03281801e-04,  -9.84024911e-05,  -9.35686835e-05,\n",
       "         -8.87967518e-05,  -8.41018936e-05,  -7.94980733e-05],\n",
       "       [ -1.49910575e-04,  -1.49762588e-04,  -1.49319504e-04,\n",
       "         -1.48583942e-04,  -1.47560237e-04,  -1.46254403e-04,\n",
       "         -1.44674066e-04,  -1.42828397e-04,  -1.40728018e-04,\n",
       "         -1.38384902e-04,  -1.35812264e-04,  -1.33024428e-04,\n",
       "         -1.30036701e-04,  -1.26865234e-04,  -1.23526870e-04,\n",
       "         -1.20039005e-04,  -1.16419430e-04,  -1.12686187e-04,\n",
       "         -1.08857420e-04,  -1.04951227e-04,  -1.00985528e-04,\n",
       "         -9.69779269e-05,  -9.29455892e-05,  -8.89051272e-05,\n",
       "         -8.48724942e-05,  -8.08628896e-05,  -7.68906767e-05,\n",
       "         -7.29693106e-05,  -6.91112803e-05,  -6.53280609e-05],\n",
       "       [ -1.20396715e-04,  -1.20277864e-04,  -1.19922012e-04,\n",
       "         -1.19331265e-04,  -1.18509104e-04,  -1.17460357e-04,\n",
       "         -1.16191152e-04,  -1.14708851e-04,  -1.13021987e-04,\n",
       "         -1.11140176e-04,  -1.09074029e-04,  -1.06835052e-04,\n",
       "         -1.04435539e-04,  -1.01888458e-04,  -9.92073401e-05,\n",
       "         -9.64061531e-05,  -9.34991874e-05,  -9.05009323e-05,\n",
       "         -8.74259589e-05,  -8.42888037e-05,  -8.11038573e-05,\n",
       "         -7.78852582e-05,  -7.46467928e-05,  -7.14018026e-05,\n",
       "         -6.81631000e-05,  -6.49428921e-05,  -6.17527142e-05,\n",
       "         -5.86033728e-05,  -5.55048977e-05,  -5.24665051e-05],\n",
       "       [ -9.45829406e-05,  -9.44895714e-05,  -9.42100167e-05,\n",
       "         -9.37459289e-05,  -9.31000441e-05,  -9.22761553e-05,\n",
       "         -9.12790750e-05,  -9.01145885e-05,  -8.87893980e-05,\n",
       "         -8.73110585e-05,  -8.56879060e-05,  -8.39289791e-05,\n",
       "         -8.20439357e-05,  -8.00429645e-05,  -7.79366939e-05,\n",
       "         -7.57360982e-05,  -7.34524032e-05,  -7.10969920e-05,\n",
       "         -6.86813112e-05,  -6.62167808e-05,  -6.37147060e-05,\n",
       "         -6.11861938e-05,  -5.86420746e-05,  -5.60928297e-05,\n",
       "         -5.35485243e-05,  -5.10187482e-05,  -4.85125635e-05,\n",
       "         -4.60384597e-05,  -4.36043162e-05,  -4.12173731e-05],\n",
       "       [ -7.27324603e-05,  -7.26606613e-05,  -7.24456891e-05,\n",
       "         -7.20888145e-05,  -7.15921415e-05,  -7.09585869e-05,\n",
       "         -7.01918513e-05,  -6.92963836e-05,  -6.82773376e-05,\n",
       "         -6.71405230e-05,  -6.58923500e-05,  -6.45397691e-05,\n",
       "         -6.30902070e-05,  -6.15514987e-05,  -5.99318171e-05,\n",
       "         -5.82396014e-05,  -5.64834839e-05,  -5.46722180e-05,\n",
       "         -5.28146060e-05,  -5.09194296e-05,  -4.89953822e-05,\n",
       "         -4.70510050e-05,  -4.50946264e-05,  -4.31343061e-05,\n",
       "         -4.11777842e-05,  -3.92324351e-05,  -3.73052274e-05,\n",
       "         -3.54026891e-05,  -3.35308796e-05,  -3.16953663e-05],\n",
       "       [ -5.47779122e-05,  -5.47238372e-05,  -5.45619325e-05,\n",
       "         -5.42931551e-05,  -5.39190895e-05,  -5.34419326e-05,\n",
       "         -5.28644714e-05,  -5.21900565e-05,  -5.14225696e-05,\n",
       "         -5.05663862e-05,  -4.96263339e-05,  -4.86076476e-05,\n",
       "         -4.75159207e-05,  -4.63570540e-05,  -4.51372028e-05,\n",
       "         -4.38627231e-05,  -4.25401163e-05,  -4.11759748e-05,\n",
       "         -3.97769282e-05,  -3.83495901e-05,  -3.69005081e-05,\n",
       "         -3.54361149e-05,  -3.39626829e-05,  -3.24862822e-05,\n",
       "         -3.10127423e-05,  -2.95476171e-05,  -2.80961549e-05,\n",
       "         -2.66632723e-05,  -2.52535329e-05,  -2.38711297e-05],\n",
       "       [ -4.04245050e-05,  -4.03845993e-05,  -4.02651183e-05,\n",
       "         -4.00667684e-05,  -3.97907189e-05,  -3.94385910e-05,\n",
       "         -3.90124414e-05,  -3.85147429e-05,  -3.79483599e-05,\n",
       "         -3.73165214e-05,  -3.66227902e-05,  -3.58710294e-05,\n",
       "         -3.50653667e-05,  -3.42101568e-05,  -3.33099421e-05,\n",
       "         -3.23694132e-05,  -3.13933678e-05,  -3.03866711e-05,\n",
       "         -2.93542154e-05,  -2.83008815e-05,  -2.72315011e-05,\n",
       "         -2.61508215e-05,  -2.50634716e-05,  -2.39739309e-05,\n",
       "         -2.28865013e-05,  -2.18052815e-05,  -2.07341446e-05,\n",
       "         -1.96767190e-05,  -1.86363724e-05,  -1.76161990e-05],\n",
       "       [ -2.92423066e-05,  -2.92134395e-05,  -2.91270093e-05,\n",
       "         -2.89835268e-05,  -2.87838379e-05,  -2.85291154e-05,\n",
       "         -2.82208470e-05,  -2.78608215e-05,  -2.74511110e-05,\n",
       "         -2.69940512e-05,  -2.64922194e-05,  -2.59484102e-05,\n",
       "         -2.53656093e-05,  -2.47469670e-05,  -2.40957691e-05,\n",
       "         -2.34154086e-05,  -2.27093563e-05,  -2.19811313e-05,\n",
       "         -2.12342728e-05,  -2.04723113e-05,  -1.96987422e-05,\n",
       "         -1.89169995e-05,  -1.81304315e-05,  -1.73422788e-05,\n",
       "         -1.65556532e-05,  -1.57735197e-05,  -1.49986800e-05,\n",
       "         -1.42337587e-05,  -1.34811920e-05,  -1.27432183e-05],\n",
       "       [ -2.07416953e-05,  -2.07212197e-05,  -2.06599144e-05,\n",
       "         -2.05581416e-05,  -2.04165015e-05,  -2.02358256e-05,\n",
       "         -2.00171695e-05,  -1.97618019e-05,  -1.94711924e-05,\n",
       "         -1.91469979e-05,  -1.87910465e-05,  -1.84053202e-05,\n",
       "         -1.79919370e-05,  -1.75531313e-05,  -1.70912338e-05,\n",
       "         -1.66086512e-05,  -1.61078452e-05,  -1.55913120e-05,\n",
       "         -1.50615620e-05,  -1.45210995e-05,  -1.39724036e-05,\n",
       "         -1.34179100e-05,  -1.28599939e-05,  -1.23009538e-05,\n",
       "         -1.17429968e-05,  -1.11882261e-05,  -1.06386289e-05,\n",
       "         -1.00960670e-05,  -9.56226812e-06,  -9.03882017e-06],\n",
       "       [ -1.44297352e-05,  -1.44154907e-05,  -1.43728413e-05,\n",
       "         -1.43020393e-05,  -1.42035020e-05,  -1.40778081e-05,\n",
       "         -1.39256919e-05,  -1.37480358e-05,  -1.35458625e-05,\n",
       "         -1.33203245e-05,  -1.30726935e-05,  -1.28043487e-05,\n",
       "         -1.25167632e-05,  -1.22114916e-05,  -1.18901554e-05,\n",
       "         -1.15544287e-05,  -1.12060243e-05,  -1.08466787e-05,\n",
       "         -1.04781383e-05,  -1.01021454e-05,  -9.72042456e-06,\n",
       "         -9.33467041e-06,  -8.94653524e-06,  -8.55761807e-06,\n",
       "         -8.16945448e-06,  -7.78350752e-06,  -7.40115970e-06,\n",
       "         -7.02370618e-06,  -6.65234908e-06,  -6.28819295e-06]])"
      ]
     },
     "execution_count": 94,
     "metadata": {},
     "output_type": "execute_result"
    }
   ],
   "source": [
    "DOOG2_weight(7.5)"
   ]
  },
  {
   "cell_type": "code",
   "execution_count": null,
   "metadata": {},
   "outputs": [],
   "source": []
  },
  {
   "cell_type": "code",
   "execution_count": 95,
   "metadata": {},
   "outputs": [],
   "source": [
    "# https://docs.scipy.org/doc/scipy-0.16.1/reference/generated/scipy.ndimage.filters.convolve.html\n",
    "from scipy.ndimage.filters import convolve"
   ]
  },
  {
   "cell_type": "code",
   "execution_count": 96,
   "metadata": {},
   "outputs": [],
   "source": [
    "weights = DOOG2_weight(7.5)"
   ]
  },
  {
   "cell_type": "code",
   "execution_count": 98,
   "metadata": {},
   "outputs": [
    {
     "data": {
      "text/plain": [
       "(30, 30)"
      ]
     },
     "execution_count": 98,
     "metadata": {},
     "output_type": "execute_result"
    }
   ],
   "source": [
    "weights.shape"
   ]
  },
  {
   "cell_type": "code",
   "execution_count": 100,
   "metadata": {},
   "outputs": [
    {
     "data": {
      "text/plain": [
       "array([[ 0.00700563,  0.00698895,  0.00697538, ...,  0.00587873,\n",
       "         0.00588779,  0.00589131],\n",
       "       [ 0.00731609,  0.00730201,  0.00729126, ...,  0.00628678,\n",
       "         0.00629372,  0.00629324],\n",
       "       [ 0.00748217,  0.00747107,  0.00746349, ...,  0.00663851,\n",
       "         0.0066426 ,  0.00664045],\n",
       "       ..., \n",
       "       [-0.00970754, -0.00968341, -0.00965325, ..., -0.00225931,\n",
       "        -0.00229642, -0.00232644],\n",
       "       [-0.00748642, -0.00748114, -0.00747075, ..., -0.00221456,\n",
       "        -0.00224807, -0.00226993],\n",
       "       [-0.00506333, -0.00510153, -0.00513819, ..., -0.00228135,\n",
       "        -0.00231105, -0.00232822]])"
      ]
     },
     "execution_count": 100,
     "metadata": {},
     "output_type": "execute_result"
    }
   ],
   "source": [
    "convolve(tile[:, :, 0], weights)"
   ]
  },
  {
   "cell_type": "code",
   "execution_count": null,
   "metadata": {},
   "outputs": [],
   "source": []
  },
  {
   "cell_type": "code",
   "execution_count": null,
   "metadata": {},
   "outputs": [],
   "source": []
  },
  {
   "cell_type": "markdown",
   "metadata": {},
   "source": [
    "# Try and Error"
   ]
  },
  {
   "cell_type": "raw",
   "metadata": {},
   "source": [
    "### There are no way to compute offset gaussian using filters module. So I can't implement this way\n",
    "\n",
    "def filterDOOG2(img, sigma, r=3):\n",
    "    sigmay = sigma\n",
    "    sigmax = r*sigma\n",
    "    ya = sigma\n",
    "    yc = -sigma\n",
    "    return -filters.gaussian(ya, [sigmax, sigmay], x, y) + 2*G(0, sigmax, sigmay, x, y) - G(yc, sigmax, sigmay, x, y)"
   ]
  },
  {
   "cell_type": "code",
   "execution_count": null,
   "metadata": {},
   "outputs": [],
   "source": []
  },
  {
   "cell_type": "code",
   "execution_count": 11,
   "metadata": {},
   "outputs": [
    {
     "data": {
      "text/plain": [
       "(0.37209400017472155, 0.10217063437619424, -0.09780083132038393)"
      ]
     },
     "execution_count": 11,
     "metadata": {},
     "output_type": "execute_result"
    }
   ],
   "source": [
    "calc_moments(tile[:, :, 0])"
   ]
  },
  {
   "cell_type": "code",
   "execution_count": null,
   "metadata": {},
   "outputs": [],
   "source": []
  },
  {
   "cell_type": "code",
   "execution_count": 21,
   "metadata": {},
   "outputs": [
    {
     "data": {
      "text/plain": [
       "array([[ 0.51498902,  0.51498902,  0.51498902],\n",
       "       [ 0.51498902,  0.51498902,  0.51498902],\n",
       "       [ 0.51777176,  0.51777176,  0.51777176]])"
      ]
     },
     "execution_count": 21,
     "metadata": {},
     "output_type": "execute_result"
    }
   ],
   "source": [
    "color.rgb2gray(tile[0:3, 0:3, :])"
   ]
  },
  {
   "cell_type": "code",
   "execution_count": null,
   "metadata": {},
   "outputs": [],
   "source": []
  },
  {
   "cell_type": "code",
   "execution_count": null,
   "metadata": {},
   "outputs": [],
   "source": []
  },
  {
   "cell_type": "code",
   "execution_count": 26,
   "metadata": {},
   "outputs": [],
   "source": [
    "tmp = tile[0:3, 0:3, :]"
   ]
  },
  {
   "cell_type": "code",
   "execution_count": 27,
   "metadata": {},
   "outputs": [
    {
     "data": {
      "text/plain": [
       "[(0.25882352941176467, 0.0055459355387180269, 0.15959603823333823),\n",
       " (0.56470588235294117, 0.0, -0.241661910774848),\n",
       " (0.78954248366013069, 0.0018486451795726665, -0.44268744485027073)]"
      ]
     },
     "execution_count": 27,
     "metadata": {},
     "output_type": "execute_result"
    }
   ],
   "source": [
    "[calc_moments(tmp[:, :, i]) for i in range(3)]"
   ]
  },
  {
   "cell_type": "code",
   "execution_count": 28,
   "metadata": {},
   "outputs": [
    {
     "data": {
      "text/plain": [
       "12"
      ]
     },
     "execution_count": 28,
     "metadata": {},
     "output_type": "execute_result"
    }
   ],
   "source": [
    "len(calc_4_moments(tmp))"
   ]
  },
  {
   "cell_type": "code",
   "execution_count": 29,
   "metadata": {},
   "outputs": [
    {
     "data": {
      "text/plain": [
       "[0.37209400017472155,\n",
       " 0.10217063437619424,\n",
       " -0.09780083132038393,\n",
       " 0.60834722741120328,\n",
       " 0.069683966722592888,\n",
       " -0.2781541238099151,\n",
       " 0.8166978005535328,\n",
       " 0.05321479042159858,\n",
       " -0.4683674599313368,\n",
       " 0.5731654929470128,\n",
       " 0.073980597551597832,\n",
       " -0.2485871934295749]"
      ]
     },
     "execution_count": 29,
     "metadata": {},
     "output_type": "execute_result"
    }
   ],
   "source": [
    "calc_4_moments(tile)"
   ]
  },
  {
   "cell_type": "code",
   "execution_count": null,
   "metadata": {},
   "outputs": [],
   "source": []
  },
  {
   "cell_type": "code",
   "execution_count": null,
   "metadata": {},
   "outputs": [],
   "source": []
  },
  {
   "cell_type": "code",
   "execution_count": null,
   "metadata": {},
   "outputs": [],
   "source": []
  },
  {
   "cell_type": "code",
   "execution_count": null,
   "metadata": {},
   "outputs": [],
   "source": []
  },
  {
   "cell_type": "code",
   "execution_count": null,
   "metadata": {},
   "outputs": [],
   "source": []
  },
  {
   "cell_type": "code",
   "execution_count": null,
   "metadata": {},
   "outputs": [],
   "source": []
  },
  {
   "cell_type": "code",
   "execution_count": 19,
   "metadata": {},
   "outputs": [],
   "source": [
    "def gray_arr(rgbarr):\n",
    "    return (rgbarr[:, :, 0]+rgbarr[:, :, 1]+rgbarr[:, :, 2])/3"
   ]
  },
  {
   "cell_type": "code",
   "execution_count": 20,
   "metadata": {},
   "outputs": [
    {
     "data": {
      "text/plain": [
       "array([[ 0.53594771,  0.53594771,  0.53594771],\n",
       "       [ 0.53594771,  0.53594771,  0.53594771],\n",
       "       [ 0.54117647,  0.54117647,  0.54117647]])"
      ]
     },
     "execution_count": 20,
     "metadata": {},
     "output_type": "execute_result"
    }
   ],
   "source": [
    "gray_arr(tile[0:3, 0:3, :])"
   ]
  },
  {
   "cell_type": "code",
   "execution_count": null,
   "metadata": {},
   "outputs": [],
   "source": []
  },
  {
   "cell_type": "code",
   "execution_count": 21,
   "metadata": {},
   "outputs": [
    {
     "data": {
      "text/plain": [
       "Image([[65, 65, 65],\n",
       "       [65, 65, 65],\n",
       "       [68, 68, 68]])"
      ]
     },
     "execution_count": 21,
     "metadata": {},
     "output_type": "execute_result"
    }
   ],
   "source": [
    "tile[0:3, 0:3, 0]"
   ]
  },
  {
   "cell_type": "code",
   "execution_count": 22,
   "metadata": {},
   "outputs": [
    {
     "data": {
      "text/plain": [
       "Image([[144, 144, 144],\n",
       "       [144, 144, 144],\n",
       "       [144, 144, 144]])"
      ]
     },
     "execution_count": 22,
     "metadata": {},
     "output_type": "execute_result"
    }
   ],
   "source": [
    "tile[0:3, 0:3, 1]"
   ]
  },
  {
   "cell_type": "code",
   "execution_count": 23,
   "metadata": {},
   "outputs": [
    {
     "data": {
      "text/plain": [
       "Image([[201, 201, 201],\n",
       "       [201, 201, 201],\n",
       "       [202, 202, 202]])"
      ]
     },
     "execution_count": 23,
     "metadata": {},
     "output_type": "execute_result"
    }
   ],
   "source": [
    "tile[0:3, 0:3, 2]"
   ]
  },
  {
   "cell_type": "code",
   "execution_count": 24,
   "metadata": {},
   "outputs": [
    {
     "data": {
      "text/plain": [
       "Image([[ 136.66666667,  136.66666667,  136.66666667],\n",
       "       [ 136.66666667,  136.66666667,  136.66666667],\n",
       "       [ 138.        ,  138.        ,  138.        ]])"
      ]
     },
     "execution_count": 24,
     "metadata": {},
     "output_type": "execute_result"
    }
   ],
   "source": [
    "(tile[0:3, 0:3, 0]+tile[0:3, 0:3, 1]+tile[0:3, 0:3, 2])/3"
   ]
  },
  {
   "cell_type": "code",
   "execution_count": null,
   "metadata": {},
   "outputs": [],
   "source": []
  },
  {
   "cell_type": "code",
   "execution_count": null,
   "metadata": {},
   "outputs": [],
   "source": []
  },
  {
   "cell_type": "code",
   "execution_count": 9,
   "metadata": {},
   "outputs": [],
   "source": [
    "r_1_moment = np.mean(tile[:, :, 0])"
   ]
  },
  {
   "cell_type": "code",
   "execution_count": 10,
   "metadata": {},
   "outputs": [
    {
     "data": {
      "text/plain": [
       "94.88397004455399"
      ]
     },
     "execution_count": 10,
     "metadata": {},
     "output_type": "execute_result"
    }
   ],
   "source": [
    "r_1_moment"
   ]
  },
  {
   "cell_type": "code",
   "execution_count": 11,
   "metadata": {},
   "outputs": [
    {
     "data": {
      "text/plain": [
       "94.88397004455399"
      ]
     },
     "execution_count": 11,
     "metadata": {},
     "output_type": "execute_result"
    }
   ],
   "source": [
    "np.sum(tile[:, :, 0])/(tile.shape[0]*tile.shape[1])"
   ]
  },
  {
   "cell_type": "code",
   "execution_count": 12,
   "metadata": {},
   "outputs": [],
   "source": [
    "import math"
   ]
  },
  {
   "cell_type": "code",
   "execution_count": 13,
   "metadata": {},
   "outputs": [
    {
     "data": {
      "text/plain": [
       "678.78547533742858"
      ]
     },
     "execution_count": 13,
     "metadata": {},
     "output_type": "execute_result"
    }
   ],
   "source": [
    "np.sum((tile[:, :, 0]-r_1_moment)**2)/(tile.shape[0]*tile.shape[1])"
   ]
  },
  {
   "cell_type": "code",
   "execution_count": 14,
   "metadata": {},
   "outputs": [
    {
     "data": {
      "text/plain": [
       "678.78547533742858"
      ]
     },
     "execution_count": 14,
     "metadata": {},
     "output_type": "execute_result"
    }
   ],
   "source": [
    "np.mean((tile[:, :, 0]-r_1_moment)**2)"
   ]
  },
  {
   "cell_type": "code",
   "execution_count": 15,
   "metadata": {},
   "outputs": [],
   "source": [
    "r_2_moment = np.mean((tile[:, :, 0]-r_1_moment)**2)**(1/2)"
   ]
  },
  {
   "cell_type": "code",
   "execution_count": 16,
   "metadata": {},
   "outputs": [
    {
     "data": {
      "text/plain": [
       "26.053511765929532"
      ]
     },
     "execution_count": 16,
     "metadata": {},
     "output_type": "execute_result"
    }
   ],
   "source": [
    "r_2_moment"
   ]
  },
  {
   "cell_type": "code",
   "execution_count": 73,
   "metadata": {},
   "outputs": [
    {
     "data": {
      "text/plain": [
       "26.05351176592953"
      ]
     },
     "execution_count": 73,
     "metadata": {},
     "output_type": "execute_result"
    }
   ],
   "source": [
    "math.sqrt(np.mean((tile[:, :, 0]-r_1_moment)**2))"
   ]
  },
  {
   "cell_type": "code",
   "execution_count": 81,
   "metadata": {},
   "outputs": [
    {
     "name": "stderr",
     "output_type": "stream",
     "text": [
      "/usr/local/lib/python3.5/dist-packages/ipykernel_launcher.py:1: RuntimeWarning: invalid value encountered in double_scalars\n",
      "  \"\"\"Entry point for launching an IPython kernel.\n"
     ]
    }
   ],
   "source": [
    "r_3_moment = (np.mean((tile[:, :, 0]-r_1_moment)**3))**(1./3)"
   ]
  },
  {
   "cell_type": "code",
   "execution_count": 68,
   "metadata": {},
   "outputs": [
    {
     "data": {
      "text/plain": [
       "nan"
      ]
     },
     "execution_count": 68,
     "metadata": {},
     "output_type": "execute_result"
    }
   ],
   "source": [
    "r_3_moment"
   ]
  },
  {
   "cell_type": "code",
   "execution_count": 91,
   "metadata": {},
   "outputs": [
    {
     "data": {
      "text/plain": [
       "-15511.299389127838"
      ]
     },
     "execution_count": 91,
     "metadata": {},
     "output_type": "execute_result"
    }
   ],
   "source": [
    "np.mean((tile[:, :, 0]-r_1_moment)**3).astype(float)"
   ]
  },
  {
   "cell_type": "code",
   "execution_count": 85,
   "metadata": {},
   "outputs": [
    {
     "data": {
      "text/plain": [
       "numpy.float64"
      ]
     },
     "execution_count": 85,
     "metadata": {},
     "output_type": "execute_result"
    }
   ],
   "source": [
    "type(np.mean((tile[:, :, 0]-r_1_moment)**3))"
   ]
  },
  {
   "cell_type": "code",
   "execution_count": 82,
   "metadata": {
    "scrolled": true
   },
   "outputs": [
    {
     "name": "stderr",
     "output_type": "stream",
     "text": [
      "/usr/local/lib/python3.5/dist-packages/ipykernel_launcher.py:1: RuntimeWarning: invalid value encountered in power\n",
      "  \"\"\"Entry point for launching an IPython kernel.\n"
     ]
    }
   ],
   "source": [
    "r_3_moment = np.power(np.mean((tile[:, :, 0]-r_1_moment)**3), 1/3)"
   ]
  },
  {
   "cell_type": "code",
   "execution_count": null,
   "metadata": {},
   "outputs": [],
   "source": []
  },
  {
   "cell_type": "code",
   "execution_count": 88,
   "metadata": {},
   "outputs": [
    {
     "name": "stderr",
     "output_type": "stream",
     "text": [
      "/usr/local/lib/python3.5/dist-packages/ipykernel_launcher.py:1: RuntimeWarning: invalid value encountered in power\n",
      "  \"\"\"Entry point for launching an IPython kernel.\n"
     ]
    }
   ],
   "source": [
    "r_3_moment = np.power(np.mean((tile[:, :, 0]-r_1_moment)**3).astype(float), 1/3)"
   ]
  },
  {
   "cell_type": "code",
   "execution_count": 89,
   "metadata": {},
   "outputs": [
    {
     "data": {
      "text/plain": [
       "nan"
      ]
     },
     "execution_count": 89,
     "metadata": {},
     "output_type": "execute_result"
    }
   ],
   "source": [
    "r_3_moment"
   ]
  },
  {
   "cell_type": "code",
   "execution_count": 105,
   "metadata": {},
   "outputs": [
    {
     "data": {
      "text/plain": [
       "-24.93921198669789"
      ]
     },
     "execution_count": 105,
     "metadata": {},
     "output_type": "execute_result"
    }
   ],
   "source": [
    "-15511.299389127838**(1/3)"
   ]
  },
  {
   "cell_type": "code",
   "execution_count": 100,
   "metadata": {
    "scrolled": true
   },
   "outputs": [
    {
     "data": {
      "text/plain": [
       "(12.46960599334895+21.597991130845752j)"
      ]
     },
     "execution_count": 100,
     "metadata": {},
     "output_type": "execute_result"
    }
   ],
   "source": [
    "(-15511.299389127838)**(1/3)"
   ]
  },
  {
   "cell_type": "code",
   "execution_count": 95,
   "metadata": {},
   "outputs": [
    {
     "data": {
      "text/plain": [
       "-15511.299389127838"
      ]
     },
     "execution_count": 95,
     "metadata": {},
     "output_type": "execute_result"
    }
   ],
   "source": [
    "np.mean((tile[:, :, 0]-r_1_moment)**3).astype(float)"
   ]
  },
  {
   "cell_type": "code",
   "execution_count": 97,
   "metadata": {},
   "outputs": [
    {
     "name": "stderr",
     "output_type": "stream",
     "text": [
      "/usr/local/lib/python3.5/dist-packages/ipykernel_launcher.py:1: RuntimeWarning: invalid value encountered in double_scalars\n",
      "  \"\"\"Entry point for launching an IPython kernel.\n"
     ]
    },
    {
     "data": {
      "text/plain": [
       "nan"
      ]
     },
     "execution_count": 97,
     "metadata": {},
     "output_type": "execute_result"
    }
   ],
   "source": [
    "(np.mean((tile[:, :, 0]-r_1_moment)**3).astype(float))**(1/3)"
   ]
  },
  {
   "cell_type": "markdown",
   "metadata": {},
   "source": [
    "Negative cuberoot return complex answer (it also valid from the methematical point of view, but not what people want)\n",
    "\n",
    "- https://stackoverflow.com/questions/1361740/cubic-root-of-the-negative-number-on-python\n",
    "- https://stackoverflow.com/questions/45906383/python-exponent-operator-with-fractional-exponents"
   ]
  },
  {
   "cell_type": "code",
   "execution_count": 107,
   "metadata": {},
   "outputs": [
    {
     "data": {
      "text/plain": [
       "-24.93921198669789"
      ]
     },
     "execution_count": 107,
     "metadata": {},
     "output_type": "execute_result"
    }
   ],
   "source": [
    "calc_moment3(tile[:, :, 0], r_1_moment)"
   ]
  },
  {
   "cell_type": "code",
   "execution_count": 108,
   "metadata": {},
   "outputs": [],
   "source": [
    "r_3_moment = moment3(tile[:, :, 0], r_1_moment)"
   ]
  },
  {
   "cell_type": "code",
   "execution_count": null,
   "metadata": {},
   "outputs": [],
   "source": []
  },
  {
   "cell_type": "code",
   "execution_count": 109,
   "metadata": {},
   "outputs": [
    {
     "data": {
      "text/plain": [
       "(94.88397004455399, 26.053511765929532, -24.93921198669789)"
      ]
     },
     "execution_count": 109,
     "metadata": {},
     "output_type": "execute_result"
    }
   ],
   "source": [
    "r_1_moment, r_2_moment, r_3_moment"
   ]
  },
  {
   "cell_type": "code",
   "execution_count": 113,
   "metadata": {},
   "outputs": [
    {
     "data": {
      "text/plain": [
       "(155.12854298985687, 17.769411514261186, -70.92930157152836)"
      ]
     },
     "execution_count": 113,
     "metadata": {},
     "output_type": "execute_result"
    }
   ],
   "source": [
    "calc_moments(tile[:, :, 1])"
   ]
  },
  {
   "cell_type": "code",
   "execution_count": 114,
   "metadata": {},
   "outputs": [
    {
     "data": {
      "text/plain": [
       "(208.25793914115081, 13.569771557507638, -119.4337022824908)"
      ]
     },
     "execution_count": 114,
     "metadata": {},
     "output_type": "execute_result"
    }
   ],
   "source": [
    "calc_moments(tile[:, :, 2])"
   ]
  },
  {
   "cell_type": "code",
   "execution_count": null,
   "metadata": {},
   "outputs": [],
   "source": []
  },
  {
   "cell_type": "code",
   "execution_count": null,
   "metadata": {},
   "outputs": [],
   "source": []
  },
  {
   "cell_type": "code",
   "execution_count": null,
   "metadata": {},
   "outputs": [],
   "source": []
  },
  {
   "cell_type": "code",
   "execution_count": null,
   "metadata": {},
   "outputs": [],
   "source": []
  },
  {
   "cell_type": "code",
   "execution_count": 32,
   "metadata": {},
   "outputs": [],
   "source": [
    "tmp = np.array([3, 4, 5])"
   ]
  },
  {
   "cell_type": "code",
   "execution_count": 33,
   "metadata": {},
   "outputs": [
    {
     "data": {
      "text/plain": [
       "array([ 9, 16, 25])"
      ]
     },
     "execution_count": 33,
     "metadata": {},
     "output_type": "execute_result"
    }
   ],
   "source": [
    "tmp**2"
   ]
  },
  {
   "cell_type": "code",
   "execution_count": 34,
   "metadata": {},
   "outputs": [
    {
     "data": {
      "text/plain": [
       "array([ 27,  64, 125])"
      ]
     },
     "execution_count": 34,
     "metadata": {},
     "output_type": "execute_result"
    }
   ],
   "source": [
    "tmp**3"
   ]
  },
  {
   "cell_type": "code",
   "execution_count": null,
   "metadata": {},
   "outputs": [],
   "source": []
  },
  {
   "cell_type": "code",
   "execution_count": 39,
   "metadata": {},
   "outputs": [],
   "source": [
    "itile = tile.astype(int)"
   ]
  },
  {
   "cell_type": "code",
   "execution_count": 43,
   "metadata": {},
   "outputs": [
    {
     "data": {
      "text/plain": [
       "Image([[65, 65, 65],\n",
       "       [65, 65, 65],\n",
       "       [68, 68, 68]], dtype=uint8)"
      ]
     },
     "execution_count": 43,
     "metadata": {},
     "output_type": "execute_result"
    }
   ],
   "source": [
    "tile[0:3, 0:3, 0]"
   ]
  },
  {
   "cell_type": "code",
   "execution_count": 40,
   "metadata": {},
   "outputs": [
    {
     "data": {
      "text/plain": [
       "Image([[65, 65, 65],\n",
       "       [65, 65, 65],\n",
       "       [68, 68, 68]])"
      ]
     },
     "execution_count": 40,
     "metadata": {},
     "output_type": "execute_result"
    }
   ],
   "source": [
    "itile[0:3, 0:3, 0]"
   ]
  },
  {
   "cell_type": "code",
   "execution_count": 41,
   "metadata": {},
   "outputs": [
    {
     "data": {
      "text/plain": [
       "Image([[4225, 4225, 4225],\n",
       "       [4225, 4225, 4225],\n",
       "       [4624, 4624, 4624]])"
      ]
     },
     "execution_count": 41,
     "metadata": {},
     "output_type": "execute_result"
    }
   ],
   "source": [
    "itile[0:3, 0:3, 0]**2"
   ]
  },
  {
   "cell_type": "code",
   "execution_count": 42,
   "metadata": {},
   "outputs": [
    {
     "data": {
      "text/plain": [
       "Image([[274625, 274625, 274625],\n",
       "       [274625, 274625, 274625],\n",
       "       [314432, 314432, 314432]])"
      ]
     },
     "execution_count": 42,
     "metadata": {},
     "output_type": "execute_result"
    }
   ],
   "source": [
    "itile[0:3, 0:3, 0]**3"
   ]
  },
  {
   "cell_type": "code",
   "execution_count": null,
   "metadata": {},
   "outputs": [],
   "source": []
  },
  {
   "cell_type": "code",
   "execution_count": null,
   "metadata": {},
   "outputs": [],
   "source": []
  },
  {
   "cell_type": "code",
   "execution_count": null,
   "metadata": {},
   "outputs": [],
   "source": []
  },
  {
   "cell_type": "code",
   "execution_count": null,
   "metadata": {},
   "outputs": [],
   "source": []
  }
 ],
 "metadata": {
  "kernelspec": {
   "display_name": "Python 3",
   "language": "python",
   "name": "python3"
  },
  "language_info": {
   "codemirror_mode": {
    "name": "ipython",
    "version": 3
   },
   "file_extension": ".py",
   "mimetype": "text/x-python",
   "name": "python",
   "nbconvert_exporter": "python",
   "pygments_lexer": "ipython3",
   "version": "3.5.2"
  }
 },
 "nbformat": 4,
 "nbformat_minor": 2
}
