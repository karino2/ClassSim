{
 "cells": [
  {
   "cell_type": "markdown",
   "metadata": {},
   "source": [
    "# Train second set of one vs. rest (OVR) classifiers.\n",
    "\n",
    "We train another set of classifiers that are used for classifications.  \n",
    "These classifiers are trained using similar images for each target class; similarities between classes are computed in *classifier_similarity.ipynb*."
   ]
  },
  {
   "cell_type": "markdown",
   "metadata": {},
   "source": [
    "## Set up"
   ]
  },
  {
   "cell_type": "code",
   "execution_count": 1,
   "metadata": {},
   "outputs": [],
   "source": [
    "import os\n",
    "import sys\n",
    "\n",
    "import numpy as np\n",
    "\n",
    "import pandas as pd\n",
    "import glob\n",
    "\n",
    "import warnings\n",
    "warnings.filterwarnings('ignore')"
   ]
  },
  {
   "cell_type": "code",
   "execution_count": 2,
   "metadata": {},
   "outputs": [],
   "source": [
    "BASE_MODEL_PATH=\"trained_model\"\n",
    "%mkdir -p $BASE_MODEL_PATH"
   ]
  },
  {
   "cell_type": "code",
   "execution_count": 3,
   "metadata": {},
   "outputs": [
    {
     "name": "stderr",
     "output_type": "stream",
     "text": [
      "Using TensorFlow backend.\n"
     ]
    }
   ],
   "source": [
    "from models.modelutils import ModelCompiler"
   ]
  },
  {
   "cell_type": "code",
   "execution_count": 4,
   "metadata": {},
   "outputs": [],
   "source": [
    "compiler = ModelCompiler(BASE_MODEL_PATH)"
   ]
  },
  {
   "cell_type": "code",
   "execution_count": 5,
   "metadata": {},
   "outputs": [],
   "source": [
    "from models.processor import create_generators\n",
    "\n",
    "TRAIN_DATAGEN, VALID_DATAGEN = create_generators()"
   ]
  },
  {
   "cell_type": "code",
   "execution_count": 6,
   "metadata": {},
   "outputs": [],
   "source": [
    "from models.modelutils import dir2filedict_sorted\n",
    "import random"
   ]
  },
  {
   "cell_type": "markdown",
   "metadata": {},
   "source": [
    "Load category and file path information."
   ]
  },
  {
   "cell_type": "code",
   "execution_count": 7,
   "metadata": {},
   "outputs": [],
   "source": [
    "trdict = dir2filedict_sorted(\"data_fgvc/train\")\n",
    "valdict = dir2filedict_sorted(\"data_fgvc/valid\")\n",
    "categories = [str(i) for i in range(0, 100)]"
   ]
  },
  {
   "cell_type": "code",
   "execution_count": 8,
   "metadata": {},
   "outputs": [
    {
     "data": {
      "text/plain": [
       "['data_fgvc/valid/0/0062781.jpg',\n",
       " 'data_fgvc/valid/0/0113201.jpg',\n",
       " 'data_fgvc/valid/0/0450014.jpg',\n",
       " 'data_fgvc/valid/0/0602177.jpg',\n",
       " 'data_fgvc/valid/0/0716386.jpg']"
      ]
     },
     "execution_count": 8,
     "metadata": {},
     "output_type": "execute_result"
    }
   ],
   "source": [
    "valdict['0'][0:5]"
   ]
  },
  {
   "cell_type": "markdown",
   "metadata": {},
   "source": [
    "Here is expected outputs.   \n",
    "All the outputs in {*train.ipynb*, *classifier_similarity.ipynb*, *train_multiclass_classifier.ipynb*, *train_second.ipynb*} must be the same. \n",
    "\n",
    "['data_fgvc/valid/0/0062781.jpg',  \n",
    " 'data_fgvc/valid/0/0113201.jpg',  \n",
    " 'data_fgvc/valid/0/0450014.jpg',  \n",
    " 'data_fgvc/valid/0/0602177.jpg',  \n",
    " 'data_fgvc/valid/0/0716386.jpg']"
   ]
  },
  {
   "cell_type": "markdown",
   "metadata": {},
   "source": [
    "## Train second level classifiers"
   ]
  },
  {
   "cell_type": "markdown",
   "metadata": {},
   "source": [
    "Define a class for training second level classifiers."
   ]
  },
  {
   "cell_type": "code",
   "execution_count": 9,
   "metadata": {},
   "outputs": [],
   "source": [
    "from models.one_vs_all import OneVsAllModelTrainer\n",
    "from models.modelutils import split_files"
   ]
  },
  {
   "cell_type": "code",
   "execution_count": 10,
   "metadata": {},
   "outputs": [],
   "source": [
    "trainer = OneVsAllModelTrainer(TRAIN_DATAGEN, VALID_DATAGEN)"
   ]
  },
  {
   "cell_type": "code",
   "execution_count": 11,
   "metadata": {},
   "outputs": [],
   "source": [
    "from models.one_vs_all import FilesPair, TrValFiles"
   ]
  },
  {
   "cell_type": "code",
   "execution_count": 12,
   "metadata": {},
   "outputs": [],
   "source": [
    "class SecondLevelClassifierTrainer:\n",
    "    def __init__(self, base_model_name, basedir, trainer, compiler):\n",
    "        self.base_model_name = base_model_name\n",
    "        self.basedir = basedir\n",
    "\n",
    "        self.compiler = compiler\n",
    "        self.trainer = trainer\n",
    "        \n",
    "    def setup_filedict(self, train_files_dict, valid_files_dict):\n",
    "        self.train_files_dict = train_files_dict\n",
    "        self.valid_files_dict = valid_files_dict\n",
    "        self.valid_files_dict_org = self.valid_files_dict\n",
    "        \n",
    "    def _model_path(self, target_key):\n",
    "        return os.path.join(self.basedir, \"{}_{}\".format(self.base_model_name, target_key))\n",
    "    \n",
    "    def _split_by_set(self, target_key, false_keyset, files_dict):\n",
    "        trues = files_dict[target_key]\n",
    "        falses = [path for key in false_keyset for path in files_dict[key]]\n",
    "        return FilesPair(trues, falses)\n",
    "    \n",
    "    def _split_files(self, targetkey, files_dict):\n",
    "        return FilesPair(*split_files(targetkey, files_dict))\n",
    "    \n",
    "    def train_second_level(self, target_key, highcat_keyset, eachepochs=10, retrainings=1, removecheckpoint=True):\n",
    "        self.trainer.retrainings = retrainings\n",
    "        falseset = highcat_keyset - set(target_key)\n",
    "        trs = self._split_by_set(target_key, falseset, self.train_files_dict)\n",
    "        vals = self._split_by_set(target_key, falseset, self.valid_files_dict)\n",
    "        trvals = TrValFiles(trs, vals)\n",
    "        self._train_one_core(\"sec_\"+target_key, trvals, eachepochs, removecheckpoint)\n",
    "        \n",
    "    def _train_one_setup(self, model_key, trvals):\n",
    "        model_save_path = self._model_path(model_key)\n",
    "\n",
    "        model = self.compiler.generate_compiled_model(model_save_path)\n",
    "        self.trainer.set_model(model)\n",
    "        self.trainer.set_savepath(model_save_path)\n",
    "        self.trainer.set_dataset(trvals)\n",
    "\n",
    "    def _train_one_core(self, model_key, trvals, eachepochs, removecheckpoint):\n",
    "        self._train_one_setup(model_key, trvals)\n",
    "\n",
    "        self.trainer.train_model(eachepochs=eachepochs, hard_coded_steps_per_epoch=(100, 10))\n",
    "        if removecheckpoint:\n",
    "            self.trainer.remove_checkpoint()\n",
    "\n",
    "    def remove_checkpoint(self, model_key):\n",
    "        # utility method for cleaup interrupted case\n",
    "        self.trainer.set_savepath(self._model_path(model_key))\n",
    "        self.trainer.remove_checkpoint()"
   ]
  },
  {
   "cell_type": "code",
   "execution_count": 13,
   "metadata": {},
   "outputs": [],
   "source": [
    "sec_trainer = SecondLevelClassifierTrainer(\"modelfgvc\", BASE_MODEL_PATH, trainer, compiler)"
   ]
  },
  {
   "cell_type": "code",
   "execution_count": 14,
   "metadata": {},
   "outputs": [],
   "source": [
    "sec_trainer.setup_filedict(trdict, valdict)"
   ]
  },
  {
   "cell_type": "markdown",
   "metadata": {},
   "source": [
    "Load $ClassSim$ results to gather similar classes for each target class. "
   ]
  },
  {
   "cell_type": "code",
   "execution_count": 15,
   "metadata": {},
   "outputs": [],
   "source": [
    "classsim = pd.read_pickle(\"results/valid_sim_df_fgvc.dat\")"
   ]
  },
  {
   "cell_type": "markdown",
   "metadata": {},
   "source": [
    "### Execute training"
   ]
  },
  {
   "cell_type": "code",
   "execution_count": 16,
   "metadata": {},
   "outputs": [],
   "source": [
    "# SIM_THRESHOLD = 0.1\n",
    "# This data set is much fine grained. So threshold should be higher. We choose 0.4 for average similary class as about 18.\n",
    "SIM_THRESHOLD = 0.4\n"
   ]
  },
  {
   "cell_type": "code",
   "execution_count": null,
   "metadata": {},
   "outputs": [],
   "source": [
    "def train_seconds(keys, eachepochs=5):\n",
    "    for targetkey in keys:\n",
    "        similarkeyset = set(classsim[targetkey][classsim[targetkey] >= SIM_THRESHOLD].index)\n",
    "        try:\n",
    "            if len(similarkeyset) == 1:\n",
    "                print(\"no similar category. only first classifier is enough. skip second training.\")\n",
    "            else:\n",
    "                sec_trainer.train_second_level(targetkey, similarkeyset, eachepochs=eachepochs)\n",
    "        except ValueError as e:\n",
    "            print(\"ValueError, skip {0}: {1}\".format(targetkey, e))"
   ]
  },
  {
   "cell_type": "code",
   "execution_count": null,
   "metadata": {},
   "outputs": [
    {
     "name": "stdout",
     "output_type": "stream",
     "text": [
      "Epoch 1/2\n",
      "  8/100 [=>............................] - ETA: 10:24 - loss: 0.6801 - acc: 0.5781Epoch 00001: saving model to trained_model/modelfgvc_sec_0-01-0.905.h5\n",
      "  8/100 [=>............................] - ETA: 21:48 - loss: 0.6801 - acc: 0.5781 - val_loss: 0.0000e+00 - val_acc: 0.0000e+00Epoch 2/2\n",
      "  8/100 [=>............................] - ETA: 8:46 - loss: 0.6507 - acc: 0.6719Epoch 00002: saving model to trained_model/modelfgvc_sec_0-02-0.881.h5\n",
      "  8/100 [=>............................] - ETA: 11:30 - loss: 0.6507 - acc: 0.6719 - val_loss: 0.0000e+00 - val_acc: 0.0000e+00Epoch 1/2\n",
      "  8/100 [=>............................] - ETA: 10:53 - loss: 0.7033 - acc: 0.5312Epoch 00001: saving model to trained_model/modelfgvc_sec_1-01-0.962.h5\n",
      "  8/100 [=>............................] - ETA: 33:52 - loss: 0.7033 - acc: 0.5312 - val_loss: 0.0000e+00 - val_acc: 0.0000e+00Epoch 2/2\n",
      "  4/100 [>.............................] - ETA: 8:13 - loss: 0.5058 - acc: 0.7344"
     ]
    }
   ],
   "source": [
    "train_seconds(categories[0:], eachepochs=2)"
   ]
  },
  {
   "cell_type": "code",
   "execution_count": null,
   "metadata": {},
   "outputs": [],
   "source": []
  },
  {
   "cell_type": "code",
   "execution_count": null,
   "metadata": {},
   "outputs": [],
   "source": []
  },
  {
   "cell_type": "code",
   "execution_count": null,
   "metadata": {},
   "outputs": [],
   "source": []
  }
 ],
 "metadata": {
  "kernelspec": {
   "display_name": "Python 3",
   "language": "python",
   "name": "python3"
  },
  "language_info": {
   "codemirror_mode": {
    "name": "ipython",
    "version": 3
   },
   "file_extension": ".py",
   "mimetype": "text/x-python",
   "name": "python",
   "nbconvert_exporter": "python",
   "pygments_lexer": "ipython3",
   "version": "3.5.2"
  }
 },
 "nbformat": 4,
 "nbformat_minor": 2
}
