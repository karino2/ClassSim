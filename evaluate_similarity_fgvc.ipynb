{
 "cells": [
  {
   "cell_type": "markdown",
   "metadata": {},
   "source": [
    "# Evaluate ClassSim and PD of fgvc."
   ]
  },
  {
   "cell_type": "code",
   "execution_count": 1,
   "metadata": {},
   "outputs": [],
   "source": [
    "import os\n",
    "import json\n",
    "import glob\n",
    "import scipy\n",
    "import numpy as np\n",
    "\n",
    "import pandas as pd\n",
    "import glob\n",
    "\n",
    "import warnings\n",
    "warnings.filterwarnings('ignore')"
   ]
  },
  {
   "cell_type": "code",
   "execution_count": 2,
   "metadata": {},
   "outputs": [],
   "source": [
    "VALID_SIMILARITY_DICT_PATH=\"results/valid_sim_df_fgvc.dat\"\n",
    "PD_SIMILARITY_PATH=\"results/GMMDisttances_fgvc.dat\""
   ]
  },
  {
   "cell_type": "code",
   "execution_count": null,
   "metadata": {},
   "outputs": [],
   "source": []
  },
  {
   "cell_type": "code",
   "execution_count": 3,
   "metadata": {},
   "outputs": [],
   "source": [
    "simdf = pd.read_pickle(VALID_SIMILARITY_DICT_PATH)\n",
    "pddf=pd.read_pickle(PD_SIMILARITY_PATH)"
   ]
  },
  {
   "cell_type": "code",
   "execution_count": null,
   "metadata": {},
   "outputs": [],
   "source": []
  },
  {
   "cell_type": "markdown",
   "metadata": {},
   "source": [
    "### Build maker-family-variant hierachy"
   ]
  },
  {
   "cell_type": "code",
   "execution_count": 4,
   "metadata": {},
   "outputs": [],
   "source": [
    "def category_file_to_id_dict(fpath):\n",
    "    with open(fpath) as f:\n",
    "        return {cat.rstrip(\"\\n\"): id for id, cat in enumerate(f)}"
   ]
  },
  {
   "cell_type": "code",
   "execution_count": 5,
   "metadata": {},
   "outputs": [],
   "source": [
    "variants_to_id_dict = category_file_to_id_dict(\"data_fgvc/fgvc-aircraft-2013b/data/variants.txt\")\n",
    "families_to_id_dict = category_file_to_id_dict(\"data_fgvc/fgvc-aircraft-2013b/data/families.txt\")\n",
    "manufacturers_to_id_dict = category_file_to_id_dict(\"data_fgvc/fgvc-aircraft-2013b/data/manufacturers.txt\")"
   ]
  },
  {
   "cell_type": "code",
   "execution_count": null,
   "metadata": {},
   "outputs": [],
   "source": []
  },
  {
   "cell_type": "code",
   "execution_count": 6,
   "metadata": {},
   "outputs": [],
   "source": [
    "def file_type_to_var_list(fpath):\n",
    "    with open(fpath) as f:\n",
    "         return [line.rstrip(\"\\n\").split(\" \", 1) for line in f]"
   ]
  },
  {
   "cell_type": "code",
   "execution_count": 7,
   "metadata": {},
   "outputs": [],
   "source": [
    "file_var_list = file_type_to_var_list(\"data_fgvc/fgvc-aircraft-2013b/data/images_variant_val.txt\")\n",
    "file_fam_list = file_type_to_var_list(\"data_fgvc/fgvc-aircraft-2013b/data/images_family_val.txt\")\n",
    "file_man_list = file_type_to_var_list(\"data_fgvc/fgvc-aircraft-2013b/data/images_manufacturer_val.txt\")"
   ]
  },
  {
   "cell_type": "code",
   "execution_count": null,
   "metadata": {},
   "outputs": [],
   "source": []
  },
  {
   "cell_type": "code",
   "execution_count": 8,
   "metadata": {},
   "outputs": [],
   "source": [
    "variant_to_family_dict = {}\n",
    "family_to_manufacturer_dict = {}"
   ]
  },
  {
   "cell_type": "code",
   "execution_count": 9,
   "metadata": {},
   "outputs": [],
   "source": [
    "for idx, _ in enumerate(file_var_list):\n",
    "    vari, fam, man = file_var_list[idx][1], file_fam_list[idx][1], file_man_list[idx][1]\n",
    "    variant_to_family_dict[vari] = fam\n",
    "    family_to_manufacturer_dict[fam] = man"
   ]
  },
  {
   "cell_type": "code",
   "execution_count": null,
   "metadata": {},
   "outputs": [],
   "source": []
  },
  {
   "cell_type": "markdown",
   "metadata": {},
   "source": [
    "Check dict integrity"
   ]
  },
  {
   "cell_type": "code",
   "execution_count": 10,
   "metadata": {},
   "outputs": [
    {
     "data": {
      "text/plain": [
       "True"
      ]
     },
     "execution_count": 10,
     "metadata": {},
     "output_type": "execute_result"
    }
   ],
   "source": [
    "variants_to_id_dict.keys() == variant_to_family_dict.keys()"
   ]
  },
  {
   "cell_type": "code",
   "execution_count": 11,
   "metadata": {},
   "outputs": [
    {
     "data": {
      "text/plain": [
       "True"
      ]
     },
     "execution_count": 11,
     "metadata": {},
     "output_type": "execute_result"
    }
   ],
   "source": [
    "families_to_id_dict.keys() == family_to_manufacturer_dict.keys()"
   ]
  },
  {
   "cell_type": "code",
   "execution_count": 12,
   "metadata": {},
   "outputs": [
    {
     "data": {
      "text/plain": [
       "True"
      ]
     },
     "execution_count": 12,
     "metadata": {},
     "output_type": "execute_result"
    }
   ],
   "source": [
    "manufacturers_to_id_dict.keys() == set(family_to_manufacturer_dict.values())"
   ]
  },
  {
   "cell_type": "code",
   "execution_count": null,
   "metadata": {},
   "outputs": [],
   "source": []
  },
  {
   "cell_type": "code",
   "execution_count": 13,
   "metadata": {},
   "outputs": [
    {
     "data": {
      "text/plain": [
       "(['0481847', '707-320'], ['0481847', 'Boeing 707'], ['0481847', 'Boeing'])"
      ]
     },
     "execution_count": 13,
     "metadata": {},
     "output_type": "execute_result"
    }
   ],
   "source": [
    "file_var_list[0], file_fam_list[0], file_man_list[0]"
   ]
  },
  {
   "cell_type": "code",
   "execution_count": 14,
   "metadata": {},
   "outputs": [
    {
     "data": {
      "text/plain": [
       "('Boeing 707', 'Boeing')"
      ]
     },
     "execution_count": 14,
     "metadata": {},
     "output_type": "execute_result"
    }
   ],
   "source": [
    "variant_to_family_dict['707-320'], family_to_manufacturer_dict['Boeing 707']"
   ]
  },
  {
   "cell_type": "code",
   "execution_count": null,
   "metadata": {},
   "outputs": [],
   "source": []
  },
  {
   "cell_type": "markdown",
   "metadata": {},
   "source": [
    "# Is manufacturers similar each other?"
   ]
  },
  {
   "cell_type": "markdown",
   "metadata": {},
   "source": [
    "first check Boeing by hand"
   ]
  },
  {
   "cell_type": "code",
   "execution_count": 15,
   "metadata": {},
   "outputs": [],
   "source": [
    "boeing_families = [key for key, val in family_to_manufacturer_dict.items() if val == \"Boeing\"]"
   ]
  },
  {
   "cell_type": "code",
   "execution_count": 16,
   "metadata": {},
   "outputs": [],
   "source": [
    "boeing_variants = [key for key, val in variant_to_family_dict.items() if val in boeing_families]"
   ]
  },
  {
   "cell_type": "code",
   "execution_count": 17,
   "metadata": {},
   "outputs": [
    {
     "data": {
      "text/plain": [
       "['737-700', '737-200', '737-600', '757-300', '767-400']"
      ]
     },
     "execution_count": 17,
     "metadata": {},
     "output_type": "execute_result"
    }
   ],
   "source": [
    "boeing_variants[0:5]"
   ]
  },
  {
   "cell_type": "code",
   "execution_count": 18,
   "metadata": {},
   "outputs": [],
   "source": [
    "boeing_variants_ids = sorted([str(variants_to_id_dict[vari]) for vari in boeing_variants])"
   ]
  },
  {
   "cell_type": "code",
   "execution_count": null,
   "metadata": {},
   "outputs": [],
   "source": []
  },
  {
   "cell_type": "code",
   "execution_count": 19,
   "metadata": {},
   "outputs": [
    {
     "data": {
      "text/plain": [
       "16    2650.326974\n",
       "2     3208.201787\n",
       "17    2577.656687\n",
       "7     2507.363585\n",
       "41    2654.367182\n",
       "4     2572.018896\n",
       "6     2653.518319\n",
       "18    2589.787980\n",
       "1     3046.101723\n",
       "14    2590.393673\n",
       "3     2492.388843\n",
       "20    2669.536654\n",
       "8     2667.412616\n",
       "19    2722.166783\n",
       "12    2688.777579\n",
       "15    2594.210519\n",
       "11    2711.677687\n",
       "13    2743.839675\n",
       "10    2766.734586\n",
       "5     2596.947708\n",
       "9     2776.091813\n",
       "Name: 0, dtype: float64"
      ]
     },
     "execution_count": 19,
     "metadata": {},
     "output_type": "execute_result"
    }
   ],
   "source": [
    "pddf['0'].loc[list(set(boeing_variants_ids)-{\"0\"})]"
   ]
  },
  {
   "cell_type": "code",
   "execution_count": 20,
   "metadata": {},
   "outputs": [
    {
     "data": {
      "text/plain": [
       "2689.5010128967497"
      ]
     },
     "execution_count": 20,
     "metadata": {},
     "output_type": "execute_result"
    }
   ],
   "source": [
    "# average PD between '0' and other boeing manufacturers\n",
    "pddf['0'].loc[list(set(boeing_variants_ids)-{\"0\"})].mean()"
   ]
  },
  {
   "cell_type": "code",
   "execution_count": 21,
   "metadata": {},
   "outputs": [
    {
     "data": {
      "text/plain": [
       "2802.9170090293464"
      ]
     },
     "execution_count": 21,
     "metadata": {},
     "output_type": "execute_result"
    }
   ],
   "source": [
    "# average PD between '0' and all non boeing variants\n",
    "pddf['0'].loc[list(set(pddf.columns)-set(boeing_variants_ids))].mean()"
   ]
  },
  {
   "cell_type": "code",
   "execution_count": null,
   "metadata": {},
   "outputs": [],
   "source": []
  },
  {
   "cell_type": "code",
   "execution_count": 22,
   "metadata": {},
   "outputs": [
    {
     "data": {
      "text/plain": [
       "0.28911564625850333"
      ]
     },
     "execution_count": 22,
     "metadata": {},
     "output_type": "execute_result"
    }
   ],
   "source": [
    "# average similarity between '0' and other boeing manufacturers\n",
    "simdf['0'].loc[list(set(boeing_variants_ids)-{\"0\"})].mean()"
   ]
  },
  {
   "cell_type": "code",
   "execution_count": 23,
   "metadata": {},
   "outputs": [
    {
     "data": {
      "text/plain": [
       "0.18040293040293034"
      ]
     },
     "execution_count": 23,
     "metadata": {},
     "output_type": "execute_result"
    }
   ],
   "source": [
    "# average similarity between '0' and non boeing variants\n",
    "simdf['0'].loc[list(set(simdf.columns)-set(boeing_variants_ids))].mean()"
   ]
  },
  {
   "cell_type": "code",
   "execution_count": null,
   "metadata": {},
   "outputs": [],
   "source": []
  },
  {
   "cell_type": "markdown",
   "metadata": {},
   "source": [
    "Compare average among each manufacturer's similarity and whole average."
   ]
  },
  {
   "cell_type": "code",
   "execution_count": null,
   "metadata": {},
   "outputs": [],
   "source": []
  },
  {
   "cell_type": "code",
   "execution_count": 24,
   "metadata": {},
   "outputs": [],
   "source": [
    "def manufacturer_to_families(manufacturer):\n",
    "    return [key for key, val in family_to_manufacturer_dict.items() if val == manufacturer]\n",
    "\n",
    "def one_family_to_variants(family):\n",
    "    return [key for key, val in variant_to_family_dict.items() if val == family]\n",
    "\n",
    "def families_to_variants(families):\n",
    "    return [key for key, val in variant_to_family_dict.items() if val in families]\n",
    "\n",
    "# sort here\n",
    "def variants_to_ids(variants):\n",
    "    return sorted([str(variants_to_id_dict[vari]) for vari in variants])\n",
    "\n",
    "def manufacturer_to_variants_ids(manufacturer):\n",
    "    return variants_to_ids(families_to_variants(manufacturer_to_families(manufacturer)))\n",
    "\n",
    "def family_to_variants_ids(fam):\n",
    "    return variants_to_ids(one_family_to_variants(fam))\n",
    "\n"
   ]
  },
  {
   "cell_type": "code",
   "execution_count": null,
   "metadata": {},
   "outputs": [],
   "source": []
  },
  {
   "cell_type": "code",
   "execution_count": null,
   "metadata": {},
   "outputs": [],
   "source": []
  },
  {
   "cell_type": "code",
   "execution_count": 25,
   "metadata": {},
   "outputs": [],
   "source": [
    "def sum_distance_from(df, fromone, to_list):\n",
    "    ser = df[fromone].loc[to_list]\n",
    "    return ser.sum(), ser.count()"
   ]
  },
  {
   "cell_type": "code",
   "execution_count": 26,
   "metadata": {},
   "outputs": [],
   "source": [
    "def sum_distance(df, keys):\n",
    "    rest = set(keys)\n",
    "    sum_, count_ = 0, 0\n",
    "    for key in keys:\n",
    "        rest = rest-{key}\n",
    "        if len(rest) > 0:\n",
    "            onesum, onecount = sum_distance_from(df, key, list(rest))\n",
    "            sum_ += onesum\n",
    "            count_ += onecount\n",
    "    return sum_, count_\n",
    "\n",
    "def average_distance(df, keys):\n",
    "    sum_, count_ = sum_distance(df, keys)\n",
    "    return sum_/count_"
   ]
  },
  {
   "cell_type": "code",
   "execution_count": 42,
   "metadata": {},
   "outputs": [],
   "source": [
    "def whole_average(df):\n",
    "    rest = set(df.columns)\n",
    "    sum_ = 0\n",
    "    count_ = 0\n",
    "    for key in df.columns:\n",
    "        rest = rest - {key}\n",
    "        if len(rest) > 0:\n",
    "            ser = df[key].loc[list(rest)]\n",
    "            sum_ += ser.sum()\n",
    "            count_ += ser.count()\n",
    "    return sum_/count_"
   ]
  },
  {
   "cell_type": "code",
   "execution_count": 28,
   "metadata": {},
   "outputs": [
    {
     "data": {
      "text/plain": [
       "0.42145949288806422"
      ]
     },
     "execution_count": 28,
     "metadata": {},
     "output_type": "execute_result"
    }
   ],
   "source": [
    "average_distance(simdf, boeing_variants_ids)"
   ]
  },
  {
   "cell_type": "code",
   "execution_count": 29,
   "metadata": {},
   "outputs": [
    {
     "data": {
      "text/plain": [
       "2185.9100791014562"
      ]
     },
     "execution_count": 29,
     "metadata": {},
     "output_type": "execute_result"
    }
   ],
   "source": [
    "average_distance(pddf, boeing_variants_ids)"
   ]
  },
  {
   "cell_type": "code",
   "execution_count": null,
   "metadata": {},
   "outputs": [],
   "source": []
  },
  {
   "cell_type": "code",
   "execution_count": 43,
   "metadata": {},
   "outputs": [
    {
     "data": {
      "text/plain": [
       "0.20961038961038964"
      ]
     },
     "execution_count": 43,
     "metadata": {},
     "output_type": "execute_result"
    }
   ],
   "source": [
    "whole_average(simdf)"
   ]
  },
  {
   "cell_type": "code",
   "execution_count": 44,
   "metadata": {},
   "outputs": [
    {
     "data": {
      "text/plain": [
       "2461.1847923272503"
      ]
     },
     "execution_count": 44,
     "metadata": {},
     "output_type": "execute_result"
    }
   ],
   "source": [
    "whole_average(pddf)"
   ]
  },
  {
   "cell_type": "code",
   "execution_count": null,
   "metadata": {},
   "outputs": [],
   "source": []
  },
  {
   "cell_type": "code",
   "execution_count": 45,
   "metadata": {},
   "outputs": [],
   "source": [
    "one_variant_manufacturers = [man for man in manufacturers_to_id_dict.keys() if len(manufacturer_to_variants_ids(man)) == 1]"
   ]
  },
  {
   "cell_type": "code",
   "execution_count": 46,
   "metadata": {},
   "outputs": [
    {
     "data": {
      "text/plain": [
       "['Robin',\n",
       " 'Eurofighter',\n",
       " 'Fairchild',\n",
       " 'Cirrus Aircraft',\n",
       " 'Bombardier Aerospace',\n",
       " 'Yakovlev',\n",
       " 'Piper',\n",
       " 'Panavia',\n",
       " 'Supermarine',\n",
       " 'Antonov',\n",
       " 'Lockheed Martin',\n",
       " 'Ilyushin',\n",
       " 'Dornier']"
      ]
     },
     "execution_count": 46,
     "metadata": {},
     "output_type": "execute_result"
    }
   ],
   "source": [
    "one_variant_manufacturers"
   ]
  },
  {
   "cell_type": "code",
   "execution_count": null,
   "metadata": {},
   "outputs": [],
   "source": []
  },
  {
   "cell_type": "code",
   "execution_count": 47,
   "metadata": {},
   "outputs": [],
   "source": [
    "def avg_manufacturer_df(df):\n",
    "    avg_pair = [(man, average_distance(df, manufacturer_to_variants_ids(man))) for man in manufacturers_to_id_dict.keys() if man not in one_variant_manufacturers]\n",
    "    return pd.DataFrame({\"manufacturers\":[man for man,_ in avg_pair], \"avg\": [avg for _,avg in avg_pair]})[[\"manufacturers\",\"avg\"]]"
   ]
  },
  {
   "cell_type": "code",
   "execution_count": 48,
   "metadata": {},
   "outputs": [],
   "source": [
    "avgsim = avg_manufacturer_df(simdf)"
   ]
  },
  {
   "cell_type": "code",
   "execution_count": 49,
   "metadata": {},
   "outputs": [],
   "source": [
    "avgsim[\"whole\"] = whole_average(simdf)\n",
    "avgsim[\"larger?\"] = avgsim[\"avg\"]>avgsim[\"whole\"]"
   ]
  },
  {
   "cell_type": "code",
   "execution_count": 50,
   "metadata": {},
   "outputs": [
    {
     "data": {
      "text/html": [
       "<div>\n",
       "<style scoped>\n",
       "    .dataframe tbody tr th:only-of-type {\n",
       "        vertical-align: middle;\n",
       "    }\n",
       "\n",
       "    .dataframe tbody tr th {\n",
       "        vertical-align: top;\n",
       "    }\n",
       "\n",
       "    .dataframe thead th {\n",
       "        text-align: right;\n",
       "    }\n",
       "</style>\n",
       "<table border=\"1\" class=\"dataframe\">\n",
       "  <thead>\n",
       "    <tr style=\"text-align: right;\">\n",
       "      <th></th>\n",
       "      <th>manufacturers</th>\n",
       "      <th>avg</th>\n",
       "      <th>whole</th>\n",
       "      <th>larger?</th>\n",
       "    </tr>\n",
       "  </thead>\n",
       "  <tbody>\n",
       "    <tr>\n",
       "      <th>0</th>\n",
       "      <td>Saab</td>\n",
       "      <td>0.285714</td>\n",
       "      <td>0.20961</td>\n",
       "      <td>True</td>\n",
       "    </tr>\n",
       "    <tr>\n",
       "      <th>1</th>\n",
       "      <td>Lockheed Corporation</td>\n",
       "      <td>0.214286</td>\n",
       "      <td>0.20961</td>\n",
       "      <td>True</td>\n",
       "    </tr>\n",
       "    <tr>\n",
       "      <th>2</th>\n",
       "      <td>Airbus</td>\n",
       "      <td>0.498168</td>\n",
       "      <td>0.20961</td>\n",
       "      <td>True</td>\n",
       "    </tr>\n",
       "    <tr>\n",
       "      <th>3</th>\n",
       "      <td>Gulfstream Aerospace</td>\n",
       "      <td>0.857143</td>\n",
       "      <td>0.20961</td>\n",
       "      <td>True</td>\n",
       "    </tr>\n",
       "    <tr>\n",
       "      <th>4</th>\n",
       "      <td>Fokker</td>\n",
       "      <td>0.261905</td>\n",
       "      <td>0.20961</td>\n",
       "      <td>True</td>\n",
       "    </tr>\n",
       "    <tr>\n",
       "      <th>5</th>\n",
       "      <td>Boeing</td>\n",
       "      <td>0.421459</td>\n",
       "      <td>0.20961</td>\n",
       "      <td>True</td>\n",
       "    </tr>\n",
       "    <tr>\n",
       "      <th>6</th>\n",
       "      <td>McDonnell Douglas</td>\n",
       "      <td>0.299320</td>\n",
       "      <td>0.20961</td>\n",
       "      <td>True</td>\n",
       "    </tr>\n",
       "    <tr>\n",
       "      <th>7</th>\n",
       "      <td>Canadair</td>\n",
       "      <td>0.642857</td>\n",
       "      <td>0.20961</td>\n",
       "      <td>True</td>\n",
       "    </tr>\n",
       "    <tr>\n",
       "      <th>8</th>\n",
       "      <td>Cessna</td>\n",
       "      <td>0.309524</td>\n",
       "      <td>0.20961</td>\n",
       "      <td>True</td>\n",
       "    </tr>\n",
       "    <tr>\n",
       "      <th>9</th>\n",
       "      <td>ATR</td>\n",
       "      <td>0.500000</td>\n",
       "      <td>0.20961</td>\n",
       "      <td>True</td>\n",
       "    </tr>\n",
       "    <tr>\n",
       "      <th>10</th>\n",
       "      <td>de Havilland</td>\n",
       "      <td>0.407143</td>\n",
       "      <td>0.20961</td>\n",
       "      <td>True</td>\n",
       "    </tr>\n",
       "    <tr>\n",
       "      <th>11</th>\n",
       "      <td>Douglas Aircraft Company</td>\n",
       "      <td>0.488095</td>\n",
       "      <td>0.20961</td>\n",
       "      <td>True</td>\n",
       "    </tr>\n",
       "    <tr>\n",
       "      <th>12</th>\n",
       "      <td>Tupolev</td>\n",
       "      <td>0.285714</td>\n",
       "      <td>0.20961</td>\n",
       "      <td>True</td>\n",
       "    </tr>\n",
       "    <tr>\n",
       "      <th>13</th>\n",
       "      <td>Dassault Aviation</td>\n",
       "      <td>1.000000</td>\n",
       "      <td>0.20961</td>\n",
       "      <td>True</td>\n",
       "    </tr>\n",
       "    <tr>\n",
       "      <th>14</th>\n",
       "      <td>Beechcraft</td>\n",
       "      <td>0.357143</td>\n",
       "      <td>0.20961</td>\n",
       "      <td>True</td>\n",
       "    </tr>\n",
       "    <tr>\n",
       "      <th>15</th>\n",
       "      <td>Embraer</td>\n",
       "      <td>0.476190</td>\n",
       "      <td>0.20961</td>\n",
       "      <td>True</td>\n",
       "    </tr>\n",
       "    <tr>\n",
       "      <th>16</th>\n",
       "      <td>British Aerospace</td>\n",
       "      <td>0.178571</td>\n",
       "      <td>0.20961</td>\n",
       "      <td>False</td>\n",
       "    </tr>\n",
       "  </tbody>\n",
       "</table>\n",
       "</div>"
      ],
      "text/plain": [
       "               manufacturers       avg    whole  larger?\n",
       "0                       Saab  0.285714  0.20961     True\n",
       "1       Lockheed Corporation  0.214286  0.20961     True\n",
       "2                     Airbus  0.498168  0.20961     True\n",
       "3       Gulfstream Aerospace  0.857143  0.20961     True\n",
       "4                     Fokker  0.261905  0.20961     True\n",
       "5                     Boeing  0.421459  0.20961     True\n",
       "6          McDonnell Douglas  0.299320  0.20961     True\n",
       "7                   Canadair  0.642857  0.20961     True\n",
       "8                     Cessna  0.309524  0.20961     True\n",
       "9                        ATR  0.500000  0.20961     True\n",
       "10              de Havilland  0.407143  0.20961     True\n",
       "11  Douglas Aircraft Company  0.488095  0.20961     True\n",
       "12                   Tupolev  0.285714  0.20961     True\n",
       "13         Dassault Aviation  1.000000  0.20961     True\n",
       "14                Beechcraft  0.357143  0.20961     True\n",
       "15                   Embraer  0.476190  0.20961     True\n",
       "16         British Aerospace  0.178571  0.20961    False"
      ]
     },
     "execution_count": 50,
     "metadata": {},
     "output_type": "execute_result"
    }
   ],
   "source": [
    "avgsim"
   ]
  },
  {
   "cell_type": "code",
   "execution_count": 51,
   "metadata": {},
   "outputs": [
    {
     "data": {
      "text/plain": [
       "16"
      ]
     },
     "execution_count": 51,
     "metadata": {},
     "output_type": "execute_result"
    }
   ],
   "source": [
    "avgsim[\"larger?\"].sum()"
   ]
  },
  {
   "cell_type": "code",
   "execution_count": 52,
   "metadata": {},
   "outputs": [],
   "source": [
    "avgpd = avg_manufacturer_df(pddf)"
   ]
  },
  {
   "cell_type": "code",
   "execution_count": 53,
   "metadata": {},
   "outputs": [],
   "source": [
    "avgpd[\"whole\"] = whole_average(pddf)\n",
    "avgpd[\"closer?\"] = avgpd[\"avg\"]<avgpd[\"whole\"]"
   ]
  },
  {
   "cell_type": "code",
   "execution_count": 54,
   "metadata": {},
   "outputs": [
    {
     "data": {
      "text/html": [
       "<div>\n",
       "<style scoped>\n",
       "    .dataframe tbody tr th:only-of-type {\n",
       "        vertical-align: middle;\n",
       "    }\n",
       "\n",
       "    .dataframe tbody tr th {\n",
       "        vertical-align: top;\n",
       "    }\n",
       "\n",
       "    .dataframe thead th {\n",
       "        text-align: right;\n",
       "    }\n",
       "</style>\n",
       "<table border=\"1\" class=\"dataframe\">\n",
       "  <thead>\n",
       "    <tr style=\"text-align: right;\">\n",
       "      <th></th>\n",
       "      <th>manufacturers</th>\n",
       "      <th>avg</th>\n",
       "      <th>whole</th>\n",
       "      <th>closer?</th>\n",
       "    </tr>\n",
       "  </thead>\n",
       "  <tbody>\n",
       "    <tr>\n",
       "      <th>0</th>\n",
       "      <td>Saab</td>\n",
       "      <td>2191.509674</td>\n",
       "      <td>2461.184792</td>\n",
       "      <td>True</td>\n",
       "    </tr>\n",
       "    <tr>\n",
       "      <th>1</th>\n",
       "      <td>Lockheed Corporation</td>\n",
       "      <td>3230.771347</td>\n",
       "      <td>2461.184792</td>\n",
       "      <td>False</td>\n",
       "    </tr>\n",
       "    <tr>\n",
       "      <th>2</th>\n",
       "      <td>Airbus</td>\n",
       "      <td>1942.894811</td>\n",
       "      <td>2461.184792</td>\n",
       "      <td>True</td>\n",
       "    </tr>\n",
       "    <tr>\n",
       "      <th>3</th>\n",
       "      <td>Gulfstream Aerospace</td>\n",
       "      <td>1927.477633</td>\n",
       "      <td>2461.184792</td>\n",
       "      <td>True</td>\n",
       "    </tr>\n",
       "    <tr>\n",
       "      <th>4</th>\n",
       "      <td>Fokker</td>\n",
       "      <td>2210.544017</td>\n",
       "      <td>2461.184792</td>\n",
       "      <td>True</td>\n",
       "    </tr>\n",
       "    <tr>\n",
       "      <th>5</th>\n",
       "      <td>Boeing</td>\n",
       "      <td>2185.910079</td>\n",
       "      <td>2461.184792</td>\n",
       "      <td>True</td>\n",
       "    </tr>\n",
       "    <tr>\n",
       "      <th>6</th>\n",
       "      <td>McDonnell Douglas</td>\n",
       "      <td>2677.486910</td>\n",
       "      <td>2461.184792</td>\n",
       "      <td>False</td>\n",
       "    </tr>\n",
       "    <tr>\n",
       "      <th>7</th>\n",
       "      <td>Canadair</td>\n",
       "      <td>1968.508887</td>\n",
       "      <td>2461.184792</td>\n",
       "      <td>True</td>\n",
       "    </tr>\n",
       "    <tr>\n",
       "      <th>8</th>\n",
       "      <td>Cessna</td>\n",
       "      <td>2938.100768</td>\n",
       "      <td>2461.184792</td>\n",
       "      <td>False</td>\n",
       "    </tr>\n",
       "    <tr>\n",
       "      <th>9</th>\n",
       "      <td>ATR</td>\n",
       "      <td>1882.739083</td>\n",
       "      <td>2461.184792</td>\n",
       "      <td>True</td>\n",
       "    </tr>\n",
       "    <tr>\n",
       "      <th>10</th>\n",
       "      <td>de Havilland</td>\n",
       "      <td>3376.752827</td>\n",
       "      <td>2461.184792</td>\n",
       "      <td>False</td>\n",
       "    </tr>\n",
       "    <tr>\n",
       "      <th>11</th>\n",
       "      <td>Douglas Aircraft Company</td>\n",
       "      <td>3268.762816</td>\n",
       "      <td>2461.184792</td>\n",
       "      <td>False</td>\n",
       "    </tr>\n",
       "    <tr>\n",
       "      <th>12</th>\n",
       "      <td>Tupolev</td>\n",
       "      <td>2113.134855</td>\n",
       "      <td>2461.184792</td>\n",
       "      <td>True</td>\n",
       "    </tr>\n",
       "    <tr>\n",
       "      <th>13</th>\n",
       "      <td>Dassault Aviation</td>\n",
       "      <td>1768.299846</td>\n",
       "      <td>2461.184792</td>\n",
       "      <td>True</td>\n",
       "    </tr>\n",
       "    <tr>\n",
       "      <th>14</th>\n",
       "      <td>Beechcraft</td>\n",
       "      <td>3149.737706</td>\n",
       "      <td>2461.184792</td>\n",
       "      <td>False</td>\n",
       "    </tr>\n",
       "    <tr>\n",
       "      <th>15</th>\n",
       "      <td>Embraer</td>\n",
       "      <td>2453.904842</td>\n",
       "      <td>2461.184792</td>\n",
       "      <td>True</td>\n",
       "    </tr>\n",
       "    <tr>\n",
       "      <th>16</th>\n",
       "      <td>British Aerospace</td>\n",
       "      <td>2232.436707</td>\n",
       "      <td>2461.184792</td>\n",
       "      <td>True</td>\n",
       "    </tr>\n",
       "  </tbody>\n",
       "</table>\n",
       "</div>"
      ],
      "text/plain": [
       "               manufacturers          avg        whole  closer?\n",
       "0                       Saab  2191.509674  2461.184792     True\n",
       "1       Lockheed Corporation  3230.771347  2461.184792    False\n",
       "2                     Airbus  1942.894811  2461.184792     True\n",
       "3       Gulfstream Aerospace  1927.477633  2461.184792     True\n",
       "4                     Fokker  2210.544017  2461.184792     True\n",
       "5                     Boeing  2185.910079  2461.184792     True\n",
       "6          McDonnell Douglas  2677.486910  2461.184792    False\n",
       "7                   Canadair  1968.508887  2461.184792     True\n",
       "8                     Cessna  2938.100768  2461.184792    False\n",
       "9                        ATR  1882.739083  2461.184792     True\n",
       "10              de Havilland  3376.752827  2461.184792    False\n",
       "11  Douglas Aircraft Company  3268.762816  2461.184792    False\n",
       "12                   Tupolev  2113.134855  2461.184792     True\n",
       "13         Dassault Aviation  1768.299846  2461.184792     True\n",
       "14                Beechcraft  3149.737706  2461.184792    False\n",
       "15                   Embraer  2453.904842  2461.184792     True\n",
       "16         British Aerospace  2232.436707  2461.184792     True"
      ]
     },
     "execution_count": 54,
     "metadata": {},
     "output_type": "execute_result"
    }
   ],
   "source": [
    "avgpd"
   ]
  },
  {
   "cell_type": "code",
   "execution_count": 55,
   "metadata": {},
   "outputs": [
    {
     "data": {
      "text/plain": [
       "11"
      ]
     },
     "execution_count": 55,
     "metadata": {},
     "output_type": "execute_result"
    }
   ],
   "source": [
    "avgpd[\"closer?\"].sum()"
   ]
  },
  {
   "cell_type": "code",
   "execution_count": 56,
   "metadata": {},
   "outputs": [
    {
     "data": {
      "text/plain": [
       "0      True\n",
       "1     False\n",
       "2      True\n",
       "3      True\n",
       "4      True\n",
       "5      True\n",
       "6     False\n",
       "7      True\n",
       "8     False\n",
       "9      True\n",
       "10    False\n",
       "11    False\n",
       "12     True\n",
       "13     True\n",
       "14    False\n",
       "15     True\n",
       "16    False\n",
       "dtype: bool"
      ]
     },
     "execution_count": 56,
     "metadata": {},
     "output_type": "execute_result"
    }
   ],
   "source": [
    "avgsim[\"larger?\"] == avgpd[\"closer?\"]"
   ]
  },
  {
   "cell_type": "markdown",
   "metadata": {},
   "source": [
    "Conclusion 1:\n",
    "\n",
    "Both can basically explain similarity of variants among same manufacturer.\n",
    "\n",
    "- By PD, 11/17 average of manufacturers is closer than whole mean.\n",
    "- By ClassSim. 16/17 average of manufactuers is more similar than whole mean"
   ]
  },
  {
   "cell_type": "code",
   "execution_count": null,
   "metadata": {},
   "outputs": [],
   "source": []
  },
  {
   "cell_type": "code",
   "execution_count": null,
   "metadata": {},
   "outputs": [],
   "source": []
  },
  {
   "cell_type": "markdown",
   "metadata": {},
   "source": [
    "### How about average among families?"
   ]
  },
  {
   "cell_type": "code",
   "execution_count": 57,
   "metadata": {},
   "outputs": [],
   "source": [
    "one_variant_families = [fam for fam in families_to_id_dict.keys() if len(one_family_to_variants(fam)) == 1]"
   ]
  },
  {
   "cell_type": "code",
   "execution_count": null,
   "metadata": {},
   "outputs": [],
   "source": []
  },
  {
   "cell_type": "code",
   "execution_count": 58,
   "metadata": {},
   "outputs": [
    {
     "data": {
      "text/plain": [
       "54"
      ]
     },
     "execution_count": 58,
     "metadata": {},
     "output_type": "execute_result"
    }
   ],
   "source": [
    "len(one_variant_families)"
   ]
  },
  {
   "cell_type": "code",
   "execution_count": 59,
   "metadata": {},
   "outputs": [
    {
     "data": {
      "text/plain": [
       "70"
      ]
     },
     "execution_count": 59,
     "metadata": {},
     "output_type": "execute_result"
    }
   ],
   "source": [
    "len(families_to_id_dict.keys())"
   ]
  },
  {
   "cell_type": "code",
   "execution_count": 60,
   "metadata": {},
   "outputs": [
    {
     "data": {
      "text/plain": [
       "['A340',\n",
       " 'A320',\n",
       " 'Embraer E-Jet',\n",
       " 'Cessna Citation',\n",
       " 'Boeing 757',\n",
       " 'BAE 146',\n",
       " 'Dash 8',\n",
       " 'MD-80',\n",
       " 'CRJ-700',\n",
       " 'Boeing 777',\n",
       " 'Boeing 767',\n",
       " 'Embraer ERJ 145',\n",
       " 'Boeing 747',\n",
       " 'Gulfstream',\n",
       " 'Boeing 737',\n",
       " 'A330']"
      ]
     },
     "execution_count": 60,
     "metadata": {},
     "output_type": "execute_result"
    }
   ],
   "source": [
    "[fam for fam in families_to_id_dict if fam not in one_variant_families]"
   ]
  },
  {
   "cell_type": "code",
   "execution_count": 65,
   "metadata": {},
   "outputs": [
    {
     "data": {
      "text/plain": [
       "['27', '28']"
      ]
     },
     "execution_count": 65,
     "metadata": {},
     "output_type": "execute_result"
    }
   ],
   "source": [
    "family_to_variants_ids(\"A330\")"
   ]
  },
  {
   "cell_type": "code",
   "execution_count": 66,
   "metadata": {},
   "outputs": [],
   "source": [
    "def avg_family_df(df):\n",
    "    avg_pair = [(fam, average_distance(df, family_to_variants_ids(fam))) for fam in families_to_id_dict.keys() if fam not in one_variant_families]\n",
    "    return pd.DataFrame({\"family\":[fam for fam,_ in avg_pair], \"avg\": [avg for _,avg in avg_pair]})[[\"family\",\"avg\"]]"
   ]
  },
  {
   "cell_type": "code",
   "execution_count": null,
   "metadata": {},
   "outputs": [],
   "source": []
  },
  {
   "cell_type": "code",
   "execution_count": 67,
   "metadata": {},
   "outputs": [],
   "source": [
    "avg_fam_sim = avg_family_df(simdf)"
   ]
  },
  {
   "cell_type": "code",
   "execution_count": 68,
   "metadata": {},
   "outputs": [],
   "source": [
    "avg_fam_sim[\"whole\"] = whole_average(simdf)\n",
    "avg_fam_sim[\"larger?\"] = avg_fam_sim[\"avg\"]>avg_fam_sim[\"whole\"]"
   ]
  },
  {
   "cell_type": "code",
   "execution_count": null,
   "metadata": {},
   "outputs": [],
   "source": []
  },
  {
   "cell_type": "code",
   "execution_count": 69,
   "metadata": {},
   "outputs": [
    {
     "data": {
      "text/html": [
       "<div>\n",
       "<style scoped>\n",
       "    .dataframe tbody tr th:only-of-type {\n",
       "        vertical-align: middle;\n",
       "    }\n",
       "\n",
       "    .dataframe tbody tr th {\n",
       "        vertical-align: top;\n",
       "    }\n",
       "\n",
       "    .dataframe thead th {\n",
       "        text-align: right;\n",
       "    }\n",
       "</style>\n",
       "<table border=\"1\" class=\"dataframe\">\n",
       "  <thead>\n",
       "    <tr style=\"text-align: right;\">\n",
       "      <th></th>\n",
       "      <th>family</th>\n",
       "      <th>avg</th>\n",
       "      <th>whole</th>\n",
       "      <th>larger?</th>\n",
       "    </tr>\n",
       "  </thead>\n",
       "  <tbody>\n",
       "    <tr>\n",
       "      <th>0</th>\n",
       "      <td>A340</td>\n",
       "      <td>0.678571</td>\n",
       "      <td>0.20961</td>\n",
       "      <td>True</td>\n",
       "    </tr>\n",
       "    <tr>\n",
       "      <th>1</th>\n",
       "      <td>A320</td>\n",
       "      <td>0.821429</td>\n",
       "      <td>0.20961</td>\n",
       "      <td>True</td>\n",
       "    </tr>\n",
       "    <tr>\n",
       "      <th>2</th>\n",
       "      <td>Embraer E-Jet</td>\n",
       "      <td>0.761905</td>\n",
       "      <td>0.20961</td>\n",
       "      <td>True</td>\n",
       "    </tr>\n",
       "    <tr>\n",
       "      <th>3</th>\n",
       "      <td>Cessna Citation</td>\n",
       "      <td>0.571429</td>\n",
       "      <td>0.20961</td>\n",
       "      <td>True</td>\n",
       "    </tr>\n",
       "    <tr>\n",
       "      <th>4</th>\n",
       "      <td>Boeing 757</td>\n",
       "      <td>0.785714</td>\n",
       "      <td>0.20961</td>\n",
       "      <td>True</td>\n",
       "    </tr>\n",
       "    <tr>\n",
       "      <th>5</th>\n",
       "      <td>BAE 146</td>\n",
       "      <td>0.785714</td>\n",
       "      <td>0.20961</td>\n",
       "      <td>True</td>\n",
       "    </tr>\n",
       "    <tr>\n",
       "      <th>6</th>\n",
       "      <td>Dash 8</td>\n",
       "      <td>0.214286</td>\n",
       "      <td>0.20961</td>\n",
       "      <td>True</td>\n",
       "    </tr>\n",
       "    <tr>\n",
       "      <th>7</th>\n",
       "      <td>MD-80</td>\n",
       "      <td>0.571429</td>\n",
       "      <td>0.20961</td>\n",
       "      <td>True</td>\n",
       "    </tr>\n",
       "    <tr>\n",
       "      <th>8</th>\n",
       "      <td>CRJ-700</td>\n",
       "      <td>0.928571</td>\n",
       "      <td>0.20961</td>\n",
       "      <td>True</td>\n",
       "    </tr>\n",
       "    <tr>\n",
       "      <th>9</th>\n",
       "      <td>Boeing 777</td>\n",
       "      <td>0.642857</td>\n",
       "      <td>0.20961</td>\n",
       "      <td>True</td>\n",
       "    </tr>\n",
       "    <tr>\n",
       "      <th>10</th>\n",
       "      <td>Boeing 767</td>\n",
       "      <td>0.738095</td>\n",
       "      <td>0.20961</td>\n",
       "      <td>True</td>\n",
       "    </tr>\n",
       "    <tr>\n",
       "      <th>11</th>\n",
       "      <td>Embraer ERJ 145</td>\n",
       "      <td>0.928571</td>\n",
       "      <td>0.20961</td>\n",
       "      <td>True</td>\n",
       "    </tr>\n",
       "    <tr>\n",
       "      <th>12</th>\n",
       "      <td>Boeing 747</td>\n",
       "      <td>0.571429</td>\n",
       "      <td>0.20961</td>\n",
       "      <td>True</td>\n",
       "    </tr>\n",
       "    <tr>\n",
       "      <th>13</th>\n",
       "      <td>Gulfstream</td>\n",
       "      <td>0.857143</td>\n",
       "      <td>0.20961</td>\n",
       "      <td>True</td>\n",
       "    </tr>\n",
       "    <tr>\n",
       "      <th>14</th>\n",
       "      <td>Boeing 737</td>\n",
       "      <td>0.688776</td>\n",
       "      <td>0.20961</td>\n",
       "      <td>True</td>\n",
       "    </tr>\n",
       "    <tr>\n",
       "      <th>15</th>\n",
       "      <td>A330</td>\n",
       "      <td>0.714286</td>\n",
       "      <td>0.20961</td>\n",
       "      <td>True</td>\n",
       "    </tr>\n",
       "  </tbody>\n",
       "</table>\n",
       "</div>"
      ],
      "text/plain": [
       "             family       avg    whole  larger?\n",
       "0              A340  0.678571  0.20961     True\n",
       "1              A320  0.821429  0.20961     True\n",
       "2     Embraer E-Jet  0.761905  0.20961     True\n",
       "3   Cessna Citation  0.571429  0.20961     True\n",
       "4        Boeing 757  0.785714  0.20961     True\n",
       "5           BAE 146  0.785714  0.20961     True\n",
       "6            Dash 8  0.214286  0.20961     True\n",
       "7             MD-80  0.571429  0.20961     True\n",
       "8           CRJ-700  0.928571  0.20961     True\n",
       "9        Boeing 777  0.642857  0.20961     True\n",
       "10       Boeing 767  0.738095  0.20961     True\n",
       "11  Embraer ERJ 145  0.928571  0.20961     True\n",
       "12       Boeing 747  0.571429  0.20961     True\n",
       "13       Gulfstream  0.857143  0.20961     True\n",
       "14       Boeing 737  0.688776  0.20961     True\n",
       "15             A330  0.714286  0.20961     True"
      ]
     },
     "execution_count": 69,
     "metadata": {},
     "output_type": "execute_result"
    }
   ],
   "source": [
    "avg_fam_sim"
   ]
  },
  {
   "cell_type": "code",
   "execution_count": 70,
   "metadata": {},
   "outputs": [],
   "source": [
    "avg_fam_pd = avg_family_df(pddf)"
   ]
  },
  {
   "cell_type": "code",
   "execution_count": 71,
   "metadata": {},
   "outputs": [],
   "source": [
    "avg_fam_pd[\"whole\"] = whole_average(pddf)\n",
    "avg_fam_pd[\"closer?\"] = avg_fam_pd[\"avg\"]<avg_fam_pd[\"whole\"]"
   ]
  },
  {
   "cell_type": "code",
   "execution_count": 72,
   "metadata": {},
   "outputs": [
    {
     "data": {
      "text/html": [
       "<div>\n",
       "<style scoped>\n",
       "    .dataframe tbody tr th:only-of-type {\n",
       "        vertical-align: middle;\n",
       "    }\n",
       "\n",
       "    .dataframe tbody tr th {\n",
       "        vertical-align: top;\n",
       "    }\n",
       "\n",
       "    .dataframe thead th {\n",
       "        text-align: right;\n",
       "    }\n",
       "</style>\n",
       "<table border=\"1\" class=\"dataframe\">\n",
       "  <thead>\n",
       "    <tr style=\"text-align: right;\">\n",
       "      <th></th>\n",
       "      <th>family</th>\n",
       "      <th>avg</th>\n",
       "      <th>whole</th>\n",
       "      <th>closer?</th>\n",
       "    </tr>\n",
       "  </thead>\n",
       "  <tbody>\n",
       "    <tr>\n",
       "      <th>0</th>\n",
       "      <td>A340</td>\n",
       "      <td>1642.969204</td>\n",
       "      <td>2461.184792</td>\n",
       "      <td>True</td>\n",
       "    </tr>\n",
       "    <tr>\n",
       "      <th>1</th>\n",
       "      <td>A320</td>\n",
       "      <td>2161.060661</td>\n",
       "      <td>2461.184792</td>\n",
       "      <td>True</td>\n",
       "    </tr>\n",
       "    <tr>\n",
       "      <th>2</th>\n",
       "      <td>Embraer E-Jet</td>\n",
       "      <td>1953.027788</td>\n",
       "      <td>2461.184792</td>\n",
       "      <td>True</td>\n",
       "    </tr>\n",
       "    <tr>\n",
       "      <th>3</th>\n",
       "      <td>Cessna Citation</td>\n",
       "      <td>2379.768713</td>\n",
       "      <td>2461.184792</td>\n",
       "      <td>True</td>\n",
       "    </tr>\n",
       "    <tr>\n",
       "      <th>4</th>\n",
       "      <td>Boeing 757</td>\n",
       "      <td>2107.960979</td>\n",
       "      <td>2461.184792</td>\n",
       "      <td>True</td>\n",
       "    </tr>\n",
       "    <tr>\n",
       "      <th>5</th>\n",
       "      <td>BAE 146</td>\n",
       "      <td>1911.716129</td>\n",
       "      <td>2461.184792</td>\n",
       "      <td>True</td>\n",
       "    </tr>\n",
       "    <tr>\n",
       "      <th>6</th>\n",
       "      <td>Dash 8</td>\n",
       "      <td>2829.063253</td>\n",
       "      <td>2461.184792</td>\n",
       "      <td>False</td>\n",
       "    </tr>\n",
       "    <tr>\n",
       "      <th>7</th>\n",
       "      <td>MD-80</td>\n",
       "      <td>2027.820062</td>\n",
       "      <td>2461.184792</td>\n",
       "      <td>True</td>\n",
       "    </tr>\n",
       "    <tr>\n",
       "      <th>8</th>\n",
       "      <td>CRJ-700</td>\n",
       "      <td>1915.666108</td>\n",
       "      <td>2461.184792</td>\n",
       "      <td>True</td>\n",
       "    </tr>\n",
       "    <tr>\n",
       "      <th>9</th>\n",
       "      <td>Boeing 777</td>\n",
       "      <td>1753.764321</td>\n",
       "      <td>2461.184792</td>\n",
       "      <td>True</td>\n",
       "    </tr>\n",
       "    <tr>\n",
       "      <th>10</th>\n",
       "      <td>Boeing 767</td>\n",
       "      <td>1933.570252</td>\n",
       "      <td>2461.184792</td>\n",
       "      <td>True</td>\n",
       "    </tr>\n",
       "    <tr>\n",
       "      <th>11</th>\n",
       "      <td>Embraer ERJ 145</td>\n",
       "      <td>1916.578404</td>\n",
       "      <td>2461.184792</td>\n",
       "      <td>True</td>\n",
       "    </tr>\n",
       "    <tr>\n",
       "      <th>12</th>\n",
       "      <td>Boeing 747</td>\n",
       "      <td>2115.955195</td>\n",
       "      <td>2461.184792</td>\n",
       "      <td>True</td>\n",
       "    </tr>\n",
       "    <tr>\n",
       "      <th>13</th>\n",
       "      <td>Gulfstream</td>\n",
       "      <td>1927.477633</td>\n",
       "      <td>2461.184792</td>\n",
       "      <td>True</td>\n",
       "    </tr>\n",
       "    <tr>\n",
       "      <th>14</th>\n",
       "      <td>Boeing 737</td>\n",
       "      <td>2201.989026</td>\n",
       "      <td>2461.184792</td>\n",
       "      <td>True</td>\n",
       "    </tr>\n",
       "    <tr>\n",
       "      <th>15</th>\n",
       "      <td>A330</td>\n",
       "      <td>1631.263698</td>\n",
       "      <td>2461.184792</td>\n",
       "      <td>True</td>\n",
       "    </tr>\n",
       "  </tbody>\n",
       "</table>\n",
       "</div>"
      ],
      "text/plain": [
       "             family          avg        whole  closer?\n",
       "0              A340  1642.969204  2461.184792     True\n",
       "1              A320  2161.060661  2461.184792     True\n",
       "2     Embraer E-Jet  1953.027788  2461.184792     True\n",
       "3   Cessna Citation  2379.768713  2461.184792     True\n",
       "4        Boeing 757  2107.960979  2461.184792     True\n",
       "5           BAE 146  1911.716129  2461.184792     True\n",
       "6            Dash 8  2829.063253  2461.184792    False\n",
       "7             MD-80  2027.820062  2461.184792     True\n",
       "8           CRJ-700  1915.666108  2461.184792     True\n",
       "9        Boeing 777  1753.764321  2461.184792     True\n",
       "10       Boeing 767  1933.570252  2461.184792     True\n",
       "11  Embraer ERJ 145  1916.578404  2461.184792     True\n",
       "12       Boeing 747  2115.955195  2461.184792     True\n",
       "13       Gulfstream  1927.477633  2461.184792     True\n",
       "14       Boeing 737  2201.989026  2461.184792     True\n",
       "15             A330  1631.263698  2461.184792     True"
      ]
     },
     "execution_count": 72,
     "metadata": {},
     "output_type": "execute_result"
    }
   ],
   "source": [
    "avg_fam_pd"
   ]
  },
  {
   "cell_type": "markdown",
   "metadata": {},
   "source": [
    "Conclusion2: Same family is very similar.\n",
    "But while 15/16 families are closer to whole average with PD, 16/16 with ClassSim."
   ]
  },
  {
   "cell_type": "code",
   "execution_count": null,
   "metadata": {},
   "outputs": [],
   "source": []
  },
  {
   "cell_type": "code",
   "execution_count": null,
   "metadata": {},
   "outputs": [],
   "source": []
  }
 ],
 "metadata": {
  "kernelspec": {
   "display_name": "Python 3",
   "language": "python",
   "name": "python3"
  },
  "language_info": {
   "codemirror_mode": {
    "name": "ipython",
    "version": 3
   },
   "file_extension": ".py",
   "mimetype": "text/x-python",
   "name": "python",
   "nbconvert_exporter": "python",
   "pygments_lexer": "ipython3",
   "version": "3.5.2"
  }
 },
 "nbformat": 4,
 "nbformat_minor": 2
}
