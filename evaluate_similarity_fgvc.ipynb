{
 "cells": [
  {
   "cell_type": "markdown",
   "metadata": {},
   "source": [
    "# Evaluate ClassSim and PD of fgvc."
   ]
  },
  {
   "cell_type": "code",
   "execution_count": 2,
   "metadata": {},
   "outputs": [],
   "source": [
    "import os\n",
    "import json\n",
    "import glob\n",
    "import scipy\n",
    "import numpy as np\n",
    "\n",
    "import pandas as pd\n",
    "import glob\n",
    "\n",
    "import warnings\n",
    "warnings.filterwarnings('ignore')"
   ]
  },
  {
   "cell_type": "code",
   "execution_count": 3,
   "metadata": {},
   "outputs": [],
   "source": [
    "VALID_SIMILARITY_DICT_PATH=\"results/valid_sim_df_fgvc.dat\"\n",
    "PD_SIMILARITY_PATH=\"results/GMMDisttances_fgvc.dat\""
   ]
  },
  {
   "cell_type": "code",
   "execution_count": null,
   "metadata": {},
   "outputs": [],
   "source": []
  },
  {
   "cell_type": "code",
   "execution_count": 5,
   "metadata": {},
   "outputs": [],
   "source": [
    "simdf = pd.read_pickle(VALID_SIMILARITY_DICT_PATH)\n",
    "pddf=pd.read_pickle(PD_SIMILARITY_PATH)"
   ]
  },
  {
   "cell_type": "code",
   "execution_count": null,
   "metadata": {},
   "outputs": [],
   "source": []
  },
  {
   "cell_type": "markdown",
   "metadata": {},
   "source": [
    "### Build maker-family-variant hierachy"
   ]
  },
  {
   "cell_type": "code",
   "execution_count": 7,
   "metadata": {},
   "outputs": [],
   "source": [
    "def category_file_to_id_dict(fpath):\n",
    "    with open(fpath) as f:\n",
    "        return {cat.rstrip(\"\\n\"): id for id, cat in enumerate(f)}"
   ]
  },
  {
   "cell_type": "code",
   "execution_count": 8,
   "metadata": {},
   "outputs": [],
   "source": [
    "variants_to_id_dict = category_file_to_id_dict(\"data_fgvc/fgvc-aircraft-2013b/data/variants.txt\")\n",
    "families_to_id_dict = category_file_to_id_dict(\"data_fgvc/fgvc-aircraft-2013b/data/families.txt\")\n",
    "manufacturers_to_id_dict = category_file_to_id_dict(\"data_fgvc/fgvc-aircraft-2013b/data/manufacturers.txt\")"
   ]
  },
  {
   "cell_type": "code",
   "execution_count": null,
   "metadata": {},
   "outputs": [],
   "source": []
  },
  {
   "cell_type": "code",
   "execution_count": 13,
   "metadata": {},
   "outputs": [],
   "source": [
    "def file_type_to_var_list(fpath):\n",
    "    with open(fpath) as f:\n",
    "         return [line.rstrip(\"\\n\").split(\" \", 1) for line in f]"
   ]
  },
  {
   "cell_type": "code",
   "execution_count": 14,
   "metadata": {},
   "outputs": [],
   "source": [
    "file_var_list = file_type_to_var_list(\"data_fgvc/fgvc-aircraft-2013b/data/images_variant_val.txt\")\n",
    "file_fam_list = file_type_to_var_list(\"data_fgvc/fgvc-aircraft-2013b/data/images_family_val.txt\")\n",
    "file_man_list = file_type_to_var_list(\"data_fgvc/fgvc-aircraft-2013b/data/images_manufacturer_val.txt\")"
   ]
  },
  {
   "cell_type": "code",
   "execution_count": 16,
   "metadata": {},
   "outputs": [],
   "source": []
  },
  {
   "cell_type": "code",
   "execution_count": 24,
   "metadata": {},
   "outputs": [],
   "source": [
    "variant_to_family_dict = {}\n",
    "family_to_manufacturer_dict = {}"
   ]
  },
  {
   "cell_type": "code",
   "execution_count": 25,
   "metadata": {},
   "outputs": [],
   "source": [
    "for idx, _ in enumerate(file_var_list):\n",
    "    vari, fam, man = file_var_list[idx][1], file_fam_list[idx][1], file_man_list[idx][1]\n",
    "    variant_to_family_dict[vari] = fam\n",
    "    family_to_manufacturer_dict[fam] = man"
   ]
  },
  {
   "cell_type": "code",
   "execution_count": null,
   "metadata": {},
   "outputs": [],
   "source": []
  },
  {
   "cell_type": "markdown",
   "metadata": {},
   "source": [
    "Check dict integrity"
   ]
  },
  {
   "cell_type": "code",
   "execution_count": 26,
   "metadata": {},
   "outputs": [
    {
     "data": {
      "text/plain": [
       "True"
      ]
     },
     "execution_count": 26,
     "metadata": {},
     "output_type": "execute_result"
    }
   ],
   "source": [
    "variants_to_id_dict.keys() == variant_to_family_dict.keys()"
   ]
  },
  {
   "cell_type": "code",
   "execution_count": 28,
   "metadata": {},
   "outputs": [
    {
     "data": {
      "text/plain": [
       "True"
      ]
     },
     "execution_count": 28,
     "metadata": {},
     "output_type": "execute_result"
    }
   ],
   "source": [
    "families_to_id_dict.keys() == family_to_manufacturer_dict.keys()"
   ]
  },
  {
   "cell_type": "code",
   "execution_count": 31,
   "metadata": {},
   "outputs": [
    {
     "data": {
      "text/plain": [
       "True"
      ]
     },
     "execution_count": 31,
     "metadata": {},
     "output_type": "execute_result"
    }
   ],
   "source": [
    "manufacturers_to_id_dict.keys() == set(family_to_manufacturer_dict.values())"
   ]
  },
  {
   "cell_type": "code",
   "execution_count": null,
   "metadata": {},
   "outputs": [],
   "source": []
  },
  {
   "cell_type": "code",
   "execution_count": 32,
   "metadata": {},
   "outputs": [
    {
     "data": {
      "text/plain": [
       "(['0481847', '707-320'], ['0481847', 'Boeing 707'], ['0481847', 'Boeing'])"
      ]
     },
     "execution_count": 32,
     "metadata": {},
     "output_type": "execute_result"
    }
   ],
   "source": [
    "file_var_list[0], file_fam_list[0], file_man_list[0]"
   ]
  },
  {
   "cell_type": "code",
   "execution_count": 33,
   "metadata": {},
   "outputs": [
    {
     "data": {
      "text/plain": [
       "('Boeing 707', 'Boeing')"
      ]
     },
     "execution_count": 33,
     "metadata": {},
     "output_type": "execute_result"
    }
   ],
   "source": [
    "variant_to_family_dict['707-320'], family_to_manufacturer_dict['Boeing 707']"
   ]
  },
  {
   "cell_type": "code",
   "execution_count": null,
   "metadata": {},
   "outputs": [],
   "source": []
  },
  {
   "cell_type": "markdown",
   "metadata": {},
   "source": [
    "# Is manufacturers similar each other?"
   ]
  },
  {
   "cell_type": "markdown",
   "metadata": {},
   "source": [
    "first check Boeing by hand"
   ]
  },
  {
   "cell_type": "code",
   "execution_count": 35,
   "metadata": {},
   "outputs": [],
   "source": [
    "boeing_families = [key for key, val in family_to_manufacturer_dict.items() if val == \"Boeing\"]"
   ]
  },
  {
   "cell_type": "code",
   "execution_count": 37,
   "metadata": {},
   "outputs": [],
   "source": [
    "boeing_variants = [key for key, val in variant_to_family_dict.items() if val in boeing_families]"
   ]
  },
  {
   "cell_type": "code",
   "execution_count": 39,
   "metadata": {},
   "outputs": [
    {
     "data": {
      "text/plain": [
       "['737-200', '757-200', '747-300', '727-200', '747-400']"
      ]
     },
     "execution_count": 39,
     "metadata": {},
     "output_type": "execute_result"
    }
   ],
   "source": [
    "boeing_variants[0:5]"
   ]
  },
  {
   "cell_type": "code",
   "execution_count": 46,
   "metadata": {},
   "outputs": [],
   "source": [
    "boeing_variants_ids = sorted([str(variants_to_id_dict[vari]) for vari in boeing_variants])"
   ]
  },
  {
   "cell_type": "code",
   "execution_count": 53,
   "metadata": {},
   "outputs": [
    {
     "data": {
      "text/plain": [
       "46    2605.404566\n",
       "21    2620.881085\n",
       "23    2723.611698\n",
       "16    2650.326974\n",
       "22    2618.020668\n",
       "11    2711.677687\n",
       "12    2688.777579\n",
       "19    2722.166783\n",
       "18    2589.787980\n",
       "2     3208.201787\n",
       "1     3046.101723\n",
       "20    2669.536654\n",
       "13    2743.839675\n",
       "14    2590.393673\n",
       "15    2594.210519\n",
       "17    2577.656687\n",
       "25    2679.386613\n",
       "24    2640.486420\n",
       "26    2637.558114\n",
       "27    2604.871014\n",
       "10    2766.734586\n",
       "Name: 0, dtype: float64"
      ]
     },
     "execution_count": 53,
     "metadata": {},
     "output_type": "execute_result"
    }
   ],
   "source": [
    "pddf['0'].iloc[list(set(boeing_variants_ids)-set(\"0\"))]"
   ]
  },
  {
   "cell_type": "code",
   "execution_count": 55,
   "metadata": {},
   "outputs": [
    {
     "data": {
      "text/plain": [
       "2699.5063088816278"
      ]
     },
     "execution_count": 55,
     "metadata": {},
     "output_type": "execute_result"
    }
   ],
   "source": [
    "# average PD between '0' and other boeing manufacturers\n",
    "pddf['0'].iloc[list(set(boeing_variants_ids)-set(\"0\"))].mean()"
   ]
  },
  {
   "cell_type": "code",
   "execution_count": 65,
   "metadata": {},
   "outputs": [
    {
     "data": {
      "text/plain": [
       "2800.2232754949555"
      ]
     },
     "execution_count": 65,
     "metadata": {},
     "output_type": "execute_result"
    }
   ],
   "source": [
    "# average PD between '0' and all non boeing variants\n",
    "pddf['0'].iloc[list(set(pddf.columns)-set(boeing_variants_ids))].mean()"
   ]
  },
  {
   "cell_type": "code",
   "execution_count": null,
   "metadata": {},
   "outputs": [],
   "source": []
  },
  {
   "cell_type": "code",
   "execution_count": 63,
   "metadata": {},
   "outputs": [
    {
     "data": {
      "text/plain": [
       "0.31632653061224486"
      ]
     },
     "execution_count": 63,
     "metadata": {},
     "output_type": "execute_result"
    }
   ],
   "source": [
    "# average similarity between '0' and other boeing manufacturers\n",
    "simdf['0'].iloc[list(set(boeing_variants_ids)-set(\"0\"))].mean()"
   ]
  },
  {
   "cell_type": "code",
   "execution_count": 66,
   "metadata": {},
   "outputs": [
    {
     "data": {
      "text/plain": [
       "0.17307692307692304"
      ]
     },
     "execution_count": 66,
     "metadata": {},
     "output_type": "execute_result"
    }
   ],
   "source": [
    "# average similarity between '0' and non boeing variants\n",
    "simdf['0'].iloc[list(set(simdf.columns)-set(boeing_variants_ids))].mean()"
   ]
  },
  {
   "cell_type": "code",
   "execution_count": null,
   "metadata": {},
   "outputs": [],
   "source": []
  },
  {
   "cell_type": "markdown",
   "metadata": {},
   "source": [
    "Compare average among each manufacturer's similarity and whole average."
   ]
  },
  {
   "cell_type": "code",
   "execution_count": null,
   "metadata": {},
   "outputs": [],
   "source": []
  },
  {
   "cell_type": "code",
   "execution_count": 104,
   "metadata": {},
   "outputs": [],
   "source": [
    "def manufacturer_to_families(manufacturer):\n",
    "    return [key for key, val in family_to_manufacturer_dict.items() if val == manufacturer]\n",
    "\n",
    "def families_to_variants(families):\n",
    "    return [key for key, val in variant_to_family_dict.items() if val in families]\n",
    "\n",
    "# sort here\n",
    "def variants_to_ids(variants):\n",
    "    return sorted([str(variants_to_id_dict[vari]) for vari in variants])\n",
    "\n",
    "def manufacturer_to_variants_ids(manufacturer):\n",
    "    return variants_to_ids(families_to_variants(manufacturer_to_families(manufacturer)))"
   ]
  },
  {
   "cell_type": "code",
   "execution_count": 90,
   "metadata": {},
   "outputs": [],
   "source": []
  },
  {
   "cell_type": "code",
   "execution_count": null,
   "metadata": {},
   "outputs": [],
   "source": []
  },
  {
   "cell_type": "code",
   "execution_count": 82,
   "metadata": {},
   "outputs": [],
   "source": [
    "def sum_distance_from(df, fromone, to_list):\n",
    "    ser = df[fromone].iloc[to_list]\n",
    "    return ser.sum(), ser.count()"
   ]
  },
  {
   "cell_type": "code",
   "execution_count": 89,
   "metadata": {},
   "outputs": [],
   "source": [
    "def sum_distance(df, keys):\n",
    "    rest = set(keys)\n",
    "    sum_, count_ = 0, 0\n",
    "    for key in keys:\n",
    "        rest = rest-set(key)\n",
    "        onesum, onecount = sum_distance_from(df, key, list(rest))\n",
    "        sum_ += onesum\n",
    "        count_ += onecount\n",
    "    return sum_, count_\n",
    "\n",
    "def average_distance(df, keys):\n",
    "    sum_, count_ = sum_distance(df, keys)\n",
    "    return sum_/count_"
   ]
  },
  {
   "cell_type": "code",
   "execution_count": 101,
   "metadata": {},
   "outputs": [],
   "source": [
    "def whole_average(df):\n",
    "    rest = set(df.columns)\n",
    "    sum_ = 0\n",
    "    count_ = 0\n",
    "    for key in df.columns:\n",
    "        rest = rest - set(key)\n",
    "        ser = df[key].iloc[list(rest)]\n",
    "        sum_ += ser.sum()\n",
    "        count_ += ser.count()\n",
    "    return sum_/count_"
   ]
  },
  {
   "cell_type": "code",
   "execution_count": 94,
   "metadata": {},
   "outputs": [
    {
     "data": {
      "text/plain": [
       "0.4652747252747253"
      ]
     },
     "execution_count": 94,
     "metadata": {},
     "output_type": "execute_result"
    }
   ],
   "source": [
    "average_distance(simdf, boeing_variants_ids)"
   ]
  },
  {
   "cell_type": "code",
   "execution_count": 95,
   "metadata": {},
   "outputs": [
    {
     "data": {
      "text/plain": [
       "2112.1622851258453"
      ]
     },
     "execution_count": 95,
     "metadata": {},
     "output_type": "execute_result"
    }
   ],
   "source": [
    "average_distance(pddf, boeing_variants_ids)"
   ]
  },
  {
   "cell_type": "code",
   "execution_count": null,
   "metadata": {},
   "outputs": [],
   "source": []
  },
  {
   "cell_type": "code",
   "execution_count": 102,
   "metadata": {},
   "outputs": [
    {
     "data": {
      "text/plain": [
       "0.21341069260724918"
      ]
     },
     "execution_count": 102,
     "metadata": {},
     "output_type": "execute_result"
    }
   ],
   "source": [
    "whole_average(simdf)"
   ]
  },
  {
   "cell_type": "code",
   "execution_count": 103,
   "metadata": {},
   "outputs": [
    {
     "data": {
      "text/plain": [
       "2441.335788166723"
      ]
     },
     "execution_count": 103,
     "metadata": {},
     "output_type": "execute_result"
    }
   ],
   "source": [
    "whole_average(pddf)"
   ]
  },
  {
   "cell_type": "code",
   "execution_count": null,
   "metadata": {},
   "outputs": [],
   "source": []
  },
  {
   "cell_type": "code",
   "execution_count": 142,
   "metadata": {},
   "outputs": [],
   "source": [
    "one_variant_manufacturers = [man for man in manufacturers_to_id_dict.keys() if len(manufacturer_to_variants_ids(man)) == 1]"
   ]
  },
  {
   "cell_type": "code",
   "execution_count": 143,
   "metadata": {},
   "outputs": [
    {
     "data": {
      "text/plain": [
       "['Dornier',\n",
       " 'Robin',\n",
       " 'Lockheed Martin',\n",
       " 'Eurofighter',\n",
       " 'Fairchild',\n",
       " 'Ilyushin',\n",
       " 'Yakovlev',\n",
       " 'Piper',\n",
       " 'Antonov',\n",
       " 'Bombardier Aerospace',\n",
       " 'Panavia',\n",
       " 'Cirrus Aircraft',\n",
       " 'Supermarine']"
      ]
     },
     "execution_count": 143,
     "metadata": {},
     "output_type": "execute_result"
    }
   ],
   "source": [
    "one_variant_manufacturers"
   ]
  },
  {
   "cell_type": "code",
   "execution_count": null,
   "metadata": {},
   "outputs": [],
   "source": []
  },
  {
   "cell_type": "code",
   "execution_count": 147,
   "metadata": {},
   "outputs": [],
   "source": [
    "def avg_manufacturer_df(df):\n",
    "    avg_pair = [(man, average_distance(df, manufacturer_to_variants_ids(man))) for man in manufacturers_to_id_dict.keys() if man not in one_variant_manufacturers]\n",
    "    return pd.DataFrame({\"manufacturers\":[man for man,_ in avg_pair], \"avg\": [avg for _,avg in avg_pair]})[[\"manufacturers\",\"avg\"]]"
   ]
  },
  {
   "cell_type": "code",
   "execution_count": 149,
   "metadata": {},
   "outputs": [],
   "source": [
    "avgsim = avg_manufacturer_df(simdf)"
   ]
  },
  {
   "cell_type": "code",
   "execution_count": 162,
   "metadata": {},
   "outputs": [],
   "source": [
    "avgpd = avg_manufacturer_df(pddf)"
   ]
  },
  {
   "cell_type": "code",
   "execution_count": 153,
   "metadata": {},
   "outputs": [],
   "source": [
    "avgsim[\"whole\"] = whole_average(simdf)\n",
    "avgsim[\"larger?\"] = avgsim[\"avg\"]>avgsim[\"whole\"]"
   ]
  },
  {
   "cell_type": "code",
   "execution_count": 158,
   "metadata": {},
   "outputs": [
    {
     "data": {
      "text/html": [
       "<div>\n",
       "<style scoped>\n",
       "    .dataframe tbody tr th:only-of-type {\n",
       "        vertical-align: middle;\n",
       "    }\n",
       "\n",
       "    .dataframe tbody tr th {\n",
       "        vertical-align: top;\n",
       "    }\n",
       "\n",
       "    .dataframe thead th {\n",
       "        text-align: right;\n",
       "    }\n",
       "</style>\n",
       "<table border=\"1\" class=\"dataframe\">\n",
       "  <thead>\n",
       "    <tr style=\"text-align: right;\">\n",
       "      <th></th>\n",
       "      <th>manufacturers</th>\n",
       "      <th>avg</th>\n",
       "      <th>whole</th>\n",
       "      <th>larger?</th>\n",
       "    </tr>\n",
       "  </thead>\n",
       "  <tbody>\n",
       "    <tr>\n",
       "      <th>0</th>\n",
       "      <td>ATR</td>\n",
       "      <td>0.089286</td>\n",
       "      <td>0.213411</td>\n",
       "      <td>False</td>\n",
       "    </tr>\n",
       "    <tr>\n",
       "      <th>1</th>\n",
       "      <td>Lockheed Corporation</td>\n",
       "      <td>0.178571</td>\n",
       "      <td>0.213411</td>\n",
       "      <td>False</td>\n",
       "    </tr>\n",
       "    <tr>\n",
       "      <th>2</th>\n",
       "      <td>Gulfstream Aerospace</td>\n",
       "      <td>0.446429</td>\n",
       "      <td>0.213411</td>\n",
       "      <td>True</td>\n",
       "    </tr>\n",
       "    <tr>\n",
       "      <th>3</th>\n",
       "      <td>McDonnell Douglas</td>\n",
       "      <td>0.279883</td>\n",
       "      <td>0.213411</td>\n",
       "      <td>True</td>\n",
       "    </tr>\n",
       "    <tr>\n",
       "      <th>4</th>\n",
       "      <td>Cessna</td>\n",
       "      <td>0.191964</td>\n",
       "      <td>0.213411</td>\n",
       "      <td>False</td>\n",
       "    </tr>\n",
       "    <tr>\n",
       "      <th>5</th>\n",
       "      <td>Douglas Aircraft Company</td>\n",
       "      <td>0.196429</td>\n",
       "      <td>0.213411</td>\n",
       "      <td>False</td>\n",
       "    </tr>\n",
       "    <tr>\n",
       "      <th>6</th>\n",
       "      <td>Tupolev</td>\n",
       "      <td>0.321429</td>\n",
       "      <td>0.213411</td>\n",
       "      <td>True</td>\n",
       "    </tr>\n",
       "    <tr>\n",
       "      <th>7</th>\n",
       "      <td>Beechcraft</td>\n",
       "      <td>0.392857</td>\n",
       "      <td>0.213411</td>\n",
       "      <td>True</td>\n",
       "    </tr>\n",
       "    <tr>\n",
       "      <th>8</th>\n",
       "      <td>de Havilland</td>\n",
       "      <td>0.308571</td>\n",
       "      <td>0.213411</td>\n",
       "      <td>True</td>\n",
       "    </tr>\n",
       "    <tr>\n",
       "      <th>9</th>\n",
       "      <td>Airbus</td>\n",
       "      <td>0.321640</td>\n",
       "      <td>0.213411</td>\n",
       "      <td>True</td>\n",
       "    </tr>\n",
       "    <tr>\n",
       "      <th>10</th>\n",
       "      <td>Boeing</td>\n",
       "      <td>0.465275</td>\n",
       "      <td>0.213411</td>\n",
       "      <td>True</td>\n",
       "    </tr>\n",
       "    <tr>\n",
       "      <th>11</th>\n",
       "      <td>Fokker</td>\n",
       "      <td>0.333333</td>\n",
       "      <td>0.213411</td>\n",
       "      <td>True</td>\n",
       "    </tr>\n",
       "    <tr>\n",
       "      <th>12</th>\n",
       "      <td>British Aerospace</td>\n",
       "      <td>0.120536</td>\n",
       "      <td>0.213411</td>\n",
       "      <td>False</td>\n",
       "    </tr>\n",
       "    <tr>\n",
       "      <th>13</th>\n",
       "      <td>Canadair</td>\n",
       "      <td>0.285714</td>\n",
       "      <td>0.213411</td>\n",
       "      <td>True</td>\n",
       "    </tr>\n",
       "    <tr>\n",
       "      <th>14</th>\n",
       "      <td>Dassault Aviation</td>\n",
       "      <td>0.107143</td>\n",
       "      <td>0.213411</td>\n",
       "      <td>False</td>\n",
       "    </tr>\n",
       "    <tr>\n",
       "      <th>15</th>\n",
       "      <td>Saab</td>\n",
       "      <td>0.428571</td>\n",
       "      <td>0.213411</td>\n",
       "      <td>True</td>\n",
       "    </tr>\n",
       "    <tr>\n",
       "      <th>16</th>\n",
       "      <td>Embraer</td>\n",
       "      <td>0.351312</td>\n",
       "      <td>0.213411</td>\n",
       "      <td>True</td>\n",
       "    </tr>\n",
       "  </tbody>\n",
       "</table>\n",
       "</div>"
      ],
      "text/plain": [
       "               manufacturers       avg     whole  larger?\n",
       "0                        ATR  0.089286  0.213411    False\n",
       "1       Lockheed Corporation  0.178571  0.213411    False\n",
       "2       Gulfstream Aerospace  0.446429  0.213411     True\n",
       "3          McDonnell Douglas  0.279883  0.213411     True\n",
       "4                     Cessna  0.191964  0.213411    False\n",
       "5   Douglas Aircraft Company  0.196429  0.213411    False\n",
       "6                    Tupolev  0.321429  0.213411     True\n",
       "7                 Beechcraft  0.392857  0.213411     True\n",
       "8               de Havilland  0.308571  0.213411     True\n",
       "9                     Airbus  0.321640  0.213411     True\n",
       "10                    Boeing  0.465275  0.213411     True\n",
       "11                    Fokker  0.333333  0.213411     True\n",
       "12         British Aerospace  0.120536  0.213411    False\n",
       "13                  Canadair  0.285714  0.213411     True\n",
       "14         Dassault Aviation  0.107143  0.213411    False\n",
       "15                      Saab  0.428571  0.213411     True\n",
       "16                   Embraer  0.351312  0.213411     True"
      ]
     },
     "execution_count": 158,
     "metadata": {},
     "output_type": "execute_result"
    }
   ],
   "source": [
    "avgsim"
   ]
  },
  {
   "cell_type": "code",
   "execution_count": 169,
   "metadata": {},
   "outputs": [
    {
     "data": {
      "text/plain": [
       "11"
      ]
     },
     "execution_count": 169,
     "metadata": {},
     "output_type": "execute_result"
    }
   ],
   "source": [
    "avgsim[\"larger?\"].sum()"
   ]
  },
  {
   "cell_type": "code",
   "execution_count": 163,
   "metadata": {},
   "outputs": [],
   "source": [
    "avgpd[\"whole\"] = whole_average(pddf)\n",
    "avgpd[\"closer?\"] = avgpd[\"avg\"]<avgpd[\"whole\"]"
   ]
  },
  {
   "cell_type": "code",
   "execution_count": 164,
   "metadata": {},
   "outputs": [
    {
     "data": {
      "text/html": [
       "<div>\n",
       "<style scoped>\n",
       "    .dataframe tbody tr th:only-of-type {\n",
       "        vertical-align: middle;\n",
       "    }\n",
       "\n",
       "    .dataframe tbody tr th {\n",
       "        vertical-align: top;\n",
       "    }\n",
       "\n",
       "    .dataframe thead th {\n",
       "        text-align: right;\n",
       "    }\n",
       "</style>\n",
       "<table border=\"1\" class=\"dataframe\">\n",
       "  <thead>\n",
       "    <tr style=\"text-align: right;\">\n",
       "      <th></th>\n",
       "      <th>manufacturers</th>\n",
       "      <th>avg</th>\n",
       "      <th>whole</th>\n",
       "      <th>closer?</th>\n",
       "    </tr>\n",
       "  </thead>\n",
       "  <tbody>\n",
       "    <tr>\n",
       "      <th>0</th>\n",
       "      <td>ATR</td>\n",
       "      <td>2471.333214</td>\n",
       "      <td>2441.335788</td>\n",
       "      <td>False</td>\n",
       "    </tr>\n",
       "    <tr>\n",
       "      <th>1</th>\n",
       "      <td>Lockheed Corporation</td>\n",
       "      <td>3267.940094</td>\n",
       "      <td>2441.335788</td>\n",
       "      <td>False</td>\n",
       "    </tr>\n",
       "    <tr>\n",
       "      <th>2</th>\n",
       "      <td>Gulfstream Aerospace</td>\n",
       "      <td>1705.624390</td>\n",
       "      <td>2441.335788</td>\n",
       "      <td>True</td>\n",
       "    </tr>\n",
       "    <tr>\n",
       "      <th>3</th>\n",
       "      <td>McDonnell Douglas</td>\n",
       "      <td>2327.731791</td>\n",
       "      <td>2441.335788</td>\n",
       "      <td>True</td>\n",
       "    </tr>\n",
       "    <tr>\n",
       "      <th>4</th>\n",
       "      <td>Cessna</td>\n",
       "      <td>3006.441080</td>\n",
       "      <td>2441.335788</td>\n",
       "      <td>False</td>\n",
       "    </tr>\n",
       "    <tr>\n",
       "      <th>5</th>\n",
       "      <td>Douglas Aircraft Company</td>\n",
       "      <td>3418.337399</td>\n",
       "      <td>2441.335788</td>\n",
       "      <td>False</td>\n",
       "    </tr>\n",
       "    <tr>\n",
       "      <th>6</th>\n",
       "      <td>Tupolev</td>\n",
       "      <td>1056.567427</td>\n",
       "      <td>2441.335788</td>\n",
       "      <td>True</td>\n",
       "    </tr>\n",
       "    <tr>\n",
       "      <th>7</th>\n",
       "      <td>Beechcraft</td>\n",
       "      <td>2148.496446</td>\n",
       "      <td>2441.335788</td>\n",
       "      <td>True</td>\n",
       "    </tr>\n",
       "    <tr>\n",
       "      <th>8</th>\n",
       "      <td>de Havilland</td>\n",
       "      <td>2863.756084</td>\n",
       "      <td>2441.335788</td>\n",
       "      <td>False</td>\n",
       "    </tr>\n",
       "    <tr>\n",
       "      <th>9</th>\n",
       "      <td>Airbus</td>\n",
       "      <td>1853.979635</td>\n",
       "      <td>2441.335788</td>\n",
       "      <td>True</td>\n",
       "    </tr>\n",
       "    <tr>\n",
       "      <th>10</th>\n",
       "      <td>Boeing</td>\n",
       "      <td>2112.162285</td>\n",
       "      <td>2441.335788</td>\n",
       "      <td>True</td>\n",
       "    </tr>\n",
       "    <tr>\n",
       "      <th>11</th>\n",
       "      <td>Fokker</td>\n",
       "      <td>1921.456118</td>\n",
       "      <td>2441.335788</td>\n",
       "      <td>True</td>\n",
       "    </tr>\n",
       "    <tr>\n",
       "      <th>12</th>\n",
       "      <td>British Aerospace</td>\n",
       "      <td>2488.274233</td>\n",
       "      <td>2441.335788</td>\n",
       "      <td>False</td>\n",
       "    </tr>\n",
       "    <tr>\n",
       "      <th>13</th>\n",
       "      <td>Canadair</td>\n",
       "      <td>2421.303284</td>\n",
       "      <td>2441.335788</td>\n",
       "      <td>True</td>\n",
       "    </tr>\n",
       "    <tr>\n",
       "      <th>14</th>\n",
       "      <td>Dassault Aviation</td>\n",
       "      <td>2155.383995</td>\n",
       "      <td>2441.335788</td>\n",
       "      <td>True</td>\n",
       "    </tr>\n",
       "    <tr>\n",
       "      <th>15</th>\n",
       "      <td>Saab</td>\n",
       "      <td>1095.754837</td>\n",
       "      <td>2441.335788</td>\n",
       "      <td>True</td>\n",
       "    </tr>\n",
       "    <tr>\n",
       "      <th>16</th>\n",
       "      <td>Embraer</td>\n",
       "      <td>2276.435792</td>\n",
       "      <td>2441.335788</td>\n",
       "      <td>True</td>\n",
       "    </tr>\n",
       "  </tbody>\n",
       "</table>\n",
       "</div>"
      ],
      "text/plain": [
       "               manufacturers          avg        whole  closer?\n",
       "0                        ATR  2471.333214  2441.335788    False\n",
       "1       Lockheed Corporation  3267.940094  2441.335788    False\n",
       "2       Gulfstream Aerospace  1705.624390  2441.335788     True\n",
       "3          McDonnell Douglas  2327.731791  2441.335788     True\n",
       "4                     Cessna  3006.441080  2441.335788    False\n",
       "5   Douglas Aircraft Company  3418.337399  2441.335788    False\n",
       "6                    Tupolev  1056.567427  2441.335788     True\n",
       "7                 Beechcraft  2148.496446  2441.335788     True\n",
       "8               de Havilland  2863.756084  2441.335788    False\n",
       "9                     Airbus  1853.979635  2441.335788     True\n",
       "10                    Boeing  2112.162285  2441.335788     True\n",
       "11                    Fokker  1921.456118  2441.335788     True\n",
       "12         British Aerospace  2488.274233  2441.335788    False\n",
       "13                  Canadair  2421.303284  2441.335788     True\n",
       "14         Dassault Aviation  2155.383995  2441.335788     True\n",
       "15                      Saab  1095.754837  2441.335788     True\n",
       "16                   Embraer  2276.435792  2441.335788     True"
      ]
     },
     "execution_count": 164,
     "metadata": {},
     "output_type": "execute_result"
    }
   ],
   "source": [
    "avgpd"
   ]
  },
  {
   "cell_type": "code",
   "execution_count": 168,
   "metadata": {},
   "outputs": [
    {
     "data": {
      "text/plain": [
       "11"
      ]
     },
     "execution_count": 168,
     "metadata": {},
     "output_type": "execute_result"
    }
   ],
   "source": [
    "avgpd[\"closer?\"].sum()"
   ]
  },
  {
   "cell_type": "code",
   "execution_count": 167,
   "metadata": {},
   "outputs": [
    {
     "data": {
      "text/plain": [
       "0      True\n",
       "1      True\n",
       "2      True\n",
       "3      True\n",
       "4      True\n",
       "5      True\n",
       "6      True\n",
       "7      True\n",
       "8     False\n",
       "9      True\n",
       "10     True\n",
       "11     True\n",
       "12     True\n",
       "13     True\n",
       "14    False\n",
       "15     True\n",
       "16     True\n",
       "dtype: bool"
      ]
     },
     "execution_count": 167,
     "metadata": {},
     "output_type": "execute_result"
    }
   ],
   "source": [
    "avgsim[\"larger?\"] == avgpd[\"closer?\"]"
   ]
  },
  {
   "cell_type": "code",
   "execution_count": null,
   "metadata": {},
   "outputs": [],
   "source": []
  },
  {
   "cell_type": "code",
   "execution_count": null,
   "metadata": {},
   "outputs": [],
   "source": []
  },
  {
   "cell_type": "code",
   "execution_count": null,
   "metadata": {},
   "outputs": [],
   "source": []
  },
  {
   "cell_type": "code",
   "execution_count": null,
   "metadata": {},
   "outputs": [],
   "source": []
  }
 ],
 "metadata": {
  "kernelspec": {
   "display_name": "Python 3",
   "language": "python",
   "name": "python3"
  },
  "language_info": {
   "codemirror_mode": {
    "name": "ipython",
    "version": 3
   },
   "file_extension": ".py",
   "mimetype": "text/x-python",
   "name": "python",
   "nbconvert_exporter": "python",
   "pygments_lexer": "ipython3",
   "version": "3.5.2"
  }
 },
 "nbformat": 4,
 "nbformat_minor": 2
}
