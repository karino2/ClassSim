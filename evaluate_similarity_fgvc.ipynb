{
 "cells": [
  {
   "cell_type": "markdown",
   "metadata": {},
   "source": [
    "# Evaluate ClassSim and PD of fgvc."
   ]
  },
  {
   "cell_type": "code",
   "execution_count": 2,
   "metadata": {},
   "outputs": [],
   "source": [
    "import os\n",
    "import json\n",
    "import glob\n",
    "import scipy\n",
    "import numpy as np\n",
    "\n",
    "import pandas as pd\n",
    "import glob\n",
    "\n",
    "import warnings\n",
    "warnings.filterwarnings('ignore')"
   ]
  },
  {
   "cell_type": "code",
   "execution_count": 3,
   "metadata": {},
   "outputs": [],
   "source": [
    "VALID_SIMILARITY_DICT_PATH=\"results/valid_sim_df_fgvc.dat\"\n",
    "PD_SIMILARITY_PATH=\"results/GMMDisttances_fgvc.dat\""
   ]
  },
  {
   "cell_type": "code",
   "execution_count": null,
   "metadata": {},
   "outputs": [],
   "source": []
  },
  {
   "cell_type": "code",
   "execution_count": 5,
   "metadata": {},
   "outputs": [],
   "source": [
    "simdf = pd.read_pickle(VALID_SIMILARITY_DICT_PATH)\n",
    "pddf=pd.read_pickle(PD_SIMILARITY_PATH)"
   ]
  },
  {
   "cell_type": "code",
   "execution_count": null,
   "metadata": {},
   "outputs": [],
   "source": []
  },
  {
   "cell_type": "markdown",
   "metadata": {},
   "source": [
    "### Build maker-family-variant hierachy"
   ]
  },
  {
   "cell_type": "code",
   "execution_count": 7,
   "metadata": {},
   "outputs": [],
   "source": [
    "def category_file_to_id_dict(fpath):\n",
    "    with open(fpath) as f:\n",
    "        return {cat.rstrip(\"\\n\"): id for id, cat in enumerate(f)}"
   ]
  },
  {
   "cell_type": "code",
   "execution_count": 8,
   "metadata": {},
   "outputs": [],
   "source": [
    "variants_to_id_dict = category_file_to_id_dict(\"data_fgvc/fgvc-aircraft-2013b/data/variants.txt\")\n",
    "families_to_id_dict = category_file_to_id_dict(\"data_fgvc/fgvc-aircraft-2013b/data/families.txt\")\n",
    "manufacturers_to_id_dict = category_file_to_id_dict(\"data_fgvc/fgvc-aircraft-2013b/data/manufacturers.txt\")"
   ]
  },
  {
   "cell_type": "code",
   "execution_count": null,
   "metadata": {},
   "outputs": [],
   "source": []
  },
  {
   "cell_type": "code",
   "execution_count": 13,
   "metadata": {},
   "outputs": [],
   "source": [
    "def file_type_to_var_list(fpath):\n",
    "    with open(fpath) as f:\n",
    "         return [line.rstrip(\"\\n\").split(\" \", 1) for line in f]"
   ]
  },
  {
   "cell_type": "code",
   "execution_count": 14,
   "metadata": {},
   "outputs": [],
   "source": [
    "file_var_list = file_type_to_var_list(\"data_fgvc/fgvc-aircraft-2013b/data/images_variant_val.txt\")\n",
    "file_fam_list = file_type_to_var_list(\"data_fgvc/fgvc-aircraft-2013b/data/images_family_val.txt\")\n",
    "file_man_list = file_type_to_var_list(\"data_fgvc/fgvc-aircraft-2013b/data/images_manufacturer_val.txt\")"
   ]
  },
  {
   "cell_type": "code",
   "execution_count": 16,
   "metadata": {},
   "outputs": [],
   "source": []
  },
  {
   "cell_type": "code",
   "execution_count": 24,
   "metadata": {},
   "outputs": [],
   "source": [
    "variant_to_family_dict = {}\n",
    "family_to_manufacturer_dict = {}"
   ]
  },
  {
   "cell_type": "code",
   "execution_count": 25,
   "metadata": {},
   "outputs": [],
   "source": [
    "for idx, _ in enumerate(file_var_list):\n",
    "    vari, fam, man = file_var_list[idx][1], file_fam_list[idx][1], file_man_list[idx][1]\n",
    "    variant_to_family_dict[vari] = fam\n",
    "    family_to_manufacturer_dict[fam] = man"
   ]
  },
  {
   "cell_type": "code",
   "execution_count": null,
   "metadata": {},
   "outputs": [],
   "source": []
  },
  {
   "cell_type": "markdown",
   "metadata": {},
   "source": [
    "Check dict integrity"
   ]
  },
  {
   "cell_type": "code",
   "execution_count": 26,
   "metadata": {},
   "outputs": [
    {
     "data": {
      "text/plain": [
       "True"
      ]
     },
     "execution_count": 26,
     "metadata": {},
     "output_type": "execute_result"
    }
   ],
   "source": [
    "variants_to_id_dict.keys() == variant_to_family_dict.keys()"
   ]
  },
  {
   "cell_type": "code",
   "execution_count": 28,
   "metadata": {},
   "outputs": [
    {
     "data": {
      "text/plain": [
       "True"
      ]
     },
     "execution_count": 28,
     "metadata": {},
     "output_type": "execute_result"
    }
   ],
   "source": [
    "families_to_id_dict.keys() == family_to_manufacturer_dict.keys()"
   ]
  },
  {
   "cell_type": "code",
   "execution_count": 31,
   "metadata": {},
   "outputs": [
    {
     "data": {
      "text/plain": [
       "True"
      ]
     },
     "execution_count": 31,
     "metadata": {},
     "output_type": "execute_result"
    }
   ],
   "source": [
    "manufacturers_to_id_dict.keys() == set(family_to_manufacturer_dict.values())"
   ]
  },
  {
   "cell_type": "code",
   "execution_count": null,
   "metadata": {},
   "outputs": [],
   "source": []
  },
  {
   "cell_type": "code",
   "execution_count": 32,
   "metadata": {},
   "outputs": [
    {
     "data": {
      "text/plain": [
       "(['0481847', '707-320'], ['0481847', 'Boeing 707'], ['0481847', 'Boeing'])"
      ]
     },
     "execution_count": 32,
     "metadata": {},
     "output_type": "execute_result"
    }
   ],
   "source": [
    "file_var_list[0], file_fam_list[0], file_man_list[0]"
   ]
  },
  {
   "cell_type": "code",
   "execution_count": 33,
   "metadata": {},
   "outputs": [
    {
     "data": {
      "text/plain": [
       "('Boeing 707', 'Boeing')"
      ]
     },
     "execution_count": 33,
     "metadata": {},
     "output_type": "execute_result"
    }
   ],
   "source": [
    "variant_to_family_dict['707-320'], family_to_manufacturer_dict['Boeing 707']"
   ]
  },
  {
   "cell_type": "code",
   "execution_count": null,
   "metadata": {},
   "outputs": [],
   "source": []
  },
  {
   "cell_type": "markdown",
   "metadata": {},
   "source": [
    "# Is manufacturers similar each other?"
   ]
  },
  {
   "cell_type": "markdown",
   "metadata": {},
   "source": [
    "first check Boeing by hand"
   ]
  },
  {
   "cell_type": "code",
   "execution_count": 240,
   "metadata": {},
   "outputs": [],
   "source": [
    "boeing_families = [key for key, val in family_to_manufacturer_dict.items() if val == \"Boeing\"]"
   ]
  },
  {
   "cell_type": "code",
   "execution_count": 241,
   "metadata": {},
   "outputs": [],
   "source": [
    "boeing_variants = [key for key, val in variant_to_family_dict.items() if val in boeing_families]"
   ]
  },
  {
   "cell_type": "code",
   "execution_count": 242,
   "metadata": {},
   "outputs": [
    {
     "data": {
      "text/plain": [
       "['737-200', '757-200', '747-300', '727-200', '747-400']"
      ]
     },
     "execution_count": 242,
     "metadata": {},
     "output_type": "execute_result"
    }
   ],
   "source": [
    "boeing_variants[0:5]"
   ]
  },
  {
   "cell_type": "code",
   "execution_count": 243,
   "metadata": {},
   "outputs": [],
   "source": [
    "boeing_variants_ids = sorted([str(variants_to_id_dict[vari]) for vari in boeing_variants])"
   ]
  },
  {
   "cell_type": "code",
   "execution_count": 244,
   "metadata": {},
   "outputs": [
    {
     "data": {
      "text/plain": [
       "41    2654.367182\n",
       "14    2590.393673\n",
       "16    2650.326974\n",
       "8     2667.412616\n",
       "15    2594.210519\n",
       "3     2492.388843\n",
       "4     2572.018896\n",
       "11    2711.677687\n",
       "10    2766.734586\n",
       "12    2688.777579\n",
       "1     3046.101723\n",
       "13    2743.839675\n",
       "5     2596.947708\n",
       "6     2653.518319\n",
       "7     2507.363585\n",
       "9     2776.091813\n",
       "18    2589.787980\n",
       "17    2577.656687\n",
       "19    2722.166783\n",
       "20    2669.536654\n",
       "2     3208.201787\n",
       "Name: 0, dtype: float64"
      ]
     },
     "execution_count": 244,
     "metadata": {},
     "output_type": "execute_result"
    }
   ],
   "source": [
    "pddf['0'].loc[list(set(boeing_variants_ids)-set(\"0\"))]"
   ]
  },
  {
   "cell_type": "code",
   "execution_count": 245,
   "metadata": {},
   "outputs": [
    {
     "data": {
      "text/plain": [
       "2689.5010128967497"
      ]
     },
     "execution_count": 245,
     "metadata": {},
     "output_type": "execute_result"
    }
   ],
   "source": [
    "# average PD between '0' and other boeing manufacturers\n",
    "pddf['0'].loc[list(set(boeing_variants_ids)-set(\"0\"))].mean()"
   ]
  },
  {
   "cell_type": "code",
   "execution_count": 246,
   "metadata": {},
   "outputs": [
    {
     "data": {
      "text/plain": [
       "2802.9170090293455"
      ]
     },
     "execution_count": 246,
     "metadata": {},
     "output_type": "execute_result"
    }
   ],
   "source": [
    "# average PD between '0' and all non boeing variants\n",
    "pddf['0'].loc[list(set(pddf.columns)-set(boeing_variants_ids))].mean()"
   ]
  },
  {
   "cell_type": "code",
   "execution_count": null,
   "metadata": {},
   "outputs": [],
   "source": []
  },
  {
   "cell_type": "code",
   "execution_count": 247,
   "metadata": {},
   "outputs": [
    {
     "data": {
      "text/plain": [
       "0.28911564625850333"
      ]
     },
     "execution_count": 247,
     "metadata": {},
     "output_type": "execute_result"
    }
   ],
   "source": [
    "# average similarity between '0' and other boeing manufacturers\n",
    "simdf['0'].loc[list(set(boeing_variants_ids)-set(\"0\"))].mean()"
   ]
  },
  {
   "cell_type": "code",
   "execution_count": 248,
   "metadata": {},
   "outputs": [
    {
     "data": {
      "text/plain": [
       "0.18040293040293034"
      ]
     },
     "execution_count": 248,
     "metadata": {},
     "output_type": "execute_result"
    }
   ],
   "source": [
    "# average similarity between '0' and non boeing variants\n",
    "simdf['0'].loc[list(set(simdf.columns)-set(boeing_variants_ids))].mean()"
   ]
  },
  {
   "cell_type": "code",
   "execution_count": null,
   "metadata": {},
   "outputs": [],
   "source": []
  },
  {
   "cell_type": "markdown",
   "metadata": {},
   "source": [
    "Compare average among each manufacturer's similarity and whole average."
   ]
  },
  {
   "cell_type": "code",
   "execution_count": null,
   "metadata": {},
   "outputs": [],
   "source": []
  },
  {
   "cell_type": "code",
   "execution_count": 249,
   "metadata": {},
   "outputs": [],
   "source": [
    "def manufacturer_to_families(manufacturer):\n",
    "    return [key for key, val in family_to_manufacturer_dict.items() if val == manufacturer]\n",
    "\n",
    "def one_family_to_variants(family):\n",
    "    return [key for key, val in variant_to_family_dict.items() if val == family]\n",
    "\n",
    "def families_to_variants(families):\n",
    "    return [key for key, val in variant_to_family_dict.items() if val in families]\n",
    "\n",
    "# sort here\n",
    "def variants_to_ids(variants):\n",
    "    return sorted([str(variants_to_id_dict[vari]) for vari in variants])\n",
    "\n",
    "def manufacturer_to_variants_ids(manufacturer):\n",
    "    return variants_to_ids(families_to_variants(manufacturer_to_families(manufacturer)))\n",
    "\n",
    "def family_to_variants_ids(fam):\n",
    "    return variants_to_ids(one_family_to_variants(fam))\n",
    "\n"
   ]
  },
  {
   "cell_type": "code",
   "execution_count": null,
   "metadata": {},
   "outputs": [],
   "source": []
  },
  {
   "cell_type": "code",
   "execution_count": null,
   "metadata": {},
   "outputs": [],
   "source": []
  },
  {
   "cell_type": "code",
   "execution_count": 250,
   "metadata": {},
   "outputs": [],
   "source": [
    "def sum_distance_from(df, fromone, to_list):\n",
    "    ser = df[fromone].loc[to_list]\n",
    "    return ser.sum(), ser.count()"
   ]
  },
  {
   "cell_type": "code",
   "execution_count": 251,
   "metadata": {},
   "outputs": [],
   "source": [
    "def sum_distance(df, keys):\n",
    "    rest = set(keys)\n",
    "    sum_, count_ = 0, 0\n",
    "    for key in keys:\n",
    "        rest = rest-set(key)\n",
    "        if len(rest) > 0:\n",
    "            onesum, onecount = sum_distance_from(df, key, list(rest))\n",
    "            sum_ += onesum\n",
    "            count_ += onecount\n",
    "    return sum_, count_\n",
    "\n",
    "def average_distance(df, keys):\n",
    "    sum_, count_ = sum_distance(df, keys)\n",
    "    return sum_/count_"
   ]
  },
  {
   "cell_type": "code",
   "execution_count": 252,
   "metadata": {},
   "outputs": [],
   "source": [
    "def whole_average(df):\n",
    "    rest = set(df.columns)\n",
    "    sum_ = 0\n",
    "    count_ = 0\n",
    "    for key in df.columns:\n",
    "        rest = rest - set(key)\n",
    "        ser = df[key].loc[list(rest)]\n",
    "        sum_ += ser.sum()\n",
    "        count_ += ser.count()\n",
    "    return sum_/count_"
   ]
  },
  {
   "cell_type": "code",
   "execution_count": 253,
   "metadata": {},
   "outputs": [
    {
     "data": {
      "text/plain": [
       "0.39714285714285719"
      ]
     },
     "execution_count": 253,
     "metadata": {},
     "output_type": "execute_result"
    }
   ],
   "source": [
    "average_distance(simdf, boeing_variants_ids)"
   ]
  },
  {
   "cell_type": "code",
   "execution_count": 254,
   "metadata": {},
   "outputs": [
    {
     "data": {
      "text/plain": [
       "2047.9312082754971"
      ]
     },
     "execution_count": 254,
     "metadata": {},
     "output_type": "execute_result"
    }
   ],
   "source": [
    "average_distance(pddf, boeing_variants_ids)"
   ]
  },
  {
   "cell_type": "code",
   "execution_count": null,
   "metadata": {},
   "outputs": [],
   "source": []
  },
  {
   "cell_type": "code",
   "execution_count": 255,
   "metadata": {},
   "outputs": [
    {
     "data": {
      "text/plain": [
       "0.21154240307755376"
      ]
     },
     "execution_count": 255,
     "metadata": {},
     "output_type": "execute_result"
    }
   ],
   "source": [
    "whole_average(simdf)"
   ]
  },
  {
   "cell_type": "code",
   "execution_count": 256,
   "metadata": {},
   "outputs": [
    {
     "data": {
      "text/plain": [
       "2437.7053103806484"
      ]
     },
     "execution_count": 256,
     "metadata": {},
     "output_type": "execute_result"
    }
   ],
   "source": [
    "whole_average(pddf)"
   ]
  },
  {
   "cell_type": "code",
   "execution_count": null,
   "metadata": {},
   "outputs": [],
   "source": []
  },
  {
   "cell_type": "code",
   "execution_count": 257,
   "metadata": {},
   "outputs": [],
   "source": [
    "one_variant_manufacturers = [man for man in manufacturers_to_id_dict.keys() if len(manufacturer_to_variants_ids(man)) == 1]"
   ]
  },
  {
   "cell_type": "code",
   "execution_count": 258,
   "metadata": {},
   "outputs": [
    {
     "data": {
      "text/plain": [
       "['Dornier',\n",
       " 'Robin',\n",
       " 'Lockheed Martin',\n",
       " 'Eurofighter',\n",
       " 'Fairchild',\n",
       " 'Ilyushin',\n",
       " 'Yakovlev',\n",
       " 'Piper',\n",
       " 'Antonov',\n",
       " 'Bombardier Aerospace',\n",
       " 'Panavia',\n",
       " 'Cirrus Aircraft',\n",
       " 'Supermarine']"
      ]
     },
     "execution_count": 258,
     "metadata": {},
     "output_type": "execute_result"
    }
   ],
   "source": [
    "one_variant_manufacturers"
   ]
  },
  {
   "cell_type": "code",
   "execution_count": null,
   "metadata": {},
   "outputs": [],
   "source": []
  },
  {
   "cell_type": "code",
   "execution_count": 259,
   "metadata": {},
   "outputs": [],
   "source": [
    "def avg_manufacturer_df(df):\n",
    "    avg_pair = [(man, average_distance(df, manufacturer_to_variants_ids(man))) for man in manufacturers_to_id_dict.keys() if man not in one_variant_manufacturers]\n",
    "    return pd.DataFrame({\"manufacturers\":[man for man,_ in avg_pair], \"avg\": [avg for _,avg in avg_pair]})[[\"manufacturers\",\"avg\"]]"
   ]
  },
  {
   "cell_type": "code",
   "execution_count": 260,
   "metadata": {},
   "outputs": [],
   "source": [
    "avgsim = avg_manufacturer_df(simdf)"
   ]
  },
  {
   "cell_type": "code",
   "execution_count": 262,
   "metadata": {},
   "outputs": [],
   "source": [
    "avgsim[\"whole\"] = whole_average(simdf)\n",
    "avgsim[\"larger?\"] = avgsim[\"avg\"]>avgsim[\"whole\"]"
   ]
  },
  {
   "cell_type": "code",
   "execution_count": 263,
   "metadata": {},
   "outputs": [
    {
     "data": {
      "text/html": [
       "<div>\n",
       "<style scoped>\n",
       "    .dataframe tbody tr th:only-of-type {\n",
       "        vertical-align: middle;\n",
       "    }\n",
       "\n",
       "    .dataframe tbody tr th {\n",
       "        vertical-align: top;\n",
       "    }\n",
       "\n",
       "    .dataframe thead th {\n",
       "        text-align: right;\n",
       "    }\n",
       "</style>\n",
       "<table border=\"1\" class=\"dataframe\">\n",
       "  <thead>\n",
       "    <tr style=\"text-align: right;\">\n",
       "      <th></th>\n",
       "      <th>manufacturers</th>\n",
       "      <th>avg</th>\n",
       "      <th>whole</th>\n",
       "      <th>larger?</th>\n",
       "    </tr>\n",
       "  </thead>\n",
       "  <tbody>\n",
       "    <tr>\n",
       "      <th>0</th>\n",
       "      <td>ATR</td>\n",
       "      <td>0.607143</td>\n",
       "      <td>0.211542</td>\n",
       "      <td>True</td>\n",
       "    </tr>\n",
       "    <tr>\n",
       "      <th>1</th>\n",
       "      <td>Lockheed Corporation</td>\n",
       "      <td>0.535714</td>\n",
       "      <td>0.211542</td>\n",
       "      <td>True</td>\n",
       "    </tr>\n",
       "    <tr>\n",
       "      <th>2</th>\n",
       "      <td>Gulfstream Aerospace</td>\n",
       "      <td>0.857143</td>\n",
       "      <td>0.211542</td>\n",
       "      <td>True</td>\n",
       "    </tr>\n",
       "    <tr>\n",
       "      <th>3</th>\n",
       "      <td>McDonnell Douglas</td>\n",
       "      <td>0.355685</td>\n",
       "      <td>0.211542</td>\n",
       "      <td>True</td>\n",
       "    </tr>\n",
       "    <tr>\n",
       "      <th>4</th>\n",
       "      <td>Cessna</td>\n",
       "      <td>0.410714</td>\n",
       "      <td>0.211542</td>\n",
       "      <td>True</td>\n",
       "    </tr>\n",
       "    <tr>\n",
       "      <th>5</th>\n",
       "      <td>Douglas Aircraft Company</td>\n",
       "      <td>0.580357</td>\n",
       "      <td>0.211542</td>\n",
       "      <td>True</td>\n",
       "    </tr>\n",
       "    <tr>\n",
       "      <th>6</th>\n",
       "      <td>Tupolev</td>\n",
       "      <td>0.321429</td>\n",
       "      <td>0.211542</td>\n",
       "      <td>True</td>\n",
       "    </tr>\n",
       "    <tr>\n",
       "      <th>7</th>\n",
       "      <td>Beechcraft</td>\n",
       "      <td>0.500000</td>\n",
       "      <td>0.211542</td>\n",
       "      <td>True</td>\n",
       "    </tr>\n",
       "    <tr>\n",
       "      <th>8</th>\n",
       "      <td>de Havilland</td>\n",
       "      <td>0.485714</td>\n",
       "      <td>0.211542</td>\n",
       "      <td>True</td>\n",
       "    </tr>\n",
       "    <tr>\n",
       "      <th>9</th>\n",
       "      <td>Airbus</td>\n",
       "      <td>0.522401</td>\n",
       "      <td>0.211542</td>\n",
       "      <td>True</td>\n",
       "    </tr>\n",
       "    <tr>\n",
       "      <th>10</th>\n",
       "      <td>Boeing</td>\n",
       "      <td>0.397143</td>\n",
       "      <td>0.211542</td>\n",
       "      <td>True</td>\n",
       "    </tr>\n",
       "    <tr>\n",
       "      <th>11</th>\n",
       "      <td>Fokker</td>\n",
       "      <td>0.428571</td>\n",
       "      <td>0.211542</td>\n",
       "      <td>True</td>\n",
       "    </tr>\n",
       "    <tr>\n",
       "      <th>12</th>\n",
       "      <td>British Aerospace</td>\n",
       "      <td>0.366071</td>\n",
       "      <td>0.211542</td>\n",
       "      <td>True</td>\n",
       "    </tr>\n",
       "    <tr>\n",
       "      <th>13</th>\n",
       "      <td>Canadair</td>\n",
       "      <td>0.723214</td>\n",
       "      <td>0.211542</td>\n",
       "      <td>True</td>\n",
       "    </tr>\n",
       "    <tr>\n",
       "      <th>14</th>\n",
       "      <td>Dassault Aviation</td>\n",
       "      <td>0.964286</td>\n",
       "      <td>0.211542</td>\n",
       "      <td>True</td>\n",
       "    </tr>\n",
       "    <tr>\n",
       "      <th>15</th>\n",
       "      <td>Saab</td>\n",
       "      <td>0.428571</td>\n",
       "      <td>0.211542</td>\n",
       "      <td>True</td>\n",
       "    </tr>\n",
       "    <tr>\n",
       "      <th>16</th>\n",
       "      <td>Embraer</td>\n",
       "      <td>0.539359</td>\n",
       "      <td>0.211542</td>\n",
       "      <td>True</td>\n",
       "    </tr>\n",
       "  </tbody>\n",
       "</table>\n",
       "</div>"
      ],
      "text/plain": [
       "               manufacturers       avg     whole  larger?\n",
       "0                        ATR  0.607143  0.211542     True\n",
       "1       Lockheed Corporation  0.535714  0.211542     True\n",
       "2       Gulfstream Aerospace  0.857143  0.211542     True\n",
       "3          McDonnell Douglas  0.355685  0.211542     True\n",
       "4                     Cessna  0.410714  0.211542     True\n",
       "5   Douglas Aircraft Company  0.580357  0.211542     True\n",
       "6                    Tupolev  0.321429  0.211542     True\n",
       "7                 Beechcraft  0.500000  0.211542     True\n",
       "8               de Havilland  0.485714  0.211542     True\n",
       "9                     Airbus  0.522401  0.211542     True\n",
       "10                    Boeing  0.397143  0.211542     True\n",
       "11                    Fokker  0.428571  0.211542     True\n",
       "12         British Aerospace  0.366071  0.211542     True\n",
       "13                  Canadair  0.723214  0.211542     True\n",
       "14         Dassault Aviation  0.964286  0.211542     True\n",
       "15                      Saab  0.428571  0.211542     True\n",
       "16                   Embraer  0.539359  0.211542     True"
      ]
     },
     "execution_count": 263,
     "metadata": {},
     "output_type": "execute_result"
    }
   ],
   "source": [
    "avgsim"
   ]
  },
  {
   "cell_type": "code",
   "execution_count": 264,
   "metadata": {},
   "outputs": [
    {
     "data": {
      "text/plain": [
       "17"
      ]
     },
     "execution_count": 264,
     "metadata": {},
     "output_type": "execute_result"
    }
   ],
   "source": [
    "avgsim[\"larger?\"].sum()"
   ]
  },
  {
   "cell_type": "code",
   "execution_count": 261,
   "metadata": {},
   "outputs": [],
   "source": [
    "avgpd = avg_manufacturer_df(pddf)"
   ]
  },
  {
   "cell_type": "code",
   "execution_count": 265,
   "metadata": {},
   "outputs": [],
   "source": [
    "avgpd[\"whole\"] = whole_average(pddf)\n",
    "avgpd[\"closer?\"] = avgpd[\"avg\"]<avgpd[\"whole\"]"
   ]
  },
  {
   "cell_type": "code",
   "execution_count": 266,
   "metadata": {},
   "outputs": [
    {
     "data": {
      "text/html": [
       "<div>\n",
       "<style scoped>\n",
       "    .dataframe tbody tr th:only-of-type {\n",
       "        vertical-align: middle;\n",
       "    }\n",
       "\n",
       "    .dataframe tbody tr th {\n",
       "        vertical-align: top;\n",
       "    }\n",
       "\n",
       "    .dataframe thead th {\n",
       "        text-align: right;\n",
       "    }\n",
       "</style>\n",
       "<table border=\"1\" class=\"dataframe\">\n",
       "  <thead>\n",
       "    <tr style=\"text-align: right;\">\n",
       "      <th></th>\n",
       "      <th>manufacturers</th>\n",
       "      <th>avg</th>\n",
       "      <th>whole</th>\n",
       "      <th>closer?</th>\n",
       "    </tr>\n",
       "  </thead>\n",
       "  <tbody>\n",
       "    <tr>\n",
       "      <th>0</th>\n",
       "      <td>ATR</td>\n",
       "      <td>941.369542</td>\n",
       "      <td>2437.70531</td>\n",
       "      <td>True</td>\n",
       "    </tr>\n",
       "    <tr>\n",
       "      <th>1</th>\n",
       "      <td>Lockheed Corporation</td>\n",
       "      <td>1615.385673</td>\n",
       "      <td>2437.70531</td>\n",
       "      <td>True</td>\n",
       "    </tr>\n",
       "    <tr>\n",
       "      <th>2</th>\n",
       "      <td>Gulfstream Aerospace</td>\n",
       "      <td>963.738817</td>\n",
       "      <td>2437.70531</td>\n",
       "      <td>True</td>\n",
       "    </tr>\n",
       "    <tr>\n",
       "      <th>3</th>\n",
       "      <td>McDonnell Douglas</td>\n",
       "      <td>2294.988780</td>\n",
       "      <td>2437.70531</td>\n",
       "      <td>True</td>\n",
       "    </tr>\n",
       "    <tr>\n",
       "      <th>4</th>\n",
       "      <td>Cessna</td>\n",
       "      <td>2203.575576</td>\n",
       "      <td>2437.70531</td>\n",
       "      <td>True</td>\n",
       "    </tr>\n",
       "    <tr>\n",
       "      <th>5</th>\n",
       "      <td>Douglas Aircraft Company</td>\n",
       "      <td>2451.572112</td>\n",
       "      <td>2437.70531</td>\n",
       "      <td>False</td>\n",
       "    </tr>\n",
       "    <tr>\n",
       "      <th>6</th>\n",
       "      <td>Tupolev</td>\n",
       "      <td>1056.567427</td>\n",
       "      <td>2437.70531</td>\n",
       "      <td>True</td>\n",
       "    </tr>\n",
       "    <tr>\n",
       "      <th>7</th>\n",
       "      <td>Beechcraft</td>\n",
       "      <td>1574.868853</td>\n",
       "      <td>2437.70531</td>\n",
       "      <td>True</td>\n",
       "    </tr>\n",
       "    <tr>\n",
       "      <th>8</th>\n",
       "      <td>de Havilland</td>\n",
       "      <td>2701.402261</td>\n",
       "      <td>2437.70531</td>\n",
       "      <td>False</td>\n",
       "    </tr>\n",
       "    <tr>\n",
       "      <th>9</th>\n",
       "      <td>Airbus</td>\n",
       "      <td>1793.441364</td>\n",
       "      <td>2437.70531</td>\n",
       "      <td>True</td>\n",
       "    </tr>\n",
       "    <tr>\n",
       "      <th>10</th>\n",
       "      <td>Boeing</td>\n",
       "      <td>2047.931208</td>\n",
       "      <td>2437.70531</td>\n",
       "      <td>True</td>\n",
       "    </tr>\n",
       "    <tr>\n",
       "      <th>11</th>\n",
       "      <td>Fokker</td>\n",
       "      <td>1473.696011</td>\n",
       "      <td>2437.70531</td>\n",
       "      <td>True</td>\n",
       "    </tr>\n",
       "    <tr>\n",
       "      <th>12</th>\n",
       "      <td>British Aerospace</td>\n",
       "      <td>1674.327531</td>\n",
       "      <td>2437.70531</td>\n",
       "      <td>True</td>\n",
       "    </tr>\n",
       "    <tr>\n",
       "      <th>13</th>\n",
       "      <td>Canadair</td>\n",
       "      <td>1476.381666</td>\n",
       "      <td>2437.70531</td>\n",
       "      <td>True</td>\n",
       "    </tr>\n",
       "    <tr>\n",
       "      <th>14</th>\n",
       "      <td>Dassault Aviation</td>\n",
       "      <td>884.149923</td>\n",
       "      <td>2437.70531</td>\n",
       "      <td>True</td>\n",
       "    </tr>\n",
       "    <tr>\n",
       "      <th>15</th>\n",
       "      <td>Saab</td>\n",
       "      <td>1095.754837</td>\n",
       "      <td>2437.70531</td>\n",
       "      <td>True</td>\n",
       "    </tr>\n",
       "    <tr>\n",
       "      <th>16</th>\n",
       "      <td>Embraer</td>\n",
       "      <td>2103.347007</td>\n",
       "      <td>2437.70531</td>\n",
       "      <td>True</td>\n",
       "    </tr>\n",
       "  </tbody>\n",
       "</table>\n",
       "</div>"
      ],
      "text/plain": [
       "               manufacturers          avg       whole  closer?\n",
       "0                        ATR   941.369542  2437.70531     True\n",
       "1       Lockheed Corporation  1615.385673  2437.70531     True\n",
       "2       Gulfstream Aerospace   963.738817  2437.70531     True\n",
       "3          McDonnell Douglas  2294.988780  2437.70531     True\n",
       "4                     Cessna  2203.575576  2437.70531     True\n",
       "5   Douglas Aircraft Company  2451.572112  2437.70531    False\n",
       "6                    Tupolev  1056.567427  2437.70531     True\n",
       "7                 Beechcraft  1574.868853  2437.70531     True\n",
       "8               de Havilland  2701.402261  2437.70531    False\n",
       "9                     Airbus  1793.441364  2437.70531     True\n",
       "10                    Boeing  2047.931208  2437.70531     True\n",
       "11                    Fokker  1473.696011  2437.70531     True\n",
       "12         British Aerospace  1674.327531  2437.70531     True\n",
       "13                  Canadair  1476.381666  2437.70531     True\n",
       "14         Dassault Aviation   884.149923  2437.70531     True\n",
       "15                      Saab  1095.754837  2437.70531     True\n",
       "16                   Embraer  2103.347007  2437.70531     True"
      ]
     },
     "execution_count": 266,
     "metadata": {},
     "output_type": "execute_result"
    }
   ],
   "source": [
    "avgpd"
   ]
  },
  {
   "cell_type": "code",
   "execution_count": 267,
   "metadata": {},
   "outputs": [
    {
     "data": {
      "text/plain": [
       "15"
      ]
     },
     "execution_count": 267,
     "metadata": {},
     "output_type": "execute_result"
    }
   ],
   "source": [
    "avgpd[\"closer?\"].sum()"
   ]
  },
  {
   "cell_type": "code",
   "execution_count": 268,
   "metadata": {},
   "outputs": [
    {
     "data": {
      "text/plain": [
       "0      True\n",
       "1      True\n",
       "2      True\n",
       "3      True\n",
       "4      True\n",
       "5     False\n",
       "6      True\n",
       "7      True\n",
       "8     False\n",
       "9      True\n",
       "10     True\n",
       "11     True\n",
       "12     True\n",
       "13     True\n",
       "14     True\n",
       "15     True\n",
       "16     True\n",
       "dtype: bool"
      ]
     },
     "execution_count": 268,
     "metadata": {},
     "output_type": "execute_result"
    }
   ],
   "source": [
    "avgsim[\"larger?\"] == avgpd[\"closer?\"]"
   ]
  },
  {
   "cell_type": "markdown",
   "metadata": {},
   "source": [
    "Conclusion 1:\n",
    "\n",
    "Both can basically explain similarity of variants among same manufacturer.\n",
    "\n",
    "- By PD, 15/17 average of manufacturers is closer than whole mean.\n",
    "- By ClassSim. 17/17 average of manufactuers is more similar than whole mean"
   ]
  },
  {
   "cell_type": "code",
   "execution_count": null,
   "metadata": {},
   "outputs": [],
   "source": []
  },
  {
   "cell_type": "code",
   "execution_count": null,
   "metadata": {},
   "outputs": [],
   "source": []
  },
  {
   "cell_type": "markdown",
   "metadata": {},
   "source": [
    "### How about average among families?"
   ]
  },
  {
   "cell_type": "code",
   "execution_count": 269,
   "metadata": {},
   "outputs": [],
   "source": [
    "one_variant_families = [fam for fam in families_to_id_dict.keys() if len(one_family_to_variants(fam)) == 1]"
   ]
  },
  {
   "cell_type": "code",
   "execution_count": null,
   "metadata": {},
   "outputs": [],
   "source": []
  },
  {
   "cell_type": "code",
   "execution_count": 270,
   "metadata": {},
   "outputs": [
    {
     "data": {
      "text/plain": [
       "54"
      ]
     },
     "execution_count": 270,
     "metadata": {},
     "output_type": "execute_result"
    }
   ],
   "source": [
    "len(one_variant_families)"
   ]
  },
  {
   "cell_type": "code",
   "execution_count": 271,
   "metadata": {},
   "outputs": [
    {
     "data": {
      "text/plain": [
       "70"
      ]
     },
     "execution_count": 271,
     "metadata": {},
     "output_type": "execute_result"
    }
   ],
   "source": [
    "len(families_to_id_dict.keys())"
   ]
  },
  {
   "cell_type": "code",
   "execution_count": 272,
   "metadata": {},
   "outputs": [
    {
     "data": {
      "text/plain": [
       "['A330',\n",
       " 'Boeing 767',\n",
       " 'Cessna Citation',\n",
       " 'A340',\n",
       " 'Boeing 737',\n",
       " 'Embraer E-Jet',\n",
       " 'MD-80',\n",
       " 'Dash 8',\n",
       " 'Boeing 747',\n",
       " 'Boeing 757',\n",
       " 'Boeing 777',\n",
       " 'BAE 146',\n",
       " 'Embraer ERJ 145',\n",
       " 'Gulfstream',\n",
       " 'A320',\n",
       " 'CRJ-700']"
      ]
     },
     "execution_count": 272,
     "metadata": {},
     "output_type": "execute_result"
    }
   ],
   "source": [
    "[fam for fam in families_to_id_dict if fam not in one_variant_families]"
   ]
  },
  {
   "cell_type": "code",
   "execution_count": 273,
   "metadata": {},
   "outputs": [
    {
     "data": {
      "text/plain": [
       "['27', '28']"
      ]
     },
     "execution_count": 273,
     "metadata": {},
     "output_type": "execute_result"
    }
   ],
   "source": [
    "family_to_variants_ids(\"A330\")"
   ]
  },
  {
   "cell_type": "code",
   "execution_count": 274,
   "metadata": {},
   "outputs": [],
   "source": [
    "def avg_family_df(df):\n",
    "    avg_pair = [(fam, average_distance(df, family_to_variants_ids(fam))) for fam in families_to_id_dict.keys() if fam not in one_variant_families]\n",
    "    return pd.DataFrame({\"family\":[fam for fam,_ in avg_pair], \"avg\": [avg for _,avg in avg_pair]})[[\"family\",\"avg\"]]"
   ]
  },
  {
   "cell_type": "code",
   "execution_count": null,
   "metadata": {},
   "outputs": [],
   "source": []
  },
  {
   "cell_type": "code",
   "execution_count": 275,
   "metadata": {},
   "outputs": [],
   "source": [
    "avg_fam_sim = avg_family_df(simdf)"
   ]
  },
  {
   "cell_type": "code",
   "execution_count": 276,
   "metadata": {},
   "outputs": [],
   "source": [
    "avg_fam_sim[\"whole\"] = whole_average(simdf)\n",
    "avg_fam_sim[\"larger?\"] = avg_fam_sim[\"avg\"]>avg_fam_sim[\"whole\"]"
   ]
  },
  {
   "cell_type": "code",
   "execution_count": null,
   "metadata": {},
   "outputs": [],
   "source": []
  },
  {
   "cell_type": "code",
   "execution_count": 281,
   "metadata": {},
   "outputs": [
    {
     "data": {
      "text/html": [
       "<div>\n",
       "<style scoped>\n",
       "    .dataframe tbody tr th:only-of-type {\n",
       "        vertical-align: middle;\n",
       "    }\n",
       "\n",
       "    .dataframe tbody tr th {\n",
       "        vertical-align: top;\n",
       "    }\n",
       "\n",
       "    .dataframe thead th {\n",
       "        text-align: right;\n",
       "    }\n",
       "</style>\n",
       "<table border=\"1\" class=\"dataframe\">\n",
       "  <thead>\n",
       "    <tr style=\"text-align: right;\">\n",
       "      <th></th>\n",
       "      <th>family</th>\n",
       "      <th>avg</th>\n",
       "      <th>whole</th>\n",
       "      <th>larger?</th>\n",
       "    </tr>\n",
       "  </thead>\n",
       "  <tbody>\n",
       "    <tr>\n",
       "      <th>0</th>\n",
       "      <td>A330</td>\n",
       "      <td>0.785714</td>\n",
       "      <td>0.211542</td>\n",
       "      <td>True</td>\n",
       "    </tr>\n",
       "    <tr>\n",
       "      <th>1</th>\n",
       "      <td>Boeing 767</td>\n",
       "      <td>0.777778</td>\n",
       "      <td>0.211542</td>\n",
       "      <td>True</td>\n",
       "    </tr>\n",
       "    <tr>\n",
       "      <th>2</th>\n",
       "      <td>Cessna Citation</td>\n",
       "      <td>0.607143</td>\n",
       "      <td>0.211542</td>\n",
       "      <td>True</td>\n",
       "    </tr>\n",
       "    <tr>\n",
       "      <th>3</th>\n",
       "      <td>A340</td>\n",
       "      <td>0.723214</td>\n",
       "      <td>0.211542</td>\n",
       "      <td>True</td>\n",
       "    </tr>\n",
       "    <tr>\n",
       "      <th>4</th>\n",
       "      <td>Boeing 737</td>\n",
       "      <td>0.688776</td>\n",
       "      <td>0.211542</td>\n",
       "      <td>True</td>\n",
       "    </tr>\n",
       "    <tr>\n",
       "      <th>5</th>\n",
       "      <td>Embraer E-Jet</td>\n",
       "      <td>0.809524</td>\n",
       "      <td>0.211542</td>\n",
       "      <td>True</td>\n",
       "    </tr>\n",
       "    <tr>\n",
       "      <th>6</th>\n",
       "      <td>MD-80</td>\n",
       "      <td>0.714286</td>\n",
       "      <td>0.211542</td>\n",
       "      <td>True</td>\n",
       "    </tr>\n",
       "    <tr>\n",
       "      <th>7</th>\n",
       "      <td>Dash 8</td>\n",
       "      <td>0.464286</td>\n",
       "      <td>0.211542</td>\n",
       "      <td>True</td>\n",
       "    </tr>\n",
       "    <tr>\n",
       "      <th>8</th>\n",
       "      <td>Boeing 747</td>\n",
       "      <td>0.571429</td>\n",
       "      <td>0.211542</td>\n",
       "      <td>True</td>\n",
       "    </tr>\n",
       "    <tr>\n",
       "      <th>9</th>\n",
       "      <td>Boeing 757</td>\n",
       "      <td>0.678571</td>\n",
       "      <td>0.211542</td>\n",
       "      <td>True</td>\n",
       "    </tr>\n",
       "    <tr>\n",
       "      <th>10</th>\n",
       "      <td>Boeing 777</td>\n",
       "      <td>0.642857</td>\n",
       "      <td>0.211542</td>\n",
       "      <td>True</td>\n",
       "    </tr>\n",
       "    <tr>\n",
       "      <th>11</th>\n",
       "      <td>BAE 146</td>\n",
       "      <td>0.821429</td>\n",
       "      <td>0.211542</td>\n",
       "      <td>True</td>\n",
       "    </tr>\n",
       "    <tr>\n",
       "      <th>12</th>\n",
       "      <td>Embraer ERJ 145</td>\n",
       "      <td>0.928571</td>\n",
       "      <td>0.211542</td>\n",
       "      <td>True</td>\n",
       "    </tr>\n",
       "    <tr>\n",
       "      <th>13</th>\n",
       "      <td>Gulfstream</td>\n",
       "      <td>0.857143</td>\n",
       "      <td>0.211542</td>\n",
       "      <td>True</td>\n",
       "    </tr>\n",
       "    <tr>\n",
       "      <th>14</th>\n",
       "      <td>A320</td>\n",
       "      <td>0.812500</td>\n",
       "      <td>0.211542</td>\n",
       "      <td>True</td>\n",
       "    </tr>\n",
       "    <tr>\n",
       "      <th>15</th>\n",
       "      <td>CRJ-700</td>\n",
       "      <td>0.964286</td>\n",
       "      <td>0.211542</td>\n",
       "      <td>True</td>\n",
       "    </tr>\n",
       "  </tbody>\n",
       "</table>\n",
       "</div>"
      ],
      "text/plain": [
       "             family       avg     whole  larger?\n",
       "0              A330  0.785714  0.211542     True\n",
       "1        Boeing 767  0.777778  0.211542     True\n",
       "2   Cessna Citation  0.607143  0.211542     True\n",
       "3              A340  0.723214  0.211542     True\n",
       "4        Boeing 737  0.688776  0.211542     True\n",
       "5     Embraer E-Jet  0.809524  0.211542     True\n",
       "6             MD-80  0.714286  0.211542     True\n",
       "7            Dash 8  0.464286  0.211542     True\n",
       "8        Boeing 747  0.571429  0.211542     True\n",
       "9        Boeing 757  0.678571  0.211542     True\n",
       "10       Boeing 777  0.642857  0.211542     True\n",
       "11          BAE 146  0.821429  0.211542     True\n",
       "12  Embraer ERJ 145  0.928571  0.211542     True\n",
       "13       Gulfstream  0.857143  0.211542     True\n",
       "14             A320  0.812500  0.211542     True\n",
       "15          CRJ-700  0.964286  0.211542     True"
      ]
     },
     "execution_count": 281,
     "metadata": {},
     "output_type": "execute_result"
    }
   ],
   "source": [
    "avg_fam_sim"
   ]
  },
  {
   "cell_type": "code",
   "execution_count": 282,
   "metadata": {},
   "outputs": [],
   "source": [
    "avg_fam_pd = avg_family_df(pddf)"
   ]
  },
  {
   "cell_type": "code",
   "execution_count": 283,
   "metadata": {},
   "outputs": [],
   "source": [
    "avg_fam_pd[\"whole\"] = whole_average(pddf)\n",
    "avg_fam_pd[\"closer?\"] = avg_fam_pd[\"avg\"]<avg_fam_pd[\"whole\"]"
   ]
  },
  {
   "cell_type": "code",
   "execution_count": 284,
   "metadata": {},
   "outputs": [
    {
     "data": {
      "text/html": [
       "<div>\n",
       "<style scoped>\n",
       "    .dataframe tbody tr th:only-of-type {\n",
       "        vertical-align: middle;\n",
       "    }\n",
       "\n",
       "    .dataframe tbody tr th {\n",
       "        vertical-align: top;\n",
       "    }\n",
       "\n",
       "    .dataframe thead th {\n",
       "        text-align: right;\n",
       "    }\n",
       "</style>\n",
       "<table border=\"1\" class=\"dataframe\">\n",
       "  <thead>\n",
       "    <tr style=\"text-align: right;\">\n",
       "      <th></th>\n",
       "      <th>family</th>\n",
       "      <th>avg</th>\n",
       "      <th>whole</th>\n",
       "      <th>closer?</th>\n",
       "    </tr>\n",
       "  </thead>\n",
       "  <tbody>\n",
       "    <tr>\n",
       "      <th>0</th>\n",
       "      <td>A330</td>\n",
       "      <td>815.631849</td>\n",
       "      <td>2437.70531</td>\n",
       "      <td>True</td>\n",
       "    </tr>\n",
       "    <tr>\n",
       "      <th>1</th>\n",
       "      <td>Boeing 767</td>\n",
       "      <td>1289.046835</td>\n",
       "      <td>2437.70531</td>\n",
       "      <td>True</td>\n",
       "    </tr>\n",
       "    <tr>\n",
       "      <th>2</th>\n",
       "      <td>Cessna Citation</td>\n",
       "      <td>1189.884357</td>\n",
       "      <td>2437.70531</td>\n",
       "      <td>True</td>\n",
       "    </tr>\n",
       "    <tr>\n",
       "      <th>3</th>\n",
       "      <td>A340</td>\n",
       "      <td>1232.226903</td>\n",
       "      <td>2437.70531</td>\n",
       "      <td>True</td>\n",
       "    </tr>\n",
       "    <tr>\n",
       "      <th>4</th>\n",
       "      <td>Boeing 737</td>\n",
       "      <td>2201.989026</td>\n",
       "      <td>2437.70531</td>\n",
       "      <td>True</td>\n",
       "    </tr>\n",
       "    <tr>\n",
       "      <th>5</th>\n",
       "      <td>Embraer E-Jet</td>\n",
       "      <td>1302.018526</td>\n",
       "      <td>2437.70531</td>\n",
       "      <td>True</td>\n",
       "    </tr>\n",
       "    <tr>\n",
       "      <th>6</th>\n",
       "      <td>MD-80</td>\n",
       "      <td>1013.910031</td>\n",
       "      <td>2437.70531</td>\n",
       "      <td>True</td>\n",
       "    </tr>\n",
       "    <tr>\n",
       "      <th>7</th>\n",
       "      <td>Dash 8</td>\n",
       "      <td>1414.531627</td>\n",
       "      <td>2437.70531</td>\n",
       "      <td>True</td>\n",
       "    </tr>\n",
       "    <tr>\n",
       "      <th>8</th>\n",
       "      <td>Boeing 747</td>\n",
       "      <td>1586.966396</td>\n",
       "      <td>2437.70531</td>\n",
       "      <td>True</td>\n",
       "    </tr>\n",
       "    <tr>\n",
       "      <th>9</th>\n",
       "      <td>Boeing 757</td>\n",
       "      <td>1053.980489</td>\n",
       "      <td>2437.70531</td>\n",
       "      <td>True</td>\n",
       "    </tr>\n",
       "    <tr>\n",
       "      <th>10</th>\n",
       "      <td>Boeing 777</td>\n",
       "      <td>876.882160</td>\n",
       "      <td>2437.70531</td>\n",
       "      <td>True</td>\n",
       "    </tr>\n",
       "    <tr>\n",
       "      <th>11</th>\n",
       "      <td>BAE 146</td>\n",
       "      <td>955.858064</td>\n",
       "      <td>2437.70531</td>\n",
       "      <td>True</td>\n",
       "    </tr>\n",
       "    <tr>\n",
       "      <th>12</th>\n",
       "      <td>Embraer ERJ 145</td>\n",
       "      <td>958.289202</td>\n",
       "      <td>2437.70531</td>\n",
       "      <td>True</td>\n",
       "    </tr>\n",
       "    <tr>\n",
       "      <th>13</th>\n",
       "      <td>Gulfstream</td>\n",
       "      <td>963.738817</td>\n",
       "      <td>2437.70531</td>\n",
       "      <td>True</td>\n",
       "    </tr>\n",
       "    <tr>\n",
       "      <th>14</th>\n",
       "      <td>A320</td>\n",
       "      <td>1620.795496</td>\n",
       "      <td>2437.70531</td>\n",
       "      <td>True</td>\n",
       "    </tr>\n",
       "    <tr>\n",
       "      <th>15</th>\n",
       "      <td>CRJ-700</td>\n",
       "      <td>957.833054</td>\n",
       "      <td>2437.70531</td>\n",
       "      <td>True</td>\n",
       "    </tr>\n",
       "  </tbody>\n",
       "</table>\n",
       "</div>"
      ],
      "text/plain": [
       "             family          avg       whole  closer?\n",
       "0              A330   815.631849  2437.70531     True\n",
       "1        Boeing 767  1289.046835  2437.70531     True\n",
       "2   Cessna Citation  1189.884357  2437.70531     True\n",
       "3              A340  1232.226903  2437.70531     True\n",
       "4        Boeing 737  2201.989026  2437.70531     True\n",
       "5     Embraer E-Jet  1302.018526  2437.70531     True\n",
       "6             MD-80  1013.910031  2437.70531     True\n",
       "7            Dash 8  1414.531627  2437.70531     True\n",
       "8        Boeing 747  1586.966396  2437.70531     True\n",
       "9        Boeing 757  1053.980489  2437.70531     True\n",
       "10       Boeing 777   876.882160  2437.70531     True\n",
       "11          BAE 146   955.858064  2437.70531     True\n",
       "12  Embraer ERJ 145   958.289202  2437.70531     True\n",
       "13       Gulfstream   963.738817  2437.70531     True\n",
       "14             A320  1620.795496  2437.70531     True\n",
       "15          CRJ-700   957.833054  2437.70531     True"
      ]
     },
     "execution_count": 284,
     "metadata": {},
     "output_type": "execute_result"
    }
   ],
   "source": [
    "avg_fam_pd"
   ]
  },
  {
   "cell_type": "markdown",
   "metadata": {},
   "source": [
    "Conclusion2: Same family is very similar."
   ]
  },
  {
   "cell_type": "code",
   "execution_count": null,
   "metadata": {},
   "outputs": [],
   "source": []
  },
  {
   "cell_type": "code",
   "execution_count": null,
   "metadata": {},
   "outputs": [],
   "source": []
  }
 ],
 "metadata": {
  "kernelspec": {
   "display_name": "Python 3",
   "language": "python",
   "name": "python3"
  },
  "language_info": {
   "codemirror_mode": {
    "name": "ipython",
    "version": 3
   },
   "file_extension": ".py",
   "mimetype": "text/x-python",
   "name": "python",
   "nbconvert_exporter": "python",
   "pygments_lexer": "ipython3",
   "version": "3.5.2"
  }
 },
 "nbformat": 4,
 "nbformat_minor": 2
}
