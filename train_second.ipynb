{
 "cells": [
  {
   "cell_type": "markdown",
   "metadata": {},
   "source": [
    "# Train second level classifier"
   ]
  },
  {
   "cell_type": "code",
   "execution_count": 1,
   "metadata": {},
   "outputs": [],
   "source": [
    "import os\n",
    "import sys\n",
    "\n",
    "import numpy as np\n",
    "\n",
    "import pandas as pd\n",
    "import glob"
   ]
  },
  {
   "cell_type": "code",
   "execution_count": null,
   "metadata": {},
   "outputs": [],
   "source": []
  },
  {
   "cell_type": "code",
   "execution_count": null,
   "metadata": {},
   "outputs": [],
   "source": []
  },
  {
   "cell_type": "code",
   "execution_count": null,
   "metadata": {},
   "outputs": [],
   "source": []
  },
  {
   "cell_type": "code",
   "execution_count": 2,
   "metadata": {},
   "outputs": [],
   "source": [
    "BASE_MODEL_PATH=\"trained_model\"\n",
    "%mkdir -p $BASE_MODEL_PATH"
   ]
  },
  {
   "cell_type": "code",
   "execution_count": null,
   "metadata": {},
   "outputs": [],
   "source": []
  },
  {
   "cell_type": "code",
   "execution_count": 3,
   "metadata": {},
   "outputs": [
    {
     "name": "stderr",
     "output_type": "stream",
     "text": [
      "Using TensorFlow backend.\n"
     ]
    }
   ],
   "source": [
    "from models.modelutils import ModelCompiler"
   ]
  },
  {
   "cell_type": "code",
   "execution_count": 4,
   "metadata": {},
   "outputs": [],
   "source": [
    "compiler = ModelCompiler(BASE_MODEL_PATH)"
   ]
  },
  {
   "cell_type": "code",
   "execution_count": null,
   "metadata": {},
   "outputs": [],
   "source": []
  },
  {
   "cell_type": "code",
   "execution_count": null,
   "metadata": {},
   "outputs": [],
   "source": []
  },
  {
   "cell_type": "code",
   "execution_count": 5,
   "metadata": {},
   "outputs": [],
   "source": [
    "from models.processor import create_generators\n",
    "\n",
    "TRAIN_DATAGEN, VALID_DATAGEN = create_generators()"
   ]
  },
  {
   "cell_type": "code",
   "execution_count": null,
   "metadata": {},
   "outputs": [],
   "source": []
  },
  {
   "cell_type": "code",
   "execution_count": 6,
   "metadata": {},
   "outputs": [],
   "source": [
    "from models.modelutils import dir2filedict, split_fdict\n",
    "import random"
   ]
  },
  {
   "cell_type": "code",
   "execution_count": null,
   "metadata": {},
   "outputs": [],
   "source": []
  },
  {
   "cell_type": "code",
   "execution_count": 7,
   "metadata": {},
   "outputs": [],
   "source": [
    "fdict = dir2filedict(\"data\")"
   ]
  },
  {
   "cell_type": "code",
   "execution_count": 8,
   "metadata": {},
   "outputs": [],
   "source": [
    "categories = sorted(fdict.keys())"
   ]
  },
  {
   "cell_type": "code",
   "execution_count": null,
   "metadata": {},
   "outputs": [],
   "source": []
  },
  {
   "cell_type": "code",
   "execution_count": 9,
   "metadata": {},
   "outputs": [],
   "source": [
    "random.seed(123)\n",
    "trdict, valdict = split_fdict(fdict)"
   ]
  },
  {
   "cell_type": "code",
   "execution_count": null,
   "metadata": {},
   "outputs": [],
   "source": []
  },
  {
   "cell_type": "code",
   "execution_count": 10,
   "metadata": {},
   "outputs": [],
   "source": [
    "from models.one_vs_all import OneVsAllModelTrainer\n",
    "from models.modelutils import split_files"
   ]
  },
  {
   "cell_type": "code",
   "execution_count": null,
   "metadata": {},
   "outputs": [],
   "source": []
  },
  {
   "cell_type": "code",
   "execution_count": 11,
   "metadata": {},
   "outputs": [],
   "source": [
    "trainer = OneVsAllModelTrainer(TRAIN_DATAGEN, VALID_DATAGEN)"
   ]
  },
  {
   "cell_type": "code",
   "execution_count": null,
   "metadata": {},
   "outputs": [],
   "source": []
  },
  {
   "cell_type": "code",
   "execution_count": 12,
   "metadata": {},
   "outputs": [],
   "source": [
    "from models.one_vs_all import FilesPair, TrValFiles"
   ]
  },
  {
   "cell_type": "code",
   "execution_count": 13,
   "metadata": {},
   "outputs": [],
   "source": [
    "class SecondLevelModelTrainer:\n",
    "    def __init__(self, base_model_name, basedir, trainer, compiler):\n",
    "        self.base_model_name = base_model_name\n",
    "        self.basedir = basedir\n",
    "\n",
    "        self.compiler = compiler\n",
    "        self.trainer = trainer\n",
    "    def setup_filedict(self, train_files_dict, valid_files_dict):\n",
    "        self.train_files_dict = train_files_dict\n",
    "        self.valid_files_dict = valid_files_dict\n",
    "        self.valid_files_dict_org = self.valid_files_dict\n",
    "    def _model_path(self, target_key):\n",
    "        return os.path.join(self.basedir, \"{}_{}\".format(self.base_model_name, target_key))\n",
    "    def _split_by_set(self, target_key, false_keyset, files_dict):\n",
    "        trues = files_dict[target_key]\n",
    "        falses = [path for key in false_keyset for path in files_dict[key]]\n",
    "        return FilesPair(trues, falses)\n",
    "    def _split_files(self, targetkey, files_dict):\n",
    "        return FilesPair(*split_files(targetkey, files_dict))\n",
    "    def train_second_level(self, target_key, highcat_keyset, eachepochs=10, retrainings=1, removecheckpoint=True):\n",
    "        self.trainer.retrainings = retrainings\n",
    "        falseset = highcat_keyset - set(target_key)\n",
    "        trs = self._split_by_set(target_key, falseset, self.train_files_dict)\n",
    "        vals = self._split_by_set(target_key, falseset, self.valid_files_dict)\n",
    "        trvals = TrValFiles(trs, vals)\n",
    "        self._train_one_core(\"sec_\"+target_key, trvals, eachepochs, removecheckpoint)\n",
    "        \n",
    "    def _train_one_setup(self, model_key, trvals):\n",
    "        model_save_path = self._model_path(model_key)\n",
    "\n",
    "        model = self.compiler.generate_compiled_model(model_save_path)\n",
    "        self.trainer.set_model(model)\n",
    "        self.trainer.set_savepath(model_save_path)\n",
    "        self.trainer.set_dataset(trvals)\n",
    "\n",
    "\n",
    "    def _train_one_core(self, model_key, trvals, eachepochs, removecheckpoint):\n",
    "        self._train_one_setup(model_key, trvals)\n",
    "\n",
    "        self.trainer.train_model(eachepochs=eachepochs)\n",
    "        if removecheckpoint:\n",
    "            self.trainer.remove_checkpoint()\n",
    "\n",
    "    def remove_checkpoint(self, model_key):\n",
    "        # utility method for cleaup interrupted case\n",
    "        self.trainer.set_savepath(self._model_path(model_key))\n",
    "        self.trainer.remove_checkpoint()\n",
    "\n"
   ]
  },
  {
   "cell_type": "code",
   "execution_count": null,
   "metadata": {},
   "outputs": [],
   "source": []
  },
  {
   "cell_type": "code",
   "execution_count": 14,
   "metadata": {},
   "outputs": [],
   "source": [
    "sec_trainer = SecondLevelModelTrainer(\"model\", BASE_MODEL_PATH, trainer, compiler)"
   ]
  },
  {
   "cell_type": "code",
   "execution_count": 15,
   "metadata": {},
   "outputs": [],
   "source": [
    "sec_trainer.setup_filedict(trdict, valdict)"
   ]
  },
  {
   "cell_type": "code",
   "execution_count": null,
   "metadata": {},
   "outputs": [],
   "source": []
  },
  {
   "cell_type": "code",
   "execution_count": null,
   "metadata": {},
   "outputs": [],
   "source": []
  },
  {
   "cell_type": "code",
   "execution_count": 16,
   "metadata": {},
   "outputs": [],
   "source": [
    "classsim = pd.read_pickle(\"results/valid_sim_df.dat\")"
   ]
  },
  {
   "cell_type": "code",
   "execution_count": 17,
   "metadata": {},
   "outputs": [],
   "source": [
    "SIM_THRESHOLD = 0.1"
   ]
  },
  {
   "cell_type": "code",
   "execution_count": 18,
   "metadata": {},
   "outputs": [],
   "source": [
    "def train_seconds(keys, eachepochs=5):\n",
    "    for targetkey in keys:\n",
    "        similarkeyset = set(classsim[targetkey][classsim[targetkey] >= SIM_THRESHOLD].index)\n",
    "        try:\n",
    "            if len(similarkeyset) == 1:\n",
    "                print(\"no similar category. only first classifier is enough. skip second training.\")\n",
    "            else:\n",
    "                sec_trainer.train_second_level(targetkey, similarkeyset,  eachepochs=eachepochs)\n",
    "        except ValueError as e:\n",
    "            print(\"ValueError, skip {0}: {1}\".format(targetkey, e))"
   ]
  },
  {
   "cell_type": "code",
   "execution_count": null,
   "metadata": {},
   "outputs": [],
   "source": []
  },
  {
   "cell_type": "code",
   "execution_count": 19,
   "metadata": {},
   "outputs": [
    {
     "name": "stdout",
     "output_type": "stream",
     "text": [
      "Epoch 1/2\n",
      "10/98 [==>...........................] - ETA: 3:03 - loss: 0.7239 - acc: 0.5250"
     ]
    },
    {
     "name": "stderr",
     "output_type": "stream",
     "text": [
      "/usr/local/lib/python3.5/dist-packages/PIL/TiffImagePlugin.py:725: UserWarning: Possibly corrupt EXIF data.  Expecting to read 1441814 bytes but only got 0. Skipping tag 33\n",
      "  \" Skipping tag %s\" % (size, len(data), tag))\n",
      "/usr/local/lib/python3.5/dist-packages/PIL/TiffImagePlugin.py:725: UserWarning: Possibly corrupt EXIF data.  Expecting to read 428 bytes but only got 0. Skipping tag 0\n",
      "  \" Skipping tag %s\" % (size, len(data), tag))\n",
      "/usr/local/lib/python3.5/dist-packages/PIL/TiffImagePlugin.py:725: UserWarning: Possibly corrupt EXIF data.  Expecting to read 196608 bytes but only got 0. Skipping tag 60\n",
      "  \" Skipping tag %s\" % (size, len(data), tag))\n",
      "/usr/local/lib/python3.5/dist-packages/PIL/TiffImagePlugin.py:725: UserWarning: Possibly corrupt EXIF data.  Expecting to read 196608 bytes but only got 0. Skipping tag 0\n",
      "  \" Skipping tag %s\" % (size, len(data), tag))\n",
      "/usr/local/lib/python3.5/dist-packages/PIL/TiffImagePlugin.py:725: UserWarning: Possibly corrupt EXIF data.  Expecting to read 524288 bytes but only got 0. Skipping tag 240\n",
      "  \" Skipping tag %s\" % (size, len(data), tag))\n",
      "/usr/local/lib/python3.5/dist-packages/PIL/TiffImagePlugin.py:725: UserWarning: Possibly corrupt EXIF data.  Expecting to read 1048576 bytes but only got 0. Skipping tag 17873\n",
      "  \" Skipping tag %s\" % (size, len(data), tag))\n",
      "/usr/local/lib/python3.5/dist-packages/PIL/TiffImagePlugin.py:725: UserWarning: Possibly corrupt EXIF data.  Expecting to read 2097152 bytes but only got 0. Skipping tag 1860\n",
      "  \" Skipping tag %s\" % (size, len(data), tag))\n",
      "/usr/local/lib/python3.5/dist-packages/PIL/TiffImagePlugin.py:725: UserWarning: Possibly corrupt EXIF data.  Expecting to read 458752 bytes but only got 0. Skipping tag 10864\n",
      "  \" Skipping tag %s\" % (size, len(data), tag))\n",
      "/usr/local/lib/python3.5/dist-packages/PIL/TiffImagePlugin.py:725: UserWarning: Possibly corrupt EXIF data.  Expecting to read 458752 bytes but only got 0. Skipping tag 257\n",
      "  \" Skipping tag %s\" % (size, len(data), tag))\n",
      "/usr/local/lib/python3.5/dist-packages/PIL/TiffImagePlugin.py:725: UserWarning: Possibly corrupt EXIF data.  Expecting to read 393216 bytes but only got 0. Skipping tag 9216\n",
      "  \" Skipping tag %s\" % (size, len(data), tag))\n",
      "/usr/local/lib/python3.5/dist-packages/PIL/TiffImagePlugin.py:725: UserWarning: Possibly corrupt EXIF data.  Expecting to read 786432 bytes but only got 0. Skipping tag 0\n",
      "  \" Skipping tag %s\" % (size, len(data), tag))\n",
      "/usr/local/lib/python3.5/dist-packages/PIL/TiffImagePlugin.py:725: UserWarning: Possibly corrupt EXIF data.  Expecting to read 1572864 bytes but only got 0. Skipping tag 0\n",
      "  \" Skipping tag %s\" % (size, len(data), tag))\n",
      "/usr/local/lib/python3.5/dist-packages/PIL/TiffImagePlugin.py:725: UserWarning: Possibly corrupt EXIF data.  Expecting to read 33752069 bytes but only got 0. Skipping tag 0\n",
      "  \" Skipping tag %s\" % (size, len(data), tag))\n",
      "/usr/local/lib/python3.5/dist-packages/PIL/TiffImagePlugin.py:725: UserWarning: Possibly corrupt EXIF data.  Expecting to read 282 bytes but only got 0. Skipping tag 1\n",
      "  \" Skipping tag %s\" % (size, len(data), tag))\n",
      "/usr/local/lib/python3.5/dist-packages/PIL/TiffImagePlugin.py:725: UserWarning: Possibly corrupt EXIF data.  Expecting to read 513 bytes but only got 0. Skipping tag 1\n",
      "  \" Skipping tag %s\" % (size, len(data), tag))\n",
      "/usr/local/lib/python3.5/dist-packages/PIL/TiffImagePlugin.py:742: UserWarning: Corrupt EXIF data.  Expecting to read 12 bytes but only got 8. \n",
      "  warnings.warn(str(msg))\n"
     ]
    },
    {
     "name": "stdout",
     "output_type": "stream",
     "text": [
      "54/98 [===============>..............] - ETA: 1:09 - loss: 0.7262 - acc: 0.5590"
     ]
    },
    {
     "name": "stderr",
     "output_type": "stream",
     "text": [
      "/usr/local/lib/python3.5/dist-packages/PIL/TiffImagePlugin.py:725: UserWarning: Possibly corrupt EXIF data.  Expecting to read 80000 bytes but only got 0. Skipping tag 64640\n",
      "  \" Skipping tag %s\" % (size, len(data), tag))\n",
      "/usr/local/lib/python3.5/dist-packages/PIL/TiffImagePlugin.py:725: UserWarning: Possibly corrupt EXIF data.  Expecting to read 3368026112 bytes but only got 0. Skipping tag 7\n",
      "  \" Skipping tag %s\" % (size, len(data), tag))\n",
      "/usr/local/lib/python3.5/dist-packages/PIL/TiffImagePlugin.py:725: UserWarning: Possibly corrupt EXIF data.  Expecting to read 134479872 bytes but only got 0. Skipping tag 7\n",
      "  \" Skipping tag %s\" % (size, len(data), tag))\n",
      "/usr/local/lib/python3.5/dist-packages/PIL/TiffImagePlugin.py:725: UserWarning: Possibly corrupt EXIF data.  Expecting to read 4294901760 bytes but only got 0. Skipping tag 4\n",
      "  \" Skipping tag %s\" % (size, len(data), tag))\n",
      "/usr/local/lib/python3.5/dist-packages/PIL/TiffImagePlugin.py:725: UserWarning: Possibly corrupt EXIF data.  Expecting to read 458752 bytes but only got 0. Skipping tag 3\n",
      "  \" Skipping tag %s\" % (size, len(data), tag))\n",
      "/usr/local/lib/python3.5/dist-packages/PIL/TiffImagePlugin.py:725: UserWarning: Possibly corrupt EXIF data.  Expecting to read 3300917248 bytes but only got 0. Skipping tag 7\n",
      "  \" Skipping tag %s\" % (size, len(data), tag))\n",
      "/usr/local/lib/python3.5/dist-packages/PIL/TiffImagePlugin.py:725: UserWarning: Possibly corrupt EXIF data.  Expecting to read 65536 bytes but only got 0. Skipping tag 3\n",
      "  \" Skipping tag %s\" % (size, len(data), tag))\n",
      "/usr/local/lib/python3.5/dist-packages/PIL/TiffImagePlugin.py:725: UserWarning: Possibly corrupt EXIF data.  Expecting to read 119144448 bytes but only got 0. Skipping tag 4\n",
      "  \" Skipping tag %s\" % (size, len(data), tag))\n",
      "/usr/local/lib/python3.5/dist-packages/PIL/TiffImagePlugin.py:725: UserWarning: Possibly corrupt EXIF data.  Expecting to read 80478208 bytes but only got 0. Skipping tag 4\n",
      "  \" Skipping tag %s\" % (size, len(data), tag))\n",
      "/usr/local/lib/python3.5/dist-packages/PIL/TiffImagePlugin.py:725: UserWarning: Possibly corrupt EXIF data.  Expecting to read 36175872 bytes but only got 0. Skipping tag 4\n",
      "  \" Skipping tag %s\" % (size, len(data), tag))\n",
      "/usr/local/lib/python3.5/dist-packages/PIL/TiffImagePlugin.py:725: UserWarning: Possibly corrupt EXIF data.  Expecting to read 196608 bytes but only got 0. Skipping tag 7\n",
      "  \" Skipping tag %s\" % (size, len(data), tag))\n",
      "/usr/local/lib/python3.5/dist-packages/PIL/TiffImagePlugin.py:725: UserWarning: Possibly corrupt EXIF data.  Expecting to read 65536 bytes but only got 6462. Skipping tag 7\n",
      "  \" Skipping tag %s\" % (size, len(data), tag))\n",
      "/usr/local/lib/python3.5/dist-packages/PIL/TiffImagePlugin.py:725: UserWarning: Possibly corrupt EXIF data.  Expecting to read 131073 bytes but only got 6458. Skipping tag 0\n",
      "  \" Skipping tag %s\" % (size, len(data), tag))\n",
      "/usr/local/lib/python3.5/dist-packages/PIL/TiffImagePlugin.py:725: UserWarning: Possibly corrupt EXIF data.  Expecting to read 393216 bytes but only got 0. Skipping tag 3\n",
      "  \" Skipping tag %s\" % (size, len(data), tag))\n",
      "/usr/local/lib/python3.5/dist-packages/PIL/TiffImagePlugin.py:725: UserWarning: Possibly corrupt EXIF data.  Expecting to read 44040192 bytes but only got 0. Skipping tag 5\n",
      "  \" Skipping tag %s\" % (size, len(data), tag))\n",
      "/usr/local/lib/python3.5/dist-packages/PIL/TiffImagePlugin.py:725: UserWarning: Possibly corrupt EXIF data.  Expecting to read 44564480 bytes but only got 0. Skipping tag 5\n",
      "  \" Skipping tag %s\" % (size, len(data), tag))\n",
      "/usr/local/lib/python3.5/dist-packages/PIL/TiffImagePlugin.py:725: UserWarning: Possibly corrupt EXIF data.  Expecting to read 131072 bytes but only got 0. Skipping tag 3\n",
      "  \" Skipping tag %s\" % (size, len(data), tag))\n",
      "/usr/local/lib/python3.5/dist-packages/PIL/TiffImagePlugin.py:725: UserWarning: Possibly corrupt EXIF data.  Expecting to read 45088768 bytes but only got 0. Skipping tag 4\n",
      "  \" Skipping tag %s\" % (size, len(data), tag))\n",
      "/usr/local/lib/python3.5/dist-packages/PIL/TiffImagePlugin.py:725: UserWarning: Possibly corrupt EXIF data.  Expecting to read 378404864 bytes but only got 6462. Skipping tag 4\n",
      "  \" Skipping tag %s\" % (size, len(data), tag))\n"
     ]
    },
    {
     "name": "stdout",
     "output_type": "stream",
     "text": [
      "68/98 [===================>..........] - ETA: 46s - loss: 0.7246 - acc: 0.5567"
     ]
    },
    {
     "name": "stderr",
     "output_type": "stream",
     "text": [
      "/usr/local/lib/python3.5/dist-packages/PIL/Image.py:2496: DecompressionBombWarning: Image size (103926732 pixels) exceeds limit of 89478485 pixels, could be decompression bomb DOS attack.\n",
      "  DecompressionBombWarning)\n"
     ]
    },
    {
     "name": "stdout",
     "output_type": "stream",
     "text": [
      "98/98 [============================>.] - ETA: 1s - loss: 0.7146 - acc: 0.5655Epoch 00001: saving model to trained_model/model_sec_bay-01-0.531.h5\n",
      "99/98 [==============================] - 236s 2s/step - loss: 0.7165 - acc: 0.5642 - val_loss: 0.8146 - val_acc: 0.5307\n",
      "Epoch 2/2\n",
      "98/98 [============================>.] - ETA: 1s - loss: 0.6250 - acc: 0.6501Epoch 00002: saving model to trained_model/model_sec_bay-02-0.662.h5\n",
      "99/98 [==============================] - 171s 2s/step - loss: 0.6256 - acc: 0.6485 - val_loss: 0.6082 - val_acc: 0.6619\n"
     ]
    }
   ],
   "source": [
    "train_seconds(categories[0:1], eachepochs=2)"
   ]
  },
  {
   "cell_type": "code",
   "execution_count": null,
   "metadata": {},
   "outputs": [],
   "source": []
  },
  {
   "cell_type": "code",
   "execution_count": null,
   "metadata": {},
   "outputs": [],
   "source": []
  },
  {
   "cell_type": "code",
   "execution_count": null,
   "metadata": {},
   "outputs": [],
   "source": []
  },
  {
   "cell_type": "code",
   "execution_count": null,
   "metadata": {},
   "outputs": [],
   "source": []
  },
  {
   "cell_type": "code",
   "execution_count": null,
   "metadata": {},
   "outputs": [],
   "source": []
  },
  {
   "cell_type": "markdown",
   "metadata": {},
   "source": [
    "### Try and error"
   ]
  },
  {
   "cell_type": "code",
   "execution_count": 15,
   "metadata": {},
   "outputs": [],
   "source": [
    "train_one_category(catecories[0])"
   ]
  },
  {
   "cell_type": "code",
   "execution_count": 21,
   "metadata": {},
   "outputs": [
    {
     "data": {
      "text/plain": [
       "['bay',\n",
       " 'beach',\n",
       " 'birds',\n",
       " 'boeing',\n",
       " 'buildings',\n",
       " 'city',\n",
       " 'clouds',\n",
       " 'f-16',\n",
       " 'face',\n",
       " 'helicopter',\n",
       " 'mountain',\n",
       " 'ocean',\n",
       " 'ships',\n",
       " 'sky',\n",
       " 'sunrise',\n",
       " 'sunset']"
      ]
     },
     "execution_count": 21,
     "metadata": {},
     "output_type": "execute_result"
    }
   ],
   "source": [
    "categories"
   ]
  },
  {
   "cell_type": "code",
   "execution_count": 54,
   "metadata": {},
   "outputs": [],
   "source": [
    "catidx = 2"
   ]
  },
  {
   "cell_type": "code",
   "execution_count": 55,
   "metadata": {},
   "outputs": [
    {
     "data": {
      "text/plain": [
       "birds    1.0\n",
       "Name: birds, dtype: float64"
      ]
     },
     "execution_count": 55,
     "metadata": {},
     "output_type": "execute_result"
    }
   ],
   "source": [
    "cat = categories[catidx]\n",
    "classsim[cat][classsim[cat] >= 0.1]"
   ]
  },
  {
   "cell_type": "code",
   "execution_count": 57,
   "metadata": {},
   "outputs": [
    {
     "data": {
      "text/plain": [
       "{'birds'}"
      ]
     },
     "execution_count": 57,
     "metadata": {},
     "output_type": "execute_result"
    }
   ],
   "source": [
    "targetkey = cat\n",
    "set(classsim[targetkey][classsim[targetkey] >= SIM_THRESHOLD].index)"
   ]
  },
  {
   "cell_type": "code",
   "execution_count": 58,
   "metadata": {},
   "outputs": [],
   "source": [
    "simset = set(classsim[targetkey][classsim[targetkey] >= SIM_THRESHOLD].index)"
   ]
  },
  {
   "cell_type": "code",
   "execution_count": 59,
   "metadata": {},
   "outputs": [
    {
     "data": {
      "text/plain": [
       "1"
      ]
     },
     "execution_count": 59,
     "metadata": {},
     "output_type": "execute_result"
    }
   ],
   "source": [
    "len(simset)"
   ]
  },
  {
   "cell_type": "code",
   "execution_count": null,
   "metadata": {},
   "outputs": [],
   "source": []
  },
  {
   "cell_type": "code",
   "execution_count": 17,
   "metadata": {
    "scrolled": true
   },
   "outputs": [
    {
     "data": {
      "text/html": [
       "<div>\n",
       "<style scoped>\n",
       "    .dataframe tbody tr th:only-of-type {\n",
       "        vertical-align: middle;\n",
       "    }\n",
       "\n",
       "    .dataframe tbody tr th {\n",
       "        vertical-align: top;\n",
       "    }\n",
       "\n",
       "    .dataframe thead th {\n",
       "        text-align: right;\n",
       "    }\n",
       "</style>\n",
       "<table border=\"1\" class=\"dataframe\">\n",
       "  <thead>\n",
       "    <tr style=\"text-align: right;\">\n",
       "      <th></th>\n",
       "      <th>bay</th>\n",
       "      <th>beach</th>\n",
       "      <th>birds</th>\n",
       "      <th>boeing</th>\n",
       "      <th>buildings</th>\n",
       "      <th>city</th>\n",
       "      <th>clouds</th>\n",
       "      <th>f-16</th>\n",
       "      <th>face</th>\n",
       "      <th>helicopter</th>\n",
       "      <th>mountain</th>\n",
       "      <th>ocean</th>\n",
       "      <th>ships</th>\n",
       "      <th>sky</th>\n",
       "      <th>sunrise</th>\n",
       "      <th>sunset</th>\n",
       "    </tr>\n",
       "  </thead>\n",
       "  <tbody>\n",
       "    <tr>\n",
       "      <th>bay</th>\n",
       "      <td>0.852273</td>\n",
       "      <td>0.560345</td>\n",
       "      <td>0.005682</td>\n",
       "      <td>0.000000</td>\n",
       "      <td>0.029866</td>\n",
       "      <td>0.226044</td>\n",
       "      <td>0.000000</td>\n",
       "      <td>0.000000</td>\n",
       "      <td>0.011364</td>\n",
       "      <td>0.006757</td>\n",
       "      <td>0.172159</td>\n",
       "      <td>0.149968</td>\n",
       "      <td>0.013514</td>\n",
       "      <td>0.000000</td>\n",
       "      <td>0.034483</td>\n",
       "      <td>0.017045</td>\n",
       "    </tr>\n",
       "    <tr>\n",
       "      <th>beach</th>\n",
       "      <td>0.560345</td>\n",
       "      <td>0.873563</td>\n",
       "      <td>0.005747</td>\n",
       "      <td>0.000000</td>\n",
       "      <td>0.011494</td>\n",
       "      <td>0.047996</td>\n",
       "      <td>0.015385</td>\n",
       "      <td>0.000000</td>\n",
       "      <td>0.000000</td>\n",
       "      <td>0.006757</td>\n",
       "      <td>0.067744</td>\n",
       "      <td>0.238384</td>\n",
       "      <td>0.018251</td>\n",
       "      <td>0.014286</td>\n",
       "      <td>0.017241</td>\n",
       "      <td>0.082790</td>\n",
       "    </tr>\n",
       "    <tr>\n",
       "      <th>birds</th>\n",
       "      <td>0.005682</td>\n",
       "      <td>0.005747</td>\n",
       "      <td>1.000000</td>\n",
       "      <td>0.000000</td>\n",
       "      <td>0.000000</td>\n",
       "      <td>0.006757</td>\n",
       "      <td>0.007692</td>\n",
       "      <td>0.000000</td>\n",
       "      <td>0.011628</td>\n",
       "      <td>0.000000</td>\n",
       "      <td>0.000000</td>\n",
       "      <td>0.048278</td>\n",
       "      <td>0.000000</td>\n",
       "      <td>0.000000</td>\n",
       "      <td>0.000000</td>\n",
       "      <td>0.006757</td>\n",
       "    </tr>\n",
       "    <tr>\n",
       "      <th>boeing</th>\n",
       "      <td>0.000000</td>\n",
       "      <td>0.000000</td>\n",
       "      <td>0.000000</td>\n",
       "      <td>0.952381</td>\n",
       "      <td>0.007937</td>\n",
       "      <td>0.015873</td>\n",
       "      <td>0.000000</td>\n",
       "      <td>0.179287</td>\n",
       "      <td>0.000000</td>\n",
       "      <td>0.055234</td>\n",
       "      <td>0.000000</td>\n",
       "      <td>0.043148</td>\n",
       "      <td>0.037323</td>\n",
       "      <td>0.000000</td>\n",
       "      <td>0.000000</td>\n",
       "      <td>0.000000</td>\n",
       "    </tr>\n",
       "    <tr>\n",
       "      <th>buildings</th>\n",
       "      <td>0.029866</td>\n",
       "      <td>0.011494</td>\n",
       "      <td>0.000000</td>\n",
       "      <td>0.007937</td>\n",
       "      <td>0.961538</td>\n",
       "      <td>0.564103</td>\n",
       "      <td>0.000000</td>\n",
       "      <td>0.000000</td>\n",
       "      <td>0.005814</td>\n",
       "      <td>0.013514</td>\n",
       "      <td>0.012500</td>\n",
       "      <td>0.007042</td>\n",
       "      <td>0.027027</td>\n",
       "      <td>0.007143</td>\n",
       "      <td>0.017241</td>\n",
       "      <td>0.013167</td>\n",
       "    </tr>\n",
       "    <tr>\n",
       "      <th>city</th>\n",
       "      <td>0.226044</td>\n",
       "      <td>0.047996</td>\n",
       "      <td>0.006757</td>\n",
       "      <td>0.015873</td>\n",
       "      <td>0.564103</td>\n",
       "      <td>0.905405</td>\n",
       "      <td>0.000000</td>\n",
       "      <td>0.016393</td>\n",
       "      <td>0.006757</td>\n",
       "      <td>0.013514</td>\n",
       "      <td>0.064020</td>\n",
       "      <td>0.034640</td>\n",
       "      <td>0.033784</td>\n",
       "      <td>0.000000</td>\n",
       "      <td>0.054753</td>\n",
       "      <td>0.033784</td>\n",
       "    </tr>\n",
       "    <tr>\n",
       "      <th>clouds</th>\n",
       "      <td>0.000000</td>\n",
       "      <td>0.015385</td>\n",
       "      <td>0.007692</td>\n",
       "      <td>0.000000</td>\n",
       "      <td>0.000000</td>\n",
       "      <td>0.000000</td>\n",
       "      <td>0.953846</td>\n",
       "      <td>0.000000</td>\n",
       "      <td>0.000000</td>\n",
       "      <td>0.000000</td>\n",
       "      <td>0.050962</td>\n",
       "      <td>0.137703</td>\n",
       "      <td>0.000000</td>\n",
       "      <td>0.722527</td>\n",
       "      <td>0.091114</td>\n",
       "      <td>0.092516</td>\n",
       "    </tr>\n",
       "    <tr>\n",
       "      <th>f-16</th>\n",
       "      <td>0.000000</td>\n",
       "      <td>0.000000</td>\n",
       "      <td>0.000000</td>\n",
       "      <td>0.179287</td>\n",
       "      <td>0.000000</td>\n",
       "      <td>0.016393</td>\n",
       "      <td>0.000000</td>\n",
       "      <td>0.967213</td>\n",
       "      <td>0.008197</td>\n",
       "      <td>0.072331</td>\n",
       "      <td>0.006250</td>\n",
       "      <td>0.007042</td>\n",
       "      <td>0.061254</td>\n",
       "      <td>0.000000</td>\n",
       "      <td>0.000000</td>\n",
       "      <td>0.000000</td>\n",
       "    </tr>\n",
       "    <tr>\n",
       "      <th>face</th>\n",
       "      <td>0.011364</td>\n",
       "      <td>0.000000</td>\n",
       "      <td>0.011628</td>\n",
       "      <td>0.000000</td>\n",
       "      <td>0.005814</td>\n",
       "      <td>0.006757</td>\n",
       "      <td>0.000000</td>\n",
       "      <td>0.008197</td>\n",
       "      <td>0.976744</td>\n",
       "      <td>0.013514</td>\n",
       "      <td>0.006250</td>\n",
       "      <td>0.032755</td>\n",
       "      <td>0.005814</td>\n",
       "      <td>0.014286</td>\n",
       "      <td>0.014435</td>\n",
       "      <td>0.005814</td>\n",
       "    </tr>\n",
       "    <tr>\n",
       "      <th>helicopter</th>\n",
       "      <td>0.006757</td>\n",
       "      <td>0.006757</td>\n",
       "      <td>0.000000</td>\n",
       "      <td>0.055234</td>\n",
       "      <td>0.013514</td>\n",
       "      <td>0.013514</td>\n",
       "      <td>0.000000</td>\n",
       "      <td>0.072331</td>\n",
       "      <td>0.013514</td>\n",
       "      <td>0.959459</td>\n",
       "      <td>0.031757</td>\n",
       "      <td>0.006757</td>\n",
       "      <td>0.027027</td>\n",
       "      <td>0.007143</td>\n",
       "      <td>0.000000</td>\n",
       "      <td>0.006757</td>\n",
       "    </tr>\n",
       "    <tr>\n",
       "      <th>mountain</th>\n",
       "      <td>0.172159</td>\n",
       "      <td>0.067744</td>\n",
       "      <td>0.000000</td>\n",
       "      <td>0.000000</td>\n",
       "      <td>0.012500</td>\n",
       "      <td>0.064020</td>\n",
       "      <td>0.050962</td>\n",
       "      <td>0.006250</td>\n",
       "      <td>0.006250</td>\n",
       "      <td>0.031757</td>\n",
       "      <td>0.887500</td>\n",
       "      <td>0.088380</td>\n",
       "      <td>0.000000</td>\n",
       "      <td>0.014286</td>\n",
       "      <td>0.055603</td>\n",
       "      <td>0.044257</td>\n",
       "    </tr>\n",
       "    <tr>\n",
       "      <th>ocean</th>\n",
       "      <td>0.149968</td>\n",
       "      <td>0.238384</td>\n",
       "      <td>0.048278</td>\n",
       "      <td>0.043148</td>\n",
       "      <td>0.007042</td>\n",
       "      <td>0.034640</td>\n",
       "      <td>0.137703</td>\n",
       "      <td>0.007042</td>\n",
       "      <td>0.032755</td>\n",
       "      <td>0.006757</td>\n",
       "      <td>0.088380</td>\n",
       "      <td>0.732394</td>\n",
       "      <td>0.055482</td>\n",
       "      <td>0.063883</td>\n",
       "      <td>0.068116</td>\n",
       "      <td>0.076037</td>\n",
       "    </tr>\n",
       "    <tr>\n",
       "      <th>ships</th>\n",
       "      <td>0.013514</td>\n",
       "      <td>0.018251</td>\n",
       "      <td>0.000000</td>\n",
       "      <td>0.037323</td>\n",
       "      <td>0.027027</td>\n",
       "      <td>0.033784</td>\n",
       "      <td>0.000000</td>\n",
       "      <td>0.061254</td>\n",
       "      <td>0.005814</td>\n",
       "      <td>0.027027</td>\n",
       "      <td>0.000000</td>\n",
       "      <td>0.055482</td>\n",
       "      <td>0.878378</td>\n",
       "      <td>0.007143</td>\n",
       "      <td>0.022134</td>\n",
       "      <td>0.006757</td>\n",
       "    </tr>\n",
       "    <tr>\n",
       "      <th>sky</th>\n",
       "      <td>0.000000</td>\n",
       "      <td>0.014286</td>\n",
       "      <td>0.000000</td>\n",
       "      <td>0.000000</td>\n",
       "      <td>0.007143</td>\n",
       "      <td>0.000000</td>\n",
       "      <td>0.722527</td>\n",
       "      <td>0.000000</td>\n",
       "      <td>0.014286</td>\n",
       "      <td>0.007143</td>\n",
       "      <td>0.014286</td>\n",
       "      <td>0.063883</td>\n",
       "      <td>0.007143</td>\n",
       "      <td>0.585714</td>\n",
       "      <td>0.130049</td>\n",
       "      <td>0.177027</td>\n",
       "    </tr>\n",
       "    <tr>\n",
       "      <th>sunrise</th>\n",
       "      <td>0.034483</td>\n",
       "      <td>0.017241</td>\n",
       "      <td>0.000000</td>\n",
       "      <td>0.000000</td>\n",
       "      <td>0.017241</td>\n",
       "      <td>0.054753</td>\n",
       "      <td>0.091114</td>\n",
       "      <td>0.000000</td>\n",
       "      <td>0.014435</td>\n",
       "      <td>0.000000</td>\n",
       "      <td>0.055603</td>\n",
       "      <td>0.068116</td>\n",
       "      <td>0.022134</td>\n",
       "      <td>0.130049</td>\n",
       "      <td>0.810345</td>\n",
       "      <td>0.891193</td>\n",
       "    </tr>\n",
       "    <tr>\n",
       "      <th>sunset</th>\n",
       "      <td>0.017045</td>\n",
       "      <td>0.082790</td>\n",
       "      <td>0.006757</td>\n",
       "      <td>0.000000</td>\n",
       "      <td>0.013167</td>\n",
       "      <td>0.033784</td>\n",
       "      <td>0.092516</td>\n",
       "      <td>0.000000</td>\n",
       "      <td>0.005814</td>\n",
       "      <td>0.006757</td>\n",
       "      <td>0.044257</td>\n",
       "      <td>0.076037</td>\n",
       "      <td>0.006757</td>\n",
       "      <td>0.177027</td>\n",
       "      <td>0.891193</td>\n",
       "      <td>0.959459</td>\n",
       "    </tr>\n",
       "  </tbody>\n",
       "</table>\n",
       "</div>"
      ],
      "text/plain": [
       "                 bay     beach     birds    boeing  buildings      city  \\\n",
       "bay         0.852273  0.560345  0.005682  0.000000   0.029866  0.226044   \n",
       "beach       0.560345  0.873563  0.005747  0.000000   0.011494  0.047996   \n",
       "birds       0.005682  0.005747  1.000000  0.000000   0.000000  0.006757   \n",
       "boeing      0.000000  0.000000  0.000000  0.952381   0.007937  0.015873   \n",
       "buildings   0.029866  0.011494  0.000000  0.007937   0.961538  0.564103   \n",
       "city        0.226044  0.047996  0.006757  0.015873   0.564103  0.905405   \n",
       "clouds      0.000000  0.015385  0.007692  0.000000   0.000000  0.000000   \n",
       "f-16        0.000000  0.000000  0.000000  0.179287   0.000000  0.016393   \n",
       "face        0.011364  0.000000  0.011628  0.000000   0.005814  0.006757   \n",
       "helicopter  0.006757  0.006757  0.000000  0.055234   0.013514  0.013514   \n",
       "mountain    0.172159  0.067744  0.000000  0.000000   0.012500  0.064020   \n",
       "ocean       0.149968  0.238384  0.048278  0.043148   0.007042  0.034640   \n",
       "ships       0.013514  0.018251  0.000000  0.037323   0.027027  0.033784   \n",
       "sky         0.000000  0.014286  0.000000  0.000000   0.007143  0.000000   \n",
       "sunrise     0.034483  0.017241  0.000000  0.000000   0.017241  0.054753   \n",
       "sunset      0.017045  0.082790  0.006757  0.000000   0.013167  0.033784   \n",
       "\n",
       "              clouds      f-16      face  helicopter  mountain     ocean  \\\n",
       "bay         0.000000  0.000000  0.011364    0.006757  0.172159  0.149968   \n",
       "beach       0.015385  0.000000  0.000000    0.006757  0.067744  0.238384   \n",
       "birds       0.007692  0.000000  0.011628    0.000000  0.000000  0.048278   \n",
       "boeing      0.000000  0.179287  0.000000    0.055234  0.000000  0.043148   \n",
       "buildings   0.000000  0.000000  0.005814    0.013514  0.012500  0.007042   \n",
       "city        0.000000  0.016393  0.006757    0.013514  0.064020  0.034640   \n",
       "clouds      0.953846  0.000000  0.000000    0.000000  0.050962  0.137703   \n",
       "f-16        0.000000  0.967213  0.008197    0.072331  0.006250  0.007042   \n",
       "face        0.000000  0.008197  0.976744    0.013514  0.006250  0.032755   \n",
       "helicopter  0.000000  0.072331  0.013514    0.959459  0.031757  0.006757   \n",
       "mountain    0.050962  0.006250  0.006250    0.031757  0.887500  0.088380   \n",
       "ocean       0.137703  0.007042  0.032755    0.006757  0.088380  0.732394   \n",
       "ships       0.000000  0.061254  0.005814    0.027027  0.000000  0.055482   \n",
       "sky         0.722527  0.000000  0.014286    0.007143  0.014286  0.063883   \n",
       "sunrise     0.091114  0.000000  0.014435    0.000000  0.055603  0.068116   \n",
       "sunset      0.092516  0.000000  0.005814    0.006757  0.044257  0.076037   \n",
       "\n",
       "               ships       sky   sunrise    sunset  \n",
       "bay         0.013514  0.000000  0.034483  0.017045  \n",
       "beach       0.018251  0.014286  0.017241  0.082790  \n",
       "birds       0.000000  0.000000  0.000000  0.006757  \n",
       "boeing      0.037323  0.000000  0.000000  0.000000  \n",
       "buildings   0.027027  0.007143  0.017241  0.013167  \n",
       "city        0.033784  0.000000  0.054753  0.033784  \n",
       "clouds      0.000000  0.722527  0.091114  0.092516  \n",
       "f-16        0.061254  0.000000  0.000000  0.000000  \n",
       "face        0.005814  0.014286  0.014435  0.005814  \n",
       "helicopter  0.027027  0.007143  0.000000  0.006757  \n",
       "mountain    0.000000  0.014286  0.055603  0.044257  \n",
       "ocean       0.055482  0.063883  0.068116  0.076037  \n",
       "ships       0.878378  0.007143  0.022134  0.006757  \n",
       "sky         0.007143  0.585714  0.130049  0.177027  \n",
       "sunrise     0.022134  0.130049  0.810345  0.891193  \n",
       "sunset      0.006757  0.177027  0.891193  0.959459  "
      ]
     },
     "execution_count": 17,
     "metadata": {},
     "output_type": "execute_result"
    }
   ],
   "source": [
    "classsim"
   ]
  },
  {
   "cell_type": "code",
   "execution_count": null,
   "metadata": {},
   "outputs": [],
   "source": []
  },
  {
   "cell_type": "code",
   "execution_count": null,
   "metadata": {},
   "outputs": [],
   "source": []
  },
  {
   "cell_type": "code",
   "execution_count": null,
   "metadata": {},
   "outputs": [],
   "source": []
  },
  {
   "cell_type": "code",
   "execution_count": null,
   "metadata": {},
   "outputs": [],
   "source": []
  },
  {
   "cell_type": "code",
   "execution_count": null,
   "metadata": {},
   "outputs": [],
   "source": []
  },
  {
   "cell_type": "code",
   "execution_count": null,
   "metadata": {},
   "outputs": [],
   "source": []
  },
  {
   "cell_type": "code",
   "execution_count": 64,
   "metadata": {},
   "outputs": [],
   "source": [
    "cat = \"bay\""
   ]
  },
  {
   "cell_type": "code",
   "execution_count": 65,
   "metadata": {},
   "outputs": [],
   "source": [
    "model_path = \"{}/model_{}\".format(BASE_MODEL_PATH, cat)"
   ]
  },
  {
   "cell_type": "code",
   "execution_count": 66,
   "metadata": {
    "scrolled": true
   },
   "outputs": [],
   "source": [
    "model = compiler.generate_compiled_model(model_path)"
   ]
  },
  {
   "cell_type": "code",
   "execution_count": null,
   "metadata": {},
   "outputs": [],
   "source": []
  },
  {
   "cell_type": "code",
   "execution_count": 67,
   "metadata": {},
   "outputs": [],
   "source": [
    "trainer.set_model(model)\n",
    "trainer.set_savepath(model_path)"
   ]
  },
  {
   "cell_type": "code",
   "execution_count": null,
   "metadata": {},
   "outputs": [],
   "source": []
  },
  {
   "cell_type": "code",
   "execution_count": 68,
   "metadata": {},
   "outputs": [],
   "source": [
    "true_train, false_train = split_files(cat, trdict)\n",
    "true_valid, false_valid = split_files(cat, valdict)"
   ]
  },
  {
   "cell_type": "code",
   "execution_count": null,
   "metadata": {},
   "outputs": [],
   "source": []
  },
  {
   "cell_type": "code",
   "execution_count": 69,
   "metadata": {},
   "outputs": [],
   "source": [
    "trainer.set_dataset_files(true_train, false_train, true_valid, false_valid)"
   ]
  },
  {
   "cell_type": "code",
   "execution_count": 70,
   "metadata": {},
   "outputs": [
    {
     "name": "stdout",
     "output_type": "stream",
     "text": [
      "Epoch 1/5\n",
      "51/98 [==============>...............] - ETA: 1:12 - loss: 0.3607 - acc: 0.8493"
     ]
    },
    {
     "name": "stderr",
     "output_type": "stream",
     "text": [
      "/usr/local/lib/python3.5/dist-packages/PIL/TiffImagePlugin.py:725: UserWarning: Possibly corrupt EXIF data.  Expecting to read 80000 bytes but only got 0. Skipping tag 64640\n",
      "  \" Skipping tag %s\" % (size, len(data), tag))\n",
      "/usr/local/lib/python3.5/dist-packages/PIL/TiffImagePlugin.py:725: UserWarning: Possibly corrupt EXIF data.  Expecting to read 3368026112 bytes but only got 0. Skipping tag 7\n",
      "  \" Skipping tag %s\" % (size, len(data), tag))\n",
      "/usr/local/lib/python3.5/dist-packages/PIL/TiffImagePlugin.py:725: UserWarning: Possibly corrupt EXIF data.  Expecting to read 134479872 bytes but only got 0. Skipping tag 7\n",
      "  \" Skipping tag %s\" % (size, len(data), tag))\n",
      "/usr/local/lib/python3.5/dist-packages/PIL/TiffImagePlugin.py:725: UserWarning: Possibly corrupt EXIF data.  Expecting to read 4294901760 bytes but only got 0. Skipping tag 4\n",
      "  \" Skipping tag %s\" % (size, len(data), tag))\n",
      "/usr/local/lib/python3.5/dist-packages/PIL/TiffImagePlugin.py:725: UserWarning: Possibly corrupt EXIF data.  Expecting to read 458752 bytes but only got 0. Skipping tag 3\n",
      "  \" Skipping tag %s\" % (size, len(data), tag))\n",
      "/usr/local/lib/python3.5/dist-packages/PIL/TiffImagePlugin.py:725: UserWarning: Possibly corrupt EXIF data.  Expecting to read 3300917248 bytes but only got 0. Skipping tag 7\n",
      "  \" Skipping tag %s\" % (size, len(data), tag))\n",
      "/usr/local/lib/python3.5/dist-packages/PIL/TiffImagePlugin.py:725: UserWarning: Possibly corrupt EXIF data.  Expecting to read 65536 bytes but only got 0. Skipping tag 3\n",
      "  \" Skipping tag %s\" % (size, len(data), tag))\n",
      "/usr/local/lib/python3.5/dist-packages/PIL/TiffImagePlugin.py:725: UserWarning: Possibly corrupt EXIF data.  Expecting to read 119144448 bytes but only got 0. Skipping tag 4\n",
      "  \" Skipping tag %s\" % (size, len(data), tag))\n",
      "/usr/local/lib/python3.5/dist-packages/PIL/TiffImagePlugin.py:725: UserWarning: Possibly corrupt EXIF data.  Expecting to read 80478208 bytes but only got 0. Skipping tag 4\n",
      "  \" Skipping tag %s\" % (size, len(data), tag))\n",
      "/usr/local/lib/python3.5/dist-packages/PIL/TiffImagePlugin.py:725: UserWarning: Possibly corrupt EXIF data.  Expecting to read 36175872 bytes but only got 0. Skipping tag 4\n",
      "  \" Skipping tag %s\" % (size, len(data), tag))\n",
      "/usr/local/lib/python3.5/dist-packages/PIL/TiffImagePlugin.py:725: UserWarning: Possibly corrupt EXIF data.  Expecting to read 196608 bytes but only got 0. Skipping tag 7\n",
      "  \" Skipping tag %s\" % (size, len(data), tag))\n",
      "/usr/local/lib/python3.5/dist-packages/PIL/TiffImagePlugin.py:725: UserWarning: Possibly corrupt EXIF data.  Expecting to read 65536 bytes but only got 6462. Skipping tag 7\n",
      "  \" Skipping tag %s\" % (size, len(data), tag))\n",
      "/usr/local/lib/python3.5/dist-packages/PIL/TiffImagePlugin.py:725: UserWarning: Possibly corrupt EXIF data.  Expecting to read 131073 bytes but only got 6458. Skipping tag 0\n",
      "  \" Skipping tag %s\" % (size, len(data), tag))\n",
      "/usr/local/lib/python3.5/dist-packages/PIL/TiffImagePlugin.py:725: UserWarning: Possibly corrupt EXIF data.  Expecting to read 393216 bytes but only got 0. Skipping tag 3\n",
      "  \" Skipping tag %s\" % (size, len(data), tag))\n",
      "/usr/local/lib/python3.5/dist-packages/PIL/TiffImagePlugin.py:725: UserWarning: Possibly corrupt EXIF data.  Expecting to read 44040192 bytes but only got 0. Skipping tag 5\n",
      "  \" Skipping tag %s\" % (size, len(data), tag))\n",
      "/usr/local/lib/python3.5/dist-packages/PIL/TiffImagePlugin.py:725: UserWarning: Possibly corrupt EXIF data.  Expecting to read 44564480 bytes but only got 0. Skipping tag 5\n",
      "  \" Skipping tag %s\" % (size, len(data), tag))\n",
      "/usr/local/lib/python3.5/dist-packages/PIL/TiffImagePlugin.py:725: UserWarning: Possibly corrupt EXIF data.  Expecting to read 131072 bytes but only got 0. Skipping tag 3\n",
      "  \" Skipping tag %s\" % (size, len(data), tag))\n",
      "/usr/local/lib/python3.5/dist-packages/PIL/TiffImagePlugin.py:725: UserWarning: Possibly corrupt EXIF data.  Expecting to read 45088768 bytes but only got 0. Skipping tag 4\n",
      "  \" Skipping tag %s\" % (size, len(data), tag))\n",
      "/usr/local/lib/python3.5/dist-packages/PIL/TiffImagePlugin.py:725: UserWarning: Possibly corrupt EXIF data.  Expecting to read 378404864 bytes but only got 6462. Skipping tag 4\n",
      "  \" Skipping tag %s\" % (size, len(data), tag))\n",
      "/usr/local/lib/python3.5/dist-packages/PIL/TiffImagePlugin.py:742: UserWarning: Corrupt EXIF data.  Expecting to read 12 bytes but only got 8. \n",
      "  warnings.warn(str(msg))\n"
     ]
    },
    {
     "name": "stdout",
     "output_type": "stream",
     "text": [
      "54/98 [===============>..............] - ETA: 1:06 - loss: 0.3620 - acc: 0.8484"
     ]
    },
    {
     "name": "stderr",
     "output_type": "stream",
     "text": [
      "/usr/local/lib/python3.5/dist-packages/PIL/TiffImagePlugin.py:725: UserWarning: Possibly corrupt EXIF data.  Expecting to read 1572864 bytes but only got 0. Skipping tag 42\n",
      "  \" Skipping tag %s\" % (size, len(data), tag))\n",
      "/usr/local/lib/python3.5/dist-packages/PIL/TiffImagePlugin.py:725: UserWarning: Possibly corrupt EXIF data.  Expecting to read 19600506880 bytes but only got 0. Skipping tag 0\n",
      "  \" Skipping tag %s\" % (size, len(data), tag))\n",
      "/usr/local/lib/python3.5/dist-packages/PIL/TiffImagePlugin.py:725: UserWarning: Possibly corrupt EXIF data.  Expecting to read 2684485632 bytes but only got 0. Skipping tag 0\n",
      "  \" Skipping tag %s\" % (size, len(data), tag))\n",
      "/usr/local/lib/python3.5/dist-packages/PIL/TiffImagePlugin.py:725: UserWarning: Possibly corrupt EXIF data.  Expecting to read 2751528960 bytes but only got 0. Skipping tag 0\n",
      "  \" Skipping tag %s\" % (size, len(data), tag))\n",
      "/usr/local/lib/python3.5/dist-packages/PIL/TiffImagePlugin.py:725: UserWarning: Possibly corrupt EXIF data.  Expecting to read 4915200 bytes but only got 0. Skipping tag 0\n",
      "  \" Skipping tag %s\" % (size, len(data), tag))\n",
      "/usr/local/lib/python3.5/dist-packages/PIL/TiffImagePlugin.py:725: UserWarning: Possibly corrupt EXIF data.  Expecting to read 2490368 bytes but only got 0. Skipping tag 0\n",
      "  \" Skipping tag %s\" % (size, len(data), tag))\n",
      "/usr/local/lib/python3.5/dist-packages/PIL/TiffImagePlugin.py:725: UserWarning: Possibly corrupt EXIF data.  Expecting to read 13631488 bytes but only got 0. Skipping tag 0\n",
      "  \" Skipping tag %s\" % (size, len(data), tag))\n",
      "/usr/local/lib/python3.5/dist-packages/PIL/TiffImagePlugin.py:725: UserWarning: Possibly corrupt EXIF data.  Expecting to read 967680 bytes but only got 0. Skipping tag 62720\n",
      "  \" Skipping tag %s\" % (size, len(data), tag))\n",
      "/usr/local/lib/python3.5/dist-packages/PIL/TiffImagePlugin.py:725: UserWarning: Possibly corrupt EXIF data.  Expecting to read 983040 bytes but only got 12952. Skipping tag 40960\n",
      "  \" Skipping tag %s\" % (size, len(data), tag))\n",
      "/usr/local/lib/python3.5/dist-packages/PIL/TiffImagePlugin.py:725: UserWarning: Possibly corrupt EXIF data.  Expecting to read 25600 bytes but only got 0. Skipping tag 3328\n",
      "  \" Skipping tag %s\" % (size, len(data), tag))\n",
      "/usr/local/lib/python3.5/dist-packages/PIL/TiffImagePlugin.py:725: UserWarning: Possibly corrupt EXIF data.  Expecting to read 25600 bytes but only got 0. Skipping tag 3584\n",
      "  \" Skipping tag %s\" % (size, len(data), tag))\n",
      "/usr/local/lib/python3.5/dist-packages/PIL/TiffImagePlugin.py:725: UserWarning: Possibly corrupt EXIF data.  Expecting to read 3942907908 bytes but only got 12950. Skipping tag 2304\n",
      "  \" Skipping tag %s\" % (size, len(data), tag))\n",
      "/usr/local/lib/python3.5/dist-packages/PIL/TiffImagePlugin.py:725: UserWarning: Possibly corrupt EXIF data.  Expecting to read 1048592 bytes but only got 12948. Skipping tag 0\n",
      "  \" Skipping tag %s\" % (size, len(data), tag))\n",
      "/usr/local/lib/python3.5/dist-packages/PIL/TiffImagePlugin.py:725: UserWarning: Possibly corrupt EXIF data.  Expecting to read 33554944 bytes but only got 12952. Skipping tag 6476\n",
      "  \" Skipping tag %s\" % (size, len(data), tag))\n",
      "/usr/local/lib/python3.5/dist-packages/PIL/TiffImagePlugin.py:725: UserWarning: Possibly corrupt EXIF data.  Expecting to read 6291568 bytes but only got 0. Skipping tag 159\n",
      "  \" Skipping tag %s\" % (size, len(data), tag))\n",
      "/usr/local/lib/python3.5/dist-packages/PIL/TiffImagePlugin.py:725: UserWarning: Possibly corrupt EXIF data.  Expecting to read 16646387 bytes but only got 12719. Skipping tag 65531\n",
      "  \" Skipping tag %s\" % (size, len(data), tag))\n",
      "/usr/local/lib/python3.5/dist-packages/PIL/TiffImagePlugin.py:725: UserWarning: Possibly corrupt EXIF data.  Expecting to read 1114128 bytes but only got 0. Skipping tag 38\n",
      "  \" Skipping tag %s\" % (size, len(data), tag))\n",
      "/usr/local/lib/python3.5/dist-packages/PIL/TiffImagePlugin.py:725: UserWarning: Possibly corrupt EXIF data.  Expecting to read 3145792 bytes but only got 12947. Skipping tag 1\n",
      "  \" Skipping tag %s\" % (size, len(data), tag))\n",
      "/usr/local/lib/python3.5/dist-packages/PIL/TiffImagePlugin.py:725: UserWarning: Possibly corrupt EXIF data.  Expecting to read 113265 bytes but only got 0. Skipping tag 48581\n",
      "  \" Skipping tag %s\" % (size, len(data), tag))\n",
      "/usr/local/lib/python3.5/dist-packages/PIL/TiffImagePlugin.py:742: UserWarning: Corrupt EXIF data.  Expecting to read 12 bytes but only got 2. \n",
      "  warnings.warn(str(msg))\n"
     ]
    },
    {
     "name": "stdout",
     "output_type": "stream",
     "text": [
      "81/98 [=======================>......] - ETA: 25s - loss: 0.3932 - acc: 0.8333"
     ]
    },
    {
     "name": "stderr",
     "output_type": "stream",
     "text": [
      "/usr/local/lib/python3.5/dist-packages/PIL/Image.py:2496: DecompressionBombWarning: Image size (103926732 pixels) exceeds limit of 89478485 pixels, could be decompression bomb DOS attack.\n",
      "  DecompressionBombWarning)\n"
     ]
    },
    {
     "name": "stdout",
     "output_type": "stream",
     "text": [
      "98/98 [============================>.] - ETA: 1s - loss: 0.3892 - acc: 0.8345Epoch 00001: saving model to trained_model/model_bay-01-0.899.h5\n",
      "99/98 [==============================] - 301s 3s/step - loss: 0.3884 - acc: 0.8356 - val_loss: 0.2745 - val_acc: 0.8988\n",
      "Epoch 2/5\n",
      "98/98 [============================>.] - ETA: 1s - loss: 0.2756 - acc: 0.8825Epoch 00002: saving model to trained_model/model_bay-02-0.883.h5\n",
      "99/98 [==============================] - 216s 2s/step - loss: 0.2750 - acc: 0.8830 - val_loss: 0.3250 - val_acc: 0.8828\n",
      "Epoch 3/5\n",
      "98/98 [============================>.] - ETA: 1s - loss: 0.2565 - acc: 0.8953Epoch 00003: saving model to trained_model/model_bay-03-0.868.h5\n",
      "99/98 [==============================] - 220s 2s/step - loss: 0.2554 - acc: 0.8964 - val_loss: 0.3687 - val_acc: 0.8685\n",
      "Epoch 4/5\n",
      "98/98 [============================>.] - ETA: 1s - loss: 0.2195 - acc: 0.9049Epoch 00004: saving model to trained_model/model_bay-04-0.879.h5\n",
      "99/98 [==============================] - 216s 2s/step - loss: 0.2180 - acc: 0.9058 - val_loss: 0.3158 - val_acc: 0.8786\n",
      "Epoch 5/5\n",
      "98/98 [============================>.] - ETA: 1s - loss: 0.2098 - acc: 0.9062Epoch 00005: saving model to trained_model/model_bay-05-0.877.h5\n",
      "99/98 [==============================] - 214s 2s/step - loss: 0.2154 - acc: 0.9052 - val_loss: 0.3626 - val_acc: 0.8769\n"
     ]
    }
   ],
   "source": [
    "trainer.train_model()"
   ]
  },
  {
   "cell_type": "code",
   "execution_count": null,
   "metadata": {},
   "outputs": [],
   "source": []
  },
  {
   "cell_type": "code",
   "execution_count": null,
   "metadata": {},
   "outputs": [],
   "source": []
  },
  {
   "cell_type": "code",
   "execution_count": null,
   "metadata": {},
   "outputs": [],
   "source": []
  },
  {
   "cell_type": "code",
   "execution_count": null,
   "metadata": {},
   "outputs": [],
   "source": []
  }
 ],
 "metadata": {
  "kernelspec": {
   "display_name": "Python 3",
   "language": "python",
   "name": "python3"
  },
  "language_info": {
   "codemirror_mode": {
    "name": "ipython",
    "version": 3
   },
   "file_extension": ".py",
   "mimetype": "text/x-python",
   "name": "python",
   "nbconvert_exporter": "python",
   "pygments_lexer": "ipython3",
   "version": "3.5.2"
  }
 },
 "nbformat": 4,
 "nbformat_minor": 2
}
