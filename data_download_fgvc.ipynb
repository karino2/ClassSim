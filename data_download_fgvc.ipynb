{
 "cells": [
  {
   "cell_type": "markdown",
   "metadata": {},
   "source": [
    "# Download data for FGVC-Aircraft Benchmark\n",
    "\n",
    "http://www.robots.ox.ac.uk/~vgg/data/fgvc-aircraft/"
   ]
  },
  {
   "cell_type": "code",
   "execution_count": 1,
   "metadata": {},
   "outputs": [],
   "source": [
    "!mkdir -p data_fgvc"
   ]
  },
  {
   "cell_type": "code",
   "execution_count": 2,
   "metadata": {},
   "outputs": [
    {
     "name": "stdout",
     "output_type": "stream",
     "text": [
      "--2018-09-04 08:53:54--  http://www.robots.ox.ac.uk/~vgg/data/fgvc-aircraft/archives/fgvc-aircraft-2013b.tar.gz\n",
      "Resolving www.robots.ox.ac.uk (www.robots.ox.ac.uk)... 129.67.94.2\n",
      "Connecting to www.robots.ox.ac.uk (www.robots.ox.ac.uk)|129.67.94.2|:80... connected.\n",
      "HTTP request sent, awaiting response... 200 OK\n",
      "Length: 2753340328 (2.6G) [application/x-gzip]\n",
      "Saving to: 'data_fgvc/fgvc-aircraft-2013b.tar.gz'\n",
      "\n",
      "data_fgvc/fgvc-airc 100%[===================>]   2.56G   387KB/s    in 2h 14m  \n",
      "\n",
      "2018-09-04 11:08:24 (333 KB/s) - 'data_fgvc/fgvc-aircraft-2013b.tar.gz' saved [2753340328/2753340328]\n",
      "\n"
     ]
    }
   ],
   "source": [
    "!wget -O data_fgvc/fgvc-aircraft-2013b.tar.gz http://www.robots.ox.ac.uk/~vgg/data/fgvc-aircraft/archives/fgvc-aircraft-2013b.tar.gz"
   ]
  },
  {
   "cell_type": "code",
   "execution_count": 4,
   "metadata": {},
   "outputs": [],
   "source": [
    "!cd data_fgvc && tar xzvf fgvc-aircraft-2013b.tar.gz > tarlog.txt && cd .."
   ]
  },
  {
   "cell_type": "code",
   "execution_count": null,
   "metadata": {},
   "outputs": [],
   "source": []
  },
  {
   "cell_type": "code",
   "execution_count": null,
   "metadata": {},
   "outputs": [],
   "source": []
  },
  {
   "cell_type": "markdown",
   "metadata": {},
   "source": [
    "### Organize as folder\n",
    "\n",
    "Original split is (train, valid, test) = (3333, 3333, 3333).\n",
    "But for our purpose, validation set is too much and training set is too small.\n",
    "\n",
    "So I split as (train, valid, test) = (6000, 666, 3333)"
   ]
  },
  {
   "cell_type": "code",
   "execution_count": null,
   "metadata": {},
   "outputs": [],
   "source": []
  },
  {
   "cell_type": "code",
   "execution_count": null,
   "metadata": {},
   "outputs": [],
   "source": []
  },
  {
   "cell_type": "code",
   "execution_count": 66,
   "metadata": {},
   "outputs": [],
   "source": [
    "!mkdir -p data_fgvc/train\n",
    "!mkdir -p data_fgvc/valid\n",
    "!mkdir -p data_fgvc/test"
   ]
  },
  {
   "cell_type": "code",
   "execution_count": null,
   "metadata": {},
   "outputs": [],
   "source": []
  },
  {
   "cell_type": "code",
   "execution_count": 15,
   "metadata": {},
   "outputs": [],
   "source": [
    "with open(\"data_fgvc/fgvc-aircraft-2013b/data/variants.txt\") as f:\n",
    "    variants_to_id_dict = {vari.rstrip(\"\\n\"): id for id, vari in enumerate(f)}"
   ]
  },
  {
   "cell_type": "code",
   "execution_count": 16,
   "metadata": {},
   "outputs": [
    {
     "data": {
      "text/plain": [
       "100"
      ]
     },
     "execution_count": 16,
     "metadata": {},
     "output_type": "execute_result"
    }
   ],
   "source": [
    "len(variants_to_id_dict.keys())"
   ]
  },
  {
   "cell_type": "code",
   "execution_count": 18,
   "metadata": {},
   "outputs": [
    {
     "data": {
      "text/plain": [
       "(0, 1)"
      ]
     },
     "execution_count": 18,
     "metadata": {},
     "output_type": "execute_result"
    }
   ],
   "source": [
    "variants_to_id_dict['707-320'], variants_to_id_dict['727-200']"
   ]
  },
  {
   "cell_type": "code",
   "execution_count": null,
   "metadata": {},
   "outputs": [],
   "source": []
  },
  {
   "cell_type": "code",
   "execution_count": 52,
   "metadata": {},
   "outputs": [],
   "source": [
    "with open(\"data_fgvc/fgvc-aircraft-2013b/data/images_variant_trainval.txt\") as f:\n",
    "    trainval_file_var_list = [line.rstrip(\"\\n\").split(\" \", 1) for line in f]"
   ]
  },
  {
   "cell_type": "code",
   "execution_count": 53,
   "metadata": {},
   "outputs": [
    {
     "data": {
      "text/plain": [
       "6667"
      ]
     },
     "execution_count": 53,
     "metadata": {},
     "output_type": "execute_result"
    }
   ],
   "source": [
    "len(trainval_file_var_list)"
   ]
  },
  {
   "cell_type": "code",
   "execution_count": 54,
   "metadata": {},
   "outputs": [],
   "source": [
    "from sklearn.model_selection import train_test_split"
   ]
  },
  {
   "cell_type": "code",
   "execution_count": 67,
   "metadata": {},
   "outputs": [],
   "source": [
    "train_file_var_list, val_file_var_list = train_test_split(trainval_file_var_list, test_size=0.1, random_state=42)"
   ]
  },
  {
   "cell_type": "code",
   "execution_count": 68,
   "metadata": {},
   "outputs": [
    {
     "data": {
      "text/plain": [
       "6000"
      ]
     },
     "execution_count": 68,
     "metadata": {},
     "output_type": "execute_result"
    }
   ],
   "source": [
    "len(train_file_var_list)"
   ]
  },
  {
   "cell_type": "code",
   "execution_count": 69,
   "metadata": {},
   "outputs": [
    {
     "data": {
      "text/plain": [
       "667"
      ]
     },
     "execution_count": 69,
     "metadata": {},
     "output_type": "execute_result"
    }
   ],
   "source": [
    "len(val_file_var_list)"
   ]
  },
  {
   "cell_type": "code",
   "execution_count": null,
   "metadata": {},
   "outputs": [],
   "source": []
  },
  {
   "cell_type": "code",
   "execution_count": 70,
   "metadata": {},
   "outputs": [
    {
     "data": {
      "text/plain": [
       "[['1521239', 'Falcon 2000'],\n",
       " ['1548490', 'ERJ 145'],\n",
       " ['1605154', 'Embraer Legacy 600'],\n",
       " ['0552041', '767-400'],\n",
       " ['0925061', 'Eurofighter Typhoon']]"
      ]
     },
     "execution_count": 70,
     "metadata": {},
     "output_type": "execute_result"
    }
   ],
   "source": [
    "train_file_var_list[0:5]"
   ]
  },
  {
   "cell_type": "raw",
   "metadata": {},
   "source": [
    "# this code is too slow (about 30min)\n",
    "\n",
    "for file, variants in train_file_var_list:\n",
    "    filename = \"{}.jpg\".format(file)\n",
    "    dirid = variants_to_id_dict[variants]\n",
    "    !mkdir -p data_fgvc/train/{dirid}\n",
    "    !ln data_fgvc/fgvc-aircraft-2013b/data/images/{filename} data_fgvc/train/{dirid}/{filename}"
   ]
  },
  {
   "cell_type": "code",
   "execution_count": null,
   "metadata": {},
   "outputs": [],
   "source": []
  },
  {
   "cell_type": "code",
   "execution_count": 34,
   "metadata": {},
   "outputs": [],
   "source": [
    "import tqdm\n",
    "import os"
   ]
  },
  {
   "cell_type": "code",
   "execution_count": 41,
   "metadata": {},
   "outputs": [],
   "source": [
    "### data_type: \"train\", \"valid\", \"test\n",
    "def hard_links(file_var_list, data_type):\n",
    "    for file, variants in tqdm.tqdm(file_var_list):\n",
    "        filename = \"{}.jpg\".format(file)\n",
    "        dirid = variants_to_id_dict[variants]\n",
    "        from_path = \"data_fgvc/fgvc-aircraft-2013b/data/images/{}\".format(filename)\n",
    "        to_dir = \"data_fgvc/{}/{}\".format(data_type, dirid)\n",
    "        to_path = \"{}/{}\".format(to_dir, filename)\n",
    "        if not os.path.exists(to_dir):\n",
    "            os.mkdir(to_dir)\n",
    "        os.link(from_path, to_path)"
   ]
  },
  {
   "cell_type": "code",
   "execution_count": 71,
   "metadata": {},
   "outputs": [
    {
     "name": "stderr",
     "output_type": "stream",
     "text": [
      "100%|██████████| 6000/6000 [00:00<00:00, 65056.71it/s]\n"
     ]
    }
   ],
   "source": [
    "hard_links(train_file_var_list, \"train\")"
   ]
  },
  {
   "cell_type": "code",
   "execution_count": 72,
   "metadata": {},
   "outputs": [
    {
     "data": {
      "text/plain": [
       "6000"
      ]
     },
     "execution_count": 72,
     "metadata": {},
     "output_type": "execute_result"
    }
   ],
   "source": [
    "len(train_file_var_list)"
   ]
  },
  {
   "cell_type": "code",
   "execution_count": null,
   "metadata": {},
   "outputs": [],
   "source": []
  },
  {
   "cell_type": "code",
   "execution_count": 61,
   "metadata": {},
   "outputs": [],
   "source": [
    "#with open(\"data_fgvc/fgvc-aircraft-2013b/data/images_variant_val.txt\") as f:\n",
    "#    val_file_var_list = [line.rstrip(\"\\n\").split(\" \", 1) for line in f]"
   ]
  },
  {
   "cell_type": "code",
   "execution_count": 73,
   "metadata": {},
   "outputs": [
    {
     "name": "stderr",
     "output_type": "stream",
     "text": [
      "100%|██████████| 667/667 [00:00<00:00, 45944.41it/s]\n"
     ]
    }
   ],
   "source": [
    "hard_links(val_file_var_list, \"valid\")"
   ]
  },
  {
   "cell_type": "code",
   "execution_count": null,
   "metadata": {},
   "outputs": [],
   "source": []
  },
  {
   "cell_type": "code",
   "execution_count": 32,
   "metadata": {},
   "outputs": [],
   "source": [
    "with open(\"data_fgvc/fgvc-aircraft-2013b/data/images_variant_test.txt\") as f:\n",
    "    test_file_var_list = [line.rstrip(\"\\n\").split(\" \", 1) for line in f]"
   ]
  },
  {
   "cell_type": "code",
   "execution_count": 63,
   "metadata": {},
   "outputs": [
    {
     "name": "stderr",
     "output_type": "stream",
     "text": [
      "100%|██████████| 3333/3333 [00:00<00:00, 49694.87it/s]\n"
     ]
    }
   ],
   "source": [
    "hard_links(test_file_var_list, \"test\")"
   ]
  },
  {
   "cell_type": "code",
   "execution_count": null,
   "metadata": {},
   "outputs": [],
   "source": []
  },
  {
   "cell_type": "code",
   "execution_count": null,
   "metadata": {},
   "outputs": [],
   "source": []
  },
  {
   "cell_type": "code",
   "execution_count": null,
   "metadata": {},
   "outputs": [],
   "source": []
  }
 ],
 "metadata": {
  "kernelspec": {
   "display_name": "Python 3",
   "language": "python",
   "name": "python3"
  },
  "language_info": {
   "codemirror_mode": {
    "name": "ipython",
    "version": 3
   },
   "file_extension": ".py",
   "mimetype": "text/x-python",
   "name": "python",
   "nbconvert_exporter": "python",
   "pygments_lexer": "ipython3",
   "version": "3.5.2"
  }
 },
 "nbformat": 4,
 "nbformat_minor": 2
}
