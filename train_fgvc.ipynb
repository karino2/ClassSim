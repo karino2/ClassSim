{
 "cells": [
  {
   "cell_type": "markdown",
   "metadata": {},
   "source": [
    "# Train first set of one vs. rest (OVR) classifiers.\n",
    "\n",
    "We train a set of classifiers that are used for computations of $ClassSim$ that is defined in our paper to estimate a similarity between classes.  \n",
    "These classifiers are also used for classification tasks.  \n",
    "Modules used in this notebook are defined in files in *models* directory."
   ]
  },
  {
   "cell_type": "markdown",
   "metadata": {},
   "source": [
    "## Set up"
   ]
  },
  {
   "cell_type": "code",
   "execution_count": 1,
   "metadata": {},
   "outputs": [],
   "source": [
    "import os\n",
    "import sys\n",
    "\n",
    "import numpy as np\n",
    "\n",
    "import pandas as pd\n",
    "import glob\n",
    "\n",
    "import warnings\n",
    "warnings.filterwarnings('ignore')"
   ]
  },
  {
   "cell_type": "code",
   "execution_count": 2,
   "metadata": {},
   "outputs": [],
   "source": [
    "BASE_MODEL_PATH=\"trained_model\"\n",
    "%mkdir -p $BASE_MODEL_PATH"
   ]
  },
  {
   "cell_type": "code",
   "execution_count": 3,
   "metadata": {},
   "outputs": [
    {
     "name": "stderr",
     "output_type": "stream",
     "text": [
      "Using TensorFlow backend.\n"
     ]
    }
   ],
   "source": [
    "from models.modelutils import ModelCompiler"
   ]
  },
  {
   "cell_type": "code",
   "execution_count": 4,
   "metadata": {},
   "outputs": [],
   "source": [
    "compiler = ModelCompiler(BASE_MODEL_PATH)"
   ]
  },
  {
   "cell_type": "code",
   "execution_count": 5,
   "metadata": {},
   "outputs": [],
   "source": [
    "from models.processor import create_generators\n",
    "\n",
    "TRAIN_DATAGEN, VALID_DATAGEN = create_generators()"
   ]
  },
  {
   "cell_type": "markdown",
   "metadata": {},
   "source": [
    "Load category information and all image paths."
   ]
  },
  {
   "cell_type": "code",
   "execution_count": 6,
   "metadata": {},
   "outputs": [],
   "source": [
    "from models.modelutils import dir2filedict_sorted, split_fdict"
   ]
  },
  {
   "cell_type": "code",
   "execution_count": null,
   "metadata": {},
   "outputs": [],
   "source": []
  },
  {
   "cell_type": "code",
   "execution_count": 7,
   "metadata": {},
   "outputs": [],
   "source": [
    "trdict = dir2filedict_sorted(\"data_fgvc/train\")"
   ]
  },
  {
   "cell_type": "code",
   "execution_count": 8,
   "metadata": {},
   "outputs": [],
   "source": [
    "valdict = dir2filedict_sorted(\"data_fgvc/valid\")"
   ]
  },
  {
   "cell_type": "code",
   "execution_count": 9,
   "metadata": {},
   "outputs": [],
   "source": [
    "categories = [str(i) for i in range(0, 100)]"
   ]
  },
  {
   "cell_type": "code",
   "execution_count": 10,
   "metadata": {},
   "outputs": [
    {
     "data": {
      "text/plain": [
       "'99'"
      ]
     },
     "execution_count": 10,
     "metadata": {},
     "output_type": "execute_result"
    }
   ],
   "source": [
    "categories[99]"
   ]
  },
  {
   "cell_type": "code",
   "execution_count": null,
   "metadata": {},
   "outputs": [],
   "source": []
  },
  {
   "cell_type": "code",
   "execution_count": 11,
   "metadata": {},
   "outputs": [
    {
     "data": {
      "text/plain": [
       "['data_fgvc/valid/0/0062781.jpg',\n",
       " 'data_fgvc/valid/0/0113201.jpg',\n",
       " 'data_fgvc/valid/0/0450014.jpg',\n",
       " 'data_fgvc/valid/0/0602177.jpg',\n",
       " 'data_fgvc/valid/0/0716386.jpg']"
      ]
     },
     "execution_count": 11,
     "metadata": {},
     "output_type": "execute_result"
    }
   ],
   "source": [
    "valdict['0'][0:5]"
   ]
  },
  {
   "cell_type": "markdown",
   "metadata": {},
   "source": [
    "Here is expected outputs.   \n",
    "All the outputs in {*train.ipynb*, *classifier_similarity.ipynb*, *train_multiclass_classifier.ipynb*, *train_second.ipynb*} must be the same. \n",
    "\n",
    "['data_fgvc/valid/0/0062781.jpg',  \n",
    " 'data_fgvc/valid/0/0113201.jpg',  \n",
    " 'data_fgvc/valid/0/0450014.jpg',  \n",
    " 'data_fgvc/valid/0/0602177.jpg',  \n",
    " 'data_fgvc/valid/0/0716386.jpg']"
   ]
  },
  {
   "cell_type": "code",
   "execution_count": null,
   "metadata": {},
   "outputs": [],
   "source": []
  },
  {
   "cell_type": "code",
   "execution_count": 12,
   "metadata": {},
   "outputs": [
    {
     "data": {
      "text/plain": [
       "60"
      ]
     },
     "execution_count": 12,
     "metadata": {},
     "output_type": "execute_result"
    }
   ],
   "source": [
    "len(trdict['10'])"
   ]
  },
  {
   "cell_type": "code",
   "execution_count": null,
   "metadata": {},
   "outputs": [],
   "source": []
  },
  {
   "cell_type": "markdown",
   "metadata": {},
   "source": [
    "## Train classifiers"
   ]
  },
  {
   "cell_type": "code",
   "execution_count": 13,
   "metadata": {},
   "outputs": [],
   "source": [
    "from models.one_vs_all import OneVsAllModelTrainer\n",
    "from models.modelutils import split_files"
   ]
  },
  {
   "cell_type": "code",
   "execution_count": 14,
   "metadata": {},
   "outputs": [],
   "source": [
    "trainer = OneVsAllModelTrainer(TRAIN_DATAGEN, VALID_DATAGEN)"
   ]
  },
  {
   "cell_type": "code",
   "execution_count": 15,
   "metadata": {},
   "outputs": [],
   "source": [
    "def train_one_category(cat, epoch=5):\n",
    "    model_path = \"{}/modelfgcv_{}\".format(BASE_MODEL_PATH, cat)\n",
    "    model = compiler.generate_compiled_model(model_path)\n",
    "    \n",
    "    trainer.set_model(model)\n",
    "    trainer.set_savepath(model_path)\n",
    "    \n",
    "    true_train, false_train = split_files(cat, trdict)\n",
    "    true_valid, false_valid = split_files(cat, valdict)\n",
    "    \n",
    "    trainer.set_dataset_files(true_train, false_train, true_valid, false_valid)\n",
    "    trainer.train_model(eachepochs=epoch, hard_coded_steps_per_epoch=(100, 10))"
   ]
  },
  {
   "cell_type": "code",
   "execution_count": 16,
   "metadata": {},
   "outputs": [
    {
     "name": "stdout",
     "output_type": "stream",
     "text": [
      "Epoch 1/5\n",
      "Epoch 00001: saving model to trained_model/modelfgcv_0-01-0.938.h5\n",
      " - 123s - loss: 0.2806 - acc: 0.8756 - val_loss: 0.1811 - val_acc: 0.9375\n",
      "Epoch 2/5\n",
      "Epoch 00002: saving model to trained_model/modelfgcv_0-02-0.944.h5\n",
      " - 79s - loss: 0.1019 - acc: 0.9632 - val_loss: 0.2272 - val_acc: 0.9437\n",
      "Epoch 3/5\n",
      "Epoch 00003: saving model to trained_model/modelfgcv_0-03-0.825.h5\n",
      " - 78s - loss: 0.0428 - acc: 0.9881 - val_loss: 0.4716 - val_acc: 0.8250\n",
      "Epoch 4/5\n",
      "Epoch 00004: saving model to trained_model/modelfgcv_0-04-0.825.h5\n",
      " - 79s - loss: 0.0433 - acc: 0.9875 - val_loss: 0.6187 - val_acc: 0.8250\n",
      "Epoch 5/5\n",
      "Epoch 00005: saving model to trained_model/modelfgcv_0-05-0.906.h5\n",
      " - 78s - loss: 0.0491 - acc: 0.9813 - val_loss: 0.2660 - val_acc: 0.9062\n"
     ]
    }
   ],
   "source": [
    "train_one_category(categories[0])"
   ]
  },
  {
   "cell_type": "code",
   "execution_count": null,
   "metadata": {},
   "outputs": [],
   "source": []
  },
  {
   "cell_type": "code",
   "execution_count": null,
   "metadata": {},
   "outputs": [],
   "source": []
  },
  {
   "cell_type": "code",
   "execution_count": null,
   "metadata": {
    "scrolled": false
   },
   "outputs": [],
   "source": [
    "for i in range(0, len(categories)):\n",
    "    train_one_category(categories[i])"
   ]
  },
  {
   "cell_type": "code",
   "execution_count": null,
   "metadata": {},
   "outputs": [],
   "source": []
  },
  {
   "cell_type": "code",
   "execution_count": null,
   "metadata": {},
   "outputs": [],
   "source": []
  },
  {
   "cell_type": "code",
   "execution_count": null,
   "metadata": {},
   "outputs": [],
   "source": []
  }
 ],
 "metadata": {
  "kernelspec": {
   "display_name": "Python 3",
   "language": "python",
   "name": "python3"
  },
  "language_info": {
   "codemirror_mode": {
    "name": "ipython",
    "version": 3
   },
   "file_extension": ".py",
   "mimetype": "text/x-python",
   "name": "python",
   "nbconvert_exporter": "python",
   "pygments_lexer": "ipython3",
   "version": "3.5.2"
  }
 },
 "nbformat": 4,
 "nbformat_minor": 2
}
