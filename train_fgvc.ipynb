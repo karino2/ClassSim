{
 "cells": [
  {
   "cell_type": "markdown",
   "metadata": {},
   "source": [
    "# Train first set of one vs. rest (OVR) classifiers.\n",
    "\n",
    "We train a set of classifiers that are used for computations of $ClassSim$ that is defined in our paper to estimate a similarity between classes.  \n",
    "These classifiers are also used for classification tasks.  \n",
    "Modules used in this notebook are defined in files in *models* directory."
   ]
  },
  {
   "cell_type": "markdown",
   "metadata": {},
   "source": [
    "## Set up"
   ]
  },
  {
   "cell_type": "code",
   "execution_count": 1,
   "metadata": {},
   "outputs": [],
   "source": [
    "import os\n",
    "import sys\n",
    "\n",
    "import numpy as np\n",
    "\n",
    "import pandas as pd\n",
    "import glob\n",
    "\n",
    "import warnings\n",
    "warnings.filterwarnings('ignore')"
   ]
  },
  {
   "cell_type": "code",
   "execution_count": 2,
   "metadata": {},
   "outputs": [],
   "source": [
    "BASE_MODEL_PATH=\"trained_model\"\n",
    "%mkdir -p $BASE_MODEL_PATH"
   ]
  },
  {
   "cell_type": "code",
   "execution_count": 3,
   "metadata": {},
   "outputs": [
    {
     "name": "stderr",
     "output_type": "stream",
     "text": [
      "Using TensorFlow backend.\n"
     ]
    }
   ],
   "source": [
    "from models.modelutils import ModelCompiler"
   ]
  },
  {
   "cell_type": "code",
   "execution_count": 4,
   "metadata": {},
   "outputs": [],
   "source": [
    "compiler = ModelCompiler(BASE_MODEL_PATH)"
   ]
  },
  {
   "cell_type": "code",
   "execution_count": 5,
   "metadata": {},
   "outputs": [],
   "source": [
    "from models.processor import create_generators\n",
    "\n",
    "TRAIN_DATAGEN, VALID_DATAGEN = create_generators()"
   ]
  },
  {
   "cell_type": "markdown",
   "metadata": {},
   "source": [
    "Load category information and all image paths."
   ]
  },
  {
   "cell_type": "code",
   "execution_count": 6,
   "metadata": {},
   "outputs": [],
   "source": [
    "from models.modelutils import dir2filedict_sorted, split_fdict"
   ]
  },
  {
   "cell_type": "code",
   "execution_count": null,
   "metadata": {},
   "outputs": [],
   "source": []
  },
  {
   "cell_type": "code",
   "execution_count": 7,
   "metadata": {},
   "outputs": [],
   "source": [
    "trdict = dir2filedict_sorted(\"data_fgvc/train\")"
   ]
  },
  {
   "cell_type": "code",
   "execution_count": 8,
   "metadata": {},
   "outputs": [],
   "source": [
    "valdict = dir2filedict_sorted(\"data_fgvc/valid\")"
   ]
  },
  {
   "cell_type": "code",
   "execution_count": 9,
   "metadata": {},
   "outputs": [],
   "source": [
    "categories = [str(i) for i in range(0, 100)]"
   ]
  },
  {
   "cell_type": "code",
   "execution_count": 10,
   "metadata": {},
   "outputs": [
    {
     "data": {
      "text/plain": [
       "'99'"
      ]
     },
     "execution_count": 10,
     "metadata": {},
     "output_type": "execute_result"
    }
   ],
   "source": [
    "categories[99]"
   ]
  },
  {
   "cell_type": "code",
   "execution_count": null,
   "metadata": {},
   "outputs": [],
   "source": []
  },
  {
   "cell_type": "code",
   "execution_count": 12,
   "metadata": {},
   "outputs": [
    {
     "data": {
      "text/plain": [
       "['data_fgvc/valid/0/0062781.jpg',\n",
       " 'data_fgvc/valid/0/0198101.jpg',\n",
       " 'data_fgvc/valid/0/0536721.jpg',\n",
       " 'data_fgvc/valid/0/0602177.jpg',\n",
       " 'data_fgvc/valid/0/0817494.jpg']"
      ]
     },
     "execution_count": 12,
     "metadata": {},
     "output_type": "execute_result"
    }
   ],
   "source": [
    "valdict['0'][0:5]"
   ]
  },
  {
   "cell_type": "markdown",
   "metadata": {},
   "source": [
    "Here is expected outputs.   \n",
    "All the outputs in {*train.ipynb*, *classifier_similarity.ipynb*, *train_multiclass_classifier.ipynb*, *train_second.ipynb*} must be the same. \n",
    "\n",
    "['data_fgvc/valid/0/0062781.jpg',  \n",
    " 'data_fgvc/valid/0/0198101.jpg',  \n",
    " 'data_fgvc/valid/0/0536721.jpg',  \n",
    " 'data_fgvc/valid/0/0602177.jpg',  \n",
    " 'data_fgvc/valid/0/0817494.jpg']"
   ]
  },
  {
   "cell_type": "markdown",
   "metadata": {},
   "source": [
    "## Train classifiers"
   ]
  },
  {
   "cell_type": "code",
   "execution_count": 14,
   "metadata": {},
   "outputs": [],
   "source": [
    "from models.one_vs_all import OneVsAllModelTrainer\n",
    "from models.modelutils import split_files"
   ]
  },
  {
   "cell_type": "code",
   "execution_count": 15,
   "metadata": {},
   "outputs": [],
   "source": [
    "trainer = OneVsAllModelTrainer(TRAIN_DATAGEN, VALID_DATAGEN)"
   ]
  },
  {
   "cell_type": "code",
   "execution_count": 16,
   "metadata": {},
   "outputs": [],
   "source": [
    "def train_one_category(cat, epoch=5):\n",
    "    model_path = \"{}/modelfgcv_{}\".format(BASE_MODEL_PATH, cat)\n",
    "    model = compiler.generate_compiled_model(model_path)\n",
    "    \n",
    "    trainer.set_model(model)\n",
    "    trainer.set_savepath(model_path)\n",
    "    \n",
    "    true_train, false_train = split_files(cat, trdict)\n",
    "    true_valid, false_valid = split_files(cat, valdict)\n",
    "    \n",
    "    trainer.set_dataset_files(true_train, false_train, true_valid, false_valid)\n",
    "    trainer.train_model(eachepochs=epoch)"
   ]
  },
  {
   "cell_type": "code",
   "execution_count": 20,
   "metadata": {},
   "outputs": [
    {
     "name": "stdout",
     "output_type": "stream",
     "text": [
      "Epoch 1/5\n",
      "6/6 [=========================>....] - ETA: 26s - loss: 0.6554 - acc: 0.5878Epoch 00001: saving model to trained_model/modelfgcv_0-01-0.978.h5\n",
      "7/6 [==============================] - 704s 101s/step - loss: 0.6560 - acc: 0.5928 - val_loss: 0.2333 - val_acc: 0.9775\n",
      "Epoch 2/5\n",
      "6/6 [=========================>....] - ETA: 23s - loss: 0.4275 - acc: 0.7798Epoch 00002: saving model to trained_model/modelfgcv_0-02-0.982.h5\n",
      "7/6 [==============================] - 631s 90s/step - loss: 0.4401 - acc: 0.7763 - val_loss: 0.0836 - val_acc: 0.9820\n",
      "Epoch 3/5\n",
      "6/6 [=========================>....] - ETA: 26s - loss: 0.3584 - acc: 0.8423Epoch 00003: saving model to trained_model/modelfgcv_0-03-0.978.h5\n",
      "7/6 [==============================] - 651s 93s/step - loss: 0.3417 - acc: 0.8468 - val_loss: 0.0877 - val_acc: 0.9775\n",
      "Epoch 4/5\n",
      "6/6 [=========================>....] - ETA: 24s - loss: 0.3257 - acc: 0.8542Epoch 00004: saving model to trained_model/modelfgcv_0-04-0.973.h5\n",
      "7/6 [==============================] - 632s 90s/step - loss: 0.3678 - acc: 0.8479 - val_loss: 0.0907 - val_acc: 0.9730\n",
      "Epoch 5/5\n",
      "6/6 [=========================>....] - ETA: 23s - loss: 0.2660 - acc: 0.8958Epoch 00005: saving model to trained_model/modelfgcv_0-05-0.982.h5\n",
      "7/6 [==============================] - 630s 90s/step - loss: 0.2567 - acc: 0.9016 - val_loss: 0.0862 - val_acc: 0.9820\n"
     ]
    }
   ],
   "source": [
    "train_one_category(categories[0])"
   ]
  },
  {
   "cell_type": "code",
   "execution_count": null,
   "metadata": {},
   "outputs": [],
   "source": []
  },
  {
   "cell_type": "code",
   "execution_count": null,
   "metadata": {
    "scrolled": false
   },
   "outputs": [],
   "source": [
    "for i in range(0, len(categories)):\n",
    "    train_one_category(categories[i])"
   ]
  },
  {
   "cell_type": "code",
   "execution_count": null,
   "metadata": {},
   "outputs": [],
   "source": []
  },
  {
   "cell_type": "code",
   "execution_count": null,
   "metadata": {},
   "outputs": [],
   "source": []
  },
  {
   "cell_type": "code",
   "execution_count": null,
   "metadata": {},
   "outputs": [],
   "source": []
  }
 ],
 "metadata": {
  "kernelspec": {
   "display_name": "Python 3",
   "language": "python",
   "name": "python3"
  },
  "language_info": {
   "codemirror_mode": {
    "name": "ipython",
    "version": 3
   },
   "file_extension": ".py",
   "mimetype": "text/x-python",
   "name": "python",
   "nbconvert_exporter": "python",
   "pygments_lexer": "ipython3",
   "version": "3.5.2"
  }
 },
 "nbformat": 4,
 "nbformat_minor": 2
}
