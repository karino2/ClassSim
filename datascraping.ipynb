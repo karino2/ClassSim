{
 "cells": [
  {
   "cell_type": "markdown",
   "metadata": {},
   "source": [
    "## Cencepts from paper\n",
    "\n",
    "\"Measuring Semantic Similarity between Concepts in Visual Domain\" Table 1"
   ]
  },
  {
   "cell_type": "code",
   "execution_count": 6,
   "metadata": {},
   "outputs": [],
   "source": [
    "concepts = [\n",
    "    \"bay\",\n",
    "    \"beach\",\n",
    "    \"birds\",\n",
    "    \"boeing\",\n",
    "    \"buildings\",\n",
    "    \"city\",\n",
    "    \"clouds\",\n",
    "    \"face\",\n",
    "    \"f-16\",\n",
    "    \"helicopter\",\n",
    "    \"mountain\",\n",
    "    \"sky\",\n",
    "    \"ships\",\n",
    "    \"sunset\",\n",
    "    \"sunrise\",\n",
    "    \"ocean\"\n",
    "]"
   ]
  },
  {
   "cell_type": "code",
   "execution_count": 7,
   "metadata": {},
   "outputs": [
    {
     "data": {
      "text/plain": [
       "16"
      ]
     },
     "execution_count": 7,
     "metadata": {},
     "output_type": "execute_result"
    }
   ],
   "source": [
    "len(concepts)"
   ]
  },
  {
   "cell_type": "code",
   "execution_count": 84,
   "metadata": {},
   "outputs": [],
   "source": [
    "import json\n",
    "import time"
   ]
  },
  {
   "cell_type": "code",
   "execution_count": 79,
   "metadata": {},
   "outputs": [],
   "source": [
    "from selenium import webdriver\n",
    "from selenium.webdriver.common.keys import Keys\n",
    "from selenium.webdriver.chrome.options import Options\n",
    "from selenium.webdriver.common.action_chains import ActionChains\n"
   ]
  },
  {
   "cell_type": "code",
   "execution_count": 9,
   "metadata": {},
   "outputs": [],
   "source": [
    "chrome_options = Options()\n",
    "chrome_options.binary_location = '/usr/bin/google-chrome-stable'\n",
    "chrome_options.add_argument(\"--headless\")\n",
    "#chrome_options.add_argument('--disable-gpu')\n",
    "\n",
    "# fix for chrome not reachable\n",
    "#chrome_options.add_argument('--no-sandbox')"
   ]
  },
  {
   "cell_type": "code",
   "execution_count": 48,
   "metadata": {
    "scrolled": false
   },
   "outputs": [],
   "source": []
  },
  {
   "cell_type": "code",
   "execution_count": 35,
   "metadata": {},
   "outputs": [],
   "source": [
    "# selenium test.\n",
    "\n",
    "# driver.get('http://www.google.com')\n",
    "# print(driver.title)\n",
    "# driver.close()"
   ]
  },
  {
   "cell_type": "code",
   "execution_count": null,
   "metadata": {},
   "outputs": [],
   "source": []
  },
  {
   "cell_type": "code",
   "execution_count": 18,
   "metadata": {},
   "outputs": [],
   "source": [
    "URL_TEMPLATE = \"http://www.bing.com/images/search?q={}&FORM=IGRE\""
   ]
  },
  {
   "cell_type": "code",
   "execution_count": 19,
   "metadata": {},
   "outputs": [],
   "source": [
    "top_url = URL_TEMPLATE.format(\"bay\")"
   ]
  },
  {
   "cell_type": "code",
   "execution_count": 82,
   "metadata": {},
   "outputs": [],
   "source": [
    "driver = webdriver.Chrome(chrome_options=chrome_options, executable_path=\"/usr/local/bin/chromedriver\")\n",
    "driver.maximize_window()"
   ]
  },
  {
   "cell_type": "code",
   "execution_count": 83,
   "metadata": {},
   "outputs": [],
   "source": [
    "driver.get(top_url)"
   ]
  },
  {
   "cell_type": "code",
   "execution_count": null,
   "metadata": {},
   "outputs": [],
   "source": []
  },
  {
   "cell_type": "code",
   "execution_count": null,
   "metadata": {},
   "outputs": [],
   "source": []
  },
  {
   "cell_type": "code",
   "execution_count": null,
   "metadata": {},
   "outputs": [],
   "source": []
  },
  {
   "cell_type": "code",
   "execution_count": 21,
   "metadata": {},
   "outputs": [],
   "source": [
    "atags = driver.find_elements_by_class_name(\"iusc\")"
   ]
  },
  {
   "cell_type": "code",
   "execution_count": 23,
   "metadata": {},
   "outputs": [
    {
     "data": {
      "text/plain": [
       "'{\"cid\":\"5Su3/66B\",\"purl\":\"https://achillfieldschool.wordpress.com/2014/05/08/a-visit-to-keem-bay/\",\"murl\":\"https://achillfieldschool.files.wordpress.com/2014/05/dsc_0287.jpg\",\"turl\":\"http://tse4.mm.bing.net/th?id=OIP.5Su3_66BqHzeAhUAbUgklQEsDI&pid=15.1\",\"md5\":\"e52bb7ffae81a87cde0215006d482495\"}'"
      ]
     },
     "execution_count": 23,
     "metadata": {},
     "output_type": "execute_result"
    }
   ],
   "source": [
    "atags[0].get_attribute(\"m\")"
   ]
  },
  {
   "cell_type": "code",
   "execution_count": null,
   "metadata": {},
   "outputs": [],
   "source": []
  },
  {
   "cell_type": "code",
   "execution_count": 24,
   "metadata": {},
   "outputs": [],
   "source": []
  },
  {
   "cell_type": "code",
   "execution_count": 26,
   "metadata": {},
   "outputs": [
    {
     "data": {
      "text/plain": [
       "'https://achillfieldschool.files.wordpress.com/2014/05/dsc_0287.jpg'"
      ]
     },
     "execution_count": 26,
     "metadata": {},
     "output_type": "execute_result"
    }
   ],
   "source": [
    "json.loads(atags[0].get_attribute(\"m\"))['murl']"
   ]
  },
  {
   "cell_type": "code",
   "execution_count": 27,
   "metadata": {},
   "outputs": [
    {
     "data": {
      "text/plain": [
       "35"
      ]
     },
     "execution_count": 27,
     "metadata": {},
     "output_type": "execute_result"
    }
   ],
   "source": [
    "len(atags)"
   ]
  },
  {
   "cell_type": "code",
   "execution_count": 28,
   "metadata": {},
   "outputs": [
    {
     "data": {
      "text/plain": [
       "'http://www.wyndhamap.com/wps/wcm/connect/0b16df8f-5790-4943-b378-acaac7c9d563/Shoal-Bay-Resort-Banners2-6.jpg?MOD=AJPERES&CACHEID=0b16df8f-5790-4943-b378-acaac7c9d563'"
      ]
     },
     "execution_count": 28,
     "metadata": {},
     "output_type": "execute_result"
    }
   ],
   "source": [
    "json.loads(atags[34].get_attribute(\"m\"))['murl']"
   ]
  },
  {
   "cell_type": "code",
   "execution_count": null,
   "metadata": {},
   "outputs": [],
   "source": []
  },
  {
   "cell_type": "code",
   "execution_count": 29,
   "metadata": {},
   "outputs": [
    {
     "data": {
      "text/plain": [
       "'<a class=\"iusc\" style=\"height:160px;width:299px\" m=\"{&quot;cid&quot;:&quot;G60mqYnO&quot;,&quot;purl&quot;:&quot;http://www.wyndhamap.com/wps/wcm/connect/wyndham/home/resorts/australia/nsw/ramada-shoal-bay/overview/ramada-shoal-bay?loc=whg&quot;,&quot;murl&quot;:&quot;http://www.wyndhamap.com/wps/wcm/connect/0b16df8f-5790-4943-b378-acaac7c9d563/Shoal-Bay-Resort-Banners2-6.jpg?MOD=AJPERES&amp;CACHEID=0b16df8f-5790-4943-b378-acaac7c9d563&quot;,&quot;turl&quot;:&quot;http://tse1.mm.bing.net/th?id=OIP.G60mqYnOWbE-DA7VLEfBugEsB1&amp;pid=15.1&quot;,&quot;md5&quot;:&quot;1bad26a989ce59b13e0c0ed52c47c1ba&quot;}\" mad=\"{&quot;turl&quot;:&quot;http://tse1.mm.bing.net/th?id=OIP.G60mqYnOWbE-DA7VLEfBugEsB1&amp;w=299&amp;h=117&amp;pid=1.1&quot;,&quot;maw&quot;:&quot;299&quot;,&quot;mah&quot;:&quot;117&quot;,&quot;mid&quot;:&quot;CA52D6F4DD2EEFEC1E9FE0390BCA9EDE1D7CA5D6&quot;}\" href=\"/images/search?view=detailV2&amp;ccid=G60mqYnO&amp;id=CA52D6F4DD2EEFEC1E9FE0390BCA9EDE1D7CA5D6&amp;thid=OIP.G60mqYnOWbE-DA7VLEfBugEsB1&amp;q=bay&amp;simid=608014938333120100&amp;selectedIndex=34\" h=\"ID=images,5373.1\" data-focevt=\"1\"><div class=\"img_cont hoff\"><img class=\"mimg vimgld\" style=\"background-color:#117094;color:#117094\" height=\"117\" width=\"299\" alt=\"Image result for bay\" src=\"http://tse1.mm.bing.net/th?id=OIP.G60mqYnOWbE-DA7VLEfBugEsB1&amp;w=299&amp;h=117&amp;c=7&amp;qlt=90&amp;o=4&amp;pid=1.7\" data-bm=\"73\"></div></a>'"
      ]
     },
     "execution_count": 29,
     "metadata": {},
     "output_type": "execute_result"
    }
   ],
   "source": [
    "atags[34].get_attribute(\"outerHTML\")"
   ]
  },
  {
   "cell_type": "code",
   "execution_count": 30,
   "metadata": {},
   "outputs": [
    {
     "data": {
      "text/plain": [
       "'<a class=\"iusc\" style=\"height:160px;width:242px\" m=\"{&quot;cid&quot;:&quot;5Su3/66B&quot;,&quot;purl&quot;:&quot;https://achillfieldschool.wordpress.com/2014/05/08/a-visit-to-keem-bay/&quot;,&quot;murl&quot;:&quot;https://achillfieldschool.files.wordpress.com/2014/05/dsc_0287.jpg&quot;,&quot;turl&quot;:&quot;http://tse4.mm.bing.net/th?id=OIP.5Su3_66BqHzeAhUAbUgklQEsDI&amp;pid=15.1&quot;,&quot;md5&quot;:&quot;e52bb7ffae81a87cde0215006d482495&quot;}\" mad=\"{&quot;turl&quot;:&quot;http://tse2.mm.bing.net/th?id=OIP.5Su3_66BqHzeAhUAbUgklQEsDI&amp;w=300&amp;h=200&amp;pid=1.1&quot;,&quot;maw&quot;:&quot;300&quot;,&quot;mah&quot;:&quot;200&quot;,&quot;mid&quot;:&quot;DD089B779F640C1442AB515DB782A4987B7378EB&quot;}\" href=\"/images/search?view=detailV2&amp;ccid=5Su3%2f66B&amp;id=DD089B779F640C1442AB515DB782A4987B7378EB&amp;thid=OIP.5Su3_66BqHzeAhUAbUgklQEsDI&amp;q=bay&amp;simid=608003462168708023&amp;selectedIndex=0\" h=\"ID=images,5169.1\" data-focevt=\"1\"><div class=\"img_cont hoff\"><img class=\"mimg\" style=\"color: rgb(33, 128, 170);\" height=\"160\" width=\"242\" src=\"http://tse2.mm.bing.net/th?id=OIP.5Su3_66BqHzeAhUAbUgklQEsDI&amp;w=242&amp;h=160&amp;c=7&amp;qlt=90&amp;o=4&amp;pid=1.7\" alt=\"Image result for bay\" data-bm=\"29\"></div></a>'"
      ]
     },
     "execution_count": 30,
     "metadata": {},
     "output_type": "execute_result"
    }
   ],
   "source": [
    "atags[0].get_attribute(\"outerHTML\")"
   ]
  },
  {
   "cell_type": "code",
   "execution_count": null,
   "metadata": {},
   "outputs": [],
   "source": []
  },
  {
   "cell_type": "code",
   "execution_count": null,
   "metadata": {},
   "outputs": [],
   "source": []
  },
  {
   "cell_type": "code",
   "execution_count": 31,
   "metadata": {},
   "outputs": [],
   "source": [
    "ActionChains(driver).move_to_element(atags[34]).perform()"
   ]
  },
  {
   "cell_type": "code",
   "execution_count": null,
   "metadata": {},
   "outputs": [],
   "source": []
  },
  {
   "cell_type": "code",
   "execution_count": 32,
   "metadata": {},
   "outputs": [],
   "source": [
    "atags2 = driver.find_elements_by_class_name(\"iusc\")"
   ]
  },
  {
   "cell_type": "code",
   "execution_count": 33,
   "metadata": {},
   "outputs": [
    {
     "data": {
      "text/plain": [
       "70"
      ]
     },
     "execution_count": 33,
     "metadata": {},
     "output_type": "execute_result"
    }
   ],
   "source": [
    "len(atags2)"
   ]
  },
  {
   "cell_type": "code",
   "execution_count": 34,
   "metadata": {},
   "outputs": [
    {
     "data": {
      "text/plain": [
       "'<a class=\"iusc\" style=\"height:160px;width:242px\" m=\"{&quot;cid&quot;:&quot;5Su3/66B&quot;,&quot;purl&quot;:&quot;https://achillfieldschool.wordpress.com/2014/05/08/a-visit-to-keem-bay/&quot;,&quot;murl&quot;:&quot;https://achillfieldschool.files.wordpress.com/2014/05/dsc_0287.jpg&quot;,&quot;turl&quot;:&quot;http://tse4.mm.bing.net/th?id=OIP.5Su3_66BqHzeAhUAbUgklQEsDI&amp;pid=15.1&quot;,&quot;md5&quot;:&quot;e52bb7ffae81a87cde0215006d482495&quot;}\" mad=\"{&quot;turl&quot;:&quot;http://tse2.mm.bing.net/th?id=OIP.5Su3_66BqHzeAhUAbUgklQEsDI&amp;w=300&amp;h=200&amp;pid=1.1&quot;,&quot;maw&quot;:&quot;300&quot;,&quot;mah&quot;:&quot;200&quot;,&quot;mid&quot;:&quot;DD089B779F640C1442AB515DB782A4987B7378EB&quot;}\" href=\"/images/search?view=detailV2&amp;ccid=5Su3%2f66B&amp;id=DD089B779F640C1442AB515DB782A4987B7378EB&amp;thid=OIP.5Su3_66BqHzeAhUAbUgklQEsDI&amp;q=bay&amp;simid=608003462168708023&amp;selectedIndex=0\" h=\"ID=images,5169.1\" data-focevt=\"1\"><div class=\"img_cont hoff\"><img class=\"mimg\" style=\"color: rgb(33, 128, 170);\" height=\"160\" width=\"242\" src=\"http://tse2.mm.bing.net/th?id=OIP.5Su3_66BqHzeAhUAbUgklQEsDI&amp;w=242&amp;h=160&amp;c=7&amp;qlt=90&amp;o=4&amp;pid=1.7\" alt=\"Image result for bay\" data-bm=\"29\"></div></a>'"
      ]
     },
     "execution_count": 34,
     "metadata": {},
     "output_type": "execute_result"
    }
   ],
   "source": [
    "atags2[0].get_attribute(\"outerHTML\")"
   ]
  },
  {
   "cell_type": "code",
   "execution_count": 35,
   "metadata": {},
   "outputs": [
    {
     "data": {
      "text/plain": [
       "'<a class=\"iusc\" style=\"height:160px;width:299px\" m=\"{&quot;cid&quot;:&quot;G60mqYnO&quot;,&quot;purl&quot;:&quot;http://www.wyndhamap.com/wps/wcm/connect/wyndham/home/resorts/australia/nsw/ramada-shoal-bay/overview/ramada-shoal-bay?loc=whg&quot;,&quot;murl&quot;:&quot;http://www.wyndhamap.com/wps/wcm/connect/0b16df8f-5790-4943-b378-acaac7c9d563/Shoal-Bay-Resort-Banners2-6.jpg?MOD=AJPERES&amp;CACHEID=0b16df8f-5790-4943-b378-acaac7c9d563&quot;,&quot;turl&quot;:&quot;http://tse1.mm.bing.net/th?id=OIP.G60mqYnOWbE-DA7VLEfBugEsB1&amp;pid=15.1&quot;,&quot;md5&quot;:&quot;1bad26a989ce59b13e0c0ed52c47c1ba&quot;}\" mad=\"{&quot;turl&quot;:&quot;http://tse1.mm.bing.net/th?id=OIP.G60mqYnOWbE-DA7VLEfBugEsB1&amp;w=299&amp;h=117&amp;pid=1.1&quot;,&quot;maw&quot;:&quot;299&quot;,&quot;mah&quot;:&quot;117&quot;,&quot;mid&quot;:&quot;CA52D6F4DD2EEFEC1E9FE0390BCA9EDE1D7CA5D6&quot;}\" href=\"/images/search?view=detailV2&amp;ccid=G60mqYnO&amp;id=CA52D6F4DD2EEFEC1E9FE0390BCA9EDE1D7CA5D6&amp;thid=OIP.G60mqYnOWbE-DA7VLEfBugEsB1&amp;q=bay&amp;simid=608014938333120100&amp;selectedIndex=34\" h=\"ID=images,5373.1\" data-focevt=\"1\"><div class=\"img_cont hoff\"><img class=\"mimg vimgld\" style=\"color: rgb(17, 112, 148);\" height=\"117\" width=\"299\" alt=\"Image result for bay\" src=\"http://tse1.mm.bing.net/th?id=OIP.G60mqYnOWbE-DA7VLEfBugEsB1&amp;w=299&amp;h=117&amp;c=7&amp;qlt=90&amp;o=4&amp;pid=1.7\" data-bm=\"73\"></div></a>'"
      ]
     },
     "execution_count": 35,
     "metadata": {},
     "output_type": "execute_result"
    }
   ],
   "source": [
    "atags2[34].get_attribute(\"outerHTML\")"
   ]
  },
  {
   "cell_type": "code",
   "execution_count": 36,
   "metadata": {},
   "outputs": [
    {
     "data": {
      "text/plain": [
       "'<a class=\"iusc\" style=\"height:167px;width:252px\" m=\"{&quot;cid&quot;:&quot;TJWfXfcv&quot;,&quot;purl&quot;:&quot;http://www.australiascoralcoast.com/destinations/cervantes-jurien-bay-region/jurien-bay&quot;,&quot;murl&quot;:&quot;http://www.australiascoralcoast.com/sfimages/default-source/jurien-bay/jurien-bay-and-surrounds---jurien-bay-marine-park-small.jpg?size=294&quot;,&quot;turl&quot;:&quot;http://tse1.mm.bing.net/th?id=OIP.TJWfXfcvcSFdBlpJAcB_SgEsDH&amp;pid=15.1&quot;,&quot;md5&quot;:&quot;4c959f5df72f71215d065a4901c07f4a&quot;}\" mad=\"{&quot;turl&quot;:&quot;http://tse2.mm.bing.net/th?id=OIP.TJWfXfcvcSFdBlpJAcB_SgEsDH&amp;w=300&amp;h=199&amp;pid=1.1&quot;,&quot;maw&quot;:&quot;300&quot;,&quot;mah&quot;:&quot;199&quot;,&quot;mid&quot;:&quot;15A13BB2BF6448F28F9DD043E14F8B04916E590B&quot;}\" href=\"/images/search?view=detailV2&amp;ccid=TJWfXfcv&amp;id=15A13BB2BF6448F28F9DD043E14F8B04916E590B&amp;thid=OIP.TJWfXfcvcSFdBlpJAcB_SgEsDH&amp;q=bay&amp;simid=608030159678276020&amp;selectedIndex=71\" h=\"ID=images.6000_2,5228.1\" data-focevt=\"1\"><div class=\"img_cont hoff\"><img class=\"mimg\" style=\"color: rgb(16, 63, 131);\" height=\"167\" width=\"252\" src=\"http://tse2.mm.bing.net/th?id=OIP.TJWfXfcvcSFdBlpJAcB_SgEsDH&amp;w=252&amp;h=167&amp;c=7&amp;qlt=90&amp;o=4&amp;pid=1.7\" alt=\"Image result for bay\" data-bm=\"140\"></div></a>'"
      ]
     },
     "execution_count": 36,
     "metadata": {},
     "output_type": "execute_result"
    }
   ],
   "source": [
    "atags2[69].get_attribute(\"outerHTML\")"
   ]
  },
  {
   "cell_type": "code",
   "execution_count": null,
   "metadata": {},
   "outputs": [],
   "source": []
  },
  {
   "cell_type": "code",
   "execution_count": 42,
   "metadata": {},
   "outputs": [],
   "source": [
    "hval = 'ID=images,5373.1'"
   ]
  },
  {
   "cell_type": "code",
   "execution_count": 85,
   "metadata": {},
   "outputs": [],
   "source": [
    "def find_index(atags, hval):\n",
    "    for i in range(len(atags)):\n",
    "        if atags[i].get_attribute('h') == hval:\n",
    "            return i\n",
    "    return -1"
   ]
  },
  {
   "cell_type": "code",
   "execution_count": 86,
   "metadata": {},
   "outputs": [],
   "source": [
    "def get_url(atag):\n",
    "    return json.loads(atag.get_attribute(\"m\"))['murl']\n",
    "\n",
    "\n",
    "def scroll_to(elem):\n",
    "    ActionChains(driver).move_to_element(elem).perform()\n",
    "    \n",
    "def find_all_image_atags():\n",
    "    return driver.find_elements_by_class_name(\"iusc\")"
   ]
  },
  {
   "cell_type": "code",
   "execution_count": 87,
   "metadata": {},
   "outputs": [],
   "source": [
    "def get_urls(atags, after_hval = None):\n",
    "    begin = 0\n",
    "    res = []\n",
    "    if after_hval != None:\n",
    "        begin = find_index(atags, after_hval)+1\n",
    "    for i in range(begin, len(atags)):\n",
    "        res.append(get_url(atags[i]))\n",
    "    lasthval = atags[len(atags)-1].get_attribute('h')\n",
    "    return (lasthval, set(res))"
   ]
  },
  {
   "cell_type": "code",
   "execution_count": null,
   "metadata": {},
   "outputs": [],
   "source": []
  },
  {
   "cell_type": "code",
   "execution_count": 88,
   "metadata": {},
   "outputs": [],
   "source": [
    "def collect_all_urls(limit=100):\n",
    "    res_set = set()\n",
    "    last_hval = None\n",
    "    while len(res_set) < limit:\n",
    "        atags = find_all_image_atags()\n",
    "        last_hval, urls = get_urls(atags, last_hval)\n",
    "        res_set = res_set | urls\n",
    "        scroll_to(atags[len(atags)-1])\n",
    "        time.sleep(3)\n",
    "    return res_set\n"
   ]
  },
  {
   "cell_type": "code",
   "execution_count": 89,
   "metadata": {},
   "outputs": [
    {
     "data": {
      "text/plain": [
       "{'http://1.bp.blogspot.com/-SgeSYCLNPIU/T3rCgZLEb0I/AAAAAAAAAxk/ocs8TqKvyOU/s1600/Hanauma-Bay.jpg',\n",
       " 'http://2.bp.blogspot.com/-6wyHoBGwqT8/UVAR_ujR98I/AAAAAAAAYLw/JK8zAA4nt2A/s1600/Horseshoe-Bay-Bermuda.jpg',\n",
       " 'http://234659.temp-dns.com/wp-content/uploads/2012/04/Mumbles-ViewCCSpJL1.jpg',\n",
       " 'http://askbeach.com/wp-content/uploads/2016/01/horseshoe_2.jpg',\n",
       " 'http://askbeach.com/wp-content/uploads/2016/01/horseshoe_4.jpg',\n",
       " 'http://askbeach.com/wp-content/uploads/2016/01/wineglass_4.jpg',\n",
       " 'http://askbeach.com/wp-content/uploads/2016/01/wineglass_6.jpg',\n",
       " 'http://ciaobambino.com/wp-content/uploads/2013/08/little-dix-bay-beach.jpg',\n",
       " 'http://foundtheworld.com/wp-content/uploads/2017/02/The-Bay-of-Islands-1.jpg',\n",
       " 'http://gardenroutebliss.co.za/wp-content/uploads/2016/07/Plettenberg-Bay-Vacation-Home.jpg',\n",
       " 'http://hanifworld.com/Jamaica/22-Montego%20Bay%20beach.JPG',\n",
       " 'http://holidayhomes.ca/wp-content/uploads/2016/04/Image-1-1.jpg',\n",
       " 'http://i4.dailypost.co.uk/incoming/article2509705.ece/ALTERNATES/s1200/Colwyn-Bay.jpg',\n",
       " 'http://images.trvl-media.com/media/content/shared/images/travelguides/Bay-of-Islands-6024124-smallTabletRetina.jpg',\n",
       " 'http://images.trvl-media.com/media/content/shared/images/travelguides/Byron-Bay-and-vicinity-6138873-smallTabletRetina.jpg',\n",
       " 'http://johnwiseman.com.au/resize/uploads/7/c32.wineglass-bay-freycinet-tas.jpg+w=1075',\n",
       " 'http://media-cache-ak0.pinimg.com/originals/71/48/3c/71483c9f30491941bc7aa56fa8df39cc.jpg',\n",
       " 'http://media-cdn.tripadvisor.com/media/photo-s/01/0b/1d/fe/magens-bay.jpg',\n",
       " 'http://media-cdn.tripadvisor.com/media/photo-s/01/15/af/d3/beautiful-shoal-bay-from.jpg',\n",
       " 'http://media.expedia.com/media/content/shared/images/travelguides/destination/6051470/Sodwana-Bay-44757.jpg',\n",
       " 'http://mustseeplaces.eu/wp-content/uploads/2016/01/freycinet-national-park-tasmania-australia.jpg',\n",
       " 'http://robstraveltales.files.wordpress.com/2012/12/2012_10_08_whitley_bay_10.jpg',\n",
       " 'http://samliuphotography.files.wordpress.com/2012/09/hanauma-bay-panorama.jpg',\n",
       " 'http://skylinkworld.co.uk/wp-content/uploads/2017/06/alum-bay-isle-of-wight.jpg',\n",
       " 'http://static.boredpanda.com/blog/wp-content/uploads/2017/01/vodka-bottle-pebbles-glass-beach-ussuri-bay-russia-2.jpg',\n",
       " 'http://tassiegrammer.com.au/wp-content/uploads/2016/01/WineglassBay3.jpg',\n",
       " 'http://traveleering.com/wp-content/uploads/2017/02/8.Wineglass-bay-Tasmania.jpg',\n",
       " 'http://trearddur-bay.com/images/full-size-images/aerial-shot.jpg',\n",
       " 'http://upload.wikimedia.org/wikipedia/commons/1/12/New-york-bay.jpg',\n",
       " 'http://upload.wikimedia.org/wikipedia/commons/2/28/Magnetic_Island_Horseshoe_Bay_1.jpg',\n",
       " 'http://upload.wikimedia.org/wikipedia/commons/3/3f/Durness_Bay.JPG',\n",
       " 'http://upload.wikimedia.org/wikipedia/commons/4/4a/Bay_Makarska.jpg',\n",
       " 'http://upload.wikimedia.org/wikipedia/commons/5/5c/Bay_of_Fires_View.JPG',\n",
       " 'http://upload.wikimedia.org/wikipedia/commons/6/6f/St_oswalds_bay_near_lulworth_dorset_arp.jpg',\n",
       " 'http://upload.wikimedia.org/wikipedia/commons/8/83/Cardigan_bay_graham_well.jpg',\n",
       " 'http://upload.wikimedia.org/wikipedia/commons/9/96/Caneel_Bay_Snorkeling_at_Turtle_Bay_2.jpg',\n",
       " 'http://upload.wikimedia.org/wikipedia/commons/9/9a/Watsons_Bay_-_Camp_Cove_Beach,_Sydney_2_-_Nov_2008.jpg',\n",
       " 'http://upload.wikimedia.org/wikipedia/commons/9/9d/Smitswinkel_Bay.jpg',\n",
       " 'http://upload.wikimedia.org/wikipedia/commons/c/ce/Wineglass_Bay_from_Lookout_crop.jpg',\n",
       " 'http://upload.wikimedia.org/wikipedia/commons/d/d8/Talisker_bay.jpg',\n",
       " 'http://upload.wikimedia.org/wikipedia/commons/e/e0/Aghios_Georgios_Bay_in_Corfu.JPG',\n",
       " 'http://wallpapers.ae/wp-content/uploads/2016/08/Hanalei-Bay-Hawaii-United-States-Image.jpg',\n",
       " 'http://www.activeme.ie/wp-content/uploads/2012/10/Tralee-Bay-and-Beaches-small.jpg',\n",
       " 'http://www.amazingplacesonearth.com/wp-content/uploads/2013/02/Bay-of-Pigs-Brazil-1.jpg',\n",
       " 'http://www.australiantraveller.com/wp-content/uploads/2006/04/100-Things-To-Do-Before-You-Die-064-Wineglass-Bay.jpg',\n",
       " 'http://www.australiascoralcoast.com/sfimages/default-source/jurien-bay/jurien-bay-and-surrounds---jurien-bay-marine-park-small.jpg?size=294',\n",
       " 'http://www.cardiffbay.co.uk/wp-content/uploads/2016/03/Cardiff_Bay_Barrage.jpg',\n",
       " 'http://www.carlisle-bay.com/images/carlisle-bay-hotel_antigua-compressed.jpg',\n",
       " 'http://www.coralbay.ph/wp-content/uploads/2015/07/home.coralbay.aerial.slider.jpg',\n",
       " 'http://www.cornwall-online.co.uk/carrick/holywell-bay/holywellbay-sands.jpg',\n",
       " 'http://www.daandehn.com/Kaikoura-Marlborough%20Sounds/slides/Broughton%20Bay.jpg',\n",
       " 'http://www.discoveringfossils.co.uk/alum_bay_geological_guide2.jpg',\n",
       " 'http://www.doc.govt.nz/global/images/places/northland/maitai-bay/maitai-bay-karikari-peninsula-gallery.jpg',\n",
       " 'http://www.dreamvacation.com/wp-content/uploads/Cooten_Bay_1_tn.jpg',\n",
       " 'http://www.enjoyourholiday.com/wp-content/uploads/2014/08/Wineglass-Bay.jpg',\n",
       " 'http://www.executivehomeshk.com/sites/default/files/images/buildings/discovery-bay/seabee-lane/seabee-lane-4.jpg',\n",
       " 'http://www.gardenroute.com/userfiles/content/towns/mossel_bay/mossel_bay01.jpg',\n",
       " 'http://www.gbep.state.tx.us/wp-content/uploads/2013/09/West-Bay-10.15.09-001.jpg',\n",
       " 'http://www.hawaiigaga.com/Images/attractions/hanauma-bay-b1.jpg',\n",
       " 'http://www.hawaiigaga.com/Images/attractions/honolua-bay-b1.jpg',\n",
       " 'http://www.hermitagebay.com/content/desktop/img/backgrounds/img_home_windsurfing.jpg',\n",
       " 'http://www.iran-omantour.com/APNAA%201995/slides/Kalotaritissa%20bay.jpg',\n",
       " 'http://www.livingoceanscuba.com/wp-content/uploads/2014/12/hanauma-bay.jpg',\n",
       " 'http://www.oldcabo.com/wp-content/uploads/2015/06/chileno-bay-cabo_174_r2.jpg',\n",
       " 'http://www.queenslandweekender.com.au/wp-content/uploads/2016/03/butterfly-bay-hook-island.jpg',\n",
       " 'http://www.rosewoodhotels.com/en/~/media/Images/Rosewood_Hotels_and_Resorts/Rosewood_Little_Dix_Bay/gallery/hotel/ROSE-LDB-BayViewNorth-960%20x%20598.ashx',\n",
       " 'http://www.sunsail.com/files/Destinations/Caribbean/antigua/carlisle-bay.jpg',\n",
       " 'http://www.themarly.co.za/images/home/camps-bay-lions-head.jpg',\n",
       " 'http://www.touristsbook.com/wp-content/uploads/2016/01/wineglass-bay-tasmnia.jpg',\n",
       " 'http://www.tourstas.com.au/wp-content/uploads/2014/05/Wineglass_Bay_2_940x350.jpg',\n",
       " 'http://www.travel-explorer.com/wp-content/uploads/2011/07/ByronBay.jpg',\n",
       " 'http://www.uncommoncaribbean.com/wp-content/uploads/2014/01/Cinnamon-Bay-St.-John.jpg',\n",
       " 'http://www.uncommoncaribbean.com/wp-content/uploads/2014/02/Magens-Bay.jpg',\n",
       " 'http://www.visitnsw.com/sites/default/files/Honeymoon_Bay_Jervis_Bay.jpg',\n",
       " 'http://www.worldfortravel.com/wp-content/uploads/2013/04/Freycinet-Australia.jpg',\n",
       " 'http://www.worldofwanderlust.com/wp-content/uploads/2015/07/P1010074.jpg',\n",
       " 'http://www.wyndhamap.com/wps/wcm/connect/0b16df8f-5790-4943-b378-acaac7c9d563/Shoal-Bay-Resort-Banners2-6.jpg?MOD=AJPERES&CACHEID=0b16df8f-5790-4943-b378-acaac7c9d563',\n",
       " 'http://www.wyndhamap.com/wps/wcm/connect/e3324189-2823-4b8a-b3d0-950737c09c0f/Shoal-Bay-Resort-Banners2-28.jpg?MOD=AJPERES&CACHEID=e3324189-2823-4b8a-b3d0-950737c09c0f',\n",
       " 'http://xoio.de/wp-content/uploads/2013/11/Seaside_Village_Lustica_Bay_Birdseye_by_xoio.jpg',\n",
       " 'https://achillfieldschool.files.wordpress.com/2014/05/dsc_0287.jpg',\n",
       " 'https://gingerfield.files.wordpress.com/2009/07/3-sandwood-bay-sutherland.jpg',\n",
       " 'https://innkeeper.com.au/wp-content/uploads/2012/04/DSC2300.jpg',\n",
       " 'https://media-cdn.tripadvisor.com/media/photo-o/0d/d2/f0/3a/plantation-bay-resort.jpg',\n",
       " 'https://media-cdn.tripadvisor.com/media/photo-s/00/10/e5/79/hanauma-bay-from-the.jpg',\n",
       " 'https://media-cdn.tripadvisor.com/media/photo-s/01/08/75/88/hanauma-bay.jpg',\n",
       " 'https://media-cdn.tripadvisor.com/media/photo-s/01/c5/d9/3f/view-of-the-bay-from.jpg',\n",
       " 'https://s.iha.com/00138872316/Byron-bay-Byron-bay.jpeg',\n",
       " 'https://upload.wikimedia.org/wikipedia/commons/4/4c/Freycinet_Wineglass_Bay_And_Promise_Bay.jpg',\n",
       " 'https://upload.wikimedia.org/wikipedia/commons/7/7f/Hanauma_Bay_Panoramic_View.JPG',\n",
       " 'https://upload.wikimedia.org/wikipedia/commons/a/a2/Horseshoe_Bay_Stevage.jpg',\n",
       " 'https://upload.wikimedia.org/wikipedia/commons/b/b0/Ringstead_Bay_and_White_Nothe.JPG',\n",
       " 'https://upload.wikimedia.org/wikipedia/commons/d/d2/Clear_Water_Bay_1st_Beach.jpg',\n",
       " 'https://upload.wikimedia.org/wikipedia/commons/thumb/4/42/Pillar_Point_and_Half_Moon_Bay.jpg/1200px-Pillar_Point_and_Half_Moon_Bay.jpg',\n",
       " 'https://upload.wikimedia.org/wikipedia/commons/thumb/5/51/Naama_Bay_R01.jpg/1200px-Naama_Bay_R01.jpg',\n",
       " 'https://upload.wikimedia.org/wikipedia/commons/thumb/c/cb/SFNorthBay.JPG/1200px-SFNorthBay.JPG',\n",
       " 'https://www.colourfultrips.com/photos/Jervis_Bay_DOLPHIN_WATCH_FLEET-LongBeach.jpg',\n",
       " 'https://www.cornwall-beaches.co.uk/public/photos/lantic-bay-beach.jpg',\n",
       " 'https://www.cornwall-beaches.co.uk/public/photos/xlantic-bay.jpg.pagespeed.ic._pCIMb2Jl2.jpg',\n",
       " 'https://www.engelvoelkers.com/wp-content/uploads/2015/05/Clearwater_Bay.jpg',\n",
       " 'https://www.epa.gov/sites/production/files/styles/large/public/2015-03/what_is_the_bay_tmdl.jpg',\n",
       " 'https://www.iod.org.nz/portals/0/Branches%20and%20events/BayofPlenty_header.jpg',\n",
       " 'https://www.leisuretours.co.nz/wp-content/uploads/Bay-of-Islands.jpg',\n",
       " 'https://www.pgl.co.uk/Files/Files/Schools/Primary%20Schools/Centre%20Gallery/Osmington%20Bay/PS-G-Centre-Osmington-Bay-sea-beach-durdle-door-jurassic-coast-for-Primary-Schools.jpg'}"
      ]
     },
     "execution_count": 89,
     "metadata": {},
     "output_type": "execute_result"
    }
   ],
   "source": [
    "collect_all_urls()"
   ]
  },
  {
   "cell_type": "code",
   "execution_count": 90,
   "metadata": {},
   "outputs": [
    {
     "data": {
      "text/plain": [
       "103"
      ]
     },
     "execution_count": 90,
     "metadata": {},
     "output_type": "execute_result"
    }
   ],
   "source": [
    "len(Out[89])"
   ]
  },
  {
   "cell_type": "code",
   "execution_count": 69,
   "metadata": {},
   "outputs": [
    {
     "data": {
      "text/plain": [
       "{1, 2, 3}"
      ]
     },
     "execution_count": 69,
     "metadata": {},
     "output_type": "execute_result"
    }
   ],
   "source": [
    "set() | {1, 2, 3}"
   ]
  },
  {
   "cell_type": "code",
   "execution_count": 56,
   "metadata": {},
   "outputs": [
    {
     "data": {
      "text/plain": [
       "('ID=images.6000_2,5228.1',\n",
       " ['https://achillfieldschool.files.wordpress.com/2014/05/dsc_0287.jpg',\n",
       "  'http://traveleering.com/wp-content/uploads/2017/02/8.Wineglass-bay-Tasmania.jpg',\n",
       "  'https://media-cdn.tripadvisor.com/media/photo-s/01/c5/d9/3f/view-of-the-bay-from.jpg',\n",
       "  'http://tassiegrammer.com.au/wp-content/uploads/2016/01/WineglassBay3.jpg',\n",
       "  'http://www.australiantraveller.com/wp-content/uploads/2006/04/100-Things-To-Do-Before-You-Die-064-Wineglass-Bay.jpg',\n",
       "  'http://upload.wikimedia.org/wikipedia/commons/9/9d/Smitswinkel_Bay.jpg',\n",
       "  'http://ciaobambino.com/wp-content/uploads/2013/08/little-dix-bay-beach.jpg',\n",
       "  'https://www.engelvoelkers.com/wp-content/uploads/2015/05/Clearwater_Bay.jpg',\n",
       "  'https://upload.wikimedia.org/wikipedia/commons/a/a2/Horseshoe_Bay_Stevage.jpg',\n",
       "  'http://www.worldfortravel.com/wp-content/uploads/2013/04/Freycinet-Australia.jpg',\n",
       "  'http://mustseeplaces.eu/wp-content/uploads/2016/01/freycinet-national-park-tasmania-australia.jpg',\n",
       "  'http://media-cdn.tripadvisor.com/media/photo-s/01/0b/1d/fe/magens-bay.jpg',\n",
       "  'http://www.enjoyourholiday.com/wp-content/uploads/2014/08/Wineglass-Bay.jpg',\n",
       "  'http://upload.wikimedia.org/wikipedia/commons/6/6f/St_oswalds_bay_near_lulworth_dorset_arp.jpg',\n",
       "  'http://www.tourstas.com.au/wp-content/uploads/2014/05/Wineglass_Bay_2_940x350.jpg',\n",
       "  'http://www.worldofwanderlust.com/wp-content/uploads/2015/07/P1010074.jpg',\n",
       "  'https://upload.wikimedia.org/wikipedia/commons/4/4c/Freycinet_Wineglass_Bay_And_Promise_Bay.jpg',\n",
       "  'http://upload.wikimedia.org/wikipedia/commons/4/4a/Bay_Makarska.jpg',\n",
       "  'http://www.dreamvacation.com/wp-content/uploads/Cooten_Bay_1_tn.jpg',\n",
       "  'http://www.rosewoodhotels.com/en/~/media/Images/Rosewood_Hotels_and_Resorts/Rosewood_Little_Dix_Bay/gallery/hotel/ROSE-LDB-BayViewNorth-960%20x%20598.ashx',\n",
       "  'http://upload.wikimedia.org/wikipedia/commons/c/ce/Wineglass_Bay_from_Lookout_crop.jpg',\n",
       "  'http://www.carlisle-bay.com/images/carlisle-bay-hotel_antigua-compressed.jpg',\n",
       "  'http://www.touristsbook.com/wp-content/uploads/2016/01/wineglass-bay-tasmnia.jpg',\n",
       "  'http://www.discoveringfossils.co.uk/alum_bay_geological_guide2.jpg',\n",
       "  'https://upload.wikimedia.org/wikipedia/commons/d/d2/Clear_Water_Bay_1st_Beach.jpg',\n",
       "  'http://images.trvl-media.com/media/content/shared/images/travelguides/Bay-of-Islands-6024124-smallTabletRetina.jpg',\n",
       "  'https://www.cornwall-beaches.co.uk/public/photos/xlantic-bay.jpg.pagespeed.ic._pCIMb2Jl2.jpg',\n",
       "  'https://innkeeper.com.au/wp-content/uploads/2012/04/DSC2300.jpg',\n",
       "  'https://upload.wikimedia.org/wikipedia/commons/7/7f/Hanauma_Bay_Panoramic_View.JPG',\n",
       "  'https://www.iod.org.nz/portals/0/Branches%20and%20events/BayofPlenty_header.jpg',\n",
       "  'http://www.queenslandweekender.com.au/wp-content/uploads/2016/03/butterfly-bay-hook-island.jpg',\n",
       "  'http://images.trvl-media.com/media/content/shared/images/travelguides/Byron-Bay-and-vicinity-6138873-smallTabletRetina.jpg',\n",
       "  'http://media-cdn.tripadvisor.com/media/photo-s/01/15/af/d3/beautiful-shoal-bay-from.jpg',\n",
       "  'http://upload.wikimedia.org/wikipedia/commons/3/3f/Durness_Bay.JPG',\n",
       "  'http://www.wyndhamap.com/wps/wcm/connect/0b16df8f-5790-4943-b378-acaac7c9d563/Shoal-Bay-Resort-Banners2-6.jpg?MOD=AJPERES&CACHEID=0b16df8f-5790-4943-b378-acaac7c9d563',\n",
       "  'http://upload.wikimedia.org/wikipedia/commons/3/3f/Durness_Bay.JPG',\n",
       "  'http://askbeach.com/wp-content/uploads/2016/01/wineglass_4.jpg',\n",
       "  'https://www.cornwall-beaches.co.uk/public/photos/lantic-bay-beach.jpg',\n",
       "  'http://upload.wikimedia.org/wikipedia/commons/8/83/Cardigan_bay_graham_well.jpg',\n",
       "  'http://www.hermitagebay.com/content/desktop/img/backgrounds/img_home_windsurfing.jpg',\n",
       "  'http://gardenroutebliss.co.za/wp-content/uploads/2016/07/Plettenberg-Bay-Vacation-Home.jpg',\n",
       "  'https://www.pgl.co.uk/Files/Files/Schools/Primary%20Schools/Centre%20Gallery/Osmington%20Bay/PS-G-Centre-Osmington-Bay-sea-beach-durdle-door-jurassic-coast-for-Primary-Schools.jpg',\n",
       "  'http://www.doc.govt.nz/global/images/places/northland/maitai-bay/maitai-bay-karikari-peninsula-gallery.jpg',\n",
       "  'http://foundtheworld.com/wp-content/uploads/2017/02/The-Bay-of-Islands-1.jpg',\n",
       "  'http://upload.wikimedia.org/wikipedia/commons/9/9a/Watsons_Bay_-_Camp_Cove_Beach,_Sydney_2_-_Nov_2008.jpg',\n",
       "  'http://1.bp.blogspot.com/-SgeSYCLNPIU/T3rCgZLEb0I/AAAAAAAAAxk/ocs8TqKvyOU/s1600/Hanauma-Bay.jpg',\n",
       "  'http://xoio.de/wp-content/uploads/2013/11/Seaside_Village_Lustica_Bay_Birdseye_by_xoio.jpg',\n",
       "  'http://www.wyndhamap.com/wps/wcm/connect/0b16df8f-5790-4943-b378-acaac7c9d563/Shoal-Bay-Resort-Banners2-6.jpg?MOD=AJPERES&CACHEID=0b16df8f-5790-4943-b378-acaac7c9d563',\n",
       "  'http://www.coralbay.ph/wp-content/uploads/2015/07/home.coralbay.aerial.slider.jpg',\n",
       "  'https://upload.wikimedia.org/wikipedia/commons/thumb/4/42/Pillar_Point_and_Half_Moon_Bay.jpg/1200px-Pillar_Point_and_Half_Moon_Bay.jpg',\n",
       "  'http://234659.temp-dns.com/wp-content/uploads/2012/04/Mumbles-ViewCCSpJL1.jpg',\n",
       "  'http://upload.wikimedia.org/wikipedia/commons/e/e0/Aghios_Georgios_Bay_in_Corfu.JPG',\n",
       "  'http://www.hawaiigaga.com/Images/attractions/hanauma-bay-b1.jpg',\n",
       "  'http://www.themarly.co.za/images/home/camps-bay-lions-head.jpg',\n",
       "  'http://www.visitnsw.com/sites/default/files/Honeymoon_Bay_Jervis_Bay.jpg',\n",
       "  'https://www.epa.gov/sites/production/files/styles/large/public/2015-03/what_is_the_bay_tmdl.jpg',\n",
       "  'http://www.gardenroute.com/userfiles/content/towns/mossel_bay/mossel_bay01.jpg',\n",
       "  'http://www.executivehomeshk.com/sites/default/files/images/buildings/discovery-bay/seabee-lane/seabee-lane-4.jpg',\n",
       "  'http://askbeach.com/wp-content/uploads/2016/01/wineglass_6.jpg',\n",
       "  'https://s.iha.com/00138872316/Byron-bay-Byron-bay.jpeg',\n",
       "  'http://www.livingoceanscuba.com/wp-content/uploads/2014/12/hanauma-bay.jpg',\n",
       "  'https://www.colourfultrips.com/photos/Jervis_Bay_DOLPHIN_WATCH_FLEET-LongBeach.jpg',\n",
       "  'http://www.daandehn.com/Kaikoura-Marlborough%20Sounds/slides/Broughton%20Bay.jpg',\n",
       "  'http://static.boredpanda.com/blog/wp-content/uploads/2017/01/vodka-bottle-pebbles-glass-beach-ussuri-bay-russia-2.jpg',\n",
       "  'http://upload.wikimedia.org/wikipedia/commons/5/5c/Bay_of_Fires_View.JPG',\n",
       "  'http://johnwiseman.com.au/resize/uploads/7/c32.wineglass-bay-freycinet-tas.jpg+w=1075',\n",
       "  'https://media-cdn.tripadvisor.com/media/photo-s/01/08/75/88/hanauma-bay.jpg',\n",
       "  'http://www.wyndhamap.com/wps/wcm/connect/e3324189-2823-4b8a-b3d0-950737c09c0f/Shoal-Bay-Resort-Banners2-28.jpg?MOD=AJPERES&CACHEID=e3324189-2823-4b8a-b3d0-950737c09c0f',\n",
       "  'https://www.leisuretours.co.nz/wp-content/uploads/Bay-of-Islands.jpg',\n",
       "  'http://www.australiascoralcoast.com/sfimages/default-source/jurien-bay/jurien-bay-and-surrounds---jurien-bay-marine-park-small.jpg?size=294'])"
      ]
     },
     "execution_count": 56,
     "metadata": {},
     "output_type": "execute_result"
    }
   ],
   "source": [
    "get_urls(atags2)"
   ]
  },
  {
   "cell_type": "code",
   "execution_count": 57,
   "metadata": {},
   "outputs": [
    {
     "data": {
      "text/plain": [
       "('ID=images.6000_2,5228.1',\n",
       " ['http://upload.wikimedia.org/wikipedia/commons/3/3f/Durness_Bay.JPG',\n",
       "  'http://askbeach.com/wp-content/uploads/2016/01/wineglass_4.jpg',\n",
       "  'https://www.cornwall-beaches.co.uk/public/photos/lantic-bay-beach.jpg',\n",
       "  'http://upload.wikimedia.org/wikipedia/commons/8/83/Cardigan_bay_graham_well.jpg',\n",
       "  'http://www.hermitagebay.com/content/desktop/img/backgrounds/img_home_windsurfing.jpg',\n",
       "  'http://gardenroutebliss.co.za/wp-content/uploads/2016/07/Plettenberg-Bay-Vacation-Home.jpg',\n",
       "  'https://www.pgl.co.uk/Files/Files/Schools/Primary%20Schools/Centre%20Gallery/Osmington%20Bay/PS-G-Centre-Osmington-Bay-sea-beach-durdle-door-jurassic-coast-for-Primary-Schools.jpg',\n",
       "  'http://www.doc.govt.nz/global/images/places/northland/maitai-bay/maitai-bay-karikari-peninsula-gallery.jpg',\n",
       "  'http://foundtheworld.com/wp-content/uploads/2017/02/The-Bay-of-Islands-1.jpg',\n",
       "  'http://upload.wikimedia.org/wikipedia/commons/9/9a/Watsons_Bay_-_Camp_Cove_Beach,_Sydney_2_-_Nov_2008.jpg',\n",
       "  'http://1.bp.blogspot.com/-SgeSYCLNPIU/T3rCgZLEb0I/AAAAAAAAAxk/ocs8TqKvyOU/s1600/Hanauma-Bay.jpg',\n",
       "  'http://xoio.de/wp-content/uploads/2013/11/Seaside_Village_Lustica_Bay_Birdseye_by_xoio.jpg',\n",
       "  'http://www.wyndhamap.com/wps/wcm/connect/0b16df8f-5790-4943-b378-acaac7c9d563/Shoal-Bay-Resort-Banners2-6.jpg?MOD=AJPERES&CACHEID=0b16df8f-5790-4943-b378-acaac7c9d563',\n",
       "  'http://www.coralbay.ph/wp-content/uploads/2015/07/home.coralbay.aerial.slider.jpg',\n",
       "  'https://upload.wikimedia.org/wikipedia/commons/thumb/4/42/Pillar_Point_and_Half_Moon_Bay.jpg/1200px-Pillar_Point_and_Half_Moon_Bay.jpg',\n",
       "  'http://234659.temp-dns.com/wp-content/uploads/2012/04/Mumbles-ViewCCSpJL1.jpg',\n",
       "  'http://upload.wikimedia.org/wikipedia/commons/e/e0/Aghios_Georgios_Bay_in_Corfu.JPG',\n",
       "  'http://www.hawaiigaga.com/Images/attractions/hanauma-bay-b1.jpg',\n",
       "  'http://www.themarly.co.za/images/home/camps-bay-lions-head.jpg',\n",
       "  'http://www.visitnsw.com/sites/default/files/Honeymoon_Bay_Jervis_Bay.jpg',\n",
       "  'https://www.epa.gov/sites/production/files/styles/large/public/2015-03/what_is_the_bay_tmdl.jpg',\n",
       "  'http://www.gardenroute.com/userfiles/content/towns/mossel_bay/mossel_bay01.jpg',\n",
       "  'http://www.executivehomeshk.com/sites/default/files/images/buildings/discovery-bay/seabee-lane/seabee-lane-4.jpg',\n",
       "  'http://askbeach.com/wp-content/uploads/2016/01/wineglass_6.jpg',\n",
       "  'https://s.iha.com/00138872316/Byron-bay-Byron-bay.jpeg',\n",
       "  'http://www.livingoceanscuba.com/wp-content/uploads/2014/12/hanauma-bay.jpg',\n",
       "  'https://www.colourfultrips.com/photos/Jervis_Bay_DOLPHIN_WATCH_FLEET-LongBeach.jpg',\n",
       "  'http://www.daandehn.com/Kaikoura-Marlborough%20Sounds/slides/Broughton%20Bay.jpg',\n",
       "  'http://static.boredpanda.com/blog/wp-content/uploads/2017/01/vodka-bottle-pebbles-glass-beach-ussuri-bay-russia-2.jpg',\n",
       "  'http://upload.wikimedia.org/wikipedia/commons/5/5c/Bay_of_Fires_View.JPG',\n",
       "  'http://johnwiseman.com.au/resize/uploads/7/c32.wineglass-bay-freycinet-tas.jpg+w=1075',\n",
       "  'https://media-cdn.tripadvisor.com/media/photo-s/01/08/75/88/hanauma-bay.jpg',\n",
       "  'http://www.wyndhamap.com/wps/wcm/connect/e3324189-2823-4b8a-b3d0-950737c09c0f/Shoal-Bay-Resort-Banners2-28.jpg?MOD=AJPERES&CACHEID=e3324189-2823-4b8a-b3d0-950737c09c0f',\n",
       "  'https://www.leisuretours.co.nz/wp-content/uploads/Bay-of-Islands.jpg',\n",
       "  'http://www.australiascoralcoast.com/sfimages/default-source/jurien-bay/jurien-bay-and-surrounds---jurien-bay-marine-park-small.jpg?size=294'])"
      ]
     },
     "execution_count": 57,
     "metadata": {},
     "output_type": "execute_result"
    }
   ],
   "source": [
    "get_urls(atags2, hval)"
   ]
  },
  {
   "cell_type": "code",
   "execution_count": 47,
   "metadata": {},
   "outputs": [
    {
     "data": {
      "text/plain": [
       "[3, 4]"
      ]
     },
     "execution_count": 47,
     "metadata": {},
     "output_type": "execute_result"
    }
   ],
   "source": [
    "list(range(3, 5))"
   ]
  },
  {
   "cell_type": "code",
   "execution_count": 40,
   "metadata": {},
   "outputs": [
    {
     "data": {
      "text/plain": [
       "True"
      ]
     },
     "execution_count": 40,
     "metadata": {},
     "output_type": "execute_result"
    }
   ],
   "source": [
    "atags2[34].get_attribute('h') == 'ID=images,5373.1'"
   ]
  },
  {
   "cell_type": "code",
   "execution_count": 43,
   "metadata": {},
   "outputs": [
    {
     "data": {
      "text/plain": [
       "34"
      ]
     },
     "execution_count": 43,
     "metadata": {},
     "output_type": "execute_result"
    }
   ],
   "source": [
    "find_index(atags2, hval)"
   ]
  },
  {
   "cell_type": "code",
   "execution_count": null,
   "metadata": {},
   "outputs": [],
   "source": []
  },
  {
   "cell_type": "code",
   "execution_count": 58,
   "metadata": {},
   "outputs": [],
   "source": [
    "_, urls = Out[56]"
   ]
  },
  {
   "cell_type": "code",
   "execution_count": 59,
   "metadata": {},
   "outputs": [
    {
     "data": {
      "text/plain": [
       "70"
      ]
     },
     "execution_count": 59,
     "metadata": {},
     "output_type": "execute_result"
    }
   ],
   "source": [
    "len(urls)"
   ]
  },
  {
   "cell_type": "code",
   "execution_count": 62,
   "metadata": {},
   "outputs": [
    {
     "data": {
      "text/plain": [
       "68"
      ]
     },
     "execution_count": 62,
     "metadata": {},
     "output_type": "execute_result"
    }
   ],
   "source": [
    "len(sorted(set(urls)))"
   ]
  },
  {
   "cell_type": "code",
   "execution_count": 63,
   "metadata": {},
   "outputs": [
    {
     "data": {
      "text/plain": [
       "68"
      ]
     },
     "execution_count": 63,
     "metadata": {},
     "output_type": "execute_result"
    }
   ],
   "source": [
    "len(set(urls))"
   ]
  },
  {
   "cell_type": "code",
   "execution_count": 64,
   "metadata": {},
   "outputs": [],
   "source": [
    "S = {1, 2, 3, 4}\n",
    "T = {3, 4, 5, 6}"
   ]
  },
  {
   "cell_type": "code",
   "execution_count": null,
   "metadata": {},
   "outputs": [],
   "source": []
  },
  {
   "cell_type": "code",
   "execution_count": null,
   "metadata": {},
   "outputs": [],
   "source": []
  },
  {
   "cell_type": "markdown",
   "metadata": {},
   "source": [
    "### yahoo jp trial (not work)"
   ]
  },
  {
   "cell_type": "code",
   "execution_count": 1,
   "metadata": {},
   "outputs": [],
   "source": [
    "URL_TEMPLATE = \"https://search.yahoo.co.jp/image/search?p={}\""
   ]
  },
  {
   "cell_type": "code",
   "execution_count": 2,
   "metadata": {},
   "outputs": [],
   "source": [
    "top_url = URL_TEMPLATE.format(\"bay\")"
   ]
  },
  {
   "cell_type": "code",
   "execution_count": 10,
   "metadata": {},
   "outputs": [],
   "source": [
    "driver = webdriver.Chrome(chrome_options=chrome_options, executable_path=\"/usr/local/bin/chromedriver\")\n",
    "driver.maximize_window()"
   ]
  },
  {
   "cell_type": "code",
   "execution_count": 11,
   "metadata": {},
   "outputs": [],
   "source": [
    "driver.get(top_url)"
   ]
  },
  {
   "cell_type": "code",
   "execution_count": 12,
   "metadata": {},
   "outputs": [],
   "source": [
    "atags= driver.find_elements_by_css_selector(\"a[target='imagewin']\")"
   ]
  },
  {
   "cell_type": "code",
   "execution_count": 13,
   "metadata": {},
   "outputs": [
    {
     "data": {
      "text/plain": [
       "[<selenium.webdriver.remote.webelement.WebElement (session=\"e91829f1fb87ebbe6dd09e26de8e1bb9\", element=\"0.558469916898801-1\")>,\n",
       " <selenium.webdriver.remote.webelement.WebElement (session=\"e91829f1fb87ebbe6dd09e26de8e1bb9\", element=\"0.558469916898801-2\")>,\n",
       " <selenium.webdriver.remote.webelement.WebElement (session=\"e91829f1fb87ebbe6dd09e26de8e1bb9\", element=\"0.558469916898801-3\")>,\n",
       " <selenium.webdriver.remote.webelement.WebElement (session=\"e91829f1fb87ebbe6dd09e26de8e1bb9\", element=\"0.558469916898801-4\")>,\n",
       " <selenium.webdriver.remote.webelement.WebElement (session=\"e91829f1fb87ebbe6dd09e26de8e1bb9\", element=\"0.558469916898801-5\")>,\n",
       " <selenium.webdriver.remote.webelement.WebElement (session=\"e91829f1fb87ebbe6dd09e26de8e1bb9\", element=\"0.558469916898801-6\")>,\n",
       " <selenium.webdriver.remote.webelement.WebElement (session=\"e91829f1fb87ebbe6dd09e26de8e1bb9\", element=\"0.558469916898801-7\")>,\n",
       " <selenium.webdriver.remote.webelement.WebElement (session=\"e91829f1fb87ebbe6dd09e26de8e1bb9\", element=\"0.558469916898801-8\")>,\n",
       " <selenium.webdriver.remote.webelement.WebElement (session=\"e91829f1fb87ebbe6dd09e26de8e1bb9\", element=\"0.558469916898801-9\")>,\n",
       " <selenium.webdriver.remote.webelement.WebElement (session=\"e91829f1fb87ebbe6dd09e26de8e1bb9\", element=\"0.558469916898801-10\")>,\n",
       " <selenium.webdriver.remote.webelement.WebElement (session=\"e91829f1fb87ebbe6dd09e26de8e1bb9\", element=\"0.558469916898801-11\")>,\n",
       " <selenium.webdriver.remote.webelement.WebElement (session=\"e91829f1fb87ebbe6dd09e26de8e1bb9\", element=\"0.558469916898801-12\")>,\n",
       " <selenium.webdriver.remote.webelement.WebElement (session=\"e91829f1fb87ebbe6dd09e26de8e1bb9\", element=\"0.558469916898801-13\")>,\n",
       " <selenium.webdriver.remote.webelement.WebElement (session=\"e91829f1fb87ebbe6dd09e26de8e1bb9\", element=\"0.558469916898801-14\")>,\n",
       " <selenium.webdriver.remote.webelement.WebElement (session=\"e91829f1fb87ebbe6dd09e26de8e1bb9\", element=\"0.558469916898801-15\")>,\n",
       " <selenium.webdriver.remote.webelement.WebElement (session=\"e91829f1fb87ebbe6dd09e26de8e1bb9\", element=\"0.558469916898801-16\")>,\n",
       " <selenium.webdriver.remote.webelement.WebElement (session=\"e91829f1fb87ebbe6dd09e26de8e1bb9\", element=\"0.558469916898801-17\")>,\n",
       " <selenium.webdriver.remote.webelement.WebElement (session=\"e91829f1fb87ebbe6dd09e26de8e1bb9\", element=\"0.558469916898801-18\")>,\n",
       " <selenium.webdriver.remote.webelement.WebElement (session=\"e91829f1fb87ebbe6dd09e26de8e1bb9\", element=\"0.558469916898801-19\")>,\n",
       " <selenium.webdriver.remote.webelement.WebElement (session=\"e91829f1fb87ebbe6dd09e26de8e1bb9\", element=\"0.558469916898801-20\")>,\n",
       " <selenium.webdriver.remote.webelement.WebElement (session=\"e91829f1fb87ebbe6dd09e26de8e1bb9\", element=\"0.558469916898801-21\")>,\n",
       " <selenium.webdriver.remote.webelement.WebElement (session=\"e91829f1fb87ebbe6dd09e26de8e1bb9\", element=\"0.558469916898801-22\")>,\n",
       " <selenium.webdriver.remote.webelement.WebElement (session=\"e91829f1fb87ebbe6dd09e26de8e1bb9\", element=\"0.558469916898801-23\")>,\n",
       " <selenium.webdriver.remote.webelement.WebElement (session=\"e91829f1fb87ebbe6dd09e26de8e1bb9\", element=\"0.558469916898801-24\")>,\n",
       " <selenium.webdriver.remote.webelement.WebElement (session=\"e91829f1fb87ebbe6dd09e26de8e1bb9\", element=\"0.558469916898801-25\")>,\n",
       " <selenium.webdriver.remote.webelement.WebElement (session=\"e91829f1fb87ebbe6dd09e26de8e1bb9\", element=\"0.558469916898801-26\")>,\n",
       " <selenium.webdriver.remote.webelement.WebElement (session=\"e91829f1fb87ebbe6dd09e26de8e1bb9\", element=\"0.558469916898801-27\")>,\n",
       " <selenium.webdriver.remote.webelement.WebElement (session=\"e91829f1fb87ebbe6dd09e26de8e1bb9\", element=\"0.558469916898801-28\")>,\n",
       " <selenium.webdriver.remote.webelement.WebElement (session=\"e91829f1fb87ebbe6dd09e26de8e1bb9\", element=\"0.558469916898801-29\")>,\n",
       " <selenium.webdriver.remote.webelement.WebElement (session=\"e91829f1fb87ebbe6dd09e26de8e1bb9\", element=\"0.558469916898801-30\")>,\n",
       " <selenium.webdriver.remote.webelement.WebElement (session=\"e91829f1fb87ebbe6dd09e26de8e1bb9\", element=\"0.558469916898801-31\")>,\n",
       " <selenium.webdriver.remote.webelement.WebElement (session=\"e91829f1fb87ebbe6dd09e26de8e1bb9\", element=\"0.558469916898801-32\")>,\n",
       " <selenium.webdriver.remote.webelement.WebElement (session=\"e91829f1fb87ebbe6dd09e26de8e1bb9\", element=\"0.558469916898801-33\")>,\n",
       " <selenium.webdriver.remote.webelement.WebElement (session=\"e91829f1fb87ebbe6dd09e26de8e1bb9\", element=\"0.558469916898801-34\")>,\n",
       " <selenium.webdriver.remote.webelement.WebElement (session=\"e91829f1fb87ebbe6dd09e26de8e1bb9\", element=\"0.558469916898801-35\")>,\n",
       " <selenium.webdriver.remote.webelement.WebElement (session=\"e91829f1fb87ebbe6dd09e26de8e1bb9\", element=\"0.558469916898801-36\")>,\n",
       " <selenium.webdriver.remote.webelement.WebElement (session=\"e91829f1fb87ebbe6dd09e26de8e1bb9\", element=\"0.558469916898801-37\")>,\n",
       " <selenium.webdriver.remote.webelement.WebElement (session=\"e91829f1fb87ebbe6dd09e26de8e1bb9\", element=\"0.558469916898801-38\")>,\n",
       " <selenium.webdriver.remote.webelement.WebElement (session=\"e91829f1fb87ebbe6dd09e26de8e1bb9\", element=\"0.558469916898801-39\")>,\n",
       " <selenium.webdriver.remote.webelement.WebElement (session=\"e91829f1fb87ebbe6dd09e26de8e1bb9\", element=\"0.558469916898801-40\")>,\n",
       " <selenium.webdriver.remote.webelement.WebElement (session=\"e91829f1fb87ebbe6dd09e26de8e1bb9\", element=\"0.558469916898801-41\")>,\n",
       " <selenium.webdriver.remote.webelement.WebElement (session=\"e91829f1fb87ebbe6dd09e26de8e1bb9\", element=\"0.558469916898801-42\")>,\n",
       " <selenium.webdriver.remote.webelement.WebElement (session=\"e91829f1fb87ebbe6dd09e26de8e1bb9\", element=\"0.558469916898801-43\")>,\n",
       " <selenium.webdriver.remote.webelement.WebElement (session=\"e91829f1fb87ebbe6dd09e26de8e1bb9\", element=\"0.558469916898801-44\")>,\n",
       " <selenium.webdriver.remote.webelement.WebElement (session=\"e91829f1fb87ebbe6dd09e26de8e1bb9\", element=\"0.558469916898801-45\")>,\n",
       " <selenium.webdriver.remote.webelement.WebElement (session=\"e91829f1fb87ebbe6dd09e26de8e1bb9\", element=\"0.558469916898801-46\")>,\n",
       " <selenium.webdriver.remote.webelement.WebElement (session=\"e91829f1fb87ebbe6dd09e26de8e1bb9\", element=\"0.558469916898801-47\")>,\n",
       " <selenium.webdriver.remote.webelement.WebElement (session=\"e91829f1fb87ebbe6dd09e26de8e1bb9\", element=\"0.558469916898801-48\")>,\n",
       " <selenium.webdriver.remote.webelement.WebElement (session=\"e91829f1fb87ebbe6dd09e26de8e1bb9\", element=\"0.558469916898801-49\")>,\n",
       " <selenium.webdriver.remote.webelement.WebElement (session=\"e91829f1fb87ebbe6dd09e26de8e1bb9\", element=\"0.558469916898801-50\")>,\n",
       " <selenium.webdriver.remote.webelement.WebElement (session=\"e91829f1fb87ebbe6dd09e26de8e1bb9\", element=\"0.558469916898801-51\")>,\n",
       " <selenium.webdriver.remote.webelement.WebElement (session=\"e91829f1fb87ebbe6dd09e26de8e1bb9\", element=\"0.558469916898801-52\")>,\n",
       " <selenium.webdriver.remote.webelement.WebElement (session=\"e91829f1fb87ebbe6dd09e26de8e1bb9\", element=\"0.558469916898801-53\")>,\n",
       " <selenium.webdriver.remote.webelement.WebElement (session=\"e91829f1fb87ebbe6dd09e26de8e1bb9\", element=\"0.558469916898801-54\")>,\n",
       " <selenium.webdriver.remote.webelement.WebElement (session=\"e91829f1fb87ebbe6dd09e26de8e1bb9\", element=\"0.558469916898801-55\")>,\n",
       " <selenium.webdriver.remote.webelement.WebElement (session=\"e91829f1fb87ebbe6dd09e26de8e1bb9\", element=\"0.558469916898801-56\")>,\n",
       " <selenium.webdriver.remote.webelement.WebElement (session=\"e91829f1fb87ebbe6dd09e26de8e1bb9\", element=\"0.558469916898801-57\")>,\n",
       " <selenium.webdriver.remote.webelement.WebElement (session=\"e91829f1fb87ebbe6dd09e26de8e1bb9\", element=\"0.558469916898801-58\")>,\n",
       " <selenium.webdriver.remote.webelement.WebElement (session=\"e91829f1fb87ebbe6dd09e26de8e1bb9\", element=\"0.558469916898801-59\")>,\n",
       " <selenium.webdriver.remote.webelement.WebElement (session=\"e91829f1fb87ebbe6dd09e26de8e1bb9\", element=\"0.558469916898801-60\")>,\n",
       " <selenium.webdriver.remote.webelement.WebElement (session=\"e91829f1fb87ebbe6dd09e26de8e1bb9\", element=\"0.558469916898801-61\")>]"
      ]
     },
     "execution_count": 13,
     "metadata": {},
     "output_type": "execute_result"
    }
   ],
   "source": [
    "atags"
   ]
  },
  {
   "cell_type": "code",
   "execution_count": null,
   "metadata": {},
   "outputs": [],
   "source": []
  },
  {
   "cell_type": "markdown",
   "metadata": {},
   "source": [
    "# Yahoo Image search trial\n",
    "\n",
    "This page often cause page crash. I don't know the reason."
   ]
  },
  {
   "cell_type": "code",
   "execution_count": 36,
   "metadata": {},
   "outputs": [],
   "source": [
    "top_url = \"http://images.search.yahoo.com/\""
   ]
  },
  {
   "cell_type": "code",
   "execution_count": 37,
   "metadata": {},
   "outputs": [],
   "source": [
    "def search_word(word):\n",
    "    driver.get(top_url)\n",
    "    input = driver.find_element_by_id('yschsp')\n",
    "    input.send_keys(word)\n",
    "    btn = driver.find_element_by_class_name('ygbt')\n",
    "    btn.click()"
   ]
  },
  {
   "cell_type": "code",
   "execution_count": 49,
   "metadata": {},
   "outputs": [],
   "source": []
  },
  {
   "cell_type": "code",
   "execution_count": 50,
   "metadata": {},
   "outputs": [
    {
     "data": {
      "text/plain": [
       "'bay - Yahoo Image Search Results'"
      ]
     },
     "execution_count": 50,
     "metadata": {},
     "output_type": "execute_result"
    }
   ],
   "source": [
    "# driver.title"
   ]
  },
  {
   "cell_type": "code",
   "execution_count": 58,
   "metadata": {},
   "outputs": [],
   "source": []
  },
  {
   "cell_type": "code",
   "execution_count": 52,
   "metadata": {},
   "outputs": [],
   "source": []
  },
  {
   "cell_type": "code",
   "execution_count": 53,
   "metadata": {},
   "outputs": [],
   "source": []
  },
  {
   "cell_type": "code",
   "execution_count": null,
   "metadata": {},
   "outputs": [],
   "source": []
  },
  {
   "cell_type": "code",
   "execution_count": 14,
   "metadata": {},
   "outputs": [],
   "source": [
    "import time\n",
    "def ctrl_click_to_newtab(link):\n",
    "    for retry in range(5):\n",
    "        ActionChains(driver).key_down(Keys.CONTROL).click(link).key_up(Keys.CONTROL).perform()\n",
    "        if len(driver.window_handles) == 2:\n",
    "            return\n",
    "        time.sleep(0.5)\n",
    "    raise Exception(\"do not open new tab\")\n"
   ]
  },
  {
   "cell_type": "code",
   "execution_count": 15,
   "metadata": {},
   "outputs": [],
   "source": [
    "def get_image_url_from_viewimage():\n",
    "    link = driver.find_element_by_link_text('View Image')\n",
    "    ctrl_click_to_newtab(link)\n",
    "    driver.switch_to_window(driver.window_handles[1])\n",
    "    time.sleep(1)\n",
    "    url = driver.current_url\n",
    "    driver.close()\n",
    "    time.sleep(0.5)\n",
    "    driver.switch_to_window(driver.window_handles[0])\n",
    "    time.sleep(0.5)\n",
    "    return url"
   ]
  },
  {
   "cell_type": "code",
   "execution_count": 16,
   "metadata": {},
   "outputs": [],
   "source": [
    "def get_image_url_from_iholder():\n",
    "    div = driver.find_element_by_class_name('iholder')\n",
    "    img = div.find_element_by_id('img')\n",
    "    return img.get_attribute('src')"
   ]
  },
  {
   "cell_type": "code",
   "execution_count": 17,
   "metadata": {},
   "outputs": [],
   "source": [
    "def get_image_url(image_li):\n",
    "    image_li.click()\n",
    "    time.sleep(0.5)\n",
    "    return get_image_url_from_viewimage()"
   ]
  },
  {
   "cell_type": "code",
   "execution_count": 18,
   "metadata": {},
   "outputs": [],
   "source": [
    "def click_more():\n",
    "    more = driver.find_element_by_name('more-res')\n",
    "    more.click()"
   ]
  },
  {
   "cell_type": "code",
   "execution_count": 19,
   "metadata": {},
   "outputs": [],
   "source": [
    "def find_index_by_id(all_li, id):\n",
    "    for i in range(len(all_li)):\n",
    "        if(all_li[i].get_attribute('id') == id):\n",
    "            return i\n",
    "    return -1"
   ]
  },
  {
   "cell_type": "code",
   "execution_count": 20,
   "metadata": {},
   "outputs": [],
   "source": [
    "def click_next():\n",
    "    driver.find_element_by_css_selector(\".nav.right\").click()"
   ]
  },
  {
   "cell_type": "code",
   "execution_count": null,
   "metadata": {},
   "outputs": [],
   "source": []
  },
  {
   "cell_type": "code",
   "execution_count": 68,
   "metadata": {},
   "outputs": [],
   "source": [
    "driver = webdriver.Chrome(chrome_options=chrome_options, executable_path=\"/usr/local/bin/chromedriver\")\n",
    "driver.maximize_window()\n",
    "\n",
    "search_word('bay')\n",
    "first_res = driver.find_element_by_id(\"resitem-0\")\n",
    "par = first_res.parent\n",
    "all_lis = par.find_elements_by_tag_name('li')"
   ]
  },
  {
   "cell_type": "code",
   "execution_count": 69,
   "metadata": {},
   "outputs": [],
   "source": [
    "from selenium.common.exceptions import StaleElementReferenceException, WebDriverException\n",
    "def get_all_url(all_li, from_count=0, limit=20):\n",
    "    res = []\n",
    "    lastid = None\n",
    "    begin = find_index_by_id(all_li, \"resitem-{}\".format(from_count))\n",
    "    \n",
    "    ActionChains(driver).move_to_element(all_li[begin]).perform()\n",
    "    time.sleep(1)\n",
    "    \n",
    "    all_li[begin].click()\n",
    "    time.sleep(0.5)\n",
    "    count = from_count\n",
    "    while count < limit:\n",
    "        try:\n",
    "            print(count)\n",
    "            res.append(get_image_url_from_iholder())\n",
    "        except WebDriverException:\n",
    "            print(\"WebDriverException: Please restart from here.\")\n",
    "            return(count, res)\n",
    "        click_next()\n",
    "        time.sleep(2)\n",
    "        if (count%5) == 0:\n",
    "            time.sleep(3)\n",
    "        if (count%25) == 0:\n",
    "            time.sleep(5)\n",
    "        count +=1\n",
    "    return (count, res)"
   ]
  },
  {
   "cell_type": "code",
   "execution_count": 70,
   "metadata": {},
   "outputs": [
    {
     "name": "stdout",
     "output_type": "stream",
     "text": [
      "0\n",
      "1\n",
      "2\n",
      "3\n",
      "4\n",
      "5\n",
      "6\n",
      "7\n",
      "8\n",
      "9\n",
      "10\n",
      "11\n",
      "12\n",
      "13\n",
      "14\n",
      "15\n",
      "16\n",
      "17\n",
      "18\n",
      "19\n",
      "20\n",
      "21\n",
      "22\n",
      "23\n",
      "24\n"
     ]
    }
   ],
   "source": [
    "count, urls = get_all_url(all_lis, limit=25)"
   ]
  },
  {
   "cell_type": "code",
   "execution_count": 71,
   "metadata": {},
   "outputs": [
    {
     "data": {
      "text/plain": [
       "'http://images.trvl-media.com/media/content/shared/images/travelguides/Bay-of-Islands-6024124-smallTabletRetina.jpg'"
      ]
     },
     "execution_count": 71,
     "metadata": {},
     "output_type": "execute_result"
    }
   ],
   "source": [
    "get_image_url_from_iholder()"
   ]
  },
  {
   "cell_type": "code",
   "execution_count": 72,
   "metadata": {},
   "outputs": [],
   "source": [
    "click_next()"
   ]
  },
  {
   "cell_type": "code",
   "execution_count": 73,
   "metadata": {},
   "outputs": [
    {
     "ename": "WebDriverException",
     "evalue": "Message: unknown error: session deleted because of page crash\nfrom tab crashed\n  (Session info: headless chrome=62.0.3202.75)\n  (Driver info: chromedriver=2.33.506092 (733a02544d189eeb751fe0d7ddca79a0ee28cce4),platform=Linux 4.9.0-4-amd64 x86_64)\n",
     "output_type": "error",
     "traceback": [
      "\u001b[0;31m---------------------------------------------------------------------------\u001b[0m",
      "\u001b[0;31mWebDriverException\u001b[0m                        Traceback (most recent call last)",
      "\u001b[0;32m<ipython-input-73-5660a2bfaf31>\u001b[0m in \u001b[0;36m<module>\u001b[0;34m()\u001b[0m\n\u001b[0;32m----> 1\u001b[0;31m \u001b[0mget_image_url_from_iholder\u001b[0m\u001b[0;34m(\u001b[0m\u001b[0;34m)\u001b[0m\u001b[0;34m\u001b[0m\u001b[0m\n\u001b[0m",
      "\u001b[0;32m<ipython-input-16-f6a87a7bf2a8>\u001b[0m in \u001b[0;36mget_image_url_from_iholder\u001b[0;34m()\u001b[0m\n\u001b[1;32m      1\u001b[0m \u001b[0;32mdef\u001b[0m \u001b[0mget_image_url_from_iholder\u001b[0m\u001b[0;34m(\u001b[0m\u001b[0;34m)\u001b[0m\u001b[0;34m:\u001b[0m\u001b[0;34m\u001b[0m\u001b[0m\n\u001b[0;32m----> 2\u001b[0;31m     \u001b[0mdiv\u001b[0m \u001b[0;34m=\u001b[0m \u001b[0mdriver\u001b[0m\u001b[0;34m.\u001b[0m\u001b[0mfind_element_by_class_name\u001b[0m\u001b[0;34m(\u001b[0m\u001b[0;34m'iholder'\u001b[0m\u001b[0;34m)\u001b[0m\u001b[0;34m\u001b[0m\u001b[0m\n\u001b[0m\u001b[1;32m      3\u001b[0m     \u001b[0mimg\u001b[0m \u001b[0;34m=\u001b[0m \u001b[0mdiv\u001b[0m\u001b[0;34m.\u001b[0m\u001b[0mfind_element_by_id\u001b[0m\u001b[0;34m(\u001b[0m\u001b[0;34m'img'\u001b[0m\u001b[0;34m)\u001b[0m\u001b[0;34m\u001b[0m\u001b[0m\n\u001b[1;32m      4\u001b[0m     \u001b[0;32mreturn\u001b[0m \u001b[0mimg\u001b[0m\u001b[0;34m.\u001b[0m\u001b[0mget_attribute\u001b[0m\u001b[0;34m(\u001b[0m\u001b[0;34m'src'\u001b[0m\u001b[0;34m)\u001b[0m\u001b[0;34m\u001b[0m\u001b[0m\n",
      "\u001b[0;32m/usr/local/lib/python3.5/dist-packages/selenium/webdriver/remote/webdriver.py\u001b[0m in \u001b[0;36mfind_element_by_class_name\u001b[0;34m(self, name)\u001b[0m\n\u001b[1;32m    483\u001b[0m             \u001b[0mdriver\u001b[0m\u001b[0;34m.\u001b[0m\u001b[0mfind_element_by_class_name\u001b[0m\u001b[0;34m(\u001b[0m\u001b[0;34m'foo'\u001b[0m\u001b[0;34m)\u001b[0m\u001b[0;34m\u001b[0m\u001b[0m\n\u001b[1;32m    484\u001b[0m         \"\"\"\n\u001b[0;32m--> 485\u001b[0;31m         \u001b[0;32mreturn\u001b[0m \u001b[0mself\u001b[0m\u001b[0;34m.\u001b[0m\u001b[0mfind_element\u001b[0m\u001b[0;34m(\u001b[0m\u001b[0mby\u001b[0m\u001b[0;34m=\u001b[0m\u001b[0mBy\u001b[0m\u001b[0;34m.\u001b[0m\u001b[0mCLASS_NAME\u001b[0m\u001b[0;34m,\u001b[0m \u001b[0mvalue\u001b[0m\u001b[0;34m=\u001b[0m\u001b[0mname\u001b[0m\u001b[0;34m)\u001b[0m\u001b[0;34m\u001b[0m\u001b[0m\n\u001b[0m\u001b[1;32m    486\u001b[0m \u001b[0;34m\u001b[0m\u001b[0m\n\u001b[1;32m    487\u001b[0m     \u001b[0;32mdef\u001b[0m \u001b[0mfind_elements_by_class_name\u001b[0m\u001b[0;34m(\u001b[0m\u001b[0mself\u001b[0m\u001b[0;34m,\u001b[0m \u001b[0mname\u001b[0m\u001b[0;34m)\u001b[0m\u001b[0;34m:\u001b[0m\u001b[0;34m\u001b[0m\u001b[0m\n",
      "\u001b[0;32m/usr/local/lib/python3.5/dist-packages/selenium/webdriver/remote/webdriver.py\u001b[0m in \u001b[0;36mfind_element\u001b[0;34m(self, by, value)\u001b[0m\n\u001b[1;32m    841\u001b[0m         return self.execute(Command.FIND_ELEMENT, {\n\u001b[1;32m    842\u001b[0m             \u001b[0;34m'using'\u001b[0m\u001b[0;34m:\u001b[0m \u001b[0mby\u001b[0m\u001b[0;34m,\u001b[0m\u001b[0;34m\u001b[0m\u001b[0m\n\u001b[0;32m--> 843\u001b[0;31m             'value': value})['value']\n\u001b[0m\u001b[1;32m    844\u001b[0m \u001b[0;34m\u001b[0m\u001b[0m\n\u001b[1;32m    845\u001b[0m     \u001b[0;32mdef\u001b[0m \u001b[0mfind_elements\u001b[0m\u001b[0;34m(\u001b[0m\u001b[0mself\u001b[0m\u001b[0;34m,\u001b[0m \u001b[0mby\u001b[0m\u001b[0;34m=\u001b[0m\u001b[0mBy\u001b[0m\u001b[0;34m.\u001b[0m\u001b[0mID\u001b[0m\u001b[0;34m,\u001b[0m \u001b[0mvalue\u001b[0m\u001b[0;34m=\u001b[0m\u001b[0;32mNone\u001b[0m\u001b[0;34m)\u001b[0m\u001b[0;34m:\u001b[0m\u001b[0;34m\u001b[0m\u001b[0m\n",
      "\u001b[0;32m/usr/local/lib/python3.5/dist-packages/selenium/webdriver/remote/webdriver.py\u001b[0m in \u001b[0;36mexecute\u001b[0;34m(self, driver_command, params)\u001b[0m\n\u001b[1;32m    306\u001b[0m         \u001b[0mresponse\u001b[0m \u001b[0;34m=\u001b[0m \u001b[0mself\u001b[0m\u001b[0;34m.\u001b[0m\u001b[0mcommand_executor\u001b[0m\u001b[0;34m.\u001b[0m\u001b[0mexecute\u001b[0m\u001b[0;34m(\u001b[0m\u001b[0mdriver_command\u001b[0m\u001b[0;34m,\u001b[0m \u001b[0mparams\u001b[0m\u001b[0;34m)\u001b[0m\u001b[0;34m\u001b[0m\u001b[0m\n\u001b[1;32m    307\u001b[0m         \u001b[0;32mif\u001b[0m \u001b[0mresponse\u001b[0m\u001b[0;34m:\u001b[0m\u001b[0;34m\u001b[0m\u001b[0m\n\u001b[0;32m--> 308\u001b[0;31m             \u001b[0mself\u001b[0m\u001b[0;34m.\u001b[0m\u001b[0merror_handler\u001b[0m\u001b[0;34m.\u001b[0m\u001b[0mcheck_response\u001b[0m\u001b[0;34m(\u001b[0m\u001b[0mresponse\u001b[0m\u001b[0;34m)\u001b[0m\u001b[0;34m\u001b[0m\u001b[0m\n\u001b[0m\u001b[1;32m    309\u001b[0m             response['value'] = self._unwrap_value(\n\u001b[1;32m    310\u001b[0m                 response.get('value', None))\n",
      "\u001b[0;32m/usr/local/lib/python3.5/dist-packages/selenium/webdriver/remote/errorhandler.py\u001b[0m in \u001b[0;36mcheck_response\u001b[0;34m(self, response)\u001b[0m\n\u001b[1;32m    192\u001b[0m         \u001b[0;32melif\u001b[0m \u001b[0mexception_class\u001b[0m \u001b[0;34m==\u001b[0m \u001b[0mUnexpectedAlertPresentException\u001b[0m \u001b[0;32mand\u001b[0m \u001b[0;34m'alert'\u001b[0m \u001b[0;32min\u001b[0m \u001b[0mvalue\u001b[0m\u001b[0;34m:\u001b[0m\u001b[0;34m\u001b[0m\u001b[0m\n\u001b[1;32m    193\u001b[0m             \u001b[0;32mraise\u001b[0m \u001b[0mexception_class\u001b[0m\u001b[0;34m(\u001b[0m\u001b[0mmessage\u001b[0m\u001b[0;34m,\u001b[0m \u001b[0mscreen\u001b[0m\u001b[0;34m,\u001b[0m \u001b[0mstacktrace\u001b[0m\u001b[0;34m,\u001b[0m \u001b[0mvalue\u001b[0m\u001b[0;34m[\u001b[0m\u001b[0;34m'alert'\u001b[0m\u001b[0;34m]\u001b[0m\u001b[0;34m.\u001b[0m\u001b[0mget\u001b[0m\u001b[0;34m(\u001b[0m\u001b[0;34m'text'\u001b[0m\u001b[0;34m)\u001b[0m\u001b[0;34m)\u001b[0m\u001b[0;34m\u001b[0m\u001b[0m\n\u001b[0;32m--> 194\u001b[0;31m         \u001b[0;32mraise\u001b[0m \u001b[0mexception_class\u001b[0m\u001b[0;34m(\u001b[0m\u001b[0mmessage\u001b[0m\u001b[0;34m,\u001b[0m \u001b[0mscreen\u001b[0m\u001b[0;34m,\u001b[0m \u001b[0mstacktrace\u001b[0m\u001b[0;34m)\u001b[0m\u001b[0;34m\u001b[0m\u001b[0m\n\u001b[0m\u001b[1;32m    195\u001b[0m \u001b[0;34m\u001b[0m\u001b[0m\n\u001b[1;32m    196\u001b[0m     \u001b[0;32mdef\u001b[0m \u001b[0m_value_or_default\u001b[0m\u001b[0;34m(\u001b[0m\u001b[0mself\u001b[0m\u001b[0;34m,\u001b[0m \u001b[0mobj\u001b[0m\u001b[0;34m,\u001b[0m \u001b[0mkey\u001b[0m\u001b[0;34m,\u001b[0m \u001b[0mdefault\u001b[0m\u001b[0;34m)\u001b[0m\u001b[0;34m:\u001b[0m\u001b[0;34m\u001b[0m\u001b[0m\n",
      "\u001b[0;31mWebDriverException\u001b[0m: Message: unknown error: session deleted because of page crash\nfrom tab crashed\n  (Session info: headless chrome=62.0.3202.75)\n  (Driver info: chromedriver=2.33.506092 (733a02544d189eeb751fe0d7ddca79a0ee28cce4),platform=Linux 4.9.0-4-amd64 x86_64)\n"
     ]
    }
   ],
   "source": [
    "get_image_url_from_iholder()"
   ]
  },
  {
   "cell_type": "code",
   "execution_count": null,
   "metadata": {},
   "outputs": [],
   "source": []
  },
  {
   "cell_type": "code",
   "execution_count": null,
   "metadata": {},
   "outputs": [],
   "source": []
  },
  {
   "cell_type": "code",
   "execution_count": null,
   "metadata": {},
   "outputs": [],
   "source": []
  },
  {
   "cell_type": "code",
   "execution_count": null,
   "metadata": {},
   "outputs": [],
   "source": []
  },
  {
   "cell_type": "code",
   "execution_count": 22,
   "metadata": {
    "scrolled": false
   },
   "outputs": [
    {
     "name": "stdout",
     "output_type": "stream",
     "text": [
      "0\n",
      "1\n",
      "2\n",
      "3\n",
      "4\n",
      "5\n",
      "6\n",
      "7\n",
      "8\n",
      "9\n",
      "10\n",
      "11\n",
      "12\n",
      "13\n",
      "14\n",
      "15\n",
      "16\n",
      "17\n",
      "18\n",
      "19\n",
      "20\n",
      "21\n",
      "WebDriverException: Please restart from here.\n"
     ]
    }
   ],
   "source": [
    "count, urls = get_all_url(all_lis, limit=100)"
   ]
  },
  {
   "cell_type": "code",
   "execution_count": 23,
   "metadata": {},
   "outputs": [
    {
     "data": {
      "text/plain": [
       "['https://tse1.mm.bing.net/th?id=OIP.5Su3_66BqHzeAhUAbUgklQEsDI&pid=15.1&P=0&w=259&h=174',\n",
       " 'http://upload.wikimedia.org/wikipedia/commons/9/9d/Smitswinkel_Bay.jpg',\n",
       " 'http://www.worldfortravel.com/wp-content/uploads/2013/04/Freycinet-Australia.jpg',\n",
       " 'http://ciaobambino.com/wp-content/uploads/2013/08/little-dix-bay-beach.jpg',\n",
       " 'http://www.worldofwanderlust.com/wp-content/uploads/2015/07/P1010074.jpg',\n",
       " 'https://media-cdn.tripadvisor.com/media/photo-s/01/c5/d9/3f/view-of-the-bay-from.jpg',\n",
       " 'http://mustseeplaces.eu/wp-content/uploads/2016/01/freycinet-national-park-tasmania-australia.jpg',\n",
       " 'http://upload.wikimedia.org/wikipedia/commons/6/6f/St_oswalds_bay_near_lulworth_dorset_arp.jpg',\n",
       " 'http://upload.wikimedia.org/wikipedia/commons/c/ce/Wineglass_Bay_from_Lookout_crop.jpg',\n",
       " 'https://www.engelvoelkers.com/wp-content/uploads/2015/05/Clearwater_Bay.jpg',\n",
       " 'http://static.thousandwonders.net/Hanauma.Bay.original.15812.jpg',\n",
       " 'http://internet-travelgroups.com/wp-content/uploads/2016/01/Wineglass-Bay-Australia-15.jpg',\n",
       " 'https://upload.wikimedia.org/wikipedia/commons/thumb/3/34/Coffee_Bay.jpg/1200px-Coffee_Bay.jpg',\n",
       " 'http://traveleering.com/wp-content/uploads/2017/02/8.Wineglass-bay-Tasmania.jpg',\n",
       " 'https://media1.britannica.com/eb-media/74/94374-004-A4C2FE46.jpg',\n",
       " 'http://upload.wikimedia.org/wikipedia/commons/4/4a/Bay_Makarska.jpg',\n",
       " 'https://upload.wikimedia.org/wikipedia/commons/a/a2/Horseshoe_Bay_Stevage.jpg',\n",
       " 'http://www.discoveringfossils.co.uk/alum_bay_geological_guide2.jpg',\n",
       " 'https://www.iod.org.nz/portals/0/Branches%20and%20events/BayofPlenty_header.jpg',\n",
       " 'http://www.tourstas.com.au/wp-content/uploads/2014/05/Wineglass_Bay_2_940x350.jpg',\n",
       " 'http://tassiegrammer.com.au/wp-content/uploads/2016/01/WineglassBay3.jpg']"
      ]
     },
     "execution_count": 23,
     "metadata": {},
     "output_type": "execute_result"
    }
   ],
   "source": [
    "urls"
   ]
  },
  {
   "cell_type": "code",
   "execution_count": 23,
   "metadata": {},
   "outputs": [
    {
     "data": {
      "text/plain": [
       "21"
      ]
     },
     "execution_count": 23,
     "metadata": {},
     "output_type": "execute_result"
    }
   ],
   "source": [
    "count"
   ]
  },
  {
   "cell_type": "code",
   "execution_count": 22,
   "metadata": {},
   "outputs": [
    {
     "name": "stdout",
     "output_type": "stream",
     "text": [
      "0\n",
      "1\n",
      "2\n",
      "3\n",
      "4\n",
      "5\n",
      "6\n",
      "WebDriverException: Please restart from here.\n"
     ]
    }
   ],
   "source": [
    "count, urls = get_all_url(all_lis, from_count=21, limit=100)"
   ]
  },
  {
   "cell_type": "code",
   "execution_count": 22,
   "metadata": {},
   "outputs": [
    {
     "name": "stdout",
     "output_type": "stream",
     "text": [
      "22\n",
      "23\n",
      "24\n",
      "25\n",
      "26\n",
      "27\n",
      "WebDriverException: Please restart from here.\n"
     ]
    }
   ],
   "source": [
    "count, urls = get_all_url(all_lis, from_count=22, limit=100)"
   ]
  },
  {
   "cell_type": "code",
   "execution_count": 23,
   "metadata": {},
   "outputs": [
    {
     "data": {
      "text/plain": [
       "27"
      ]
     },
     "execution_count": 23,
     "metadata": {},
     "output_type": "execute_result"
    }
   ],
   "source": [
    "count"
   ]
  },
  {
   "cell_type": "code",
   "execution_count": 24,
   "metadata": {},
   "outputs": [
    {
     "data": {
      "text/plain": [
       "['https://tse3.mm.bing.net/th?id=OIP.QZT2x02R51ZdgjFCwnY6BwEgDY&pid=15.1&P=0&w=220&h=165',\n",
       " 'http://askbeach.com/wp-content/uploads/2016/01/wineglass_6.jpg',\n",
       " 'http://www.pgl.co.uk/Files/Files/Schools/Primary%20Schools/Centre%20Gallery/Osmington%20Bay/PS-G-Centre-Osmington-Bay-sea-beach-durdle-door-jurassic-coast-for-Primary-Schools.jpg',\n",
       " 'https://tse4.mm.bing.net/th?id=OIP._ps0dCwgM-_IO4R9q-jC3wEsC7&pid=15.1&P=0&w=274&h=172',\n",
       " 'http://www.100besteverything.com/best-beaches/i-53-1924_hanaumabaywp1.jpg']"
      ]
     },
     "execution_count": 24,
     "metadata": {},
     "output_type": "execute_result"
    }
   ],
   "source": [
    "urls"
   ]
  },
  {
   "cell_type": "code",
   "execution_count": 22,
   "metadata": {},
   "outputs": [
    {
     "name": "stdout",
     "output_type": "stream",
     "text": [
      "27\n",
      "28\n",
      "WebDriverException: Please restart from here.\n"
     ]
    }
   ],
   "source": [
    "count, urls = get_all_url(all_lis, from_count=27, limit=100)"
   ]
  },
  {
   "cell_type": "code",
   "execution_count": 23,
   "metadata": {},
   "outputs": [
    {
     "data": {
      "text/plain": [
       "['https://tse3.mm.bing.net/th?id=OIP.wcqIe65uyBMM1hW40t2QpQEsDI&pid=15.1&P=0&w=257&h=173']"
      ]
     },
     "execution_count": 23,
     "metadata": {},
     "output_type": "execute_result"
    }
   ],
   "source": [
    "urls"
   ]
  },
  {
   "cell_type": "code",
   "execution_count": 20,
   "metadata": {},
   "outputs": [
    {
     "name": "stdout",
     "output_type": "stream",
     "text": [
      "28\n",
      "29\n",
      "30\n",
      "31\n",
      "32\n",
      "WebDriverException: Please restart from here.\n"
     ]
    }
   ],
   "source": [
    "count, urls = get_all_url(all_lis, from_count=28, limit=100)"
   ]
  },
  {
   "cell_type": "code",
   "execution_count": 21,
   "metadata": {},
   "outputs": [
    {
     "data": {
      "text/plain": [
       "['https://tse3.mm.bing.net/th?id=OIP.yINJMexEXGs7QoDx6KsGzgEsDo&pid=15.1&P=0&w=220&h=171',\n",
       " 'http://www.touristsbook.com/wp-content/uploads/2016/01/wineglass-bay-tasmnia.jpg',\n",
       " 'http://1.bp.blogspot.com/-mfYgwpoi5-0/UOQ98ZrCJcI/AAAAAAAAAts/Y1pXc0pMcAY/s1600/Byron+Bay+View.jpg',\n",
       " 'https://www.cornwall-beaches.co.uk/public/photos/lantic-bay-beach.jpg']"
      ]
     },
     "execution_count": 21,
     "metadata": {},
     "output_type": "execute_result"
    }
   ],
   "source": [
    "urls"
   ]
  },
  {
   "cell_type": "code",
   "execution_count": 20,
   "metadata": {},
   "outputs": [
    {
     "name": "stdout",
     "output_type": "stream",
     "text": [
      "32\n",
      "33\n",
      "34\n",
      "35\n",
      "36\n",
      "WebDriverException: Please restart from here.\n"
     ]
    }
   ],
   "source": [
    "count, urls = get_all_url(all_lis, from_count=32, limit=100)"
   ]
  },
  {
   "cell_type": "code",
   "execution_count": 21,
   "metadata": {},
   "outputs": [
    {
     "data": {
      "text/plain": [
       "['https://tse3.mm.bing.net/th?id=OIP.8YpLRoCzCJNYR3eC0jTd5wEsDI&pid=15.1&P=0&w=246&h=165',\n",
       " 'https://tse4.mm.bing.net/th?id=OIP.uyrbgx3_iVSAMugF3F1tVgE1DK&pid=15.1&P=0&w=319&h=209',\n",
       " 'http://images.trvl-media.com/media/content/shared/images/travelguides/Byron-Bay-and-vicinity-6138873-smallTabletRetina.jpg',\n",
       " 'http://www.doc.govt.nz/global/images/places/northland/maitai-bay/maitai-bay-karikari-peninsula-gallery.jpg']"
      ]
     },
     "execution_count": 21,
     "metadata": {},
     "output_type": "execute_result"
    }
   ],
   "source": [
    "urls"
   ]
  },
  {
   "cell_type": "code",
   "execution_count": 20,
   "metadata": {},
   "outputs": [
    {
     "name": "stdout",
     "output_type": "stream",
     "text": [
      "36\n",
      "37\n",
      "38\n",
      "WebDriverException: Please restart from here.\n"
     ]
    }
   ],
   "source": [
    "count, urls = get_all_url(all_lis, from_count=36, limit=100)"
   ]
  },
  {
   "cell_type": "code",
   "execution_count": 21,
   "metadata": {},
   "outputs": [
    {
     "data": {
      "text/plain": [
       "['https://tse3.mm.bing.net/th?id=OIP.TCQAnyFjNmo-37TVobOX1gEsB1&pid=15.1&P=0&w=368&h=144',\n",
       " 'http://www.carlisle-bay.com/images/carlisle-bay-hotel_antigua-compressed.jpg']"
      ]
     },
     "execution_count": 21,
     "metadata": {},
     "output_type": "execute_result"
    }
   ],
   "source": [
    "urls"
   ]
  },
  {
   "cell_type": "code",
   "execution_count": 20,
   "metadata": {},
   "outputs": [
    {
     "name": "stdout",
     "output_type": "stream",
     "text": [
      "38\n",
      "39\n",
      "WebDriverException: Please restart from here.\n"
     ]
    }
   ],
   "source": [
    "count, urls = get_all_url(all_lis, from_count=38, limit=100)"
   ]
  },
  {
   "cell_type": "code",
   "execution_count": 21,
   "metadata": {},
   "outputs": [
    {
     "data": {
      "text/plain": [
       "['https://tse4.mm.bing.net/th?id=OIP.ijApGq_tsLGpakNyR7X9GwEsBd&pid=15.1&P=0&w=368&h=115']"
      ]
     },
     "execution_count": 21,
     "metadata": {},
     "output_type": "execute_result"
    }
   ],
   "source": [
    "urls"
   ]
  },
  {
   "cell_type": "code",
   "execution_count": 20,
   "metadata": {
    "scrolled": true
   },
   "outputs": [
    {
     "name": "stdout",
     "output_type": "stream",
     "text": [
      "39\n",
      "40\n",
      "41\n",
      "42\n",
      "43\n",
      "44\n",
      "45\n",
      "46\n",
      "WebDriverException: Please restart from here.\n"
     ]
    }
   ],
   "source": [
    "count, urls = get_all_url(all_lis, from_count=39, limit=100)"
   ]
  },
  {
   "cell_type": "code",
   "execution_count": 22,
   "metadata": {},
   "outputs": [
    {
     "data": {
      "text/plain": [
       "['https://tse1.mm.bing.net/th?id=OIP.QWVv30E5K-M_78aWQvlaWQEsDI&pid=15.1&P=0&w=256&h=172',\n",
       " 'https://www.leisuretours.co.nz/wp-content/uploads/Bay-of-Islands.jpg',\n",
       " 'https://upload.wikimedia.org/wikipedia/commons/thumb/4/42/Pillar_Point_and_Half_Moon_Bay.jpg/1200px-Pillar_Point_and_Half_Moon_Bay.jpg',\n",
       " 'https://upload.wikimedia.org/wikipedia/commons/d/d2/Clear_Water_Bay_1st_Beach.jpg',\n",
       " 'https://media-cdn.tripadvisor.com/media/photo-o/0d/d2/f0/3a/plantation-bay-resort.jpg',\n",
       " 'https://d19lgisewk9l6l.cloudfront.net/wexas/www/images/largeimages/destinations/Antigua-and-Barbuda/Carlisle_Bay.jpg',\n",
       " 'http://askbeach.com/wp-content/uploads/2016/01/horseshoe_2.jpg']"
      ]
     },
     "execution_count": 22,
     "metadata": {},
     "output_type": "execute_result"
    }
   ],
   "source": [
    "urls"
   ]
  },
  {
   "cell_type": "code",
   "execution_count": null,
   "metadata": {},
   "outputs": [],
   "source": []
  },
  {
   "cell_type": "code",
   "execution_count": null,
   "metadata": {},
   "outputs": [],
   "source": []
  },
  {
   "cell_type": "code",
   "execution_count": null,
   "metadata": {},
   "outputs": [],
   "source": []
  },
  {
   "cell_type": "code",
   "execution_count": null,
   "metadata": {},
   "outputs": [],
   "source": []
  },
  {
   "cell_type": "code",
   "execution_count": null,
   "metadata": {},
   "outputs": [],
   "source": []
  },
  {
   "cell_type": "code",
   "execution_count": null,
   "metadata": {},
   "outputs": [],
   "source": []
  },
  {
   "cell_type": "code",
   "execution_count": null,
   "metadata": {},
   "outputs": [],
   "source": []
  },
  {
   "cell_type": "code",
   "execution_count": 19,
   "metadata": {},
   "outputs": [
    {
     "data": {
      "text/plain": [
       "'https://www.iod.org.nz/portals/0/Branches%20and%20events/BayofPlenty_header.jpg'"
      ]
     },
     "execution_count": 19,
     "metadata": {},
     "output_type": "execute_result"
    }
   ],
   "source": [
    "get_image_url(all_lis[106])"
   ]
  },
  {
   "cell_type": "code",
   "execution_count": 20,
   "metadata": {},
   "outputs": [
    {
     "data": {
      "text/plain": [
       "'http://www.tourstas.com.au/wp-content/uploads/2014/05/Wineglass_Bay_2_940x350.jpg'"
      ]
     },
     "execution_count": 20,
     "metadata": {},
     "output_type": "execute_result"
    }
   ],
   "source": [
    "get_image_url(all_lis[107])"
   ]
  },
  {
   "cell_type": "code",
   "execution_count": 21,
   "metadata": {},
   "outputs": [
    {
     "data": {
      "text/plain": [
       "'http://tassiegrammer.com.au/wp-content/uploads/2016/01/WineglassBay3.jpg'"
      ]
     },
     "execution_count": 21,
     "metadata": {},
     "output_type": "execute_result"
    }
   ],
   "source": [
    "get_image_url(all_lis[108])"
   ]
  },
  {
   "cell_type": "code",
   "execution_count": 22,
   "metadata": {},
   "outputs": [
    {
     "ename": "WebDriverException",
     "evalue": "Message: unknown error: session deleted because of page crash\nfrom tab crashed\n  (Session info: headless chrome=62.0.3202.75)\n  (Driver info: chromedriver=2.33.506092 (733a02544d189eeb751fe0d7ddca79a0ee28cce4),platform=Linux 4.9.0-4-amd64 x86_64)\n",
     "output_type": "error",
     "traceback": [
      "\u001b[0;31m---------------------------------------------------------------------------\u001b[0m",
      "\u001b[0;31mWebDriverException\u001b[0m                        Traceback (most recent call last)",
      "\u001b[0;32m<ipython-input-22-0294aedcd0d7>\u001b[0m in \u001b[0;36m<module>\u001b[0;34m()\u001b[0m\n\u001b[0;32m----> 1\u001b[0;31m \u001b[0mget_image_url\u001b[0m\u001b[0;34m(\u001b[0m\u001b[0mall_lis\u001b[0m\u001b[0;34m[\u001b[0m\u001b[0;36m109\u001b[0m\u001b[0;34m]\u001b[0m\u001b[0;34m)\u001b[0m\u001b[0;34m\u001b[0m\u001b[0m\n\u001b[0m",
      "\u001b[0;32m<ipython-input-14-aad379107865>\u001b[0m in \u001b[0;36mget_image_url\u001b[0;34m(image_li)\u001b[0m\n\u001b[1;32m      2\u001b[0m     \u001b[0mimage_li\u001b[0m\u001b[0;34m.\u001b[0m\u001b[0mclick\u001b[0m\u001b[0;34m(\u001b[0m\u001b[0;34m)\u001b[0m\u001b[0;34m\u001b[0m\u001b[0m\n\u001b[1;32m      3\u001b[0m     \u001b[0mtime\u001b[0m\u001b[0;34m.\u001b[0m\u001b[0msleep\u001b[0m\u001b[0;34m(\u001b[0m\u001b[0;36m1\u001b[0m\u001b[0;34m)\u001b[0m\u001b[0;34m\u001b[0m\u001b[0m\n\u001b[0;32m----> 4\u001b[0;31m     \u001b[0mlink\u001b[0m \u001b[0;34m=\u001b[0m \u001b[0mdriver\u001b[0m\u001b[0;34m.\u001b[0m\u001b[0mfind_element_by_link_text\u001b[0m\u001b[0;34m(\u001b[0m\u001b[0;34m'View Image'\u001b[0m\u001b[0;34m)\u001b[0m\u001b[0;34m\u001b[0m\u001b[0m\n\u001b[0m\u001b[1;32m      5\u001b[0m     \u001b[0mctrl_click_to_newtab\u001b[0m\u001b[0;34m(\u001b[0m\u001b[0mlink\u001b[0m\u001b[0;34m)\u001b[0m\u001b[0;34m\u001b[0m\u001b[0m\n\u001b[1;32m      6\u001b[0m     \u001b[0mdriver\u001b[0m\u001b[0;34m.\u001b[0m\u001b[0mswitch_to_window\u001b[0m\u001b[0;34m(\u001b[0m\u001b[0mdriver\u001b[0m\u001b[0;34m.\u001b[0m\u001b[0mwindow_handles\u001b[0m\u001b[0;34m[\u001b[0m\u001b[0;36m1\u001b[0m\u001b[0;34m]\u001b[0m\u001b[0;34m)\u001b[0m\u001b[0;34m\u001b[0m\u001b[0m\n",
      "\u001b[0;32m/usr/local/lib/python3.5/dist-packages/selenium/webdriver/remote/webdriver.py\u001b[0m in \u001b[0;36mfind_element_by_link_text\u001b[0;34m(self, link_text)\u001b[0m\n\u001b[1;32m    387\u001b[0m             \u001b[0mdriver\u001b[0m\u001b[0;34m.\u001b[0m\u001b[0mfind_element_by_link_text\u001b[0m\u001b[0;34m(\u001b[0m\u001b[0;34m'Sign In'\u001b[0m\u001b[0;34m)\u001b[0m\u001b[0;34m\u001b[0m\u001b[0m\n\u001b[1;32m    388\u001b[0m         \"\"\"\n\u001b[0;32m--> 389\u001b[0;31m         \u001b[0;32mreturn\u001b[0m \u001b[0mself\u001b[0m\u001b[0;34m.\u001b[0m\u001b[0mfind_element\u001b[0m\u001b[0;34m(\u001b[0m\u001b[0mby\u001b[0m\u001b[0;34m=\u001b[0m\u001b[0mBy\u001b[0m\u001b[0;34m.\u001b[0m\u001b[0mLINK_TEXT\u001b[0m\u001b[0;34m,\u001b[0m \u001b[0mvalue\u001b[0m\u001b[0;34m=\u001b[0m\u001b[0mlink_text\u001b[0m\u001b[0;34m)\u001b[0m\u001b[0;34m\u001b[0m\u001b[0m\n\u001b[0m\u001b[1;32m    390\u001b[0m \u001b[0;34m\u001b[0m\u001b[0m\n\u001b[1;32m    391\u001b[0m     \u001b[0;32mdef\u001b[0m \u001b[0mfind_elements_by_link_text\u001b[0m\u001b[0;34m(\u001b[0m\u001b[0mself\u001b[0m\u001b[0;34m,\u001b[0m \u001b[0mtext\u001b[0m\u001b[0;34m)\u001b[0m\u001b[0;34m:\u001b[0m\u001b[0;34m\u001b[0m\u001b[0m\n",
      "\u001b[0;32m/usr/local/lib/python3.5/dist-packages/selenium/webdriver/remote/webdriver.py\u001b[0m in \u001b[0;36mfind_element\u001b[0;34m(self, by, value)\u001b[0m\n\u001b[1;32m    841\u001b[0m         return self.execute(Command.FIND_ELEMENT, {\n\u001b[1;32m    842\u001b[0m             \u001b[0;34m'using'\u001b[0m\u001b[0;34m:\u001b[0m \u001b[0mby\u001b[0m\u001b[0;34m,\u001b[0m\u001b[0;34m\u001b[0m\u001b[0m\n\u001b[0;32m--> 843\u001b[0;31m             'value': value})['value']\n\u001b[0m\u001b[1;32m    844\u001b[0m \u001b[0;34m\u001b[0m\u001b[0m\n\u001b[1;32m    845\u001b[0m     \u001b[0;32mdef\u001b[0m \u001b[0mfind_elements\u001b[0m\u001b[0;34m(\u001b[0m\u001b[0mself\u001b[0m\u001b[0;34m,\u001b[0m \u001b[0mby\u001b[0m\u001b[0;34m=\u001b[0m\u001b[0mBy\u001b[0m\u001b[0;34m.\u001b[0m\u001b[0mID\u001b[0m\u001b[0;34m,\u001b[0m \u001b[0mvalue\u001b[0m\u001b[0;34m=\u001b[0m\u001b[0;32mNone\u001b[0m\u001b[0;34m)\u001b[0m\u001b[0;34m:\u001b[0m\u001b[0;34m\u001b[0m\u001b[0m\n",
      "\u001b[0;32m/usr/local/lib/python3.5/dist-packages/selenium/webdriver/remote/webdriver.py\u001b[0m in \u001b[0;36mexecute\u001b[0;34m(self, driver_command, params)\u001b[0m\n\u001b[1;32m    306\u001b[0m         \u001b[0mresponse\u001b[0m \u001b[0;34m=\u001b[0m \u001b[0mself\u001b[0m\u001b[0;34m.\u001b[0m\u001b[0mcommand_executor\u001b[0m\u001b[0;34m.\u001b[0m\u001b[0mexecute\u001b[0m\u001b[0;34m(\u001b[0m\u001b[0mdriver_command\u001b[0m\u001b[0;34m,\u001b[0m \u001b[0mparams\u001b[0m\u001b[0;34m)\u001b[0m\u001b[0;34m\u001b[0m\u001b[0m\n\u001b[1;32m    307\u001b[0m         \u001b[0;32mif\u001b[0m \u001b[0mresponse\u001b[0m\u001b[0;34m:\u001b[0m\u001b[0;34m\u001b[0m\u001b[0m\n\u001b[0;32m--> 308\u001b[0;31m             \u001b[0mself\u001b[0m\u001b[0;34m.\u001b[0m\u001b[0merror_handler\u001b[0m\u001b[0;34m.\u001b[0m\u001b[0mcheck_response\u001b[0m\u001b[0;34m(\u001b[0m\u001b[0mresponse\u001b[0m\u001b[0;34m)\u001b[0m\u001b[0;34m\u001b[0m\u001b[0m\n\u001b[0m\u001b[1;32m    309\u001b[0m             response['value'] = self._unwrap_value(\n\u001b[1;32m    310\u001b[0m                 response.get('value', None))\n",
      "\u001b[0;32m/usr/local/lib/python3.5/dist-packages/selenium/webdriver/remote/errorhandler.py\u001b[0m in \u001b[0;36mcheck_response\u001b[0;34m(self, response)\u001b[0m\n\u001b[1;32m    192\u001b[0m         \u001b[0;32melif\u001b[0m \u001b[0mexception_class\u001b[0m \u001b[0;34m==\u001b[0m \u001b[0mUnexpectedAlertPresentException\u001b[0m \u001b[0;32mand\u001b[0m \u001b[0;34m'alert'\u001b[0m \u001b[0;32min\u001b[0m \u001b[0mvalue\u001b[0m\u001b[0;34m:\u001b[0m\u001b[0;34m\u001b[0m\u001b[0m\n\u001b[1;32m    193\u001b[0m             \u001b[0;32mraise\u001b[0m \u001b[0mexception_class\u001b[0m\u001b[0;34m(\u001b[0m\u001b[0mmessage\u001b[0m\u001b[0;34m,\u001b[0m \u001b[0mscreen\u001b[0m\u001b[0;34m,\u001b[0m \u001b[0mstacktrace\u001b[0m\u001b[0;34m,\u001b[0m \u001b[0mvalue\u001b[0m\u001b[0;34m[\u001b[0m\u001b[0;34m'alert'\u001b[0m\u001b[0;34m]\u001b[0m\u001b[0;34m.\u001b[0m\u001b[0mget\u001b[0m\u001b[0;34m(\u001b[0m\u001b[0;34m'text'\u001b[0m\u001b[0;34m)\u001b[0m\u001b[0;34m)\u001b[0m\u001b[0;34m\u001b[0m\u001b[0m\n\u001b[0;32m--> 194\u001b[0;31m         \u001b[0;32mraise\u001b[0m \u001b[0mexception_class\u001b[0m\u001b[0;34m(\u001b[0m\u001b[0mmessage\u001b[0m\u001b[0;34m,\u001b[0m \u001b[0mscreen\u001b[0m\u001b[0;34m,\u001b[0m \u001b[0mstacktrace\u001b[0m\u001b[0;34m)\u001b[0m\u001b[0;34m\u001b[0m\u001b[0m\n\u001b[0m\u001b[1;32m    195\u001b[0m \u001b[0;34m\u001b[0m\u001b[0m\n\u001b[1;32m    196\u001b[0m     \u001b[0;32mdef\u001b[0m \u001b[0m_value_or_default\u001b[0m\u001b[0;34m(\u001b[0m\u001b[0mself\u001b[0m\u001b[0;34m,\u001b[0m \u001b[0mobj\u001b[0m\u001b[0;34m,\u001b[0m \u001b[0mkey\u001b[0m\u001b[0;34m,\u001b[0m \u001b[0mdefault\u001b[0m\u001b[0;34m)\u001b[0m\u001b[0;34m:\u001b[0m\u001b[0;34m\u001b[0m\u001b[0m\n",
      "\u001b[0;31mWebDriverException\u001b[0m: Message: unknown error: session deleted because of page crash\nfrom tab crashed\n  (Session info: headless chrome=62.0.3202.75)\n  (Driver info: chromedriver=2.33.506092 (733a02544d189eeb751fe0d7ddca79a0ee28cce4),platform=Linux 4.9.0-4-amd64 x86_64)\n"
     ]
    }
   ],
   "source": [
    "get_image_url(all_lis[109])"
   ]
  },
  {
   "cell_type": "code",
   "execution_count": null,
   "metadata": {},
   "outputs": [],
   "source": [
    "get_image_url(all_lis[110])"
   ]
  },
  {
   "cell_type": "code",
   "execution_count": 14,
   "metadata": {},
   "outputs": [
    {
     "data": {
      "text/plain": [
       "['',\n",
       " '',\n",
       " '',\n",
       " '',\n",
       " '',\n",
       " '',\n",
       " '',\n",
       " '',\n",
       " '',\n",
       " '',\n",
       " '',\n",
       " '',\n",
       " '',\n",
       " '',\n",
       " '',\n",
       " 'pivot_more',\n",
       " '',\n",
       " '',\n",
       " '',\n",
       " '',\n",
       " '',\n",
       " '',\n",
       " 'yss',\n",
       " '',\n",
       " '',\n",
       " 'license',\n",
       " '',\n",
       " '',\n",
       " '',\n",
       " '',\n",
       " '',\n",
       " '',\n",
       " '',\n",
       " '',\n",
       " '',\n",
       " '',\n",
       " '',\n",
       " '',\n",
       " '',\n",
       " '',\n",
       " '',\n",
       " '',\n",
       " '',\n",
       " '',\n",
       " '',\n",
       " '',\n",
       " '',\n",
       " '',\n",
       " '',\n",
       " '',\n",
       " '',\n",
       " '',\n",
       " '',\n",
       " '',\n",
       " '',\n",
       " '',\n",
       " '',\n",
       " '',\n",
       " '',\n",
       " '',\n",
       " '',\n",
       " '',\n",
       " '',\n",
       " '',\n",
       " '',\n",
       " '',\n",
       " '',\n",
       " 'resitem-fpub0',\n",
       " 'resitem-fpub1',\n",
       " 'resitem-fpub2',\n",
       " 'resitem-fpub3',\n",
       " 'resitem-fpub4',\n",
       " 'resitem-fpub5',\n",
       " 'resitem-fpub6',\n",
       " 'resitem-fpub7',\n",
       " 'resitem-fpub8',\n",
       " 'resitem-fpub9',\n",
       " 'resitem-fpub10',\n",
       " 'resitem-fpub11',\n",
       " 'resitem-fpub12',\n",
       " 'resitem-fpub13',\n",
       " 'resitem-fpub14',\n",
       " 'resitem-fpub15',\n",
       " 'resitem-fpub16',\n",
       " 'resitem-fpub17',\n",
       " 'resitem-fpub18',\n",
       " 'resitem-fpub19',\n",
       " '',\n",
       " 'resitem-0',\n",
       " 'resitem-1',\n",
       " 'resitem-2',\n",
       " 'resitem-3',\n",
       " 'resitem-4',\n",
       " 'resitem-5',\n",
       " 'resitem-6',\n",
       " 'resitem-7',\n",
       " 'resitem-8',\n",
       " 'resitem-9',\n",
       " 'resitem-10',\n",
       " 'resitem-11',\n",
       " 'resitem-12',\n",
       " 'resitem-13',\n",
       " 'resitem-14',\n",
       " 'resitem-15',\n",
       " 'resitem-16',\n",
       " 'resitem-17',\n",
       " 'resitem-18',\n",
       " 'resitem-19',\n",
       " 'resitem-20',\n",
       " 'resitem-21',\n",
       " 'resitem-22',\n",
       " 'resitem-23',\n",
       " 'resitem-24',\n",
       " 'resitem-25',\n",
       " 'resitem-26',\n",
       " 'resitem-27',\n",
       " 'resitem-28',\n",
       " 'resitem-29',\n",
       " 'resitem-30',\n",
       " 'resitem-31',\n",
       " 'resitem-32',\n",
       " 'resitem-33',\n",
       " 'resitem-34',\n",
       " 'resitem-35',\n",
       " 'resitem-36',\n",
       " 'resitem-37',\n",
       " 'resitem-38',\n",
       " 'resitem-39',\n",
       " 'resitem-40',\n",
       " 'resitem-41',\n",
       " 'resitem-42',\n",
       " 'resitem-43',\n",
       " 'resitem-44',\n",
       " 'resitem-45',\n",
       " 'resitem-46',\n",
       " 'resitem-47',\n",
       " 'resitem-48',\n",
       " 'resitem-49',\n",
       " 'resitem-50',\n",
       " 'resitem-51',\n",
       " 'resitem-52',\n",
       " 'resitem-53',\n",
       " 'yui_3_5_1_1_1509369624614_752',\n",
       " 'yui_3_5_1_1_1509369624614_756',\n",
       " 'yui_3_5_1_1_1509369624614_760',\n",
       " 'yui_3_5_1_1_1509369624614_764',\n",
       " 'yui_3_5_1_1_1509369624614_768',\n",
       " 'yui_3_5_1_1_1509369624614_772',\n",
       " 'yui_3_5_1_1_1509369624614_776',\n",
       " 'yui_3_5_1_1_1509369624614_780',\n",
       " 'yui_3_5_1_1_1509369624614_784',\n",
       " '',\n",
       " '',\n",
       " '',\n",
       " '',\n",
       " '',\n",
       " '',\n",
       " '',\n",
       " '']"
      ]
     },
     "execution_count": 14,
     "metadata": {},
     "output_type": "execute_result"
    }
   ],
   "source": [
    "list(map(lambda el: el.get_attribute(\"id\"), all_lis))"
   ]
  },
  {
   "cell_type": "code",
   "execution_count": null,
   "metadata": {},
   "outputs": [],
   "source": []
  },
  {
   "cell_type": "code",
   "execution_count": null,
   "metadata": {},
   "outputs": [],
   "source": []
  },
  {
   "cell_type": "code",
   "execution_count": 16,
   "metadata": {},
   "outputs": [],
   "source": [
    "first_res.click()"
   ]
  },
  {
   "cell_type": "code",
   "execution_count": 17,
   "metadata": {},
   "outputs": [
    {
     "data": {
      "text/plain": [
       "<selenium.webdriver.remote.webelement.WebElement (session=\"48c95370da3fbfad83f4ade1687ce9f0\", element=\"0.5663800474746361-160\")>"
      ]
     },
     "execution_count": 17,
     "metadata": {},
     "output_type": "execute_result"
    }
   ],
   "source": [
    "driver.find_element_by_class_name('iholder')"
   ]
  },
  {
   "cell_type": "code",
   "execution_count": 18,
   "metadata": {},
   "outputs": [],
   "source": [
    "div = driver.find_element_by_class_name('iholder')"
   ]
  },
  {
   "cell_type": "code",
   "execution_count": 19,
   "metadata": {},
   "outputs": [
    {
     "data": {
      "text/plain": [
       "<selenium.webdriver.remote.webelement.WebElement (session=\"48c95370da3fbfad83f4ade1687ce9f0\", element=\"0.5663800474746361-161\")>"
      ]
     },
     "execution_count": 19,
     "metadata": {},
     "output_type": "execute_result"
    }
   ],
   "source": [
    "div.find_element_by_id('img')"
   ]
  },
  {
   "cell_type": "code",
   "execution_count": 20,
   "metadata": {},
   "outputs": [],
   "source": [
    "img = div.find_element_by_id('img')"
   ]
  },
  {
   "cell_type": "code",
   "execution_count": 21,
   "metadata": {},
   "outputs": [
    {
     "data": {
      "text/plain": [
       "'https://achillfieldschool.files.wordpress.com/2014/05/dsc_0287.jpg'"
      ]
     },
     "execution_count": 21,
     "metadata": {},
     "output_type": "execute_result"
    }
   ],
   "source": [
    "img.get_attribute('src')"
   ]
  },
  {
   "cell_type": "code",
   "execution_count": null,
   "metadata": {},
   "outputs": [],
   "source": []
  },
  {
   "cell_type": "code",
   "execution_count": 22,
   "metadata": {},
   "outputs": [
    {
     "data": {
      "text/plain": [
       "'https://achillfieldschool.files.wordpress.com/2014/05/dsc_0287.jpg'"
      ]
     },
     "execution_count": 22,
     "metadata": {},
     "output_type": "execute_result"
    }
   ],
   "source": [
    "get_image_url_from_viewimage()"
   ]
  },
  {
   "cell_type": "code",
   "execution_count": 29,
   "metadata": {},
   "outputs": [],
   "source": [
    "click_next()"
   ]
  },
  {
   "cell_type": "code",
   "execution_count": 30,
   "metadata": {},
   "outputs": [
    {
     "data": {
      "text/plain": [
       "'http://www.worldfortravel.com/wp-content/uploads/2013/04/Freycinet-Australia.jpg'"
      ]
     },
     "execution_count": 30,
     "metadata": {},
     "output_type": "execute_result"
    }
   ],
   "source": [
    "get_image_url_from_iholder()"
   ]
  },
  {
   "cell_type": "code",
   "execution_count": null,
   "metadata": {},
   "outputs": [],
   "source": []
  },
  {
   "cell_type": "code",
   "execution_count": 24,
   "metadata": {},
   "outputs": [
    {
     "data": {
      "text/plain": [
       "True"
      ]
     },
     "execution_count": 24,
     "metadata": {},
     "output_type": "execute_result"
    }
   ],
   "source": [
    "(20%10) == 0"
   ]
  },
  {
   "cell_type": "code",
   "execution_count": null,
   "metadata": {},
   "outputs": [],
   "source": []
  },
  {
   "cell_type": "code",
   "execution_count": null,
   "metadata": {},
   "outputs": [],
   "source": []
  },
  {
   "cell_type": "code",
   "execution_count": 20,
   "metadata": {},
   "outputs": [
    {
     "data": {
      "text/plain": [
       "'resitem-0'"
      ]
     },
     "execution_count": 20,
     "metadata": {},
     "output_type": "execute_result"
    }
   ],
   "source": [
    "all_lis[88].get_attribute('id')"
   ]
  },
  {
   "cell_type": "code",
   "execution_count": 26,
   "metadata": {},
   "outputs": [
    {
     "data": {
      "text/plain": [
       "'https://achillfieldschool.files.wordpress.com/2014/05/dsc_0287.jpg'"
      ]
     },
     "execution_count": 26,
     "metadata": {},
     "output_type": "execute_result"
    }
   ],
   "source": [
    "get_image_url(all_lis[88])"
   ]
  },
  {
   "cell_type": "code",
   "execution_count": 27,
   "metadata": {},
   "outputs": [
    {
     "data": {
      "text/plain": [
       "'https://upload.wikimedia.org/wikipedia/commons/9/9d/Smitswinkel_Bay.jpg'"
      ]
     },
     "execution_count": 27,
     "metadata": {},
     "output_type": "execute_result"
    }
   ],
   "source": [
    "get_image_url(all_lis[89])"
   ]
  },
  {
   "cell_type": "code",
   "execution_count": 29,
   "metadata": {},
   "outputs": [
    {
     "data": {
      "text/plain": [
       "('http://www.worldfortravel.com/wp-content/uploads/2013/04/Freycinet-Australia.jpg',\n",
       " 'http://www.worldfortravel.com/wp-content/uploads/2013/04/Freycinet-Australia.jpg',\n",
       " 'http://www.worldofwanderlust.com/wp-content/uploads/2015/07/P1010074.jpg',\n",
       " 'https://media-cdn.tripadvisor.com/media/photo-s/01/c5/d9/3f/view-of-the-bay-from.jpg')"
      ]
     },
     "execution_count": 29,
     "metadata": {},
     "output_type": "execute_result"
    }
   ],
   "source": [
    "get_image_url(all_lis[90]), get_image_url(all_lis[91]), get_image_url(all_lis[92]), get_image_url(all_lis[93])"
   ]
  },
  {
   "cell_type": "code",
   "execution_count": 25,
   "metadata": {},
   "outputs": [
    {
     "ename": "StaleElementReferenceException",
     "evalue": "Message: stale element reference: element is not attached to the page document\n  (Session info: headless chrome=62.0.3202.75)\n  (Driver info: chromedriver=2.33.506092 (733a02544d189eeb751fe0d7ddca79a0ee28cce4),platform=Linux 4.9.0-4-amd64 x86_64)\n",
     "output_type": "error",
     "traceback": [
      "\u001b[0;31m---------------------------------------------------------------------------\u001b[0m",
      "\u001b[0;31mStaleElementReferenceException\u001b[0m            Traceback (most recent call last)",
      "\u001b[0;32m<ipython-input-25-4490ec0b3ac4>\u001b[0m in \u001b[0;36m<module>\u001b[0;34m()\u001b[0m\n\u001b[0;32m----> 1\u001b[0;31m \u001b[0mall_lis\u001b[0m\u001b[0;34m[\u001b[0m\u001b[0;36m140\u001b[0m\u001b[0;34m]\u001b[0m\u001b[0;34m.\u001b[0m\u001b[0mget_attribute\u001b[0m\u001b[0;34m(\u001b[0m\u001b[0;34m'id'\u001b[0m\u001b[0;34m)\u001b[0m\u001b[0;34m\u001b[0m\u001b[0m\n\u001b[0m",
      "\u001b[0;32m/usr/local/lib/python3.5/dist-packages/selenium/webdriver/remote/webelement.py\u001b[0m in \u001b[0;36mget_attribute\u001b[0;34m(self, name)\u001b[0m\n\u001b[1;32m    142\u001b[0m                 self, name)\n\u001b[1;32m    143\u001b[0m         \u001b[0;32melse\u001b[0m\u001b[0;34m:\u001b[0m\u001b[0;34m\u001b[0m\u001b[0m\n\u001b[0;32m--> 144\u001b[0;31m             \u001b[0mresp\u001b[0m \u001b[0;34m=\u001b[0m \u001b[0mself\u001b[0m\u001b[0;34m.\u001b[0m\u001b[0m_execute\u001b[0m\u001b[0;34m(\u001b[0m\u001b[0mCommand\u001b[0m\u001b[0;34m.\u001b[0m\u001b[0mGET_ELEMENT_ATTRIBUTE\u001b[0m\u001b[0;34m,\u001b[0m \u001b[0;34m{\u001b[0m\u001b[0;34m'name'\u001b[0m\u001b[0;34m:\u001b[0m \u001b[0mname\u001b[0m\u001b[0;34m}\u001b[0m\u001b[0;34m)\u001b[0m\u001b[0;34m\u001b[0m\u001b[0m\n\u001b[0m\u001b[1;32m    145\u001b[0m             \u001b[0mattributeValue\u001b[0m \u001b[0;34m=\u001b[0m \u001b[0mresp\u001b[0m\u001b[0;34m.\u001b[0m\u001b[0mget\u001b[0m\u001b[0;34m(\u001b[0m\u001b[0;34m'value'\u001b[0m\u001b[0;34m)\u001b[0m\u001b[0;34m\u001b[0m\u001b[0m\n\u001b[1;32m    146\u001b[0m             \u001b[0;32mif\u001b[0m \u001b[0mattributeValue\u001b[0m \u001b[0;32mis\u001b[0m \u001b[0;32mnot\u001b[0m \u001b[0;32mNone\u001b[0m\u001b[0;34m:\u001b[0m\u001b[0;34m\u001b[0m\u001b[0m\n",
      "\u001b[0;32m/usr/local/lib/python3.5/dist-packages/selenium/webdriver/remote/webelement.py\u001b[0m in \u001b[0;36m_execute\u001b[0;34m(self, command, params)\u001b[0m\n\u001b[1;32m    499\u001b[0m             \u001b[0mparams\u001b[0m \u001b[0;34m=\u001b[0m \u001b[0;34m{\u001b[0m\u001b[0;34m}\u001b[0m\u001b[0;34m\u001b[0m\u001b[0m\n\u001b[1;32m    500\u001b[0m         \u001b[0mparams\u001b[0m\u001b[0;34m[\u001b[0m\u001b[0;34m'id'\u001b[0m\u001b[0;34m]\u001b[0m \u001b[0;34m=\u001b[0m \u001b[0mself\u001b[0m\u001b[0;34m.\u001b[0m\u001b[0m_id\u001b[0m\u001b[0;34m\u001b[0m\u001b[0m\n\u001b[0;32m--> 501\u001b[0;31m         \u001b[0;32mreturn\u001b[0m \u001b[0mself\u001b[0m\u001b[0;34m.\u001b[0m\u001b[0m_parent\u001b[0m\u001b[0;34m.\u001b[0m\u001b[0mexecute\u001b[0m\u001b[0;34m(\u001b[0m\u001b[0mcommand\u001b[0m\u001b[0;34m,\u001b[0m \u001b[0mparams\u001b[0m\u001b[0;34m)\u001b[0m\u001b[0;34m\u001b[0m\u001b[0m\n\u001b[0m\u001b[1;32m    502\u001b[0m \u001b[0;34m\u001b[0m\u001b[0m\n\u001b[1;32m    503\u001b[0m     \u001b[0;32mdef\u001b[0m \u001b[0mfind_element\u001b[0m\u001b[0;34m(\u001b[0m\u001b[0mself\u001b[0m\u001b[0;34m,\u001b[0m \u001b[0mby\u001b[0m\u001b[0;34m=\u001b[0m\u001b[0mBy\u001b[0m\u001b[0;34m.\u001b[0m\u001b[0mID\u001b[0m\u001b[0;34m,\u001b[0m \u001b[0mvalue\u001b[0m\u001b[0;34m=\u001b[0m\u001b[0;32mNone\u001b[0m\u001b[0;34m)\u001b[0m\u001b[0;34m:\u001b[0m\u001b[0;34m\u001b[0m\u001b[0m\n",
      "\u001b[0;32m/usr/local/lib/python3.5/dist-packages/selenium/webdriver/remote/webdriver.py\u001b[0m in \u001b[0;36mexecute\u001b[0;34m(self, driver_command, params)\u001b[0m\n\u001b[1;32m    306\u001b[0m         \u001b[0mresponse\u001b[0m \u001b[0;34m=\u001b[0m \u001b[0mself\u001b[0m\u001b[0;34m.\u001b[0m\u001b[0mcommand_executor\u001b[0m\u001b[0;34m.\u001b[0m\u001b[0mexecute\u001b[0m\u001b[0;34m(\u001b[0m\u001b[0mdriver_command\u001b[0m\u001b[0;34m,\u001b[0m \u001b[0mparams\u001b[0m\u001b[0;34m)\u001b[0m\u001b[0;34m\u001b[0m\u001b[0m\n\u001b[1;32m    307\u001b[0m         \u001b[0;32mif\u001b[0m \u001b[0mresponse\u001b[0m\u001b[0;34m:\u001b[0m\u001b[0;34m\u001b[0m\u001b[0m\n\u001b[0;32m--> 308\u001b[0;31m             \u001b[0mself\u001b[0m\u001b[0;34m.\u001b[0m\u001b[0merror_handler\u001b[0m\u001b[0;34m.\u001b[0m\u001b[0mcheck_response\u001b[0m\u001b[0;34m(\u001b[0m\u001b[0mresponse\u001b[0m\u001b[0;34m)\u001b[0m\u001b[0;34m\u001b[0m\u001b[0m\n\u001b[0m\u001b[1;32m    309\u001b[0m             response['value'] = self._unwrap_value(\n\u001b[1;32m    310\u001b[0m                 response.get('value', None))\n",
      "\u001b[0;32m/usr/local/lib/python3.5/dist-packages/selenium/webdriver/remote/errorhandler.py\u001b[0m in \u001b[0;36mcheck_response\u001b[0;34m(self, response)\u001b[0m\n\u001b[1;32m    192\u001b[0m         \u001b[0;32melif\u001b[0m \u001b[0mexception_class\u001b[0m \u001b[0;34m==\u001b[0m \u001b[0mUnexpectedAlertPresentException\u001b[0m \u001b[0;32mand\u001b[0m \u001b[0;34m'alert'\u001b[0m \u001b[0;32min\u001b[0m \u001b[0mvalue\u001b[0m\u001b[0;34m:\u001b[0m\u001b[0;34m\u001b[0m\u001b[0m\n\u001b[1;32m    193\u001b[0m             \u001b[0;32mraise\u001b[0m \u001b[0mexception_class\u001b[0m\u001b[0;34m(\u001b[0m\u001b[0mmessage\u001b[0m\u001b[0;34m,\u001b[0m \u001b[0mscreen\u001b[0m\u001b[0;34m,\u001b[0m \u001b[0mstacktrace\u001b[0m\u001b[0;34m,\u001b[0m \u001b[0mvalue\u001b[0m\u001b[0;34m[\u001b[0m\u001b[0;34m'alert'\u001b[0m\u001b[0;34m]\u001b[0m\u001b[0;34m.\u001b[0m\u001b[0mget\u001b[0m\u001b[0;34m(\u001b[0m\u001b[0;34m'text'\u001b[0m\u001b[0;34m)\u001b[0m\u001b[0;34m)\u001b[0m\u001b[0;34m\u001b[0m\u001b[0m\n\u001b[0;32m--> 194\u001b[0;31m         \u001b[0;32mraise\u001b[0m \u001b[0mexception_class\u001b[0m\u001b[0;34m(\u001b[0m\u001b[0mmessage\u001b[0m\u001b[0;34m,\u001b[0m \u001b[0mscreen\u001b[0m\u001b[0;34m,\u001b[0m \u001b[0mstacktrace\u001b[0m\u001b[0;34m)\u001b[0m\u001b[0;34m\u001b[0m\u001b[0m\n\u001b[0m\u001b[1;32m    195\u001b[0m \u001b[0;34m\u001b[0m\u001b[0m\n\u001b[1;32m    196\u001b[0m     \u001b[0;32mdef\u001b[0m \u001b[0m_value_or_default\u001b[0m\u001b[0;34m(\u001b[0m\u001b[0mself\u001b[0m\u001b[0;34m,\u001b[0m \u001b[0mobj\u001b[0m\u001b[0;34m,\u001b[0m \u001b[0mkey\u001b[0m\u001b[0;34m,\u001b[0m \u001b[0mdefault\u001b[0m\u001b[0;34m)\u001b[0m\u001b[0;34m:\u001b[0m\u001b[0;34m\u001b[0m\u001b[0m\n",
      "\u001b[0;31mStaleElementReferenceException\u001b[0m: Message: stale element reference: element is not attached to the page document\n  (Session info: headless chrome=62.0.3202.75)\n  (Driver info: chromedriver=2.33.506092 (733a02544d189eeb751fe0d7ddca79a0ee28cce4),platform=Linux 4.9.0-4-amd64 x86_64)\n"
     ]
    }
   ],
   "source": [
    "all_lis[140].get_attribute('id')"
   ]
  },
  {
   "cell_type": "code",
   "execution_count": null,
   "metadata": {},
   "outputs": [],
   "source": []
  },
  {
   "cell_type": "code",
   "execution_count": 38,
   "metadata": {},
   "outputs": [],
   "source": [
    "all_lis[89].click()"
   ]
  },
  {
   "cell_type": "code",
   "execution_count": 23,
   "metadata": {},
   "outputs": [],
   "source": [
    "link = driver.find_element_by_link_text('View Image')"
   ]
  },
  {
   "cell_type": "code",
   "execution_count": 24,
   "metadata": {},
   "outputs": [
    {
     "data": {
      "text/plain": [
       "<selenium.webdriver.remote.webelement.WebElement (session=\"4a6d7e84a7ea8ce3d878bd29253b6b63\", element=\"0.34873234290672506-160\")>"
      ]
     },
     "execution_count": 24,
     "metadata": {},
     "output_type": "execute_result"
    }
   ],
   "source": [
    "link"
   ]
  },
  {
   "cell_type": "code",
   "execution_count": 20,
   "metadata": {},
   "outputs": [],
   "source": [
    "all_lis[92].click()"
   ]
  },
  {
   "cell_type": "code",
   "execution_count": 21,
   "metadata": {},
   "outputs": [],
   "source": [
    "link = driver.find_element_by_link_text('View Image')\n",
    "ActionChains(driver).key_down(Keys.CONTROL).click(link).key_up(Keys.CONTROL).perform()"
   ]
  },
  {
   "cell_type": "code",
   "execution_count": 40,
   "metadata": {},
   "outputs": [
    {
     "ename": "WebDriverException",
     "evalue": "Message: no such session\n  (Driver info: chromedriver=2.33.506092 (733a02544d189eeb751fe0d7ddca79a0ee28cce4),platform=Linux 4.9.0-4-amd64 x86_64)\n",
     "output_type": "error",
     "traceback": [
      "\u001b[0;31m---------------------------------------------------------------------------\u001b[0m",
      "\u001b[0;31mWebDriverException\u001b[0m                        Traceback (most recent call last)",
      "\u001b[0;32m<ipython-input-40-9c67282c353e>\u001b[0m in \u001b[0;36m<module>\u001b[0;34m()\u001b[0m\n\u001b[0;32m----> 1\u001b[0;31m \u001b[0mdriver\u001b[0m\u001b[0;34m.\u001b[0m\u001b[0mwindow_handles\u001b[0m\u001b[0;34m\u001b[0m\u001b[0m\n\u001b[0m",
      "\u001b[0;32m/usr/local/lib/python3.5/dist-packages/selenium/webdriver/remote/webdriver.py\u001b[0m in \u001b[0;36mwindow_handles\u001b[0;34m(self)\u001b[0m\n\u001b[1;32m    629\u001b[0m             \u001b[0;32mreturn\u001b[0m \u001b[0mself\u001b[0m\u001b[0;34m.\u001b[0m\u001b[0mexecute\u001b[0m\u001b[0;34m(\u001b[0m\u001b[0mCommand\u001b[0m\u001b[0;34m.\u001b[0m\u001b[0mW3C_GET_WINDOW_HANDLES\u001b[0m\u001b[0;34m)\u001b[0m\u001b[0;34m[\u001b[0m\u001b[0;34m'value'\u001b[0m\u001b[0;34m]\u001b[0m\u001b[0;34m\u001b[0m\u001b[0m\n\u001b[1;32m    630\u001b[0m         \u001b[0;32melse\u001b[0m\u001b[0;34m:\u001b[0m\u001b[0;34m\u001b[0m\u001b[0m\n\u001b[0;32m--> 631\u001b[0;31m             \u001b[0;32mreturn\u001b[0m \u001b[0mself\u001b[0m\u001b[0;34m.\u001b[0m\u001b[0mexecute\u001b[0m\u001b[0;34m(\u001b[0m\u001b[0mCommand\u001b[0m\u001b[0;34m.\u001b[0m\u001b[0mGET_WINDOW_HANDLES\u001b[0m\u001b[0;34m)\u001b[0m\u001b[0;34m[\u001b[0m\u001b[0;34m'value'\u001b[0m\u001b[0;34m]\u001b[0m\u001b[0;34m\u001b[0m\u001b[0m\n\u001b[0m\u001b[1;32m    632\u001b[0m \u001b[0;34m\u001b[0m\u001b[0m\n\u001b[1;32m    633\u001b[0m     \u001b[0;32mdef\u001b[0m \u001b[0mmaximize_window\u001b[0m\u001b[0;34m(\u001b[0m\u001b[0mself\u001b[0m\u001b[0;34m)\u001b[0m\u001b[0;34m:\u001b[0m\u001b[0;34m\u001b[0m\u001b[0m\n",
      "\u001b[0;32m/usr/local/lib/python3.5/dist-packages/selenium/webdriver/remote/webdriver.py\u001b[0m in \u001b[0;36mexecute\u001b[0;34m(self, driver_command, params)\u001b[0m\n\u001b[1;32m    306\u001b[0m         \u001b[0mresponse\u001b[0m \u001b[0;34m=\u001b[0m \u001b[0mself\u001b[0m\u001b[0;34m.\u001b[0m\u001b[0mcommand_executor\u001b[0m\u001b[0;34m.\u001b[0m\u001b[0mexecute\u001b[0m\u001b[0;34m(\u001b[0m\u001b[0mdriver_command\u001b[0m\u001b[0;34m,\u001b[0m \u001b[0mparams\u001b[0m\u001b[0;34m)\u001b[0m\u001b[0;34m\u001b[0m\u001b[0m\n\u001b[1;32m    307\u001b[0m         \u001b[0;32mif\u001b[0m \u001b[0mresponse\u001b[0m\u001b[0;34m:\u001b[0m\u001b[0;34m\u001b[0m\u001b[0m\n\u001b[0;32m--> 308\u001b[0;31m             \u001b[0mself\u001b[0m\u001b[0;34m.\u001b[0m\u001b[0merror_handler\u001b[0m\u001b[0;34m.\u001b[0m\u001b[0mcheck_response\u001b[0m\u001b[0;34m(\u001b[0m\u001b[0mresponse\u001b[0m\u001b[0;34m)\u001b[0m\u001b[0;34m\u001b[0m\u001b[0m\n\u001b[0m\u001b[1;32m    309\u001b[0m             response['value'] = self._unwrap_value(\n\u001b[1;32m    310\u001b[0m                 response.get('value', None))\n",
      "\u001b[0;32m/usr/local/lib/python3.5/dist-packages/selenium/webdriver/remote/errorhandler.py\u001b[0m in \u001b[0;36mcheck_response\u001b[0;34m(self, response)\u001b[0m\n\u001b[1;32m    192\u001b[0m         \u001b[0;32melif\u001b[0m \u001b[0mexception_class\u001b[0m \u001b[0;34m==\u001b[0m \u001b[0mUnexpectedAlertPresentException\u001b[0m \u001b[0;32mand\u001b[0m \u001b[0;34m'alert'\u001b[0m \u001b[0;32min\u001b[0m \u001b[0mvalue\u001b[0m\u001b[0;34m:\u001b[0m\u001b[0;34m\u001b[0m\u001b[0m\n\u001b[1;32m    193\u001b[0m             \u001b[0;32mraise\u001b[0m \u001b[0mexception_class\u001b[0m\u001b[0;34m(\u001b[0m\u001b[0mmessage\u001b[0m\u001b[0;34m,\u001b[0m \u001b[0mscreen\u001b[0m\u001b[0;34m,\u001b[0m \u001b[0mstacktrace\u001b[0m\u001b[0;34m,\u001b[0m \u001b[0mvalue\u001b[0m\u001b[0;34m[\u001b[0m\u001b[0;34m'alert'\u001b[0m\u001b[0;34m]\u001b[0m\u001b[0;34m.\u001b[0m\u001b[0mget\u001b[0m\u001b[0;34m(\u001b[0m\u001b[0;34m'text'\u001b[0m\u001b[0;34m)\u001b[0m\u001b[0;34m)\u001b[0m\u001b[0;34m\u001b[0m\u001b[0m\n\u001b[0;32m--> 194\u001b[0;31m         \u001b[0;32mraise\u001b[0m \u001b[0mexception_class\u001b[0m\u001b[0;34m(\u001b[0m\u001b[0mmessage\u001b[0m\u001b[0;34m,\u001b[0m \u001b[0mscreen\u001b[0m\u001b[0;34m,\u001b[0m \u001b[0mstacktrace\u001b[0m\u001b[0;34m)\u001b[0m\u001b[0;34m\u001b[0m\u001b[0m\n\u001b[0m\u001b[1;32m    195\u001b[0m \u001b[0;34m\u001b[0m\u001b[0m\n\u001b[1;32m    196\u001b[0m     \u001b[0;32mdef\u001b[0m \u001b[0m_value_or_default\u001b[0m\u001b[0;34m(\u001b[0m\u001b[0mself\u001b[0m\u001b[0;34m,\u001b[0m \u001b[0mobj\u001b[0m\u001b[0;34m,\u001b[0m \u001b[0mkey\u001b[0m\u001b[0;34m,\u001b[0m \u001b[0mdefault\u001b[0m\u001b[0;34m)\u001b[0m\u001b[0;34m:\u001b[0m\u001b[0;34m\u001b[0m\u001b[0m\n",
      "\u001b[0;31mWebDriverException\u001b[0m: Message: no such session\n  (Driver info: chromedriver=2.33.506092 (733a02544d189eeb751fe0d7ddca79a0ee28cce4),platform=Linux 4.9.0-4-amd64 x86_64)\n"
     ]
    }
   ],
   "source": [
    "driver.window_handles"
   ]
  },
  {
   "cell_type": "code",
   "execution_count": 120,
   "metadata": {},
   "outputs": [
    {
     "data": {
      "text/plain": [
       "True"
      ]
     },
     "execution_count": 120,
     "metadata": {},
     "output_type": "execute_result"
    }
   ],
   "source": [
    "all_lis2[143].get_attribute(\"id\").startswith('resitem')"
   ]
  },
  {
   "cell_type": "code",
   "execution_count": null,
   "metadata": {},
   "outputs": [],
   "source": []
  },
  {
   "cell_type": "code",
   "execution_count": 129,
   "metadata": {},
   "outputs": [
    {
     "ename": "StaleElementReferenceException",
     "evalue": "Message: stale element reference: element is not attached to the page document\n  (Session info: headless chrome=62.0.3202.75)\n  (Driver info: chromedriver=2.33.506092 (733a02544d189eeb751fe0d7ddca79a0ee28cce4),platform=Linux 4.9.0-4-amd64 x86_64)\n",
     "output_type": "error",
     "traceback": [
      "\u001b[0;31m---------------------------------------------------------------------------\u001b[0m",
      "\u001b[0;31mStaleElementReferenceException\u001b[0m            Traceback (most recent call last)",
      "\u001b[0;32m<ipython-input-129-5e46cf30089b>\u001b[0m in \u001b[0;36m<module>\u001b[0;34m()\u001b[0m\n\u001b[0;32m----> 1\u001b[0;31m \u001b[0mall_lis2\u001b[0m\u001b[0;34m[\u001b[0m\u001b[0;36m93\u001b[0m\u001b[0;34m]\u001b[0m\u001b[0;34m.\u001b[0m\u001b[0mget_attribute\u001b[0m\u001b[0;34m(\u001b[0m\u001b[0;34m'innerHTML'\u001b[0m\u001b[0;34m)\u001b[0m\u001b[0;34m\u001b[0m\u001b[0m\n\u001b[0m",
      "\u001b[0;32m/usr/local/lib/python3.5/dist-packages/selenium/webdriver/remote/webelement.py\u001b[0m in \u001b[0;36mget_attribute\u001b[0;34m(self, name)\u001b[0m\n\u001b[1;32m    142\u001b[0m                 self, name)\n\u001b[1;32m    143\u001b[0m         \u001b[0;32melse\u001b[0m\u001b[0;34m:\u001b[0m\u001b[0;34m\u001b[0m\u001b[0m\n\u001b[0;32m--> 144\u001b[0;31m             \u001b[0mresp\u001b[0m \u001b[0;34m=\u001b[0m \u001b[0mself\u001b[0m\u001b[0;34m.\u001b[0m\u001b[0m_execute\u001b[0m\u001b[0;34m(\u001b[0m\u001b[0mCommand\u001b[0m\u001b[0;34m.\u001b[0m\u001b[0mGET_ELEMENT_ATTRIBUTE\u001b[0m\u001b[0;34m,\u001b[0m \u001b[0;34m{\u001b[0m\u001b[0;34m'name'\u001b[0m\u001b[0;34m:\u001b[0m \u001b[0mname\u001b[0m\u001b[0;34m}\u001b[0m\u001b[0;34m)\u001b[0m\u001b[0;34m\u001b[0m\u001b[0m\n\u001b[0m\u001b[1;32m    145\u001b[0m             \u001b[0mattributeValue\u001b[0m \u001b[0;34m=\u001b[0m \u001b[0mresp\u001b[0m\u001b[0;34m.\u001b[0m\u001b[0mget\u001b[0m\u001b[0;34m(\u001b[0m\u001b[0;34m'value'\u001b[0m\u001b[0;34m)\u001b[0m\u001b[0;34m\u001b[0m\u001b[0m\n\u001b[1;32m    146\u001b[0m             \u001b[0;32mif\u001b[0m \u001b[0mattributeValue\u001b[0m \u001b[0;32mis\u001b[0m \u001b[0;32mnot\u001b[0m \u001b[0;32mNone\u001b[0m\u001b[0;34m:\u001b[0m\u001b[0;34m\u001b[0m\u001b[0m\n",
      "\u001b[0;32m/usr/local/lib/python3.5/dist-packages/selenium/webdriver/remote/webelement.py\u001b[0m in \u001b[0;36m_execute\u001b[0;34m(self, command, params)\u001b[0m\n\u001b[1;32m    499\u001b[0m             \u001b[0mparams\u001b[0m \u001b[0;34m=\u001b[0m \u001b[0;34m{\u001b[0m\u001b[0;34m}\u001b[0m\u001b[0;34m\u001b[0m\u001b[0m\n\u001b[1;32m    500\u001b[0m         \u001b[0mparams\u001b[0m\u001b[0;34m[\u001b[0m\u001b[0;34m'id'\u001b[0m\u001b[0;34m]\u001b[0m \u001b[0;34m=\u001b[0m \u001b[0mself\u001b[0m\u001b[0;34m.\u001b[0m\u001b[0m_id\u001b[0m\u001b[0;34m\u001b[0m\u001b[0m\n\u001b[0;32m--> 501\u001b[0;31m         \u001b[0;32mreturn\u001b[0m \u001b[0mself\u001b[0m\u001b[0;34m.\u001b[0m\u001b[0m_parent\u001b[0m\u001b[0;34m.\u001b[0m\u001b[0mexecute\u001b[0m\u001b[0;34m(\u001b[0m\u001b[0mcommand\u001b[0m\u001b[0;34m,\u001b[0m \u001b[0mparams\u001b[0m\u001b[0;34m)\u001b[0m\u001b[0;34m\u001b[0m\u001b[0m\n\u001b[0m\u001b[1;32m    502\u001b[0m \u001b[0;34m\u001b[0m\u001b[0m\n\u001b[1;32m    503\u001b[0m     \u001b[0;32mdef\u001b[0m \u001b[0mfind_element\u001b[0m\u001b[0;34m(\u001b[0m\u001b[0mself\u001b[0m\u001b[0;34m,\u001b[0m \u001b[0mby\u001b[0m\u001b[0;34m=\u001b[0m\u001b[0mBy\u001b[0m\u001b[0;34m.\u001b[0m\u001b[0mID\u001b[0m\u001b[0;34m,\u001b[0m \u001b[0mvalue\u001b[0m\u001b[0;34m=\u001b[0m\u001b[0;32mNone\u001b[0m\u001b[0;34m)\u001b[0m\u001b[0;34m:\u001b[0m\u001b[0;34m\u001b[0m\u001b[0m\n",
      "\u001b[0;32m/usr/local/lib/python3.5/dist-packages/selenium/webdriver/remote/webdriver.py\u001b[0m in \u001b[0;36mexecute\u001b[0;34m(self, driver_command, params)\u001b[0m\n\u001b[1;32m    306\u001b[0m         \u001b[0mresponse\u001b[0m \u001b[0;34m=\u001b[0m \u001b[0mself\u001b[0m\u001b[0;34m.\u001b[0m\u001b[0mcommand_executor\u001b[0m\u001b[0;34m.\u001b[0m\u001b[0mexecute\u001b[0m\u001b[0;34m(\u001b[0m\u001b[0mdriver_command\u001b[0m\u001b[0;34m,\u001b[0m \u001b[0mparams\u001b[0m\u001b[0;34m)\u001b[0m\u001b[0;34m\u001b[0m\u001b[0m\n\u001b[1;32m    307\u001b[0m         \u001b[0;32mif\u001b[0m \u001b[0mresponse\u001b[0m\u001b[0;34m:\u001b[0m\u001b[0;34m\u001b[0m\u001b[0m\n\u001b[0;32m--> 308\u001b[0;31m             \u001b[0mself\u001b[0m\u001b[0;34m.\u001b[0m\u001b[0merror_handler\u001b[0m\u001b[0;34m.\u001b[0m\u001b[0mcheck_response\u001b[0m\u001b[0;34m(\u001b[0m\u001b[0mresponse\u001b[0m\u001b[0;34m)\u001b[0m\u001b[0;34m\u001b[0m\u001b[0m\n\u001b[0m\u001b[1;32m    309\u001b[0m             response['value'] = self._unwrap_value(\n\u001b[1;32m    310\u001b[0m                 response.get('value', None))\n",
      "\u001b[0;32m/usr/local/lib/python3.5/dist-packages/selenium/webdriver/remote/errorhandler.py\u001b[0m in \u001b[0;36mcheck_response\u001b[0;34m(self, response)\u001b[0m\n\u001b[1;32m    192\u001b[0m         \u001b[0;32melif\u001b[0m \u001b[0mexception_class\u001b[0m \u001b[0;34m==\u001b[0m \u001b[0mUnexpectedAlertPresentException\u001b[0m \u001b[0;32mand\u001b[0m \u001b[0;34m'alert'\u001b[0m \u001b[0;32min\u001b[0m \u001b[0mvalue\u001b[0m\u001b[0;34m:\u001b[0m\u001b[0;34m\u001b[0m\u001b[0m\n\u001b[1;32m    193\u001b[0m             \u001b[0;32mraise\u001b[0m \u001b[0mexception_class\u001b[0m\u001b[0;34m(\u001b[0m\u001b[0mmessage\u001b[0m\u001b[0;34m,\u001b[0m \u001b[0mscreen\u001b[0m\u001b[0;34m,\u001b[0m \u001b[0mstacktrace\u001b[0m\u001b[0;34m,\u001b[0m \u001b[0mvalue\u001b[0m\u001b[0;34m[\u001b[0m\u001b[0;34m'alert'\u001b[0m\u001b[0;34m]\u001b[0m\u001b[0;34m.\u001b[0m\u001b[0mget\u001b[0m\u001b[0;34m(\u001b[0m\u001b[0;34m'text'\u001b[0m\u001b[0;34m)\u001b[0m\u001b[0;34m)\u001b[0m\u001b[0;34m\u001b[0m\u001b[0m\n\u001b[0;32m--> 194\u001b[0;31m         \u001b[0;32mraise\u001b[0m \u001b[0mexception_class\u001b[0m\u001b[0;34m(\u001b[0m\u001b[0mmessage\u001b[0m\u001b[0;34m,\u001b[0m \u001b[0mscreen\u001b[0m\u001b[0;34m,\u001b[0m \u001b[0mstacktrace\u001b[0m\u001b[0;34m)\u001b[0m\u001b[0;34m\u001b[0m\u001b[0m\n\u001b[0m\u001b[1;32m    195\u001b[0m \u001b[0;34m\u001b[0m\u001b[0m\n\u001b[1;32m    196\u001b[0m     \u001b[0;32mdef\u001b[0m \u001b[0m_value_or_default\u001b[0m\u001b[0;34m(\u001b[0m\u001b[0mself\u001b[0m\u001b[0;34m,\u001b[0m \u001b[0mobj\u001b[0m\u001b[0;34m,\u001b[0m \u001b[0mkey\u001b[0m\u001b[0;34m,\u001b[0m \u001b[0mdefault\u001b[0m\u001b[0;34m)\u001b[0m\u001b[0;34m:\u001b[0m\u001b[0;34m\u001b[0m\u001b[0m\n",
      "\u001b[0;31mStaleElementReferenceException\u001b[0m: Message: stale element reference: element is not attached to the page document\n  (Session info: headless chrome=62.0.3202.75)\n  (Driver info: chromedriver=2.33.506092 (733a02544d189eeb751fe0d7ddca79a0ee28cce4),platform=Linux 4.9.0-4-amd64 x86_64)\n"
     ]
    }
   ],
   "source": [
    "all_lis2[93].get_attribute('innerHTML')"
   ]
  },
  {
   "cell_type": "code",
   "execution_count": 31,
   "metadata": {},
   "outputs": [],
   "source": [
    "first_res.click()"
   ]
  },
  {
   "cell_type": "code",
   "execution_count": null,
   "metadata": {},
   "outputs": [],
   "source": []
  },
  {
   "cell_type": "code",
   "execution_count": 109,
   "metadata": {},
   "outputs": [
    {
     "data": {
      "text/plain": [
       "139"
      ]
     },
     "execution_count": 109,
     "metadata": {},
     "output_type": "execute_result"
    }
   ],
   "source": [
    "find_index_by_id(all_lis2, 'resitem-49')"
   ]
  },
  {
   "cell_type": "code",
   "execution_count": 125,
   "metadata": {},
   "outputs": [
    {
     "data": {
      "text/plain": [
       "88"
      ]
     },
     "execution_count": 125,
     "metadata": {},
     "output_type": "execute_result"
    }
   ],
   "source": [
    "find_index_by_id(all_lis2, 'resitem-0')"
   ]
  },
  {
   "cell_type": "code",
   "execution_count": null,
   "metadata": {},
   "outputs": [],
   "source": [
    "#from time import sleep\n",
    "#sleep(0.05)"
   ]
  },
  {
   "cell_type": "code",
   "execution_count": null,
   "metadata": {},
   "outputs": [],
   "source": []
  },
  {
   "cell_type": "code",
   "execution_count": 68,
   "metadata": {},
   "outputs": [],
   "source": [
    "def find_index(list, target):\n",
    "    for i in range(len(list)):\n",
    "        if(list[i].id == target.id):\n",
    "            return i\n",
    "    return -1"
   ]
  },
  {
   "cell_type": "code",
   "execution_count": 69,
   "metadata": {},
   "outputs": [
    {
     "data": {
      "text/plain": [
       "88"
      ]
     },
     "execution_count": 69,
     "metadata": {},
     "output_type": "execute_result"
    }
   ],
   "source": [
    "find_index(all_lis, first_res)"
   ]
  },
  {
   "cell_type": "code",
   "execution_count": 83,
   "metadata": {},
   "outputs": [
    {
     "data": {
      "text/plain": [
       "159"
      ]
     },
     "execution_count": 83,
     "metadata": {},
     "output_type": "execute_result"
    }
   ],
   "source": [
    "len(all_lis)"
   ]
  },
  {
   "cell_type": "code",
   "execution_count": 71,
   "metadata": {},
   "outputs": [
    {
     "data": {
      "text/plain": [
       "'resitem-0'"
      ]
     },
     "execution_count": 71,
     "metadata": {},
     "output_type": "execute_result"
    }
   ],
   "source": [
    "all_lis[88].get_attribute(\"id\")"
   ]
  },
  {
   "cell_type": "code",
   "execution_count": 74,
   "metadata": {},
   "outputs": [
    {
     "data": {
      "text/plain": [
       "'resitem-53'"
      ]
     },
     "execution_count": 74,
     "metadata": {},
     "output_type": "execute_result"
    }
   ],
   "source": [
    "all_lis[141].get_attribute(\"id\")"
   ]
  },
  {
   "cell_type": "code",
   "execution_count": 75,
   "metadata": {},
   "outputs": [
    {
     "data": {
      "text/plain": [
       "'yui_3_5_1_1_1509360357945_752'"
      ]
     },
     "execution_count": 75,
     "metadata": {},
     "output_type": "execute_result"
    }
   ],
   "source": [
    "all_lis[142].get_attribute(\"id\")"
   ]
  },
  {
   "cell_type": "code",
   "execution_count": 87,
   "metadata": {},
   "outputs": [
    {
     "data": {
      "text/plain": [
       "'yui_3_5_1_1_1509360357945_784'"
      ]
     },
     "execution_count": 87,
     "metadata": {},
     "output_type": "execute_result"
    }
   ],
   "source": [
    "all_lis[150].get_attribute(\"id\")"
   ]
  },
  {
   "cell_type": "code",
   "execution_count": null,
   "metadata": {},
   "outputs": [],
   "source": []
  },
  {
   "cell_type": "code",
   "execution_count": 33,
   "metadata": {},
   "outputs": [],
   "source": [
    "link = driver.find_element_by_link_text('View Image')"
   ]
  },
  {
   "cell_type": "code",
   "execution_count": 27,
   "metadata": {},
   "outputs": [],
   "source": []
  },
  {
   "cell_type": "code",
   "execution_count": 37,
   "metadata": {},
   "outputs": [],
   "source": [
    "ActionChains(driver).key_down(Keys.CONTROL).click(link).key_up(Keys.CONTROL).perform()"
   ]
  },
  {
   "cell_type": "code",
   "execution_count": 38,
   "metadata": {},
   "outputs": [
    {
     "data": {
      "text/plain": [
       "['CDwindow-e0a609a0-3c4e-48fa-9d75-3e428a57205f',\n",
       " 'CDwindow-0e5a14ab-ae1b-4ce7-8b61-5771e4070e18']"
      ]
     },
     "execution_count": 38,
     "metadata": {},
     "output_type": "execute_result"
    }
   ],
   "source": [
    "driver.window_handles"
   ]
  },
  {
   "cell_type": "code",
   "execution_count": 42,
   "metadata": {},
   "outputs": [
    {
     "data": {
      "text/plain": [
       "'CDwindow-e0a609a0-3c4e-48fa-9d75-3e428a57205f'"
      ]
     },
     "execution_count": 42,
     "metadata": {},
     "output_type": "execute_result"
    }
   ],
   "source": [
    "driver.current_window_handle"
   ]
  },
  {
   "cell_type": "code",
   "execution_count": 44,
   "metadata": {},
   "outputs": [],
   "source": [
    "driver.switch_to_window(driver.window_handles[1])"
   ]
  },
  {
   "cell_type": "code",
   "execution_count": 45,
   "metadata": {},
   "outputs": [
    {
     "data": {
      "text/plain": [
       "'https://upload.wikimedia.org/wikipedia/commons/9/9d/Smitswinkel_Bay.jpg'"
      ]
     },
     "execution_count": 45,
     "metadata": {},
     "output_type": "execute_result"
    }
   ],
   "source": [
    "driver.current_url"
   ]
  },
  {
   "cell_type": "code",
   "execution_count": null,
   "metadata": {},
   "outputs": [],
   "source": []
  },
  {
   "cell_type": "code",
   "execution_count": 46,
   "metadata": {},
   "outputs": [],
   "source": [
    "urllist = []"
   ]
  },
  {
   "cell_type": "code",
   "execution_count": 47,
   "metadata": {},
   "outputs": [],
   "source": [
    "urllist.append(driver.current_url)"
   ]
  },
  {
   "cell_type": "code",
   "execution_count": 48,
   "metadata": {},
   "outputs": [],
   "source": [
    "driver.close()"
   ]
  },
  {
   "cell_type": "code",
   "execution_count": 49,
   "metadata": {},
   "outputs": [
    {
     "data": {
      "text/plain": [
       "['CDwindow-e0a609a0-3c4e-48fa-9d75-3e428a57205f']"
      ]
     },
     "execution_count": 49,
     "metadata": {},
     "output_type": "execute_result"
    }
   ],
   "source": [
    "driver.window_handles"
   ]
  },
  {
   "cell_type": "code",
   "execution_count": 51,
   "metadata": {},
   "outputs": [],
   "source": [
    "driver.switch_to_window(driver.window_handles[0])"
   ]
  },
  {
   "cell_type": "code",
   "execution_count": 52,
   "metadata": {},
   "outputs": [
    {
     "data": {
      "text/plain": [
       "'http://images.search.yahoo.com/search/images;_ylt=AwrTcXiu9fZZ1JcAkweLuLkF;_ylc=X1MDOTYwNTc0ODMEX3IDMgRiY2sDZTZycGdwNWN2ZHRkZSUyNmIlM0QzJTI2cyUzRHEyBGZyAwRncHJpZANSMWd6aFl0eFE5dUtKbk1KM2V6dVJBBG10ZXN0aWQDbnVsbARuX3N1Z2cDMTAEb3JpZ2luA2ltYWdlcy5zZWFyY2gueWFob28uY29tBHBvcwMwBHBxc3RyAwRwcXN0cmwDBHFzdHJsAzMEcXVlcnkDYmF5BHRfc3RtcAMxNTA5MzU2OTc4BHZ0ZXN0aWQDbnVsbA--?gprid=R1gzhYtxQ9uKJnMJ3ezuRA&pvid=A1d10TEwLjJUhulTd3DH.AAyMTA0LgAAAACOSmPr&fr2=sb-top-images.search.yahoo.com&p=bay&ei=UTF-8&iscqry=&fr=sfp#id=0&iurl=http%3A%2F%2Fupload.wikimedia.org%2Fwikipedia%2Fcommons%2F9%2F9d%2FSmitswinkel_Bay.jpg&action=click'"
      ]
     },
     "execution_count": 52,
     "metadata": {},
     "output_type": "execute_result"
    }
   ],
   "source": [
    "driver.current_url"
   ]
  },
  {
   "cell_type": "code",
   "execution_count": null,
   "metadata": {},
   "outputs": [],
   "source": []
  },
  {
   "cell_type": "code",
   "execution_count": null,
   "metadata": {},
   "outputs": [],
   "source": []
  },
  {
   "cell_type": "code",
   "execution_count": null,
   "metadata": {},
   "outputs": [],
   "source": []
  },
  {
   "cell_type": "code",
   "execution_count": 77,
   "metadata": {},
   "outputs": [
    {
     "data": {
      "text/plain": [
       "'https://achillfieldschool.files.wordpress.com/2014/05/dsc_0287.jpg'"
      ]
     },
     "execution_count": 77,
     "metadata": {},
     "output_type": "execute_result"
    }
   ],
   "source": [
    "get_image_url(first_res)"
   ]
  },
  {
   "cell_type": "code",
   "execution_count": 78,
   "metadata": {},
   "outputs": [
    {
     "data": {
      "text/plain": [
       "['CDwindow-46fad65f-8a9e-4fcd-9bb0-2e859f5bd4c5']"
      ]
     },
     "execution_count": 78,
     "metadata": {},
     "output_type": "execute_result"
    }
   ],
   "source": [
    "driver.window_handles"
   ]
  },
  {
   "cell_type": "code",
   "execution_count": 79,
   "metadata": {},
   "outputs": [
    {
     "data": {
      "text/plain": [
       "'https://upload.wikimedia.org/wikipedia/commons/9/9d/Smitswinkel_Bay.jpg'"
      ]
     },
     "execution_count": 79,
     "metadata": {},
     "output_type": "execute_result"
    }
   ],
   "source": [
    "get_image_url(all_lis[89])"
   ]
  },
  {
   "cell_type": "code",
   "execution_count": 80,
   "metadata": {},
   "outputs": [
    {
     "data": {
      "text/plain": [
       "'http://www.worldfortravel.com/wp-content/uploads/2013/04/Freycinet-Australia.jpg'"
      ]
     },
     "execution_count": 80,
     "metadata": {},
     "output_type": "execute_result"
    }
   ],
   "source": [
    "get_image_url(all_lis[90])"
   ]
  },
  {
   "cell_type": "code",
   "execution_count": 81,
   "metadata": {},
   "outputs": [
    {
     "data": {
      "text/plain": [
       "['CDwindow-46fad65f-8a9e-4fcd-9bb0-2e859f5bd4c5']"
      ]
     },
     "execution_count": 81,
     "metadata": {},
     "output_type": "execute_result"
    }
   ],
   "source": [
    "driver.window_handles"
   ]
  },
  {
   "cell_type": "code",
   "execution_count": 115,
   "metadata": {},
   "outputs": [],
   "source": [
    "lis = [1, 2, 3]"
   ]
  },
  {
   "cell_type": "code",
   "execution_count": 116,
   "metadata": {},
   "outputs": [],
   "source": [
    "lis.extend([4, 5, 6])"
   ]
  },
  {
   "cell_type": "code",
   "execution_count": 117,
   "metadata": {},
   "outputs": [
    {
     "data": {
      "text/plain": [
       "[1, 2, 3, 4, 5, 6]"
      ]
     },
     "execution_count": 117,
     "metadata": {},
     "output_type": "execute_result"
    }
   ],
   "source": [
    "lis"
   ]
  },
  {
   "cell_type": "code",
   "execution_count": null,
   "metadata": {},
   "outputs": [],
   "source": []
  },
  {
   "cell_type": "code",
   "execution_count": 92,
   "metadata": {},
   "outputs": [],
   "source": [
    "all_lis2 = par.find_elements_by_tag_name('li')"
   ]
  },
  {
   "cell_type": "code",
   "execution_count": 93,
   "metadata": {},
   "outputs": [
    {
     "data": {
      "text/plain": [
       "199"
      ]
     },
     "execution_count": 93,
     "metadata": {},
     "output_type": "execute_result"
    }
   ],
   "source": [
    "len(all_lis2)"
   ]
  },
  {
   "cell_type": "code",
   "execution_count": 99,
   "metadata": {},
   "outputs": [
    {
     "data": {
      "text/plain": [
       "'resitem-58'"
      ]
     },
     "execution_count": 99,
     "metadata": {},
     "output_type": "execute_result"
    }
   ],
   "source": [
    "all_lis2[145].get_attribute(\"id\")"
   ]
  },
  {
   "cell_type": "code",
   "execution_count": null,
   "metadata": {},
   "outputs": [],
   "source": []
  },
  {
   "cell_type": "code",
   "execution_count": null,
   "metadata": {},
   "outputs": [],
   "source": []
  },
  {
   "cell_type": "code",
   "execution_count": null,
   "metadata": {},
   "outputs": [],
   "source": []
  },
  {
   "cell_type": "code",
   "execution_count": null,
   "metadata": {},
   "outputs": [],
   "source": [
    "driver.close()"
   ]
  },
  {
   "cell_type": "code",
   "execution_count": 12,
   "metadata": {},
   "outputs": [],
   "source": []
  },
  {
   "cell_type": "code",
   "execution_count": null,
   "metadata": {},
   "outputs": [],
   "source": []
  },
  {
   "cell_type": "code",
   "execution_count": null,
   "metadata": {},
   "outputs": [],
   "source": []
  },
  {
   "cell_type": "code",
   "execution_count": null,
   "metadata": {},
   "outputs": [],
   "source": []
  },
  {
   "cell_type": "code",
   "execution_count": null,
   "metadata": {},
   "outputs": [],
   "source": [
    "\"\"\"\n",
    "chrome_options.add_argument('--disable-gpu')\n",
    "chrome_options.add_argument(\"start-maximized\")\n",
    "chrome_options.add_argument(\"disable-infobars\")\n",
    "chrome_options.add_argument(\"--disable-extensions\")\n",
    "\"\"\""
   ]
  }
 ],
 "metadata": {
  "kernelspec": {
   "display_name": "Python 3",
   "language": "python",
   "name": "python3"
  },
  "language_info": {
   "codemirror_mode": {
    "name": "ipython",
    "version": 3
   },
   "file_extension": ".py",
   "mimetype": "text/x-python",
   "name": "python",
   "nbconvert_exporter": "python",
   "pygments_lexer": "ipython3",
   "version": "3.5.2"
  }
 },
 "nbformat": 4,
 "nbformat_minor": 2
}
