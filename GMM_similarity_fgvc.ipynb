{
 "cells": [
  {
   "cell_type": "markdown",
   "metadata": {},
   "source": [
    "# Compute similarities of previous study for FGVC data.\n",
    "\n",
    "Reproduce the results of [Measuring semantic similarity between concepts in visual domain](http://ieeexplore.ieee.org/document/4665152/)."
   ]
  },
  {
   "cell_type": "code",
   "execution_count": 1,
   "metadata": {},
   "outputs": [],
   "source": [
    "%matplotlib inline\n",
    "\n",
    "from scipy.misc import imread\n",
    "import numpy as np\n",
    "from skimage import color, filters, img_as_float\n",
    "import math\n",
    "import matplotlib.pyplot as plt\n",
    "from mpl_toolkits.mplot3d import Axes3D\n",
    "\n",
    "import warnings\n",
    "warnings.filterwarnings('ignore')"
   ]
  },
  {
   "cell_type": "markdown",
   "metadata": {},
   "source": [
    "Define functions for getting tiles in an image and normalizing an image."
   ]
  },
  {
   "cell_type": "code",
   "execution_count": 2,
   "metadata": {},
   "outputs": [],
   "source": [
    "def get_tile(tile_row, tile_col, img, img_gray, img_binary):\n",
    "    tile_h = int(img.shape[0]/5)\n",
    "    tile_w = int(img.shape[1]/5)\n",
    "    y0, y1, x0, x1 = tile_row*tile_h, ((tile_row+1)*tile_h), tile_col*tile_w, (tile_col+1)*tile_w\n",
    "    tile = img[y0:y1, x0:x1, :]\n",
    "    tile_gray = img_gray[y0:y1, x0:x1]\n",
    "    tile_binary = img_binary[y0:y1, x0:x1]\n",
    "    return tile, tile_gray, tile_binary"
   ]
  },
  {
   "cell_type": "code",
   "execution_count": 3,
   "metadata": {},
   "outputs": [],
   "source": [
    "from scipy.misc import imresize\n",
    "MAX_SIZE = 225\n",
    "\n",
    "def im_normalized_read(fname, size_limit = MAX_SIZE):\n",
    "    from skimage.transform import resize\n",
    "    img =  imread(fname)\n",
    "    max_len = np.max(img.shape)\n",
    "    if max_len <= size_limit:\n",
    "        return img_as_float(img)\n",
    "    \n",
    "    ratio = size_limit/max_len\n",
    "    new_img = imresize(img, size=ratio, interp='bicubic')\n",
    "    return img_as_float(new_img)"
   ]
  },
  {
   "cell_type": "markdown",
   "metadata": {},
   "source": [
    "## Feature extraction\n",
    "\n",
    "Here we treat four types of fetures: coloer moment, DOOG filter, orientation filter, shape features."
   ]
  },
  {
   "cell_type": "markdown",
   "metadata": {},
   "source": [
    "### Color moment"
   ]
  },
  {
   "cell_type": "code",
   "execution_count": 4,
   "metadata": {},
   "outputs": [],
   "source": [
    "def calc_moment3(arr, moment1):\n",
    "    cubed = np.mean((arr-moment1)**3)\n",
    "    return math.pow(abs(cubed),1/3) * (1,-1)[cubed<0]"
   ]
  },
  {
   "cell_type": "code",
   "execution_count": 5,
   "metadata": {},
   "outputs": [],
   "source": [
    "def calc_moments(arr):\n",
    "    moment1 = np.mean(arr)\n",
    "    moment2 = np.mean((arr-moment1)**2)**(1/2)\n",
    "    moment3 = calc_moment3(arr, moment1)\n",
    "    return moment1, moment2, moment3"
   ]
  },
  {
   "cell_type": "code",
   "execution_count": 6,
   "metadata": {},
   "outputs": [],
   "source": [
    "def calc_4_rgb_moments(rgbarr):\n",
    "    r1, r2, r3 = calc_moments(rgbarr[:, :, 0])\n",
    "    g1, g2, g3 = calc_moments(rgbarr[:, :, 1])\n",
    "    b1, b2, b3 = calc_moments(rgbarr[:, :, 2])\n",
    "    gray = color.rgb2gray(rgbarr)\n",
    "    gr1, gr2, gr3 = calc_moments(gray)\n",
    "    return [r1, r2, r3, g1, g2, g3, b1, b2, b3, gr1, gr2, gr3]"
   ]
  },
  {
   "cell_type": "markdown",
   "metadata": {},
   "source": [
    "### DOOG filter\n",
    "\n",
    "Based on Figure 2 in [Preattentive texture discrimination with early vision mechanisms](https://www.ncbi.nlm.nih.gov/pubmed/2338600)."
   ]
  },
  {
   "cell_type": "code",
   "execution_count": 7,
   "metadata": {},
   "outputs": [],
   "source": [
    "def G(y0, sigmax, sigmay, x, y):\n",
    "    # The definition of G seems wrong, I refer original Yang's paper.\n",
    "    # return (1/(2*math.pi* sigmax*sigmay)) *np.exp(- (x**2) + (y- y0/sigmay)**2)\n",
    "    dimx = len(x)\n",
    "    dimy = len(y)\n",
    "    return (1/(2*math.pi* sigmax*sigmay)) *np.exp(- (1/2) * (((x/sigmax)**2).reshape(1, dimx) + (((y- y0)/sigmay)**2).reshape(dimy, 1)))"
   ]
  },
  {
   "cell_type": "code",
   "execution_count": 8,
   "metadata": {},
   "outputs": [],
   "source": [
    "def DOOG2(x, y, sigma, r=3):\n",
    "    sigmay = sigma\n",
    "    sigmax = r*sigma\n",
    "    ya = sigma\n",
    "    yc = -sigma\n",
    "    return -G(ya, sigmax, sigmay, x, y) + 2*G(0, sigmax, sigmay, x, y) - G(yc, sigmax, sigmay, x, y)"
   ]
  },
  {
   "cell_type": "code",
   "execution_count": 9,
   "metadata": {},
   "outputs": [],
   "source": [
    "def DOOG2_weight(sigma, r=3, truncate=4):\n",
    "    # similar filter size logic as filters.gaussian of scipy.\n",
    "    lw = int(truncate * sigma + 0.5)\n",
    "    return DOOG2(np.arange(-lw, lw+1), np.arange(-lw, lw+1), sigma, r)"
   ]
  },
  {
   "cell_type": "code",
   "execution_count": 10,
   "metadata": {},
   "outputs": [],
   "source": [
    "# https://docs.scipy.org/doc/scipy-0.16.1/reference/generated/scipy.ndimage.filters.convolve.html\n",
    "from scipy.ndimage.filters import convolve"
   ]
  },
  {
   "cell_type": "code",
   "execution_count": 11,
   "metadata": {},
   "outputs": [],
   "source": [
    "def kernel2feature(img, weights):\n",
    "    return np.mean([np.mean(convolve(img[:, :, i], weights)) for i in range(3)])"
   ]
  },
  {
   "cell_type": "code",
   "execution_count": 12,
   "metadata": {},
   "outputs": [],
   "source": [
    "# use global variable for speed\n",
    "# use sigma of 1, 2, 4, 8\n",
    "\n",
    "KERNELS = [DOOG2_weight(i) for i in [1, 2, 4, 8]]"
   ]
  },
  {
   "cell_type": "code",
   "execution_count": 13,
   "metadata": {},
   "outputs": [],
   "source": [
    "def tile2doog_features(tile):\n",
    "    # to make scale similar\n",
    "    return [1000*kernel2feature(tile, kernel) for kernel in KERNELS]"
   ]
  },
  {
   "cell_type": "markdown",
   "metadata": {},
   "source": [
    "### Orientation feature"
   ]
  },
  {
   "cell_type": "code",
   "execution_count": 14,
   "metadata": {},
   "outputs": [],
   "source": [
    "from scipy.stats import norm"
   ]
  },
  {
   "cell_type": "code",
   "execution_count": 15,
   "metadata": {},
   "outputs": [],
   "source": [
    "def DOG(y, sigma1=0.5, sigma2=1.5):\n",
    "    fy1 = norm.pdf(y, scale=sigma1)\n",
    "    fy2 = norm.pdf(y, scale=sigma2)\n",
    "    dog = fy1 - fy2\n",
    "    return dog"
   ]
  },
  {
   "cell_type": "code",
   "execution_count": 16,
   "metadata": {},
   "outputs": [],
   "source": [
    "def calc_f1(x, y, sigma):\n",
    "    fx = norm.pdf(x, scale=sigma).reshape(1, len(x))\n",
    "    fy = DOG(y).reshape(len(y), 1)\n",
    "    # should access f1[y][x]\n",
    "    return fx*fy"
   ]
  },
  {
   "cell_type": "code",
   "execution_count": 17,
   "metadata": {},
   "outputs": [],
   "source": [
    "from scipy.signal import hilbert"
   ]
  },
  {
   "cell_type": "code",
   "execution_count": 18,
   "metadata": {},
   "outputs": [],
   "source": [
    "def calc_f1f2(x, y, sigma):\n",
    "    f1 = calc_f1(x, y, sigma)\n",
    "    f2 = np.imag(hilbert(f1))\n",
    "    return f1, f2"
   ]
  },
  {
   "cell_type": "code",
   "execution_count": 19,
   "metadata": {},
   "outputs": [],
   "source": [
    "def rotation_indices(theta, shape):\n",
    "    \"\"\"return ([y1, y2, y3, ...], [x1, x2, x3, ...]). Use for numpy indices\"\"\"\n",
    "    y_lim, x_lim = shape\n",
    "    cos = math.cos(theta)\n",
    "    sin = math.sin(theta)\n",
    "    pairs = [(min(y_lim-1, max(0, int(x*sin + y*cos))),\n",
    "              min(x_lim-1, max(0, int(x*cos - y*sin))))\n",
    "            for y in range(y_lim)\n",
    "            for x in range(x_lim)]\n",
    "    return list(zip(*pairs))"
   ]
  },
  {
   "cell_type": "markdown",
   "metadata": {},
   "source": [
    "Compute weights"
   ]
  },
  {
   "cell_type": "code",
   "execution_count": 20,
   "metadata": {},
   "outputs": [],
   "source": [
    "def orientation_weights(theta, sigma, truncate=4):\n",
    "    # similar filter size logic as filters.gaussian of scipy.\n",
    "    lw = int(truncate * sigma + 0.5)\n",
    "    \n",
    "    x = np.arange(-lw, lw+1)\n",
    "    y = np.arange(-lw, lw+1)\n",
    "    f1, f2 = calc_f1f2(x, y, sigma)\n",
    "    inds = rotation_indices(theta, f1.shape)\n",
    "    f1r = f1[inds].reshape(f1.shape)\n",
    "    f2r = f2[inds].reshape(f2.shape)\n",
    "    return f1r, f2r"
   ]
  },
  {
   "cell_type": "code",
   "execution_count": 21,
   "metadata": {},
   "outputs": [],
   "source": [
    "def orientation_energy(img, theta, sigma=1.5, truncate=4):\n",
    "    f1, f2 = orientation_weights(theta, sigma)\n",
    "    ex2 = convolve(img, f1)**2\n",
    "    ey2 = convolve(img, f2)**2\n",
    "    # make scale similar\n",
    "    return 1000*np.mean(ex2+ey2)"
   ]
  },
  {
   "cell_type": "code",
   "execution_count": 22,
   "metadata": {},
   "outputs": [],
   "source": [
    "def orientation_12_energy(gray_img):\n",
    "    return [orientation_energy(gray_img, i*(2*math.pi)/12) for i in range(12)]"
   ]
  },
  {
   "cell_type": "markdown",
   "metadata": {},
   "source": [
    "### Shape features"
   ]
  },
  {
   "cell_type": "code",
   "execution_count": 23,
   "metadata": {},
   "outputs": [],
   "source": [
    "from skimage.filters import threshold_otsu"
   ]
  },
  {
   "cell_type": "code",
   "execution_count": 24,
   "metadata": {},
   "outputs": [],
   "source": [
    "def gray2binary(gray_img):\n",
    "    threds = threshold_otsu(gray_img)\n",
    "    return gray_img <= threds"
   ]
  },
  {
   "cell_type": "code",
   "execution_count": 25,
   "metadata": {},
   "outputs": [],
   "source": [
    "import skimage"
   ]
  },
  {
   "cell_type": "markdown",
   "metadata": {},
   "source": [
    "#### Perimeter, area"
   ]
  },
  {
   "cell_type": "code",
   "execution_count": 26,
   "metadata": {},
   "outputs": [],
   "source": [
    "# Paper says the ratio of the area to the perimeter squared, but inverse is much more common, which is compactness.\n",
    "# standard definition divide this value with 4pi, but it's not important for our case.\n",
    "\n",
    "def compactness(img_binary):\n",
    "    l = skimage.measure.perimeter(img_binary)\n",
    "    area = img_binary.sum()\n",
    "    if area == 0:\n",
    "        return 1, area\n",
    "    return (l**2)/area, area"
   ]
  },
  {
   "cell_type": "markdown",
   "metadata": {},
   "source": [
    "#### Moment of inertia"
   ]
  },
  {
   "cell_type": "code",
   "execution_count": 27,
   "metadata": {},
   "outputs": [],
   "source": [
    "def calc_moment_of_inertia(gray_img):\n",
    "    # cr, cc = ``M[1, 0] / M[0, 0]``, ``M[0, 1] / M[0, 0]`\n",
    "    M1 = skimage.measure.moments(gray_img, order=1)\n",
    "    cr = M1[1, 0]/M1[0, 0]\n",
    "    cc = M1[0, 1]/M1[0, 0]\n",
    "    mu2 = skimage.measure.moments_central(gray_img, cr, cc, order=2)\n",
    "    # paper says shape feature is 4. So I use mu2_20 and mu2_02 as a separate features\n",
    "    # return (mu2[2, 0]+mu2[0, 2])/mu2[0, 0]\n",
    "    M0sq = mu2[0, 0]**2\n",
    "    return mu2[2, 0]/M0sq, mu2[0, 2]/M0sq"
   ]
  },
  {
   "cell_type": "code",
   "execution_count": 28,
   "metadata": {},
   "outputs": [],
   "source": [
    "from skimage.morphology import convex_hull_image\n",
    "def ratio_convex_hull(img_bainary, area):\n",
    "    hull_area = convex_hull_image(img_bainary).sum()\n",
    "    return area/hull_area"
   ]
  },
  {
   "cell_type": "markdown",
   "metadata": {},
   "source": [
    "#### Combine all shape features"
   ]
  },
  {
   "cell_type": "code",
   "execution_count": 29,
   "metadata": {},
   "outputs": [],
   "source": [
    "def shape_features(img_gray, img_binary):\n",
    "    comp, area = compactness(img_binary)\n",
    "    mom = calc_moment_of_inertia(img_gray)\n",
    "    if(img_binary.any()):\n",
    "        ratio3 = ratio_convex_hull(img_binary, area)\n",
    "    else:\n",
    "        ratio3 = 1\n",
    "    return [comp, mom[0], mom[1], ratio3]"
   ]
  },
  {
   "cell_type": "markdown",
   "metadata": {},
   "source": [
    "### Combine all of features for a given tile\n",
    "\n",
    "Define a function that combine all of featuers defined above."
   ]
  },
  {
   "cell_type": "code",
   "execution_count": 30,
   "metadata": {},
   "outputs": [],
   "source": [
    "def tile2features(tile, tile_gray, tile_binary):\n",
    "    rgb_moments12 = calc_4_rgb_moments(tile)\n",
    "    doog4 = tile2doog_features(tile)\n",
    "    orientation12 = orientation_12_energy(tile_gray)\n",
    "    shape4 = shape_features(tile_gray, tile_binary)\n",
    "    return [elem for arr in [rgb_moments12, doog4, orientation12, shape4]\n",
    "            for elem in arr]"
   ]
  },
  {
   "cell_type": "markdown",
   "metadata": {},
   "source": [
    "### Define functions for extracting features for a given image.\n",
    "\n",
    "A given image is divided into patches and features are extracted from each patch.  \n",
    "Finally we concatenate those features into one feature vector to express characteristics of a given image."
   ]
  },
  {
   "cell_type": "code",
   "execution_count": 31,
   "metadata": {},
   "outputs": [],
   "source": [
    "def get_tile_features(tile_row, tile_col, img, img_gray, img_binary):\n",
    "    tile, tile_gray, tile_binary = get_tile(tile_row, tile_col, img, img_gray, img_binary)\n",
    "    return tile2features(tile, tile_gray, tile_binary)"
   ]
  },
  {
   "cell_type": "code",
   "execution_count": 32,
   "metadata": {},
   "outputs": [],
   "source": [
    "def img2features(img):\n",
    "    img_gray = color.rgb2gray(img)\n",
    "    img_binary = gray2binary(img_gray)\n",
    "    featuresList = [get_tile_features(row, col, img, img_gray, img_binary) for row in range(5)\n",
    "                    for col in range(5)]\n",
    "    return [f for fs in featuresList\n",
    "               for f in fs]"
   ]
  },
  {
   "cell_type": "markdown",
   "metadata": {},
   "source": [
    "## Extract features and save them into dataframe"
   ]
  },
  {
   "cell_type": "code",
   "execution_count": 33,
   "metadata": {},
   "outputs": [
    {
     "name": "stderr",
     "output_type": "stream",
     "text": [
      "Using TensorFlow backend.\n"
     ]
    }
   ],
   "source": [
    "from models.modelutils import dir2filedict_sorted"
   ]
  },
  {
   "cell_type": "code",
   "execution_count": null,
   "metadata": {},
   "outputs": [],
   "source": []
  },
  {
   "cell_type": "code",
   "execution_count": 34,
   "metadata": {},
   "outputs": [],
   "source": [
    "fdict1 = dir2filedict_sorted(\"data_fgvc/train\")\n",
    "fdict2 = dir2filedict_sorted(\"data_fgvc/valid\")\n",
    "fdict3 = dir2filedict_sorted(\"data_fgvc/test\")"
   ]
  },
  {
   "cell_type": "code",
   "execution_count": null,
   "metadata": {},
   "outputs": [],
   "source": []
  },
  {
   "cell_type": "code",
   "execution_count": 35,
   "metadata": {},
   "outputs": [],
   "source": [
    "files = sorted(f for fdict in [fdict1, fdict2, fdict3] for key in fdict.keys() for f in fdict[key])"
   ]
  },
  {
   "cell_type": "code",
   "execution_count": 36,
   "metadata": {},
   "outputs": [
    {
     "data": {
      "text/plain": [
       "10000"
      ]
     },
     "execution_count": 36,
     "metadata": {},
     "output_type": "execute_result"
    }
   ],
   "source": [
    "len(files)"
   ]
  },
  {
   "cell_type": "code",
   "execution_count": 37,
   "metadata": {},
   "outputs": [],
   "source": [
    "machine_id=0\n",
    "# machine_id=1\n",
    "# machine_id=2\n",
    "# machine_id=3\n",
    "# machine_id=4\n",
    "# machine_id=5\n",
    "# machine_id=6\n",
    "# machine_id=7"
   ]
  },
  {
   "cell_type": "code",
   "execution_count": 38,
   "metadata": {},
   "outputs": [],
   "source": [
    "target_files = files[(machine_id*1250):(machine_id*1250+1250)]"
   ]
  },
  {
   "cell_type": "code",
   "execution_count": null,
   "metadata": {},
   "outputs": [],
   "source": []
  },
  {
   "cell_type": "code",
   "execution_count": null,
   "metadata": {},
   "outputs": [],
   "source": []
  },
  {
   "cell_type": "code",
   "execution_count": 39,
   "metadata": {},
   "outputs": [],
   "source": [
    "import pandas as pd"
   ]
  },
  {
   "cell_type": "code",
   "execution_count": 40,
   "metadata": {},
   "outputs": [],
   "source": [
    "failed = []\n",
    "flist = []"
   ]
  },
  {
   "cell_type": "code",
   "execution_count": 41,
   "metadata": {},
   "outputs": [],
   "source": [
    "import tqdm"
   ]
  },
  {
   "cell_type": "code",
   "execution_count": null,
   "metadata": {},
   "outputs": [],
   "source": []
  },
  {
   "cell_type": "code",
   "execution_count": null,
   "metadata": {},
   "outputs": [],
   "source": []
  },
  {
   "cell_type": "code",
   "execution_count": null,
   "metadata": {},
   "outputs": [],
   "source": []
  },
  {
   "cell_type": "code",
   "execution_count": null,
   "metadata": {},
   "outputs": [],
   "source": []
  },
  {
   "cell_type": "code",
   "execution_count": 42,
   "metadata": {
    "scrolled": false
   },
   "outputs": [
    {
     "name": "stderr",
     "output_type": "stream",
     "text": [
      "100%|██████████| 1250/1250 [6:16:38<00:00, 18.08s/it]  "
     ]
    },
    {
     "name": "stdout",
     "output_type": "stream",
     "text": [
      "CPU times: user 5h 36min 45s, sys: 38min 33s, total: 6h 15min 19s\n",
      "Wall time: 6h 16min 38s\n"
     ]
    },
    {
     "name": "stderr",
     "output_type": "stream",
     "text": [
      "\n"
     ]
    }
   ],
   "source": [
    "%%time\n",
    "\n",
    "for file in tqdm.tqdm(target_files):\n",
    "    try:\n",
    "        current = file\n",
    "        features = img2features(im_normalized_read(file))\n",
    "        flist.append(features)\n",
    "    except:\n",
    "        print(\"fail {}\".format(file))\n",
    "        failed.append(file)"
   ]
  },
  {
   "cell_type": "code",
   "execution_count": 43,
   "metadata": {},
   "outputs": [
    {
     "name": "stdout",
     "output_type": "stream",
     "text": [
      "Total number of images: 1250\n",
      "The number of failed images from where features cannot be extracted: 0\n"
     ]
    }
   ],
   "source": [
    "print( \"Total number of images: {}\".format(len(flist)) )\n",
    "print( \"The number of failed images from where features cannot be extracted: {}\".format(len(failed)) )"
   ]
  },
  {
   "cell_type": "markdown",
   "metadata": {},
   "source": [
    "Check images from which features cannot be extracted."
   ]
  },
  {
   "cell_type": "code",
   "execution_count": 44,
   "metadata": {},
   "outputs": [
    {
     "data": {
      "text/plain": [
       "[]"
      ]
     },
     "execution_count": 44,
     "metadata": {},
     "output_type": "execute_result"
    }
   ],
   "source": [
    "failed"
   ]
  },
  {
   "cell_type": "markdown",
   "metadata": {},
   "source": [
    "Pick up images from which features can be successfully extracted,"
   ]
  },
  {
   "cell_type": "code",
   "execution_count": 45,
   "metadata": {},
   "outputs": [
    {
     "data": {
      "text/plain": [
       "1250"
      ]
     },
     "execution_count": 45,
     "metadata": {},
     "output_type": "execute_result"
    }
   ],
   "source": [
    "files2 = [f for f in target_files if f not in failed]\n",
    "len(files2)"
   ]
  },
  {
   "cell_type": "code",
   "execution_count": 46,
   "metadata": {},
   "outputs": [
    {
     "data": {
      "text/plain": [
       "(1250, 800)"
      ]
     },
     "execution_count": 46,
     "metadata": {},
     "output_type": "execute_result"
    }
   ],
   "source": [
    "df = pd.DataFrame(flist)\n",
    "df.shape"
   ]
  },
  {
   "cell_type": "code",
   "execution_count": 47,
   "metadata": {},
   "outputs": [],
   "source": [
    "df['filepath'] = files2"
   ]
  },
  {
   "cell_type": "markdown",
   "metadata": {},
   "source": [
    "Save the extracted features as pickle."
   ]
  },
  {
   "cell_type": "code",
   "execution_count": 48,
   "metadata": {},
   "outputs": [],
   "source": [
    "df.to_pickle(\"results/features_{}_fgvc.dat\".format(machine_id))"
   ]
  },
  {
   "cell_type": "code",
   "execution_count": 49,
   "metadata": {},
   "outputs": [
    {
     "data": {
      "text/plain": [
       "0    data_fgvc/test/0/0062765.jpg\n",
       "1    data_fgvc/test/0/0064932.jpg\n",
       "2    data_fgvc/test/0/0197342.jpg\n",
       "3    data_fgvc/test/0/0447936.jpg\n",
       "4    data_fgvc/test/0/0536515.jpg\n",
       "Name: filepath, dtype: object"
      ]
     },
     "execution_count": 49,
     "metadata": {},
     "output_type": "execute_result"
    }
   ],
   "source": [
    "df.head()[\"filepath\"]"
   ]
  },
  {
   "cell_type": "code",
   "execution_count": 51,
   "metadata": {},
   "outputs": [
    {
     "data": {
      "text/plain": [
       "['data_fgvc/test/0/0062765.jpg',\n",
       " 'data_fgvc/test/0/0064932.jpg',\n",
       " 'data_fgvc/test/0/0197342.jpg',\n",
       " 'data_fgvc/test/0/0447936.jpg',\n",
       " 'data_fgvc/test/0/0536515.jpg']"
      ]
     },
     "execution_count": 51,
     "metadata": {},
     "output_type": "execute_result"
    }
   ],
   "source": [
    "files[0:5]"
   ]
  },
  {
   "cell_type": "markdown",
   "metadata": {},
   "source": [
    "### Concat 8 splited df"
   ]
  },
  {
   "cell_type": "code",
   "execution_count": 52,
   "metadata": {},
   "outputs": [],
   "source": [
    "dflist = [pd.read_pickle(\"results/features_{}_fgvc.dat\".format(machine_id)) for machine_id in range(0, 8)]"
   ]
  },
  {
   "cell_type": "code",
   "execution_count": 53,
   "metadata": {},
   "outputs": [
    {
     "data": {
      "text/plain": [
       "8"
      ]
     },
     "execution_count": 53,
     "metadata": {},
     "output_type": "execute_result"
    }
   ],
   "source": [
    "len(dflist)"
   ]
  },
  {
   "cell_type": "code",
   "execution_count": 54,
   "metadata": {},
   "outputs": [],
   "source": [
    "all_df = pd.concat(dflist)"
   ]
  },
  {
   "cell_type": "code",
   "execution_count": 56,
   "metadata": {},
   "outputs": [
    {
     "data": {
      "text/plain": [
       "(10000, 801)"
      ]
     },
     "execution_count": 56,
     "metadata": {},
     "output_type": "execute_result"
    }
   ],
   "source": [
    "all_df.shape"
   ]
  },
  {
   "cell_type": "code",
   "execution_count": 64,
   "metadata": {},
   "outputs": [],
   "source": [
    "df = all_df"
   ]
  },
  {
   "cell_type": "markdown",
   "metadata": {},
   "source": [
    "## Load extracted features and estimate GMM"
   ]
  },
  {
   "cell_type": "code",
   "execution_count": 1,
   "metadata": {},
   "outputs": [],
   "source": [
    "import pandas as pd\n",
    "import numpy as np\n",
    "import math"
   ]
  },
  {
   "cell_type": "code",
   "execution_count": 72,
   "metadata": {},
   "outputs": [],
   "source": [
    "def path_to_cat(fpath):\n",
    "    return fpath.split(\"/\")[2]"
   ]
  },
  {
   "cell_type": "code",
   "execution_count": 74,
   "metadata": {},
   "outputs": [
    {
     "data": {
      "text/plain": [
       "'data_fgvc/train/33/2233490.jpg'"
      ]
     },
     "execution_count": 74,
     "metadata": {},
     "output_type": "execute_result"
    }
   ],
   "source": [
    "df['filepath'].iloc[5000]"
   ]
  },
  {
   "cell_type": "code",
   "execution_count": 73,
   "metadata": {},
   "outputs": [
    {
     "data": {
      "text/plain": [
       "'33'"
      ]
     },
     "execution_count": 73,
     "metadata": {},
     "output_type": "execute_result"
    }
   ],
   "source": [
    "path_to_cat(df['filepath'].iloc[5000])"
   ]
  },
  {
   "cell_type": "code",
   "execution_count": 75,
   "metadata": {},
   "outputs": [],
   "source": [
    "cats = sorted(list(set(map(path_to_cat, df['filepath']))))"
   ]
  },
  {
   "cell_type": "code",
   "execution_count": 79,
   "metadata": {},
   "outputs": [
    {
     "data": {
      "text/plain": [
       "True"
      ]
     },
     "execution_count": 79,
     "metadata": {},
     "output_type": "execute_result"
    }
   ],
   "source": [
    "all((str(cat) in cats) for cat in range(0, 100))"
   ]
  },
  {
   "cell_type": "code",
   "execution_count": 80,
   "metadata": {},
   "outputs": [
    {
     "data": {
      "text/plain": [
       "100"
      ]
     },
     "execution_count": 80,
     "metadata": {},
     "output_type": "execute_result"
    }
   ],
   "source": [
    "len(cats)"
   ]
  },
  {
   "cell_type": "code",
   "execution_count": null,
   "metadata": {},
   "outputs": [],
   "source": []
  },
  {
   "cell_type": "code",
   "execution_count": 81,
   "metadata": {},
   "outputs": [],
   "source": [
    "df['category'] = list(map(path_to_cat, df['filepath']))"
   ]
  },
  {
   "cell_type": "markdown",
   "metadata": {},
   "source": [
    "### For empty tile, moment will be na; fill na as 0 to avoid errors"
   ]
  },
  {
   "cell_type": "code",
   "execution_count": 82,
   "metadata": {},
   "outputs": [],
   "source": [
    "df_fixed = df.fillna(0)"
   ]
  },
  {
   "cell_type": "markdown",
   "metadata": {},
   "source": [
    "### Fit GMM for each class\n",
    "\n",
    "We use the same 25 components GMM as that of the previsou study."
   ]
  },
  {
   "cell_type": "code",
   "execution_count": 83,
   "metadata": {},
   "outputs": [],
   "source": [
    "from sklearn.mixture import GaussianMixture"
   ]
  },
  {
   "cell_type": "code",
   "execution_count": 84,
   "metadata": {},
   "outputs": [],
   "source": [
    "num_components = 25"
   ]
  },
  {
   "cell_type": "code",
   "execution_count": 85,
   "metadata": {},
   "outputs": [],
   "source": [
    "def cat_to_model(catindex):\n",
    "    onecat_df = df_fixed[df_fixed['category'] == cats[catindex]]\n",
    "    onecat_fs = onecat_df.iloc[:, 0:800].as_matrix()\n",
    "    \n",
    "    # Section 4 in the paper denotes they assume N(mu, sigma) type.\n",
    "    gmm = GaussianMixture(num_components, covariance_type = \"diag\")\n",
    "    gmm.fit(onecat_fs)\n",
    "    return gmm"
   ]
  },
  {
   "cell_type": "code",
   "execution_count": 86,
   "metadata": {},
   "outputs": [
    {
     "name": "stdout",
     "output_type": "stream",
     "text": [
      "CPU times: user 10.1 s, sys: 35.9 s, total: 46 s\n",
      "Wall time: 5.8 s\n"
     ]
    }
   ],
   "source": [
    "%%time\n",
    "models = [cat_to_model(ind) for ind in range(len(cats))]"
   ]
  },
  {
   "cell_type": "markdown",
   "metadata": {},
   "source": [
    "Collect (means, variances) and weights for each class."
   ]
  },
  {
   "cell_type": "code",
   "execution_count": 87,
   "metadata": {},
   "outputs": [],
   "source": [
    "gmm_stats = [(mod.means_, mod.covariances_) for mod in models]"
   ]
  },
  {
   "cell_type": "code",
   "execution_count": 88,
   "metadata": {},
   "outputs": [],
   "source": [
    "gmm_weights = [mod.weights_ for mod in models]"
   ]
  },
  {
   "cell_type": "markdown",
   "metadata": {},
   "source": [
    "## Compute distances between classes using obtrained GMM."
   ]
  },
  {
   "cell_type": "markdown",
   "metadata": {},
   "source": [
    "Define functions for computing distances between components of GMM."
   ]
  },
  {
   "cell_type": "code",
   "execution_count": 89,
   "metadata": {},
   "outputs": [],
   "source": [
    "def calc_one_dij(mean_list1, sigma_list1, mean_list2, sigma_list2, i, j):\n",
    "    return math.sqrt(((mean_list1[i] - mean_list2[j])**2+(sigma_list1[i] - sigma_list2[j])**2).sum())"
   ]
  },
  {
   "cell_type": "code",
   "execution_count": 90,
   "metadata": {},
   "outputs": [],
   "source": [
    "def calc_dij(mean_list1, sigma_list1, mean_list2, sigma_list2):\n",
    "    return np.array([calc_one_dij(mean_list1, sigma_list1, mean_list2, sigma_list2, i, j)\n",
    "              for i in range(num_components)\n",
    "              for j in range(num_components)]).reshape(num_components, num_components)"
   ]
  },
  {
   "cell_type": "markdown",
   "metadata": {},
   "source": [
    "Here we use linear programming to obtrain distances.\n",
    "\n",
    "Assume $w_{ij}$ is ordered like $w_{00}, w_{01}, w_{02}, w_{03}, ... w_{024}, w_{10}, w_{11}, ...$"
   ]
  },
  {
   "cell_type": "code",
   "execution_count": 91,
   "metadata": {},
   "outputs": [],
   "source": [
    "from scipy.optimize import linprog"
   ]
  },
  {
   "cell_type": "markdown",
   "metadata": {},
   "source": [
    "$\\sum_i  w_{ij} = \\beta_j$."
   ]
  },
  {
   "cell_type": "code",
   "execution_count": 92,
   "metadata": {},
   "outputs": [],
   "source": [
    "def sum_i_coeff(target_j):\n",
    "    return [float(j == target_j) for i in range(num_components) for j in range(num_components)]"
   ]
  },
  {
   "cell_type": "code",
   "execution_count": 93,
   "metadata": {},
   "outputs": [],
   "source": [
    "coeff_i_sums = [sum_i_coeff(j) for j in range(num_components)]"
   ]
  },
  {
   "cell_type": "markdown",
   "metadata": {},
   "source": [
    "$\\sum_j w_{ij} = \\alpha_i$."
   ]
  },
  {
   "cell_type": "code",
   "execution_count": 94,
   "metadata": {},
   "outputs": [],
   "source": [
    "def sum_j_coeff(target_i):\n",
    "    return [float(i == target_i) for i in range(num_components) for j in range(num_components)]"
   ]
  },
  {
   "cell_type": "code",
   "execution_count": 95,
   "metadata": {},
   "outputs": [],
   "source": [
    "coeff_j_sums = [sum_j_coeff(i) for i in range(num_components)]"
   ]
  },
  {
   "cell_type": "markdown",
   "metadata": {},
   "source": [
    "Take summation of these quantities. "
   ]
  },
  {
   "cell_type": "code",
   "execution_count": 96,
   "metadata": {},
   "outputs": [],
   "source": [
    "A_eq = coeff_i_sums+coeff_j_sums"
   ]
  },
  {
   "cell_type": "markdown",
   "metadata": {},
   "source": [
    "Define a function that computes distances between classes."
   ]
  },
  {
   "cell_type": "code",
   "execution_count": 97,
   "metadata": {},
   "outputs": [],
   "source": [
    "def calc_distance(midx1, midx2):\n",
    "    alpha = gmm_weights[midx1]\n",
    "    beta = gmm_weights[midx2]\n",
    "    mus1, sigs1 = gmm_stats[midx1]\n",
    "    mus2, sigs2 = gmm_stats[midx2]\n",
    "    dij =  calc_dij(mus1, sigs1, mus2, sigs2)\n",
    "\n",
    "    b_eq = np.concatenate((beta, alpha))\n",
    "    c = dij.reshape(num_components*num_components)\n",
    "    res = linprog(c, A_eq=A_eq, b_eq=b_eq,\n",
    "              options={\"disp\": False})\n",
    "    return res.fun, res"
   ]
  },
  {
   "cell_type": "markdown",
   "metadata": {},
   "source": [
    "Check the function."
   ]
  },
  {
   "cell_type": "code",
   "execution_count": 98,
   "metadata": {},
   "outputs": [
    {
     "data": {
      "text/plain": [
       "1882.2386117073297"
      ]
     },
     "execution_count": 98,
     "metadata": {},
     "output_type": "execute_result"
    }
   ],
   "source": [
    "dist, _ = calc_distance(3, 5)\n",
    "dist"
   ]
  },
  {
   "cell_type": "code",
   "execution_count": 99,
   "metadata": {},
   "outputs": [
    {
     "data": {
      "text/plain": [
       "1882.2386117073302"
      ]
     },
     "execution_count": 99,
     "metadata": {},
     "output_type": "execute_result"
    }
   ],
   "source": [
    "dist, _ = calc_distance(5, 3)\n",
    "dist"
   ]
  },
  {
   "cell_type": "markdown",
   "metadata": {},
   "source": [
    "Define a function that computes all of combinations of classes."
   ]
  },
  {
   "cell_type": "code",
   "execution_count": 100,
   "metadata": {},
   "outputs": [],
   "source": [
    "def calc_all_distances():\n",
    "    catnum = len(cats)\n",
    "    dists = np.zeros((catnum, catnum))\n",
    "    for i in range(catnum):\n",
    "        for j in range(catnum):\n",
    "            if i != j :\n",
    "                dists[i, j], _ = calc_distance(i, j)\n",
    "    return dists"
   ]
  },
  {
   "cell_type": "code",
   "execution_count": 101,
   "metadata": {},
   "outputs": [
    {
     "name": "stdout",
     "output_type": "stream",
     "text": [
      "CPU times: user 43min 7s, sys: 224 ms, total: 43min 8s\n",
      "Wall time: 43min 8s\n"
     ]
    }
   ],
   "source": [
    "%%time\n",
    "Dps = calc_all_distances()"
   ]
  },
  {
   "cell_type": "code",
   "execution_count": 102,
   "metadata": {},
   "outputs": [],
   "source": [
    "distdict = {cat1:[Dps[idx1, idx2] for idx2 in range(len(cats))] for idx1, cat1 in enumerate(cats)}"
   ]
  },
  {
   "cell_type": "code",
   "execution_count": 103,
   "metadata": {},
   "outputs": [],
   "source": [
    "distdf = pd.DataFrame(distdict)"
   ]
  },
  {
   "cell_type": "code",
   "execution_count": 104,
   "metadata": {},
   "outputs": [],
   "source": [
    "distdf.index = cats"
   ]
  },
  {
   "cell_type": "code",
   "execution_count": 105,
   "metadata": {},
   "outputs": [
    {
     "data": {
      "text/html": [
       "<div>\n",
       "<style scoped>\n",
       "    .dataframe tbody tr th:only-of-type {\n",
       "        vertical-align: middle;\n",
       "    }\n",
       "\n",
       "    .dataframe tbody tr th {\n",
       "        vertical-align: top;\n",
       "    }\n",
       "\n",
       "    .dataframe thead th {\n",
       "        text-align: right;\n",
       "    }\n",
       "</style>\n",
       "<table border=\"1\" class=\"dataframe\">\n",
       "  <thead>\n",
       "    <tr style=\"text-align: right;\">\n",
       "      <th></th>\n",
       "      <th>0</th>\n",
       "      <th>1</th>\n",
       "      <th>10</th>\n",
       "      <th>11</th>\n",
       "      <th>12</th>\n",
       "      <th>13</th>\n",
       "      <th>14</th>\n",
       "      <th>15</th>\n",
       "      <th>16</th>\n",
       "      <th>17</th>\n",
       "      <th>...</th>\n",
       "      <th>90</th>\n",
       "      <th>91</th>\n",
       "      <th>92</th>\n",
       "      <th>93</th>\n",
       "      <th>94</th>\n",
       "      <th>95</th>\n",
       "      <th>96</th>\n",
       "      <th>97</th>\n",
       "      <th>98</th>\n",
       "      <th>99</th>\n",
       "    </tr>\n",
       "  </thead>\n",
       "  <tbody>\n",
       "    <tr>\n",
       "      <th>0</th>\n",
       "      <td>0.000000</td>\n",
       "      <td>3046.101723</td>\n",
       "      <td>2766.734586</td>\n",
       "      <td>2711.677687</td>\n",
       "      <td>2688.777579</td>\n",
       "      <td>2743.839675</td>\n",
       "      <td>2590.393673</td>\n",
       "      <td>2594.210519</td>\n",
       "      <td>2650.326974</td>\n",
       "      <td>2577.656687</td>\n",
       "      <td>...</td>\n",
       "      <td>2714.402983</td>\n",
       "      <td>2997.000191</td>\n",
       "      <td>3076.719676</td>\n",
       "      <td>2781.475849</td>\n",
       "      <td>2561.215999</td>\n",
       "      <td>3022.085364</td>\n",
       "      <td>2672.066689</td>\n",
       "      <td>2588.475212</td>\n",
       "      <td>2605.386746</td>\n",
       "      <td>2629.264591</td>\n",
       "    </tr>\n",
       "    <tr>\n",
       "      <th>1</th>\n",
       "      <td>3046.101723</td>\n",
       "      <td>0.000000</td>\n",
       "      <td>2849.662796</td>\n",
       "      <td>2708.251458</td>\n",
       "      <td>2801.636500</td>\n",
       "      <td>2899.499029</td>\n",
       "      <td>2770.364251</td>\n",
       "      <td>2756.692692</td>\n",
       "      <td>2884.996360</td>\n",
       "      <td>2529.276559</td>\n",
       "      <td>...</td>\n",
       "      <td>2839.954682</td>\n",
       "      <td>2738.126168</td>\n",
       "      <td>2855.586494</td>\n",
       "      <td>2875.307947</td>\n",
       "      <td>2666.155282</td>\n",
       "      <td>3231.025934</td>\n",
       "      <td>2902.864155</td>\n",
       "      <td>2845.743584</td>\n",
       "      <td>2601.261617</td>\n",
       "      <td>2643.561652</td>\n",
       "    </tr>\n",
       "    <tr>\n",
       "      <th>10</th>\n",
       "      <td>2766.734586</td>\n",
       "      <td>2849.662796</td>\n",
       "      <td>0.000000</td>\n",
       "      <td>2494.856044</td>\n",
       "      <td>2423.844458</td>\n",
       "      <td>2504.021387</td>\n",
       "      <td>2524.001962</td>\n",
       "      <td>2526.126148</td>\n",
       "      <td>2469.383571</td>\n",
       "      <td>2359.287047</td>\n",
       "      <td>...</td>\n",
       "      <td>2550.577044</td>\n",
       "      <td>2750.634276</td>\n",
       "      <td>2919.823783</td>\n",
       "      <td>2574.946701</td>\n",
       "      <td>2355.566715</td>\n",
       "      <td>3046.951759</td>\n",
       "      <td>2529.105031</td>\n",
       "      <td>2451.530760</td>\n",
       "      <td>2293.018897</td>\n",
       "      <td>2382.422271</td>\n",
       "    </tr>\n",
       "    <tr>\n",
       "      <th>11</th>\n",
       "      <td>2711.677687</td>\n",
       "      <td>2708.251458</td>\n",
       "      <td>2494.856044</td>\n",
       "      <td>0.000000</td>\n",
       "      <td>1819.472431</td>\n",
       "      <td>1882.238612</td>\n",
       "      <td>1981.044374</td>\n",
       "      <td>2268.803090</td>\n",
       "      <td>1933.103852</td>\n",
       "      <td>1938.998622</td>\n",
       "      <td>...</td>\n",
       "      <td>2388.277646</td>\n",
       "      <td>2456.423287</td>\n",
       "      <td>2632.645813</td>\n",
       "      <td>2052.422769</td>\n",
       "      <td>1945.523153</td>\n",
       "      <td>2778.166754</td>\n",
       "      <td>2393.411670</td>\n",
       "      <td>2262.840573</td>\n",
       "      <td>1711.385774</td>\n",
       "      <td>1800.233268</td>\n",
       "    </tr>\n",
       "    <tr>\n",
       "      <th>12</th>\n",
       "      <td>2688.777579</td>\n",
       "      <td>2801.636500</td>\n",
       "      <td>2423.844458</td>\n",
       "      <td>1819.472431</td>\n",
       "      <td>0.000000</td>\n",
       "      <td>1571.298240</td>\n",
       "      <td>1677.635451</td>\n",
       "      <td>2074.505230</td>\n",
       "      <td>1763.373174</td>\n",
       "      <td>1766.016224</td>\n",
       "      <td>...</td>\n",
       "      <td>2265.443490</td>\n",
       "      <td>2662.699749</td>\n",
       "      <td>2713.646650</td>\n",
       "      <td>1954.495641</td>\n",
       "      <td>2013.024223</td>\n",
       "      <td>2748.078514</td>\n",
       "      <td>2349.454300</td>\n",
       "      <td>2172.470655</td>\n",
       "      <td>1603.973938</td>\n",
       "      <td>1628.980478</td>\n",
       "    </tr>\n",
       "    <tr>\n",
       "      <th>13</th>\n",
       "      <td>2743.839675</td>\n",
       "      <td>2899.499029</td>\n",
       "      <td>2504.021387</td>\n",
       "      <td>1882.238612</td>\n",
       "      <td>1571.298240</td>\n",
       "      <td>0.000000</td>\n",
       "      <td>1574.243284</td>\n",
       "      <td>2074.371073</td>\n",
       "      <td>1664.210507</td>\n",
       "      <td>1943.158989</td>\n",
       "      <td>...</td>\n",
       "      <td>2227.308114</td>\n",
       "      <td>2624.011412</td>\n",
       "      <td>2699.208131</td>\n",
       "      <td>1913.604924</td>\n",
       "      <td>2030.158165</td>\n",
       "      <td>2806.539494</td>\n",
       "      <td>2384.066569</td>\n",
       "      <td>2325.459227</td>\n",
       "      <td>1654.500816</td>\n",
       "      <td>1671.549527</td>\n",
       "    </tr>\n",
       "    <tr>\n",
       "      <th>14</th>\n",
       "      <td>2590.393673</td>\n",
       "      <td>2770.364251</td>\n",
       "      <td>2524.001962</td>\n",
       "      <td>1981.044374</td>\n",
       "      <td>1677.635451</td>\n",
       "      <td>1574.243284</td>\n",
       "      <td>0.000000</td>\n",
       "      <td>2107.960979</td>\n",
       "      <td>1794.162352</td>\n",
       "      <td>1881.548371</td>\n",
       "      <td>...</td>\n",
       "      <td>2312.282799</td>\n",
       "      <td>2689.437264</td>\n",
       "      <td>2652.330247</td>\n",
       "      <td>2060.374043</td>\n",
       "      <td>2149.752301</td>\n",
       "      <td>2875.740337</td>\n",
       "      <td>2345.694282</td>\n",
       "      <td>2361.136180</td>\n",
       "      <td>1758.322312</td>\n",
       "      <td>1807.040761</td>\n",
       "    </tr>\n",
       "    <tr>\n",
       "      <th>15</th>\n",
       "      <td>2594.210519</td>\n",
       "      <td>2756.692692</td>\n",
       "      <td>2526.126148</td>\n",
       "      <td>2268.803090</td>\n",
       "      <td>2074.505230</td>\n",
       "      <td>2074.371073</td>\n",
       "      <td>2107.960979</td>\n",
       "      <td>0.000000</td>\n",
       "      <td>2187.504876</td>\n",
       "      <td>2084.234127</td>\n",
       "      <td>...</td>\n",
       "      <td>2460.621170</td>\n",
       "      <td>2746.283514</td>\n",
       "      <td>2824.654106</td>\n",
       "      <td>2233.598131</td>\n",
       "      <td>2236.976402</td>\n",
       "      <td>2842.645679</td>\n",
       "      <td>2386.256780</td>\n",
       "      <td>2295.463715</td>\n",
       "      <td>2029.110138</td>\n",
       "      <td>2059.619056</td>\n",
       "    </tr>\n",
       "    <tr>\n",
       "      <th>16</th>\n",
       "      <td>2650.326974</td>\n",
       "      <td>2884.996360</td>\n",
       "      <td>2469.383571</td>\n",
       "      <td>1933.103852</td>\n",
       "      <td>1763.373174</td>\n",
       "      <td>1664.210507</td>\n",
       "      <td>1794.162352</td>\n",
       "      <td>2187.504876</td>\n",
       "      <td>0.000000</td>\n",
       "      <td>1923.838422</td>\n",
       "      <td>...</td>\n",
       "      <td>2283.056251</td>\n",
       "      <td>2490.262057</td>\n",
       "      <td>2622.898013</td>\n",
       "      <td>2020.908875</td>\n",
       "      <td>1975.970734</td>\n",
       "      <td>2805.010469</td>\n",
       "      <td>2436.915758</td>\n",
       "      <td>2230.436956</td>\n",
       "      <td>1808.108301</td>\n",
       "      <td>1764.165039</td>\n",
       "    </tr>\n",
       "    <tr>\n",
       "      <th>17</th>\n",
       "      <td>2577.656687</td>\n",
       "      <td>2529.276559</td>\n",
       "      <td>2359.287047</td>\n",
       "      <td>1938.998622</td>\n",
       "      <td>1766.016224</td>\n",
       "      <td>1943.158989</td>\n",
       "      <td>1881.548371</td>\n",
       "      <td>2084.234127</td>\n",
       "      <td>1923.838422</td>\n",
       "      <td>0.000000</td>\n",
       "      <td>...</td>\n",
       "      <td>2317.635029</td>\n",
       "      <td>2563.783606</td>\n",
       "      <td>2613.069840</td>\n",
       "      <td>2006.881975</td>\n",
       "      <td>1983.574764</td>\n",
       "      <td>2761.378480</td>\n",
       "      <td>2169.330812</td>\n",
       "      <td>2239.756052</td>\n",
       "      <td>1745.089306</td>\n",
       "      <td>1720.713349</td>\n",
       "    </tr>\n",
       "    <tr>\n",
       "      <th>18</th>\n",
       "      <td>2589.787980</td>\n",
       "      <td>2860.290362</td>\n",
       "      <td>2492.135389</td>\n",
       "      <td>2107.267641</td>\n",
       "      <td>1716.250681</td>\n",
       "      <td>1729.124983</td>\n",
       "      <td>1649.651943</td>\n",
       "      <td>2195.926316</td>\n",
       "      <td>1942.822296</td>\n",
       "      <td>1934.050039</td>\n",
       "      <td>...</td>\n",
       "      <td>2300.650622</td>\n",
       "      <td>2747.159606</td>\n",
       "      <td>2773.922622</td>\n",
       "      <td>2299.752957</td>\n",
       "      <td>2254.837126</td>\n",
       "      <td>2865.568625</td>\n",
       "      <td>2351.663318</td>\n",
       "      <td>2336.009604</td>\n",
       "      <td>1854.224299</td>\n",
       "      <td>1918.356473</td>\n",
       "    </tr>\n",
       "    <tr>\n",
       "      <th>19</th>\n",
       "      <td>2722.166783</td>\n",
       "      <td>2744.855607</td>\n",
       "      <td>2427.685604</td>\n",
       "      <td>1804.196191</td>\n",
       "      <td>1650.918575</td>\n",
       "      <td>1503.615643</td>\n",
       "      <td>1649.152968</td>\n",
       "      <td>2086.149431</td>\n",
       "      <td>1717.112844</td>\n",
       "      <td>1801.801219</td>\n",
       "      <td>...</td>\n",
       "      <td>2127.178032</td>\n",
       "      <td>2478.428624</td>\n",
       "      <td>2593.071729</td>\n",
       "      <td>1836.358166</td>\n",
       "      <td>2007.426762</td>\n",
       "      <td>2708.623975</td>\n",
       "      <td>2340.667563</td>\n",
       "      <td>2265.713328</td>\n",
       "      <td>1656.123899</td>\n",
       "      <td>1580.414696</td>\n",
       "    </tr>\n",
       "    <tr>\n",
       "      <th>2</th>\n",
       "      <td>3208.201787</td>\n",
       "      <td>2978.170101</td>\n",
       "      <td>2819.336813</td>\n",
       "      <td>2797.744900</td>\n",
       "      <td>2768.131757</td>\n",
       "      <td>2882.234468</td>\n",
       "      <td>2840.437597</td>\n",
       "      <td>2722.860679</td>\n",
       "      <td>2763.587525</td>\n",
       "      <td>2712.485968</td>\n",
       "      <td>...</td>\n",
       "      <td>2853.971177</td>\n",
       "      <td>2722.152697</td>\n",
       "      <td>2728.951579</td>\n",
       "      <td>2917.806744</td>\n",
       "      <td>2687.843780</td>\n",
       "      <td>3260.018585</td>\n",
       "      <td>2896.347273</td>\n",
       "      <td>2722.140122</td>\n",
       "      <td>2536.740008</td>\n",
       "      <td>2679.375925</td>\n",
       "    </tr>\n",
       "    <tr>\n",
       "      <th>20</th>\n",
       "      <td>2669.536654</td>\n",
       "      <td>2720.730521</td>\n",
       "      <td>2333.516443</td>\n",
       "      <td>1978.657199</td>\n",
       "      <td>1729.702895</td>\n",
       "      <td>1795.185561</td>\n",
       "      <td>1816.771632</td>\n",
       "      <td>2088.796819</td>\n",
       "      <td>1920.475116</td>\n",
       "      <td>1879.408358</td>\n",
       "      <td>...</td>\n",
       "      <td>2405.415738</td>\n",
       "      <td>2550.829582</td>\n",
       "      <td>2566.235536</td>\n",
       "      <td>2096.210467</td>\n",
       "      <td>2048.357177</td>\n",
       "      <td>2794.636446</td>\n",
       "      <td>2167.205419</td>\n",
       "      <td>2351.679467</td>\n",
       "      <td>1731.919790</td>\n",
       "      <td>1777.812638</td>\n",
       "    </tr>\n",
       "    <tr>\n",
       "      <th>21</th>\n",
       "      <td>2620.881085</td>\n",
       "      <td>2963.803506</td>\n",
       "      <td>2725.279470</td>\n",
       "      <td>2275.522844</td>\n",
       "      <td>2215.398374</td>\n",
       "      <td>2262.730806</td>\n",
       "      <td>2346.884813</td>\n",
       "      <td>2398.501157</td>\n",
       "      <td>2282.210368</td>\n",
       "      <td>2310.571922</td>\n",
       "      <td>...</td>\n",
       "      <td>2634.624358</td>\n",
       "      <td>2820.966990</td>\n",
       "      <td>2995.493071</td>\n",
       "      <td>2429.782323</td>\n",
       "      <td>2329.888013</td>\n",
       "      <td>2838.852691</td>\n",
       "      <td>2487.272623</td>\n",
       "      <td>2508.430832</td>\n",
       "      <td>2119.926068</td>\n",
       "      <td>2178.222940</td>\n",
       "    </tr>\n",
       "    <tr>\n",
       "      <th>22</th>\n",
       "      <td>2618.020668</td>\n",
       "      <td>2700.358231</td>\n",
       "      <td>2435.616270</td>\n",
       "      <td>1994.135578</td>\n",
       "      <td>1852.549031</td>\n",
       "      <td>1976.845803</td>\n",
       "      <td>2040.547479</td>\n",
       "      <td>2258.295455</td>\n",
       "      <td>1999.233113</td>\n",
       "      <td>1904.030580</td>\n",
       "      <td>...</td>\n",
       "      <td>2432.231564</td>\n",
       "      <td>2538.400614</td>\n",
       "      <td>2609.874041</td>\n",
       "      <td>2169.548214</td>\n",
       "      <td>1980.351473</td>\n",
       "      <td>2706.532007</td>\n",
       "      <td>2384.408455</td>\n",
       "      <td>2308.941674</td>\n",
       "      <td>1809.125301</td>\n",
       "      <td>1893.348272</td>\n",
       "    </tr>\n",
       "    <tr>\n",
       "      <th>23</th>\n",
       "      <td>2723.611698</td>\n",
       "      <td>2904.968866</td>\n",
       "      <td>2536.433499</td>\n",
       "      <td>2213.652418</td>\n",
       "      <td>2201.123567</td>\n",
       "      <td>2162.437997</td>\n",
       "      <td>2280.802402</td>\n",
       "      <td>2402.247068</td>\n",
       "      <td>2070.184104</td>\n",
       "      <td>2139.007368</td>\n",
       "      <td>...</td>\n",
       "      <td>2260.407007</td>\n",
       "      <td>2449.360499</td>\n",
       "      <td>2501.548888</td>\n",
       "      <td>2293.343469</td>\n",
       "      <td>2192.506783</td>\n",
       "      <td>2753.396738</td>\n",
       "      <td>2496.637765</td>\n",
       "      <td>2430.069025</td>\n",
       "      <td>1957.532902</td>\n",
       "      <td>2027.435823</td>\n",
       "    </tr>\n",
       "    <tr>\n",
       "      <th>24</th>\n",
       "      <td>2640.486420</td>\n",
       "      <td>2649.043768</td>\n",
       "      <td>2486.130437</td>\n",
       "      <td>2165.518189</td>\n",
       "      <td>2186.782356</td>\n",
       "      <td>2189.813821</td>\n",
       "      <td>2119.041816</td>\n",
       "      <td>2293.721554</td>\n",
       "      <td>2055.503972</td>\n",
       "      <td>1939.670207</td>\n",
       "      <td>...</td>\n",
       "      <td>2496.485193</td>\n",
       "      <td>2432.103072</td>\n",
       "      <td>2417.120456</td>\n",
       "      <td>2404.327896</td>\n",
       "      <td>2207.485728</td>\n",
       "      <td>2839.931609</td>\n",
       "      <td>2353.209814</td>\n",
       "      <td>2351.188841</td>\n",
       "      <td>1978.593737</td>\n",
       "      <td>2087.081148</td>\n",
       "    </tr>\n",
       "    <tr>\n",
       "      <th>25</th>\n",
       "      <td>2679.386613</td>\n",
       "      <td>2812.017194</td>\n",
       "      <td>2422.768565</td>\n",
       "      <td>2210.144846</td>\n",
       "      <td>2116.341992</td>\n",
       "      <td>2226.207525</td>\n",
       "      <td>2156.119589</td>\n",
       "      <td>2424.397127</td>\n",
       "      <td>2110.540922</td>\n",
       "      <td>2146.560892</td>\n",
       "      <td>...</td>\n",
       "      <td>2574.501398</td>\n",
       "      <td>2622.155152</td>\n",
       "      <td>2795.383821</td>\n",
       "      <td>2462.012068</td>\n",
       "      <td>2132.593136</td>\n",
       "      <td>2870.659492</td>\n",
       "      <td>2481.101304</td>\n",
       "      <td>2461.149981</td>\n",
       "      <td>2040.368588</td>\n",
       "      <td>2126.492384</td>\n",
       "    </tr>\n",
       "    <tr>\n",
       "      <th>26</th>\n",
       "      <td>2637.558114</td>\n",
       "      <td>2605.671205</td>\n",
       "      <td>2447.469484</td>\n",
       "      <td>1900.198973</td>\n",
       "      <td>1657.582457</td>\n",
       "      <td>1677.658947</td>\n",
       "      <td>1739.146750</td>\n",
       "      <td>2080.338256</td>\n",
       "      <td>1827.322653</td>\n",
       "      <td>1730.694194</td>\n",
       "      <td>...</td>\n",
       "      <td>2104.052716</td>\n",
       "      <td>2425.937951</td>\n",
       "      <td>2534.697567</td>\n",
       "      <td>1939.273006</td>\n",
       "      <td>1968.340081</td>\n",
       "      <td>2799.802078</td>\n",
       "      <td>2429.875019</td>\n",
       "      <td>2125.966222</td>\n",
       "      <td>1536.425947</td>\n",
       "      <td>1492.171159</td>\n",
       "    </tr>\n",
       "    <tr>\n",
       "      <th>27</th>\n",
       "      <td>2604.871014</td>\n",
       "      <td>2685.553800</td>\n",
       "      <td>2415.144137</td>\n",
       "      <td>1742.629274</td>\n",
       "      <td>1579.063015</td>\n",
       "      <td>1499.188204</td>\n",
       "      <td>1686.391382</td>\n",
       "      <td>2082.637481</td>\n",
       "      <td>1633.164183</td>\n",
       "      <td>1733.754455</td>\n",
       "      <td>...</td>\n",
       "      <td>2171.074126</td>\n",
       "      <td>2410.798170</td>\n",
       "      <td>2535.500838</td>\n",
       "      <td>1833.387095</td>\n",
       "      <td>1835.905654</td>\n",
       "      <td>2701.307926</td>\n",
       "      <td>2262.921899</td>\n",
       "      <td>2112.488470</td>\n",
       "      <td>1534.772084</td>\n",
       "      <td>1484.228980</td>\n",
       "    </tr>\n",
       "    <tr>\n",
       "      <th>28</th>\n",
       "      <td>2769.786959</td>\n",
       "      <td>2824.686742</td>\n",
       "      <td>2482.674778</td>\n",
       "      <td>1868.996830</td>\n",
       "      <td>1701.922377</td>\n",
       "      <td>1603.146213</td>\n",
       "      <td>1852.098089</td>\n",
       "      <td>2179.185885</td>\n",
       "      <td>1850.999996</td>\n",
       "      <td>1921.986527</td>\n",
       "      <td>...</td>\n",
       "      <td>2420.830796</td>\n",
       "      <td>2648.413290</td>\n",
       "      <td>2704.265535</td>\n",
       "      <td>2008.359301</td>\n",
       "      <td>2054.735857</td>\n",
       "      <td>2864.690896</td>\n",
       "      <td>2466.658582</td>\n",
       "      <td>2346.705053</td>\n",
       "      <td>1738.226931</td>\n",
       "      <td>1771.649114</td>\n",
       "    </tr>\n",
       "    <tr>\n",
       "      <th>29</th>\n",
       "      <td>2633.430556</td>\n",
       "      <td>2647.177205</td>\n",
       "      <td>2393.673637</td>\n",
       "      <td>1733.158047</td>\n",
       "      <td>1520.545971</td>\n",
       "      <td>1508.623752</td>\n",
       "      <td>1700.954852</td>\n",
       "      <td>2097.615083</td>\n",
       "      <td>1624.005898</td>\n",
       "      <td>1789.715847</td>\n",
       "      <td>...</td>\n",
       "      <td>2170.782047</td>\n",
       "      <td>2345.598643</td>\n",
       "      <td>2402.603738</td>\n",
       "      <td>1976.168165</td>\n",
       "      <td>1863.992190</td>\n",
       "      <td>2690.253083</td>\n",
       "      <td>2143.449465</td>\n",
       "      <td>2222.101579</td>\n",
       "      <td>1543.743953</td>\n",
       "      <td>1531.237870</td>\n",
       "    </tr>\n",
       "    <tr>\n",
       "      <th>3</th>\n",
       "      <td>2492.388843</td>\n",
       "      <td>2758.482771</td>\n",
       "      <td>2569.897392</td>\n",
       "      <td>2240.388535</td>\n",
       "      <td>2067.261270</td>\n",
       "      <td>2066.430767</td>\n",
       "      <td>2043.039037</td>\n",
       "      <td>2270.272153</td>\n",
       "      <td>2173.839019</td>\n",
       "      <td>2135.410867</td>\n",
       "      <td>...</td>\n",
       "      <td>2488.097553</td>\n",
       "      <td>2720.670487</td>\n",
       "      <td>2669.022458</td>\n",
       "      <td>2390.242271</td>\n",
       "      <td>2281.228993</td>\n",
       "      <td>2869.333576</td>\n",
       "      <td>2279.834741</td>\n",
       "      <td>2453.162338</td>\n",
       "      <td>2032.888364</td>\n",
       "      <td>2035.616422</td>\n",
       "    </tr>\n",
       "    <tr>\n",
       "      <th>30</th>\n",
       "      <td>2665.392463</td>\n",
       "      <td>2827.463214</td>\n",
       "      <td>2590.312101</td>\n",
       "      <td>1968.723342</td>\n",
       "      <td>1880.626374</td>\n",
       "      <td>1848.602649</td>\n",
       "      <td>1908.649589</td>\n",
       "      <td>2279.664895</td>\n",
       "      <td>1809.347384</td>\n",
       "      <td>2077.564909</td>\n",
       "      <td>...</td>\n",
       "      <td>2322.221700</td>\n",
       "      <td>2620.941995</td>\n",
       "      <td>2704.015530</td>\n",
       "      <td>2186.292307</td>\n",
       "      <td>2059.186131</td>\n",
       "      <td>2798.867449</td>\n",
       "      <td>2465.439596</td>\n",
       "      <td>2317.836889</td>\n",
       "      <td>1876.999998</td>\n",
       "      <td>1930.175691</td>\n",
       "    </tr>\n",
       "    <tr>\n",
       "      <th>31</th>\n",
       "      <td>2777.758450</td>\n",
       "      <td>2880.621192</td>\n",
       "      <td>2524.164831</td>\n",
       "      <td>1813.697902</td>\n",
       "      <td>1481.459019</td>\n",
       "      <td>1242.787625</td>\n",
       "      <td>1607.621159</td>\n",
       "      <td>2039.692169</td>\n",
       "      <td>1684.388018</td>\n",
       "      <td>1839.014968</td>\n",
       "      <td>...</td>\n",
       "      <td>2233.292257</td>\n",
       "      <td>2481.235975</td>\n",
       "      <td>2642.922477</td>\n",
       "      <td>1749.177959</td>\n",
       "      <td>1968.814471</td>\n",
       "      <td>2772.350345</td>\n",
       "      <td>2367.101081</td>\n",
       "      <td>2276.994074</td>\n",
       "      <td>1526.004958</td>\n",
       "      <td>1557.685514</td>\n",
       "    </tr>\n",
       "    <tr>\n",
       "      <th>32</th>\n",
       "      <td>2643.675492</td>\n",
       "      <td>2715.129208</td>\n",
       "      <td>2426.677566</td>\n",
       "      <td>1861.928407</td>\n",
       "      <td>1596.791596</td>\n",
       "      <td>1470.947818</td>\n",
       "      <td>1613.794670</td>\n",
       "      <td>2029.748472</td>\n",
       "      <td>1786.994119</td>\n",
       "      <td>1801.946329</td>\n",
       "      <td>...</td>\n",
       "      <td>2212.711063</td>\n",
       "      <td>2507.576984</td>\n",
       "      <td>2626.982430</td>\n",
       "      <td>1896.476529</td>\n",
       "      <td>1984.994596</td>\n",
       "      <td>2742.451502</td>\n",
       "      <td>2315.595663</td>\n",
       "      <td>2270.138286</td>\n",
       "      <td>1575.711603</td>\n",
       "      <td>1580.290649</td>\n",
       "    </tr>\n",
       "    <tr>\n",
       "      <th>33</th>\n",
       "      <td>2550.530109</td>\n",
       "      <td>2767.929294</td>\n",
       "      <td>2362.047995</td>\n",
       "      <td>1947.646738</td>\n",
       "      <td>1712.853140</td>\n",
       "      <td>1643.577333</td>\n",
       "      <td>1792.876132</td>\n",
       "      <td>2100.098204</td>\n",
       "      <td>1774.690593</td>\n",
       "      <td>1813.900029</td>\n",
       "      <td>...</td>\n",
       "      <td>2070.707878</td>\n",
       "      <td>2434.533067</td>\n",
       "      <td>2499.749309</td>\n",
       "      <td>1973.134311</td>\n",
       "      <td>1965.761306</td>\n",
       "      <td>2650.008844</td>\n",
       "      <td>2194.466315</td>\n",
       "      <td>2186.014853</td>\n",
       "      <td>1675.052609</td>\n",
       "      <td>1638.494248</td>\n",
       "    </tr>\n",
       "    <tr>\n",
       "      <th>34</th>\n",
       "      <td>2699.161330</td>\n",
       "      <td>2774.399677</td>\n",
       "      <td>2463.682949</td>\n",
       "      <td>2009.508680</td>\n",
       "      <td>1891.836369</td>\n",
       "      <td>1824.378415</td>\n",
       "      <td>1984.727341</td>\n",
       "      <td>2272.166182</td>\n",
       "      <td>1925.562681</td>\n",
       "      <td>2015.577132</td>\n",
       "      <td>...</td>\n",
       "      <td>2236.348418</td>\n",
       "      <td>2340.146197</td>\n",
       "      <td>2529.439436</td>\n",
       "      <td>1956.544709</td>\n",
       "      <td>1934.792160</td>\n",
       "      <td>2645.569127</td>\n",
       "      <td>2415.547474</td>\n",
       "      <td>2359.094732</td>\n",
       "      <td>1739.623627</td>\n",
       "      <td>1731.897304</td>\n",
       "    </tr>\n",
       "    <tr>\n",
       "      <th>35</th>\n",
       "      <td>2694.867971</td>\n",
       "      <td>2676.571004</td>\n",
       "      <td>2475.576071</td>\n",
       "      <td>2127.842660</td>\n",
       "      <td>1979.758295</td>\n",
       "      <td>1941.390157</td>\n",
       "      <td>1962.789259</td>\n",
       "      <td>2112.435112</td>\n",
       "      <td>2000.407936</td>\n",
       "      <td>2044.725342</td>\n",
       "      <td>...</td>\n",
       "      <td>2258.878384</td>\n",
       "      <td>2284.979178</td>\n",
       "      <td>2523.321682</td>\n",
       "      <td>2057.945425</td>\n",
       "      <td>2139.997062</td>\n",
       "      <td>2706.409885</td>\n",
       "      <td>2460.325581</td>\n",
       "      <td>2136.780957</td>\n",
       "      <td>1825.029648</td>\n",
       "      <td>1823.175998</td>\n",
       "    </tr>\n",
       "    <tr>\n",
       "      <th>...</th>\n",
       "      <td>...</td>\n",
       "      <td>...</td>\n",
       "      <td>...</td>\n",
       "      <td>...</td>\n",
       "      <td>...</td>\n",
       "      <td>...</td>\n",
       "      <td>...</td>\n",
       "      <td>...</td>\n",
       "      <td>...</td>\n",
       "      <td>...</td>\n",
       "      <td>...</td>\n",
       "      <td>...</td>\n",
       "      <td>...</td>\n",
       "      <td>...</td>\n",
       "      <td>...</td>\n",
       "      <td>...</td>\n",
       "      <td>...</td>\n",
       "      <td>...</td>\n",
       "      <td>...</td>\n",
       "      <td>...</td>\n",
       "      <td>...</td>\n",
       "    </tr>\n",
       "    <tr>\n",
       "      <th>72</th>\n",
       "      <td>2601.068612</td>\n",
       "      <td>2737.146309</td>\n",
       "      <td>2441.118767</td>\n",
       "      <td>1945.706719</td>\n",
       "      <td>1708.712744</td>\n",
       "      <td>1641.672450</td>\n",
       "      <td>1809.789616</td>\n",
       "      <td>2120.683063</td>\n",
       "      <td>1907.619099</td>\n",
       "      <td>1798.089277</td>\n",
       "      <td>...</td>\n",
       "      <td>2213.556911</td>\n",
       "      <td>2376.099383</td>\n",
       "      <td>2616.908508</td>\n",
       "      <td>1963.548492</td>\n",
       "      <td>2006.587871</td>\n",
       "      <td>2623.445344</td>\n",
       "      <td>2282.867802</td>\n",
       "      <td>2241.842817</td>\n",
       "      <td>1661.723320</td>\n",
       "      <td>1627.215681</td>\n",
       "    </tr>\n",
       "    <tr>\n",
       "      <th>73</th>\n",
       "      <td>2672.307942</td>\n",
       "      <td>2830.703634</td>\n",
       "      <td>2512.063740</td>\n",
       "      <td>2021.168414</td>\n",
       "      <td>1824.083090</td>\n",
       "      <td>1865.866166</td>\n",
       "      <td>1944.258853</td>\n",
       "      <td>2171.940872</td>\n",
       "      <td>1981.326416</td>\n",
       "      <td>2041.554086</td>\n",
       "      <td>...</td>\n",
       "      <td>2357.433100</td>\n",
       "      <td>2597.871516</td>\n",
       "      <td>2659.668493</td>\n",
       "      <td>2053.773600</td>\n",
       "      <td>2113.531381</td>\n",
       "      <td>2656.459198</td>\n",
       "      <td>2296.004880</td>\n",
       "      <td>2413.988938</td>\n",
       "      <td>1910.045176</td>\n",
       "      <td>1748.802053</td>\n",
       "    </tr>\n",
       "    <tr>\n",
       "      <th>74</th>\n",
       "      <td>2745.774983</td>\n",
       "      <td>2713.031454</td>\n",
       "      <td>2450.674358</td>\n",
       "      <td>1907.525962</td>\n",
       "      <td>1857.442475</td>\n",
       "      <td>1854.339407</td>\n",
       "      <td>1902.709754</td>\n",
       "      <td>2121.527464</td>\n",
       "      <td>2035.655929</td>\n",
       "      <td>1946.332681</td>\n",
       "      <td>...</td>\n",
       "      <td>2148.250918</td>\n",
       "      <td>2392.453723</td>\n",
       "      <td>2538.199119</td>\n",
       "      <td>1960.922061</td>\n",
       "      <td>1996.261074</td>\n",
       "      <td>2780.021501</td>\n",
       "      <td>2456.696707</td>\n",
       "      <td>2208.928176</td>\n",
       "      <td>1647.973492</td>\n",
       "      <td>1644.570690</td>\n",
       "    </tr>\n",
       "    <tr>\n",
       "      <th>75</th>\n",
       "      <td>2700.228779</td>\n",
       "      <td>2486.718470</td>\n",
       "      <td>2298.818634</td>\n",
       "      <td>1922.043896</td>\n",
       "      <td>1936.150100</td>\n",
       "      <td>2049.724216</td>\n",
       "      <td>2060.989793</td>\n",
       "      <td>2150.655078</td>\n",
       "      <td>2023.051123</td>\n",
       "      <td>1960.256384</td>\n",
       "      <td>...</td>\n",
       "      <td>2166.251938</td>\n",
       "      <td>2247.113133</td>\n",
       "      <td>2403.096454</td>\n",
       "      <td>1993.222541</td>\n",
       "      <td>2005.264340</td>\n",
       "      <td>2720.054273</td>\n",
       "      <td>2392.366031</td>\n",
       "      <td>2153.922956</td>\n",
       "      <td>1753.836790</td>\n",
       "      <td>1787.922367</td>\n",
       "    </tr>\n",
       "    <tr>\n",
       "      <th>76</th>\n",
       "      <td>2698.915688</td>\n",
       "      <td>3063.720199</td>\n",
       "      <td>2709.129029</td>\n",
       "      <td>2049.702538</td>\n",
       "      <td>1911.598991</td>\n",
       "      <td>1838.032511</td>\n",
       "      <td>2041.484632</td>\n",
       "      <td>2304.741974</td>\n",
       "      <td>2048.733102</td>\n",
       "      <td>2147.853054</td>\n",
       "      <td>...</td>\n",
       "      <td>2383.871648</td>\n",
       "      <td>2638.778890</td>\n",
       "      <td>2867.821616</td>\n",
       "      <td>2122.645058</td>\n",
       "      <td>2225.823905</td>\n",
       "      <td>2812.335907</td>\n",
       "      <td>2555.699623</td>\n",
       "      <td>2259.592076</td>\n",
       "      <td>1911.930069</td>\n",
       "      <td>1943.726106</td>\n",
       "    </tr>\n",
       "    <tr>\n",
       "      <th>77</th>\n",
       "      <td>2628.605957</td>\n",
       "      <td>2919.292859</td>\n",
       "      <td>2497.478029</td>\n",
       "      <td>2130.879987</td>\n",
       "      <td>2082.113902</td>\n",
       "      <td>2066.843447</td>\n",
       "      <td>2161.967349</td>\n",
       "      <td>2355.392030</td>\n",
       "      <td>2133.018062</td>\n",
       "      <td>2252.117330</td>\n",
       "      <td>...</td>\n",
       "      <td>2409.443580</td>\n",
       "      <td>2618.516619</td>\n",
       "      <td>2664.340238</td>\n",
       "      <td>2294.880275</td>\n",
       "      <td>2037.923638</td>\n",
       "      <td>2736.322315</td>\n",
       "      <td>2396.649290</td>\n",
       "      <td>2393.539911</td>\n",
       "      <td>2006.953317</td>\n",
       "      <td>2028.905203</td>\n",
       "    </tr>\n",
       "    <tr>\n",
       "      <th>78</th>\n",
       "      <td>2543.684328</td>\n",
       "      <td>2756.663183</td>\n",
       "      <td>2456.252222</td>\n",
       "      <td>2119.732712</td>\n",
       "      <td>1927.844811</td>\n",
       "      <td>1983.860448</td>\n",
       "      <td>2013.421428</td>\n",
       "      <td>2191.797898</td>\n",
       "      <td>1928.840954</td>\n",
       "      <td>1944.127106</td>\n",
       "      <td>...</td>\n",
       "      <td>2323.837299</td>\n",
       "      <td>2626.221748</td>\n",
       "      <td>2693.896716</td>\n",
       "      <td>2182.184965</td>\n",
       "      <td>2126.727547</td>\n",
       "      <td>2822.077625</td>\n",
       "      <td>2306.632090</td>\n",
       "      <td>2356.446034</td>\n",
       "      <td>2010.145524</td>\n",
       "      <td>1815.396878</td>\n",
       "    </tr>\n",
       "    <tr>\n",
       "      <th>79</th>\n",
       "      <td>2630.704038</td>\n",
       "      <td>2740.606444</td>\n",
       "      <td>2536.754873</td>\n",
       "      <td>2046.916487</td>\n",
       "      <td>1862.745356</td>\n",
       "      <td>1803.632996</td>\n",
       "      <td>1954.836921</td>\n",
       "      <td>2179.575318</td>\n",
       "      <td>1933.875231</td>\n",
       "      <td>1961.968520</td>\n",
       "      <td>...</td>\n",
       "      <td>2105.126737</td>\n",
       "      <td>2475.452506</td>\n",
       "      <td>2598.373705</td>\n",
       "      <td>1924.030485</td>\n",
       "      <td>2054.525696</td>\n",
       "      <td>2745.883306</td>\n",
       "      <td>2434.653308</td>\n",
       "      <td>2220.193843</td>\n",
       "      <td>1741.317899</td>\n",
       "      <td>1691.470917</td>\n",
       "    </tr>\n",
       "    <tr>\n",
       "      <th>8</th>\n",
       "      <td>2667.412616</td>\n",
       "      <td>2887.989970</td>\n",
       "      <td>2545.808150</td>\n",
       "      <td>2019.927686</td>\n",
       "      <td>2159.092822</td>\n",
       "      <td>2069.064057</td>\n",
       "      <td>2107.736688</td>\n",
       "      <td>2422.046274</td>\n",
       "      <td>1996.293809</td>\n",
       "      <td>2165.152792</td>\n",
       "      <td>...</td>\n",
       "      <td>2419.659988</td>\n",
       "      <td>2592.442403</td>\n",
       "      <td>2730.924836</td>\n",
       "      <td>2265.992075</td>\n",
       "      <td>2136.226694</td>\n",
       "      <td>2846.906773</td>\n",
       "      <td>2591.521673</td>\n",
       "      <td>2462.434169</td>\n",
       "      <td>2039.969022</td>\n",
       "      <td>2095.637270</td>\n",
       "    </tr>\n",
       "    <tr>\n",
       "      <th>80</th>\n",
       "      <td>2706.654792</td>\n",
       "      <td>2784.972821</td>\n",
       "      <td>2363.418765</td>\n",
       "      <td>2020.547977</td>\n",
       "      <td>1865.908928</td>\n",
       "      <td>1895.506483</td>\n",
       "      <td>2002.818788</td>\n",
       "      <td>2257.196899</td>\n",
       "      <td>2053.447759</td>\n",
       "      <td>2038.003260</td>\n",
       "      <td>...</td>\n",
       "      <td>2440.949971</td>\n",
       "      <td>2464.197769</td>\n",
       "      <td>2558.273956</td>\n",
       "      <td>2238.385114</td>\n",
       "      <td>2172.300599</td>\n",
       "      <td>2881.246789</td>\n",
       "      <td>2227.771200</td>\n",
       "      <td>2257.004500</td>\n",
       "      <td>1834.713904</td>\n",
       "      <td>1923.101613</td>\n",
       "    </tr>\n",
       "    <tr>\n",
       "      <th>81</th>\n",
       "      <td>2707.528235</td>\n",
       "      <td>2635.157950</td>\n",
       "      <td>2474.961636</td>\n",
       "      <td>1934.992775</td>\n",
       "      <td>1716.359046</td>\n",
       "      <td>1757.786138</td>\n",
       "      <td>1786.222396</td>\n",
       "      <td>2148.004714</td>\n",
       "      <td>2037.031433</td>\n",
       "      <td>2026.958486</td>\n",
       "      <td>...</td>\n",
       "      <td>2279.013484</td>\n",
       "      <td>2556.494031</td>\n",
       "      <td>2632.572995</td>\n",
       "      <td>2014.836905</td>\n",
       "      <td>2198.686392</td>\n",
       "      <td>2907.220850</td>\n",
       "      <td>2403.194458</td>\n",
       "      <td>2067.430848</td>\n",
       "      <td>1735.118708</td>\n",
       "      <td>1887.308205</td>\n",
       "    </tr>\n",
       "    <tr>\n",
       "      <th>82</th>\n",
       "      <td>2693.889118</td>\n",
       "      <td>2820.410556</td>\n",
       "      <td>2679.725757</td>\n",
       "      <td>2432.152749</td>\n",
       "      <td>2405.497336</td>\n",
       "      <td>2448.747278</td>\n",
       "      <td>2529.262365</td>\n",
       "      <td>2518.638269</td>\n",
       "      <td>2549.398859</td>\n",
       "      <td>2410.985861</td>\n",
       "      <td>...</td>\n",
       "      <td>2637.891087</td>\n",
       "      <td>2837.762747</td>\n",
       "      <td>2912.945270</td>\n",
       "      <td>2523.801736</td>\n",
       "      <td>2378.147419</td>\n",
       "      <td>2821.436421</td>\n",
       "      <td>2595.416757</td>\n",
       "      <td>2448.981130</td>\n",
       "      <td>2391.489978</td>\n",
       "      <td>2312.777990</td>\n",
       "    </tr>\n",
       "    <tr>\n",
       "      <th>83</th>\n",
       "      <td>2835.253685</td>\n",
       "      <td>2783.156489</td>\n",
       "      <td>2575.570626</td>\n",
       "      <td>2038.677940</td>\n",
       "      <td>1902.874987</td>\n",
       "      <td>1978.982479</td>\n",
       "      <td>2063.875429</td>\n",
       "      <td>2294.481400</td>\n",
       "      <td>2064.324110</td>\n",
       "      <td>2039.710572</td>\n",
       "      <td>...</td>\n",
       "      <td>2421.298520</td>\n",
       "      <td>2503.940237</td>\n",
       "      <td>2662.746214</td>\n",
       "      <td>2126.576490</td>\n",
       "      <td>2221.797719</td>\n",
       "      <td>2839.974192</td>\n",
       "      <td>2340.731952</td>\n",
       "      <td>2331.224625</td>\n",
       "      <td>1917.367333</td>\n",
       "      <td>1964.857894</td>\n",
       "    </tr>\n",
       "    <tr>\n",
       "      <th>84</th>\n",
       "      <td>2887.237314</td>\n",
       "      <td>2883.310600</td>\n",
       "      <td>2631.632593</td>\n",
       "      <td>2745.006362</td>\n",
       "      <td>2855.345855</td>\n",
       "      <td>2886.712594</td>\n",
       "      <td>2669.301768</td>\n",
       "      <td>2821.539372</td>\n",
       "      <td>2821.063151</td>\n",
       "      <td>2759.277550</td>\n",
       "      <td>...</td>\n",
       "      <td>2874.327242</td>\n",
       "      <td>2913.507035</td>\n",
       "      <td>3157.057771</td>\n",
       "      <td>3009.790794</td>\n",
       "      <td>2746.002835</td>\n",
       "      <td>3210.388009</td>\n",
       "      <td>2858.662931</td>\n",
       "      <td>2855.148182</td>\n",
       "      <td>2762.469827</td>\n",
       "      <td>2875.893840</td>\n",
       "    </tr>\n",
       "    <tr>\n",
       "      <th>85</th>\n",
       "      <td>2647.387316</td>\n",
       "      <td>2993.546961</td>\n",
       "      <td>2599.769702</td>\n",
       "      <td>2293.671535</td>\n",
       "      <td>2200.688535</td>\n",
       "      <td>2177.305605</td>\n",
       "      <td>2179.048707</td>\n",
       "      <td>2336.371827</td>\n",
       "      <td>2281.861884</td>\n",
       "      <td>2289.672998</td>\n",
       "      <td>...</td>\n",
       "      <td>2651.485901</td>\n",
       "      <td>2931.954847</td>\n",
       "      <td>2999.749509</td>\n",
       "      <td>2357.244131</td>\n",
       "      <td>2384.601416</td>\n",
       "      <td>2929.762696</td>\n",
       "      <td>2590.161006</td>\n",
       "      <td>2410.355683</td>\n",
       "      <td>2146.512541</td>\n",
       "      <td>2165.278339</td>\n",
       "    </tr>\n",
       "    <tr>\n",
       "      <th>86</th>\n",
       "      <td>2595.121921</td>\n",
       "      <td>2919.824727</td>\n",
       "      <td>2613.662540</td>\n",
       "      <td>2067.356690</td>\n",
       "      <td>1986.967510</td>\n",
       "      <td>1972.395976</td>\n",
       "      <td>2025.926175</td>\n",
       "      <td>2144.661556</td>\n",
       "      <td>2112.548173</td>\n",
       "      <td>2021.998218</td>\n",
       "      <td>...</td>\n",
       "      <td>2442.543036</td>\n",
       "      <td>2704.591246</td>\n",
       "      <td>2787.893938</td>\n",
       "      <td>2138.194110</td>\n",
       "      <td>2204.106436</td>\n",
       "      <td>2705.033781</td>\n",
       "      <td>2373.899491</td>\n",
       "      <td>2363.720617</td>\n",
       "      <td>2039.492619</td>\n",
       "      <td>2005.952236</td>\n",
       "    </tr>\n",
       "    <tr>\n",
       "      <th>87</th>\n",
       "      <td>2687.700463</td>\n",
       "      <td>2705.604883</td>\n",
       "      <td>2491.860948</td>\n",
       "      <td>1806.875728</td>\n",
       "      <td>1626.750990</td>\n",
       "      <td>1681.686053</td>\n",
       "      <td>1848.585388</td>\n",
       "      <td>2108.225414</td>\n",
       "      <td>1873.824316</td>\n",
       "      <td>1790.519143</td>\n",
       "      <td>...</td>\n",
       "      <td>2220.180778</td>\n",
       "      <td>2498.437276</td>\n",
       "      <td>2491.304308</td>\n",
       "      <td>1999.799364</td>\n",
       "      <td>1933.006122</td>\n",
       "      <td>2766.154887</td>\n",
       "      <td>2243.664504</td>\n",
       "      <td>2314.903849</td>\n",
       "      <td>1587.888577</td>\n",
       "      <td>1612.295303</td>\n",
       "    </tr>\n",
       "    <tr>\n",
       "      <th>88</th>\n",
       "      <td>2548.672517</td>\n",
       "      <td>2653.541113</td>\n",
       "      <td>2447.727192</td>\n",
       "      <td>2219.776055</td>\n",
       "      <td>2023.471476</td>\n",
       "      <td>2153.327518</td>\n",
       "      <td>2112.935789</td>\n",
       "      <td>2314.401187</td>\n",
       "      <td>2079.334915</td>\n",
       "      <td>2028.636055</td>\n",
       "      <td>...</td>\n",
       "      <td>2461.817217</td>\n",
       "      <td>2556.788650</td>\n",
       "      <td>2734.290274</td>\n",
       "      <td>2294.163184</td>\n",
       "      <td>2269.004820</td>\n",
       "      <td>2835.982758</td>\n",
       "      <td>2383.318726</td>\n",
       "      <td>2319.793200</td>\n",
       "      <td>2045.891780</td>\n",
       "      <td>2049.701645</td>\n",
       "    </tr>\n",
       "    <tr>\n",
       "      <th>89</th>\n",
       "      <td>2572.780304</td>\n",
       "      <td>2684.688281</td>\n",
       "      <td>2512.213108</td>\n",
       "      <td>1967.644407</td>\n",
       "      <td>1861.620899</td>\n",
       "      <td>1778.753719</td>\n",
       "      <td>1880.785590</td>\n",
       "      <td>2088.776424</td>\n",
       "      <td>1798.302328</td>\n",
       "      <td>1808.503213</td>\n",
       "      <td>...</td>\n",
       "      <td>2210.240226</td>\n",
       "      <td>2536.960721</td>\n",
       "      <td>2623.793385</td>\n",
       "      <td>2100.754935</td>\n",
       "      <td>1920.721506</td>\n",
       "      <td>2700.572519</td>\n",
       "      <td>2435.161737</td>\n",
       "      <td>2294.157247</td>\n",
       "      <td>1733.975510</td>\n",
       "      <td>1701.392321</td>\n",
       "    </tr>\n",
       "    <tr>\n",
       "      <th>9</th>\n",
       "      <td>2776.091813</td>\n",
       "      <td>2846.930282</td>\n",
       "      <td>2379.782439</td>\n",
       "      <td>2235.408762</td>\n",
       "      <td>2088.114587</td>\n",
       "      <td>2021.446322</td>\n",
       "      <td>2030.468335</td>\n",
       "      <td>2187.500528</td>\n",
       "      <td>2160.947628</td>\n",
       "      <td>2048.562740</td>\n",
       "      <td>...</td>\n",
       "      <td>2536.780965</td>\n",
       "      <td>2665.714133</td>\n",
       "      <td>2703.040763</td>\n",
       "      <td>2314.596723</td>\n",
       "      <td>2219.886961</td>\n",
       "      <td>2994.014172</td>\n",
       "      <td>2550.970395</td>\n",
       "      <td>2257.186993</td>\n",
       "      <td>1936.094289</td>\n",
       "      <td>2071.916109</td>\n",
       "    </tr>\n",
       "    <tr>\n",
       "      <th>90</th>\n",
       "      <td>2714.402983</td>\n",
       "      <td>2839.954682</td>\n",
       "      <td>2550.577044</td>\n",
       "      <td>2388.277646</td>\n",
       "      <td>2265.443490</td>\n",
       "      <td>2227.308114</td>\n",
       "      <td>2312.282799</td>\n",
       "      <td>2460.621170</td>\n",
       "      <td>2283.056251</td>\n",
       "      <td>2317.635029</td>\n",
       "      <td>...</td>\n",
       "      <td>0.000000</td>\n",
       "      <td>2470.505422</td>\n",
       "      <td>2647.932157</td>\n",
       "      <td>2359.421605</td>\n",
       "      <td>2344.527570</td>\n",
       "      <td>2743.756481</td>\n",
       "      <td>2699.882716</td>\n",
       "      <td>2453.850157</td>\n",
       "      <td>2088.215821</td>\n",
       "      <td>2122.753375</td>\n",
       "    </tr>\n",
       "    <tr>\n",
       "      <th>91</th>\n",
       "      <td>2997.000191</td>\n",
       "      <td>2738.126168</td>\n",
       "      <td>2750.634276</td>\n",
       "      <td>2456.423287</td>\n",
       "      <td>2662.699749</td>\n",
       "      <td>2624.011412</td>\n",
       "      <td>2689.437264</td>\n",
       "      <td>2746.283514</td>\n",
       "      <td>2490.262057</td>\n",
       "      <td>2563.783606</td>\n",
       "      <td>...</td>\n",
       "      <td>2470.505422</td>\n",
       "      <td>0.000000</td>\n",
       "      <td>2406.578295</td>\n",
       "      <td>2604.228933</td>\n",
       "      <td>2457.630818</td>\n",
       "      <td>2787.818992</td>\n",
       "      <td>2785.057174</td>\n",
       "      <td>2613.195996</td>\n",
       "      <td>2265.572422</td>\n",
       "      <td>2399.213185</td>\n",
       "    </tr>\n",
       "    <tr>\n",
       "      <th>92</th>\n",
       "      <td>3076.719676</td>\n",
       "      <td>2855.586494</td>\n",
       "      <td>2919.823783</td>\n",
       "      <td>2632.645813</td>\n",
       "      <td>2713.646650</td>\n",
       "      <td>2699.208131</td>\n",
       "      <td>2652.330247</td>\n",
       "      <td>2824.654106</td>\n",
       "      <td>2622.898013</td>\n",
       "      <td>2613.069840</td>\n",
       "      <td>...</td>\n",
       "      <td>2647.932157</td>\n",
       "      <td>2406.578295</td>\n",
       "      <td>0.000000</td>\n",
       "      <td>2721.364197</td>\n",
       "      <td>2544.552054</td>\n",
       "      <td>3032.455882</td>\n",
       "      <td>2709.209239</td>\n",
       "      <td>2835.833767</td>\n",
       "      <td>2389.410415</td>\n",
       "      <td>2449.782077</td>\n",
       "    </tr>\n",
       "    <tr>\n",
       "      <th>93</th>\n",
       "      <td>2781.475849</td>\n",
       "      <td>2875.307947</td>\n",
       "      <td>2574.946701</td>\n",
       "      <td>2052.422769</td>\n",
       "      <td>1954.495641</td>\n",
       "      <td>1913.604924</td>\n",
       "      <td>2060.374043</td>\n",
       "      <td>2233.598131</td>\n",
       "      <td>2020.908875</td>\n",
       "      <td>2006.881975</td>\n",
       "      <td>...</td>\n",
       "      <td>2359.421605</td>\n",
       "      <td>2604.228933</td>\n",
       "      <td>2721.364197</td>\n",
       "      <td>0.000000</td>\n",
       "      <td>2191.509674</td>\n",
       "      <td>2711.854643</td>\n",
       "      <td>2598.400790</td>\n",
       "      <td>2275.761692</td>\n",
       "      <td>1918.815072</td>\n",
       "      <td>1869.221227</td>\n",
       "    </tr>\n",
       "    <tr>\n",
       "      <th>94</th>\n",
       "      <td>2561.215999</td>\n",
       "      <td>2666.155282</td>\n",
       "      <td>2355.566715</td>\n",
       "      <td>1945.523153</td>\n",
       "      <td>2013.024223</td>\n",
       "      <td>2030.158165</td>\n",
       "      <td>2149.752301</td>\n",
       "      <td>2236.976402</td>\n",
       "      <td>1975.970734</td>\n",
       "      <td>1983.574764</td>\n",
       "      <td>...</td>\n",
       "      <td>2344.527570</td>\n",
       "      <td>2457.630818</td>\n",
       "      <td>2544.552054</td>\n",
       "      <td>2191.509674</td>\n",
       "      <td>0.000000</td>\n",
       "      <td>2693.427037</td>\n",
       "      <td>2351.853779</td>\n",
       "      <td>2311.140734</td>\n",
       "      <td>1882.983126</td>\n",
       "      <td>1803.286168</td>\n",
       "    </tr>\n",
       "    <tr>\n",
       "      <th>95</th>\n",
       "      <td>3022.085364</td>\n",
       "      <td>3231.025934</td>\n",
       "      <td>3046.951759</td>\n",
       "      <td>2778.166754</td>\n",
       "      <td>2748.078514</td>\n",
       "      <td>2806.539494</td>\n",
       "      <td>2875.740337</td>\n",
       "      <td>2842.645679</td>\n",
       "      <td>2805.010469</td>\n",
       "      <td>2761.378480</td>\n",
       "      <td>...</td>\n",
       "      <td>2743.756481</td>\n",
       "      <td>2787.818992</td>\n",
       "      <td>3032.455882</td>\n",
       "      <td>2711.854643</td>\n",
       "      <td>2693.427037</td>\n",
       "      <td>0.000000</td>\n",
       "      <td>2957.022444</td>\n",
       "      <td>2796.580498</td>\n",
       "      <td>2690.369734</td>\n",
       "      <td>2660.161898</td>\n",
       "    </tr>\n",
       "    <tr>\n",
       "      <th>96</th>\n",
       "      <td>2672.066689</td>\n",
       "      <td>2902.864155</td>\n",
       "      <td>2529.105031</td>\n",
       "      <td>2393.411670</td>\n",
       "      <td>2349.454300</td>\n",
       "      <td>2384.066569</td>\n",
       "      <td>2345.694282</td>\n",
       "      <td>2386.256780</td>\n",
       "      <td>2436.915758</td>\n",
       "      <td>2169.330812</td>\n",
       "      <td>...</td>\n",
       "      <td>2699.882716</td>\n",
       "      <td>2785.057174</td>\n",
       "      <td>2709.209239</td>\n",
       "      <td>2598.400790</td>\n",
       "      <td>2351.853779</td>\n",
       "      <td>2957.022444</td>\n",
       "      <td>0.000000</td>\n",
       "      <td>2521.223526</td>\n",
       "      <td>2330.657026</td>\n",
       "      <td>2330.736669</td>\n",
       "    </tr>\n",
       "    <tr>\n",
       "      <th>97</th>\n",
       "      <td>2588.475212</td>\n",
       "      <td>2845.743584</td>\n",
       "      <td>2451.530760</td>\n",
       "      <td>2262.840573</td>\n",
       "      <td>2172.470655</td>\n",
       "      <td>2325.459227</td>\n",
       "      <td>2361.136180</td>\n",
       "      <td>2295.463715</td>\n",
       "      <td>2230.436956</td>\n",
       "      <td>2239.756052</td>\n",
       "      <td>...</td>\n",
       "      <td>2453.850157</td>\n",
       "      <td>2613.195996</td>\n",
       "      <td>2835.833767</td>\n",
       "      <td>2275.761692</td>\n",
       "      <td>2311.140734</td>\n",
       "      <td>2796.580498</td>\n",
       "      <td>2521.223526</td>\n",
       "      <td>0.000000</td>\n",
       "      <td>2113.134855</td>\n",
       "      <td>2178.752250</td>\n",
       "    </tr>\n",
       "    <tr>\n",
       "      <th>98</th>\n",
       "      <td>2605.386746</td>\n",
       "      <td>2601.261617</td>\n",
       "      <td>2293.018897</td>\n",
       "      <td>1711.385774</td>\n",
       "      <td>1603.973938</td>\n",
       "      <td>1654.500816</td>\n",
       "      <td>1758.322312</td>\n",
       "      <td>2029.110138</td>\n",
       "      <td>1808.108301</td>\n",
       "      <td>1745.089306</td>\n",
       "      <td>...</td>\n",
       "      <td>2088.215821</td>\n",
       "      <td>2265.572422</td>\n",
       "      <td>2389.410415</td>\n",
       "      <td>1918.815072</td>\n",
       "      <td>1882.983126</td>\n",
       "      <td>2690.369734</td>\n",
       "      <td>2330.657026</td>\n",
       "      <td>2113.134855</td>\n",
       "      <td>0.000000</td>\n",
       "      <td>1516.716537</td>\n",
       "    </tr>\n",
       "    <tr>\n",
       "      <th>99</th>\n",
       "      <td>2629.264591</td>\n",
       "      <td>2643.561652</td>\n",
       "      <td>2382.422271</td>\n",
       "      <td>1800.233268</td>\n",
       "      <td>1628.980478</td>\n",
       "      <td>1671.549527</td>\n",
       "      <td>1807.040761</td>\n",
       "      <td>2059.619056</td>\n",
       "      <td>1764.165039</td>\n",
       "      <td>1720.713349</td>\n",
       "      <td>...</td>\n",
       "      <td>2122.753375</td>\n",
       "      <td>2399.213185</td>\n",
       "      <td>2449.782077</td>\n",
       "      <td>1869.221227</td>\n",
       "      <td>1803.286168</td>\n",
       "      <td>2660.161898</td>\n",
       "      <td>2330.736669</td>\n",
       "      <td>2178.752250</td>\n",
       "      <td>1516.716537</td>\n",
       "      <td>0.000000</td>\n",
       "    </tr>\n",
       "  </tbody>\n",
       "</table>\n",
       "<p>100 rows × 100 columns</p>\n",
       "</div>"
      ],
      "text/plain": [
       "              0            1           10           11           12  \\\n",
       "0      0.000000  3046.101723  2766.734586  2711.677687  2688.777579   \n",
       "1   3046.101723     0.000000  2849.662796  2708.251458  2801.636500   \n",
       "10  2766.734586  2849.662796     0.000000  2494.856044  2423.844458   \n",
       "11  2711.677687  2708.251458  2494.856044     0.000000  1819.472431   \n",
       "12  2688.777579  2801.636500  2423.844458  1819.472431     0.000000   \n",
       "13  2743.839675  2899.499029  2504.021387  1882.238612  1571.298240   \n",
       "14  2590.393673  2770.364251  2524.001962  1981.044374  1677.635451   \n",
       "15  2594.210519  2756.692692  2526.126148  2268.803090  2074.505230   \n",
       "16  2650.326974  2884.996360  2469.383571  1933.103852  1763.373174   \n",
       "17  2577.656687  2529.276559  2359.287047  1938.998622  1766.016224   \n",
       "18  2589.787980  2860.290362  2492.135389  2107.267641  1716.250681   \n",
       "19  2722.166783  2744.855607  2427.685604  1804.196191  1650.918575   \n",
       "2   3208.201787  2978.170101  2819.336813  2797.744900  2768.131757   \n",
       "20  2669.536654  2720.730521  2333.516443  1978.657199  1729.702895   \n",
       "21  2620.881085  2963.803506  2725.279470  2275.522844  2215.398374   \n",
       "22  2618.020668  2700.358231  2435.616270  1994.135578  1852.549031   \n",
       "23  2723.611698  2904.968866  2536.433499  2213.652418  2201.123567   \n",
       "24  2640.486420  2649.043768  2486.130437  2165.518189  2186.782356   \n",
       "25  2679.386613  2812.017194  2422.768565  2210.144846  2116.341992   \n",
       "26  2637.558114  2605.671205  2447.469484  1900.198973  1657.582457   \n",
       "27  2604.871014  2685.553800  2415.144137  1742.629274  1579.063015   \n",
       "28  2769.786959  2824.686742  2482.674778  1868.996830  1701.922377   \n",
       "29  2633.430556  2647.177205  2393.673637  1733.158047  1520.545971   \n",
       "3   2492.388843  2758.482771  2569.897392  2240.388535  2067.261270   \n",
       "30  2665.392463  2827.463214  2590.312101  1968.723342  1880.626374   \n",
       "31  2777.758450  2880.621192  2524.164831  1813.697902  1481.459019   \n",
       "32  2643.675492  2715.129208  2426.677566  1861.928407  1596.791596   \n",
       "33  2550.530109  2767.929294  2362.047995  1947.646738  1712.853140   \n",
       "34  2699.161330  2774.399677  2463.682949  2009.508680  1891.836369   \n",
       "35  2694.867971  2676.571004  2475.576071  2127.842660  1979.758295   \n",
       "..          ...          ...          ...          ...          ...   \n",
       "72  2601.068612  2737.146309  2441.118767  1945.706719  1708.712744   \n",
       "73  2672.307942  2830.703634  2512.063740  2021.168414  1824.083090   \n",
       "74  2745.774983  2713.031454  2450.674358  1907.525962  1857.442475   \n",
       "75  2700.228779  2486.718470  2298.818634  1922.043896  1936.150100   \n",
       "76  2698.915688  3063.720199  2709.129029  2049.702538  1911.598991   \n",
       "77  2628.605957  2919.292859  2497.478029  2130.879987  2082.113902   \n",
       "78  2543.684328  2756.663183  2456.252222  2119.732712  1927.844811   \n",
       "79  2630.704038  2740.606444  2536.754873  2046.916487  1862.745356   \n",
       "8   2667.412616  2887.989970  2545.808150  2019.927686  2159.092822   \n",
       "80  2706.654792  2784.972821  2363.418765  2020.547977  1865.908928   \n",
       "81  2707.528235  2635.157950  2474.961636  1934.992775  1716.359046   \n",
       "82  2693.889118  2820.410556  2679.725757  2432.152749  2405.497336   \n",
       "83  2835.253685  2783.156489  2575.570626  2038.677940  1902.874987   \n",
       "84  2887.237314  2883.310600  2631.632593  2745.006362  2855.345855   \n",
       "85  2647.387316  2993.546961  2599.769702  2293.671535  2200.688535   \n",
       "86  2595.121921  2919.824727  2613.662540  2067.356690  1986.967510   \n",
       "87  2687.700463  2705.604883  2491.860948  1806.875728  1626.750990   \n",
       "88  2548.672517  2653.541113  2447.727192  2219.776055  2023.471476   \n",
       "89  2572.780304  2684.688281  2512.213108  1967.644407  1861.620899   \n",
       "9   2776.091813  2846.930282  2379.782439  2235.408762  2088.114587   \n",
       "90  2714.402983  2839.954682  2550.577044  2388.277646  2265.443490   \n",
       "91  2997.000191  2738.126168  2750.634276  2456.423287  2662.699749   \n",
       "92  3076.719676  2855.586494  2919.823783  2632.645813  2713.646650   \n",
       "93  2781.475849  2875.307947  2574.946701  2052.422769  1954.495641   \n",
       "94  2561.215999  2666.155282  2355.566715  1945.523153  2013.024223   \n",
       "95  3022.085364  3231.025934  3046.951759  2778.166754  2748.078514   \n",
       "96  2672.066689  2902.864155  2529.105031  2393.411670  2349.454300   \n",
       "97  2588.475212  2845.743584  2451.530760  2262.840573  2172.470655   \n",
       "98  2605.386746  2601.261617  2293.018897  1711.385774  1603.973938   \n",
       "99  2629.264591  2643.561652  2382.422271  1800.233268  1628.980478   \n",
       "\n",
       "             13           14           15           16           17  \\\n",
       "0   2743.839675  2590.393673  2594.210519  2650.326974  2577.656687   \n",
       "1   2899.499029  2770.364251  2756.692692  2884.996360  2529.276559   \n",
       "10  2504.021387  2524.001962  2526.126148  2469.383571  2359.287047   \n",
       "11  1882.238612  1981.044374  2268.803090  1933.103852  1938.998622   \n",
       "12  1571.298240  1677.635451  2074.505230  1763.373174  1766.016224   \n",
       "13     0.000000  1574.243284  2074.371073  1664.210507  1943.158989   \n",
       "14  1574.243284     0.000000  2107.960979  1794.162352  1881.548371   \n",
       "15  2074.371073  2107.960979     0.000000  2187.504876  2084.234127   \n",
       "16  1664.210507  1794.162352  2187.504876     0.000000  1923.838422   \n",
       "17  1943.158989  1881.548371  2084.234127  1923.838422     0.000000   \n",
       "18  1729.124983  1649.651943  2195.926316  1942.822296  1934.050039   \n",
       "19  1503.615643  1649.152968  2086.149431  1717.112844  1801.801219   \n",
       "2   2882.234468  2840.437597  2722.860679  2763.587525  2712.485968   \n",
       "20  1795.185561  1816.771632  2088.796819  1920.475116  1879.408358   \n",
       "21  2262.730806  2346.884813  2398.501157  2282.210368  2310.571922   \n",
       "22  1976.845803  2040.547479  2258.295455  1999.233113  1904.030580   \n",
       "23  2162.437997  2280.802402  2402.247068  2070.184104  2139.007368   \n",
       "24  2189.813821  2119.041816  2293.721554  2055.503972  1939.670207   \n",
       "25  2226.207525  2156.119589  2424.397127  2110.540922  2146.560892   \n",
       "26  1677.658947  1739.146750  2080.338256  1827.322653  1730.694194   \n",
       "27  1499.188204  1686.391382  2082.637481  1633.164183  1733.754455   \n",
       "28  1603.146213  1852.098089  2179.185885  1850.999996  1921.986527   \n",
       "29  1508.623752  1700.954852  2097.615083  1624.005898  1789.715847   \n",
       "3   2066.430767  2043.039037  2270.272153  2173.839019  2135.410867   \n",
       "30  1848.602649  1908.649589  2279.664895  1809.347384  2077.564909   \n",
       "31  1242.787625  1607.621159  2039.692169  1684.388018  1839.014968   \n",
       "32  1470.947818  1613.794670  2029.748472  1786.994119  1801.946329   \n",
       "33  1643.577333  1792.876132  2100.098204  1774.690593  1813.900029   \n",
       "34  1824.378415  1984.727341  2272.166182  1925.562681  2015.577132   \n",
       "35  1941.390157  1962.789259  2112.435112  2000.407936  2044.725342   \n",
       "..          ...          ...          ...          ...          ...   \n",
       "72  1641.672450  1809.789616  2120.683063  1907.619099  1798.089277   \n",
       "73  1865.866166  1944.258853  2171.940872  1981.326416  2041.554086   \n",
       "74  1854.339407  1902.709754  2121.527464  2035.655929  1946.332681   \n",
       "75  2049.724216  2060.989793  2150.655078  2023.051123  1960.256384   \n",
       "76  1838.032511  2041.484632  2304.741974  2048.733102  2147.853054   \n",
       "77  2066.843447  2161.967349  2355.392030  2133.018062  2252.117330   \n",
       "78  1983.860448  2013.421428  2191.797898  1928.840954  1944.127106   \n",
       "79  1803.632996  1954.836921  2179.575318  1933.875231  1961.968520   \n",
       "8   2069.064057  2107.736688  2422.046274  1996.293809  2165.152792   \n",
       "80  1895.506483  2002.818788  2257.196899  2053.447759  2038.003260   \n",
       "81  1757.786138  1786.222396  2148.004714  2037.031433  2026.958486   \n",
       "82  2448.747278  2529.262365  2518.638269  2549.398859  2410.985861   \n",
       "83  1978.982479  2063.875429  2294.481400  2064.324110  2039.710572   \n",
       "84  2886.712594  2669.301768  2821.539372  2821.063151  2759.277550   \n",
       "85  2177.305605  2179.048707  2336.371827  2281.861884  2289.672998   \n",
       "86  1972.395976  2025.926175  2144.661556  2112.548173  2021.998218   \n",
       "87  1681.686053  1848.585388  2108.225414  1873.824316  1790.519143   \n",
       "88  2153.327518  2112.935789  2314.401187  2079.334915  2028.636055   \n",
       "89  1778.753719  1880.785590  2088.776424  1798.302328  1808.503213   \n",
       "9   2021.446322  2030.468335  2187.500528  2160.947628  2048.562740   \n",
       "90  2227.308114  2312.282799  2460.621170  2283.056251  2317.635029   \n",
       "91  2624.011412  2689.437264  2746.283514  2490.262057  2563.783606   \n",
       "92  2699.208131  2652.330247  2824.654106  2622.898013  2613.069840   \n",
       "93  1913.604924  2060.374043  2233.598131  2020.908875  2006.881975   \n",
       "94  2030.158165  2149.752301  2236.976402  1975.970734  1983.574764   \n",
       "95  2806.539494  2875.740337  2842.645679  2805.010469  2761.378480   \n",
       "96  2384.066569  2345.694282  2386.256780  2436.915758  2169.330812   \n",
       "97  2325.459227  2361.136180  2295.463715  2230.436956  2239.756052   \n",
       "98  1654.500816  1758.322312  2029.110138  1808.108301  1745.089306   \n",
       "99  1671.549527  1807.040761  2059.619056  1764.165039  1720.713349   \n",
       "\n",
       "       ...                90           91           92           93  \\\n",
       "0      ...       2714.402983  2997.000191  3076.719676  2781.475849   \n",
       "1      ...       2839.954682  2738.126168  2855.586494  2875.307947   \n",
       "10     ...       2550.577044  2750.634276  2919.823783  2574.946701   \n",
       "11     ...       2388.277646  2456.423287  2632.645813  2052.422769   \n",
       "12     ...       2265.443490  2662.699749  2713.646650  1954.495641   \n",
       "13     ...       2227.308114  2624.011412  2699.208131  1913.604924   \n",
       "14     ...       2312.282799  2689.437264  2652.330247  2060.374043   \n",
       "15     ...       2460.621170  2746.283514  2824.654106  2233.598131   \n",
       "16     ...       2283.056251  2490.262057  2622.898013  2020.908875   \n",
       "17     ...       2317.635029  2563.783606  2613.069840  2006.881975   \n",
       "18     ...       2300.650622  2747.159606  2773.922622  2299.752957   \n",
       "19     ...       2127.178032  2478.428624  2593.071729  1836.358166   \n",
       "2      ...       2853.971177  2722.152697  2728.951579  2917.806744   \n",
       "20     ...       2405.415738  2550.829582  2566.235536  2096.210467   \n",
       "21     ...       2634.624358  2820.966990  2995.493071  2429.782323   \n",
       "22     ...       2432.231564  2538.400614  2609.874041  2169.548214   \n",
       "23     ...       2260.407007  2449.360499  2501.548888  2293.343469   \n",
       "24     ...       2496.485193  2432.103072  2417.120456  2404.327896   \n",
       "25     ...       2574.501398  2622.155152  2795.383821  2462.012068   \n",
       "26     ...       2104.052716  2425.937951  2534.697567  1939.273006   \n",
       "27     ...       2171.074126  2410.798170  2535.500838  1833.387095   \n",
       "28     ...       2420.830796  2648.413290  2704.265535  2008.359301   \n",
       "29     ...       2170.782047  2345.598643  2402.603738  1976.168165   \n",
       "3      ...       2488.097553  2720.670487  2669.022458  2390.242271   \n",
       "30     ...       2322.221700  2620.941995  2704.015530  2186.292307   \n",
       "31     ...       2233.292257  2481.235975  2642.922477  1749.177959   \n",
       "32     ...       2212.711063  2507.576984  2626.982430  1896.476529   \n",
       "33     ...       2070.707878  2434.533067  2499.749309  1973.134311   \n",
       "34     ...       2236.348418  2340.146197  2529.439436  1956.544709   \n",
       "35     ...       2258.878384  2284.979178  2523.321682  2057.945425   \n",
       "..     ...               ...          ...          ...          ...   \n",
       "72     ...       2213.556911  2376.099383  2616.908508  1963.548492   \n",
       "73     ...       2357.433100  2597.871516  2659.668493  2053.773600   \n",
       "74     ...       2148.250918  2392.453723  2538.199119  1960.922061   \n",
       "75     ...       2166.251938  2247.113133  2403.096454  1993.222541   \n",
       "76     ...       2383.871648  2638.778890  2867.821616  2122.645058   \n",
       "77     ...       2409.443580  2618.516619  2664.340238  2294.880275   \n",
       "78     ...       2323.837299  2626.221748  2693.896716  2182.184965   \n",
       "79     ...       2105.126737  2475.452506  2598.373705  1924.030485   \n",
       "8      ...       2419.659988  2592.442403  2730.924836  2265.992075   \n",
       "80     ...       2440.949971  2464.197769  2558.273956  2238.385114   \n",
       "81     ...       2279.013484  2556.494031  2632.572995  2014.836905   \n",
       "82     ...       2637.891087  2837.762747  2912.945270  2523.801736   \n",
       "83     ...       2421.298520  2503.940237  2662.746214  2126.576490   \n",
       "84     ...       2874.327242  2913.507035  3157.057771  3009.790794   \n",
       "85     ...       2651.485901  2931.954847  2999.749509  2357.244131   \n",
       "86     ...       2442.543036  2704.591246  2787.893938  2138.194110   \n",
       "87     ...       2220.180778  2498.437276  2491.304308  1999.799364   \n",
       "88     ...       2461.817217  2556.788650  2734.290274  2294.163184   \n",
       "89     ...       2210.240226  2536.960721  2623.793385  2100.754935   \n",
       "9      ...       2536.780965  2665.714133  2703.040763  2314.596723   \n",
       "90     ...          0.000000  2470.505422  2647.932157  2359.421605   \n",
       "91     ...       2470.505422     0.000000  2406.578295  2604.228933   \n",
       "92     ...       2647.932157  2406.578295     0.000000  2721.364197   \n",
       "93     ...       2359.421605  2604.228933  2721.364197     0.000000   \n",
       "94     ...       2344.527570  2457.630818  2544.552054  2191.509674   \n",
       "95     ...       2743.756481  2787.818992  3032.455882  2711.854643   \n",
       "96     ...       2699.882716  2785.057174  2709.209239  2598.400790   \n",
       "97     ...       2453.850157  2613.195996  2835.833767  2275.761692   \n",
       "98     ...       2088.215821  2265.572422  2389.410415  1918.815072   \n",
       "99     ...       2122.753375  2399.213185  2449.782077  1869.221227   \n",
       "\n",
       "             94           95           96           97           98  \\\n",
       "0   2561.215999  3022.085364  2672.066689  2588.475212  2605.386746   \n",
       "1   2666.155282  3231.025934  2902.864155  2845.743584  2601.261617   \n",
       "10  2355.566715  3046.951759  2529.105031  2451.530760  2293.018897   \n",
       "11  1945.523153  2778.166754  2393.411670  2262.840573  1711.385774   \n",
       "12  2013.024223  2748.078514  2349.454300  2172.470655  1603.973938   \n",
       "13  2030.158165  2806.539494  2384.066569  2325.459227  1654.500816   \n",
       "14  2149.752301  2875.740337  2345.694282  2361.136180  1758.322312   \n",
       "15  2236.976402  2842.645679  2386.256780  2295.463715  2029.110138   \n",
       "16  1975.970734  2805.010469  2436.915758  2230.436956  1808.108301   \n",
       "17  1983.574764  2761.378480  2169.330812  2239.756052  1745.089306   \n",
       "18  2254.837126  2865.568625  2351.663318  2336.009604  1854.224299   \n",
       "19  2007.426762  2708.623975  2340.667563  2265.713328  1656.123899   \n",
       "2   2687.843780  3260.018585  2896.347273  2722.140122  2536.740008   \n",
       "20  2048.357177  2794.636446  2167.205419  2351.679467  1731.919790   \n",
       "21  2329.888013  2838.852691  2487.272623  2508.430832  2119.926068   \n",
       "22  1980.351473  2706.532007  2384.408455  2308.941674  1809.125301   \n",
       "23  2192.506783  2753.396738  2496.637765  2430.069025  1957.532902   \n",
       "24  2207.485728  2839.931609  2353.209814  2351.188841  1978.593737   \n",
       "25  2132.593136  2870.659492  2481.101304  2461.149981  2040.368588   \n",
       "26  1968.340081  2799.802078  2429.875019  2125.966222  1536.425947   \n",
       "27  1835.905654  2701.307926  2262.921899  2112.488470  1534.772084   \n",
       "28  2054.735857  2864.690896  2466.658582  2346.705053  1738.226931   \n",
       "29  1863.992190  2690.253083  2143.449465  2222.101579  1543.743953   \n",
       "3   2281.228993  2869.333576  2279.834741  2453.162338  2032.888364   \n",
       "30  2059.186131  2798.867449  2465.439596  2317.836889  1876.999998   \n",
       "31  1968.814471  2772.350345  2367.101081  2276.994074  1526.004958   \n",
       "32  1984.994596  2742.451502  2315.595663  2270.138286  1575.711603   \n",
       "33  1965.761306  2650.008844  2194.466315  2186.014853  1675.052609   \n",
       "34  1934.792160  2645.569127  2415.547474  2359.094732  1739.623627   \n",
       "35  2139.997062  2706.409885  2460.325581  2136.780957  1825.029648   \n",
       "..          ...          ...          ...          ...          ...   \n",
       "72  2006.587871  2623.445344  2282.867802  2241.842817  1661.723320   \n",
       "73  2113.531381  2656.459198  2296.004880  2413.988938  1910.045176   \n",
       "74  1996.261074  2780.021501  2456.696707  2208.928176  1647.973492   \n",
       "75  2005.264340  2720.054273  2392.366031  2153.922956  1753.836790   \n",
       "76  2225.823905  2812.335907  2555.699623  2259.592076  1911.930069   \n",
       "77  2037.923638  2736.322315  2396.649290  2393.539911  2006.953317   \n",
       "78  2126.727547  2822.077625  2306.632090  2356.446034  2010.145524   \n",
       "79  2054.525696  2745.883306  2434.653308  2220.193843  1741.317899   \n",
       "8   2136.226694  2846.906773  2591.521673  2462.434169  2039.969022   \n",
       "80  2172.300599  2881.246789  2227.771200  2257.004500  1834.713904   \n",
       "81  2198.686392  2907.220850  2403.194458  2067.430848  1735.118708   \n",
       "82  2378.147419  2821.436421  2595.416757  2448.981130  2391.489978   \n",
       "83  2221.797719  2839.974192  2340.731952  2331.224625  1917.367333   \n",
       "84  2746.002835  3210.388009  2858.662931  2855.148182  2762.469827   \n",
       "85  2384.601416  2929.762696  2590.161006  2410.355683  2146.512541   \n",
       "86  2204.106436  2705.033781  2373.899491  2363.720617  2039.492619   \n",
       "87  1933.006122  2766.154887  2243.664504  2314.903849  1587.888577   \n",
       "88  2269.004820  2835.982758  2383.318726  2319.793200  2045.891780   \n",
       "89  1920.721506  2700.572519  2435.161737  2294.157247  1733.975510   \n",
       "9   2219.886961  2994.014172  2550.970395  2257.186993  1936.094289   \n",
       "90  2344.527570  2743.756481  2699.882716  2453.850157  2088.215821   \n",
       "91  2457.630818  2787.818992  2785.057174  2613.195996  2265.572422   \n",
       "92  2544.552054  3032.455882  2709.209239  2835.833767  2389.410415   \n",
       "93  2191.509674  2711.854643  2598.400790  2275.761692  1918.815072   \n",
       "94     0.000000  2693.427037  2351.853779  2311.140734  1882.983126   \n",
       "95  2693.427037     0.000000  2957.022444  2796.580498  2690.369734   \n",
       "96  2351.853779  2957.022444     0.000000  2521.223526  2330.657026   \n",
       "97  2311.140734  2796.580498  2521.223526     0.000000  2113.134855   \n",
       "98  1882.983126  2690.369734  2330.657026  2113.134855     0.000000   \n",
       "99  1803.286168  2660.161898  2330.736669  2178.752250  1516.716537   \n",
       "\n",
       "             99  \n",
       "0   2629.264591  \n",
       "1   2643.561652  \n",
       "10  2382.422271  \n",
       "11  1800.233268  \n",
       "12  1628.980478  \n",
       "13  1671.549527  \n",
       "14  1807.040761  \n",
       "15  2059.619056  \n",
       "16  1764.165039  \n",
       "17  1720.713349  \n",
       "18  1918.356473  \n",
       "19  1580.414696  \n",
       "2   2679.375925  \n",
       "20  1777.812638  \n",
       "21  2178.222940  \n",
       "22  1893.348272  \n",
       "23  2027.435823  \n",
       "24  2087.081148  \n",
       "25  2126.492384  \n",
       "26  1492.171159  \n",
       "27  1484.228980  \n",
       "28  1771.649114  \n",
       "29  1531.237870  \n",
       "3   2035.616422  \n",
       "30  1930.175691  \n",
       "31  1557.685514  \n",
       "32  1580.290649  \n",
       "33  1638.494248  \n",
       "34  1731.897304  \n",
       "35  1823.175998  \n",
       "..          ...  \n",
       "72  1627.215681  \n",
       "73  1748.802053  \n",
       "74  1644.570690  \n",
       "75  1787.922367  \n",
       "76  1943.726106  \n",
       "77  2028.905203  \n",
       "78  1815.396878  \n",
       "79  1691.470917  \n",
       "8   2095.637270  \n",
       "80  1923.101613  \n",
       "81  1887.308205  \n",
       "82  2312.777990  \n",
       "83  1964.857894  \n",
       "84  2875.893840  \n",
       "85  2165.278339  \n",
       "86  2005.952236  \n",
       "87  1612.295303  \n",
       "88  2049.701645  \n",
       "89  1701.392321  \n",
       "9   2071.916109  \n",
       "90  2122.753375  \n",
       "91  2399.213185  \n",
       "92  2449.782077  \n",
       "93  1869.221227  \n",
       "94  1803.286168  \n",
       "95  2660.161898  \n",
       "96  2330.736669  \n",
       "97  2178.752250  \n",
       "98  1516.716537  \n",
       "99     0.000000  \n",
       "\n",
       "[100 rows x 100 columns]"
      ]
     },
     "execution_count": 105,
     "metadata": {},
     "output_type": "execute_result"
    }
   ],
   "source": [
    "distdf"
   ]
  },
  {
   "cell_type": "markdown",
   "metadata": {},
   "source": [
    "Save the results as pickle."
   ]
  },
  {
   "cell_type": "code",
   "execution_count": 106,
   "metadata": {},
   "outputs": [],
   "source": [
    "distdf.to_pickle(\"results/GMMDisttances_fgvc.dat\")"
   ]
  },
  {
   "cell_type": "code",
   "execution_count": null,
   "metadata": {},
   "outputs": [],
   "source": []
  },
  {
   "cell_type": "markdown",
   "metadata": {},
   "source": [
    "## Show distances for each target class"
   ]
  },
  {
   "cell_type": "code",
   "execution_count": 46,
   "metadata": {},
   "outputs": [],
   "source": [
    "# def show_cat_dist(catidx):\n",
    "#     print(cats[catidx])\n",
    "#     print(distdf[cats[catidx]].sort_values())"
   ]
  },
  {
   "cell_type": "code",
   "execution_count": 47,
   "metadata": {
    "scrolled": false
   },
   "outputs": [],
   "source": [
    "# [show_cat_dist(i) for i in range(len(cats))]"
   ]
  },
  {
   "cell_type": "code",
   "execution_count": null,
   "metadata": {},
   "outputs": [],
   "source": []
  },
  {
   "cell_type": "code",
   "execution_count": null,
   "metadata": {},
   "outputs": [],
   "source": []
  },
  {
   "cell_type": "code",
   "execution_count": null,
   "metadata": {},
   "outputs": [],
   "source": []
  }
 ],
 "metadata": {
  "kernelspec": {
   "display_name": "Python 3",
   "language": "python",
   "name": "python3"
  },
  "language_info": {
   "codemirror_mode": {
    "name": "ipython",
    "version": 3
   },
   "file_extension": ".py",
   "mimetype": "text/x-python",
   "name": "python",
   "nbconvert_exporter": "python",
   "pygments_lexer": "ipython3",
   "version": "3.5.2"
  }
 },
 "nbformat": 4,
 "nbformat_minor": 2
}
