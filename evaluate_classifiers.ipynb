{
 "cells": [
  {
   "cell_type": "markdown",
   "metadata": {},
   "source": [
    "# Performance test of $two \\ level \\ model$.\n",
    "\n",
    "$two \\ level \\ model$ is composed of first set of OVR classifiers $f_{c, other}$ and secnd set of OVR classifiers $f^{(2)}_{c, other}$ .  \n",
    "We test the model using a classification task, which is compared to the results of a baseline model that uses only $f_{c, other}$ ."
   ]
  },
  {
   "cell_type": "markdown",
   "metadata": {},
   "source": [
    "## Set up"
   ]
  },
  {
   "cell_type": "code",
   "execution_count": 1,
   "metadata": {},
   "outputs": [],
   "source": [
    "import os\n",
    "import sys\n",
    "\n",
    "import numpy as np\n",
    "\n",
    "import pandas as pd\n",
    "import glob\n",
    "\n",
    "import warnings\n",
    "warnings.filterwarnings('ignore')"
   ]
  },
  {
   "cell_type": "code",
   "execution_count": 2,
   "metadata": {},
   "outputs": [
    {
     "name": "stderr",
     "output_type": "stream",
     "text": [
      "Using TensorFlow backend.\n"
     ]
    }
   ],
   "source": [
    "from models.modelutils import dir2filedict, split_fdict\n",
    "import random"
   ]
  },
  {
   "cell_type": "markdown",
   "metadata": {},
   "source": [
    "Load category and file path information."
   ]
  },
  {
   "cell_type": "code",
   "execution_count": 3,
   "metadata": {},
   "outputs": [],
   "source": [
    "fdict = dir2filedict(\"data\")\n",
    "categories = sorted(fdict.keys())\n",
    "\n",
    "trdict, testdict = split_fdict(fdict, test_size=0.2, random_state = 123)\n",
    "trdict, valdict = split_fdict(trdict, test_size=0.2, random_state = 456)"
   ]
  },
  {
   "cell_type": "markdown",
   "metadata": {},
   "source": [
    "Create (category, path) information of test datasets."
   ]
  },
  {
   "cell_type": "code",
   "execution_count": 4,
   "metadata": {},
   "outputs": [],
   "source": [
    "testtup = [(key, file) for key in categories for file in testdict[key] ]"
   ]
  },
  {
   "cell_type": "code",
   "execution_count": 5,
   "metadata": {},
   "outputs": [
    {
     "data": {
      "text/plain": [
       "2366"
      ]
     },
     "execution_count": 5,
     "metadata": {},
     "output_type": "execute_result"
    }
   ],
   "source": [
    "len(testtup)"
   ]
  },
  {
   "cell_type": "markdown",
   "metadata": {},
   "source": [
    "Check the list."
   ]
  },
  {
   "cell_type": "code",
   "execution_count": 6,
   "metadata": {},
   "outputs": [
    {
     "data": {
      "text/plain": [
       "[('bay', 'data/bay/0585.jpeg'),\n",
       " ('bay', 'data/bay/0587.jpeg'),\n",
       " ('bay', 'data/bay/0718.jpeg'),\n",
       " ('bay', 'data/bay/0183.jpeg'),\n",
       " ('bay', 'data/bay/0808.jpeg')]"
      ]
     },
     "execution_count": 6,
     "metadata": {},
     "output_type": "execute_result"
    }
   ],
   "source": [
    "testtup[0:5]"
   ]
  },
  {
   "cell_type": "markdown",
   "metadata": {},
   "source": [
    "Convert the list into a Pandas DAtaFrame for simple treatments."
   ]
  },
  {
   "cell_type": "code",
   "execution_count": 7,
   "metadata": {},
   "outputs": [],
   "source": [
    "testdf = pd.DataFrame({\"category\": [tup[0] for tup in testtup], \"files\": [tup[1] for tup in testtup]})"
   ]
  },
  {
   "cell_type": "code",
   "execution_count": 8,
   "metadata": {},
   "outputs": [],
   "source": [
    "testdf_shuffled=testdf.sample(frac=1, random_state=123).reset_index(drop=True)"
   ]
  },
  {
   "cell_type": "code",
   "execution_count": 9,
   "metadata": {},
   "outputs": [
    {
     "data": {
      "text/html": [
       "<div>\n",
       "<style scoped>\n",
       "    .dataframe tbody tr th:only-of-type {\n",
       "        vertical-align: middle;\n",
       "    }\n",
       "\n",
       "    .dataframe tbody tr th {\n",
       "        vertical-align: top;\n",
       "    }\n",
       "\n",
       "    .dataframe thead th {\n",
       "        text-align: right;\n",
       "    }\n",
       "</style>\n",
       "<table border=\"1\" class=\"dataframe\">\n",
       "  <thead>\n",
       "    <tr style=\"text-align: right;\">\n",
       "      <th></th>\n",
       "      <th>category</th>\n",
       "      <th>files</th>\n",
       "    </tr>\n",
       "  </thead>\n",
       "  <tbody>\n",
       "    <tr>\n",
       "      <th>0</th>\n",
       "      <td>sunrise</td>\n",
       "      <td>data/sunrise/0093.jpeg</td>\n",
       "    </tr>\n",
       "    <tr>\n",
       "      <th>1</th>\n",
       "      <td>mountain</td>\n",
       "      <td>data/mountain/0179.jpeg</td>\n",
       "    </tr>\n",
       "    <tr>\n",
       "      <th>2</th>\n",
       "      <td>bay</td>\n",
       "      <td>data/bay/0589.jpeg</td>\n",
       "    </tr>\n",
       "    <tr>\n",
       "      <th>3</th>\n",
       "      <td>sky</td>\n",
       "      <td>data/sky/0477.png</td>\n",
       "    </tr>\n",
       "    <tr>\n",
       "      <th>4</th>\n",
       "      <td>beach</td>\n",
       "      <td>data/beach/0528.jpeg</td>\n",
       "    </tr>\n",
       "  </tbody>\n",
       "</table>\n",
       "</div>"
      ],
      "text/plain": [
       "   category                    files\n",
       "0   sunrise   data/sunrise/0093.jpeg\n",
       "1  mountain  data/mountain/0179.jpeg\n",
       "2       bay       data/bay/0589.jpeg\n",
       "3       sky        data/sky/0477.png\n",
       "4     beach     data/beach/0528.jpeg"
      ]
     },
     "execution_count": 9,
     "metadata": {},
     "output_type": "execute_result"
    }
   ],
   "source": [
    "testdf_shuffled.head()"
   ]
  },
  {
   "cell_type": "markdown",
   "metadata": {},
   "source": [
    "Define classes for $two \\ level \\ model$ ."
   ]
  },
  {
   "cell_type": "code",
   "execution_count": 10,
   "metadata": {},
   "outputs": [],
   "source": [
    "from models.modelutils import load_best_model_if_exist\n",
    "import os"
   ]
  },
  {
   "cell_type": "code",
   "execution_count": 11,
   "metadata": {},
   "outputs": [],
   "source": [
    "class ModelBinder:\n",
    "    def __init__(self, base_model_name, basedir, cats):\n",
    "        self.base_model_name = base_model_name\n",
    "        self.basedir = basedir\n",
    "        self._models = {}\n",
    "        self.verbose = True\n",
    "        self._categories = cats\n",
    "        self._OTHER_LABEL = \"other\"\n",
    "\n",
    "    @classmethod\n",
    "    def dup_from(cls, binder):\n",
    "        return ModelBinder(binder.base_model_name, binder.basedir, binder._categories)\n",
    "\n",
    "    def model_path(self, target_key):\n",
    "        return os.path.join(self.basedir, \"{}_{}\".format(self.base_model_name, target_key))\n",
    "\n",
    "    def get_or_load_model(self, target_key):\n",
    "        if target_key in self._models:\n",
    "            return self._models[target_key]\n",
    "        self.notify(\"load {}\".format(target_key))\n",
    "        self._models[target_key] = load_best_model_if_exist(self.model_path(target_key))\n",
    "        return self._models[target_key]\n",
    "\n",
    "    def notify(self, msg):\n",
    "        if self.verbose:\n",
    "            print(msg)\n",
    "\n",
    "    def load_all_models(self, keys):\n",
    "        list(map(self.get_or_load_model, keys))\n",
    "        \n",
    "    def predict_arrs(self, arrs):\n",
    "        models = self._models\n",
    "        preddict = {key: models[key].predict(arrs)[:, 1] for key in models.keys()}\n",
    "        return pd.DataFrame(preddict)\n",
    "    \n",
    "    def _row2class(self, rowdf, threshold):\n",
    "        for cat in self._categories:\n",
    "            if rowdf[cat] >= threshold:\n",
    "                return cat\n",
    "        return self._OTHER_LABEL\n",
    "\n",
    "    def df2classes(self, df, threshold = 0.5):\n",
    "        res = []\n",
    "        for i in range(len(df)):\n",
    "            rowdf = df.iloc[i, :]\n",
    "            res.append(self._row2class(rowdf, threshold))\n",
    "        return res"
   ]
  },
  {
   "cell_type": "code",
   "execution_count": 12,
   "metadata": {},
   "outputs": [],
   "source": [
    "class TwoLevelModel:\n",
    "    def __init__(self, categories, h2binder, h1binder, otherlabel=\"OTHER\"):\n",
    "        self._categories = categories\n",
    "        self._h2binder = h2binder\n",
    "        self._h1binder = h1binder\n",
    "        self._OTHERCLASS = -1\n",
    "        self._OTHERLABEL = otherlabel\n",
    "        self._FIRST_THRESHOLD = 0.5\n",
    "        self._SECOND_THRESHOLD = 0.5\n",
    "\n",
    "    def load_all(self):\n",
    "        catkeys = self._categories\n",
    "        self._h2binder.load_all_models(catkeys)\n",
    "        self._h1binder.load_all_models([\"sec_\" + cat for cat in catkeys])\n",
    "\n",
    "    def predict_arrs(self, arrs):\n",
    "        df = self._predict_arrs(arrs)\n",
    "        self._df = df\n",
    "        return self._h1binder.df2classes(df, self._SECOND_THRESHOLD)\n",
    "\n",
    "    def _predict_arrs(self, arrs):\n",
    "        firstdf = pd.DataFrame(self._h2binder.predict_arrs(arrs))\n",
    "\n",
    "        resultdf = pd.DataFrame(np.zeros(firstdf.shape))\n",
    "        resultdf.columns = firstdf.columns\n",
    "\n",
    "        for targetkey in self._categories:\n",
    "\n",
    "            df = self._predict_second(targetkey, arrs, firstdf)\n",
    "            if df is not None:\n",
    "                resultdf.loc[df['orgindex'], targetkey] = df[targetkey].values\n",
    "\n",
    "        return resultdf\n",
    "\n",
    "    def _predict_second(self, targetcat, arrs, firstdf):\n",
    "        filtered = firstdf[firstdf[targetcat] > self._FIRST_THRESHOLD]\n",
    "\n",
    "        if len(filtered) == 0:\n",
    "            return None\n",
    "\n",
    "        farrs = arrs[filtered.index, :]\n",
    "        model = self._h1binder.get_or_load_model('sec_' + targetcat)\n",
    "\n",
    "        # no second level classifier, all score is already enough.\n",
    "        if model == None:\n",
    "            return pd.DataFrame({targetcat: np.ones(len(filtered.index)), 'orgindex': filtered.index})\n",
    "\n",
    "        res = model.predict(farrs)\n",
    "        scores = res[:, 1]\n",
    "\n",
    "        return pd.DataFrame({targetcat: scores, 'orgindex': filtered.index})"
   ]
  },
  {
   "cell_type": "markdown",
   "metadata": {},
   "source": [
    "Load classifiers."
   ]
  },
  {
   "cell_type": "code",
   "execution_count": 13,
   "metadata": {},
   "outputs": [],
   "source": [
    "binder = ModelBinder( \"model\", \"trained_model\", categories)"
   ]
  },
  {
   "cell_type": "code",
   "execution_count": 14,
   "metadata": {},
   "outputs": [
    {
     "name": "stdout",
     "output_type": "stream",
     "text": [
      "load bay\n",
      "load beach\n",
      "load birds\n",
      "load boeing\n",
      "load buildings\n",
      "load city\n",
      "load clouds\n",
      "load f-16\n",
      "load face\n",
      "load helicopter\n",
      "load mountain\n",
      "load ocean\n",
      "load ships\n",
      "load sky\n",
      "load sunrise\n",
      "load sunset\n"
     ]
    }
   ],
   "source": [
    "binder.load_all_models(categories)"
   ]
  },
  {
   "cell_type": "markdown",
   "metadata": {},
   "source": [
    "## Evaluate baseline model\n",
    "\n",
    "Classifiers are trained in *train.ipynb*."
   ]
  },
  {
   "cell_type": "code",
   "execution_count": 15,
   "metadata": {},
   "outputs": [],
   "source": [
    "from models.processor import DataSet"
   ]
  },
  {
   "cell_type": "code",
   "execution_count": 16,
   "metadata": {},
   "outputs": [],
   "source": [
    "ds = DataSet()"
   ]
  },
  {
   "cell_type": "code",
   "execution_count": 17,
   "metadata": {
    "scrolled": true
   },
   "outputs": [],
   "source": [
    "all_labels = pd.Series(dtype=object)\n",
    "all_results = []\n",
    "\n",
    "for chunk in ds.chunked(testdf_shuffled, 500):\n",
    "    x = ds.files_to_dataset(chunk['files'])\n",
    "    label = chunk['category']\n",
    "    resdf = binder.predict_arrs(x)\n",
    "    resclasses = binder.df2classes(resdf)\n",
    "    \n",
    "    all_labels = all_labels.append(label,  ignore_index=True)\n",
    "    all_results.extend(resclasses)"
   ]
  },
  {
   "cell_type": "code",
   "execution_count": 18,
   "metadata": {},
   "outputs": [
    {
     "name": "stdout",
     "output_type": "stream",
     "text": [
      "Number of test images: 2366\n",
      "Accuracy: 0.5524091293322062\n"
     ]
    }
   ],
   "source": [
    "print(\"Number of test images: {}\\nAccuracy: {}\".format(len(all_labels), float(sum(all_labels == all_results))/len(all_labels)))"
   ]
  },
  {
   "cell_type": "markdown",
   "metadata": {},
   "source": [
    "Save the results as picke."
   ]
  },
  {
   "cell_type": "code",
   "execution_count": 19,
   "metadata": {},
   "outputs": [],
   "source": [
    "results_df = pd.DataFrame({\"labels\": all_labels, \"prediction\": all_results})"
   ]
  },
  {
   "cell_type": "code",
   "execution_count": 20,
   "metadata": {},
   "outputs": [],
   "source": [
    "results_df.to_pickle(\"results/baseline_model_prediction.dat\")"
   ]
  },
  {
   "cell_type": "markdown",
   "metadata": {},
   "source": [
    "## Evaluate $two \\ level \\ model$\n",
    "\n",
    "Classifiers are trained in *train_second.ipynb*."
   ]
  },
  {
   "cell_type": "code",
   "execution_count": 21,
   "metadata": {},
   "outputs": [],
   "source": [
    "sec_binder = ModelBinder( \"model\", \"trained_model\", categories)"
   ]
  },
  {
   "cell_type": "code",
   "execution_count": 22,
   "metadata": {},
   "outputs": [],
   "source": [
    "two_level_model = TwoLevelModel(categories, binder, sec_binder)"
   ]
  },
  {
   "cell_type": "code",
   "execution_count": 23,
   "metadata": {},
   "outputs": [
    {
     "name": "stdout",
     "output_type": "stream",
     "text": [
      "load sec_bay\n",
      "load sec_beach\n",
      "load sec_birds\n",
      "load sec_boeing\n",
      "load sec_buildings\n",
      "load sec_city\n",
      "load sec_clouds\n",
      "load sec_f-16\n",
      "load sec_face\n",
      "load sec_helicopter\n",
      "load sec_mountain\n",
      "load sec_ocean\n",
      "load sec_ships\n",
      "load sec_sky\n",
      "load sec_sunrise\n",
      "load sec_sunset\n"
     ]
    }
   ],
   "source": [
    "two_level_model.load_all()"
   ]
  },
  {
   "cell_type": "code",
   "execution_count": 24,
   "metadata": {},
   "outputs": [],
   "source": [
    "import tqdm"
   ]
  },
  {
   "cell_type": "code",
   "execution_count": 25,
   "metadata": {
    "scrolled": true
   },
   "outputs": [
    {
     "name": "stderr",
     "output_type": "stream",
     "text": [
      "100%|██████████| 5/5 [13:13<00:00, 158.69s/it]\n"
     ]
    }
   ],
   "source": [
    "all_labels2 = pd.Series(dtype=object)\n",
    "all_results2 = []\n",
    "\n",
    "for chunk in tqdm.tqdm(ds.chunked(testdf_shuffled, 500)):\n",
    "    x = ds.files_to_dataset(chunk['files'])\n",
    "    label = chunk['category']\n",
    "    resclasses = two_level_model.predict_arrs(x)\n",
    "    \n",
    "    all_labels2 = all_labels2.append(label,  ignore_index=True)\n",
    "    all_results2.extend(resclasses)"
   ]
  },
  {
   "cell_type": "code",
   "execution_count": 26,
   "metadata": {},
   "outputs": [
    {
     "name": "stdout",
     "output_type": "stream",
     "text": [
      "Number of test images: 2366\n",
      "Accuracy: 0.6111580726965342\n"
     ]
    }
   ],
   "source": [
    "print(\"Number of test images: {}\\nAccuracy: {}\".format(len(all_labels2), float(sum(all_labels2 == all_results2))/len(all_labels2)))"
   ]
  },
  {
   "cell_type": "markdown",
   "metadata": {},
   "source": [
    "Save the results as pickle."
   ]
  },
  {
   "cell_type": "code",
   "execution_count": 27,
   "metadata": {},
   "outputs": [],
   "source": [
    "results_df2 = pd.DataFrame({\"labels\": all_labels2, \"prediction\": all_results2})"
   ]
  },
  {
   "cell_type": "code",
   "execution_count": 28,
   "metadata": {},
   "outputs": [],
   "source": [
    "results_df2.to_pickle(\"results/twolevelmodel_prediction.dat\")"
   ]
  },
  {
   "cell_type": "code",
   "execution_count": null,
   "metadata": {},
   "outputs": [],
   "source": []
  },
  {
   "cell_type": "markdown",
   "metadata": {},
   "source": [
    "### Precision and recall"
   ]
  },
  {
   "cell_type": "code",
   "execution_count": 6,
   "metadata": {},
   "outputs": [],
   "source": [
    "# twolevelmodel_prediction.dat\n",
    "results_df1 = pd.read_pickle(\"results/baseline_model_prediction.dat\")\n",
    "results_df2 = pd.read_pickle(\"results/twolevelmodel_prediction.dat\")"
   ]
  },
  {
   "cell_type": "code",
   "execution_count": 13,
   "metadata": {},
   "outputs": [],
   "source": [
    "fdict = dir2filedict(\"data\")\n",
    "categories = sorted(fdict.keys())"
   ]
  },
  {
   "cell_type": "code",
   "execution_count": null,
   "metadata": {},
   "outputs": [],
   "source": []
  },
  {
   "cell_type": "code",
   "execution_count": null,
   "metadata": {},
   "outputs": [],
   "source": []
  },
  {
   "cell_type": "code",
   "execution_count": 29,
   "metadata": {},
   "outputs": [],
   "source": [
    "def calc_tp(df, cat):\n",
    "    trs = (df[\"labels\"] == cat)\n",
    "    prds = (df[\"prediction\"] == cat)\n",
    "    return sum(trs & prds)"
   ]
  },
  {
   "cell_type": "code",
   "execution_count": 36,
   "metadata": {},
   "outputs": [],
   "source": [
    "def calc_fp(df, cat):\n",
    "    trs = (df[\"labels\"] != cat)\n",
    "    prds = (df[\"prediction\"] == cat)\n",
    "    return sum(trs & prds)"
   ]
  },
  {
   "cell_type": "code",
   "execution_count": 38,
   "metadata": {},
   "outputs": [],
   "source": [
    "def calc_fn(df, cat):\n",
    "    trs = (df[\"labels\"] == cat)\n",
    "    prds = (df[\"prediction\"] != cat)\n",
    "    return sum(trs & prds)"
   ]
  },
  {
   "cell_type": "code",
   "execution_count": null,
   "metadata": {},
   "outputs": [],
   "source": []
  },
  {
   "cell_type": "code",
   "execution_count": 40,
   "metadata": {},
   "outputs": [],
   "source": [
    "TP2 = {cat: calc_tp(results_df2, cat) for cat in categories}"
   ]
  },
  {
   "cell_type": "code",
   "execution_count": 50,
   "metadata": {},
   "outputs": [],
   "source": [
    "FP2 = {cat: calc_fp(results_df2, cat) for cat in categories}"
   ]
  },
  {
   "cell_type": "code",
   "execution_count": 51,
   "metadata": {},
   "outputs": [],
   "source": [
    "FN2 = {cat: calc_fn(results_df2, cat) for cat in categories}"
   ]
  },
  {
   "cell_type": "code",
   "execution_count": 58,
   "metadata": {},
   "outputs": [],
   "source": [
    "Precision2 = {cat: TP2[cat]/(TP2[cat]+FP2[cat]) for cat in categories}"
   ]
  },
  {
   "cell_type": "code",
   "execution_count": 59,
   "metadata": {},
   "outputs": [],
   "source": [
    "Recall2 = {cat: TP2[cat]/(TP2[cat]+FN2[cat]) for cat in categories}"
   ]
  },
  {
   "cell_type": "code",
   "execution_count": null,
   "metadata": {},
   "outputs": [],
   "source": []
  },
  {
   "cell_type": "code",
   "execution_count": null,
   "metadata": {},
   "outputs": [],
   "source": []
  },
  {
   "cell_type": "code",
   "execution_count": 61,
   "metadata": {},
   "outputs": [],
   "source": [
    "TP1 = {cat: calc_tp(results_df1, cat) for cat in categories}"
   ]
  },
  {
   "cell_type": "code",
   "execution_count": 63,
   "metadata": {},
   "outputs": [],
   "source": [
    "FP1 = {cat: calc_fp(results_df1, cat) for cat in categories}"
   ]
  },
  {
   "cell_type": "code",
   "execution_count": 64,
   "metadata": {},
   "outputs": [],
   "source": [
    "FN1 = {cat: calc_fn(results_df1, cat) for cat in categories}"
   ]
  },
  {
   "cell_type": "code",
   "execution_count": 65,
   "metadata": {},
   "outputs": [],
   "source": [
    "Precision1 = {cat: TP1[cat]/(TP1[cat]+FP1[cat]) for cat in categories}"
   ]
  },
  {
   "cell_type": "code",
   "execution_count": 67,
   "metadata": {},
   "outputs": [],
   "source": [
    "Recall1 = {cat: TP1[cat]/(TP1[cat]+FN1[cat]) for cat in categories}"
   ]
  },
  {
   "cell_type": "code",
   "execution_count": null,
   "metadata": {},
   "outputs": [],
   "source": []
  },
  {
   "cell_type": "code",
   "execution_count": 70,
   "metadata": {},
   "outputs": [
    {
     "data": {
      "text/plain": [
       "{'bay': 0.32387706855791965,\n",
       " 'beach': 0.3684210526315789,\n",
       " 'birds': 0.9378531073446328,\n",
       " 'boeing': 0.5060728744939271,\n",
       " 'buildings': 0.5847457627118644,\n",
       " 'city': 0.2765957446808511,\n",
       " 'clouds': 0.43656716417910446,\n",
       " 'f-16': 0.6037735849056604,\n",
       " 'face': 0.9570552147239264,\n",
       " 'helicopter': 0.9072164948453608,\n",
       " 'mountain': 0.8058252427184466,\n",
       " 'ocean': 0.4044943820224719,\n",
       " 'ships': 0.9367088607594937,\n",
       " 'sky': 0.05172413793103448,\n",
       " 'sunrise': 0.43,\n",
       " 'sunset': 0.5}"
      ]
     },
     "execution_count": 70,
     "metadata": {},
     "output_type": "execute_result"
    }
   ],
   "source": [
    "Precision1"
   ]
  },
  {
   "cell_type": "code",
   "execution_count": 71,
   "metadata": {},
   "outputs": [
    {
     "data": {
      "text/plain": [
       "{'bay': 0.41841004184100417,\n",
       " 'beach': 0.4864864864864865,\n",
       " 'birds': 0.9222222222222223,\n",
       " 'boeing': 0.7378048780487805,\n",
       " 'buildings': 0.7920792079207921,\n",
       " 'city': 0.5546218487394958,\n",
       " 'clouds': 0.5445026178010471,\n",
       " 'f-16': 0.8148148148148148,\n",
       " 'face': 0.9298245614035088,\n",
       " 'helicopter': 0.9083333333333333,\n",
       " 'mountain': 0.8099173553719008,\n",
       " 'ocean': 0.6049382716049383,\n",
       " 'ships': 0.912621359223301,\n",
       " 'sky': 0.6363636363636364,\n",
       " 'sunrise': 0.3778801843317972,\n",
       " 'sunset': 0.5}"
      ]
     },
     "execution_count": 71,
     "metadata": {},
     "output_type": "execute_result"
    }
   ],
   "source": [
    "Precision2"
   ]
  },
  {
   "cell_type": "code",
   "execution_count": null,
   "metadata": {},
   "outputs": [],
   "source": []
  },
  {
   "cell_type": "code",
   "execution_count": 72,
   "metadata": {},
   "outputs": [
    {
     "data": {
      "text/plain": [
       "{'bay': 0.7784090909090909,\n",
       " 'beach': 0.3218390804597701,\n",
       " 'birds': 1.0,\n",
       " 'boeing': 0.9920634920634921,\n",
       " 'buildings': 0.8903225806451613,\n",
       " 'city': 0.08843537414965986,\n",
       " 'clouds': 0.9,\n",
       " 'f-16': 0.5245901639344263,\n",
       " 'face': 0.9069767441860465,\n",
       " 'helicopter': 0.5986394557823129,\n",
       " 'mountain': 0.51875,\n",
       " 'ocean': 0.2553191489361702,\n",
       " 'ships': 0.5,\n",
       " 'sky': 0.02158273381294964,\n",
       " 'sunrise': 0.3706896551724138,\n",
       " 'sunset': 0.027210884353741496}"
      ]
     },
     "execution_count": 72,
     "metadata": {},
     "output_type": "execute_result"
    }
   ],
   "source": [
    "Recall1"
   ]
  },
  {
   "cell_type": "code",
   "execution_count": 73,
   "metadata": {},
   "outputs": [
    {
     "data": {
      "text/plain": [
       "{'bay': 0.5681818181818182,\n",
       " 'beach': 0.6206896551724138,\n",
       " 'birds': 1.0,\n",
       " 'boeing': 0.9603174603174603,\n",
       " 'buildings': 0.5161290322580645,\n",
       " 'city': 0.4489795918367347,\n",
       " 'clouds': 0.8,\n",
       " 'f-16': 0.7213114754098361,\n",
       " 'face': 0.9244186046511628,\n",
       " 'helicopter': 0.7414965986394558,\n",
       " 'mountain': 0.6125,\n",
       " 'ocean': 0.3475177304964539,\n",
       " 'ships': 0.6351351351351351,\n",
       " 'sky': 0.10071942446043165,\n",
       " 'sunrise': 0.7068965517241379,\n",
       " 'sunset': 0.047619047619047616}"
      ]
     },
     "execution_count": 73,
     "metadata": {},
     "output_type": "execute_result"
    }
   ],
   "source": [
    "Recall2"
   ]
  },
  {
   "cell_type": "code",
   "execution_count": null,
   "metadata": {},
   "outputs": [],
   "source": []
  },
  {
   "cell_type": "code",
   "execution_count": null,
   "metadata": {},
   "outputs": [],
   "source": []
  },
  {
   "cell_type": "markdown",
   "metadata": {},
   "source": [
    "### temp code"
   ]
  },
  {
   "cell_type": "code",
   "execution_count": 54,
   "metadata": {},
   "outputs": [
    {
     "data": {
      "text/plain": [
       "0.41841004184100417"
      ]
     },
     "execution_count": 54,
     "metadata": {},
     "output_type": "execute_result"
    }
   ],
   "source": [
    "Precision2[\"bay\"]"
   ]
  },
  {
   "cell_type": "code",
   "execution_count": 60,
   "metadata": {},
   "outputs": [
    {
     "data": {
      "text/plain": [
       "0.5681818181818182"
      ]
     },
     "execution_count": 60,
     "metadata": {},
     "output_type": "execute_result"
    }
   ],
   "source": [
    "Recall2[\"bay\"]"
   ]
  },
  {
   "cell_type": "code",
   "execution_count": 66,
   "metadata": {},
   "outputs": [
    {
     "data": {
      "text/plain": [
       "0.32387706855791965"
      ]
     },
     "execution_count": 66,
     "metadata": {},
     "output_type": "execute_result"
    }
   ],
   "source": [
    "Precision1[\"bay\"]"
   ]
  },
  {
   "cell_type": "code",
   "execution_count": null,
   "metadata": {},
   "outputs": [],
   "source": []
  },
  {
   "cell_type": "code",
   "execution_count": 68,
   "metadata": {},
   "outputs": [
    {
     "data": {
      "text/plain": [
       "0.7784090909090909"
      ]
     },
     "execution_count": 68,
     "metadata": {},
     "output_type": "execute_result"
    }
   ],
   "source": [
    "Recall1[\"bay\"]"
   ]
  },
  {
   "cell_type": "code",
   "execution_count": 41,
   "metadata": {},
   "outputs": [
    {
     "data": {
      "text/plain": [
       "100"
      ]
     },
     "execution_count": 41,
     "metadata": {},
     "output_type": "execute_result"
    }
   ],
   "source": [
    "TP2[\"bay\"]"
   ]
  },
  {
   "cell_type": "code",
   "execution_count": 62,
   "metadata": {},
   "outputs": [
    {
     "data": {
      "text/plain": [
       "137"
      ]
     },
     "execution_count": 62,
     "metadata": {},
     "output_type": "execute_result"
    }
   ],
   "source": [
    "TP1[\"bay\"]"
   ]
  },
  {
   "cell_type": "code",
   "execution_count": 30,
   "metadata": {},
   "outputs": [
    {
     "data": {
      "text/plain": [
       "100"
      ]
     },
     "execution_count": 30,
     "metadata": {},
     "output_type": "execute_result"
    }
   ],
   "source": [
    "calc_tp(results_df2, categories[0])"
   ]
  },
  {
   "cell_type": "code",
   "execution_count": 31,
   "metadata": {
    "scrolled": true
   },
   "outputs": [
    {
     "data": {
      "text/plain": [
       "176"
      ]
     },
     "execution_count": 31,
     "metadata": {},
     "output_type": "execute_result"
    }
   ],
   "source": [
    "sum(trs)"
   ]
  },
  {
   "cell_type": "code",
   "execution_count": 33,
   "metadata": {},
   "outputs": [
    {
     "data": {
      "text/plain": [
       "239"
      ]
     },
     "execution_count": 33,
     "metadata": {},
     "output_type": "execute_result"
    }
   ],
   "source": [
    "sum(prds)"
   ]
  },
  {
   "cell_type": "code",
   "execution_count": 37,
   "metadata": {},
   "outputs": [
    {
     "data": {
      "text/plain": [
       "139"
      ]
     },
     "execution_count": 37,
     "metadata": {},
     "output_type": "execute_result"
    }
   ],
   "source": [
    "calc_fp(results_df2, categories[0])"
   ]
  },
  {
   "cell_type": "code",
   "execution_count": 39,
   "metadata": {},
   "outputs": [
    {
     "data": {
      "text/plain": [
       "76"
      ]
     },
     "execution_count": 39,
     "metadata": {},
     "output_type": "execute_result"
    }
   ],
   "source": [
    "calc_fn(results_df2, categories[0])"
   ]
  },
  {
   "cell_type": "code",
   "execution_count": null,
   "metadata": {},
   "outputs": [],
   "source": []
  },
  {
   "cell_type": "code",
   "execution_count": null,
   "metadata": {},
   "outputs": [],
   "source": []
  },
  {
   "cell_type": "code",
   "execution_count": 55,
   "metadata": {},
   "outputs": [
    {
     "data": {
      "text/plain": [
       "100"
      ]
     },
     "execution_count": 55,
     "metadata": {},
     "output_type": "execute_result"
    }
   ],
   "source": [
    "TP2[\"bay\"]"
   ]
  },
  {
   "cell_type": "code",
   "execution_count": 56,
   "metadata": {},
   "outputs": [
    {
     "data": {
      "text/plain": [
       "139"
      ]
     },
     "execution_count": 56,
     "metadata": {},
     "output_type": "execute_result"
    }
   ],
   "source": [
    "FP2[\"bay\"]"
   ]
  },
  {
   "cell_type": "code",
   "execution_count": 32,
   "metadata": {},
   "outputs": [
    {
     "data": {
      "text/plain": [
       "0.5681818181818182"
      ]
     },
     "execution_count": 32,
     "metadata": {},
     "output_type": "execute_result"
    }
   ],
   "source": [
    "100/176"
   ]
  },
  {
   "cell_type": "code",
   "execution_count": 20,
   "metadata": {},
   "outputs": [],
   "source": [
    "trs = results_df2[\"labels\"] == categories[0]"
   ]
  },
  {
   "cell_type": "code",
   "execution_count": 21,
   "metadata": {},
   "outputs": [],
   "source": [
    "prds = results_df2[\"prediction\"] == categories[0]"
   ]
  },
  {
   "cell_type": "code",
   "execution_count": 27,
   "metadata": {},
   "outputs": [
    {
     "data": {
      "text/plain": [
       "0     False\n",
       "1     False\n",
       "2      True\n",
       "3     False\n",
       "4     False\n",
       "5     False\n",
       "6     False\n",
       "7     False\n",
       "8     False\n",
       "9     False\n",
       "10    False\n",
       "11    False\n",
       "12    False\n",
       "13    False\n",
       "14    False\n",
       "15    False\n",
       "16    False\n",
       "17    False\n",
       "18    False\n",
       "19    False\n",
       "20    False\n",
       "21    False\n",
       "22    False\n",
       "23    False\n",
       "24    False\n",
       "Name: labels, dtype: bool"
      ]
     },
     "execution_count": 27,
     "metadata": {},
     "output_type": "execute_result"
    }
   ],
   "source": [
    "trs[0:25]"
   ]
  },
  {
   "cell_type": "code",
   "execution_count": 26,
   "metadata": {},
   "outputs": [
    {
     "data": {
      "text/plain": [
       "0     False\n",
       "1     False\n",
       "2      True\n",
       "3     False\n",
       "4     False\n",
       "5     False\n",
       "6     False\n",
       "7     False\n",
       "8     False\n",
       "9     False\n",
       "10    False\n",
       "11    False\n",
       "12    False\n",
       "13    False\n",
       "14    False\n",
       "15    False\n",
       "16    False\n",
       "17    False\n",
       "18    False\n",
       "19    False\n",
       "20    False\n",
       "21     True\n",
       "22    False\n",
       "23    False\n",
       "24    False\n",
       "Name: prediction, dtype: bool"
      ]
     },
     "execution_count": 26,
     "metadata": {},
     "output_type": "execute_result"
    }
   ],
   "source": [
    "prds[0:25]"
   ]
  },
  {
   "cell_type": "code",
   "execution_count": 28,
   "metadata": {},
   "outputs": [
    {
     "data": {
      "text/plain": [
       "0     False\n",
       "1     False\n",
       "2      True\n",
       "3     False\n",
       "4     False\n",
       "5     False\n",
       "6     False\n",
       "7     False\n",
       "8     False\n",
       "9     False\n",
       "10    False\n",
       "11    False\n",
       "12    False\n",
       "13    False\n",
       "14    False\n",
       "15    False\n",
       "16    False\n",
       "17    False\n",
       "18    False\n",
       "19    False\n",
       "20    False\n",
       "21    False\n",
       "22    False\n",
       "23    False\n",
       "24    False\n",
       "dtype: bool"
      ]
     },
     "execution_count": 28,
     "metadata": {},
     "output_type": "execute_result"
    }
   ],
   "source": [
    "trs[0:25] & prds[0:25]"
   ]
  },
  {
   "cell_type": "code",
   "execution_count": null,
   "metadata": {},
   "outputs": [],
   "source": []
  },
  {
   "cell_type": "code",
   "execution_count": 15,
   "metadata": {},
   "outputs": [
    {
     "data": {
      "text/plain": [
       "0       False\n",
       "1       False\n",
       "2        True\n",
       "3       False\n",
       "4       False\n",
       "5       False\n",
       "6       False\n",
       "7       False\n",
       "8       False\n",
       "9       False\n",
       "10      False\n",
       "11      False\n",
       "12      False\n",
       "13      False\n",
       "14      False\n",
       "15      False\n",
       "16      False\n",
       "17      False\n",
       "18      False\n",
       "19      False\n",
       "20      False\n",
       "21      False\n",
       "22      False\n",
       "23      False\n",
       "24      False\n",
       "25      False\n",
       "26      False\n",
       "27      False\n",
       "28      False\n",
       "29      False\n",
       "        ...  \n",
       "2336    False\n",
       "2337    False\n",
       "2338    False\n",
       "2339     True\n",
       "2340    False\n",
       "2341    False\n",
       "2342    False\n",
       "2343    False\n",
       "2344    False\n",
       "2345     True\n",
       "2346    False\n",
       "2347    False\n",
       "2348    False\n",
       "2349    False\n",
       "2350    False\n",
       "2351     True\n",
       "2352    False\n",
       "2353    False\n",
       "2354    False\n",
       "2355     True\n",
       "2356     True\n",
       "2357    False\n",
       "2358     True\n",
       "2359    False\n",
       "2360    False\n",
       "2361    False\n",
       "2362    False\n",
       "2363    False\n",
       "2364    False\n",
       "2365    False\n",
       "Name: labels, Length: 2366, dtype: bool"
      ]
     },
     "execution_count": 15,
     "metadata": {},
     "output_type": "execute_result"
    }
   ],
   "source": [
    "results_df2[\"labels\"] == categories[0]"
   ]
  },
  {
   "cell_type": "code",
   "execution_count": 12,
   "metadata": {},
   "outputs": [
    {
     "data": {
      "text/plain": [
       "Index(['labels', 'prediction'], dtype='object')"
      ]
     },
     "execution_count": 12,
     "metadata": {},
     "output_type": "execute_result"
    }
   ],
   "source": []
  },
  {
   "cell_type": "code",
   "execution_count": null,
   "metadata": {},
   "outputs": [],
   "source": []
  },
  {
   "cell_type": "code",
   "execution_count": null,
   "metadata": {},
   "outputs": [],
   "source": []
  },
  {
   "cell_type": "code",
   "execution_count": 11,
   "metadata": {},
   "outputs": [
    {
     "data": {
      "text/plain": [
       "0     sunrise\n",
       "1    mountain\n",
       "2         bay\n",
       "3         sky\n",
       "4       beach\n",
       "Name: prediction, dtype: object"
      ]
     },
     "execution_count": 11,
     "metadata": {},
     "output_type": "execute_result"
    }
   ],
   "source": [
    "results_df2[\"prediction\"][0:5]"
   ]
  },
  {
   "cell_type": "code",
   "execution_count": null,
   "metadata": {},
   "outputs": [],
   "source": []
  },
  {
   "cell_type": "code",
   "execution_count": null,
   "metadata": {},
   "outputs": [],
   "source": []
  },
  {
   "cell_type": "code",
   "execution_count": 34,
   "metadata": {},
   "outputs": [],
   "source": [
    "all_labels2, all_results2 = results_df2[\"labels\"], results_df2[\"prediction\"]"
   ]
  },
  {
   "cell_type": "code",
   "execution_count": 35,
   "metadata": {},
   "outputs": [
    {
     "name": "stdout",
     "output_type": "stream",
     "text": [
      "Number of test images: 2366\n",
      "Accuracy: 0.6107354184277262\n"
     ]
    }
   ],
   "source": [
    "print(\"Number of test images: {}\\nAccuracy: {}\".format(len(all_labels2), float(sum(all_labels2 == all_results2))/len(all_labels2)))"
   ]
  },
  {
   "cell_type": "code",
   "execution_count": null,
   "metadata": {},
   "outputs": [],
   "source": []
  },
  {
   "cell_type": "code",
   "execution_count": null,
   "metadata": {},
   "outputs": [],
   "source": []
  },
  {
   "cell_type": "code",
   "execution_count": null,
   "metadata": {},
   "outputs": [],
   "source": []
  }
 ],
 "metadata": {
  "kernelspec": {
   "display_name": "Python 3",
   "language": "python",
   "name": "python3"
  },
  "language_info": {
   "codemirror_mode": {
    "name": "ipython",
    "version": 3
   },
   "file_extension": ".py",
   "mimetype": "text/x-python",
   "name": "python",
   "nbconvert_exporter": "python",
   "pygments_lexer": "ipython3",
   "version": "3.5.2"
  }
 },
 "nbformat": 4,
 "nbformat_minor": 2
}
