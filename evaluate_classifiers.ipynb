{
 "cells": [
  {
   "cell_type": "code",
   "execution_count": 1,
   "metadata": {},
   "outputs": [],
   "source": [
    "import os\n",
    "import sys\n",
    "\n",
    "import numpy as np\n",
    "\n",
    "import pandas as pd\n",
    "import glob"
   ]
  },
  {
   "cell_type": "code",
   "execution_count": null,
   "metadata": {},
   "outputs": [],
   "source": []
  },
  {
   "cell_type": "code",
   "execution_count": 2,
   "metadata": {},
   "outputs": [
    {
     "name": "stderr",
     "output_type": "stream",
     "text": [
      "Using TensorFlow backend.\n"
     ]
    }
   ],
   "source": [
    "from models.modelutils import dir2filedict, split_fdict\n",
    "import random"
   ]
  },
  {
   "cell_type": "code",
   "execution_count": null,
   "metadata": {},
   "outputs": [],
   "source": []
  },
  {
   "cell_type": "code",
   "execution_count": 3,
   "metadata": {},
   "outputs": [],
   "source": [
    "fdict = dir2filedict(\"data\")\n",
    "categories = sorted(fdict.keys())\n",
    "\n",
    "trdict, testdict = split_fdict(fdict, test_size=0.2, random_state = 123)\n",
    "trdict, valdict = split_fdict(trdict, test_size=0.2, random_state = 456)"
   ]
  },
  {
   "cell_type": "code",
   "execution_count": null,
   "metadata": {},
   "outputs": [],
   "source": []
  },
  {
   "cell_type": "code",
   "execution_count": 10,
   "metadata": {},
   "outputs": [],
   "source": [
    "testtup = [(key, file) for key in testdict.keys() for file in testdict[key] ]"
   ]
  },
  {
   "cell_type": "code",
   "execution_count": 11,
   "metadata": {},
   "outputs": [
    {
     "data": {
      "text/plain": [
       "2366"
      ]
     },
     "execution_count": 11,
     "metadata": {},
     "output_type": "execute_result"
    }
   ],
   "source": [
    "len(testtup)"
   ]
  },
  {
   "cell_type": "code",
   "execution_count": 12,
   "metadata": {},
   "outputs": [
    {
     "data": {
      "text/plain": [
       "[('bay', 'data/bay/0585.jpeg'),\n",
       " ('bay', 'data/bay/0587.jpeg'),\n",
       " ('bay', 'data/bay/0718.jpeg'),\n",
       " ('bay', 'data/bay/0183.jpeg'),\n",
       " ('bay', 'data/bay/0808.jpeg')]"
      ]
     },
     "execution_count": 12,
     "metadata": {},
     "output_type": "execute_result"
    }
   ],
   "source": [
    "testtup[0:5]"
   ]
  },
  {
   "cell_type": "code",
   "execution_count": 16,
   "metadata": {},
   "outputs": [],
   "source": [
    "testdf = pd.DataFrame({\"category\": [tup[0] for tup in testtup], \"files\": [tup[1] for tup in testtup]})"
   ]
  },
  {
   "cell_type": "code",
   "execution_count": null,
   "metadata": {},
   "outputs": [],
   "source": []
  },
  {
   "cell_type": "code",
   "execution_count": 25,
   "metadata": {},
   "outputs": [],
   "source": [
    "testdf_shuffled=testdf.sample(frac=1).reset_index(drop=True)"
   ]
  },
  {
   "cell_type": "code",
   "execution_count": 26,
   "metadata": {},
   "outputs": [
    {
     "data": {
      "text/plain": [
       "2366"
      ]
     },
     "execution_count": 26,
     "metadata": {},
     "output_type": "execute_result"
    }
   ],
   "source": [
    "len(testdf_shuffled)"
   ]
  },
  {
   "cell_type": "code",
   "execution_count": null,
   "metadata": {},
   "outputs": [],
   "source": []
  },
  {
   "cell_type": "code",
   "execution_count": 35,
   "metadata": {},
   "outputs": [],
   "source": [
    "from models.modelutils import load_best_model_if_exist\n",
    "import os"
   ]
  },
  {
   "cell_type": "code",
   "execution_count": 38,
   "metadata": {},
   "outputs": [],
   "source": [
    "class ModelBinder:\n",
    "    def __init__(self, base_model_name, basedir, cats):\n",
    "        self.base_model_name = base_model_name\n",
    "        self.basedir = basedir\n",
    "        self._models = {}\n",
    "        self.verbose = True\n",
    "        self._categories = cats\n",
    "        self._OTHER_LABEL = \"other\"\n",
    "\n",
    "    @classmethod\n",
    "    def dup_from(cls, binder):\n",
    "        return ModelBinder(binder.base_model_name, binder.basedir, binder._categories)\n",
    "\n",
    "    def model_path(self, target_key):\n",
    "        return os.path.join(self.basedir, \"{}_{}\".format(self.base_model_name, target_key))\n",
    "\n",
    "    def get_or_load_model(self, target_key):\n",
    "        if target_key in self._models:\n",
    "            return self._models[target_key]\n",
    "        self.notify(\"load {}\".format(target_key))\n",
    "        self._models[target_key] = load_best_model_if_exist(self.model_path(target_key))\n",
    "        return self._models[target_key]\n",
    "\n",
    "    def notify(self, msg):\n",
    "        if self.verbose:\n",
    "            print(msg)\n",
    "\n",
    "    def load_all_models(self, keys):\n",
    "        list(map(self.get_or_load_model, keys))\n",
    "        \n",
    "    def predict_arrs(self, arrs):\n",
    "        models = self._models\n",
    "        preddict = {key: models[key].predict(arrs)[:, 1] for key in models.keys()}\n",
    "        return pd.DataFrame(preddict)\n",
    "    \n",
    "    def _row2class(self, rowdf, threshold):\n",
    "        for cat in self._categories:\n",
    "            if rowdf[cat] >= threshold:\n",
    "                return cat\n",
    "        return self._OTHERLABEL\n",
    "\n",
    "    def df2classes(self, df, threshold = 0.5):\n",
    "        res = []\n",
    "        for i in range(len(df)):\n",
    "            rowdf = df.iloc[i, :]\n",
    "            res.append(self._row2class(rowdf, threshold))\n",
    "        return res\n",
    "    \n"
   ]
  },
  {
   "cell_type": "code",
   "execution_count": null,
   "metadata": {},
   "outputs": [],
   "source": []
  },
  {
   "cell_type": "code",
   "execution_count": 37,
   "metadata": {},
   "outputs": [],
   "source": [
    "class TwoLevelClassifier:\n",
    "    def __init__(self, categories, h2binder, h1binder, otherlabel=\"OTHER\"):\n",
    "        self._categories = categories\n",
    "        self._h2binder = h2binder\n",
    "        self._h1binder = h1binder\n",
    "        self._OTHERCLASS = -1\n",
    "        self._OTHERLABEL = otherlabel\n",
    "        self._FIRST_THRESHOLD = 0.5\n",
    "        self._SECOND_THRESHOLD = 0.5\n",
    "\n",
    "    def load_all(self):\n",
    "        catkeys = self._catkeys\n",
    "        self._h2binder.load_all_models(catkeys)\n",
    "        self._h1binder.load_all_models([\"sec_\" + cat for cat in catkeys])\n",
    "\n",
    "    def predict_arrs(self, arrs):\n",
    "        df = self._predict_arrs(arrs)\n",
    "        self._df = df\n",
    "        return self._h1binder.df2classes(df, self._SECOND_THRESHOLD)\n",
    "\n",
    "    def _predict_arrs(self, arrs):\n",
    "        firstdf = pd.DataFrame(self._h2binder.predict_arrs(arrs))\n",
    "\n",
    "        resultdf = pd.DataFrame(np.zeros(firstdf.shape))\n",
    "        resultdf.columns = firstdf.columns\n",
    "\n",
    "        for targetkey in self._categories:\n",
    "\n",
    "            df = self._predict_second(targetkey, arrs, firstdf)\n",
    "            if df is not None:\n",
    "                resultdf.loc[df['orgindex'], targetkey] = df[targetkey].values\n",
    "\n",
    "        return resultdf\n",
    "\n",
    "    def _predict_second(self, targetcat, arrs, firstdf):\n",
    "        filtered = firstdf[firstdf[targetcat] > self._FIRST_THRESHOLD]\n",
    "\n",
    "        if len(filtered) == 0:\n",
    "            return None\n",
    "\n",
    "        farrs = arrs[filtered.index, :]\n",
    "        model = self._h1binder.get_or_load_model('sec_' + targetcat)\n",
    "\n",
    "        # no second level classifier, all score is already enough.\n",
    "        if model == None:\n",
    "            return pd.DataFrame({targetcat: np.ones(len(filtered.index)), 'orgindex': filtered.index})\n",
    "\n",
    "        res = model.predict(farrs)\n",
    "        scores = res[:, 1]\n",
    "\n",
    "        return pd.DataFrame({targetkey: scores, 'orgindex': filtered.index})\n",
    "    \n",
    "    \n"
   ]
  },
  {
   "cell_type": "code",
   "execution_count": null,
   "metadata": {},
   "outputs": [],
   "source": []
  },
  {
   "cell_type": "code",
   "execution_count": null,
   "metadata": {},
   "outputs": [],
   "source": []
  },
  {
   "cell_type": "code",
   "execution_count": null,
   "metadata": {},
   "outputs": [],
   "source": []
  },
  {
   "cell_type": "code",
   "execution_count": 27,
   "metadata": {},
   "outputs": [],
   "source": [
    "from models.processor import DataSet"
   ]
  },
  {
   "cell_type": "code",
   "execution_count": 28,
   "metadata": {},
   "outputs": [],
   "source": [
    "ds = DataSet()"
   ]
  },
  {
   "cell_type": "code",
   "execution_count": null,
   "metadata": {},
   "outputs": [],
   "source": []
  },
  {
   "cell_type": "code",
   "execution_count": 39,
   "metadata": {},
   "outputs": [],
   "source": [
    "binder = ModelBinder( \"model\", \"trained_model\", categories)"
   ]
  },
  {
   "cell_type": "code",
   "execution_count": null,
   "metadata": {},
   "outputs": [
    {
     "name": "stdout",
     "output_type": "stream",
     "text": [
      "load bay\n",
      "load beach\n",
      "load birds\n",
      "load boeing\n",
      "load buildings\n",
      "load city\n",
      "load clouds\n",
      "load f-16\n",
      "load face\n",
      "load helicopter\n",
      "load mountain\n",
      "load ocean\n",
      "load ships\n"
     ]
    }
   ],
   "source": [
    "binder.load_all_models(categories)"
   ]
  },
  {
   "cell_type": "code",
   "execution_count": null,
   "metadata": {},
   "outputs": [],
   "source": []
  },
  {
   "cell_type": "code",
   "execution_count": null,
   "metadata": {},
   "outputs": [],
   "source": [
    "for chunk in ds.chunked(testdf_shuffled, 500):\n",
    "    x = ds.files_to_dataset(chunk['files'])\n",
    "    label = chunk['category']\n",
    "    resdf = binder.predict_arrs(x)"
   ]
  },
  {
   "cell_type": "code",
   "execution_count": null,
   "metadata": {},
   "outputs": [],
   "source": []
  },
  {
   "cell_type": "code",
   "execution_count": null,
   "metadata": {},
   "outputs": [],
   "source": []
  },
  {
   "cell_type": "code",
   "execution_count": 4,
   "metadata": {},
   "outputs": [],
   "source": [
    "cat = \"clouds\""
   ]
  },
  {
   "cell_type": "code",
   "execution_count": null,
   "metadata": {},
   "outputs": [],
   "source": []
  },
  {
   "cell_type": "code",
   "execution_count": 6,
   "metadata": {},
   "outputs": [
    {
     "data": {
      "text/plain": [
       "130"
      ]
     },
     "execution_count": 6,
     "metadata": {},
     "output_type": "execute_result"
    }
   ],
   "source": [
    "len(testdict[cat])"
   ]
  },
  {
   "cell_type": "code",
   "execution_count": 16,
   "metadata": {},
   "outputs": [
    {
     "data": {
      "text/plain": [
       "['data/clouds/0367.jpeg',\n",
       " 'data/clouds/0567.jpeg',\n",
       " 'data/clouds/0143.jpeg',\n",
       " 'data/clouds/0004.jpeg',\n",
       " 'data/clouds/0502.jpeg']"
      ]
     },
     "execution_count": 16,
     "metadata": {},
     "output_type": "execute_result"
    }
   ],
   "source": [
    "testdict[cat][0:5]"
   ]
  },
  {
   "cell_type": "code",
   "execution_count": 11,
   "metadata": {},
   "outputs": [],
   "source": [
    "x = ds.files_to_dataset(testdict[cat])"
   ]
  },
  {
   "cell_type": "code",
   "execution_count": 12,
   "metadata": {},
   "outputs": [
    {
     "data": {
      "text/plain": [
       "(130, 224, 224, 3)"
      ]
     },
     "execution_count": 12,
     "metadata": {},
     "output_type": "execute_result"
    }
   ],
   "source": [
    "x.shape"
   ]
  },
  {
   "cell_type": "code",
   "execution_count": null,
   "metadata": {},
   "outputs": [],
   "source": []
  },
  {
   "cell_type": "code",
   "execution_count": null,
   "metadata": {},
   "outputs": [],
   "source": [
    "    \n",
    "# below hereis not necessary        \n",
    "    def bottlenecks2predict(self, btlnks):\n",
    "        models = self._models\n",
    "        return {key: models[key].predict(btlnks)[:, 1] for key in models.keys()}\n",
    "\n",
    "    def files2bottlenecks(self, files):\n",
    "        return np.array(list(self.extractor.map_code(files)))\n",
    "\n",
    "    def predict(self, files):\n",
    "        btlnks = self.files2bottlenecks(files)\n",
    "        preddict = self.bottlenecks2predict(btlnks)\n",
    "        preddict[\"filepaths\"] = files\n",
    "        return pd.DataFrame(preddict)\n",
    "\n",
    "\n",
    "\n",
    "    def add_argmax_max(self, df):\n",
    "        catkeys = list(self._models.keys())\n",
    "        df['argmax'] = df[df.columns[:len(catkeys)]].idxmax(axis=1)\n",
    "        df['max'] = df[df.columns[0:len(catkeys)]].max(axis=1)\n",
    "\n",
    "    def arrs2bottlenecks(self, arrs):\n",
    "        return self.extractor.arrs2bottlenecks(arrs)"
   ]
  },
  {
   "cell_type": "code",
   "execution_count": null,
   "metadata": {},
   "outputs": [],
   "source": [
    "    # below here is not necessary\n",
    "    def _predict_bottlenecks_df(self, btlnks):\n",
    "        firstdf = pd.DataFrame(self._h2binder.bottlenecks2predict(btlnks))\n",
    "\n",
    "        resultdf = pd.DataFrame(np.zeros(firstdf.shape))\n",
    "        resultdf.columns = firstdf.columns\n",
    "\n",
    "        for targetkey in self._catkeys:\n",
    "\n",
    "            df = self._predict_second(targetkey, btlnks, firstdf)\n",
    "            if df is not None:\n",
    "                resultdf.loc[df['orgindex'], targetkey] = df[targetkey].values\n",
    "\n",
    "        return resultdf\n",
    "\n",
    "    def _predict_bottlenecks_cattupple(self, btlnks):\n",
    "        df = self._predict_bottlenecks_df(btlnks)\n",
    "        self._df = df\n",
    "        return self._df2classes(df)\n",
    "    \n",
    "    def predict_arrs(self, arrs):\n",
    "        btlnks = self._h2binder.arrs2bottlenecks(arrs)\n",
    "        return self._predict_bottlenecks_cattupple(btlnks)\n",
    "\n",
    "    def predict_files(self, files):\n",
    "        btlnks = self._h2binder.files2bottlenecks(files)\n",
    "        return self._predict_bottlenecks_cattupple(btlnks)\n",
    "\n",
    "    def predict_files_df(self, files):\n",
    "        btlnks = self._h2binder.files2bottlenecks(files)\n",
    "        tups = self._predict_bottlenecks_cattupple(btlnks)\n",
    "        return pd.DataFrame({\n",
    "            \"filepaths\": files,\n",
    "            \"category\": [tup[0] for tup in tups],\n",
    "            \"label\": [tup[1] for tup in tups]\n",
    "        })\n",
    "\n"
   ]
  },
  {
   "cell_type": "code",
   "execution_count": 14,
   "metadata": {},
   "outputs": [],
   "source": [
    "from models.modelutils import load_best_model"
   ]
  },
  {
   "cell_type": "code",
   "execution_count": 17,
   "metadata": {},
   "outputs": [],
   "source": [
    "first = load_best_model(\"trained_model/model_{}\".format(cat))"
   ]
  },
  {
   "cell_type": "code",
   "execution_count": 18,
   "metadata": {},
   "outputs": [
    {
     "data": {
      "text/plain": [
       "array([[  9.99939442e-03,   9.90000606e-01],\n",
       "       [  1.30196549e-02,   9.86980259e-01],\n",
       "       [  7.25162565e-04,   9.99274790e-01],\n",
       "       [  6.83021406e-03,   9.93169785e-01],\n",
       "       [  6.39600083e-02,   9.36039984e-01],\n",
       "       [  3.99376824e-02,   9.60062325e-01],\n",
       "       [  8.19742978e-02,   9.18025732e-01],\n",
       "       [  1.39728012e-02,   9.86027241e-01],\n",
       "       [  9.42717865e-03,   9.90572751e-01],\n",
       "       [  2.22350620e-02,   9.77764904e-01],\n",
       "       [  7.79604912e-03,   9.92203951e-01],\n",
       "       [  1.10087417e-01,   8.89912605e-01],\n",
       "       [  4.04850245e-02,   9.59515035e-01],\n",
       "       [  1.80641524e-02,   9.81935799e-01],\n",
       "       [  1.01254266e-02,   9.89874601e-01],\n",
       "       [  1.80572248e-03,   9.98194277e-01],\n",
       "       [  3.81261766e-01,   6.18738234e-01],\n",
       "       [  3.70556898e-02,   9.62944269e-01],\n",
       "       [  3.42167281e-02,   9.65783238e-01],\n",
       "       [  9.40244820e-04,   9.99059737e-01],\n",
       "       [  2.24162545e-02,   9.77583766e-01],\n",
       "       [  1.35218806e-03,   9.98647869e-01],\n",
       "       [  2.12284271e-03,   9.97877121e-01],\n",
       "       [  1.54093448e-02,   9.84590650e-01],\n",
       "       [  7.15702176e-01,   2.84297764e-01],\n",
       "       [  1.46296034e-02,   9.85370398e-01],\n",
       "       [  2.94607699e-01,   7.05392241e-01],\n",
       "       [  4.20992039e-02,   9.57900763e-01],\n",
       "       [  2.34008785e-02,   9.76599157e-01],\n",
       "       [  2.21884459e-01,   7.78115511e-01],\n",
       "       [  4.87777579e-04,   9.99512196e-01],\n",
       "       [  3.58628966e-02,   9.64137137e-01],\n",
       "       [  5.44789480e-03,   9.94552076e-01],\n",
       "       [  1.56336720e-03,   9.98436630e-01],\n",
       "       [  3.42726946e-01,   6.57272995e-01],\n",
       "       [  6.43170848e-02,   9.35682952e-01],\n",
       "       [  1.88589823e-02,   9.81141090e-01],\n",
       "       [  1.71030089e-02,   9.82896984e-01],\n",
       "       [  2.66553294e-02,   9.73344743e-01],\n",
       "       [  2.39070639e-01,   7.60929286e-01],\n",
       "       [  4.03596694e-03,   9.95964050e-01],\n",
       "       [  2.85086203e-02,   9.71491456e-01],\n",
       "       [  2.92348117e-02,   9.70765173e-01],\n",
       "       [  1.39733299e-03,   9.98602688e-01],\n",
       "       [  1.73953560e-03,   9.98260438e-01],\n",
       "       [  6.14073835e-02,   9.38592672e-01],\n",
       "       [  1.01593146e-02,   9.89840686e-01],\n",
       "       [  6.14284445e-03,   9.93857205e-01],\n",
       "       [  7.61896148e-02,   9.23810363e-01],\n",
       "       [  1.42413035e-01,   8.57586980e-01],\n",
       "       [  1.51415929e-01,   8.48584056e-01],\n",
       "       [  6.98591722e-03,   9.93014157e-01],\n",
       "       [  1.94862355e-02,   9.80513752e-01],\n",
       "       [  2.89948983e-03,   9.97100532e-01],\n",
       "       [  2.64434423e-02,   9.73556519e-01],\n",
       "       [  1.17339892e-02,   9.88265932e-01],\n",
       "       [  1.07685789e-01,   8.92314196e-01],\n",
       "       [  3.40930939e-01,   6.59069002e-01],\n",
       "       [  6.16073385e-02,   9.38392639e-01],\n",
       "       [  8.09789170e-03,   9.91902053e-01],\n",
       "       [  5.70798526e-03,   9.94292021e-01],\n",
       "       [  2.87008882e-02,   9.71299052e-01],\n",
       "       [  5.98960696e-03,   9.94010448e-01],\n",
       "       [  1.17977448e-02,   9.88202274e-01],\n",
       "       [  1.51298912e-02,   9.84870195e-01],\n",
       "       [  8.15323670e-04,   9.99184668e-01],\n",
       "       [  7.31831342e-02,   9.26816821e-01],\n",
       "       [  1.23585330e-03,   9.98764157e-01],\n",
       "       [  2.14197580e-02,   9.78580236e-01],\n",
       "       [  4.78092022e-02,   9.52190816e-01],\n",
       "       [  4.14177263e-03,   9.95858252e-01],\n",
       "       [  3.06044817e-01,   6.93955183e-01],\n",
       "       [  5.11739356e-03,   9.94882584e-01],\n",
       "       [  1.60387442e-01,   8.39612603e-01],\n",
       "       [  8.89103532e-01,   1.10896498e-01],\n",
       "       [  5.34524620e-01,   4.65475380e-01],\n",
       "       [  1.55766858e-02,   9.84423339e-01],\n",
       "       [  1.32827032e-02,   9.86717343e-01],\n",
       "       [  3.77488732e-02,   9.62251127e-01],\n",
       "       [  2.52386719e-01,   7.47613251e-01],\n",
       "       [  5.31404931e-03,   9.94685888e-01],\n",
       "       [  5.84463514e-02,   9.41553593e-01],\n",
       "       [  1.35951087e-01,   8.64048839e-01],\n",
       "       [  1.72060385e-01,   8.27939630e-01],\n",
       "       [  2.59144395e-03,   9.97408569e-01],\n",
       "       [  5.81704378e-01,   4.18295652e-01],\n",
       "       [  3.82646825e-03,   9.96173561e-01],\n",
       "       [  4.55325730e-02,   9.54467416e-01],\n",
       "       [  2.29944680e-02,   9.77005601e-01],\n",
       "       [  4.90003172e-03,   9.95099962e-01],\n",
       "       [  1.70093216e-02,   9.82990623e-01],\n",
       "       [  1.13179581e-02,   9.88682032e-01],\n",
       "       [  3.03979218e-02,   9.69602048e-01],\n",
       "       [  5.22022322e-02,   9.47797716e-01],\n",
       "       [  1.19819395e-01,   8.80180597e-01],\n",
       "       [  4.04266119e-01,   5.95733941e-01],\n",
       "       [  7.15702176e-01,   2.84297764e-01],\n",
       "       [  1.11024734e-02,   9.88897502e-01],\n",
       "       [  2.85347865e-04,   9.99714673e-01],\n",
       "       [  1.57422423e-02,   9.84257698e-01],\n",
       "       [  6.36729598e-02,   9.36327040e-01],\n",
       "       [  5.85198224e-01,   4.14801776e-01],\n",
       "       [  1.91207335e-03,   9.98087943e-01],\n",
       "       [  1.52687207e-04,   9.99847293e-01],\n",
       "       [  9.26446378e-01,   7.35536441e-02],\n",
       "       [  6.45141490e-03,   9.93548572e-01],\n",
       "       [  5.15243337e-02,   9.48475659e-01],\n",
       "       [  2.41427263e-03,   9.97585773e-01],\n",
       "       [  1.48205712e-01,   8.51794302e-01],\n",
       "       [  4.13102424e-03,   9.95868981e-01],\n",
       "       [  6.47631753e-03,   9.93523717e-01],\n",
       "       [  2.13787314e-02,   9.78621244e-01],\n",
       "       [  1.16252769e-02,   9.88374710e-01],\n",
       "       [  4.67099156e-03,   9.95329022e-01],\n",
       "       [  2.89464593e-02,   9.71053541e-01],\n",
       "       [  9.62300319e-03,   9.90377009e-01],\n",
       "       [  6.98101744e-02,   9.30189788e-01],\n",
       "       [  3.36623453e-02,   9.66337621e-01],\n",
       "       [  2.00227536e-02,   9.79977250e-01],\n",
       "       [  1.16387252e-02,   9.88361299e-01],\n",
       "       [  1.01710688e-02,   9.89828885e-01],\n",
       "       [  6.61642328e-02,   9.33835745e-01],\n",
       "       [  2.53060833e-03,   9.97469425e-01],\n",
       "       [  2.61815377e-02,   9.73818481e-01],\n",
       "       [  1.14155181e-01,   8.85844886e-01],\n",
       "       [  1.30055298e-03,   9.98699427e-01],\n",
       "       [  3.49951796e-02,   9.65004802e-01],\n",
       "       [  1.06388016e-03,   9.98936117e-01],\n",
       "       [  2.28500426e-01,   7.71499634e-01],\n",
       "       [  6.39284968e-01,   3.60714972e-01]], dtype=float32)"
      ]
     },
     "execution_count": 18,
     "metadata": {},
     "output_type": "execute_result"
    }
   ],
   "source": [
    "first.predict(x)"
   ]
  },
  {
   "cell_type": "code",
   "execution_count": null,
   "metadata": {},
   "outputs": [],
   "source": []
  },
  {
   "cell_type": "code",
   "execution_count": null,
   "metadata": {},
   "outputs": [],
   "source": []
  }
 ],
 "metadata": {
  "kernelspec": {
   "display_name": "Python 3",
   "language": "python",
   "name": "python3"
  },
  "language_info": {
   "codemirror_mode": {
    "name": "ipython",
    "version": 3
   },
   "file_extension": ".py",
   "mimetype": "text/x-python",
   "name": "python",
   "nbconvert_exporter": "python",
   "pygments_lexer": "ipython3",
   "version": "3.5.2"
  }
 },
 "nbformat": 4,
 "nbformat_minor": 2
}
