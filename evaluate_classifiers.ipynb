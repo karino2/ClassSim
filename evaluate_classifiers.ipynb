{
 "cells": [
  {
   "cell_type": "markdown",
   "metadata": {},
   "source": [
    "# Performance test of $two \\ level \\ model$.\n",
    "\n",
    "$two \\ level \\ model$ is composed of first set of OVR classifiers $f_{c, other}$ and secnd set of OVR classifiers $f^{(2)}_{c, other}$ .  \n",
    "We test the model using a classification task, which is compared to the results of a baseline model that uses only $f_{c, other}$ ."
   ]
  },
  {
   "cell_type": "markdown",
   "metadata": {},
   "source": [
    "## Set up"
   ]
  },
  {
   "cell_type": "code",
   "execution_count": 1,
   "metadata": {},
   "outputs": [],
   "source": [
    "import os\n",
    "import sys\n",
    "\n",
    "import numpy as np\n",
    "\n",
    "import pandas as pd\n",
    "import glob"
   ]
  },
  {
   "cell_type": "code",
   "execution_count": 2,
   "metadata": {},
   "outputs": [
    {
     "name": "stderr",
     "output_type": "stream",
     "text": [
      "Using TensorFlow backend.\n"
     ]
    }
   ],
   "source": [
    "from models.modelutils import dir2filedict, split_fdict\n",
    "import random"
   ]
  },
  {
   "cell_type": "markdown",
   "metadata": {},
   "source": [
    "Load category and file path information."
   ]
  },
  {
   "cell_type": "code",
   "execution_count": 3,
   "metadata": {},
   "outputs": [],
   "source": [
    "fdict = dir2filedict(\"data\")\n",
    "categories = sorted(fdict.keys())\n",
    "\n",
    "trdict, testdict = split_fdict(fdict, test_size=0.2, random_state = 123)\n",
    "trdict, valdict = split_fdict(trdict, test_size=0.2, random_state = 456)"
   ]
  },
  {
   "cell_type": "markdown",
   "metadata": {},
   "source": [
    "Create (category, path) information of test datasets."
   ]
  },
  {
   "cell_type": "code",
   "execution_count": 4,
   "metadata": {},
   "outputs": [],
   "source": [
    "testtup = [(key, file) for key in categories for file in testdict[key] ]"
   ]
  },
  {
   "cell_type": "code",
   "execution_count": 5,
   "metadata": {},
   "outputs": [
    {
     "data": {
      "text/plain": [
       "2366"
      ]
     },
     "execution_count": 5,
     "metadata": {},
     "output_type": "execute_result"
    }
   ],
   "source": [
    "len(testtup)"
   ]
  },
  {
   "cell_type": "markdown",
   "metadata": {},
   "source": [
    "Check the list."
   ]
  },
  {
   "cell_type": "code",
   "execution_count": 6,
   "metadata": {},
   "outputs": [
    {
     "data": {
      "text/plain": [
       "[('bay', 'data/bay/0585.jpeg'),\n",
       " ('bay', 'data/bay/0587.jpeg'),\n",
       " ('bay', 'data/bay/0718.jpeg'),\n",
       " ('bay', 'data/bay/0183.jpeg'),\n",
       " ('bay', 'data/bay/0808.jpeg')]"
      ]
     },
     "execution_count": 6,
     "metadata": {},
     "output_type": "execute_result"
    }
   ],
   "source": [
    "testtup[0:5]"
   ]
  },
  {
   "cell_type": "markdown",
   "metadata": {},
   "source": [
    "Convert the list into a Pandas DAtaFrame for simple treatments."
   ]
  },
  {
   "cell_type": "code",
   "execution_count": 7,
   "metadata": {},
   "outputs": [],
   "source": [
    "testdf = pd.DataFrame({\"category\": [tup[0] for tup in testtup], \"files\": [tup[1] for tup in testtup]})"
   ]
  },
  {
   "cell_type": "code",
   "execution_count": 8,
   "metadata": {},
   "outputs": [],
   "source": [
    "testdf_shuffled=testdf.sample(frac=1, random_state=123).reset_index(drop=True)"
   ]
  },
  {
   "cell_type": "code",
   "execution_count": 9,
   "metadata": {},
   "outputs": [
    {
     "data": {
      "text/html": [
       "<div>\n",
       "<style scoped>\n",
       "    .dataframe tbody tr th:only-of-type {\n",
       "        vertical-align: middle;\n",
       "    }\n",
       "\n",
       "    .dataframe tbody tr th {\n",
       "        vertical-align: top;\n",
       "    }\n",
       "\n",
       "    .dataframe thead th {\n",
       "        text-align: right;\n",
       "    }\n",
       "</style>\n",
       "<table border=\"1\" class=\"dataframe\">\n",
       "  <thead>\n",
       "    <tr style=\"text-align: right;\">\n",
       "      <th></th>\n",
       "      <th>category</th>\n",
       "      <th>files</th>\n",
       "    </tr>\n",
       "  </thead>\n",
       "  <tbody>\n",
       "    <tr>\n",
       "      <th>0</th>\n",
       "      <td>sunrise</td>\n",
       "      <td>data/sunrise/0093.jpeg</td>\n",
       "    </tr>\n",
       "    <tr>\n",
       "      <th>1</th>\n",
       "      <td>mountain</td>\n",
       "      <td>data/mountain/0179.jpeg</td>\n",
       "    </tr>\n",
       "    <tr>\n",
       "      <th>2</th>\n",
       "      <td>bay</td>\n",
       "      <td>data/bay/0589.jpeg</td>\n",
       "    </tr>\n",
       "    <tr>\n",
       "      <th>3</th>\n",
       "      <td>sky</td>\n",
       "      <td>data/sky/0477.png</td>\n",
       "    </tr>\n",
       "    <tr>\n",
       "      <th>4</th>\n",
       "      <td>beach</td>\n",
       "      <td>data/beach/0528.jpeg</td>\n",
       "    </tr>\n",
       "  </tbody>\n",
       "</table>\n",
       "</div>"
      ],
      "text/plain": [
       "   category                    files\n",
       "0   sunrise   data/sunrise/0093.jpeg\n",
       "1  mountain  data/mountain/0179.jpeg\n",
       "2       bay       data/bay/0589.jpeg\n",
       "3       sky        data/sky/0477.png\n",
       "4     beach     data/beach/0528.jpeg"
      ]
     },
     "execution_count": 9,
     "metadata": {},
     "output_type": "execute_result"
    }
   ],
   "source": [
    "testdf_shuffled.head()"
   ]
  },
  {
   "cell_type": "markdown",
   "metadata": {},
   "source": [
    "Define classes for $two \\ level \\ model$ ."
   ]
  },
  {
   "cell_type": "code",
   "execution_count": 10,
   "metadata": {},
   "outputs": [],
   "source": [
    "from models.modelutils import load_best_model_if_exist\n",
    "import os"
   ]
  },
  {
   "cell_type": "code",
   "execution_count": 11,
   "metadata": {},
   "outputs": [],
   "source": [
    "class ModelBinder:\n",
    "    def __init__(self, base_model_name, basedir, cats):\n",
    "        self.base_model_name = base_model_name\n",
    "        self.basedir = basedir\n",
    "        self._models = {}\n",
    "        self.verbose = True\n",
    "        self._categories = cats\n",
    "        self._OTHER_LABEL = \"other\"\n",
    "\n",
    "    @classmethod\n",
    "    def dup_from(cls, binder):\n",
    "        return ModelBinder(binder.base_model_name, binder.basedir, binder._categories)\n",
    "\n",
    "    def model_path(self, target_key):\n",
    "        return os.path.join(self.basedir, \"{}_{}\".format(self.base_model_name, target_key))\n",
    "\n",
    "    def get_or_load_model(self, target_key):\n",
    "        if target_key in self._models:\n",
    "            return self._models[target_key]\n",
    "        self.notify(\"load {}\".format(target_key))\n",
    "        self._models[target_key] = load_best_model_if_exist(self.model_path(target_key))\n",
    "        return self._models[target_key]\n",
    "\n",
    "    def notify(self, msg):\n",
    "        if self.verbose:\n",
    "            print(msg)\n",
    "\n",
    "    def load_all_models(self, keys):\n",
    "        list(map(self.get_or_load_model, keys))\n",
    "        \n",
    "    def predict_arrs(self, arrs):\n",
    "        models = self._models\n",
    "        preddict = {key: models[key].predict(arrs)[:, 1] for key in models.keys()}\n",
    "        return pd.DataFrame(preddict)\n",
    "    \n",
    "    def _row2class(self, rowdf, threshold):\n",
    "        for cat in self._categories:\n",
    "            if rowdf[cat] >= threshold:\n",
    "                return cat\n",
    "        return self._OTHER_LABEL\n",
    "\n",
    "    def df2classes(self, df, threshold = 0.5):\n",
    "        res = []\n",
    "        for i in range(len(df)):\n",
    "            rowdf = df.iloc[i, :]\n",
    "            res.append(self._row2class(rowdf, threshold))\n",
    "        return res"
   ]
  },
  {
   "cell_type": "code",
   "execution_count": 12,
   "metadata": {},
   "outputs": [],
   "source": [
    "class TwoLevelModel:\n",
    "    def __init__(self, categories, h2binder, h1binder, otherlabel=\"OTHER\"):\n",
    "        self._categories = categories\n",
    "        self._h2binder = h2binder\n",
    "        self._h1binder = h1binder\n",
    "        self._OTHERCLASS = -1\n",
    "        self._OTHERLABEL = otherlabel\n",
    "        self._FIRST_THRESHOLD = 0.5\n",
    "        self._SECOND_THRESHOLD = 0.5\n",
    "\n",
    "    def load_all(self):\n",
    "        catkeys = self._categories\n",
    "        self._h2binder.load_all_models(catkeys)\n",
    "        self._h1binder.load_all_models([\"sec_\" + cat for cat in catkeys])\n",
    "\n",
    "    def predict_arrs(self, arrs):\n",
    "        df = self._predict_arrs(arrs)\n",
    "        self._df = df\n",
    "        return self._h1binder.df2classes(df, self._SECOND_THRESHOLD)\n",
    "\n",
    "    def _predict_arrs(self, arrs):\n",
    "        firstdf = pd.DataFrame(self._h2binder.predict_arrs(arrs))\n",
    "\n",
    "        resultdf = pd.DataFrame(np.zeros(firstdf.shape))\n",
    "        resultdf.columns = firstdf.columns\n",
    "\n",
    "        for targetkey in self._categories:\n",
    "\n",
    "            df = self._predict_second(targetkey, arrs, firstdf)\n",
    "            if df is not None:\n",
    "                resultdf.loc[df['orgindex'], targetkey] = df[targetkey].values\n",
    "\n",
    "        return resultdf\n",
    "\n",
    "    def _predict_second(self, targetcat, arrs, firstdf):\n",
    "        filtered = firstdf[firstdf[targetcat] > self._FIRST_THRESHOLD]\n",
    "\n",
    "        if len(filtered) == 0:\n",
    "            return None\n",
    "\n",
    "        farrs = arrs[filtered.index, :]\n",
    "        model = self._h1binder.get_or_load_model('sec_' + targetcat)\n",
    "\n",
    "        # no second level classifier, all score is already enough.\n",
    "        if model == None:\n",
    "            return pd.DataFrame({targetcat: np.ones(len(filtered.index)), 'orgindex': filtered.index})\n",
    "\n",
    "        res = model.predict(farrs)\n",
    "        scores = res[:, 1]\n",
    "\n",
    "        return pd.DataFrame({targetcat: scores, 'orgindex': filtered.index})"
   ]
  },
  {
   "cell_type": "markdown",
   "metadata": {},
   "source": [
    "Load classifiers."
   ]
  },
  {
   "cell_type": "code",
   "execution_count": 13,
   "metadata": {},
   "outputs": [],
   "source": [
    "binder = ModelBinder( \"model\", \"trained_model\", categories)"
   ]
  },
  {
   "cell_type": "code",
   "execution_count": 14,
   "metadata": {},
   "outputs": [
    {
     "name": "stdout",
     "output_type": "stream",
     "text": [
      "load bay\n",
      "load beach\n",
      "load birds\n",
      "load boeing\n",
      "load buildings\n",
      "load city\n",
      "load clouds\n",
      "load f-16\n",
      "load face\n",
      "load helicopter\n",
      "load mountain\n",
      "load ocean\n",
      "load ships\n",
      "load sky\n",
      "load sunrise\n",
      "load sunset\n"
     ]
    }
   ],
   "source": [
    "binder.load_all_models(categories)"
   ]
  },
  {
   "cell_type": "markdown",
   "metadata": {},
   "source": [
    "## Evaluate baseline model\n",
    "\n",
    "Classifiers are trained in *train.ipynb*."
   ]
  },
  {
   "cell_type": "code",
   "execution_count": 15,
   "metadata": {},
   "outputs": [],
   "source": [
    "from models.processor import DataSet"
   ]
  },
  {
   "cell_type": "code",
   "execution_count": 16,
   "metadata": {},
   "outputs": [],
   "source": [
    "ds = DataSet()"
   ]
  },
  {
   "cell_type": "code",
   "execution_count": 17,
   "metadata": {
    "scrolled": true
   },
   "outputs": [
    {
     "name": "stderr",
     "output_type": "stream",
     "text": [
      "/usr/local/lib/python3.5/dist-packages/PIL/TiffImagePlugin.py:725: UserWarning: Possibly corrupt EXIF data.  Expecting to read 1441814 bytes but only got 0. Skipping tag 33\n",
      "  \" Skipping tag %s\" % (size, len(data), tag))\n",
      "/usr/local/lib/python3.5/dist-packages/PIL/TiffImagePlugin.py:725: UserWarning: Possibly corrupt EXIF data.  Expecting to read 428 bytes but only got 0. Skipping tag 0\n",
      "  \" Skipping tag %s\" % (size, len(data), tag))\n",
      "/usr/local/lib/python3.5/dist-packages/PIL/TiffImagePlugin.py:725: UserWarning: Possibly corrupt EXIF data.  Expecting to read 196608 bytes but only got 0. Skipping tag 60\n",
      "  \" Skipping tag %s\" % (size, len(data), tag))\n",
      "/usr/local/lib/python3.5/dist-packages/PIL/TiffImagePlugin.py:725: UserWarning: Possibly corrupt EXIF data.  Expecting to read 196608 bytes but only got 0. Skipping tag 0\n",
      "  \" Skipping tag %s\" % (size, len(data), tag))\n",
      "/usr/local/lib/python3.5/dist-packages/PIL/TiffImagePlugin.py:725: UserWarning: Possibly corrupt EXIF data.  Expecting to read 524288 bytes but only got 0. Skipping tag 240\n",
      "  \" Skipping tag %s\" % (size, len(data), tag))\n",
      "/usr/local/lib/python3.5/dist-packages/PIL/TiffImagePlugin.py:725: UserWarning: Possibly corrupt EXIF data.  Expecting to read 1048576 bytes but only got 0. Skipping tag 17873\n",
      "  \" Skipping tag %s\" % (size, len(data), tag))\n",
      "/usr/local/lib/python3.5/dist-packages/PIL/TiffImagePlugin.py:725: UserWarning: Possibly corrupt EXIF data.  Expecting to read 2097152 bytes but only got 0. Skipping tag 1860\n",
      "  \" Skipping tag %s\" % (size, len(data), tag))\n",
      "/usr/local/lib/python3.5/dist-packages/PIL/TiffImagePlugin.py:725: UserWarning: Possibly corrupt EXIF data.  Expecting to read 458752 bytes but only got 0. Skipping tag 10864\n",
      "  \" Skipping tag %s\" % (size, len(data), tag))\n",
      "/usr/local/lib/python3.5/dist-packages/PIL/TiffImagePlugin.py:725: UserWarning: Possibly corrupt EXIF data.  Expecting to read 458752 bytes but only got 0. Skipping tag 257\n",
      "  \" Skipping tag %s\" % (size, len(data), tag))\n",
      "/usr/local/lib/python3.5/dist-packages/PIL/TiffImagePlugin.py:725: UserWarning: Possibly corrupt EXIF data.  Expecting to read 393216 bytes but only got 0. Skipping tag 9216\n",
      "  \" Skipping tag %s\" % (size, len(data), tag))\n",
      "/usr/local/lib/python3.5/dist-packages/PIL/TiffImagePlugin.py:725: UserWarning: Possibly corrupt EXIF data.  Expecting to read 786432 bytes but only got 0. Skipping tag 0\n",
      "  \" Skipping tag %s\" % (size, len(data), tag))\n",
      "/usr/local/lib/python3.5/dist-packages/PIL/TiffImagePlugin.py:725: UserWarning: Possibly corrupt EXIF data.  Expecting to read 1572864 bytes but only got 0. Skipping tag 0\n",
      "  \" Skipping tag %s\" % (size, len(data), tag))\n",
      "/usr/local/lib/python3.5/dist-packages/PIL/TiffImagePlugin.py:725: UserWarning: Possibly corrupt EXIF data.  Expecting to read 33752069 bytes but only got 0. Skipping tag 0\n",
      "  \" Skipping tag %s\" % (size, len(data), tag))\n",
      "/usr/local/lib/python3.5/dist-packages/PIL/TiffImagePlugin.py:725: UserWarning: Possibly corrupt EXIF data.  Expecting to read 282 bytes but only got 0. Skipping tag 1\n",
      "  \" Skipping tag %s\" % (size, len(data), tag))\n",
      "/usr/local/lib/python3.5/dist-packages/PIL/TiffImagePlugin.py:725: UserWarning: Possibly corrupt EXIF data.  Expecting to read 513 bytes but only got 0. Skipping tag 1\n",
      "  \" Skipping tag %s\" % (size, len(data), tag))\n",
      "/usr/local/lib/python3.5/dist-packages/PIL/TiffImagePlugin.py:742: UserWarning: Corrupt EXIF data.  Expecting to read 12 bytes but only got 8. \n",
      "  warnings.warn(str(msg))\n"
     ]
    }
   ],
   "source": [
    "all_labels = pd.Series(dtype=object)\n",
    "all_results = []\n",
    "\n",
    "for chunk in ds.chunked(testdf_shuffled, 500):\n",
    "    x = ds.files_to_dataset(chunk['files'])\n",
    "    label = chunk['category']\n",
    "    resdf = binder.predict_arrs(x)\n",
    "    resclasses = binder.df2classes(resdf)\n",
    "    \n",
    "    all_labels = all_labels.append(label,  ignore_index=True)\n",
    "    all_results.extend(resclasses)"
   ]
  },
  {
   "cell_type": "code",
   "execution_count": 18,
   "metadata": {},
   "outputs": [
    {
     "name": "stdout",
     "output_type": "stream",
     "text": [
      "Number of test images: 2366\n",
      "Accuracy: 0.5524091293322062\n"
     ]
    }
   ],
   "source": [
    "print(\"Number of test images: {}\\nAccuracy: {}\".format(len(all_labels), float(sum(all_labels == all_results))/len(all_labels)))"
   ]
  },
  {
   "cell_type": "markdown",
   "metadata": {},
   "source": [
    "Save the results as picke."
   ]
  },
  {
   "cell_type": "code",
   "execution_count": 19,
   "metadata": {},
   "outputs": [],
   "source": [
    "results_df = pd.DataFrame({\"labels\": all_labels, \"prediction\": all_results})"
   ]
  },
  {
   "cell_type": "code",
   "execution_count": 20,
   "metadata": {},
   "outputs": [],
   "source": [
    "results_df.to_pickle(\"results/baseline_model_prediction.dat\")"
   ]
  },
  {
   "cell_type": "markdown",
   "metadata": {},
   "source": [
    "## Evaluate $two \\ level \\ model$\n",
    "\n",
    "Classifiers are trained in *train_second.ipynb*."
   ]
  },
  {
   "cell_type": "code",
   "execution_count": 21,
   "metadata": {},
   "outputs": [],
   "source": [
    "sec_binder = ModelBinder( \"model\", \"trained_model\", categories)"
   ]
  },
  {
   "cell_type": "code",
   "execution_count": 22,
   "metadata": {},
   "outputs": [],
   "source": [
    "two_level_model = TwoLevelModel(categories, binder, sec_binder)"
   ]
  },
  {
   "cell_type": "code",
   "execution_count": 23,
   "metadata": {},
   "outputs": [
    {
     "name": "stdout",
     "output_type": "stream",
     "text": [
      "load sec_bay\n",
      "load sec_beach\n",
      "load sec_birds\n",
      "load sec_boeing\n",
      "load sec_buildings\n",
      "load sec_city\n",
      "load sec_clouds\n",
      "load sec_f-16\n",
      "load sec_face\n",
      "load sec_helicopter\n",
      "load sec_mountain\n",
      "load sec_ocean\n",
      "load sec_ships\n",
      "load sec_sky\n",
      "load sec_sunrise\n",
      "load sec_sunset\n"
     ]
    }
   ],
   "source": [
    "two_level_model.load_all()"
   ]
  },
  {
   "cell_type": "code",
   "execution_count": 24,
   "metadata": {},
   "outputs": [],
   "source": [
    "import tqdm"
   ]
  },
  {
   "cell_type": "code",
   "execution_count": 25,
   "metadata": {
    "scrolled": true
   },
   "outputs": [
    {
     "name": "stderr",
     "output_type": "stream",
     "text": [
      "  0%|          | 0/5 [00:00<?, ?it/s]/usr/local/lib/python3.5/dist-packages/PIL/TiffImagePlugin.py:725: UserWarning: Possibly corrupt EXIF data.  Expecting to read 1441814 bytes but only got 0. Skipping tag 33\n",
      "  \" Skipping tag %s\" % (size, len(data), tag))\n",
      "/usr/local/lib/python3.5/dist-packages/PIL/TiffImagePlugin.py:725: UserWarning: Possibly corrupt EXIF data.  Expecting to read 428 bytes but only got 0. Skipping tag 0\n",
      "  \" Skipping tag %s\" % (size, len(data), tag))\n",
      "/usr/local/lib/python3.5/dist-packages/PIL/TiffImagePlugin.py:725: UserWarning: Possibly corrupt EXIF data.  Expecting to read 196608 bytes but only got 0. Skipping tag 60\n",
      "  \" Skipping tag %s\" % (size, len(data), tag))\n",
      "/usr/local/lib/python3.5/dist-packages/PIL/TiffImagePlugin.py:725: UserWarning: Possibly corrupt EXIF data.  Expecting to read 196608 bytes but only got 0. Skipping tag 0\n",
      "  \" Skipping tag %s\" % (size, len(data), tag))\n",
      "/usr/local/lib/python3.5/dist-packages/PIL/TiffImagePlugin.py:725: UserWarning: Possibly corrupt EXIF data.  Expecting to read 524288 bytes but only got 0. Skipping tag 240\n",
      "  \" Skipping tag %s\" % (size, len(data), tag))\n",
      "/usr/local/lib/python3.5/dist-packages/PIL/TiffImagePlugin.py:725: UserWarning: Possibly corrupt EXIF data.  Expecting to read 1048576 bytes but only got 0. Skipping tag 17873\n",
      "  \" Skipping tag %s\" % (size, len(data), tag))\n",
      "/usr/local/lib/python3.5/dist-packages/PIL/TiffImagePlugin.py:725: UserWarning: Possibly corrupt EXIF data.  Expecting to read 2097152 bytes but only got 0. Skipping tag 1860\n",
      "  \" Skipping tag %s\" % (size, len(data), tag))\n",
      "/usr/local/lib/python3.5/dist-packages/PIL/TiffImagePlugin.py:725: UserWarning: Possibly corrupt EXIF data.  Expecting to read 458752 bytes but only got 0. Skipping tag 10864\n",
      "  \" Skipping tag %s\" % (size, len(data), tag))\n",
      "/usr/local/lib/python3.5/dist-packages/PIL/TiffImagePlugin.py:725: UserWarning: Possibly corrupt EXIF data.  Expecting to read 458752 bytes but only got 0. Skipping tag 257\n",
      "  \" Skipping tag %s\" % (size, len(data), tag))\n",
      "/usr/local/lib/python3.5/dist-packages/PIL/TiffImagePlugin.py:725: UserWarning: Possibly corrupt EXIF data.  Expecting to read 393216 bytes but only got 0. Skipping tag 9216\n",
      "  \" Skipping tag %s\" % (size, len(data), tag))\n",
      "/usr/local/lib/python3.5/dist-packages/PIL/TiffImagePlugin.py:725: UserWarning: Possibly corrupt EXIF data.  Expecting to read 786432 bytes but only got 0. Skipping tag 0\n",
      "  \" Skipping tag %s\" % (size, len(data), tag))\n",
      "/usr/local/lib/python3.5/dist-packages/PIL/TiffImagePlugin.py:725: UserWarning: Possibly corrupt EXIF data.  Expecting to read 1572864 bytes but only got 0. Skipping tag 0\n",
      "  \" Skipping tag %s\" % (size, len(data), tag))\n",
      "/usr/local/lib/python3.5/dist-packages/PIL/TiffImagePlugin.py:725: UserWarning: Possibly corrupt EXIF data.  Expecting to read 33752069 bytes but only got 0. Skipping tag 0\n",
      "  \" Skipping tag %s\" % (size, len(data), tag))\n",
      "/usr/local/lib/python3.5/dist-packages/PIL/TiffImagePlugin.py:725: UserWarning: Possibly corrupt EXIF data.  Expecting to read 282 bytes but only got 0. Skipping tag 1\n",
      "  \" Skipping tag %s\" % (size, len(data), tag))\n",
      "/usr/local/lib/python3.5/dist-packages/PIL/TiffImagePlugin.py:725: UserWarning: Possibly corrupt EXIF data.  Expecting to read 513 bytes but only got 0. Skipping tag 1\n",
      "  \" Skipping tag %s\" % (size, len(data), tag))\n",
      "/usr/local/lib/python3.5/dist-packages/PIL/TiffImagePlugin.py:742: UserWarning: Corrupt EXIF data.  Expecting to read 12 bytes but only got 8. \n",
      "  warnings.warn(str(msg))\n",
      "100%|██████████| 5/5 [11:59<00:00, 143.99s/it]\n"
     ]
    }
   ],
   "source": [
    "all_labels2 = pd.Series(dtype=object)\n",
    "all_results2 = []\n",
    "\n",
    "for chunk in tqdm.tqdm(ds.chunked(testdf_shuffled, 500)):\n",
    "    x = ds.files_to_dataset(chunk['files'])\n",
    "    label = chunk['category']\n",
    "    resclasses = two_level_model.predict_arrs(x)\n",
    "    \n",
    "    all_labels2 = all_labels2.append(label,  ignore_index=True)\n",
    "    all_results2.extend(resclasses)"
   ]
  },
  {
   "cell_type": "code",
   "execution_count": 26,
   "metadata": {},
   "outputs": [
    {
     "name": "stdout",
     "output_type": "stream",
     "text": [
      "Number of test images: 2366\n",
      "Accuracy: 0.6111580726965342\n"
     ]
    }
   ],
   "source": [
    "print(\"Number of test images: {}\\nAccuracy: {}\".format(len(all_labels2), float(sum(all_labels2 == all_results2))/len(all_labels2)))"
   ]
  },
  {
   "cell_type": "markdown",
   "metadata": {},
   "source": [
    "Save the results as pickle."
   ]
  },
  {
   "cell_type": "code",
   "execution_count": 27,
   "metadata": {},
   "outputs": [],
   "source": [
    "results_df2 = pd.DataFrame({\"labels\": all_labels2, \"prediction\": all_results2})"
   ]
  },
  {
   "cell_type": "code",
   "execution_count": 28,
   "metadata": {},
   "outputs": [],
   "source": [
    "results_df2.to_pickle(\"results/twolevelmodel_prediction.dat\")"
   ]
  },
  {
   "cell_type": "code",
   "execution_count": null,
   "metadata": {},
   "outputs": [],
   "source": []
  },
  {
   "cell_type": "code",
   "execution_count": null,
   "metadata": {},
   "outputs": [],
   "source": []
  },
  {
   "cell_type": "code",
   "execution_count": null,
   "metadata": {},
   "outputs": [],
   "source": []
  }
 ],
 "metadata": {
  "kernelspec": {
   "display_name": "Python 3",
   "language": "python",
   "name": "python3"
  },
  "language_info": {
   "codemirror_mode": {
    "name": "ipython",
    "version": 3
   },
   "file_extension": ".py",
   "mimetype": "text/x-python",
   "name": "python",
   "nbconvert_exporter": "python",
   "pygments_lexer": "ipython3",
   "version": "3.5.2"
  }
 },
 "nbformat": 4,
 "nbformat_minor": 2
}
