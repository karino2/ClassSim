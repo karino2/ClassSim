{
 "cells": [
  {
   "cell_type": "code",
   "execution_count": 1,
   "metadata": {},
   "outputs": [],
   "source": [
    "import os\n",
    "import sys\n",
    "\n",
    "import numpy as np\n",
    "\n",
    "import pandas as pd\n",
    "import glob"
   ]
  },
  {
   "cell_type": "code",
   "execution_count": null,
   "metadata": {},
   "outputs": [],
   "source": []
  },
  {
   "cell_type": "code",
   "execution_count": 2,
   "metadata": {},
   "outputs": [
    {
     "name": "stderr",
     "output_type": "stream",
     "text": [
      "Using TensorFlow backend.\n"
     ]
    }
   ],
   "source": [
    "from models.modelutils import dir2filedict, split_fdict\n",
    "import random"
   ]
  },
  {
   "cell_type": "code",
   "execution_count": null,
   "metadata": {},
   "outputs": [],
   "source": []
  },
  {
   "cell_type": "code",
   "execution_count": 3,
   "metadata": {},
   "outputs": [],
   "source": [
    "fdict = dir2filedict(\"data\")\n",
    "categories = sorted(fdict.keys())\n",
    "\n",
    "trdict, testdict = split_fdict(fdict, test_size=0.2, random_state = 123)\n",
    "trdict, valdict = split_fdict(trdict, test_size=0.2, random_state = 456)"
   ]
  },
  {
   "cell_type": "code",
   "execution_count": null,
   "metadata": {},
   "outputs": [],
   "source": []
  },
  {
   "cell_type": "code",
   "execution_count": 4,
   "metadata": {},
   "outputs": [],
   "source": [
    "testtup = [(key, file) for key in categories for file in testdict[key] ]"
   ]
  },
  {
   "cell_type": "code",
   "execution_count": 5,
   "metadata": {},
   "outputs": [
    {
     "data": {
      "text/plain": [
       "2366"
      ]
     },
     "execution_count": 5,
     "metadata": {},
     "output_type": "execute_result"
    }
   ],
   "source": [
    "len(testtup)"
   ]
  },
  {
   "cell_type": "code",
   "execution_count": 6,
   "metadata": {},
   "outputs": [
    {
     "data": {
      "text/plain": [
       "[('bay', 'data/bay/0585.jpeg'),\n",
       " ('bay', 'data/bay/0587.jpeg'),\n",
       " ('bay', 'data/bay/0718.jpeg'),\n",
       " ('bay', 'data/bay/0183.jpeg'),\n",
       " ('bay', 'data/bay/0808.jpeg')]"
      ]
     },
     "execution_count": 6,
     "metadata": {},
     "output_type": "execute_result"
    }
   ],
   "source": [
    "testtup[0:5]"
   ]
  },
  {
   "cell_type": "code",
   "execution_count": null,
   "metadata": {},
   "outputs": [],
   "source": []
  },
  {
   "cell_type": "code",
   "execution_count": null,
   "metadata": {},
   "outputs": [],
   "source": []
  },
  {
   "cell_type": "code",
   "execution_count": 12,
   "metadata": {},
   "outputs": [],
   "source": [
    "testdf = pd.DataFrame({\"category\": [tup[0] for tup in testtup], \"files\": [tup[1] for tup in testtup]})"
   ]
  },
  {
   "cell_type": "code",
   "execution_count": null,
   "metadata": {},
   "outputs": [],
   "source": []
  },
  {
   "cell_type": "code",
   "execution_count": 27,
   "metadata": {},
   "outputs": [],
   "source": [
    "testdf_shuffled=testdf.sample(frac=1, random_state=123).reset_index(drop=True)"
   ]
  },
  {
   "cell_type": "code",
   "execution_count": 28,
   "metadata": {},
   "outputs": [
    {
     "data": {
      "text/plain": [
       "2366"
      ]
     },
     "execution_count": 28,
     "metadata": {},
     "output_type": "execute_result"
    }
   ],
   "source": [
    "len(testdf_shuffled)"
   ]
  },
  {
   "cell_type": "code",
   "execution_count": 29,
   "metadata": {},
   "outputs": [
    {
     "data": {
      "text/html": [
       "<div>\n",
       "<style scoped>\n",
       "    .dataframe tbody tr th:only-of-type {\n",
       "        vertical-align: middle;\n",
       "    }\n",
       "\n",
       "    .dataframe tbody tr th {\n",
       "        vertical-align: top;\n",
       "    }\n",
       "\n",
       "    .dataframe thead th {\n",
       "        text-align: right;\n",
       "    }\n",
       "</style>\n",
       "<table border=\"1\" class=\"dataframe\">\n",
       "  <thead>\n",
       "    <tr style=\"text-align: right;\">\n",
       "      <th></th>\n",
       "      <th>category</th>\n",
       "      <th>files</th>\n",
       "    </tr>\n",
       "  </thead>\n",
       "  <tbody>\n",
       "    <tr>\n",
       "      <th>0</th>\n",
       "      <td>sunrise</td>\n",
       "      <td>data/sunrise/0093.jpeg</td>\n",
       "    </tr>\n",
       "    <tr>\n",
       "      <th>1</th>\n",
       "      <td>mountain</td>\n",
       "      <td>data/mountain/0179.jpeg</td>\n",
       "    </tr>\n",
       "    <tr>\n",
       "      <th>2</th>\n",
       "      <td>bay</td>\n",
       "      <td>data/bay/0589.jpeg</td>\n",
       "    </tr>\n",
       "    <tr>\n",
       "      <th>3</th>\n",
       "      <td>sky</td>\n",
       "      <td>data/sky/0477.png</td>\n",
       "    </tr>\n",
       "    <tr>\n",
       "      <th>4</th>\n",
       "      <td>beach</td>\n",
       "      <td>data/beach/0528.jpeg</td>\n",
       "    </tr>\n",
       "  </tbody>\n",
       "</table>\n",
       "</div>"
      ],
      "text/plain": [
       "   category                    files\n",
       "0   sunrise   data/sunrise/0093.jpeg\n",
       "1  mountain  data/mountain/0179.jpeg\n",
       "2       bay       data/bay/0589.jpeg\n",
       "3       sky        data/sky/0477.png\n",
       "4     beach     data/beach/0528.jpeg"
      ]
     },
     "execution_count": 29,
     "metadata": {},
     "output_type": "execute_result"
    }
   ],
   "source": [
    "testdf_shuffled[0:5]"
   ]
  },
  {
   "cell_type": "code",
   "execution_count": 30,
   "metadata": {},
   "outputs": [],
   "source": [
    "testdf_shuffled.to_pickle(\"results/testdf.dat\")"
   ]
  },
  {
   "cell_type": "code",
   "execution_count": null,
   "metadata": {},
   "outputs": [],
   "source": []
  },
  {
   "cell_type": "code",
   "execution_count": null,
   "metadata": {},
   "outputs": [],
   "source": []
  },
  {
   "cell_type": "code",
   "execution_count": null,
   "metadata": {},
   "outputs": [],
   "source": []
  },
  {
   "cell_type": "code",
   "execution_count": null,
   "metadata": {},
   "outputs": [],
   "source": []
  },
  {
   "cell_type": "code",
   "execution_count": 31,
   "metadata": {},
   "outputs": [],
   "source": [
    "from models.modelutils import load_best_model_if_exist\n",
    "import os"
   ]
  },
  {
   "cell_type": "code",
   "execution_count": 32,
   "metadata": {},
   "outputs": [],
   "source": [
    "class ModelBinder:\n",
    "    def __init__(self, base_model_name, basedir, cats):\n",
    "        self.base_model_name = base_model_name\n",
    "        self.basedir = basedir\n",
    "        self._models = {}\n",
    "        self.verbose = True\n",
    "        self._categories = cats\n",
    "        self._OTHER_LABEL = \"other\"\n",
    "\n",
    "    @classmethod\n",
    "    def dup_from(cls, binder):\n",
    "        return ModelBinder(binder.base_model_name, binder.basedir, binder._categories)\n",
    "\n",
    "    def model_path(self, target_key):\n",
    "        return os.path.join(self.basedir, \"{}_{}\".format(self.base_model_name, target_key))\n",
    "\n",
    "    def get_or_load_model(self, target_key):\n",
    "        if target_key in self._models:\n",
    "            return self._models[target_key]\n",
    "        self.notify(\"load {}\".format(target_key))\n",
    "        self._models[target_key] = load_best_model_if_exist(self.model_path(target_key))\n",
    "        return self._models[target_key]\n",
    "\n",
    "    def notify(self, msg):\n",
    "        if self.verbose:\n",
    "            print(msg)\n",
    "\n",
    "    def load_all_models(self, keys):\n",
    "        list(map(self.get_or_load_model, keys))\n",
    "        \n",
    "    def predict_arrs(self, arrs):\n",
    "        models = self._models\n",
    "        preddict = {key: models[key].predict(arrs)[:, 1] for key in models.keys()}\n",
    "        return pd.DataFrame(preddict)\n",
    "    \n",
    "    def _row2class(self, rowdf, threshold):\n",
    "        for cat in self._categories:\n",
    "            if rowdf[cat] >= threshold:\n",
    "                return cat\n",
    "        return self._OTHER_LABEL\n",
    "\n",
    "    def df2classes(self, df, threshold = 0.5):\n",
    "        res = []\n",
    "        for i in range(len(df)):\n",
    "            rowdf = df.iloc[i, :]\n",
    "            res.append(self._row2class(rowdf, threshold))\n",
    "        return res\n",
    "    \n"
   ]
  },
  {
   "cell_type": "code",
   "execution_count": null,
   "metadata": {},
   "outputs": [],
   "source": []
  },
  {
   "cell_type": "code",
   "execution_count": 33,
   "metadata": {},
   "outputs": [],
   "source": [
    "class TwoLevelClassifier:\n",
    "    def __init__(self, categories, h2binder, h1binder, otherlabel=\"OTHER\"):\n",
    "        self._categories = categories\n",
    "        self._h2binder = h2binder\n",
    "        self._h1binder = h1binder\n",
    "        self._OTHERCLASS = -1\n",
    "        self._OTHERLABEL = otherlabel\n",
    "        self._FIRST_THRESHOLD = 0.5\n",
    "        self._SECOND_THRESHOLD = 0.5\n",
    "\n",
    "    def load_all(self):\n",
    "        catkeys = self._categories\n",
    "        self._h2binder.load_all_models(catkeys)\n",
    "        self._h1binder.load_all_models([\"sec_\" + cat for cat in catkeys])\n",
    "\n",
    "    def predict_arrs(self, arrs):\n",
    "        df = self._predict_arrs(arrs)\n",
    "        self._df = df\n",
    "        return self._h1binder.df2classes(df, self._SECOND_THRESHOLD)\n",
    "\n",
    "    def _predict_arrs(self, arrs):\n",
    "        firstdf = pd.DataFrame(self._h2binder.predict_arrs(arrs))\n",
    "\n",
    "        resultdf = pd.DataFrame(np.zeros(firstdf.shape))\n",
    "        resultdf.columns = firstdf.columns\n",
    "\n",
    "        for targetkey in self._categories:\n",
    "\n",
    "            df = self._predict_second(targetkey, arrs, firstdf)\n",
    "            if df is not None:\n",
    "                resultdf.loc[df['orgindex'], targetkey] = df[targetkey].values\n",
    "\n",
    "        return resultdf\n",
    "\n",
    "    def _predict_second(self, targetcat, arrs, firstdf):\n",
    "        filtered = firstdf[firstdf[targetcat] > self._FIRST_THRESHOLD]\n",
    "\n",
    "        if len(filtered) == 0:\n",
    "            return None\n",
    "\n",
    "        farrs = arrs[filtered.index, :]\n",
    "        model = self._h1binder.get_or_load_model('sec_' + targetcat)\n",
    "\n",
    "        # no second level classifier, all score is already enough.\n",
    "        if model == None:\n",
    "            return pd.DataFrame({targetcat: np.ones(len(filtered.index)), 'orgindex': filtered.index})\n",
    "\n",
    "        res = model.predict(farrs)\n",
    "        scores = res[:, 1]\n",
    "\n",
    "        return pd.DataFrame({targetcat: scores, 'orgindex': filtered.index})\n",
    "    \n",
    "    \n"
   ]
  },
  {
   "cell_type": "code",
   "execution_count": null,
   "metadata": {},
   "outputs": [],
   "source": []
  },
  {
   "cell_type": "code",
   "execution_count": null,
   "metadata": {},
   "outputs": [],
   "source": []
  },
  {
   "cell_type": "code",
   "execution_count": null,
   "metadata": {},
   "outputs": [],
   "source": []
  },
  {
   "cell_type": "code",
   "execution_count": 34,
   "metadata": {},
   "outputs": [],
   "source": [
    "from models.processor import DataSet"
   ]
  },
  {
   "cell_type": "code",
   "execution_count": 35,
   "metadata": {},
   "outputs": [],
   "source": [
    "ds = DataSet()"
   ]
  },
  {
   "cell_type": "code",
   "execution_count": null,
   "metadata": {},
   "outputs": [],
   "source": []
  },
  {
   "cell_type": "code",
   "execution_count": 36,
   "metadata": {},
   "outputs": [],
   "source": [
    "binder = ModelBinder( \"model\", \"trained_model\", categories)"
   ]
  },
  {
   "cell_type": "code",
   "execution_count": 37,
   "metadata": {},
   "outputs": [
    {
     "name": "stdout",
     "output_type": "stream",
     "text": [
      "load bay\n",
      "load beach\n",
      "load birds\n",
      "load boeing\n",
      "load buildings\n",
      "load city\n",
      "load clouds\n",
      "load f-16\n",
      "load face\n",
      "load helicopter\n",
      "load mountain\n",
      "load ocean\n",
      "load ships\n",
      "load sky\n",
      "load sunrise\n",
      "load sunset\n"
     ]
    }
   ],
   "source": [
    "binder.load_all_models(categories)"
   ]
  },
  {
   "cell_type": "code",
   "execution_count": null,
   "metadata": {},
   "outputs": [],
   "source": []
  },
  {
   "cell_type": "markdown",
   "metadata": {},
   "source": [
    "### Standard Inception v3 transfer learning results"
   ]
  },
  {
   "cell_type": "code",
   "execution_count": 38,
   "metadata": {},
   "outputs": [
    {
     "name": "stderr",
     "output_type": "stream",
     "text": [
      "/usr/local/lib/python3.5/dist-packages/PIL/TiffImagePlugin.py:725: UserWarning: Possibly corrupt EXIF data.  Expecting to read 1441814 bytes but only got 0. Skipping tag 33\n",
      "  \" Skipping tag %s\" % (size, len(data), tag))\n",
      "/usr/local/lib/python3.5/dist-packages/PIL/TiffImagePlugin.py:725: UserWarning: Possibly corrupt EXIF data.  Expecting to read 428 bytes but only got 0. Skipping tag 0\n",
      "  \" Skipping tag %s\" % (size, len(data), tag))\n",
      "/usr/local/lib/python3.5/dist-packages/PIL/TiffImagePlugin.py:725: UserWarning: Possibly corrupt EXIF data.  Expecting to read 196608 bytes but only got 0. Skipping tag 60\n",
      "  \" Skipping tag %s\" % (size, len(data), tag))\n",
      "/usr/local/lib/python3.5/dist-packages/PIL/TiffImagePlugin.py:725: UserWarning: Possibly corrupt EXIF data.  Expecting to read 196608 bytes but only got 0. Skipping tag 0\n",
      "  \" Skipping tag %s\" % (size, len(data), tag))\n",
      "/usr/local/lib/python3.5/dist-packages/PIL/TiffImagePlugin.py:725: UserWarning: Possibly corrupt EXIF data.  Expecting to read 524288 bytes but only got 0. Skipping tag 240\n",
      "  \" Skipping tag %s\" % (size, len(data), tag))\n",
      "/usr/local/lib/python3.5/dist-packages/PIL/TiffImagePlugin.py:725: UserWarning: Possibly corrupt EXIF data.  Expecting to read 1048576 bytes but only got 0. Skipping tag 17873\n",
      "  \" Skipping tag %s\" % (size, len(data), tag))\n",
      "/usr/local/lib/python3.5/dist-packages/PIL/TiffImagePlugin.py:725: UserWarning: Possibly corrupt EXIF data.  Expecting to read 2097152 bytes but only got 0. Skipping tag 1860\n",
      "  \" Skipping tag %s\" % (size, len(data), tag))\n",
      "/usr/local/lib/python3.5/dist-packages/PIL/TiffImagePlugin.py:725: UserWarning: Possibly corrupt EXIF data.  Expecting to read 458752 bytes but only got 0. Skipping tag 10864\n",
      "  \" Skipping tag %s\" % (size, len(data), tag))\n",
      "/usr/local/lib/python3.5/dist-packages/PIL/TiffImagePlugin.py:725: UserWarning: Possibly corrupt EXIF data.  Expecting to read 458752 bytes but only got 0. Skipping tag 257\n",
      "  \" Skipping tag %s\" % (size, len(data), tag))\n",
      "/usr/local/lib/python3.5/dist-packages/PIL/TiffImagePlugin.py:725: UserWarning: Possibly corrupt EXIF data.  Expecting to read 393216 bytes but only got 0. Skipping tag 9216\n",
      "  \" Skipping tag %s\" % (size, len(data), tag))\n",
      "/usr/local/lib/python3.5/dist-packages/PIL/TiffImagePlugin.py:725: UserWarning: Possibly corrupt EXIF data.  Expecting to read 786432 bytes but only got 0. Skipping tag 0\n",
      "  \" Skipping tag %s\" % (size, len(data), tag))\n",
      "/usr/local/lib/python3.5/dist-packages/PIL/TiffImagePlugin.py:725: UserWarning: Possibly corrupt EXIF data.  Expecting to read 1572864 bytes but only got 0. Skipping tag 0\n",
      "  \" Skipping tag %s\" % (size, len(data), tag))\n",
      "/usr/local/lib/python3.5/dist-packages/PIL/TiffImagePlugin.py:725: UserWarning: Possibly corrupt EXIF data.  Expecting to read 33752069 bytes but only got 0. Skipping tag 0\n",
      "  \" Skipping tag %s\" % (size, len(data), tag))\n",
      "/usr/local/lib/python3.5/dist-packages/PIL/TiffImagePlugin.py:725: UserWarning: Possibly corrupt EXIF data.  Expecting to read 282 bytes but only got 0. Skipping tag 1\n",
      "  \" Skipping tag %s\" % (size, len(data), tag))\n",
      "/usr/local/lib/python3.5/dist-packages/PIL/TiffImagePlugin.py:725: UserWarning: Possibly corrupt EXIF data.  Expecting to read 513 bytes but only got 0. Skipping tag 1\n",
      "  \" Skipping tag %s\" % (size, len(data), tag))\n",
      "/usr/local/lib/python3.5/dist-packages/PIL/TiffImagePlugin.py:742: UserWarning: Corrupt EXIF data.  Expecting to read 12 bytes but only got 8. \n",
      "  warnings.warn(str(msg))\n"
     ]
    }
   ],
   "source": [
    "all_labels = pd.Series(dtype=object)\n",
    "all_results = []\n",
    "for chunk in ds.chunked(testdf_shuffled, 500):\n",
    "    x = ds.files_to_dataset(chunk['files'])\n",
    "    label = chunk['category']\n",
    "    resdf = binder.predict_arrs(x)\n",
    "    resclasses = binder.df2classes(resdf)\n",
    "    \n",
    "    all_labels = all_labels.append(label,  ignore_index=True)\n",
    "    all_results.extend(resclasses)"
   ]
  },
  {
   "cell_type": "code",
   "execution_count": null,
   "metadata": {},
   "outputs": [],
   "source": []
  },
  {
   "cell_type": "code",
   "execution_count": 39,
   "metadata": {},
   "outputs": [
    {
     "data": {
      "text/plain": [
       "2366"
      ]
     },
     "execution_count": 39,
     "metadata": {},
     "output_type": "execute_result"
    }
   ],
   "source": [
    "len(all_labels)"
   ]
  },
  {
   "cell_type": "code",
   "execution_count": 40,
   "metadata": {},
   "outputs": [
    {
     "data": {
      "text/plain": [
       "2366"
      ]
     },
     "execution_count": 40,
     "metadata": {},
     "output_type": "execute_result"
    }
   ],
   "source": [
    "len(all_results)"
   ]
  },
  {
   "cell_type": "code",
   "execution_count": 41,
   "metadata": {},
   "outputs": [
    {
     "data": {
      "text/plain": [
       "1303"
      ]
     },
     "execution_count": 41,
     "metadata": {},
     "output_type": "execute_result"
    }
   ],
   "source": [
    "sum(all_labels == all_results)"
   ]
  },
  {
   "cell_type": "code",
   "execution_count": 42,
   "metadata": {},
   "outputs": [
    {
     "data": {
      "text/plain": [
       "0.5507185122569738"
      ]
     },
     "execution_count": 42,
     "metadata": {},
     "output_type": "execute_result"
    }
   ],
   "source": [
    "float(sum(all_labels == all_results))/len(all_labels)"
   ]
  },
  {
   "cell_type": "code",
   "execution_count": null,
   "metadata": {},
   "outputs": [],
   "source": []
  },
  {
   "cell_type": "code",
   "execution_count": null,
   "metadata": {},
   "outputs": [],
   "source": []
  },
  {
   "cell_type": "code",
   "execution_count": 43,
   "metadata": {},
   "outputs": [],
   "source": [
    "results_df = pd.DataFrame({\"labels\": all_labels, \"prediction\": all_results})"
   ]
  },
  {
   "cell_type": "code",
   "execution_count": 44,
   "metadata": {},
   "outputs": [],
   "source": [
    "results_df.to_pickle(\"results/1level_prediction.dat\")"
   ]
  },
  {
   "cell_type": "code",
   "execution_count": null,
   "metadata": {},
   "outputs": [],
   "source": []
  },
  {
   "cell_type": "markdown",
   "metadata": {},
   "source": [
    "### Two level classifier results"
   ]
  },
  {
   "cell_type": "code",
   "execution_count": 47,
   "metadata": {},
   "outputs": [],
   "source": [
    "sec_binder = ModelBinder( \"model\", \"trained_model\", categories)"
   ]
  },
  {
   "cell_type": "code",
   "execution_count": 48,
   "metadata": {},
   "outputs": [],
   "source": [
    "two_classifier = TwoLevelClassifier(categories, binder, sec_binder)"
   ]
  },
  {
   "cell_type": "code",
   "execution_count": null,
   "metadata": {},
   "outputs": [],
   "source": []
  },
  {
   "cell_type": "code",
   "execution_count": 49,
   "metadata": {},
   "outputs": [
    {
     "name": "stdout",
     "output_type": "stream",
     "text": [
      "load sec_bay\n",
      "load sec_beach\n",
      "load sec_birds\n",
      "load sec_boeing\n",
      "load sec_buildings\n",
      "load sec_city\n",
      "load sec_clouds\n",
      "load sec_f-16\n",
      "load sec_face\n",
      "load sec_helicopter\n",
      "load sec_mountain\n",
      "load sec_ocean\n",
      "load sec_ships\n",
      "load sec_sky\n",
      "load sec_sunrise\n",
      "load sec_sunset\n"
     ]
    }
   ],
   "source": [
    "two_classifier.load_all()"
   ]
  },
  {
   "cell_type": "code",
   "execution_count": null,
   "metadata": {},
   "outputs": [],
   "source": []
  },
  {
   "cell_type": "code",
   "execution_count": null,
   "metadata": {},
   "outputs": [],
   "source": []
  },
  {
   "cell_type": "code",
   "execution_count": 50,
   "metadata": {},
   "outputs": [],
   "source": [
    "import tqdm"
   ]
  },
  {
   "cell_type": "code",
   "execution_count": 51,
   "metadata": {},
   "outputs": [
    {
     "name": "stderr",
     "output_type": "stream",
     "text": [
      "  0%|          | 0/5 [00:00<?, ?it/s]/usr/local/lib/python3.5/dist-packages/PIL/TiffImagePlugin.py:725: UserWarning: Possibly corrupt EXIF data.  Expecting to read 1441814 bytes but only got 0. Skipping tag 33\n",
      "  \" Skipping tag %s\" % (size, len(data), tag))\n",
      "/usr/local/lib/python3.5/dist-packages/PIL/TiffImagePlugin.py:725: UserWarning: Possibly corrupt EXIF data.  Expecting to read 428 bytes but only got 0. Skipping tag 0\n",
      "  \" Skipping tag %s\" % (size, len(data), tag))\n",
      "/usr/local/lib/python3.5/dist-packages/PIL/TiffImagePlugin.py:725: UserWarning: Possibly corrupt EXIF data.  Expecting to read 196608 bytes but only got 0. Skipping tag 60\n",
      "  \" Skipping tag %s\" % (size, len(data), tag))\n",
      "/usr/local/lib/python3.5/dist-packages/PIL/TiffImagePlugin.py:725: UserWarning: Possibly corrupt EXIF data.  Expecting to read 196608 bytes but only got 0. Skipping tag 0\n",
      "  \" Skipping tag %s\" % (size, len(data), tag))\n",
      "/usr/local/lib/python3.5/dist-packages/PIL/TiffImagePlugin.py:725: UserWarning: Possibly corrupt EXIF data.  Expecting to read 524288 bytes but only got 0. Skipping tag 240\n",
      "  \" Skipping tag %s\" % (size, len(data), tag))\n",
      "/usr/local/lib/python3.5/dist-packages/PIL/TiffImagePlugin.py:725: UserWarning: Possibly corrupt EXIF data.  Expecting to read 1048576 bytes but only got 0. Skipping tag 17873\n",
      "  \" Skipping tag %s\" % (size, len(data), tag))\n",
      "/usr/local/lib/python3.5/dist-packages/PIL/TiffImagePlugin.py:725: UserWarning: Possibly corrupt EXIF data.  Expecting to read 2097152 bytes but only got 0. Skipping tag 1860\n",
      "  \" Skipping tag %s\" % (size, len(data), tag))\n",
      "/usr/local/lib/python3.5/dist-packages/PIL/TiffImagePlugin.py:725: UserWarning: Possibly corrupt EXIF data.  Expecting to read 458752 bytes but only got 0. Skipping tag 10864\n",
      "  \" Skipping tag %s\" % (size, len(data), tag))\n",
      "/usr/local/lib/python3.5/dist-packages/PIL/TiffImagePlugin.py:725: UserWarning: Possibly corrupt EXIF data.  Expecting to read 458752 bytes but only got 0. Skipping tag 257\n",
      "  \" Skipping tag %s\" % (size, len(data), tag))\n",
      "/usr/local/lib/python3.5/dist-packages/PIL/TiffImagePlugin.py:725: UserWarning: Possibly corrupt EXIF data.  Expecting to read 393216 bytes but only got 0. Skipping tag 9216\n",
      "  \" Skipping tag %s\" % (size, len(data), tag))\n",
      "/usr/local/lib/python3.5/dist-packages/PIL/TiffImagePlugin.py:725: UserWarning: Possibly corrupt EXIF data.  Expecting to read 786432 bytes but only got 0. Skipping tag 0\n",
      "  \" Skipping tag %s\" % (size, len(data), tag))\n",
      "/usr/local/lib/python3.5/dist-packages/PIL/TiffImagePlugin.py:725: UserWarning: Possibly corrupt EXIF data.  Expecting to read 1572864 bytes but only got 0. Skipping tag 0\n",
      "  \" Skipping tag %s\" % (size, len(data), tag))\n",
      "/usr/local/lib/python3.5/dist-packages/PIL/TiffImagePlugin.py:725: UserWarning: Possibly corrupt EXIF data.  Expecting to read 33752069 bytes but only got 0. Skipping tag 0\n",
      "  \" Skipping tag %s\" % (size, len(data), tag))\n",
      "/usr/local/lib/python3.5/dist-packages/PIL/TiffImagePlugin.py:725: UserWarning: Possibly corrupt EXIF data.  Expecting to read 282 bytes but only got 0. Skipping tag 1\n",
      "  \" Skipping tag %s\" % (size, len(data), tag))\n",
      "/usr/local/lib/python3.5/dist-packages/PIL/TiffImagePlugin.py:725: UserWarning: Possibly corrupt EXIF data.  Expecting to read 513 bytes but only got 0. Skipping tag 1\n",
      "  \" Skipping tag %s\" % (size, len(data), tag))\n",
      "/usr/local/lib/python3.5/dist-packages/PIL/TiffImagePlugin.py:742: UserWarning: Corrupt EXIF data.  Expecting to read 12 bytes but only got 8. \n",
      "  warnings.warn(str(msg))\n",
      "100%|██████████| 5/5 [12:30<00:00, 150.13s/it]\n"
     ]
    }
   ],
   "source": [
    "all_labels2 = pd.Series(dtype=object)\n",
    "all_results2 = []\n",
    "for chunk in tqdm.tqdm(ds.chunked(testdf_shuffled, 500)):\n",
    "    x = ds.files_to_dataset(chunk['files'])\n",
    "    label = chunk['category']\n",
    "    resclasses = two_classifier.predict_arrs(x)\n",
    "    \n",
    "    all_labels2 = all_labels2.append(label,  ignore_index=True)\n",
    "    all_results2.extend(resclasses)"
   ]
  },
  {
   "cell_type": "code",
   "execution_count": 52,
   "metadata": {},
   "outputs": [
    {
     "data": {
      "text/plain": [
       "1445"
      ]
     },
     "execution_count": 52,
     "metadata": {},
     "output_type": "execute_result"
    }
   ],
   "source": [
    "sum(all_labels2 == all_results2)"
   ]
  },
  {
   "cell_type": "code",
   "execution_count": null,
   "metadata": {},
   "outputs": [],
   "source": []
  },
  {
   "cell_type": "code",
   "execution_count": 53,
   "metadata": {},
   "outputs": [],
   "source": [
    "results_df2 = pd.DataFrame({\"labels\": all_labels2, \"prediction\": all_results2})"
   ]
  },
  {
   "cell_type": "code",
   "execution_count": 54,
   "metadata": {},
   "outputs": [],
   "source": [
    "results_df2.to_pickle(\"results/2level_prediction.dat\")"
   ]
  },
  {
   "cell_type": "code",
   "execution_count": 55,
   "metadata": {},
   "outputs": [
    {
     "data": {
      "text/plain": [
       "2366"
      ]
     },
     "execution_count": 55,
     "metadata": {},
     "output_type": "execute_result"
    }
   ],
   "source": [
    "len(all_labels2)"
   ]
  },
  {
   "cell_type": "code",
   "execution_count": 56,
   "metadata": {},
   "outputs": [
    {
     "data": {
      "text/plain": [
       "0.6107354184277262"
      ]
     },
     "execution_count": 56,
     "metadata": {},
     "output_type": "execute_result"
    }
   ],
   "source": [
    "float(sum(all_labels2 == all_results2))/len(all_labels2)"
   ]
  },
  {
   "cell_type": "code",
   "execution_count": null,
   "metadata": {},
   "outputs": [],
   "source": []
  },
  {
   "cell_type": "markdown",
   "metadata": {},
   "source": [
    "# Try and error"
   ]
  },
  {
   "cell_type": "code",
   "execution_count": null,
   "metadata": {},
   "outputs": [],
   "source": []
  },
  {
   "cell_type": "code",
   "execution_count": null,
   "metadata": {},
   "outputs": [],
   "source": []
  },
  {
   "cell_type": "code",
   "execution_count": null,
   "metadata": {},
   "outputs": [],
   "source": []
  },
  {
   "cell_type": "code",
   "execution_count": null,
   "metadata": {},
   "outputs": [],
   "source": []
  },
  {
   "cell_type": "code",
   "execution_count": 29,
   "metadata": {},
   "outputs": [],
   "source": [
    "x = ds.files_to_dataset(testdf_shuffled['files'][0:10])"
   ]
  },
  {
   "cell_type": "code",
   "execution_count": 30,
   "metadata": {},
   "outputs": [],
   "source": [
    "label = testdf_shuffled['category'][0:10]"
   ]
  },
  {
   "cell_type": "code",
   "execution_count": 35,
   "metadata": {},
   "outputs": [
    {
     "data": {
      "text/plain": [
       "['sunrise',\n",
       " 'mountain',\n",
       " 'birds',\n",
       " 'f-16',\n",
       " 'clouds',\n",
       " 'bay',\n",
       " 'boeing',\n",
       " 'ocean',\n",
       " 'face',\n",
       " 'beach']"
      ]
     },
     "execution_count": 35,
     "metadata": {},
     "output_type": "execute_result"
    }
   ],
   "source": [
    "two_classifier.predict_arrs(x)"
   ]
  },
  {
   "cell_type": "code",
   "execution_count": 38,
   "metadata": {},
   "outputs": [
    {
     "data": {
      "text/plain": [
       "8"
      ]
     },
     "execution_count": 38,
     "metadata": {},
     "output_type": "execute_result"
    }
   ],
   "source": [
    "sum(label == Out[35])"
   ]
  },
  {
   "cell_type": "code",
   "execution_count": null,
   "metadata": {},
   "outputs": [],
   "source": []
  },
  {
   "cell_type": "code",
   "execution_count": null,
   "metadata": {},
   "outputs": [],
   "source": []
  },
  {
   "cell_type": "code",
   "execution_count": 20,
   "metadata": {},
   "outputs": [],
   "source": [
    "resdf = binder.predict_arrs(x)"
   ]
  },
  {
   "cell_type": "code",
   "execution_count": null,
   "metadata": {},
   "outputs": [],
   "source": []
  },
  {
   "cell_type": "code",
   "execution_count": 22,
   "metadata": {},
   "outputs": [],
   "source": [
    "resclasses = binder.df2classes(resdf)"
   ]
  },
  {
   "cell_type": "code",
   "execution_count": 24,
   "metadata": {},
   "outputs": [
    {
     "data": {
      "text/plain": [
       "['bay',\n",
       " 'boeing',\n",
       " 'helicopter',\n",
       " 'f-16',\n",
       " 'sky',\n",
       " 'buildings',\n",
       " 'bay',\n",
       " 'buildings',\n",
       " 'beach',\n",
       " 'birds']"
      ]
     },
     "execution_count": 24,
     "metadata": {},
     "output_type": "execute_result"
    }
   ],
   "source": [
    "resclasses"
   ]
  },
  {
   "cell_type": "code",
   "execution_count": null,
   "metadata": {},
   "outputs": [],
   "source": []
  },
  {
   "cell_type": "code",
   "execution_count": 26,
   "metadata": {},
   "outputs": [
    {
     "data": {
      "text/plain": [
       "0    False\n",
       "1     True\n",
       "2     True\n",
       "3     True\n",
       "4    False\n",
       "5    False\n",
       "6    False\n",
       "7     True\n",
       "8    False\n",
       "9     True\n",
       "Name: category, dtype: bool"
      ]
     },
     "execution_count": 26,
     "metadata": {},
     "output_type": "execute_result"
    }
   ],
   "source": [
    "label == resclasses"
   ]
  },
  {
   "cell_type": "code",
   "execution_count": 27,
   "metadata": {},
   "outputs": [
    {
     "data": {
      "text/plain": [
       "5"
      ]
     },
     "execution_count": 27,
     "metadata": {},
     "output_type": "execute_result"
    }
   ],
   "source": [
    "sum(label == resclasses)"
   ]
  },
  {
   "cell_type": "code",
   "execution_count": 29,
   "metadata": {},
   "outputs": [
    {
     "data": {
      "text/plain": [
       "0       sunrise\n",
       "1        boeing\n",
       "2    helicopter\n",
       "3          f-16\n",
       "4       sunrise\n",
       "5          city\n",
       "6          city\n",
       "7     buildings\n",
       "8        sunset\n",
       "9         birds\n",
       "Name: category, dtype: object"
      ]
     },
     "execution_count": 29,
     "metadata": {},
     "output_type": "execute_result"
    }
   ],
   "source": [
    "label"
   ]
  },
  {
   "cell_type": "code",
   "execution_count": null,
   "metadata": {},
   "outputs": [],
   "source": []
  },
  {
   "cell_type": "code",
   "execution_count": 4,
   "metadata": {},
   "outputs": [],
   "source": [
    "cat = \"clouds\""
   ]
  },
  {
   "cell_type": "code",
   "execution_count": null,
   "metadata": {},
   "outputs": [],
   "source": []
  },
  {
   "cell_type": "code",
   "execution_count": 6,
   "metadata": {},
   "outputs": [
    {
     "data": {
      "text/plain": [
       "130"
      ]
     },
     "execution_count": 6,
     "metadata": {},
     "output_type": "execute_result"
    }
   ],
   "source": [
    "len(testdict[cat])"
   ]
  },
  {
   "cell_type": "code",
   "execution_count": 16,
   "metadata": {},
   "outputs": [
    {
     "data": {
      "text/plain": [
       "['data/clouds/0367.jpeg',\n",
       " 'data/clouds/0567.jpeg',\n",
       " 'data/clouds/0143.jpeg',\n",
       " 'data/clouds/0004.jpeg',\n",
       " 'data/clouds/0502.jpeg']"
      ]
     },
     "execution_count": 16,
     "metadata": {},
     "output_type": "execute_result"
    }
   ],
   "source": [
    "testdict[cat][0:5]"
   ]
  },
  {
   "cell_type": "code",
   "execution_count": 11,
   "metadata": {},
   "outputs": [],
   "source": [
    "x = ds.files_to_dataset(testdict[cat])"
   ]
  },
  {
   "cell_type": "code",
   "execution_count": 12,
   "metadata": {},
   "outputs": [
    {
     "data": {
      "text/plain": [
       "(130, 224, 224, 3)"
      ]
     },
     "execution_count": 12,
     "metadata": {},
     "output_type": "execute_result"
    }
   ],
   "source": [
    "x.shape"
   ]
  },
  {
   "cell_type": "code",
   "execution_count": null,
   "metadata": {},
   "outputs": [],
   "source": []
  },
  {
   "cell_type": "code",
   "execution_count": null,
   "metadata": {},
   "outputs": [],
   "source": [
    "    \n",
    "# below hereis not necessary        \n",
    "    def bottlenecks2predict(self, btlnks):\n",
    "        models = self._models\n",
    "        return {key: models[key].predict(btlnks)[:, 1] for key in models.keys()}\n",
    "\n",
    "    def files2bottlenecks(self, files):\n",
    "        return np.array(list(self.extractor.map_code(files)))\n",
    "\n",
    "    def predict(self, files):\n",
    "        btlnks = self.files2bottlenecks(files)\n",
    "        preddict = self.bottlenecks2predict(btlnks)\n",
    "        preddict[\"filepaths\"] = files\n",
    "        return pd.DataFrame(preddict)\n",
    "\n",
    "\n",
    "\n",
    "    def add_argmax_max(self, df):\n",
    "        catkeys = list(self._models.keys())\n",
    "        df['argmax'] = df[df.columns[:len(catkeys)]].idxmax(axis=1)\n",
    "        df['max'] = df[df.columns[0:len(catkeys)]].max(axis=1)\n",
    "\n",
    "    def arrs2bottlenecks(self, arrs):\n",
    "        return self.extractor.arrs2bottlenecks(arrs)"
   ]
  },
  {
   "cell_type": "code",
   "execution_count": null,
   "metadata": {},
   "outputs": [],
   "source": [
    "    # below here is not necessary\n",
    "    def _predict_bottlenecks_df(self, btlnks):\n",
    "        firstdf = pd.DataFrame(self._h2binder.bottlenecks2predict(btlnks))\n",
    "\n",
    "        resultdf = pd.DataFrame(np.zeros(firstdf.shape))\n",
    "        resultdf.columns = firstdf.columns\n",
    "\n",
    "        for targetkey in self._catkeys:\n",
    "\n",
    "            df = self._predict_second(targetkey, btlnks, firstdf)\n",
    "            if df is not None:\n",
    "                resultdf.loc[df['orgindex'], targetkey] = df[targetkey].values\n",
    "\n",
    "        return resultdf\n",
    "\n",
    "    def _predict_bottlenecks_cattupple(self, btlnks):\n",
    "        df = self._predict_bottlenecks_df(btlnks)\n",
    "        self._df = df\n",
    "        return self._df2classes(df)\n",
    "    \n",
    "    def predict_arrs(self, arrs):\n",
    "        btlnks = self._h2binder.arrs2bottlenecks(arrs)\n",
    "        return self._predict_bottlenecks_cattupple(btlnks)\n",
    "\n",
    "    def predict_files(self, files):\n",
    "        btlnks = self._h2binder.files2bottlenecks(files)\n",
    "        return self._predict_bottlenecks_cattupple(btlnks)\n",
    "\n",
    "    def predict_files_df(self, files):\n",
    "        btlnks = self._h2binder.files2bottlenecks(files)\n",
    "        tups = self._predict_bottlenecks_cattupple(btlnks)\n",
    "        return pd.DataFrame({\n",
    "            \"filepaths\": files,\n",
    "            \"category\": [tup[0] for tup in tups],\n",
    "            \"label\": [tup[1] for tup in tups]\n",
    "        })\n",
    "\n"
   ]
  },
  {
   "cell_type": "code",
   "execution_count": 14,
   "metadata": {},
   "outputs": [],
   "source": [
    "from models.modelutils import load_best_model"
   ]
  },
  {
   "cell_type": "code",
   "execution_count": 17,
   "metadata": {},
   "outputs": [],
   "source": [
    "first = load_best_model(\"trained_model/model_{}\".format(cat))"
   ]
  },
  {
   "cell_type": "code",
   "execution_count": 18,
   "metadata": {},
   "outputs": [
    {
     "data": {
      "text/plain": [
       "array([[  9.99939442e-03,   9.90000606e-01],\n",
       "       [  1.30196549e-02,   9.86980259e-01],\n",
       "       [  7.25162565e-04,   9.99274790e-01],\n",
       "       [  6.83021406e-03,   9.93169785e-01],\n",
       "       [  6.39600083e-02,   9.36039984e-01],\n",
       "       [  3.99376824e-02,   9.60062325e-01],\n",
       "       [  8.19742978e-02,   9.18025732e-01],\n",
       "       [  1.39728012e-02,   9.86027241e-01],\n",
       "       [  9.42717865e-03,   9.90572751e-01],\n",
       "       [  2.22350620e-02,   9.77764904e-01],\n",
       "       [  7.79604912e-03,   9.92203951e-01],\n",
       "       [  1.10087417e-01,   8.89912605e-01],\n",
       "       [  4.04850245e-02,   9.59515035e-01],\n",
       "       [  1.80641524e-02,   9.81935799e-01],\n",
       "       [  1.01254266e-02,   9.89874601e-01],\n",
       "       [  1.80572248e-03,   9.98194277e-01],\n",
       "       [  3.81261766e-01,   6.18738234e-01],\n",
       "       [  3.70556898e-02,   9.62944269e-01],\n",
       "       [  3.42167281e-02,   9.65783238e-01],\n",
       "       [  9.40244820e-04,   9.99059737e-01],\n",
       "       [  2.24162545e-02,   9.77583766e-01],\n",
       "       [  1.35218806e-03,   9.98647869e-01],\n",
       "       [  2.12284271e-03,   9.97877121e-01],\n",
       "       [  1.54093448e-02,   9.84590650e-01],\n",
       "       [  7.15702176e-01,   2.84297764e-01],\n",
       "       [  1.46296034e-02,   9.85370398e-01],\n",
       "       [  2.94607699e-01,   7.05392241e-01],\n",
       "       [  4.20992039e-02,   9.57900763e-01],\n",
       "       [  2.34008785e-02,   9.76599157e-01],\n",
       "       [  2.21884459e-01,   7.78115511e-01],\n",
       "       [  4.87777579e-04,   9.99512196e-01],\n",
       "       [  3.58628966e-02,   9.64137137e-01],\n",
       "       [  5.44789480e-03,   9.94552076e-01],\n",
       "       [  1.56336720e-03,   9.98436630e-01],\n",
       "       [  3.42726946e-01,   6.57272995e-01],\n",
       "       [  6.43170848e-02,   9.35682952e-01],\n",
       "       [  1.88589823e-02,   9.81141090e-01],\n",
       "       [  1.71030089e-02,   9.82896984e-01],\n",
       "       [  2.66553294e-02,   9.73344743e-01],\n",
       "       [  2.39070639e-01,   7.60929286e-01],\n",
       "       [  4.03596694e-03,   9.95964050e-01],\n",
       "       [  2.85086203e-02,   9.71491456e-01],\n",
       "       [  2.92348117e-02,   9.70765173e-01],\n",
       "       [  1.39733299e-03,   9.98602688e-01],\n",
       "       [  1.73953560e-03,   9.98260438e-01],\n",
       "       [  6.14073835e-02,   9.38592672e-01],\n",
       "       [  1.01593146e-02,   9.89840686e-01],\n",
       "       [  6.14284445e-03,   9.93857205e-01],\n",
       "       [  7.61896148e-02,   9.23810363e-01],\n",
       "       [  1.42413035e-01,   8.57586980e-01],\n",
       "       [  1.51415929e-01,   8.48584056e-01],\n",
       "       [  6.98591722e-03,   9.93014157e-01],\n",
       "       [  1.94862355e-02,   9.80513752e-01],\n",
       "       [  2.89948983e-03,   9.97100532e-01],\n",
       "       [  2.64434423e-02,   9.73556519e-01],\n",
       "       [  1.17339892e-02,   9.88265932e-01],\n",
       "       [  1.07685789e-01,   8.92314196e-01],\n",
       "       [  3.40930939e-01,   6.59069002e-01],\n",
       "       [  6.16073385e-02,   9.38392639e-01],\n",
       "       [  8.09789170e-03,   9.91902053e-01],\n",
       "       [  5.70798526e-03,   9.94292021e-01],\n",
       "       [  2.87008882e-02,   9.71299052e-01],\n",
       "       [  5.98960696e-03,   9.94010448e-01],\n",
       "       [  1.17977448e-02,   9.88202274e-01],\n",
       "       [  1.51298912e-02,   9.84870195e-01],\n",
       "       [  8.15323670e-04,   9.99184668e-01],\n",
       "       [  7.31831342e-02,   9.26816821e-01],\n",
       "       [  1.23585330e-03,   9.98764157e-01],\n",
       "       [  2.14197580e-02,   9.78580236e-01],\n",
       "       [  4.78092022e-02,   9.52190816e-01],\n",
       "       [  4.14177263e-03,   9.95858252e-01],\n",
       "       [  3.06044817e-01,   6.93955183e-01],\n",
       "       [  5.11739356e-03,   9.94882584e-01],\n",
       "       [  1.60387442e-01,   8.39612603e-01],\n",
       "       [  8.89103532e-01,   1.10896498e-01],\n",
       "       [  5.34524620e-01,   4.65475380e-01],\n",
       "       [  1.55766858e-02,   9.84423339e-01],\n",
       "       [  1.32827032e-02,   9.86717343e-01],\n",
       "       [  3.77488732e-02,   9.62251127e-01],\n",
       "       [  2.52386719e-01,   7.47613251e-01],\n",
       "       [  5.31404931e-03,   9.94685888e-01],\n",
       "       [  5.84463514e-02,   9.41553593e-01],\n",
       "       [  1.35951087e-01,   8.64048839e-01],\n",
       "       [  1.72060385e-01,   8.27939630e-01],\n",
       "       [  2.59144395e-03,   9.97408569e-01],\n",
       "       [  5.81704378e-01,   4.18295652e-01],\n",
       "       [  3.82646825e-03,   9.96173561e-01],\n",
       "       [  4.55325730e-02,   9.54467416e-01],\n",
       "       [  2.29944680e-02,   9.77005601e-01],\n",
       "       [  4.90003172e-03,   9.95099962e-01],\n",
       "       [  1.70093216e-02,   9.82990623e-01],\n",
       "       [  1.13179581e-02,   9.88682032e-01],\n",
       "       [  3.03979218e-02,   9.69602048e-01],\n",
       "       [  5.22022322e-02,   9.47797716e-01],\n",
       "       [  1.19819395e-01,   8.80180597e-01],\n",
       "       [  4.04266119e-01,   5.95733941e-01],\n",
       "       [  7.15702176e-01,   2.84297764e-01],\n",
       "       [  1.11024734e-02,   9.88897502e-01],\n",
       "       [  2.85347865e-04,   9.99714673e-01],\n",
       "       [  1.57422423e-02,   9.84257698e-01],\n",
       "       [  6.36729598e-02,   9.36327040e-01],\n",
       "       [  5.85198224e-01,   4.14801776e-01],\n",
       "       [  1.91207335e-03,   9.98087943e-01],\n",
       "       [  1.52687207e-04,   9.99847293e-01],\n",
       "       [  9.26446378e-01,   7.35536441e-02],\n",
       "       [  6.45141490e-03,   9.93548572e-01],\n",
       "       [  5.15243337e-02,   9.48475659e-01],\n",
       "       [  2.41427263e-03,   9.97585773e-01],\n",
       "       [  1.48205712e-01,   8.51794302e-01],\n",
       "       [  4.13102424e-03,   9.95868981e-01],\n",
       "       [  6.47631753e-03,   9.93523717e-01],\n",
       "       [  2.13787314e-02,   9.78621244e-01],\n",
       "       [  1.16252769e-02,   9.88374710e-01],\n",
       "       [  4.67099156e-03,   9.95329022e-01],\n",
       "       [  2.89464593e-02,   9.71053541e-01],\n",
       "       [  9.62300319e-03,   9.90377009e-01],\n",
       "       [  6.98101744e-02,   9.30189788e-01],\n",
       "       [  3.36623453e-02,   9.66337621e-01],\n",
       "       [  2.00227536e-02,   9.79977250e-01],\n",
       "       [  1.16387252e-02,   9.88361299e-01],\n",
       "       [  1.01710688e-02,   9.89828885e-01],\n",
       "       [  6.61642328e-02,   9.33835745e-01],\n",
       "       [  2.53060833e-03,   9.97469425e-01],\n",
       "       [  2.61815377e-02,   9.73818481e-01],\n",
       "       [  1.14155181e-01,   8.85844886e-01],\n",
       "       [  1.30055298e-03,   9.98699427e-01],\n",
       "       [  3.49951796e-02,   9.65004802e-01],\n",
       "       [  1.06388016e-03,   9.98936117e-01],\n",
       "       [  2.28500426e-01,   7.71499634e-01],\n",
       "       [  6.39284968e-01,   3.60714972e-01]], dtype=float32)"
      ]
     },
     "execution_count": 18,
     "metadata": {},
     "output_type": "execute_result"
    }
   ],
   "source": [
    "first.predict(x)"
   ]
  },
  {
   "cell_type": "code",
   "execution_count": null,
   "metadata": {},
   "outputs": [],
   "source": []
  },
  {
   "cell_type": "code",
   "execution_count": null,
   "metadata": {},
   "outputs": [],
   "source": []
  }
 ],
 "metadata": {
  "kernelspec": {
   "display_name": "Python 3",
   "language": "python",
   "name": "python3"
  },
  "language_info": {
   "codemirror_mode": {
    "name": "ipython",
    "version": 3
   },
   "file_extension": ".py",
   "mimetype": "text/x-python",
   "name": "python",
   "nbconvert_exporter": "python",
   "pygments_lexer": "ipython3",
   "version": "3.5.2"
  }
 },
 "nbformat": 4,
 "nbformat_minor": 2
}
